{
  "cells": [
    {
      "cell_type": "markdown",
      "metadata": {
        "id": "-2v6sz12PBnH"
      },
      "source": [
        "# INTRODUCTION TO REGRESSION WITH NEURAL NETWORKS IN TENSORFLOW"
      ]
    },
    {
      "cell_type": "code",
      "execution_count": 1,
      "metadata": {
        "colab": {
          "base_uri": "https://localhost:8080/"
        },
        "id": "8uLcqJnzPaq_",
        "outputId": "d747415b-611b-4117-adc0-0058173fe918"
      },
      "outputs": [
        {
          "output_type": "stream",
          "name": "stdout",
          "text": [
            "2.12.0\n"
          ]
        }
      ],
      "source": [
        "# Import TensorFlow\n",
        "import tensorflow as tf\n",
        "print(tf.__version__)"
      ]
    },
    {
      "cell_type": "markdown",
      "metadata": {
        "id": "DjbW0-8XPlVS"
      },
      "source": [
        "## Creating data to view and fit"
      ]
    },
    {
      "cell_type": "code",
      "execution_count": 2,
      "metadata": {
        "colab": {
          "base_uri": "https://localhost:8080/",
          "height": 452
        },
        "id": "zb6r5iWxPve7",
        "outputId": "13c51ca5-38a6-4164-d895-ab4728e797de"
      },
      "outputs": [
        {
          "output_type": "execute_result",
          "data": {
            "text/plain": [
              "<matplotlib.collections.PathCollection at 0x7f2edc2f4a90>"
            ]
          },
          "metadata": {},
          "execution_count": 2
        },
        {
          "output_type": "display_data",
          "data": {
            "text/plain": [
              "<Figure size 640x480 with 1 Axes>"
            ],
            "image/png": "[encoded data removed]"
          },
          "metadata": {}
        }
      ],
      "source": [
        "import numpy as np\n",
        "import matplotlib.pyplot as plt\n",
        "\n",
        "# Create features\n",
        "x = np.array([-7.0, -4.0, -1.0, 2.0, 5.0, 8.0, 11.0, 14.0])\n",
        "\n",
        "# Create labels\n",
        "y = np.array([3.0, 6.0, 9.0, 12.0, 15.0, 18.0, 21.0, 24.0])\n",
        "\n",
        "# Visualize it\n",
        "plt.scatter(x, y)"
      ]
    },
    {
      "cell_type": "code",
      "execution_count": 3,
      "metadata": {
        "colab": {
          "base_uri": "https://localhost:8080/"
        },
        "id": "tF2YtHyjPuUP",
        "outputId": "a109118a-e46a-4598-b9fa-11ad20ddcbb3"
      },
      "outputs": [
        {
          "output_type": "execute_result",
          "data": {
            "text/plain": [
              "array([ True,  True,  True,  True,  True,  True,  True,  True])"
            ]
          },
          "metadata": {},
          "execution_count": 3
        }
      ],
      "source": [
        "y == x + 10"
      ]
    },
    {
      "cell_type": "markdown",
      "metadata": {
        "id": "k16pFcIrQoY9"
      },
      "source": [
        "## Input and output shapes"
      ]
    },
    {
      "cell_type": "code",
      "execution_count": 4,
      "metadata": {
        "colab": {
          "base_uri": "https://localhost:8080/"
        },
        "id": "Gsxz_vqIQw6I",
        "outputId": "cd9ce15b-667b-43ba-c29e-05742c290cfb"
      },
      "outputs": [
        {
          "output_type": "execute_result",
          "data": {
            "text/plain": [
              "(<tf.Tensor: shape=(3,), dtype=string, numpy=array([b'bedroom', b'bathroom', b'garage'], dtype=object)>,\n",
              " <tf.Tensor: shape=(1,), dtype=int32, numpy=array([939700], dtype=int32)>)"
            ]
          },
          "metadata": {},
          "execution_count": 4
        }
      ],
      "source": [
        "# Create a demo tensor for our housing price prediction problem\n",
        "house_info = tf.constant([\"bedroom\", \"bathroom\", \"garage\"])\n",
        "house_price = tf.constant([939700])\n",
        "house_info, house_price"
      ]
    },
    {
      "cell_type": "code",
      "execution_count": 5,
      "metadata": {
        "colab": {
          "base_uri": "https://localhost:8080/"
        },
        "id": "BcMnSW9DRsIs",
        "outputId": "e90f2831-a2a9-4d8a-e0c6-2ef30ffef76f"
      },
      "outputs": [
        {
          "output_type": "execute_result",
          "data": {
            "text/plain": [
              "(-7.0, 3.0)"
            ]
          },
          "metadata": {},
          "execution_count": 5
        }
      ],
      "source": [
        "x[0], y[0]"
      ]
    },
    {
      "cell_type": "code",
      "execution_count": 6,
      "metadata": {
        "colab": {
          "base_uri": "https://localhost:8080/"
        },
        "id": "1hWLRy_HRVo0",
        "outputId": "b5e8af85-f1f6-4507-8636-72912a4b0ca7"
      },
      "outputs": [
        {
          "output_type": "execute_result",
          "data": {
            "text/plain": [
              "((), ())"
            ]
          },
          "metadata": {},
          "execution_count": 6
        }
      ],
      "source": [
        "input_shape = x[0].shape\n",
        "output_shape = y[0].shape\n",
        "input_shape, output_shape"
      ]
    },
    {
      "cell_type": "code",
      "execution_count": 7,
      "metadata": {
        "colab": {
          "base_uri": "https://localhost:8080/"
        },
        "id": "fTbroJEHReBi",
        "outputId": "5a462813-c362-4bb9-b2e0-6c71ab16f9a1"
      },
      "outputs": [
        {
          "output_type": "execute_result",
          "data": {
            "text/plain": [
              "0"
            ]
          },
          "metadata": {},
          "execution_count": 7
        }
      ],
      "source": [
        "x[0].ndim"
      ]
    },
    {
      "cell_type": "code",
      "execution_count": 8,
      "metadata": {
        "colab": {
          "base_uri": "https://localhost:8080/"
        },
        "id": "pAiTx-QKR9Re",
        "outputId": "05347d59-1c57-4b88-d544-ae954065d892"
      },
      "outputs": [
        {
          "output_type": "execute_result",
          "data": {
            "text/plain": [
              "(-7.0, 3.0)"
            ]
          },
          "metadata": {},
          "execution_count": 8
        }
      ],
      "source": [
        "x[0], y[0]"
      ]
    },
    {
      "cell_type": "code",
      "execution_count": 9,
      "metadata": {
        "colab": {
          "base_uri": "https://localhost:8080/"
        },
        "id": "6LoDvmMuSAN_",
        "outputId": "da811963-667f-4dcf-8d9b-a509a0939913"
      },
      "outputs": [
        {
          "output_type": "execute_result",
          "data": {
            "text/plain": [
              "(<tf.Tensor: shape=(8,), dtype=float64, numpy=array([-7., -4., -1.,  2.,  5.,  8., 11., 14.])>,\n",
              " <tf.Tensor: shape=(8,), dtype=float64, numpy=array([ 3.,  6.,  9., 12., 15., 18., 21., 24.])>)"
            ]
          },
          "metadata": {},
          "execution_count": 9
        }
      ],
      "source": [
        "# Turn our NumPy Arayys into tensors\n",
        "x = tf.constant(x)\n",
        "y = tf.constant(y)\n",
        "x, y"
      ]
    },
    {
      "cell_type": "code",
      "execution_count": 10,
      "metadata": {
        "colab": {
          "base_uri": "https://localhost:8080/"
        },
        "id": "oDk0TvVuTmiu",
        "outputId": "6b79eca1-9b1b-4229-f6a3-4592bf63a973"
      },
      "outputs": [
        {
          "output_type": "execute_result",
          "data": {
            "text/plain": [
              "(TensorShape([]), TensorShape([]))"
            ]
          },
          "metadata": {},
          "execution_count": 10
        }
      ],
      "source": [
        "input_shape = x[0].shape\n",
        "output_shape = y[0].shape\n",
        "input_shape, output_shape"
      ]
    },
    {
      "cell_type": "code",
      "execution_count": 11,
      "metadata": {
        "colab": {
          "base_uri": "https://localhost:8080/",
          "height": 452
        },
        "id": "adJxBSZZT5Vy",
        "outputId": "fdfb70d8-02b2-48bf-cb0f-f361663cb022"
      },
      "outputs": [
        {
          "output_type": "execute_result",
          "data": {
            "text/plain": [
              "<matplotlib.collections.PathCollection at 0x7f2e56a43310>"
            ]
          },
          "metadata": {},
          "execution_count": 11
        },
        {
          "output_type": "display_data",
          "data": {
            "text/plain": [
              "<Figure size 640x480 with 1 Axes>"
            ],
            "image/png": "[encoded data removed]"
          },
          "metadata": {}
        }
      ],
      "source": [
        "plt.scatter(x, y)"
      ]
    },
    {
      "cell_type": "markdown",
      "metadata": {
        "id": "XVLxC6GIUCLv"
      },
      "source": [
        "# Steps in modelling with TensorFlow\n",
        "\n",
        "1. Creating a model\n",
        "2. Compiling a model\n",
        "3. Fitting a model"
      ]
    },
    {
      "cell_type": "code",
      "execution_count": 12,
      "metadata": {
        "colab": {
          "base_uri": "https://localhost:8080/"
        },
        "id": "dlscrAysUKDl",
        "outputId": "44227d35-5e80-4f01-928d-d061c145b53e"
      },
      "outputs": [
        {
          "output_type": "stream",
          "name": "stdout",
          "text": [
            "Epoch 1/5\n",
            "1/1 [==============================] - 1s 561ms/step - loss: 9.2098 - mae: 9.2098\n",
            "Epoch 2/5\n",
            "1/1 [==============================] - 0s 12ms/step - loss: 9.0773 - mae: 9.0773\n",
            "Epoch 3/5\n",
            "1/1 [==============================] - 0s 14ms/step - loss: 8.9448 - mae: 8.9448\n",
            "Epoch 4/5\n",
            "1/1 [==============================] - 0s 11ms/step - loss: 8.8123 - mae: 8.8123\n",
            "Epoch 5/5\n",
            "1/1 [==============================] - 0s 9ms/step - loss: 8.6798 - mae: 8.6798\n"
          ]
        },
        {
          "output_type": "execute_result",
          "data": {
            "text/plain": [
              "<keras.callbacks.History at 0x7f2e54186350>"
            ]
          },
          "metadata": {},
          "execution_count": 12
        }
      ],
      "source": [
        "# Set random seed\n",
        "tf.random.set_seed(42)\n",
        "\n",
        "# Create a model using the sequential API\n",
        "model = tf.keras.Sequential([\n",
        "    tf.keras.layers.Dense(1)\n",
        "])\n",
        "\n",
        "# Compile the model\n",
        "model.compile(loss=tf.keras.losses.mae, optimizer=tf.keras.optimizers.SGD(), metrics=[\"mae\"])\n",
        "\n",
        "# Fit the model\n",
        "# model.fit(X, y, epochs=5) # this will break with TensorFlow 2.7.0+\n",
        "model.fit(tf.expand_dims(x, axis=-1), y, epochs=5)"
      ]
    },
    {
      "cell_type": "code",
      "execution_count": 13,
      "metadata": {
        "colab": {
          "base_uri": "https://localhost:8080/"
        },
        "id": "LGjFRj1hOM33",
        "outputId": "4e31498d-dd2e-4b6f-c222-b4d2febd4597"
      },
      "outputs": [
        {
          "output_type": "execute_result",
          "data": {
            "text/plain": [
              "(<tf.Tensor: shape=(8,), dtype=float64, numpy=array([-7., -4., -1.,  2.,  5.,  8., 11., 14.])>,\n",
              " <tf.Tensor: shape=(8,), dtype=float64, numpy=array([ 3.,  6.,  9., 12., 15., 18., 21., 24.])>)"
            ]
          },
          "metadata": {},
          "execution_count": 13
        }
      ],
      "source": [
        "# Check out x and y\n",
        "x, y"
      ]
    },
    {
      "cell_type": "code",
      "execution_count": 14,
      "metadata": {
        "colab": {
          "base_uri": "https://localhost:8080/"
        },
        "id": "IgA7JVycOM33",
        "outputId": "d161d0f9-ce59-4592-e249-f2fac485cb19"
      },
      "outputs": [
        {
          "output_type": "stream",
          "name": "stdout",
          "text": [
            "1/1 [==============================] - 0s 103ms/step\n"
          ]
        },
        {
          "output_type": "execute_result",
          "data": {
            "text/plain": [
              "array([[23.863007]], dtype=float32)"
            ]
          },
          "metadata": {},
          "execution_count": 14
        }
      ],
      "source": [
        "# Try and make a prediction using the model\n",
        "y_pred = model.predict([17.0])\n",
        "y_pred"
      ]
    },
    {
      "cell_type": "code",
      "execution_count": 15,
      "metadata": {
        "colab": {
          "base_uri": "https://localhost:8080/"
        },
        "id": "l8VGZ1EGOM34",
        "outputId": "0b57e470-eb27-4def-a384-9886a0939241"
      },
      "outputs": [
        {
          "output_type": "execute_result",
          "data": {
            "text/plain": [
              "array([[34.863007]], dtype=float32)"
            ]
          },
          "metadata": {},
          "execution_count": 15
        }
      ],
      "source": [
        "y_pred + 11"
      ]
    },
    {
      "cell_type": "markdown",
      "metadata": {
        "id": "3M7sm37KOM34"
      },
      "source": [
        "## Imporving our Model\n",
        "\n",
        "1. **Creating a model** - define the input and output layers, as well as the hidden layers of a deep learning model.\n",
        "2. **Compiling a model** - define the loss function (in other words, the function which tells our model how wrong it is) and the optimizer (tells our model how to improve the patterns its learning) and evaluation metrics (what we can use to interpret the performance of our model).\n",
        "3. **Fitting a model** - letting the model try to find patterns between X & y (features and labels)."
      ]
    },
    {
      "cell_type": "code",
      "execution_count": 16,
      "metadata": {
        "colab": {
          "base_uri": "https://localhost:8080/"
        },
        "id": "vKC0ghwJOM35",
        "outputId": "89a2c61b-555c-434f-dafc-a690d08f52cc"
      },
      "outputs": [
        {
          "output_type": "stream",
          "name": "stdout",
          "text": [
            "Epoch 1/100\n",
            "1/1 [==============================] - 0s 338ms/step - loss: 18.1763 - mae: 18.1763\n",
            "Epoch 2/100\n",
            "1/1 [==============================] - 0s 10ms/step - loss: 17.8951 - mae: 17.8951\n",
            "Epoch 3/100\n",
            "1/1 [==============================] - 0s 10ms/step - loss: 17.6138 - mae: 17.6138\n",
            "Epoch 4/100\n",
            "1/1 [==============================] - 0s 10ms/step - loss: 17.3326 - mae: 17.3326\n",
            "Epoch 5/100\n",
            "1/1 [==============================] - 0s 10ms/step - loss: 17.0513 - mae: 17.0513\n",
            "Epoch 6/100\n",
            "1/1 [==============================] - 0s 10ms/step - loss: 16.7701 - mae: 16.7701\n",
            "Epoch 7/100\n",
            "1/1 [==============================] - 0s 10ms/step - loss: 16.4888 - mae: 16.4888\n",
            "Epoch 8/100\n",
            "1/1 [==============================] - 0s 10ms/step - loss: 16.2076 - mae: 16.2076\n",
            "Epoch 9/100\n",
            "1/1 [==============================] - 0s 9ms/step - loss: 15.9263 - mae: 15.9263\n",
            "Epoch 10/100\n",
            "1/1 [==============================] - 0s 10ms/step - loss: 15.6451 - mae: 15.6451\n",
            "Epoch 11/100\n",
            "1/1 [==============================] - 0s 9ms/step - loss: 15.3638 - mae: 15.3638\n",
            "Epoch 12/100\n",
            "1/1 [==============================] - 0s 9ms/step - loss: 15.0826 - mae: 15.0826\n",
            "Epoch 13/100\n",
            "1/1 [==============================] - 0s 11ms/step - loss: 14.8225 - mae: 14.8225\n",
            "Epoch 14/100\n",
            "1/1 [==============================] - 0s 10ms/step - loss: 14.6900 - mae: 14.6900\n",
            "Epoch 15/100\n",
            "1/1 [==============================] - 0s 9ms/step - loss: 14.5575 - mae: 14.5575\n",
            "Epoch 16/100\n",
            "1/1 [==============================] - 0s 11ms/step - loss: 14.4250 - mae: 14.4250\n",
            "Epoch 17/100\n",
            "1/1 [==============================] - 0s 10ms/step - loss: 14.2925 - mae: 14.2925\n",
            "Epoch 18/100\n",
            "1/1 [==============================] - 0s 10ms/step - loss: 14.1600 - mae: 14.1600\n",
            "Epoch 19/100\n",
            "1/1 [==============================] - 0s 13ms/step - loss: 14.0275 - mae: 14.0275\n",
            "Epoch 20/100\n",
            "1/1 [==============================] - 0s 16ms/step - loss: 13.8950 - mae: 13.8950\n",
            "Epoch 21/100\n",
            "1/1 [==============================] - 0s 12ms/step - loss: 13.7625 - mae: 13.7625\n",
            "Epoch 22/100\n",
            "1/1 [==============================] - 0s 10ms/step - loss: 13.6300 - mae: 13.6300\n",
            "Epoch 23/100\n",
            "1/1 [==============================] - 0s 11ms/step - loss: 13.4975 - mae: 13.4975\n",
            "Epoch 24/100\n",
            "1/1 [==============================] - 0s 10ms/step - loss: 13.3650 - mae: 13.3650\n",
            "Epoch 25/100\n",
            "1/1 [==============================] - 0s 10ms/step - loss: 13.2325 - mae: 13.2325\n",
            "Epoch 26/100\n",
            "1/1 [==============================] - 0s 10ms/step - loss: 13.1000 - mae: 13.1000\n",
            "Epoch 27/100\n",
            "1/1 [==============================] - 0s 10ms/step - loss: 12.9675 - mae: 12.9675\n",
            "Epoch 28/100\n",
            "1/1 [==============================] - 0s 10ms/step - loss: 12.8350 - mae: 12.8350\n",
            "Epoch 29/100\n",
            "1/1 [==============================] - 0s 11ms/step - loss: 12.7025 - mae: 12.7025\n",
            "Epoch 30/100\n",
            "1/1 [==============================] - 0s 10ms/step - loss: 12.5700 - mae: 12.5700\n",
            "Epoch 31/100\n",
            "1/1 [==============================] - 0s 11ms/step - loss: 12.4375 - mae: 12.4375\n",
            "Epoch 32/100\n",
            "1/1 [==============================] - 0s 11ms/step - loss: 12.3050 - mae: 12.3050\n",
            "Epoch 33/100\n",
            "1/1 [==============================] - 0s 11ms/step - loss: 12.1725 - mae: 12.1725\n",
            "Epoch 34/100\n",
            "1/1 [==============================] - 0s 12ms/step - loss: 12.0400 - mae: 12.0400\n",
            "Epoch 35/100\n",
            "1/1 [==============================] - 0s 11ms/step - loss: 11.9075 - mae: 11.9075\n",
            "Epoch 36/100\n",
            "1/1 [==============================] - 0s 15ms/step - loss: 11.7750 - mae: 11.7750\n",
            "Epoch 37/100\n",
            "1/1 [==============================] - 0s 12ms/step - loss: 11.6425 - mae: 11.6425\n",
            "Epoch 38/100\n",
            "1/1 [==============================] - 0s 10ms/step - loss: 11.5100 - mae: 11.5100\n",
            "Epoch 39/100\n",
            "1/1 [==============================] - 0s 11ms/step - loss: 11.3775 - mae: 11.3775\n",
            "Epoch 40/100\n",
            "1/1 [==============================] - 0s 10ms/step - loss: 11.2450 - mae: 11.2450\n",
            "Epoch 41/100\n",
            "1/1 [==============================] - 0s 10ms/step - loss: 11.1125 - mae: 11.1125\n",
            "Epoch 42/100\n",
            "1/1 [==============================] - 0s 10ms/step - loss: 10.9800 - mae: 10.9800\n",
            "Epoch 43/100\n",
            "1/1 [==============================] - 0s 10ms/step - loss: 10.8475 - mae: 10.8475\n",
            "Epoch 44/100\n",
            "1/1 [==============================] - 0s 10ms/step - loss: 10.7150 - mae: 10.7150\n",
            "Epoch 45/100\n",
            "1/1 [==============================] - 0s 10ms/step - loss: 10.5825 - mae: 10.5825\n",
            "Epoch 46/100\n",
            "1/1 [==============================] - 0s 11ms/step - loss: 10.4500 - mae: 10.4500\n",
            "Epoch 47/100\n",
            "1/1 [==============================] - 0s 15ms/step - loss: 10.3175 - mae: 10.3175\n",
            "Epoch 48/100\n",
            "1/1 [==============================] - 0s 21ms/step - loss: 10.1850 - mae: 10.1850\n",
            "Epoch 49/100\n",
            "1/1 [==============================] - 0s 12ms/step - loss: 10.0525 - mae: 10.0525\n",
            "Epoch 50/100\n",
            "1/1 [==============================] - 0s 9ms/step - loss: 9.9200 - mae: 9.9200\n",
            "Epoch 51/100\n",
            "1/1 [==============================] - 0s 11ms/step - loss: 9.7875 - mae: 9.7875\n",
            "Epoch 52/100\n",
            "1/1 [==============================] - 0s 11ms/step - loss: 9.6550 - mae: 9.6550\n",
            "Epoch 53/100\n",
            "1/1 [==============================] - 0s 9ms/step - loss: 9.5225 - mae: 9.5225\n",
            "Epoch 54/100\n",
            "1/1 [==============================] - 0s 9ms/step - loss: 9.3900 - mae: 9.3900\n",
            "Epoch 55/100\n",
            "1/1 [==============================] - 0s 16ms/step - loss: 9.2575 - mae: 9.2575\n",
            "Epoch 56/100\n",
            "1/1 [==============================] - 0s 11ms/step - loss: 9.1250 - mae: 9.1250\n",
            "Epoch 57/100\n",
            "1/1 [==============================] - 0s 14ms/step - loss: 8.9925 - mae: 8.9925\n",
            "Epoch 58/100\n",
            "1/1 [==============================] - 0s 11ms/step - loss: 8.8600 - mae: 8.8600\n",
            "Epoch 59/100\n",
            "1/1 [==============================] - 0s 10ms/step - loss: 8.7275 - mae: 8.7275\n",
            "Epoch 60/100\n",
            "1/1 [==============================] - 0s 10ms/step - loss: 8.5950 - mae: 8.5950\n",
            "Epoch 61/100\n",
            "1/1 [==============================] - 0s 9ms/step - loss: 8.4625 - mae: 8.4625\n",
            "Epoch 62/100\n",
            "1/1 [==============================] - 0s 10ms/step - loss: 8.3300 - mae: 8.3300\n",
            "Epoch 63/100\n",
            "1/1 [==============================] - 0s 11ms/step - loss: 8.1975 - mae: 8.1975\n",
            "Epoch 64/100\n",
            "1/1 [==============================] - 0s 10ms/step - loss: 8.0650 - mae: 8.0650\n",
            "Epoch 65/100\n",
            "1/1 [==============================] - 0s 11ms/step - loss: 7.9325 - mae: 7.9325\n",
            "Epoch 66/100\n",
            "1/1 [==============================] - 0s 10ms/step - loss: 7.8000 - mae: 7.8000\n",
            "Epoch 67/100\n",
            "1/1 [==============================] - 0s 11ms/step - loss: 7.6675 - mae: 7.6675\n",
            "Epoch 68/100\n",
            "1/1 [==============================] - 0s 11ms/step - loss: 7.5350 - mae: 7.5350\n",
            "Epoch 69/100\n",
            "1/1 [==============================] - 0s 10ms/step - loss: 7.4025 - mae: 7.4025\n",
            "Epoch 70/100\n",
            "1/1 [==============================] - 0s 10ms/step - loss: 7.2700 - mae: 7.2700\n",
            "Epoch 71/100\n",
            "1/1 [==============================] - 0s 10ms/step - loss: 7.1375 - mae: 7.1375\n",
            "Epoch 72/100\n",
            "1/1 [==============================] - 0s 10ms/step - loss: 7.0050 - mae: 7.0050\n",
            "Epoch 73/100\n",
            "1/1 [==============================] - 0s 9ms/step - loss: 6.9825 - mae: 6.9825\n",
            "Epoch 74/100\n",
            "1/1 [==============================] - 0s 9ms/step - loss: 6.9769 - mae: 6.9769\n",
            "Epoch 75/100\n",
            "1/1 [==============================] - 0s 10ms/step - loss: 6.9713 - mae: 6.9713\n",
            "Epoch 76/100\n",
            "1/1 [==============================] - 0s 10ms/step - loss: 6.9656 - mae: 6.9656\n",
            "Epoch 77/100\n",
            "1/1 [==============================] - 0s 10ms/step - loss: 6.9600 - mae: 6.9600\n",
            "Epoch 78/100\n",
            "1/1 [==============================] - 0s 11ms/step - loss: 6.9544 - mae: 6.9544\n",
            "Epoch 79/100\n",
            "1/1 [==============================] - 0s 10ms/step - loss: 6.9488 - mae: 6.9488\n",
            "Epoch 80/100\n",
            "1/1 [==============================] - 0s 10ms/step - loss: 6.9431 - mae: 6.9431\n",
            "Epoch 81/100\n",
            "1/1 [==============================] - 0s 10ms/step - loss: 6.9375 - mae: 6.9375\n",
            "Epoch 82/100\n",
            "1/1 [==============================] - 0s 9ms/step - loss: 6.9319 - mae: 6.9319\n",
            "Epoch 83/100\n",
            "1/1 [==============================] - 0s 9ms/step - loss: 6.9263 - mae: 6.9263\n",
            "Epoch 84/100\n",
            "1/1 [==============================] - 0s 9ms/step - loss: 6.9206 - mae: 6.9206\n",
            "Epoch 85/100\n",
            "1/1 [==============================] - 0s 9ms/step - loss: 6.9150 - mae: 6.9150\n",
            "Epoch 86/100\n",
            "1/1 [==============================] - 0s 19ms/step - loss: 6.9094 - mae: 6.9094\n",
            "Epoch 87/100\n",
            "1/1 [==============================] - 0s 19ms/step - loss: 6.9038 - mae: 6.9038\n",
            "Epoch 88/100\n",
            "1/1 [==============================] - 0s 13ms/step - loss: 6.8981 - mae: 6.8981\n",
            "Epoch 89/100\n",
            "1/1 [==============================] - 0s 12ms/step - loss: 6.8925 - mae: 6.8925\n",
            "Epoch 90/100\n",
            "1/1 [==============================] - 0s 10ms/step - loss: 6.8869 - mae: 6.8869\n",
            "Epoch 91/100\n",
            "1/1 [==============================] - 0s 10ms/step - loss: 6.8813 - mae: 6.8813\n",
            "Epoch 92/100\n",
            "1/1 [==============================] - 0s 13ms/step - loss: 6.8756 - mae: 6.8756\n",
            "Epoch 93/100\n",
            "1/1 [==============================] - 0s 14ms/step - loss: 6.8700 - mae: 6.8700\n",
            "Epoch 94/100\n",
            "1/1 [==============================] - 0s 11ms/step - loss: 6.8644 - mae: 6.8644\n",
            "Epoch 95/100\n",
            "1/1 [==============================] - 0s 10ms/step - loss: 6.8588 - mae: 6.8588\n",
            "Epoch 96/100\n",
            "1/1 [==============================] - 0s 10ms/step - loss: 6.8531 - mae: 6.8531\n",
            "Epoch 97/100\n",
            "1/1 [==============================] - 0s 10ms/step - loss: 6.8475 - mae: 6.8475\n",
            "Epoch 98/100\n",
            "1/1 [==============================] - 0s 10ms/step - loss: 6.8419 - mae: 6.8419\n",
            "Epoch 99/100\n",
            "1/1 [==============================] - 0s 11ms/step - loss: 6.8363 - mae: 6.8363\n",
            "Epoch 100/100\n",
            "1/1 [==============================] - 0s 9ms/step - loss: 6.8306 - mae: 6.8306\n"
          ]
        },
        {
          "output_type": "execute_result",
          "data": {
            "text/plain": [
              "<keras.callbacks.History at 0x7f2e58bddae0>"
            ]
          },
          "metadata": {},
          "execution_count": 16
        }
      ],
      "source": [
        "# let's rebuild our model\n",
        "\n",
        "# 1. Create the model\n",
        "model = tf.keras.Sequential([\n",
        "    tf.keras.layers.Dense(1)\n",
        "])\n",
        "\n",
        "# 2. Compile the model\n",
        "model.compile(loss=tf.keras.losses.mae, optimizer=tf.keras.optimizers.SGD(), metrics=['mae'])\n",
        "\n",
        "# 3. Fit the model (this time we train for longer)\n",
        "model.fit(tf.expand_dims(x, axis=1), y, epochs=100)"
      ]
    },
    {
      "cell_type": "code",
      "execution_count": 17,
      "metadata": {
        "colab": {
          "base_uri": "https://localhost:8080/"
        },
        "id": "tFCU42aOOM35",
        "outputId": "633ccb26-6b2f-4185-c93f-696557d1ecca"
      },
      "outputs": [
        {
          "output_type": "execute_result",
          "data": {
            "text/plain": [
              "(<tf.Tensor: shape=(8,), dtype=float64, numpy=array([-7., -4., -1.,  2.,  5.,  8., 11., 14.])>,\n",
              " <tf.Tensor: shape=(8,), dtype=float64, numpy=array([ 3.,  6.,  9., 12., 15., 18., 21., 24.])>)"
            ]
          },
          "metadata": {},
          "execution_count": 17
        }
      ],
      "source": [
        "# Remind ourselves of the data\n",
        "x, y"
      ]
    },
    {
      "cell_type": "code",
      "execution_count": 18,
      "metadata": {
        "colab": {
          "base_uri": "https://localhost:8080/"
        },
        "id": "xIl3oLYSOM36",
        "outputId": "6f4d0337-f46c-475d-b4e8-aac9dcfa9d35"
      },
      "outputs": [
        {
          "output_type": "stream",
          "name": "stdout",
          "text": [
            "1/1 [==============================] - 0s 70ms/step\n"
          ]
        },
        {
          "output_type": "execute_result",
          "data": {
            "text/plain": [
              "array([[29.739054]], dtype=float32)"
            ]
          },
          "metadata": {},
          "execution_count": 18
        }
      ],
      "source": [
        "model.predict([17.0])"
      ]
    },
    {
      "cell_type": "code",
      "execution_count": 19,
      "metadata": {
        "colab": {
          "base_uri": "https://localhost:8080/"
        },
        "id": "-0etBms9OM36",
        "outputId": "d0356a39-21a2-4836-e241-7b47eee66529"
      },
      "outputs": [
        {
          "output_type": "stream",
          "name": "stdout",
          "text": [
            "Epoch 1/100\n",
            "1/1 [==============================] - 1s 616ms/step - loss: 14.0487 - mae: 14.0487\n",
            "Epoch 2/100\n",
            "1/1 [==============================] - 0s 13ms/step - loss: 13.4664 - mae: 13.4664\n",
            "Epoch 3/100\n",
            "1/1 [==============================] - 0s 12ms/step - loss: 12.8897 - mae: 12.8897\n",
            "Epoch 4/100\n",
            "1/1 [==============================] - 0s 10ms/step - loss: 12.3185 - mae: 12.3185\n",
            "Epoch 5/100\n",
            "1/1 [==============================] - 0s 13ms/step - loss: 11.7613 - mae: 11.7613\n",
            "Epoch 6/100\n",
            "1/1 [==============================] - 0s 11ms/step - loss: 11.2103 - mae: 11.2103\n",
            "Epoch 7/100\n",
            "1/1 [==============================] - 0s 11ms/step - loss: 10.6564 - mae: 10.6564\n",
            "Epoch 8/100\n",
            "1/1 [==============================] - 0s 11ms/step - loss: 10.2216 - mae: 10.2216\n",
            "Epoch 9/100\n",
            "1/1 [==============================] - 0s 11ms/step - loss: 9.8120 - mae: 9.8120\n",
            "Epoch 10/100\n",
            "1/1 [==============================] - 0s 13ms/step - loss: 9.3905 - mae: 9.3905\n",
            "Epoch 11/100\n",
            "1/1 [==============================] - 0s 10ms/step - loss: 8.9577 - mae: 8.9577\n",
            "Epoch 12/100\n",
            "1/1 [==============================] - 0s 10ms/step - loss: 8.5169 - mae: 8.5169\n",
            "Epoch 13/100\n",
            "1/1 [==============================] - 0s 10ms/step - loss: 8.0658 - mae: 8.0658\n",
            "Epoch 14/100\n",
            "1/1 [==============================] - 0s 10ms/step - loss: 7.6005 - mae: 7.6005\n",
            "Epoch 15/100\n",
            "1/1 [==============================] - 0s 11ms/step - loss: 7.1223 - mae: 7.1223\n",
            "Epoch 16/100\n",
            "1/1 [==============================] - 0s 10ms/step - loss: 6.6287 - mae: 6.6287\n",
            "Epoch 17/100\n",
            "1/1 [==============================] - 0s 12ms/step - loss: 6.1168 - mae: 6.1168\n",
            "Epoch 18/100\n",
            "1/1 [==============================] - 0s 14ms/step - loss: 5.5853 - mae: 5.5853\n",
            "Epoch 19/100\n",
            "1/1 [==============================] - 0s 10ms/step - loss: 5.0338 - mae: 5.0338\n",
            "Epoch 20/100\n",
            "1/1 [==============================] - 0s 13ms/step - loss: 4.4608 - mae: 4.4608\n",
            "Epoch 21/100\n",
            "1/1 [==============================] - 0s 9ms/step - loss: 3.9495 - mae: 3.9495\n",
            "Epoch 22/100\n",
            "1/1 [==============================] - 0s 9ms/step - loss: 3.7548 - mae: 3.7548\n",
            "Epoch 23/100\n",
            "1/1 [==============================] - 0s 10ms/step - loss: 3.7598 - mae: 3.7598\n",
            "Epoch 24/100\n",
            "1/1 [==============================] - 0s 12ms/step - loss: 3.8569 - mae: 3.8569\n",
            "Epoch 25/100\n",
            "1/1 [==============================] - 0s 9ms/step - loss: 3.9400 - mae: 3.9400\n",
            "Epoch 26/100\n",
            "1/1 [==============================] - 0s 11ms/step - loss: 4.0905 - mae: 4.0905\n",
            "Epoch 27/100\n",
            "1/1 [==============================] - 0s 11ms/step - loss: 4.2465 - mae: 4.2465\n",
            "Epoch 28/100\n",
            "1/1 [==============================] - 0s 13ms/step - loss: 4.3401 - mae: 4.3401\n",
            "Epoch 29/100\n",
            "1/1 [==============================] - 0s 11ms/step - loss: 4.3775 - mae: 4.3775\n",
            "Epoch 30/100\n",
            "1/1 [==============================] - 0s 12ms/step - loss: 4.3648 - mae: 4.3648\n",
            "Epoch 31/100\n",
            "1/1 [==============================] - 0s 11ms/step - loss: 4.3084 - mae: 4.3084\n",
            "Epoch 32/100\n",
            "1/1 [==============================] - 0s 10ms/step - loss: 4.2143 - mae: 4.2143\n",
            "Epoch 33/100\n",
            "1/1 [==============================] - 0s 11ms/step - loss: 4.0880 - mae: 4.0880\n",
            "Epoch 34/100\n",
            "1/1 [==============================] - 0s 10ms/step - loss: 3.9338 - mae: 3.9338\n",
            "Epoch 35/100\n",
            "1/1 [==============================] - 0s 11ms/step - loss: 3.7875 - mae: 3.7875\n",
            "Epoch 36/100\n",
            "1/1 [==============================] - 0s 12ms/step - loss: 3.7131 - mae: 3.7131\n",
            "Epoch 37/100\n",
            "1/1 [==============================] - 0s 10ms/step - loss: 3.6384 - mae: 3.6384\n",
            "Epoch 38/100\n",
            "1/1 [==============================] - 0s 11ms/step - loss: 3.5633 - mae: 3.5633\n",
            "Epoch 39/100\n",
            "1/1 [==============================] - 0s 11ms/step - loss: 3.4880 - mae: 3.4880\n",
            "Epoch 40/100\n",
            "1/1 [==============================] - 0s 10ms/step - loss: 3.4119 - mae: 3.4119\n",
            "Epoch 41/100\n",
            "1/1 [==============================] - 0s 11ms/step - loss: 3.3775 - mae: 3.3775\n",
            "Epoch 42/100\n",
            "1/1 [==============================] - 0s 13ms/step - loss: 3.4030 - mae: 3.4030\n",
            "Epoch 43/100\n",
            "1/1 [==============================] - 0s 11ms/step - loss: 3.4066 - mae: 3.4066\n",
            "Epoch 44/100\n",
            "1/1 [==============================] - 0s 11ms/step - loss: 3.3872 - mae: 3.3872\n",
            "Epoch 45/100\n",
            "1/1 [==============================] - 0s 12ms/step - loss: 3.3565 - mae: 3.3565\n",
            "Epoch 46/100\n",
            "1/1 [==============================] - 0s 11ms/step - loss: 3.3111 - mae: 3.3111\n",
            "Epoch 47/100\n",
            "1/1 [==============================] - 0s 11ms/step - loss: 3.2505 - mae: 3.2505\n",
            "Epoch 48/100\n",
            "1/1 [==============================] - 0s 11ms/step - loss: 3.2144 - mae: 3.2144\n",
            "Epoch 49/100\n",
            "1/1 [==============================] - 0s 12ms/step - loss: 3.1443 - mae: 3.1443\n",
            "Epoch 50/100\n",
            "1/1 [==============================] - 0s 11ms/step - loss: 3.0812 - mae: 3.0812\n",
            "Epoch 51/100\n",
            "1/1 [==============================] - 0s 11ms/step - loss: 3.0309 - mae: 3.0309\n",
            "Epoch 52/100\n",
            "1/1 [==============================] - 0s 11ms/step - loss: 3.0109 - mae: 3.0109\n",
            "Epoch 53/100\n",
            "1/1 [==============================] - 0s 11ms/step - loss: 2.9717 - mae: 2.9717\n",
            "Epoch 54/100\n",
            "1/1 [==============================] - 0s 10ms/step - loss: 2.9164 - mae: 2.9164\n",
            "Epoch 55/100\n",
            "1/1 [==============================] - 0s 11ms/step - loss: 2.8623 - mae: 2.8623\n",
            "Epoch 56/100\n",
            "1/1 [==============================] - 0s 11ms/step - loss: 2.8135 - mae: 2.8135\n",
            "Epoch 57/100\n",
            "1/1 [==============================] - 0s 12ms/step - loss: 2.7555 - mae: 2.7555\n",
            "Epoch 58/100\n",
            "1/1 [==============================] - 0s 11ms/step - loss: 2.6924 - mae: 2.6924\n",
            "Epoch 59/100\n",
            "1/1 [==============================] - 0s 10ms/step - loss: 2.6246 - mae: 2.6246\n",
            "Epoch 60/100\n",
            "1/1 [==============================] - 0s 10ms/step - loss: 2.5485 - mae: 2.5485\n",
            "Epoch 61/100\n",
            "1/1 [==============================] - 0s 11ms/step - loss: 2.4967 - mae: 2.4967\n",
            "Epoch 62/100\n",
            "1/1 [==============================] - 0s 10ms/step - loss: 2.4513 - mae: 2.4513\n",
            "Epoch 63/100\n",
            "1/1 [==============================] - 0s 10ms/step - loss: 2.3707 - mae: 2.3707\n",
            "Epoch 64/100\n",
            "1/1 [==============================] - 0s 17ms/step - loss: 2.2911 - mae: 2.2911\n",
            "Epoch 65/100\n",
            "1/1 [==============================] - 0s 21ms/step - loss: 2.2305 - mae: 2.2305\n",
            "Epoch 66/100\n",
            "1/1 [==============================] - 0s 18ms/step - loss: 2.1598 - mae: 2.1598\n",
            "Epoch 67/100\n",
            "1/1 [==============================] - 0s 11ms/step - loss: 2.0844 - mae: 2.0844\n",
            "Epoch 68/100\n",
            "1/1 [==============================] - 0s 10ms/step - loss: 2.0002 - mae: 2.0002\n",
            "Epoch 69/100\n",
            "1/1 [==============================] - 0s 17ms/step - loss: 1.9033 - mae: 1.9033\n",
            "Epoch 70/100\n",
            "1/1 [==============================] - 0s 24ms/step - loss: 1.8420 - mae: 1.8420\n",
            "Epoch 71/100\n",
            "1/1 [==============================] - 0s 21ms/step - loss: 1.7575 - mae: 1.7575\n",
            "Epoch 72/100\n",
            "1/1 [==============================] - 0s 19ms/step - loss: 1.6300 - mae: 1.6300\n",
            "Epoch 73/100\n",
            "1/1 [==============================] - 0s 22ms/step - loss: 1.5599 - mae: 1.5599\n",
            "Epoch 74/100\n",
            "1/1 [==============================] - 0s 20ms/step - loss: 1.4841 - mae: 1.4841\n",
            "Epoch 75/100\n",
            "1/1 [==============================] - 0s 18ms/step - loss: 1.4017 - mae: 1.4017\n",
            "Epoch 76/100\n",
            "1/1 [==============================] - 0s 17ms/step - loss: 1.3048 - mae: 1.3048\n",
            "Epoch 77/100\n",
            "1/1 [==============================] - 0s 17ms/step - loss: 1.1942 - mae: 1.1942\n",
            "Epoch 78/100\n",
            "1/1 [==============================] - 0s 19ms/step - loss: 1.0695 - mae: 1.0695\n",
            "Epoch 79/100\n",
            "1/1 [==============================] - 0s 17ms/step - loss: 0.9294 - mae: 0.9294\n",
            "Epoch 80/100\n",
            "1/1 [==============================] - 0s 16ms/step - loss: 0.7778 - mae: 0.7778\n",
            "Epoch 81/100\n",
            "1/1 [==============================] - 0s 16ms/step - loss: 0.7492 - mae: 0.7492\n",
            "Epoch 82/100\n",
            "1/1 [==============================] - 0s 14ms/step - loss: 0.5602 - mae: 0.5602\n",
            "Epoch 83/100\n",
            "1/1 [==============================] - 0s 17ms/step - loss: 0.4165 - mae: 0.4165\n",
            "Epoch 84/100\n",
            "1/1 [==============================] - 0s 20ms/step - loss: 0.3526 - mae: 0.3526\n",
            "Epoch 85/100\n",
            "1/1 [==============================] - 0s 22ms/step - loss: 0.2740 - mae: 0.2740\n",
            "Epoch 86/100\n",
            "1/1 [==============================] - 0s 16ms/step - loss: 0.3057 - mae: 0.3057\n",
            "Epoch 87/100\n",
            "1/1 [==============================] - 0s 19ms/step - loss: 0.3512 - mae: 0.3512\n",
            "Epoch 88/100\n",
            "1/1 [==============================] - 0s 17ms/step - loss: 0.2528 - mae: 0.2528\n",
            "Epoch 89/100\n",
            "1/1 [==============================] - 0s 15ms/step - loss: 0.5570 - mae: 0.5570\n",
            "Epoch 90/100\n",
            "1/1 [==============================] - 0s 12ms/step - loss: 0.5104 - mae: 0.5104\n",
            "Epoch 91/100\n",
            "1/1 [==============================] - 0s 14ms/step - loss: 0.3116 - mae: 0.3116\n",
            "Epoch 92/100\n",
            "1/1 [==============================] - 0s 16ms/step - loss: 0.4481 - mae: 0.4481\n",
            "Epoch 93/100\n",
            "1/1 [==============================] - 0s 11ms/step - loss: 0.3818 - mae: 0.3818\n",
            "Epoch 94/100\n",
            "1/1 [==============================] - 0s 10ms/step - loss: 0.3103 - mae: 0.3103\n",
            "Epoch 95/100\n",
            "1/1 [==============================] - 0s 10ms/step - loss: 0.2859 - mae: 0.2859\n",
            "Epoch 96/100\n",
            "1/1 [==============================] - 0s 11ms/step - loss: 0.2670 - mae: 0.2670\n",
            "Epoch 97/100\n",
            "1/1 [==============================] - 0s 10ms/step - loss: 0.2143 - mae: 0.2143\n",
            "Epoch 98/100\n",
            "1/1 [==============================] - 0s 10ms/step - loss: 0.2272 - mae: 0.2272\n",
            "Epoch 99/100\n",
            "1/1 [==============================] - 0s 10ms/step - loss: 0.2783 - mae: 0.2783\n",
            "Epoch 100/100\n",
            "1/1 [==============================] - 0s 10ms/step - loss: 0.2170 - mae: 0.2170\n"
          ]
        },
        {
          "output_type": "execute_result",
          "data": {
            "text/plain": [
              "<keras.callbacks.History at 0x7f2e47fcd660>"
            ]
          },
          "metadata": {},
          "execution_count": 19
        }
      ],
      "source": [
        "model = tf.keras.Sequential([\n",
        "    tf.keras.layers.Dense(50, activation=\"relu\"),\n",
        "    # tf.keras.layers.Dense(100, activation=\"relu\"),\n",
        "    # tf.keras.layers.Dense(100, activation=\"relu\"),\n",
        "    tf.keras.layers.Dense(1)\n",
        "])\n",
        "\n",
        "model.compile(loss=tf.keras.losses.mae, optimizer=tf.keras.optimizers.Adam(learning_rate=0.01), metrics=[\"mae\"])\n",
        "\n",
        "model.fit(tf.expand_dims(x, axis=1), y, epochs=100)"
      ]
    },
    {
      "cell_type": "code",
      "execution_count": 20,
      "metadata": {
        "colab": {
          "base_uri": "https://localhost:8080/"
        },
        "id": "HIJ-8KbkOM37",
        "outputId": "a9106add-51ea-4c5e-9112-0014ff11bdfa"
      },
      "outputs": [
        {
          "output_type": "execute_result",
          "data": {
            "text/plain": [
              "(<tf.Tensor: shape=(8,), dtype=float64, numpy=array([-7., -4., -1.,  2.,  5.,  8., 11., 14.])>,\n",
              " <tf.Tensor: shape=(8,), dtype=float64, numpy=array([ 3.,  6.,  9., 12., 15., 18., 21., 24.])>)"
            ]
          },
          "metadata": {},
          "execution_count": 20
        }
      ],
      "source": [
        "# let's remind ourselves of the data\n",
        "x, y"
      ]
    },
    {
      "cell_type": "code",
      "execution_count": 21,
      "metadata": {
        "colab": {
          "base_uri": "https://localhost:8080/"
        },
        "id": "TKSDeDxQOM37",
        "outputId": "abe37b3b-9b15-4da0-a0b6-ea4e0a340a12"
      },
      "outputs": [
        {
          "output_type": "stream",
          "name": "stdout",
          "text": [
            "1/1 [==============================] - 0s 93ms/step\n"
          ]
        },
        {
          "output_type": "execute_result",
          "data": {
            "text/plain": [
              "array([[27.22257]], dtype=float32)"
            ]
          },
          "metadata": {},
          "execution_count": 21
        }
      ],
      "source": [
        "model.predict([17.0])"
      ]
    },
    {
      "cell_type": "markdown",
      "metadata": {
        "id": "ygnpVAjIOM37"
      },
      "source": [
        "# Evaluating a Modal"
      ]
    },
    {
      "cell_type": "code",
      "execution_count": 22,
      "metadata": {
        "colab": {
          "base_uri": "https://localhost:8080/"
        },
        "id": "yhDC4D1aOM38",
        "outputId": "331defaf-b62d-42ca-a440-b4a862c03576"
      },
      "outputs": [
        {
          "output_type": "execute_result",
          "data": {
            "text/plain": [
              "<tf.Tensor: shape=(50,), dtype=int32, numpy=\n",
              "array([-100,  -96,  -92,  -88,  -84,  -80,  -76,  -72,  -68,  -64,  -60,\n",
              "        -56,  -52,  -48,  -44,  -40,  -36,  -32,  -28,  -24,  -20,  -16,\n",
              "        -12,   -8,   -4,    0,    4,    8,   12,   16,   20,   24,   28,\n",
              "         32,   36,   40,   44,   48,   52,   56,   60,   64,   68,   72,\n",
              "         76,   80,   84,   88,   92,   96], dtype=int32)>"
            ]
          },
          "metadata": {},
          "execution_count": 22
        }
      ],
      "source": [
        "# Make a bigger dataset\n",
        "x = tf.range(-100, 100, 4)\n",
        "x\n"
      ]
    },
    {
      "cell_type": "code",
      "execution_count": 23,
      "metadata": {
        "colab": {
          "base_uri": "https://localhost:8080/"
        },
        "id": "R0Y8-fQ_OM38",
        "outputId": "3cf929b7-e006-4d79-9c77-6c115f29ae0b"
      },
      "outputs": [
        {
          "output_type": "execute_result",
          "data": {
            "text/plain": [
              "<tf.Tensor: shape=(50,), dtype=int32, numpy=\n",
              "array([-90, -86, -82, -78, -74, -70, -66, -62, -58, -54, -50, -46, -42,\n",
              "       -38, -34, -30, -26, -22, -18, -14, -10,  -6,  -2,   2,   6,  10,\n",
              "        14,  18,  22,  26,  30,  34,  38,  42,  46,  50,  54,  58,  62,\n",
              "        66,  70,  74,  78,  82,  86,  90,  94,  98, 102, 106], dtype=int32)>"
            ]
          },
          "metadata": {},
          "execution_count": 23
        }
      ],
      "source": [
        "y = x + 10\n",
        "y"
      ]
    },
    {
      "cell_type": "code",
      "execution_count": 24,
      "metadata": {
        "colab": {
          "base_uri": "https://localhost:8080/",
          "height": 447
        },
        "id": "jEPFTM6lOM38",
        "outputId": "44fdedd4-a903-4687-c225-3441b49a3687"
      },
      "outputs": [
        {
          "output_type": "execute_result",
          "data": {
            "text/plain": [
              "<matplotlib.collections.PathCollection at 0x7f2e47882860>"
            ]
          },
          "metadata": {},
          "execution_count": 24
        },
        {
          "output_type": "display_data",
          "data": {
            "text/plain": [
              "<Figure size 640x480 with 1 Axes>"
            ],
            "image/png": "[encoded data removed]"
          },
          "metadata": {}
        }
      ],
      "source": [
        "# visualize the data\n",
        "import matplotlib.pyplot as plt\n",
        "plt.scatter(x, y)"
      ]
    },
    {
      "cell_type": "markdown",
      "metadata": {
        "id": "eaHAlGt3OM39"
      },
      "source": [
        "### The 3 sets...\n",
        "* Training set - the model learns from this data, which is typically 70-80% of the total data you have available.\n",
        "* Validation set - the model gets tuned on this data, which is typically 10-15% of the data available.\n",
        "* Test set - the model gets evaluated on this data to test what it has learned, this set is typically 10-15% of the total data available."
      ]
    },
    {
      "cell_type": "code",
      "execution_count": 25,
      "metadata": {
        "colab": {
          "base_uri": "https://localhost:8080/"
        },
        "id": "fv-fGKduOM39",
        "outputId": "94a1a88b-9e4d-4e5d-bb5e-d48f2862f864"
      },
      "outputs": [
        {
          "output_type": "execute_result",
          "data": {
            "text/plain": [
              "50"
            ]
          },
          "metadata": {},
          "execution_count": 25
        }
      ],
      "source": [
        "# Check the length of how many samples we have\n",
        "len(x)"
      ]
    },
    {
      "cell_type": "code",
      "execution_count": 26,
      "metadata": {
        "colab": {
          "base_uri": "https://localhost:8080/"
        },
        "id": "zl9XhIwAOM3-",
        "outputId": "376af47f-f5df-4351-be6d-9303a16ebb6e"
      },
      "outputs": [
        {
          "output_type": "execute_result",
          "data": {
            "text/plain": [
              "(40, 10, 40, 10)"
            ]
          },
          "metadata": {},
          "execution_count": 26
        }
      ],
      "source": [
        "# Split the data into train and test sets\n",
        "x_train = x[:40] # first 40 are training samples (80% of the data)\n",
        "x_test = x[40:] # last 10 are testing samples (20% of the data)\n",
        "\n",
        "y_train = y[:40] # first 40 are training samples (80% of the data)\n",
        "y_test = y[40:] # last 10 are testing samples (20% of the data)\n",
        "\n",
        "len(x_train), len(x_test), len(y_train), len(y_test)"
      ]
    },
    {
      "cell_type": "markdown",
      "metadata": {
        "id": "z2JiSavlOM3_"
      },
      "source": [
        "### Visualizing the data ###"
      ]
    },
    {
      "cell_type": "code",
      "execution_count": 27,
      "metadata": {
        "colab": {
          "base_uri": "https://localhost:8080/",
          "height": 592
        },
        "id": "2StDP56NOM3_",
        "outputId": "cc892b29-ffce-4072-a81f-136b1acce80f"
      },
      "outputs": [
        {
          "output_type": "execute_result",
          "data": {
            "text/plain": [
              "<matplotlib.legend.Legend at 0x7f2e478e7cd0>"
            ]
          },
          "metadata": {},
          "execution_count": 27
        },
        {
          "output_type": "display_data",
          "data": {
            "text/plain": [
              "<Figure size 1000x700 with 1 Axes>"
            ],
            "image/png": "[encoded data removed]"
          },
          "metadata": {}
        }
      ],
      "source": [
        "plt.figure(figsize=(10, 7))\n",
        "# Plot training data in blue\n",
        "plt.scatter(x_train, y_train, c=\"b\", label=\"Training data\")\n",
        "# Plot test data in green\n",
        "plt.scatter(x_test, y_test, c=\"g\", label=\"Testing data\")\n",
        "# show a legend\n",
        "plt.legend()"
      ]
    },
    {
      "cell_type": "code",
      "execution_count": 28,
      "metadata": {
        "id": "st-Drvy4OM3_"
      },
      "outputs": [],
      "source": [
        "# Lets have a look at how to build a neural network for our data\n",
        "\n",
        "# 1. Create a model\n",
        "model = tf.keras.Sequential([\n",
        "    tf.keras.layers.Dense(1)\n",
        "])\n",
        "\n",
        "# 2. Compile the model\n",
        "model.compile(loss=tf.keras.losses.mae, optimizer=tf.keras.optimizers.SGD(), metrics=[\"mae\"])\n",
        "\n",
        "# # 3. Fit the model\n",
        "# model.fit(x_train, y_train, epochs=100)"
      ]
    },
    {
      "cell_type": "markdown",
      "metadata": {
        "id": "QQz0inCAOM4A"
      },
      "source": [
        "# Visualizing the data"
      ]
    },
    {
      "cell_type": "code",
      "execution_count": 29,
      "metadata": {
        "id": "U-yBFW2pOM4A"
      },
      "outputs": [],
      "source": [
        "# Let's create a model which builds automatically by defining the input_shape argument in the first layer\n",
        "tf.random.set_seed(42)\n",
        "\n",
        "# Create a model (same as above)\n",
        "model = tf.keras.Sequential([\n",
        "    tf.keras.layers.Dense(10, input_shape=[1], name=\"input_layer\"),\n",
        "    tf.keras.layers.Dense(1, name=\"output_layer\")\n",
        "], name=\"modal_1\")\n",
        "\n",
        "# Compile the model\n",
        "model.compile(loss=tf.keras.losses.mae, optimizer=tf.keras.optimizers.SGD(), metrics=[\"mae\"])\n",
        "\n"
      ]
    },
    {
      "cell_type": "code",
      "execution_count": 30,
      "metadata": {
        "colab": {
          "base_uri": "https://localhost:8080/"
        },
        "id": "PpQ83i2zOM4A",
        "outputId": "5c6a71a3-f7bb-4150-bc86-21230f32764d"
      },
      "outputs": [
        {
          "output_type": "stream",
          "name": "stdout",
          "text": [
            "Model: \"modal_1\"\n",
            "_________________________________________________________________\n",
            " Layer (type)                Output Shape              Param #   \n",
            "=================================================================\n",
            " input_layer (Dense)         (None, 10)                20        \n",
            "                                                                 \n",
            " output_layer (Dense)        (None, 1)                 11        \n",
            "                                                                 \n",
            "=================================================================\n",
            "Total params: 31\n",
            "Trainable params: 31\n",
            "Non-trainable params: 0\n",
            "_________________________________________________________________\n"
          ]
        }
      ],
      "source": [
        "model.summary()"
      ]
    },
    {
      "cell_type": "code",
      "execution_count": 31,
      "metadata": {
        "colab": {
          "base_uri": "https://localhost:8080/"
        },
        "id": "sFJ8mqjwOM4B",
        "outputId": "3cd75735-93fc-4dc0-cdb9-1c9c84118285"
      },
      "outputs": [
        {
          "output_type": "stream",
          "name": "stdout",
          "text": [
            "Epoch 1/100\n",
            "2/2 [==============================] - 0s 13ms/step - loss: 38.7411 - mae: 38.7411\n",
            "Epoch 2/100\n",
            "2/2 [==============================] - 0s 9ms/step - loss: 30.2095 - mae: 30.2095\n",
            "Epoch 3/100\n",
            "2/2 [==============================] - 0s 11ms/step - loss: 35.7472 - mae: 35.7472\n",
            "Epoch 4/100\n",
            "2/2 [==============================] - 0s 10ms/step - loss: 25.1503 - mae: 25.1503\n",
            "Epoch 5/100\n",
            "2/2 [==============================] - 0s 7ms/step - loss: 14.8858 - mae: 14.8858\n",
            "Epoch 6/100\n",
            "2/2 [==============================] - 0s 7ms/step - loss: 11.8481 - mae: 11.8481\n",
            "Epoch 7/100\n",
            "2/2 [==============================] - 0s 7ms/step - loss: 11.1877 - mae: 11.1877\n",
            "Epoch 8/100\n",
            "2/2 [==============================] - 0s 7ms/step - loss: 11.1119 - mae: 11.1119\n",
            "Epoch 9/100\n",
            "2/2 [==============================] - 0s 12ms/step - loss: 40.6227 - mae: 40.6227\n",
            "Epoch 10/100\n",
            "2/2 [==============================] - 0s 8ms/step - loss: 27.9974 - mae: 27.9974\n",
            "Epoch 11/100\n",
            "2/2 [==============================] - 0s 6ms/step - loss: 10.2491 - mae: 10.2491\n",
            "Epoch 12/100\n",
            "2/2 [==============================] - 0s 8ms/step - loss: 25.2673 - mae: 25.2673\n",
            "Epoch 13/100\n",
            "2/2 [==============================] - 0s 8ms/step - loss: 17.0564 - mae: 17.0564\n",
            "Epoch 14/100\n",
            "2/2 [==============================] - 0s 7ms/step - loss: 26.0465 - mae: 26.0465\n",
            "Epoch 15/100\n",
            "2/2 [==============================] - 0s 7ms/step - loss: 18.0964 - mae: 18.0964\n",
            "Epoch 16/100\n",
            "2/2 [==============================] - 0s 7ms/step - loss: 7.8589 - mae: 7.8589\n",
            "Epoch 17/100\n",
            "2/2 [==============================] - 0s 7ms/step - loss: 22.2114 - mae: 22.2114\n",
            "Epoch 18/100\n",
            "2/2 [==============================] - 0s 7ms/step - loss: 10.8228 - mae: 10.8228\n",
            "Epoch 19/100\n",
            "2/2 [==============================] - 0s 6ms/step - loss: 10.7111 - mae: 10.7111\n",
            "Epoch 20/100\n",
            "2/2 [==============================] - 0s 6ms/step - loss: 12.0337 - mae: 12.0337\n",
            "Epoch 21/100\n",
            "2/2 [==============================] - 0s 7ms/step - loss: 20.1343 - mae: 20.1343\n",
            "Epoch 22/100\n",
            "2/2 [==============================] - 0s 10ms/step - loss: 13.7780 - mae: 13.7780\n",
            "Epoch 23/100\n",
            "2/2 [==============================] - 0s 9ms/step - loss: 9.5315 - mae: 9.5315\n",
            "Epoch 24/100\n",
            "2/2 [==============================] - 0s 8ms/step - loss: 11.8880 - mae: 11.8880\n",
            "Epoch 25/100\n",
            "2/2 [==============================] - 0s 8ms/step - loss: 16.1968 - mae: 16.1968\n",
            "Epoch 26/100\n",
            "2/2 [==============================] - 0s 7ms/step - loss: 16.3891 - mae: 16.3891\n",
            "Epoch 27/100\n",
            "2/2 [==============================] - 0s 7ms/step - loss: 11.5819 - mae: 11.5819\n",
            "Epoch 28/100\n",
            "2/2 [==============================] - 0s 7ms/step - loss: 29.9670 - mae: 29.9670\n",
            "Epoch 29/100\n",
            "2/2 [==============================] - 0s 7ms/step - loss: 9.2501 - mae: 9.2501\n",
            "Epoch 30/100\n",
            "2/2 [==============================] - 0s 7ms/step - loss: 30.5192 - mae: 30.5192\n",
            "Epoch 31/100\n",
            "2/2 [==============================] - 0s 8ms/step - loss: 55.4773 - mae: 55.4773\n",
            "Epoch 32/100\n",
            "2/2 [==============================] - 0s 8ms/step - loss: 9.7245 - mae: 9.7245\n",
            "Epoch 33/100\n",
            "2/2 [==============================] - 0s 8ms/step - loss: 12.3428 - mae: 12.3428\n",
            "Epoch 34/100\n",
            "2/2 [==============================] - 0s 8ms/step - loss: 24.6907 - mae: 24.6907\n",
            "Epoch 35/100\n",
            "2/2 [==============================] - 0s 8ms/step - loss: 11.9188 - mae: 11.9188\n",
            "Epoch 36/100\n",
            "2/2 [==============================] - 0s 8ms/step - loss: 22.1034 - mae: 22.1034\n",
            "Epoch 37/100\n",
            "2/2 [==============================] - 0s 12ms/step - loss: 17.5574 - mae: 17.5574\n",
            "Epoch 38/100\n",
            "2/2 [==============================] - 0s 8ms/step - loss: 10.7270 - mae: 10.7270\n",
            "Epoch 39/100\n",
            "2/2 [==============================] - 0s 7ms/step - loss: 11.2448 - mae: 11.2448\n",
            "Epoch 40/100\n",
            "2/2 [==============================] - 0s 8ms/step - loss: 18.2281 - mae: 18.2281\n",
            "Epoch 41/100\n",
            "2/2 [==============================] - 0s 12ms/step - loss: 10.4961 - mae: 10.4961\n",
            "Epoch 42/100\n",
            "2/2 [==============================] - 0s 11ms/step - loss: 7.8413 - mae: 7.8413\n",
            "Epoch 43/100\n",
            "2/2 [==============================] - 0s 15ms/step - loss: 14.2173 - mae: 14.2173\n",
            "Epoch 44/100\n",
            "2/2 [==============================] - 0s 6ms/step - loss: 24.9893 - mae: 24.9893\n",
            "Epoch 45/100\n",
            "2/2 [==============================] - 0s 8ms/step - loss: 10.9600 - mae: 10.9600\n",
            "Epoch 46/100\n",
            "2/2 [==============================] - 0s 7ms/step - loss: 13.0677 - mae: 13.0677\n",
            "Epoch 47/100\n",
            "2/2 [==============================] - 0s 7ms/step - loss: 10.4273 - mae: 10.4273\n",
            "Epoch 48/100\n",
            "2/2 [==============================] - 0s 10ms/step - loss: 17.1368 - mae: 17.1368\n",
            "Epoch 49/100\n",
            "2/2 [==============================] - 0s 8ms/step - loss: 9.6354 - mae: 9.6354\n",
            "Epoch 50/100\n",
            "2/2 [==============================] - 0s 16ms/step - loss: 13.9317 - mae: 13.9317\n",
            "Epoch 51/100\n",
            "2/2 [==============================] - 0s 8ms/step - loss: 11.6381 - mae: 11.6381\n",
            "Epoch 52/100\n",
            "2/2 [==============================] - 0s 8ms/step - loss: 30.8499 - mae: 30.8499\n",
            "Epoch 53/100\n",
            "2/2 [==============================] - 0s 7ms/step - loss: 14.4826 - mae: 14.4826\n",
            "Epoch 54/100\n",
            "2/2 [==============================] - 0s 8ms/step - loss: 24.1994 - mae: 24.1994\n",
            "Epoch 55/100\n",
            "2/2 [==============================] - 0s 7ms/step - loss: 23.4423 - mae: 23.4423\n",
            "Epoch 56/100\n",
            "2/2 [==============================] - 0s 8ms/step - loss: 10.9619 - mae: 10.9619\n",
            "Epoch 57/100\n",
            "2/2 [==============================] - 0s 10ms/step - loss: 12.8527 - mae: 12.8527\n",
            "Epoch 58/100\n",
            "2/2 [==============================] - 0s 8ms/step - loss: 9.6603 - mae: 9.6603\n",
            "Epoch 59/100\n",
            "2/2 [==============================] - 0s 8ms/step - loss: 13.0218 - mae: 13.0218\n",
            "Epoch 60/100\n",
            "2/2 [==============================] - 0s 8ms/step - loss: 10.6997 - mae: 10.6997\n",
            "Epoch 61/100\n",
            "2/2 [==============================] - 0s 10ms/step - loss: 13.2358 - mae: 13.2358\n",
            "Epoch 62/100\n",
            "2/2 [==============================] - 0s 8ms/step - loss: 17.0700 - mae: 17.0700\n",
            "Epoch 63/100\n",
            "2/2 [==============================] - 0s 9ms/step - loss: 9.0530 - mae: 9.0530\n",
            "Epoch 64/100\n",
            "2/2 [==============================] - 0s 8ms/step - loss: 17.7171 - mae: 17.7171\n",
            "Epoch 65/100\n",
            "2/2 [==============================] - 0s 7ms/step - loss: 10.5261 - mae: 10.5261\n",
            "Epoch 66/100\n",
            "2/2 [==============================] - 0s 10ms/step - loss: 21.2048 - mae: 21.2048\n",
            "Epoch 67/100\n",
            "2/2 [==============================] - 0s 8ms/step - loss: 10.5235 - mae: 10.5235\n",
            "Epoch 68/100\n",
            "2/2 [==============================] - 0s 8ms/step - loss: 14.3716 - mae: 14.3716\n",
            "Epoch 69/100\n",
            "2/2 [==============================] - 0s 22ms/step - loss: 10.6152 - mae: 10.6152\n",
            "Epoch 70/100\n",
            "2/2 [==============================] - 0s 21ms/step - loss: 12.7007 - mae: 12.7007\n",
            "Epoch 71/100\n",
            "2/2 [==============================] - 0s 15ms/step - loss: 13.1307 - mae: 13.1307\n",
            "Epoch 72/100\n",
            "2/2 [==============================] - 0s 24ms/step - loss: 19.6387 - mae: 19.6387\n",
            "Epoch 73/100\n",
            "2/2 [==============================] - 0s 22ms/step - loss: 11.1975 - mae: 11.1975\n",
            "Epoch 74/100\n",
            "2/2 [==============================] - 0s 25ms/step - loss: 21.9277 - mae: 21.9277\n",
            "Epoch 75/100\n",
            "2/2 [==============================] - 0s 23ms/step - loss: 7.1916 - mae: 7.1916\n",
            "Epoch 76/100\n",
            "2/2 [==============================] - 0s 12ms/step - loss: 9.4161 - mae: 9.4161\n",
            "Epoch 77/100\n",
            "2/2 [==============================] - 0s 14ms/step - loss: 22.0395 - mae: 22.0395\n",
            "Epoch 78/100\n",
            "2/2 [==============================] - 0s 12ms/step - loss: 17.7165 - mae: 17.7165\n",
            "Epoch 79/100\n",
            "2/2 [==============================] - 0s 20ms/step - loss: 14.8732 - mae: 14.8732\n",
            "Epoch 80/100\n",
            "2/2 [==============================] - 0s 38ms/step - loss: 25.2063 - mae: 25.2063\n",
            "Epoch 81/100\n",
            "2/2 [==============================] - 0s 21ms/step - loss: 10.9413 - mae: 10.9413\n",
            "Epoch 82/100\n",
            "2/2 [==============================] - 0s 17ms/step - loss: 12.7336 - mae: 12.7336\n",
            "Epoch 83/100\n",
            "2/2 [==============================] - 0s 16ms/step - loss: 17.4999 - mae: 17.4999\n",
            "Epoch 84/100\n",
            "2/2 [==============================] - 0s 17ms/step - loss: 7.2838 - mae: 7.2838\n",
            "Epoch 85/100\n",
            "2/2 [==============================] - 0s 12ms/step - loss: 15.0249 - mae: 15.0249\n",
            "Epoch 86/100\n",
            "2/2 [==============================] - 0s 17ms/step - loss: 15.3344 - mae: 15.3344\n",
            "Epoch 87/100\n",
            "2/2 [==============================] - 0s 28ms/step - loss: 19.2023 - mae: 19.2023\n",
            "Epoch 88/100\n",
            "2/2 [==============================] - 0s 26ms/step - loss: 29.5787 - mae: 29.5787\n",
            "Epoch 89/100\n",
            "2/2 [==============================] - 0s 18ms/step - loss: 10.1452 - mae: 10.1452\n",
            "Epoch 90/100\n",
            "2/2 [==============================] - 0s 17ms/step - loss: 21.3239 - mae: 21.3239\n",
            "Epoch 91/100\n",
            "2/2 [==============================] - 0s 11ms/step - loss: 10.5298 - mae: 10.5298\n",
            "Epoch 92/100\n",
            "2/2 [==============================] - 0s 12ms/step - loss: 18.2188 - mae: 18.2188\n",
            "Epoch 93/100\n",
            "2/2 [==============================] - 0s 8ms/step - loss: 6.8149 - mae: 6.8149\n",
            "Epoch 94/100\n",
            "2/2 [==============================] - 0s 13ms/step - loss: 13.0167 - mae: 13.0167\n",
            "Epoch 95/100\n",
            "2/2 [==============================] - 0s 12ms/step - loss: 18.4091 - mae: 18.4091\n",
            "Epoch 96/100\n",
            "2/2 [==============================] - 0s 10ms/step - loss: 10.3552 - mae: 10.3552\n",
            "Epoch 97/100\n",
            "2/2 [==============================] - 0s 10ms/step - loss: 14.4261 - mae: 14.4261\n",
            "Epoch 98/100\n",
            "2/2 [==============================] - 0s 25ms/step - loss: 6.5781 - mae: 6.5781\n",
            "Epoch 99/100\n",
            "2/2 [==============================] - 0s 17ms/step - loss: 12.5966 - mae: 12.5966\n",
            "Epoch 100/100\n",
            "2/2 [==============================] - 0s 11ms/step - loss: 19.4102 - mae: 19.4102\n"
          ]
        },
        {
          "output_type": "execute_result",
          "data": {
            "text/plain": [
              "<keras.callbacks.History at 0x7f2e44ab0790>"
            ]
          },
          "metadata": {},
          "execution_count": 31
        }
      ],
      "source": [
        "# fit the model\n",
        "model.fit(x_train, y_train, epochs=100, verbose=1)"
      ]
    },
    {
      "cell_type": "code",
      "execution_count": 32,
      "metadata": {
        "colab": {
          "base_uri": "https://localhost:8080/"
        },
        "id": "oYYAqm7vOM4B",
        "outputId": "5fad2064-038f-4c38-d246-5a6db5955c49"
      },
      "outputs": [
        {
          "output_type": "stream",
          "name": "stdout",
          "text": [
            "Model: \"modal_1\"\n",
            "_________________________________________________________________\n",
            " Layer (type)                Output Shape              Param #   \n",
            "=================================================================\n",
            " input_layer (Dense)         (None, 10)                20        \n",
            "                                                                 \n",
            " output_layer (Dense)        (None, 1)                 11        \n",
            "                                                                 \n",
            "=================================================================\n",
            "Total params: 31\n",
            "Trainable params: 31\n",
            "Non-trainable params: 0\n",
            "_________________________________________________________________\n"
          ]
        }
      ],
      "source": [
        "# get a summary of our model\n",
        "model.summary()"
      ]
    },
    {
      "cell_type": "code",
      "execution_count": 33,
      "metadata": {
        "id": "-CRnQedqOM4D"
      },
      "outputs": [],
      "source": [
        "# from tensorflow.keras.utils import plot_model\n",
        "\n",
        "# plot_model(model=model, show_shapes=True)\n"
      ]
    },
    {
      "cell_type": "markdown",
      "metadata": {
        "id": "OZitPecQOM4E"
      },
      "source": [
        "### Visualizing our modals predictions"
      ]
    },
    {
      "cell_type": "code",
      "execution_count": 34,
      "metadata": {
        "colab": {
          "base_uri": "https://localhost:8080/"
        },
        "id": "yaS-JjZOOM4F",
        "outputId": "d2e1c33e-d677-499d-c361-e0399a793a81"
      },
      "outputs": [
        {
          "output_type": "stream",
          "name": "stdout",
          "text": [
            "1/1 [==============================] - 0s 88ms/step\n"
          ]
        },
        {
          "output_type": "execute_result",
          "data": {
            "text/plain": [
              "array([[ 78.317   ],\n",
              "       [ 83.4194  ],\n",
              "       [ 88.521805],\n",
              "       [ 93.62421 ],\n",
              "       [ 98.7266  ],\n",
              "       [103.829   ],\n",
              "       [108.931404],\n",
              "       [114.033806],\n",
              "       [119.13621 ],\n",
              "       [124.2386  ]], dtype=float32)"
            ]
          },
          "metadata": {},
          "execution_count": 34
        }
      ],
      "source": [
        "# Make some predictions\n",
        "y_pred = model.predict(x_test)\n",
        "y_pred"
      ]
    },
    {
      "cell_type": "code",
      "execution_count": 35,
      "metadata": {
        "colab": {
          "base_uri": "https://localhost:8080/"
        },
        "id": "deXdjFSAOM4G",
        "outputId": "e0ed488c-51c4-4f68-a062-8c66adb4e74a"
      },
      "outputs": [
        {
          "output_type": "execute_result",
          "data": {
            "text/plain": [
              "<tf.Tensor: shape=(10,), dtype=int32, numpy=array([ 70,  74,  78,  82,  86,  90,  94,  98, 102, 106], dtype=int32)>"
            ]
          },
          "metadata": {},
          "execution_count": 35
        }
      ],
      "source": [
        "y_test"
      ]
    },
    {
      "cell_type": "code",
      "execution_count": 36,
      "metadata": {
        "id": "0ZEtmij3OM4H"
      },
      "outputs": [],
      "source": [
        "# lets create a plotting function\n",
        "def plot_predictions(train_data=x_train,\n",
        "                     train_labels=y_train,\n",
        "                     test_data=x_test,\n",
        "                     test_labels=y_test,\n",
        "                     predictions=y_pred):\n",
        "    \"\"\"_summary_\n",
        "    Plots training data, test data and compares predictions to ground truth\n",
        "\n",
        "    Args:\n",
        "        train_data (_type_, optional): _description_. Defaults to x_train.\n",
        "        train_labels (_type_, optional): _description_. Defaults to y_train.\n",
        "        test_data (_type_, optional): _description_. Defaults to x_test.\n",
        "        test_labels (_type_, optional): _description_. Defaults to y_test.\n",
        "        predictions (_type_, optional): _description_. Defaults to y_pred.\n",
        "    \"\"\"\n",
        "\n",
        "    plt.figure(figsize=(10, 7))\n",
        "    # Plot training data in blue\n",
        "    plt.scatter(train_data, train_labels, c=\"b\", label=\"Training Data\")\n",
        "    # Plot testing data in green\n",
        "    plt.scatter(test_data, test_labels, c=\"g\", label=\"Testing Data\")\n",
        "    # Plot model's predictions in red\n",
        "    plt.scatter(test_data, predictions, c=\"r\", label=\"Predictions\")\n",
        "    # show the legend\n",
        "    plt.legend()"
      ]
    },
    {
      "cell_type": "code",
      "execution_count": 37,
      "metadata": {
        "colab": {
          "base_uri": "https://localhost:8080/",
          "height": 569
        },
        "id": "BUjWOMAHOM4I",
        "outputId": "53f75fee-b8a4-4cd5-e63c-efa895de8c72"
      },
      "outputs": [
        {
          "output_type": "display_data",
          "data": {
            "text/plain": [
              "<Figure size 1000x700 with 1 Axes>"
            ],
            "image/png": "[encoded data removed]"
          },
          "metadata": {}
        }
      ],
      "source": [
        "plot_predictions(train_data=x_train,\n",
        "                 train_labels=y_train,\n",
        "                 test_data=x_test,\n",
        "                 test_labels=y_test,\n",
        "                 predictions=y_pred)"
      ]
    },
    {
      "cell_type": "markdown",
      "metadata": {
        "id": "VFNEFHNaOM4I"
      },
      "source": [
        "## Evaluating our model's predictions with regression evaluation metrics\n",
        "\n",
        "Alongisde visualizations, evaulation metrics are your alternative best option for evaluating your model.\n",
        "\n",
        "Depending on the problem you're working on, different models have different evaluation metrics.\n",
        "\n",
        "Two of the main metrics used for regression problems are:\n",
        "* **Mean absolute error (MAE)** - the mean difference between each of the predictions.\n",
        "* **Mean squared error (MSE)** - the squared mean difference between of the predictions (use if larger errors are more detrimental than smaller errors).\n",
        "\n",
        "The lower each of these values, the better."
      ]
    },
    {
      "cell_type": "code",
      "execution_count": 38,
      "metadata": {
        "colab": {
          "base_uri": "https://localhost:8080/"
        },
        "id": "s6iElVJJOM4J",
        "outputId": "d8cc9403-1e0c-4557-a34c-1fabe6266b05"
      },
      "outputs": [
        {
          "output_type": "stream",
          "name": "stdout",
          "text": [
            "1/1 [==============================] - 0s 287ms/step - loss: 13.2778 - mae: 13.2778\n"
          ]
        },
        {
          "output_type": "execute_result",
          "data": {
            "text/plain": [
              "[13.277801513671875, 13.277801513671875]"
            ]
          },
          "metadata": {},
          "execution_count": 38
        }
      ],
      "source": [
        "# Evaluate the modal on the test set\n",
        "model.evaluate(x_test, y_test)"
      ]
    },
    {
      "cell_type": "code",
      "execution_count": 39,
      "metadata": {
        "colab": {
          "base_uri": "https://localhost:8080/"
        },
        "id": "jBUMidjBOM4J",
        "outputId": "f2f154cd-e968-4ac2-82e3-de1893370f8d"
      },
      "outputs": [
        {
          "output_type": "execute_result",
          "data": {
            "text/plain": [
              "<tf.Tensor: shape=(10,), dtype=float32, numpy=\n",
              "array([12.273199, 10.516119, 10.      , 10.724841, 12.83596 , 16.263203,\n",
              "       20.931404, 26.033808, 31.136206, 36.2386  ], dtype=float32)>"
            ]
          },
          "metadata": {},
          "execution_count": 39
        }
      ],
      "source": [
        "# Calculate the mean absolute error\n",
        "mae = tf.metrics.mean_absolute_error(y_true=y_test, y_pred=tf.constant(y_pred))\n",
        "mae"
      ]
    },
    {
      "cell_type": "code",
      "execution_count": 40,
      "metadata": {
        "colab": {
          "base_uri": "https://localhost:8080/"
        },
        "id": "PzxIDdDPOM4K",
        "outputId": "e96da2e8-a3ae-45e3-e6dc-bdf5199a93af"
      },
      "outputs": [
        {
          "output_type": "execute_result",
          "data": {
            "text/plain": [
              "array([[ 78.317   ],\n",
              "       [ 83.4194  ],\n",
              "       [ 88.521805],\n",
              "       [ 93.62421 ],\n",
              "       [ 98.7266  ],\n",
              "       [103.829   ],\n",
              "       [108.931404],\n",
              "       [114.033806],\n",
              "       [119.13621 ],\n",
              "       [124.2386  ]], dtype=float32)"
            ]
          },
          "metadata": {},
          "execution_count": 40
        }
      ],
      "source": [
        "y_pred"
      ]
    },
    {
      "cell_type": "code",
      "execution_count": 41,
      "metadata": {
        "colab": {
          "base_uri": "https://localhost:8080/"
        },
        "id": "QtJMsZ6KOM4K",
        "outputId": "6424fdd3-1e4e-47ca-f904-f44e321a9bc4"
      },
      "outputs": [
        {
          "output_type": "execute_result",
          "data": {
            "text/plain": [
              "<tf.Tensor: shape=(10,), dtype=int32, numpy=array([ 70,  74,  78,  82,  86,  90,  94,  98, 102, 106], dtype=int32)>"
            ]
          },
          "metadata": {},
          "execution_count": 41
        }
      ],
      "source": [
        "y_test"
      ]
    },
    {
      "cell_type": "code",
      "execution_count": 42,
      "metadata": {
        "colab": {
          "base_uri": "https://localhost:8080/"
        },
        "id": "klt_iG74OM4L",
        "outputId": "a04da38d-125b-48dc-916a-b9933366f115"
      },
      "outputs": [
        {
          "output_type": "execute_result",
          "data": {
            "text/plain": [
              "<tf.Tensor: shape=(10,), dtype=float32, numpy=\n",
              "array([ 78.317   ,  83.4194  ,  88.521805,  93.62421 ,  98.7266  ,\n",
              "       103.829   , 108.931404, 114.033806, 119.13621 , 124.2386  ],\n",
              "      dtype=float32)>"
            ]
          },
          "metadata": {},
          "execution_count": 42
        }
      ],
      "source": [
        "tf.squeeze(y_pred)"
      ]
    },
    {
      "cell_type": "code",
      "execution_count": 43,
      "metadata": {
        "colab": {
          "base_uri": "https://localhost:8080/"
        },
        "id": "Qq4p2rNWOM4L",
        "outputId": "bb42ca7d-af76-459f-f1b7-5658ef98979f"
      },
      "outputs": [
        {
          "output_type": "execute_result",
          "data": {
            "text/plain": [
              "<tf.Tensor: shape=(), dtype=float32, numpy=13.277804>"
            ]
          },
          "metadata": {},
          "execution_count": 43
        }
      ],
      "source": [
        "# Calculate the mean absolute error\n",
        "mae = tf.metrics.mean_absolute_error(y_true=y_test, y_pred=tf.squeeze(y_pred))\n",
        "mae"
      ]
    },
    {
      "cell_type": "code",
      "execution_count": 44,
      "metadata": {
        "colab": {
          "base_uri": "https://localhost:8080/"
        },
        "id": "pSKKLdSlOM4M",
        "outputId": "df456e80-b328-4be9-d775-06e5b6a8d042"
      },
      "outputs": [
        {
          "output_type": "execute_result",
          "data": {
            "text/plain": [
              "<tf.Tensor: shape=(), dtype=float32, numpy=186.32617>"
            ]
          },
          "metadata": {},
          "execution_count": 44
        }
      ],
      "source": [
        "# Calculate the mean squared error\n",
        "mse = tf.metrics.mean_squared_error(y_true=y_test, y_pred=tf.squeeze(y_pred))\n",
        "mse"
      ]
    },
    {
      "cell_type": "code",
      "execution_count": 45,
      "metadata": {
        "id": "_t6F1od8OM4N"
      },
      "outputs": [],
      "source": [
        "# Make some functions to reuse MAE and MSE\n",
        "def mae(y_true, y_pred):\n",
        "    return tf.metrics.mean_absolute_error(y_true=y_true, y_pred=tf.squeeze(y_pred))\n",
        "\n",
        "def mse(y_true, y_pred):\n",
        "    return tf.metrics.mean_squared_error(y_true=y_true, y_pred=tf.squeeze(y_pred))\n",
        "\n"
      ]
    },
    {
      "cell_type": "markdown",
      "metadata": {
        "id": "RpuBHAKJOM4N"
      },
      "source": [
        "## Running experiments to improve our model\n",
        "\n",
        "After seeing the evaluation metrics and the predictions your model makes, it's likely you'll want to improve it.\n",
        "\n",
        "Again, there are many different ways you can do this, but 3 of the main ones are:\n",
        "1. **Get more data** - get more examples for your model to train on (more opportunities to learn patterns).\n",
        "2. **Make your model larger (use a more complex model)** - this might come in the form of more layers or more hidden units in each layer.\n",
        "3. **Train for longer** - give your model more of a chance to find the patterns in the data.\n",
        "\n",
        "Since we created our dataset, we could easily make more data but this isn't always the case when you're working with real-world datasets.\n",
        "\n",
        "So let's take a look at how we can improve our model using 2 and 3.\n",
        "\n",
        "To do so, we'll build 3 models and compare their results:\n",
        "1. `model_1` - same as original model, 1 layer, trained for 100 epochs.\n",
        "2. `model_2` - 2 layers, trained for 100 epochs.\n",
        "3. `model_3` - 2 layers, trained for 500 epochs.\n",
        "\n",
        "**Build `model_1`**"
      ]
    },
    {
      "cell_type": "code",
      "execution_count": 46,
      "metadata": {
        "colab": {
          "base_uri": "https://localhost:8080/"
        },
        "id": "9pUwtQLnOM4O",
        "outputId": "0a299576-5d11-47f8-e49f-fc13809712ca"
      },
      "outputs": [
        {
          "output_type": "stream",
          "name": "stdout",
          "text": [
            "Epoch 1/100\n",
            "2/2 [==============================] - 1s 24ms/step - loss: 76.9428 - mae: 76.9428\n",
            "Epoch 2/100\n",
            "2/2 [==============================] - 0s 16ms/step - loss: 41.5917 - mae: 41.5917\n",
            "Epoch 3/100\n",
            "2/2 [==============================] - 0s 18ms/step - loss: 9.7389 - mae: 9.7389\n",
            "Epoch 4/100\n",
            "2/2 [==============================] - 0s 19ms/step - loss: 9.3484 - mae: 9.3484\n",
            "Epoch 5/100\n",
            "2/2 [==============================] - 0s 9ms/step - loss: 10.2203 - mae: 10.2203\n",
            "Epoch 6/100\n",
            "2/2 [==============================] - 0s 10ms/step - loss: 9.4800 - mae: 9.4800\n",
            "Epoch 7/100\n",
            "2/2 [==============================] - 0s 17ms/step - loss: 8.6149 - mae: 8.6149\n",
            "Epoch 8/100\n",
            "2/2 [==============================] - 0s 19ms/step - loss: 9.0691 - mae: 9.0691\n",
            "Epoch 9/100\n",
            "2/2 [==============================] - 0s 32ms/step - loss: 18.8218 - mae: 18.8218\n",
            "Epoch 10/100\n",
            "2/2 [==============================] - 0s 15ms/step - loss: 10.1690 - mae: 10.1690\n",
            "Epoch 11/100\n",
            "2/2 [==============================] - 0s 10ms/step - loss: 8.4328 - mae: 8.4328\n",
            "Epoch 12/100\n",
            "2/2 [==============================] - 0s 7ms/step - loss: 10.7121 - mae: 10.7121\n",
            "Epoch 13/100\n",
            "2/2 [==============================] - 0s 9ms/step - loss: 9.8307 - mae: 9.8307\n",
            "Epoch 14/100\n",
            "2/2 [==============================] - 0s 13ms/step - loss: 16.0818 - mae: 16.0818\n",
            "Epoch 15/100\n",
            "2/2 [==============================] - 0s 18ms/step - loss: 11.3785 - mae: 11.3785\n",
            "Epoch 16/100\n",
            "2/2 [==============================] - 0s 20ms/step - loss: 8.5740 - mae: 8.5740\n",
            "Epoch 17/100\n",
            "2/2 [==============================] - 0s 14ms/step - loss: 13.6904 - mae: 13.6904\n",
            "Epoch 18/100\n",
            "2/2 [==============================] - 0s 20ms/step - loss: 11.5266 - mae: 11.5266\n",
            "Epoch 19/100\n",
            "2/2 [==============================] - 0s 27ms/step - loss: 17.8818 - mae: 17.8818\n",
            "Epoch 20/100\n",
            "2/2 [==============================] - 0s 9ms/step - loss: 15.0167 - mae: 15.0167\n",
            "Epoch 21/100\n",
            "2/2 [==============================] - 0s 10ms/step - loss: 10.8926 - mae: 10.8926\n",
            "Epoch 22/100\n",
            "2/2 [==============================] - 0s 12ms/step - loss: 8.6477 - mae: 8.6477\n",
            "Epoch 23/100\n",
            "2/2 [==============================] - 0s 11ms/step - loss: 9.7094 - mae: 9.7094\n",
            "Epoch 24/100\n",
            "2/2 [==============================] - 0s 14ms/step - loss: 8.6039 - mae: 8.6039\n",
            "Epoch 25/100\n",
            "2/2 [==============================] - 0s 16ms/step - loss: 11.6138 - mae: 11.6138\n",
            "Epoch 26/100\n",
            "2/2 [==============================] - 0s 10ms/step - loss: 15.1531 - mae: 15.1531\n",
            "Epoch 27/100\n",
            "2/2 [==============================] - 0s 22ms/step - loss: 11.9005 - mae: 11.9005\n",
            "Epoch 28/100\n",
            "2/2 [==============================] - 0s 21ms/step - loss: 13.9456 - mae: 13.9456\n",
            "Epoch 29/100\n",
            "2/2 [==============================] - 0s 9ms/step - loss: 9.6285 - mae: 9.6285\n",
            "Epoch 30/100\n",
            "2/2 [==============================] - 0s 8ms/step - loss: 17.2017 - mae: 17.2017\n",
            "Epoch 31/100\n",
            "2/2 [==============================] - 0s 18ms/step - loss: 22.8772 - mae: 22.8772\n",
            "Epoch 32/100\n",
            "2/2 [==============================] - 0s 11ms/step - loss: 7.9370 - mae: 7.9370\n",
            "Epoch 33/100\n",
            "2/2 [==============================] - 0s 18ms/step - loss: 14.1507 - mae: 14.1507\n",
            "Epoch 34/100\n",
            "2/2 [==============================] - 0s 14ms/step - loss: 12.3979 - mae: 12.3979\n",
            "Epoch 35/100\n",
            "2/2 [==============================] - 0s 13ms/step - loss: 8.2802 - mae: 8.2802\n",
            "Epoch 36/100\n",
            "2/2 [==============================] - 0s 22ms/step - loss: 10.5004 - mae: 10.5004\n",
            "Epoch 37/100\n",
            "2/2 [==============================] - 0s 11ms/step - loss: 10.1457 - mae: 10.1457\n",
            "Epoch 38/100\n",
            "2/2 [==============================] - 0s 13ms/step - loss: 11.3391 - mae: 11.3391\n",
            "Epoch 39/100\n",
            "2/2 [==============================] - 0s 13ms/step - loss: 14.7745 - mae: 14.7745\n",
            "Epoch 40/100\n",
            "2/2 [==============================] - 0s 16ms/step - loss: 12.9047 - mae: 12.9047\n",
            "Epoch 41/100\n",
            "2/2 [==============================] - 0s 12ms/step - loss: 9.2958 - mae: 9.2958\n",
            "Epoch 42/100\n",
            "2/2 [==============================] - 0s 28ms/step - loss: 11.0211 - mae: 11.0211\n",
            "Epoch 43/100\n",
            "2/2 [==============================] - 0s 10ms/step - loss: 8.3528 - mae: 8.3528\n",
            "Epoch 44/100\n",
            "2/2 [==============================] - 0s 11ms/step - loss: 13.0570 - mae: 13.0570\n",
            "Epoch 45/100\n",
            "2/2 [==============================] - 0s 13ms/step - loss: 13.6954 - mae: 13.6954\n",
            "Epoch 46/100\n",
            "2/2 [==============================] - 0s 26ms/step - loss: 8.3084 - mae: 8.3084\n",
            "Epoch 47/100\n",
            "2/2 [==============================] - 0s 15ms/step - loss: 8.7417 - mae: 8.7417\n",
            "Epoch 48/100\n",
            "2/2 [==============================] - 0s 36ms/step - loss: 10.0412 - mae: 10.0412\n",
            "Epoch 49/100\n",
            "2/2 [==============================] - 0s 16ms/step - loss: 8.5265 - mae: 8.5265\n",
            "Epoch 50/100\n",
            "2/2 [==============================] - 0s 17ms/step - loss: 9.0306 - mae: 9.0306\n",
            "Epoch 51/100\n",
            "2/2 [==============================] - 0s 15ms/step - loss: 9.3925 - mae: 9.3925\n",
            "Epoch 52/100\n",
            "2/2 [==============================] - 0s 19ms/step - loss: 14.1722 - mae: 14.1722\n",
            "Epoch 53/100\n",
            "2/2 [==============================] - 0s 25ms/step - loss: 14.9044 - mae: 14.9044\n",
            "Epoch 54/100\n",
            "2/2 [==============================] - 0s 27ms/step - loss: 14.8434 - mae: 14.8434\n",
            "Epoch 55/100\n",
            "2/2 [==============================] - 0s 15ms/step - loss: 12.6271 - mae: 12.6271\n",
            "Epoch 56/100\n",
            "2/2 [==============================] - 0s 11ms/step - loss: 7.6165 - mae: 7.6165\n",
            "Epoch 57/100\n",
            "2/2 [==============================] - 0s 10ms/step - loss: 8.8067 - mae: 8.8067\n",
            "Epoch 58/100\n",
            "2/2 [==============================] - 0s 14ms/step - loss: 8.3960 - mae: 8.3960\n",
            "Epoch 59/100\n",
            "2/2 [==============================] - 0s 9ms/step - loss: 9.1905 - mae: 9.1905\n",
            "Epoch 60/100\n",
            "2/2 [==============================] - 0s 8ms/step - loss: 9.1354 - mae: 9.1354\n",
            "Epoch 61/100\n",
            "2/2 [==============================] - 0s 10ms/step - loss: 10.6727 - mae: 10.6727\n",
            "Epoch 62/100\n",
            "2/2 [==============================] - 0s 14ms/step - loss: 7.4577 - mae: 7.4577\n",
            "Epoch 63/100\n",
            "2/2 [==============================] - 0s 21ms/step - loss: 10.5514 - mae: 10.5514\n",
            "Epoch 64/100\n",
            "2/2 [==============================] - 0s 36ms/step - loss: 12.1587 - mae: 12.1587\n",
            "Epoch 65/100\n",
            "2/2 [==============================] - 0s 20ms/step - loss: 9.4822 - mae: 9.4822\n",
            "Epoch 66/100\n",
            "2/2 [==============================] - 0s 31ms/step - loss: 11.5653 - mae: 11.5653\n",
            "Epoch 67/100\n",
            "2/2 [==============================] - 0s 36ms/step - loss: 8.0403 - mae: 8.0403\n",
            "Epoch 68/100\n",
            "2/2 [==============================] - 0s 14ms/step - loss: 8.5746 - mae: 8.5746\n",
            "Epoch 69/100\n",
            "2/2 [==============================] - 0s 53ms/step - loss: 12.2373 - mae: 12.2373\n",
            "Epoch 70/100\n",
            "2/2 [==============================] - 0s 13ms/step - loss: 8.9576 - mae: 8.9576\n",
            "Epoch 71/100\n",
            "2/2 [==============================] - 0s 30ms/step - loss: 9.9302 - mae: 9.9302\n",
            "Epoch 72/100\n",
            "2/2 [==============================] - 0s 11ms/step - loss: 9.9738 - mae: 9.9738\n",
            "Epoch 73/100\n",
            "2/2 [==============================] - 0s 20ms/step - loss: 12.4214 - mae: 12.4214\n",
            "Epoch 74/100\n",
            "2/2 [==============================] - 0s 11ms/step - loss: 10.6274 - mae: 10.6274\n",
            "Epoch 75/100\n",
            "2/2 [==============================] - 0s 12ms/step - loss: 9.6298 - mae: 9.6298\n",
            "Epoch 76/100\n",
            "2/2 [==============================] - 0s 10ms/step - loss: 11.0895 - mae: 11.0895\n",
            "Epoch 77/100\n",
            "2/2 [==============================] - 0s 11ms/step - loss: 8.2788 - mae: 8.2788\n",
            "Epoch 78/100\n",
            "2/2 [==============================] - 0s 10ms/step - loss: 8.9568 - mae: 8.9568\n",
            "Epoch 79/100\n",
            "2/2 [==============================] - 0s 10ms/step - loss: 19.8537 - mae: 19.8537\n",
            "Epoch 80/100\n",
            "2/2 [==============================] - 0s 13ms/step - loss: 17.7827 - mae: 17.7827\n",
            "Epoch 81/100\n",
            "2/2 [==============================] - 0s 12ms/step - loss: 7.1176 - mae: 7.1176\n",
            "Epoch 82/100\n",
            "2/2 [==============================] - 0s 9ms/step - loss: 10.4044 - mae: 10.4044\n",
            "Epoch 83/100\n",
            "2/2 [==============================] - 0s 14ms/step - loss: 9.8226 - mae: 9.8226\n",
            "Epoch 84/100\n",
            "2/2 [==============================] - 0s 12ms/step - loss: 7.9686 - mae: 7.9686\n",
            "Epoch 85/100\n",
            "2/2 [==============================] - 0s 14ms/step - loss: 9.4853 - mae: 9.4853\n",
            "Epoch 86/100\n",
            "2/2 [==============================] - 0s 15ms/step - loss: 9.5261 - mae: 9.5261\n",
            "Epoch 87/100\n",
            "2/2 [==============================] - 0s 12ms/step - loss: 11.4780 - mae: 11.4780\n",
            "Epoch 88/100\n",
            "2/2 [==============================] - 0s 11ms/step - loss: 9.9780 - mae: 9.9780\n",
            "Epoch 89/100\n",
            "2/2 [==============================] - 0s 11ms/step - loss: 7.2729 - mae: 7.2729\n",
            "Epoch 90/100\n",
            "2/2 [==============================] - 0s 10ms/step - loss: 12.7427 - mae: 12.7427\n",
            "Epoch 91/100\n",
            "2/2 [==============================] - 0s 18ms/step - loss: 7.3417 - mae: 7.3417\n",
            "Epoch 92/100\n",
            "2/2 [==============================] - 0s 24ms/step - loss: 7.7082 - mae: 7.7082\n",
            "Epoch 93/100\n",
            "2/2 [==============================] - 0s 18ms/step - loss: 7.1365 - mae: 7.1365\n",
            "Epoch 94/100\n",
            "2/2 [==============================] - 0s 14ms/step - loss: 12.5876 - mae: 12.5876\n",
            "Epoch 95/100\n",
            "2/2 [==============================] - 0s 9ms/step - loss: 9.9645 - mae: 9.9645\n",
            "Epoch 96/100\n",
            "2/2 [==============================] - 0s 9ms/step - loss: 9.1463 - mae: 9.1463\n",
            "Epoch 97/100\n",
            "2/2 [==============================] - 0s 15ms/step - loss: 12.0715 - mae: 12.0715\n",
            "Epoch 98/100\n",
            "2/2 [==============================] - 0s 16ms/step - loss: 9.1094 - mae: 9.1094\n",
            "Epoch 99/100\n",
            "2/2 [==============================] - 0s 12ms/step - loss: 8.5072 - mae: 8.5072\n",
            "Epoch 100/100\n",
            "2/2 [==============================] - 0s 6ms/step - loss: 14.4309 - mae: 14.4309\n"
          ]
        },
        {
          "output_type": "execute_result",
          "data": {
            "text/plain": [
              "<keras.callbacks.History at 0x7f2e44c19930>"
            ]
          },
          "metadata": {},
          "execution_count": 46
        }
      ],
      "source": [
        "# set random seed\n",
        "tf.random.set_seed(42)\n",
        "\n",
        "# 1. Create the model\n",
        "model_1 = tf.keras.Sequential([\n",
        "    tf.keras.layers.Dense(1)\n",
        "])\n",
        "\n",
        "# 2. Compile the model\n",
        "model_1.compile(loss=tf.keras.losses.mae, optimizer=tf.keras.optimizers.SGD(), metrics=[\"mae\"])\n",
        "\n",
        "# 3. Fit the model\n",
        "model_1.fit(tf.expand_dims(x_train, axis=1), y_train, epochs=100)"
      ]
    },
    {
      "cell_type": "code",
      "execution_count": 47,
      "metadata": {
        "colab": {
          "base_uri": "https://localhost:8080/",
          "height": 629
        },
        "id": "R7peBV0xOM4P",
        "outputId": "bd9614e3-d5c4-4087-bfa3-4e68e0c8efe2"
      },
      "outputs": [
        {
          "output_type": "stream",
          "name": "stderr",
          "text": [
            "WARNING:tensorflow:5 out of the last 5 calls to <function Model.make_predict_function.<locals>.predict_function at 0x7f2e47783010> triggered tf.function retracing. Tracing is expensive and the excessive number of tracings could be due to (1) creating @tf.function repeatedly in a loop, (2) passing tensors with different shapes, (3) passing Python objects instead of tensors. For (1), please define your @tf.function outside of the loop. For (2), @tf.function has reduce_retracing=True option that can avoid unnecessary retracing. For (3), please refer to https://www.tensorflow.org/guide/function#controlling_retracing and https://www.tensorflow.org/api_docs/python/tf/function for  more details.\n"
          ]
        },
        {
          "output_type": "stream",
          "name": "stdout",
          "text": [
            "1/1 [==============================] - 0s 118ms/step\n"
          ]
        },
        {
          "output_type": "display_data",
          "data": {
            "text/plain": [
              "<Figure size 1000x700 with 1 Axes>"
            ],
            "image/png": "[encoded data removed]"
          },
          "metadata": {}
        }
      ],
      "source": [
        "# Make and plot predictions for model_1\n",
        "y_pred_1 = model_1.predict(x_test)\n",
        "plot_predictions(predictions=y_pred_1)"
      ]
    },
    {
      "cell_type": "code",
      "execution_count": 48,
      "metadata": {
        "colab": {
          "base_uri": "https://localhost:8080/"
        },
        "id": "nyQBy_1VOM4P",
        "outputId": "7e86578a-7925-4c51-9db1-565a1e334e8d"
      },
      "outputs": [
        {
          "output_type": "execute_result",
          "data": {
            "text/plain": [
              "(<tf.Tensor: shape=(), dtype=float32, numpy=30.737202>,\n",
              " <tf.Tensor: shape=(), dtype=float32, numpy=955.2889>)"
            ]
          },
          "metadata": {},
          "execution_count": 48
        }
      ],
      "source": [
        "# Calculate model_1 evaluation metrics\n",
        "mae_1 = mae(y_test, y_pred_1)\n",
        "mse_1 = mse(y_test, y_pred_1)\n",
        "mae_1, mse_1"
      ]
    },
    {
      "cell_type": "markdown",
      "metadata": {
        "id": "4kMTz3msOM4Q"
      },
      "source": [
        "**Build `model_2`**"
      ]
    },
    {
      "cell_type": "code",
      "execution_count": 49,
      "metadata": {
        "colab": {
          "base_uri": "https://localhost:8080/"
        },
        "id": "ZkIpKf_eOM4Q",
        "outputId": "326dfd95-0de5-4b51-cdd2-ee82b79cf76e"
      },
      "outputs": [
        {
          "output_type": "stream",
          "name": "stdout",
          "text": [
            "Epoch 1/100\n",
            "2/2 [==============================] - 1s 63ms/step - loss: 26.0320 - mse: 1022.3541\n",
            "Epoch 2/100\n",
            "2/2 [==============================] - 0s 28ms/step - loss: 24.5025 - mse: 773.0618\n",
            "Epoch 3/100\n",
            "2/2 [==============================] - 0s 12ms/step - loss: 29.3504 - mse: 1300.4843\n",
            "Epoch 4/100\n",
            "2/2 [==============================] - 0s 9ms/step - loss: 19.9575 - mse: 567.8030\n",
            "Epoch 5/100\n",
            "2/2 [==============================] - 0s 16ms/step - loss: 13.4655 - mse: 222.0169\n",
            "Epoch 6/100\n",
            "2/2 [==============================] - 0s 18ms/step - loss: 10.8638 - mse: 129.9552\n",
            "Epoch 7/100\n",
            "2/2 [==============================] - 0s 16ms/step - loss: 11.8498 - mse: 174.3450\n",
            "Epoch 8/100\n",
            "2/2 [==============================] - 0s 13ms/step - loss: 10.8161 - mse: 128.9113\n",
            "Epoch 9/100\n",
            "2/2 [==============================] - 0s 23ms/step - loss: 36.9511 - mse: 2091.1460\n",
            "Epoch 10/100\n",
            "2/2 [==============================] - 0s 25ms/step - loss: 24.7045 - mse: 855.0915\n",
            "Epoch 11/100\n",
            "2/2 [==============================] - 0s 22ms/step - loss: 11.0347 - mse: 179.6584\n",
            "Epoch 12/100\n",
            "2/2 [==============================] - 0s 11ms/step - loss: 24.4946 - mse: 841.9982\n",
            "Epoch 13/100\n",
            "2/2 [==============================] - 0s 16ms/step - loss: 19.1576 - mse: 515.7062\n",
            "Epoch 14/100\n",
            "2/2 [==============================] - 0s 14ms/step - loss: 23.3450 - mse: 834.1420\n",
            "Epoch 15/100\n",
            "2/2 [==============================] - 0s 16ms/step - loss: 15.1833 - mse: 310.1357\n",
            "Epoch 16/100\n",
            "2/2 [==============================] - 0s 19ms/step - loss: 11.3190 - mse: 148.2867\n",
            "Epoch 17/100\n",
            "2/2 [==============================] - 0s 23ms/step - loss: 23.0886 - mse: 745.4916\n",
            "Epoch 18/100\n",
            "2/2 [==============================] - 0s 31ms/step - loss: 11.7326 - mse: 210.0733\n",
            "Epoch 19/100\n",
            "2/2 [==============================] - 0s 14ms/step - loss: 16.3846 - mse: 430.7326\n",
            "Epoch 20/100\n",
            "2/2 [==============================] - 0s 15ms/step - loss: 8.2431 - mse: 93.3009\n",
            "Epoch 21/100\n",
            "2/2 [==============================] - 0s 18ms/step - loss: 14.4520 - mse: 289.3869\n",
            "Epoch 22/100\n",
            "2/2 [==============================] - 0s 21ms/step - loss: 12.8713 - mse: 246.5137\n",
            "Epoch 23/100\n",
            "2/2 [==============================] - 0s 26ms/step - loss: 15.5017 - mse: 315.4037\n",
            "Epoch 24/100\n",
            "2/2 [==============================] - 0s 21ms/step - loss: 15.2928 - mse: 316.7162\n",
            "Epoch 25/100\n",
            "2/2 [==============================] - 0s 20ms/step - loss: 14.3542 - mse: 272.8906\n",
            "Epoch 26/100\n",
            "2/2 [==============================] - 0s 20ms/step - loss: 19.3764 - mse: 569.7109\n",
            "Epoch 27/100\n",
            "2/2 [==============================] - 0s 31ms/step - loss: 11.4294 - mse: 167.5452\n",
            "Epoch 28/100\n",
            "2/2 [==============================] - 0s 21ms/step - loss: 28.9940 - mse: 1365.8726\n",
            "Epoch 29/100\n",
            "2/2 [==============================] - 0s 40ms/step - loss: 9.2447 - mse: 94.6508\n",
            "Epoch 30/100\n",
            "2/2 [==============================] - 0s 32ms/step - loss: 29.7540 - mse: 1601.1261\n",
            "Epoch 31/100\n",
            "2/2 [==============================] - 0s 23ms/step - loss: 53.9773 - mse: 5218.9775\n",
            "Epoch 32/100\n",
            "2/2 [==============================] - 0s 22ms/step - loss: 9.5447 - mse: 100.8658\n",
            "Epoch 33/100\n",
            "2/2 [==============================] - 0s 16ms/step - loss: 12.1336 - mse: 179.4923\n",
            "Epoch 34/100\n",
            "2/2 [==============================] - 0s 18ms/step - loss: 23.8063 - mse: 858.2812\n",
            "Epoch 35/100\n",
            "2/2 [==============================] - 0s 16ms/step - loss: 12.6317 - mse: 241.9646\n",
            "Epoch 36/100\n",
            "2/2 [==============================] - 0s 31ms/step - loss: 21.5640 - mse: 663.2402\n",
            "Epoch 37/100\n",
            "2/2 [==============================] - 0s 18ms/step - loss: 11.3435 - mse: 149.2870\n",
            "Epoch 38/100\n",
            "2/2 [==============================] - 0s 10ms/step - loss: 13.4102 - mse: 266.5749\n",
            "Epoch 39/100\n",
            "2/2 [==============================] - 0s 26ms/step - loss: 10.7602 - mse: 137.8741\n",
            "Epoch 40/100\n",
            "2/2 [==============================] - 0s 16ms/step - loss: 16.5267 - mse: 396.5444\n",
            "Epoch 41/100\n",
            "2/2 [==============================] - 0s 18ms/step - loss: 10.9331 - mse: 179.8453\n",
            "Epoch 42/100\n",
            "2/2 [==============================] - 0s 13ms/step - loss: 9.2698 - mse: 115.2874\n",
            "Epoch 43/100\n",
            "2/2 [==============================] - 0s 21ms/step - loss: 9.5800 - mse: 111.2232\n",
            "Epoch 44/100\n",
            "2/2 [==============================] - 0s 13ms/step - loss: 27.9013 - mse: 1247.7975\n",
            "Epoch 45/100\n",
            "2/2 [==============================] - 0s 36ms/step - loss: 11.2542 - mse: 146.0627\n",
            "Epoch 46/100\n",
            "2/2 [==============================] - 0s 14ms/step - loss: 13.8491 - mse: 280.7523\n",
            "Epoch 47/100\n",
            "2/2 [==============================] - 0s 21ms/step - loss: 11.9196 - mse: 211.9159\n",
            "Epoch 48/100\n",
            "2/2 [==============================] - 0s 18ms/step - loss: 16.9541 - mse: 389.3236\n",
            "Epoch 49/100\n",
            "2/2 [==============================] - 0s 17ms/step - loss: 9.7679 - mse: 104.7762\n",
            "Epoch 50/100\n",
            "2/2 [==============================] - 0s 16ms/step - loss: 14.1605 - mse: 280.6223\n",
            "Epoch 51/100\n",
            "2/2 [==============================] - 0s 18ms/step - loss: 11.7302 - mse: 161.1082\n",
            "Epoch 52/100\n",
            "2/2 [==============================] - 0s 22ms/step - loss: 31.3924 - mse: 1712.2600\n",
            "Epoch 53/100\n",
            "2/2 [==============================] - 0s 17ms/step - loss: 14.7243 - mse: 321.1472\n",
            "Epoch 54/100\n",
            "2/2 [==============================] - 0s 21ms/step - loss: 24.6184 - mse: 911.9427\n",
            "Epoch 55/100\n",
            "2/2 [==============================] - 0s 21ms/step - loss: 23.9006 - mse: 858.8528\n",
            "Epoch 56/100\n",
            "2/2 [==============================] - 0s 16ms/step - loss: 11.1163 - mse: 170.9223\n",
            "Epoch 57/100\n",
            "2/2 [==============================] - 0s 16ms/step - loss: 13.0571 - mse: 211.4920\n",
            "Epoch 58/100\n",
            "2/2 [==============================] - 0s 18ms/step - loss: 9.7771 - mse: 105.5544\n",
            "Epoch 59/100\n",
            "2/2 [==============================] - 0s 15ms/step - loss: 13.2407 - mse: 245.7782\n",
            "Epoch 60/100\n",
            "2/2 [==============================] - 0s 25ms/step - loss: 10.8316 - mse: 137.9541\n",
            "Epoch 61/100\n",
            "2/2 [==============================] - 0s 33ms/step - loss: 13.4185 - mse: 238.6900\n",
            "Epoch 62/100\n",
            "2/2 [==============================] - 0s 29ms/step - loss: 17.4026 - mse: 461.8658\n",
            "Epoch 63/100\n",
            "2/2 [==============================] - 0s 30ms/step - loss: 9.1354 - mse: 87.5611\n",
            "Epoch 64/100\n",
            "2/2 [==============================] - 0s 26ms/step - loss: 18.2777 - mse: 485.6869\n",
            "Epoch 65/100\n",
            "2/2 [==============================] - 0s 22ms/step - loss: 10.0908 - mse: 113.9830\n",
            "Epoch 66/100\n",
            "2/2 [==============================] - 0s 21ms/step - loss: 24.1201 - mse: 876.8853\n",
            "Epoch 67/100\n",
            "2/2 [==============================] - 0s 32ms/step - loss: 10.8448 - mse: 140.9722\n",
            "Epoch 68/100\n",
            "2/2 [==============================] - 0s 19ms/step - loss: 10.7382 - mse: 156.5393\n",
            "Epoch 69/100\n",
            "2/2 [==============================] - 0s 24ms/step - loss: 23.1004 - mse: 770.7261\n",
            "Epoch 70/100\n",
            "2/2 [==============================] - 0s 23ms/step - loss: 8.8383 - mse: 142.8919\n",
            "Epoch 71/100\n",
            "2/2 [==============================] - 0s 24ms/step - loss: 16.0658 - mse: 352.0786\n",
            "Epoch 72/100\n",
            "2/2 [==============================] - 0s 16ms/step - loss: 7.7520 - mse: 91.2624\n",
            "Epoch 73/100\n",
            "2/2 [==============================] - 0s 20ms/step - loss: 10.1579 - mse: 165.2455\n",
            "Epoch 74/100\n",
            "2/2 [==============================] - 0s 22ms/step - loss: 28.3388 - mse: 1123.9453\n",
            "Epoch 75/100\n",
            "2/2 [==============================] - 0s 18ms/step - loss: 9.9991 - mse: 146.1252\n",
            "Epoch 76/100\n",
            "2/2 [==============================] - 0s 14ms/step - loss: 12.9140 - mse: 207.4259\n",
            "Epoch 77/100\n",
            "2/2 [==============================] - 0s 14ms/step - loss: 17.8732 - mse: 497.7419\n",
            "Epoch 78/100\n",
            "2/2 [==============================] - 0s 14ms/step - loss: 8.9581 - mse: 87.6708\n",
            "Epoch 79/100\n",
            "2/2 [==============================] - 0s 23ms/step - loss: 28.6997 - mse: 1300.4816\n",
            "Epoch 80/100\n",
            "2/2 [==============================] - 0s 28ms/step - loss: 31.0339 - mse: 1529.0841\n",
            "Epoch 81/100\n",
            "2/2 [==============================] - 0s 14ms/step - loss: 13.4015 - mse: 251.1756\n",
            "Epoch 82/100\n",
            "2/2 [==============================] - 0s 11ms/step - loss: 14.5175 - mse: 290.8155\n",
            "Epoch 83/100\n",
            "2/2 [==============================] - 0s 11ms/step - loss: 18.5362 - mse: 453.4206\n",
            "Epoch 84/100\n",
            "2/2 [==============================] - 0s 17ms/step - loss: 8.8113 - mse: 127.9426\n",
            "Epoch 85/100\n",
            "2/2 [==============================] - 0s 30ms/step - loss: 18.4095 - mse: 530.5995\n",
            "Epoch 86/100\n",
            "2/2 [==============================] - 0s 17ms/step - loss: 22.5671 - mse: 728.2350\n",
            "Epoch 87/100\n",
            "2/2 [==============================] - 0s 31ms/step - loss: 11.3688 - mse: 153.8310\n",
            "Epoch 88/100\n",
            "2/2 [==============================] - 0s 15ms/step - loss: 26.5945 - mse: 1010.1953\n",
            "Epoch 89/100\n",
            "2/2 [==============================] - 0s 14ms/step - loss: 9.6549 - mse: 129.6969\n",
            "Epoch 90/100\n",
            "2/2 [==============================] - 0s 10ms/step - loss: 18.7442 - mse: 503.7236\n",
            "Epoch 91/100\n",
            "2/2 [==============================] - 0s 10ms/step - loss: 10.4904 - mse: 164.5228\n",
            "Epoch 92/100\n",
            "2/2 [==============================] - 0s 10ms/step - loss: 17.9726 - mse: 441.8173\n",
            "Epoch 93/100\n",
            "2/2 [==============================] - 0s 13ms/step - loss: 6.5846 - mse: 62.0164\n",
            "Epoch 94/100\n",
            "2/2 [==============================] - 0s 11ms/step - loss: 11.1390 - mse: 152.8106\n",
            "Epoch 95/100\n",
            "2/2 [==============================] - 0s 10ms/step - loss: 24.3204 - mse: 887.2064\n",
            "Epoch 96/100\n",
            "2/2 [==============================] - 0s 12ms/step - loss: 10.7438 - mse: 173.3127\n",
            "Epoch 97/100\n",
            "2/2 [==============================] - 0s 15ms/step - loss: 15.3302 - mse: 355.8827\n",
            "Epoch 98/100\n",
            "2/2 [==============================] - 0s 13ms/step - loss: 8.2607 - mse: 111.9465\n",
            "Epoch 99/100\n",
            "2/2 [==============================] - 0s 11ms/step - loss: 16.4908 - mse: 381.9874\n",
            "Epoch 100/100\n",
            "2/2 [==============================] - 0s 13ms/step - loss: 14.2850 - mse: 294.3099\n"
          ]
        },
        {
          "output_type": "execute_result",
          "data": {
            "text/plain": [
              "<keras.callbacks.History at 0x7f2e465871f0>"
            ]
          },
          "metadata": {},
          "execution_count": 49
        }
      ],
      "source": [
        "# set random seed\n",
        "tf.random.set_seed(42)\n",
        "\n",
        "# 1. Create the model\n",
        "model_2 = tf.keras.Sequential([\n",
        "    tf.keras.layers.Dense(10),\n",
        "    tf.keras.layers.Dense(1)\n",
        "])\n",
        "\n",
        "# 2. Compile the model\n",
        "model_2.compile(loss=tf.keras.losses.mae, optimizer=tf.keras.optimizers.SGD(), metrics=[\"mse\"])\n",
        "\n",
        "# 3. Fit the model\n",
        "model_2.fit(tf.expand_dims(x_train, axis=1), y_train, epochs=100)\n"
      ]
    },
    {
      "cell_type": "code",
      "execution_count": 50,
      "metadata": {
        "colab": {
          "base_uri": "https://localhost:8080/",
          "height": 623
        },
        "id": "TSnn9W-DOM4Q",
        "outputId": "faea5cd1-9b67-4151-a7f9-eee7cc3eca97"
      },
      "outputs": [
        {
          "output_type": "stream",
          "name": "stderr",
          "text": [
            "WARNING:tensorflow:6 out of the last 6 calls to <function Model.make_predict_function.<locals>.predict_function at 0x7f2e46506f80> triggered tf.function retracing. Tracing is expensive and the excessive number of tracings could be due to (1) creating @tf.function repeatedly in a loop, (2) passing tensors with different shapes, (3) passing Python objects instead of tensors. For (1), please define your @tf.function outside of the loop. For (2), @tf.function has reduce_retracing=True option that can avoid unnecessary retracing. For (3), please refer to https://www.tensorflow.org/guide/function#controlling_retracing and https://www.tensorflow.org/api_docs/python/tf/function for  more details.\n"
          ]
        },
        {
          "output_type": "stream",
          "name": "stdout",
          "text": [
            "1/1 [==============================] - 0s 149ms/step\n"
          ]
        },
        {
          "output_type": "display_data",
          "data": {
            "text/plain": [
              "<Figure size 1000x700 with 1 Axes>"
            ],
            "image/png": "[encoded data removed]"
          },
          "metadata": {}
        }
      ],
      "source": [
        "# Make and plot predictions for model_2\n",
        "y_pred_2 = model_2.predict(x_test)\n",
        "plot_predictions(predictions=y_pred_2)"
      ]
    },
    {
      "cell_type": "code",
      "execution_count": 51,
      "metadata": {
        "colab": {
          "base_uri": "https://localhost:8080/"
        },
        "id": "t1Y47IugOM4R",
        "outputId": "31aec3ed-863e-49de-fe72-5d1ba22a5b41"
      },
      "outputs": [
        {
          "output_type": "execute_result",
          "data": {
            "text/plain": [
              "(<tf.Tensor: shape=(), dtype=float32, numpy=10.582297>,\n",
              " <tf.Tensor: shape=(), dtype=float32, numpy=119.722336>)"
            ]
          },
          "metadata": {},
          "execution_count": 51
        }
      ],
      "source": [
        "# Calculate model_2 evaluation metrics\n",
        "mae_2 = mae(y_test, y_pred_2)\n",
        "mse_2 = mse(y_test, y_pred_2)\n",
        "mae_2, mse_2"
      ]
    },
    {
      "cell_type": "markdown",
      "metadata": {
        "id": "id4o_AF9OM4S"
      },
      "source": [
        "**Build `model_3`**"
      ]
    },
    {
      "cell_type": "code",
      "execution_count": 52,
      "metadata": {
        "colab": {
          "base_uri": "https://localhost:8080/"
        },
        "id": "VUvRbEL-OM4S",
        "outputId": "1f08cdb8-ceac-4b9b-aa62-5751f0a225f1"
      },
      "outputs": [
        {
          "output_type": "execute_result",
          "data": {
            "text/plain": [
              "<keras.callbacks.History at 0x7f2e46d57e50>"
            ]
          },
          "metadata": {},
          "execution_count": 52
        }
      ],
      "source": [
        "# set random seed\n",
        "tf.random.set_seed(42)\n",
        "\n",
        "# 1. Create the model\n",
        "model_3 = tf.keras.Sequential([\n",
        "    tf.keras.layers.Dense(10),\n",
        "    tf.keras.layers.Dense(1)\n",
        "])\n",
        "\n",
        "# 2. Compile the model\n",
        "model_3.compile(loss=tf.keras.losses.mae, optimizer=tf.keras.optimizers.SGD(), metrics=[\"mae\"])\n",
        "\n",
        "# 3. Fit the model\n",
        "model_3.fit(tf.expand_dims(x_train, axis=1), y_train, epochs=500, verbose=0)\n"
      ]
    },
    {
      "cell_type": "code",
      "execution_count": 53,
      "metadata": {
        "colab": {
          "base_uri": "https://localhost:8080/",
          "height": 592
        },
        "id": "e78uMVv9OM4T",
        "outputId": "3bba863a-0178-4372-8c22-4b50fd1197a9"
      },
      "outputs": [
        {
          "output_type": "stream",
          "name": "stdout",
          "text": [
            "1/1 [==============================] - 0s 60ms/step\n"
          ]
        },
        {
          "output_type": "display_data",
          "data": {
            "text/plain": [
              "<Figure size 1000x700 with 1 Axes>"
            ],
            "image/png": "[encoded data removed]"
          },
          "metadata": {}
        }
      ],
      "source": [
        "# Make and Plot some predictions\n",
        "y_pred_3 = model_3.predict(x_test)\n",
        "plot_predictions(predictions=y_pred_3)"
      ]
    },
    {
      "cell_type": "code",
      "execution_count": 54,
      "metadata": {
        "colab": {
          "base_uri": "https://localhost:8080/"
        },
        "id": "-v6Qtu6AOM4U",
        "outputId": "77914fc8-1a14-48e4-d0cd-776f98db7daf"
      },
      "outputs": [
        {
          "output_type": "execute_result",
          "data": {
            "text/plain": [
              "(<tf.Tensor: shape=(), dtype=float32, numpy=68.6853>,\n",
              " <tf.Tensor: shape=(), dtype=float32, numpy=4804.0454>)"
            ]
          },
          "metadata": {},
          "execution_count": 54
        }
      ],
      "source": [
        "# Calculate model_3 evaluation metrics\n",
        "mae_3 = mae(y_test, y_pred_3)\n",
        "mse_3 = mse(y_test, y_pred_3)\n",
        "mae_3, mse_3"
      ]
    },
    {
      "cell_type": "markdown",
      "metadata": {
        "id": "vOaKnQxOOM4V"
      },
      "source": [
        "## Comparing results\n",
        "\n",
        "Now we've got results for 3 similar but slightly different results, let's compare them."
      ]
    },
    {
      "cell_type": "code",
      "execution_count": 55,
      "metadata": {
        "colab": {
          "base_uri": "https://localhost:8080/",
          "height": 143
        },
        "id": "S8TNY7J5OM4V",
        "outputId": "85ca5a31-58b3-46f7-d5e3-7c3541d87761"
      },
      "outputs": [
        {
          "output_type": "execute_result",
          "data": {
            "text/plain": [
              "     model        mae          mse\n",
              "0  model_1  30.737202   955.288879\n",
              "1  model_2  10.582297   119.722336\n",
              "2  model_3  68.685303  4804.045410"
            ],
            "text/html": [
              "\n",
              "\n",
              "  <div id=\"df-2367a7bb-5372-4af0-b72e-becaa1133432\">\n",
              "    <div class=\"colab-df-container\">\n",
              "      <div>\n",
              "<style scoped>\n",
              "    .dataframe tbody tr th:only-of-type {\n",
              "        vertical-align: middle;\n",
              "    }\n",
              "\n",
              "    .dataframe tbody tr th {\n",
              "        vertical-align: top;\n",
              "    }\n",
              "\n",
              "    .dataframe thead th {\n",
              "        text-align: right;\n",
              "    }\n",
              "</style>\n",
              "<table border=\"1\" class=\"dataframe\">\n",
              "  <thead>\n",
              "    <tr style=\"text-align: right;\">\n",
              "      <th></th>\n",
              "      <th>model</th>\n",
              "      <th>mae</th>\n",
              "      <th>mse</th>\n",
              "    </tr>\n",
              "  </thead>\n",
              "  <tbody>\n",
              "    <tr>\n",
              "      <th>0</th>\n",
              "      <td>model_1</td>\n",
              "      <td>30.737202</td>\n",
              "      <td>955.288879</td>\n",
              "    </tr>\n",
              "    <tr>\n",
              "      <th>1</th>\n",
              "      <td>model_2</td>\n",
              "      <td>10.582297</td>\n",
              "      <td>119.722336</td>\n",
              "    </tr>\n",
              "    <tr>\n",
              "      <th>2</th>\n",
              "      <td>model_3</td>\n",
              "      <td>68.685303</td>\n",
              "      <td>4804.045410</td>\n",
              "    </tr>\n",
              "  </tbody>\n",
              "</table>\n",
              "</div>\n",
              "      <button class=\"colab-df-convert\" onclick=\"convertToInteractive('df-2367a7bb-5372-4af0-b72e-becaa1133432')\"\n",
              "              title=\"Convert this dataframe to an interactive table.\"\n",
              "              style=\"display:none;\">\n",
              "\n",
              "  <svg xmlns=\"http://www.w3.org/2000/svg\" height=\"24px\"viewBox=\"0 0 24 24\"\n",
              "       width=\"24px\">\n",
              "    <path d=\"M0 0h24v24H0V0z\" fill=\"none\"/>\n",
              "    <path d=\"M18.56 5.44l.94 2.06.94-2.06 2.06-.94-2.06-.94-.94-2.06-.94 2.06-2.06.94zm-11 1L8.5 8.5l.94-2.06 2.06-.94-2.06-.94L8.5 2.5l-.94 2.06-2.06.94zm10 10l.94 2.06.94-2.06 2.06-.94-2.06-.94-.94-2.06-.94 2.06-2.06.94z\"/><path d=\"M17.41 7.96l-1.37-1.37c-.4-.4-.92-.59-1.43-.59-.52 0-1.04.2-1.43.59L10.3 9.45l-7.72 7.72c-.78.78-.78 2.05 0 2.83L4 21.41c.39.39.9.59 1.41.59.51 0 1.02-.2 1.41-.59l7.78-7.78 2.81-2.81c.8-.78.8-2.07 0-2.86zM5.41 20L4 18.59l7.72-7.72 1.47 1.35L5.41 20z\"/>\n",
              "  </svg>\n",
              "      </button>\n",
              "\n",
              "\n",
              "\n",
              "    <div id=\"df-b6133cf7-099f-4440-a948-6a081ff0cfe8\">\n",
              "      <button class=\"colab-df-quickchart\" onclick=\"quickchart('df-b6133cf7-099f-4440-a948-6a081ff0cfe8')\"\n",
              "              title=\"Suggest charts.\"\n",
              "              style=\"display:none;\">\n",
              "\n",
              "<svg xmlns=\"http://www.w3.org/2000/svg\" height=\"24px\"viewBox=\"0 0 24 24\"\n",
              "     width=\"24px\">\n",
              "    <g>\n",
              "        <path d=\"M19 3H5c-1.1 0-2 .9-2 2v14c0 1.1.9 2 2 2h14c1.1 0 2-.9 2-2V5c0-1.1-.9-2-2-2zM9 17H7v-7h2v7zm4 0h-2V7h2v10zm4 0h-2v-4h2v4z\"/>\n",
              "    </g>\n",
              "</svg>\n",
              "      </button>\n",
              "    </div>\n",
              "\n",
              "<style>\n",
              "  .colab-df-quickchart {\n",
              "    background-color: #E8F0FE;\n",
              "    border: none;\n",
              "    border-radius: 50%;\n",
              "    cursor: pointer;\n",
              "    display: none;\n",
              "    fill: #1967D2;\n",
              "    height: 32px;\n",
              "    padding: 0 0 0 0;\n",
              "    width: 32px;\n",
              "  }\n",
              "\n",
              "  .colab-df-quickchart:hover {\n",
              "    background-color: #E2EBFA;\n",
              "    box-shadow: 0px 1px 2px rgba(60, 64, 67, 0.3), 0px 1px 3px 1px rgba(60, 64, 67, 0.15);\n",
              "    fill: #174EA6;\n",
              "  }\n",
              "\n",
              "  [theme=dark] .colab-df-quickchart {\n",
              "    background-color: #3B4455;\n",
              "    fill: #D2E3FC;\n",
              "  }\n",
              "\n",
              "  [theme=dark] .colab-df-quickchart:hover {\n",
              "    background-color: #434B5C;\n",
              "    box-shadow: 0px 1px 3px 1px rgba(0, 0, 0, 0.15);\n",
              "    filter: drop-shadow(0px 1px 2px rgba(0, 0, 0, 0.3));\n",
              "    fill: #FFFFFF;\n",
              "  }\n",
              "</style>\n",
              "\n",
              "    <script>\n",
              "      async function quickchart(key) {\n",
              "        const containerElement = document.querySelector('#' + key);\n",
              "        const charts = await google.colab.kernel.invokeFunction(\n",
              "            'suggestCharts', [key], {});\n",
              "      }\n",
              "    </script>\n",
              "\n",
              "      <script>\n",
              "\n",
              "function displayQuickchartButton(domScope) {\n",
              "  let quickchartButtonEl =\n",
              "    domScope.querySelector('#df-b6133cf7-099f-4440-a948-6a081ff0cfe8 button.colab-df-quickchart');\n",
              "  quickchartButtonEl.style.display =\n",
              "    google.colab.kernel.accessAllowed ? 'block' : 'none';\n",
              "}\n",
              "\n",
              "        displayQuickchartButton(document);\n",
              "      </script>\n",
              "      <style>\n",
              "    .colab-df-container {\n",
              "      display:flex;\n",
              "      flex-wrap:wrap;\n",
              "      gap: 12px;\n",
              "    }\n",
              "\n",
              "    .colab-df-convert {\n",
              "      background-color: #E8F0FE;\n",
              "      border: none;\n",
              "      border-radius: 50%;\n",
              "      cursor: pointer;\n",
              "      display: none;\n",
              "      fill: #1967D2;\n",
              "      height: 32px;\n",
              "      padding: 0 0 0 0;\n",
              "      width: 32px;\n",
              "    }\n",
              "\n",
              "    .colab-df-convert:hover {\n",
              "      background-color: #E2EBFA;\n",
              "      box-shadow: 0px 1px 2px rgba(60, 64, 67, 0.3), 0px 1px 3px 1px rgba(60, 64, 67, 0.15);\n",
              "      fill: #174EA6;\n",
              "    }\n",
              "\n",
              "    [theme=dark] .colab-df-convert {\n",
              "      background-color: #3B4455;\n",
              "      fill: #D2E3FC;\n",
              "    }\n",
              "\n",
              "    [theme=dark] .colab-df-convert:hover {\n",
              "      background-color: #434B5C;\n",
              "      box-shadow: 0px 1px 3px 1px rgba(0, 0, 0, 0.15);\n",
              "      filter: drop-shadow(0px 1px 2px rgba(0, 0, 0, 0.3));\n",
              "      fill: #FFFFFF;\n",
              "    }\n",
              "  </style>\n",
              "\n",
              "      <script>\n",
              "        const buttonEl =\n",
              "          document.querySelector('#df-2367a7bb-5372-4af0-b72e-becaa1133432 button.colab-df-convert');\n",
              "        buttonEl.style.display =\n",
              "          google.colab.kernel.accessAllowed ? 'block' : 'none';\n",
              "\n",
              "        async function convertToInteractive(key) {\n",
              "          const element = document.querySelector('#df-2367a7bb-5372-4af0-b72e-becaa1133432');\n",
              "          const dataTable =\n",
              "            await google.colab.kernel.invokeFunction('convertToInteractive',\n",
              "                                                     [key], {});\n",
              "          if (!dataTable) return;\n",
              "\n",
              "          const docLinkHtml = 'Like what you see? Visit the ' +\n",
              "            '<a target=\"_blank\" href=https://colab.research.google.com/notebooks/data_table.ipynb>data table notebook</a>'\n",
              "            + ' to learn more about interactive tables.';\n",
              "          element.innerHTML = '';\n",
              "          dataTable['output_type'] = 'display_data';\n",
              "          await google.colab.output.renderOutput(dataTable, element);\n",
              "          const docLink = document.createElement('div');\n",
              "          docLink.innerHTML = docLinkHtml;\n",
              "          element.appendChild(docLink);\n",
              "        }\n",
              "      </script>\n",
              "    </div>\n",
              "  </div>\n"
            ]
          },
          "metadata": {},
          "execution_count": 55
        }
      ],
      "source": [
        "# Lets's compare our model's results using a pandas DataFrame\n",
        "import pandas as pd\n",
        "\n",
        "model_results = [[\"model_1\", mae_1.numpy(), mse_1.numpy()],\n",
        "                 [\"model_2\", mae_2.numpy(), mse_2.numpy()],\n",
        "                 [\"model_3\", mae_3.numpy(), mse_3.numpy()]]\n",
        "\n",
        "all_results = pd.DataFrame(model_results, columns=[\"model\", \"mae\", \"mse\"])\n",
        "all_results"
      ]
    },
    {
      "cell_type": "markdown",
      "metadata": {
        "id": "aUSrtOpMOM4W"
      },
      "source": [
        "Looks like model_2 performed the best"
      ]
    },
    {
      "cell_type": "code",
      "execution_count": 56,
      "metadata": {
        "colab": {
          "base_uri": "https://localhost:8080/"
        },
        "id": "l6TjzdtwOM4W",
        "outputId": "b0e385f9-f9ea-4b26-98ff-97bb28eccf4e"
      },
      "outputs": [
        {
          "output_type": "stream",
          "name": "stdout",
          "text": [
            "Model: \"sequential_5\"\n",
            "_________________________________________________________________\n",
            " Layer (type)                Output Shape              Param #   \n",
            "=================================================================\n",
            " dense_6 (Dense)             (None, 10)                20        \n",
            "                                                                 \n",
            " dense_7 (Dense)             (None, 1)                 11        \n",
            "                                                                 \n",
            "=================================================================\n",
            "Total params: 31\n",
            "Trainable params: 31\n",
            "Non-trainable params: 0\n",
            "_________________________________________________________________\n"
          ]
        }
      ],
      "source": [
        "model_2.summary()"
      ]
    },
    {
      "cell_type": "markdown",
      "metadata": {
        "id": "39lvTk71OM4X"
      },
      "source": [
        "## Saving Our Models"
      ]
    },
    {
      "cell_type": "code",
      "execution_count": 57,
      "metadata": {
        "colab": {
          "base_uri": "https://localhost:8080/"
        },
        "id": "bZItbgYvOM4X",
        "outputId": "0ba8907b-9d44-4c9a-a5d5-ed475eeb8419"
      },
      "outputs": [
        {
          "output_type": "stream",
          "name": "stderr",
          "text": [
            "WARNING:absl:Found untraced functions such as _update_step_xla while saving (showing 1 of 1). These functions will not be directly callable after loading.\n"
          ]
        }
      ],
      "source": [
        "# Save Model using the savemodal format\n",
        "model_2.save(\"best_model_savedModel_format\")"
      ]
    },
    {
      "cell_type": "code",
      "execution_count": 58,
      "metadata": {
        "id": "Q6zxQeJXPlQn"
      },
      "outputs": [],
      "source": [
        "# save model using the hdf5 format\n",
        "model_2.save(\"best_model_HDF5_format.h5\")"
      ]
    },
    {
      "cell_type": "markdown",
      "metadata": {
        "id": "ifktdcGgQSCV"
      },
      "source": [
        "# Loading in a saved model"
      ]
    },
    {
      "cell_type": "code",
      "execution_count": 59,
      "metadata": {
        "colab": {
          "base_uri": "https://localhost:8080/"
        },
        "id": "KdQM67A_RjYu",
        "outputId": "2697fefe-23c1-419e-cbc1-5698cd2c395c"
      },
      "outputs": [
        {
          "output_type": "stream",
          "name": "stdout",
          "text": [
            "Model: \"sequential_5\"\n",
            "_________________________________________________________________\n",
            " Layer (type)                Output Shape              Param #   \n",
            "=================================================================\n",
            " dense_6 (Dense)             (None, 10)                20        \n",
            "                                                                 \n",
            " dense_7 (Dense)             (None, 1)                 11        \n",
            "                                                                 \n",
            "=================================================================\n",
            "Total params: 31\n",
            "Trainable params: 31\n",
            "Non-trainable params: 0\n",
            "_________________________________________________________________\n"
          ]
        }
      ],
      "source": [
        "# load in the savedModel format model\n",
        "loaded_SavedModel_format = tf.keras.models.load_model(\"best_model_savedModel_format\")\n",
        "loaded_SavedModel_format.summary()"
      ]
    },
    {
      "cell_type": "code",
      "execution_count": 60,
      "metadata": {
        "colab": {
          "base_uri": "https://localhost:8080/"
        },
        "id": "hWsDrmy1R_oW",
        "outputId": "b348c7bd-aab7-429e-8a3e-540ae8af9122"
      },
      "outputs": [
        {
          "output_type": "stream",
          "name": "stdout",
          "text": [
            "1/1 [==============================] - 0s 51ms/step\n",
            "1/1 [==============================] - 0s 61ms/step\n"
          ]
        },
        {
          "output_type": "execute_result",
          "data": {
            "text/plain": [
              "array([[ True],\n",
              "       [ True],\n",
              "       [ True],\n",
              "       [ True],\n",
              "       [ True],\n",
              "       [ True],\n",
              "       [ True],\n",
              "       [ True],\n",
              "       [ True],\n",
              "       [ True]])"
            ]
          },
          "metadata": {},
          "execution_count": 60
        }
      ],
      "source": [
        "# Compare model_2 predictions with saved model format model predictions\n",
        "model_2_preds = model_2.predict(x_test)\n",
        "loaded_SavedModel_format_preds = loaded_SavedModel_format.predict(x_test)\n",
        "model_2_preds == loaded_SavedModel_format_preds"
      ]
    },
    {
      "cell_type": "code",
      "execution_count": 61,
      "metadata": {
        "colab": {
          "base_uri": "https://localhost:8080/"
        },
        "id": "W47MLMr4SGRL",
        "outputId": "f6befaaa-cc42-4952-87b8-3aff419fbdd0"
      },
      "outputs": [
        {
          "output_type": "stream",
          "name": "stdout",
          "text": [
            "Model: \"sequential_5\"\n",
            "_________________________________________________________________\n",
            " Layer (type)                Output Shape              Param #   \n",
            "=================================================================\n",
            " dense_6 (Dense)             (None, 10)                20        \n",
            "                                                                 \n",
            " dense_7 (Dense)             (None, 1)                 11        \n",
            "                                                                 \n",
            "=================================================================\n",
            "Total params: 31\n",
            "Trainable params: 31\n",
            "Non-trainable params: 0\n",
            "_________________________________________________________________\n"
          ]
        }
      ],
      "source": [
        "# load in a model doing h5 format\n",
        "loaded_h5_model = tf.keras.models.load_model(\"best_model_HDF5_format.h5\")\n",
        "loaded_h5_model.summary()"
      ]
    },
    {
      "cell_type": "code",
      "execution_count": 62,
      "metadata": {
        "colab": {
          "base_uri": "https://localhost:8080/"
        },
        "id": "whyXhoCwTIUD",
        "outputId": "0a7cf116-af00-476c-c8f2-f4e81e607759"
      },
      "outputs": [
        {
          "output_type": "stream",
          "name": "stdout",
          "text": [
            "1/1 [==============================] - 0s 22ms/step\n",
            "1/1 [==============================] - 0s 56ms/step\n"
          ]
        },
        {
          "output_type": "execute_result",
          "data": {
            "text/plain": [
              "array([[ True],\n",
              "       [ True],\n",
              "       [ True],\n",
              "       [ True],\n",
              "       [ True],\n",
              "       [ True],\n",
              "       [ True],\n",
              "       [ True],\n",
              "       [ True],\n",
              "       [ True]])"
            ]
          },
          "metadata": {},
          "execution_count": 62
        }
      ],
      "source": [
        "model_2_preds = model_2.predict(x_test)\n",
        "loaded_h5_model_preds = loaded_h5_model.predict(x_test)\n",
        "model_2_preds == loaded_h5_model_preds"
      ]
    },
    {
      "cell_type": "code",
      "execution_count": 62,
      "metadata": {
        "id": "vTvLf_ZXneTv"
      },
      "outputs": [],
      "source": []
    },
    {
      "cell_type": "markdown",
      "metadata": {
        "id": "fD564j2-neTv"
      },
      "source": [
        "# A larger example"
      ]
    },
    {
      "cell_type": "code",
      "execution_count": 63,
      "metadata": {
        "id": "90RvgSPCUFrW"
      },
      "outputs": [],
      "source": [
        "# Import the required libraries\n",
        "import tensorflow as tf\n",
        "import pandas as pd\n",
        "import matplotlib.pyplot as plt"
      ]
    },
    {
      "cell_type": "code",
      "execution_count": 64,
      "metadata": {
        "id": "19xToG2OneTw",
        "outputId": "63beff29-f09c-4c60-efab-58b155026641",
        "colab": {
          "base_uri": "https://localhost:8080/",
          "height": 423
        }
      },
      "outputs": [
        {
          "output_type": "execute_result",
          "data": {
            "text/plain": [
              "      age     sex     bmi  children smoker     region      charges\n",
              "0      19  female  27.900         0    yes  southwest  16884.92400\n",
              "1      18    male  33.770         1     no  southeast   1725.55230\n",
              "2      28    male  33.000         3     no  southeast   4449.46200\n",
              "3      33    male  22.705         0     no  northwest  21984.47061\n",
              "4      32    male  28.880         0     no  northwest   3866.85520\n",
              "...   ...     ...     ...       ...    ...        ...          ...\n",
              "1333   50    male  30.970         3     no  northwest  10600.54830\n",
              "1334   18  female  31.920         0     no  northeast   2205.98080\n",
              "1335   18  female  36.850         0     no  southeast   1629.83350\n",
              "1336   21  female  25.800         0     no  southwest   2007.94500\n",
              "1337   61  female  29.070         0    yes  northwest  29141.36030\n",
              "\n",
              "[1338 rows x 7 columns]"
            ],
            "text/html": [
              "\n",
              "\n",
              "  <div id=\"df-d9f48ec1-4dca-491c-90cc-ec3df8d3c400\">\n",
              "    <div class=\"colab-df-container\">\n",
              "      <div>\n",
              "<style scoped>\n",
              "    .dataframe tbody tr th:only-of-type {\n",
              "        vertical-align: middle;\n",
              "    }\n",
              "\n",
              "    .dataframe tbody tr th {\n",
              "        vertical-align: top;\n",
              "    }\n",
              "\n",
              "    .dataframe thead th {\n",
              "        text-align: right;\n",
              "    }\n",
              "</style>\n",
              "<table border=\"1\" class=\"dataframe\">\n",
              "  <thead>\n",
              "    <tr style=\"text-align: right;\">\n",
              "      <th></th>\n",
              "      <th>age</th>\n",
              "      <th>sex</th>\n",
              "      <th>bmi</th>\n",
              "      <th>children</th>\n",
              "      <th>smoker</th>\n",
              "      <th>region</th>\n",
              "      <th>charges</th>\n",
              "    </tr>\n",
              "  </thead>\n",
              "  <tbody>\n",
              "    <tr>\n",
              "      <th>0</th>\n",
              "      <td>19</td>\n",
              "      <td>female</td>\n",
              "      <td>27.900</td>\n",
              "      <td>0</td>\n",
              "      <td>yes</td>\n",
              "      <td>southwest</td>\n",
              "      <td>16884.92400</td>\n",
              "    </tr>\n",
              "    <tr>\n",
              "      <th>1</th>\n",
              "      <td>18</td>\n",
              "      <td>male</td>\n",
              "      <td>33.770</td>\n",
              "      <td>1</td>\n",
              "      <td>no</td>\n",
              "      <td>southeast</td>\n",
              "      <td>1725.55230</td>\n",
              "    </tr>\n",
              "    <tr>\n",
              "      <th>2</th>\n",
              "      <td>28</td>\n",
              "      <td>male</td>\n",
              "      <td>33.000</td>\n",
              "      <td>3</td>\n",
              "      <td>no</td>\n",
              "      <td>southeast</td>\n",
              "      <td>4449.46200</td>\n",
              "    </tr>\n",
              "    <tr>\n",
              "      <th>3</th>\n",
              "      <td>33</td>\n",
              "      <td>male</td>\n",
              "      <td>22.705</td>\n",
              "      <td>0</td>\n",
              "      <td>no</td>\n",
              "      <td>northwest</td>\n",
              "      <td>21984.47061</td>\n",
              "    </tr>\n",
              "    <tr>\n",
              "      <th>4</th>\n",
              "      <td>32</td>\n",
              "      <td>male</td>\n",
              "      <td>28.880</td>\n",
              "      <td>0</td>\n",
              "      <td>no</td>\n",
              "      <td>northwest</td>\n",
              "      <td>3866.85520</td>\n",
              "    </tr>\n",
              "    <tr>\n",
              "      <th>...</th>\n",
              "      <td>...</td>\n",
              "      <td>...</td>\n",
              "      <td>...</td>\n",
              "      <td>...</td>\n",
              "      <td>...</td>\n",
              "      <td>...</td>\n",
              "      <td>...</td>\n",
              "    </tr>\n",
              "    <tr>\n",
              "      <th>1333</th>\n",
              "      <td>50</td>\n",
              "      <td>male</td>\n",
              "      <td>30.970</td>\n",
              "      <td>3</td>\n",
              "      <td>no</td>\n",
              "      <td>northwest</td>\n",
              "      <td>10600.54830</td>\n",
              "    </tr>\n",
              "    <tr>\n",
              "      <th>1334</th>\n",
              "      <td>18</td>\n",
              "      <td>female</td>\n",
              "      <td>31.920</td>\n",
              "      <td>0</td>\n",
              "      <td>no</td>\n",
              "      <td>northeast</td>\n",
              "      <td>2205.98080</td>\n",
              "    </tr>\n",
              "    <tr>\n",
              "      <th>1335</th>\n",
              "      <td>18</td>\n",
              "      <td>female</td>\n",
              "      <td>36.850</td>\n",
              "      <td>0</td>\n",
              "      <td>no</td>\n",
              "      <td>southeast</td>\n",
              "      <td>1629.83350</td>\n",
              "    </tr>\n",
              "    <tr>\n",
              "      <th>1336</th>\n",
              "      <td>21</td>\n",
              "      <td>female</td>\n",
              "      <td>25.800</td>\n",
              "      <td>0</td>\n",
              "      <td>no</td>\n",
              "      <td>southwest</td>\n",
              "      <td>2007.94500</td>\n",
              "    </tr>\n",
              "    <tr>\n",
              "      <th>1337</th>\n",
              "      <td>61</td>\n",
              "      <td>female</td>\n",
              "      <td>29.070</td>\n",
              "      <td>0</td>\n",
              "      <td>yes</td>\n",
              "      <td>northwest</td>\n",
              "      <td>29141.36030</td>\n",
              "    </tr>\n",
              "  </tbody>\n",
              "</table>\n",
              "<p>1338 rows × 7 columns</p>\n",
              "</div>\n",
              "      <button class=\"colab-df-convert\" onclick=\"convertToInteractive('df-d9f48ec1-4dca-491c-90cc-ec3df8d3c400')\"\n",
              "              title=\"Convert this dataframe to an interactive table.\"\n",
              "              style=\"display:none;\">\n",
              "\n",
              "  <svg xmlns=\"http://www.w3.org/2000/svg\" height=\"24px\"viewBox=\"0 0 24 24\"\n",
              "       width=\"24px\">\n",
              "    <path d=\"M0 0h24v24H0V0z\" fill=\"none\"/>\n",
              "    <path d=\"M18.56 5.44l.94 2.06.94-2.06 2.06-.94-2.06-.94-.94-2.06-.94 2.06-2.06.94zm-11 1L8.5 8.5l.94-2.06 2.06-.94-2.06-.94L8.5 2.5l-.94 2.06-2.06.94zm10 10l.94 2.06.94-2.06 2.06-.94-2.06-.94-.94-2.06-.94 2.06-2.06.94z\"/><path d=\"M17.41 7.96l-1.37-1.37c-.4-.4-.92-.59-1.43-.59-.52 0-1.04.2-1.43.59L10.3 9.45l-7.72 7.72c-.78.78-.78 2.05 0 2.83L4 21.41c.39.39.9.59 1.41.59.51 0 1.02-.2 1.41-.59l7.78-7.78 2.81-2.81c.8-.78.8-2.07 0-2.86zM5.41 20L4 18.59l7.72-7.72 1.47 1.35L5.41 20z\"/>\n",
              "  </svg>\n",
              "      </button>\n",
              "\n",
              "\n",
              "\n",
              "    <div id=\"df-0049092a-f50b-4946-8d72-38f2063e6acc\">\n",
              "      <button class=\"colab-df-quickchart\" onclick=\"quickchart('df-0049092a-f50b-4946-8d72-38f2063e6acc')\"\n",
              "              title=\"Suggest charts.\"\n",
              "              style=\"display:none;\">\n",
              "\n",
              "<svg xmlns=\"http://www.w3.org/2000/svg\" height=\"24px\"viewBox=\"0 0 24 24\"\n",
              "     width=\"24px\">\n",
              "    <g>\n",
              "        <path d=\"M19 3H5c-1.1 0-2 .9-2 2v14c0 1.1.9 2 2 2h14c1.1 0 2-.9 2-2V5c0-1.1-.9-2-2-2zM9 17H7v-7h2v7zm4 0h-2V7h2v10zm4 0h-2v-4h2v4z\"/>\n",
              "    </g>\n",
              "</svg>\n",
              "      </button>\n",
              "    </div>\n",
              "\n",
              "<style>\n",
              "  .colab-df-quickchart {\n",
              "    background-color: #E8F0FE;\n",
              "    border: none;\n",
              "    border-radius: 50%;\n",
              "    cursor: pointer;\n",
              "    display: none;\n",
              "    fill: #1967D2;\n",
              "    height: 32px;\n",
              "    padding: 0 0 0 0;\n",
              "    width: 32px;\n",
              "  }\n",
              "\n",
              "  .colab-df-quickchart:hover {\n",
              "    background-color: #E2EBFA;\n",
              "    box-shadow: 0px 1px 2px rgba(60, 64, 67, 0.3), 0px 1px 3px 1px rgba(60, 64, 67, 0.15);\n",
              "    fill: #174EA6;\n",
              "  }\n",
              "\n",
              "  [theme=dark] .colab-df-quickchart {\n",
              "    background-color: #3B4455;\n",
              "    fill: #D2E3FC;\n",
              "  }\n",
              "\n",
              "  [theme=dark] .colab-df-quickchart:hover {\n",
              "    background-color: #434B5C;\n",
              "    box-shadow: 0px 1px 3px 1px rgba(0, 0, 0, 0.15);\n",
              "    filter: drop-shadow(0px 1px 2px rgba(0, 0, 0, 0.3));\n",
              "    fill: #FFFFFF;\n",
              "  }\n",
              "</style>\n",
              "\n",
              "    <script>\n",
              "      async function quickchart(key) {\n",
              "        const containerElement = document.querySelector('#' + key);\n",
              "        const charts = await google.colab.kernel.invokeFunction(\n",
              "            'suggestCharts', [key], {});\n",
              "      }\n",
              "    </script>\n",
              "\n",
              "      <script>\n",
              "\n",
              "function displayQuickchartButton(domScope) {\n",
              "  let quickchartButtonEl =\n",
              "    domScope.querySelector('#df-0049092a-f50b-4946-8d72-38f2063e6acc button.colab-df-quickchart');\n",
              "  quickchartButtonEl.style.display =\n",
              "    google.colab.kernel.accessAllowed ? 'block' : 'none';\n",
              "}\n",
              "\n",
              "        displayQuickchartButton(document);\n",
              "      </script>\n",
              "      <style>\n",
              "    .colab-df-container {\n",
              "      display:flex;\n",
              "      flex-wrap:wrap;\n",
              "      gap: 12px;\n",
              "    }\n",
              "\n",
              "    .colab-df-convert {\n",
              "      background-color: #E8F0FE;\n",
              "      border: none;\n",
              "      border-radius: 50%;\n",
              "      cursor: pointer;\n",
              "      display: none;\n",
              "      fill: #1967D2;\n",
              "      height: 32px;\n",
              "      padding: 0 0 0 0;\n",
              "      width: 32px;\n",
              "    }\n",
              "\n",
              "    .colab-df-convert:hover {\n",
              "      background-color: #E2EBFA;\n",
              "      box-shadow: 0px 1px 2px rgba(60, 64, 67, 0.3), 0px 1px 3px 1px rgba(60, 64, 67, 0.15);\n",
              "      fill: #174EA6;\n",
              "    }\n",
              "\n",
              "    [theme=dark] .colab-df-convert {\n",
              "      background-color: #3B4455;\n",
              "      fill: #D2E3FC;\n",
              "    }\n",
              "\n",
              "    [theme=dark] .colab-df-convert:hover {\n",
              "      background-color: #434B5C;\n",
              "      box-shadow: 0px 1px 3px 1px rgba(0, 0, 0, 0.15);\n",
              "      filter: drop-shadow(0px 1px 2px rgba(0, 0, 0, 0.3));\n",
              "      fill: #FFFFFF;\n",
              "    }\n",
              "  </style>\n",
              "\n",
              "      <script>\n",
              "        const buttonEl =\n",
              "          document.querySelector('#df-d9f48ec1-4dca-491c-90cc-ec3df8d3c400 button.colab-df-convert');\n",
              "        buttonEl.style.display =\n",
              "          google.colab.kernel.accessAllowed ? 'block' : 'none';\n",
              "\n",
              "        async function convertToInteractive(key) {\n",
              "          const element = document.querySelector('#df-d9f48ec1-4dca-491c-90cc-ec3df8d3c400');\n",
              "          const dataTable =\n",
              "            await google.colab.kernel.invokeFunction('convertToInteractive',\n",
              "                                                     [key], {});\n",
              "          if (!dataTable) return;\n",
              "\n",
              "          const docLinkHtml = 'Like what you see? Visit the ' +\n",
              "            '<a target=\"_blank\" href=https://colab.research.google.com/notebooks/data_table.ipynb>data table notebook</a>'\n",
              "            + ' to learn more about interactive tables.';\n",
              "          element.innerHTML = '';\n",
              "          dataTable['output_type'] = 'display_data';\n",
              "          await google.colab.output.renderOutput(dataTable, element);\n",
              "          const docLink = document.createElement('div');\n",
              "          docLink.innerHTML = docLinkHtml;\n",
              "          element.appendChild(docLink);\n",
              "        }\n",
              "      </script>\n",
              "    </div>\n",
              "  </div>\n"
            ]
          },
          "metadata": {},
          "execution_count": 64
        }
      ],
      "source": [
        "# Read in the insurance dataset\n",
        "insurance = pd.read_csv(\"https://raw.githubusercontent.com/stedy/Machine-Learning-with-R-datasets/master/insurance.csv\")\n",
        "insurance"
      ]
    },
    {
      "cell_type": "code",
      "execution_count": 65,
      "metadata": {
        "id": "xCzLxo7GneTw",
        "outputId": "0849a816-f470-47fd-e9d7-78658601bd0f",
        "colab": {
          "base_uri": "https://localhost:8080/",
          "height": 270
        }
      },
      "outputs": [
        {
          "output_type": "execute_result",
          "data": {
            "text/plain": [
              "   age     bmi  children      charges  sex_female  sex_male  smoker_no  \\\n",
              "0   19  27.900         0  16884.92400           1         0          0   \n",
              "1   18  33.770         1   1725.55230           0         1          1   \n",
              "2   28  33.000         3   4449.46200           0         1          1   \n",
              "3   33  22.705         0  21984.47061           0         1          1   \n",
              "4   32  28.880         0   3866.85520           0         1          1   \n",
              "\n",
              "   smoker_yes  region_northeast  region_northwest  region_southeast  \\\n",
              "0           1                 0                 0                 0   \n",
              "1           0                 0                 0                 1   \n",
              "2           0                 0                 0                 1   \n",
              "3           0                 0                 1                 0   \n",
              "4           0                 0                 1                 0   \n",
              "\n",
              "   region_southwest  \n",
              "0                 1  \n",
              "1                 0  \n",
              "2                 0  \n",
              "3                 0  \n",
              "4                 0  "
            ],
            "text/html": [
              "\n",
              "\n",
              "  <div id=\"df-22677f63-4baf-4746-ad9f-e26cd9b477fb\">\n",
              "    <div class=\"colab-df-container\">\n",
              "      <div>\n",
              "<style scoped>\n",
              "    .dataframe tbody tr th:only-of-type {\n",
              "        vertical-align: middle;\n",
              "    }\n",
              "\n",
              "    .dataframe tbody tr th {\n",
              "        vertical-align: top;\n",
              "    }\n",
              "\n",
              "    .dataframe thead th {\n",
              "        text-align: right;\n",
              "    }\n",
              "</style>\n",
              "<table border=\"1\" class=\"dataframe\">\n",
              "  <thead>\n",
              "    <tr style=\"text-align: right;\">\n",
              "      <th></th>\n",
              "      <th>age</th>\n",
              "      <th>bmi</th>\n",
              "      <th>children</th>\n",
              "      <th>charges</th>\n",
              "      <th>sex_female</th>\n",
              "      <th>sex_male</th>\n",
              "      <th>smoker_no</th>\n",
              "      <th>smoker_yes</th>\n",
              "      <th>region_northeast</th>\n",
              "      <th>region_northwest</th>\n",
              "      <th>region_southeast</th>\n",
              "      <th>region_southwest</th>\n",
              "    </tr>\n",
              "  </thead>\n",
              "  <tbody>\n",
              "    <tr>\n",
              "      <th>0</th>\n",
              "      <td>19</td>\n",
              "      <td>27.900</td>\n",
              "      <td>0</td>\n",
              "      <td>16884.92400</td>\n",
              "      <td>1</td>\n",
              "      <td>0</td>\n",
              "      <td>0</td>\n",
              "      <td>1</td>\n",
              "      <td>0</td>\n",
              "      <td>0</td>\n",
              "      <td>0</td>\n",
              "      <td>1</td>\n",
              "    </tr>\n",
              "    <tr>\n",
              "      <th>1</th>\n",
              "      <td>18</td>\n",
              "      <td>33.770</td>\n",
              "      <td>1</td>\n",
              "      <td>1725.55230</td>\n",
              "      <td>0</td>\n",
              "      <td>1</td>\n",
              "      <td>1</td>\n",
              "      <td>0</td>\n",
              "      <td>0</td>\n",
              "      <td>0</td>\n",
              "      <td>1</td>\n",
              "      <td>0</td>\n",
              "    </tr>\n",
              "    <tr>\n",
              "      <th>2</th>\n",
              "      <td>28</td>\n",
              "      <td>33.000</td>\n",
              "      <td>3</td>\n",
              "      <td>4449.46200</td>\n",
              "      <td>0</td>\n",
              "      <td>1</td>\n",
              "      <td>1</td>\n",
              "      <td>0</td>\n",
              "      <td>0</td>\n",
              "      <td>0</td>\n",
              "      <td>1</td>\n",
              "      <td>0</td>\n",
              "    </tr>\n",
              "    <tr>\n",
              "      <th>3</th>\n",
              "      <td>33</td>\n",
              "      <td>22.705</td>\n",
              "      <td>0</td>\n",
              "      <td>21984.47061</td>\n",
              "      <td>0</td>\n",
              "      <td>1</td>\n",
              "      <td>1</td>\n",
              "      <td>0</td>\n",
              "      <td>0</td>\n",
              "      <td>1</td>\n",
              "      <td>0</td>\n",
              "      <td>0</td>\n",
              "    </tr>\n",
              "    <tr>\n",
              "      <th>4</th>\n",
              "      <td>32</td>\n",
              "      <td>28.880</td>\n",
              "      <td>0</td>\n",
              "      <td>3866.85520</td>\n",
              "      <td>0</td>\n",
              "      <td>1</td>\n",
              "      <td>1</td>\n",
              "      <td>0</td>\n",
              "      <td>0</td>\n",
              "      <td>1</td>\n",
              "      <td>0</td>\n",
              "      <td>0</td>\n",
              "    </tr>\n",
              "  </tbody>\n",
              "</table>\n",
              "</div>\n",
              "      <button class=\"colab-df-convert\" onclick=\"convertToInteractive('df-22677f63-4baf-4746-ad9f-e26cd9b477fb')\"\n",
              "              title=\"Convert this dataframe to an interactive table.\"\n",
              "              style=\"display:none;\">\n",
              "\n",
              "  <svg xmlns=\"http://www.w3.org/2000/svg\" height=\"24px\"viewBox=\"0 0 24 24\"\n",
              "       width=\"24px\">\n",
              "    <path d=\"M0 0h24v24H0V0z\" fill=\"none\"/>\n",
              "    <path d=\"M18.56 5.44l.94 2.06.94-2.06 2.06-.94-2.06-.94-.94-2.06-.94 2.06-2.06.94zm-11 1L8.5 8.5l.94-2.06 2.06-.94-2.06-.94L8.5 2.5l-.94 2.06-2.06.94zm10 10l.94 2.06.94-2.06 2.06-.94-2.06-.94-.94-2.06-.94 2.06-2.06.94z\"/><path d=\"M17.41 7.96l-1.37-1.37c-.4-.4-.92-.59-1.43-.59-.52 0-1.04.2-1.43.59L10.3 9.45l-7.72 7.72c-.78.78-.78 2.05 0 2.83L4 21.41c.39.39.9.59 1.41.59.51 0 1.02-.2 1.41-.59l7.78-7.78 2.81-2.81c.8-.78.8-2.07 0-2.86zM5.41 20L4 18.59l7.72-7.72 1.47 1.35L5.41 20z\"/>\n",
              "  </svg>\n",
              "      </button>\n",
              "\n",
              "\n",
              "\n",
              "    <div id=\"df-38c96053-3623-479c-8afd-59757bf08eac\">\n",
              "      <button class=\"colab-df-quickchart\" onclick=\"quickchart('df-38c96053-3623-479c-8afd-59757bf08eac')\"\n",
              "              title=\"Suggest charts.\"\n",
              "              style=\"display:none;\">\n",
              "\n",
              "<svg xmlns=\"http://www.w3.org/2000/svg\" height=\"24px\"viewBox=\"0 0 24 24\"\n",
              "     width=\"24px\">\n",
              "    <g>\n",
              "        <path d=\"M19 3H5c-1.1 0-2 .9-2 2v14c0 1.1.9 2 2 2h14c1.1 0 2-.9 2-2V5c0-1.1-.9-2-2-2zM9 17H7v-7h2v7zm4 0h-2V7h2v10zm4 0h-2v-4h2v4z\"/>\n",
              "    </g>\n",
              "</svg>\n",
              "      </button>\n",
              "    </div>\n",
              "\n",
              "<style>\n",
              "  .colab-df-quickchart {\n",
              "    background-color: #E8F0FE;\n",
              "    border: none;\n",
              "    border-radius: 50%;\n",
              "    cursor: pointer;\n",
              "    display: none;\n",
              "    fill: #1967D2;\n",
              "    height: 32px;\n",
              "    padding: 0 0 0 0;\n",
              "    width: 32px;\n",
              "  }\n",
              "\n",
              "  .colab-df-quickchart:hover {\n",
              "    background-color: #E2EBFA;\n",
              "    box-shadow: 0px 1px 2px rgba(60, 64, 67, 0.3), 0px 1px 3px 1px rgba(60, 64, 67, 0.15);\n",
              "    fill: #174EA6;\n",
              "  }\n",
              "\n",
              "  [theme=dark] .colab-df-quickchart {\n",
              "    background-color: #3B4455;\n",
              "    fill: #D2E3FC;\n",
              "  }\n",
              "\n",
              "  [theme=dark] .colab-df-quickchart:hover {\n",
              "    background-color: #434B5C;\n",
              "    box-shadow: 0px 1px 3px 1px rgba(0, 0, 0, 0.15);\n",
              "    filter: drop-shadow(0px 1px 2px rgba(0, 0, 0, 0.3));\n",
              "    fill: #FFFFFF;\n",
              "  }\n",
              "</style>\n",
              "\n",
              "    <script>\n",
              "      async function quickchart(key) {\n",
              "        const containerElement = document.querySelector('#' + key);\n",
              "        const charts = await google.colab.kernel.invokeFunction(\n",
              "            'suggestCharts', [key], {});\n",
              "      }\n",
              "    </script>\n",
              "\n",
              "      <script>\n",
              "\n",
              "function displayQuickchartButton(domScope) {\n",
              "  let quickchartButtonEl =\n",
              "    domScope.querySelector('#df-38c96053-3623-479c-8afd-59757bf08eac button.colab-df-quickchart');\n",
              "  quickchartButtonEl.style.display =\n",
              "    google.colab.kernel.accessAllowed ? 'block' : 'none';\n",
              "}\n",
              "\n",
              "        displayQuickchartButton(document);\n",
              "      </script>\n",
              "      <style>\n",
              "    .colab-df-container {\n",
              "      display:flex;\n",
              "      flex-wrap:wrap;\n",
              "      gap: 12px;\n",
              "    }\n",
              "\n",
              "    .colab-df-convert {\n",
              "      background-color: #E8F0FE;\n",
              "      border: none;\n",
              "      border-radius: 50%;\n",
              "      cursor: pointer;\n",
              "      display: none;\n",
              "      fill: #1967D2;\n",
              "      height: 32px;\n",
              "      padding: 0 0 0 0;\n",
              "      width: 32px;\n",
              "    }\n",
              "\n",
              "    .colab-df-convert:hover {\n",
              "      background-color: #E2EBFA;\n",
              "      box-shadow: 0px 1px 2px rgba(60, 64, 67, 0.3), 0px 1px 3px 1px rgba(60, 64, 67, 0.15);\n",
              "      fill: #174EA6;\n",
              "    }\n",
              "\n",
              "    [theme=dark] .colab-df-convert {\n",
              "      background-color: #3B4455;\n",
              "      fill: #D2E3FC;\n",
              "    }\n",
              "\n",
              "    [theme=dark] .colab-df-convert:hover {\n",
              "      background-color: #434B5C;\n",
              "      box-shadow: 0px 1px 3px 1px rgba(0, 0, 0, 0.15);\n",
              "      filter: drop-shadow(0px 1px 2px rgba(0, 0, 0, 0.3));\n",
              "      fill: #FFFFFF;\n",
              "    }\n",
              "  </style>\n",
              "\n",
              "      <script>\n",
              "        const buttonEl =\n",
              "          document.querySelector('#df-22677f63-4baf-4746-ad9f-e26cd9b477fb button.colab-df-convert');\n",
              "        buttonEl.style.display =\n",
              "          google.colab.kernel.accessAllowed ? 'block' : 'none';\n",
              "\n",
              "        async function convertToInteractive(key) {\n",
              "          const element = document.querySelector('#df-22677f63-4baf-4746-ad9f-e26cd9b477fb');\n",
              "          const dataTable =\n",
              "            await google.colab.kernel.invokeFunction('convertToInteractive',\n",
              "                                                     [key], {});\n",
              "          if (!dataTable) return;\n",
              "\n",
              "          const docLinkHtml = 'Like what you see? Visit the ' +\n",
              "            '<a target=\"_blank\" href=https://colab.research.google.com/notebooks/data_table.ipynb>data table notebook</a>'\n",
              "            + ' to learn more about interactive tables.';\n",
              "          element.innerHTML = '';\n",
              "          dataTable['output_type'] = 'display_data';\n",
              "          await google.colab.output.renderOutput(dataTable, element);\n",
              "          const docLink = document.createElement('div');\n",
              "          docLink.innerHTML = docLinkHtml;\n",
              "          element.appendChild(docLink);\n",
              "        }\n",
              "      </script>\n",
              "    </div>\n",
              "  </div>\n"
            ]
          },
          "metadata": {},
          "execution_count": 65
        }
      ],
      "source": [
        "insurance_one_hot = pd.get_dummies(insurance)\n",
        "insurance_one_hot.head()"
      ]
    },
    {
      "cell_type": "code",
      "execution_count": 66,
      "metadata": {
        "id": "7kip6Xr7neTx"
      },
      "outputs": [],
      "source": [
        "# Create x and y values (features and labels)\n",
        "x = insurance_one_hot.drop(\"charges\", axis=1)\n",
        "y = insurance_one_hot[\"charges\"]"
      ]
    },
    {
      "cell_type": "code",
      "execution_count": 67,
      "metadata": {
        "id": "1oyNcHlCneTx",
        "outputId": "f71dc5aa-87cc-4beb-9010-b1530ace7971",
        "colab": {
          "base_uri": "https://localhost:8080/",
          "height": 270
        }
      },
      "outputs": [
        {
          "output_type": "execute_result",
          "data": {
            "text/plain": [
              "   age     bmi  children  sex_female  sex_male  smoker_no  smoker_yes  \\\n",
              "0   19  27.900         0           1         0          0           1   \n",
              "1   18  33.770         1           0         1          1           0   \n",
              "2   28  33.000         3           0         1          1           0   \n",
              "3   33  22.705         0           0         1          1           0   \n",
              "4   32  28.880         0           0         1          1           0   \n",
              "\n",
              "   region_northeast  region_northwest  region_southeast  region_southwest  \n",
              "0                 0                 0                 0                 1  \n",
              "1                 0                 0                 1                 0  \n",
              "2                 0                 0                 1                 0  \n",
              "3                 0                 1                 0                 0  \n",
              "4                 0                 1                 0                 0  "
            ],
            "text/html": [
              "\n",
              "\n",
              "  <div id=\"df-1f61164a-461c-4b8b-8b07-4303e1731a94\">\n",
              "    <div class=\"colab-df-container\">\n",
              "      <div>\n",
              "<style scoped>\n",
              "    .dataframe tbody tr th:only-of-type {\n",
              "        vertical-align: middle;\n",
              "    }\n",
              "\n",
              "    .dataframe tbody tr th {\n",
              "        vertical-align: top;\n",
              "    }\n",
              "\n",
              "    .dataframe thead th {\n",
              "        text-align: right;\n",
              "    }\n",
              "</style>\n",
              "<table border=\"1\" class=\"dataframe\">\n",
              "  <thead>\n",
              "    <tr style=\"text-align: right;\">\n",
              "      <th></th>\n",
              "      <th>age</th>\n",
              "      <th>bmi</th>\n",
              "      <th>children</th>\n",
              "      <th>sex_female</th>\n",
              "      <th>sex_male</th>\n",
              "      <th>smoker_no</th>\n",
              "      <th>smoker_yes</th>\n",
              "      <th>region_northeast</th>\n",
              "      <th>region_northwest</th>\n",
              "      <th>region_southeast</th>\n",
              "      <th>region_southwest</th>\n",
              "    </tr>\n",
              "  </thead>\n",
              "  <tbody>\n",
              "    <tr>\n",
              "      <th>0</th>\n",
              "      <td>19</td>\n",
              "      <td>27.900</td>\n",
              "      <td>0</td>\n",
              "      <td>1</td>\n",
              "      <td>0</td>\n",
              "      <td>0</td>\n",
              "      <td>1</td>\n",
              "      <td>0</td>\n",
              "      <td>0</td>\n",
              "      <td>0</td>\n",
              "      <td>1</td>\n",
              "    </tr>\n",
              "    <tr>\n",
              "      <th>1</th>\n",
              "      <td>18</td>\n",
              "      <td>33.770</td>\n",
              "      <td>1</td>\n",
              "      <td>0</td>\n",
              "      <td>1</td>\n",
              "      <td>1</td>\n",
              "      <td>0</td>\n",
              "      <td>0</td>\n",
              "      <td>0</td>\n",
              "      <td>1</td>\n",
              "      <td>0</td>\n",
              "    </tr>\n",
              "    <tr>\n",
              "      <th>2</th>\n",
              "      <td>28</td>\n",
              "      <td>33.000</td>\n",
              "      <td>3</td>\n",
              "      <td>0</td>\n",
              "      <td>1</td>\n",
              "      <td>1</td>\n",
              "      <td>0</td>\n",
              "      <td>0</td>\n",
              "      <td>0</td>\n",
              "      <td>1</td>\n",
              "      <td>0</td>\n",
              "    </tr>\n",
              "    <tr>\n",
              "      <th>3</th>\n",
              "      <td>33</td>\n",
              "      <td>22.705</td>\n",
              "      <td>0</td>\n",
              "      <td>0</td>\n",
              "      <td>1</td>\n",
              "      <td>1</td>\n",
              "      <td>0</td>\n",
              "      <td>0</td>\n",
              "      <td>1</td>\n",
              "      <td>0</td>\n",
              "      <td>0</td>\n",
              "    </tr>\n",
              "    <tr>\n",
              "      <th>4</th>\n",
              "      <td>32</td>\n",
              "      <td>28.880</td>\n",
              "      <td>0</td>\n",
              "      <td>0</td>\n",
              "      <td>1</td>\n",
              "      <td>1</td>\n",
              "      <td>0</td>\n",
              "      <td>0</td>\n",
              "      <td>1</td>\n",
              "      <td>0</td>\n",
              "      <td>0</td>\n",
              "    </tr>\n",
              "  </tbody>\n",
              "</table>\n",
              "</div>\n",
              "      <button class=\"colab-df-convert\" onclick=\"convertToInteractive('df-1f61164a-461c-4b8b-8b07-4303e1731a94')\"\n",
              "              title=\"Convert this dataframe to an interactive table.\"\n",
              "              style=\"display:none;\">\n",
              "\n",
              "  <svg xmlns=\"http://www.w3.org/2000/svg\" height=\"24px\"viewBox=\"0 0 24 24\"\n",
              "       width=\"24px\">\n",
              "    <path d=\"M0 0h24v24H0V0z\" fill=\"none\"/>\n",
              "    <path d=\"M18.56 5.44l.94 2.06.94-2.06 2.06-.94-2.06-.94-.94-2.06-.94 2.06-2.06.94zm-11 1L8.5 8.5l.94-2.06 2.06-.94-2.06-.94L8.5 2.5l-.94 2.06-2.06.94zm10 10l.94 2.06.94-2.06 2.06-.94-2.06-.94-.94-2.06-.94 2.06-2.06.94z\"/><path d=\"M17.41 7.96l-1.37-1.37c-.4-.4-.92-.59-1.43-.59-.52 0-1.04.2-1.43.59L10.3 9.45l-7.72 7.72c-.78.78-.78 2.05 0 2.83L4 21.41c.39.39.9.59 1.41.59.51 0 1.02-.2 1.41-.59l7.78-7.78 2.81-2.81c.8-.78.8-2.07 0-2.86zM5.41 20L4 18.59l7.72-7.72 1.47 1.35L5.41 20z\"/>\n",
              "  </svg>\n",
              "      </button>\n",
              "\n",
              "\n",
              "\n",
              "    <div id=\"df-724482b4-cb80-4781-bcf6-6d5dd20b6c16\">\n",
              "      <button class=\"colab-df-quickchart\" onclick=\"quickchart('df-724482b4-cb80-4781-bcf6-6d5dd20b6c16')\"\n",
              "              title=\"Suggest charts.\"\n",
              "              style=\"display:none;\">\n",
              "\n",
              "<svg xmlns=\"http://www.w3.org/2000/svg\" height=\"24px\"viewBox=\"0 0 24 24\"\n",
              "     width=\"24px\">\n",
              "    <g>\n",
              "        <path d=\"M19 3H5c-1.1 0-2 .9-2 2v14c0 1.1.9 2 2 2h14c1.1 0 2-.9 2-2V5c0-1.1-.9-2-2-2zM9 17H7v-7h2v7zm4 0h-2V7h2v10zm4 0h-2v-4h2v4z\"/>\n",
              "    </g>\n",
              "</svg>\n",
              "      </button>\n",
              "    </div>\n",
              "\n",
              "<style>\n",
              "  .colab-df-quickchart {\n",
              "    background-color: #E8F0FE;\n",
              "    border: none;\n",
              "    border-radius: 50%;\n",
              "    cursor: pointer;\n",
              "    display: none;\n",
              "    fill: #1967D2;\n",
              "    height: 32px;\n",
              "    padding: 0 0 0 0;\n",
              "    width: 32px;\n",
              "  }\n",
              "\n",
              "  .colab-df-quickchart:hover {\n",
              "    background-color: #E2EBFA;\n",
              "    box-shadow: 0px 1px 2px rgba(60, 64, 67, 0.3), 0px 1px 3px 1px rgba(60, 64, 67, 0.15);\n",
              "    fill: #174EA6;\n",
              "  }\n",
              "\n",
              "  [theme=dark] .colab-df-quickchart {\n",
              "    background-color: #3B4455;\n",
              "    fill: #D2E3FC;\n",
              "  }\n",
              "\n",
              "  [theme=dark] .colab-df-quickchart:hover {\n",
              "    background-color: #434B5C;\n",
              "    box-shadow: 0px 1px 3px 1px rgba(0, 0, 0, 0.15);\n",
              "    filter: drop-shadow(0px 1px 2px rgba(0, 0, 0, 0.3));\n",
              "    fill: #FFFFFF;\n",
              "  }\n",
              "</style>\n",
              "\n",
              "    <script>\n",
              "      async function quickchart(key) {\n",
              "        const containerElement = document.querySelector('#' + key);\n",
              "        const charts = await google.colab.kernel.invokeFunction(\n",
              "            'suggestCharts', [key], {});\n",
              "      }\n",
              "    </script>\n",
              "\n",
              "      <script>\n",
              "\n",
              "function displayQuickchartButton(domScope) {\n",
              "  let quickchartButtonEl =\n",
              "    domScope.querySelector('#df-724482b4-cb80-4781-bcf6-6d5dd20b6c16 button.colab-df-quickchart');\n",
              "  quickchartButtonEl.style.display =\n",
              "    google.colab.kernel.accessAllowed ? 'block' : 'none';\n",
              "}\n",
              "\n",
              "        displayQuickchartButton(document);\n",
              "      </script>\n",
              "      <style>\n",
              "    .colab-df-container {\n",
              "      display:flex;\n",
              "      flex-wrap:wrap;\n",
              "      gap: 12px;\n",
              "    }\n",
              "\n",
              "    .colab-df-convert {\n",
              "      background-color: #E8F0FE;\n",
              "      border: none;\n",
              "      border-radius: 50%;\n",
              "      cursor: pointer;\n",
              "      display: none;\n",
              "      fill: #1967D2;\n",
              "      height: 32px;\n",
              "      padding: 0 0 0 0;\n",
              "      width: 32px;\n",
              "    }\n",
              "\n",
              "    .colab-df-convert:hover {\n",
              "      background-color: #E2EBFA;\n",
              "      box-shadow: 0px 1px 2px rgba(60, 64, 67, 0.3), 0px 1px 3px 1px rgba(60, 64, 67, 0.15);\n",
              "      fill: #174EA6;\n",
              "    }\n",
              "\n",
              "    [theme=dark] .colab-df-convert {\n",
              "      background-color: #3B4455;\n",
              "      fill: #D2E3FC;\n",
              "    }\n",
              "\n",
              "    [theme=dark] .colab-df-convert:hover {\n",
              "      background-color: #434B5C;\n",
              "      box-shadow: 0px 1px 3px 1px rgba(0, 0, 0, 0.15);\n",
              "      filter: drop-shadow(0px 1px 2px rgba(0, 0, 0, 0.3));\n",
              "      fill: #FFFFFF;\n",
              "    }\n",
              "  </style>\n",
              "\n",
              "      <script>\n",
              "        const buttonEl =\n",
              "          document.querySelector('#df-1f61164a-461c-4b8b-8b07-4303e1731a94 button.colab-df-convert');\n",
              "        buttonEl.style.display =\n",
              "          google.colab.kernel.accessAllowed ? 'block' : 'none';\n",
              "\n",
              "        async function convertToInteractive(key) {\n",
              "          const element = document.querySelector('#df-1f61164a-461c-4b8b-8b07-4303e1731a94');\n",
              "          const dataTable =\n",
              "            await google.colab.kernel.invokeFunction('convertToInteractive',\n",
              "                                                     [key], {});\n",
              "          if (!dataTable) return;\n",
              "\n",
              "          const docLinkHtml = 'Like what you see? Visit the ' +\n",
              "            '<a target=\"_blank\" href=https://colab.research.google.com/notebooks/data_table.ipynb>data table notebook</a>'\n",
              "            + ' to learn more about interactive tables.';\n",
              "          element.innerHTML = '';\n",
              "          dataTable['output_type'] = 'display_data';\n",
              "          await google.colab.output.renderOutput(dataTable, element);\n",
              "          const docLink = document.createElement('div');\n",
              "          docLink.innerHTML = docLinkHtml;\n",
              "          element.appendChild(docLink);\n",
              "        }\n",
              "      </script>\n",
              "    </div>\n",
              "  </div>\n"
            ]
          },
          "metadata": {},
          "execution_count": 67
        }
      ],
      "source": [
        "# View x\n",
        "x.head()"
      ]
    },
    {
      "cell_type": "code",
      "execution_count": 68,
      "metadata": {
        "id": "CUXm7I5mneTx",
        "outputId": "98974dbb-f856-4b5b-9dd5-16a4925450e6",
        "colab": {
          "base_uri": "https://localhost:8080/"
        }
      },
      "outputs": [
        {
          "output_type": "execute_result",
          "data": {
            "text/plain": [
              "0    16884.92400\n",
              "1     1725.55230\n",
              "2     4449.46200\n",
              "3    21984.47061\n",
              "4     3866.85520\n",
              "Name: charges, dtype: float64"
            ]
          },
          "metadata": {},
          "execution_count": 68
        }
      ],
      "source": [
        "# view y\n",
        "y.head()"
      ]
    },
    {
      "cell_type": "code",
      "execution_count": 71,
      "metadata": {
        "id": "GXfFn3hgneTy",
        "outputId": "cb7ae7fb-09b7-43e6-c672-059fd07a0b57",
        "colab": {
          "base_uri": "https://localhost:8080/"
        }
      },
      "outputs": [
        {
          "output_type": "execute_result",
          "data": {
            "text/plain": [
              "(1338, 1070, 268)"
            ]
          },
          "metadata": {},
          "execution_count": 71
        }
      ],
      "source": [
        "# Create training and test sets\n",
        "from sklearn.model_selection import train_test_split\n",
        "x_train, x_test, y_train, y_test = train_test_split(x, y, test_size=0.2, random_state=42)\n",
        "len(x), len(x_train), len(x_test)"
      ]
    },
    {
      "cell_type": "code",
      "execution_count": 92,
      "metadata": {
        "id": "Utv9vlurneTy",
        "outputId": "8da2e64b-f727-4303-ed06-07c66576254d",
        "colab": {
          "base_uri": "https://localhost:8080/"
        }
      },
      "outputs": [
        {
          "output_type": "stream",
          "name": "stdout",
          "text": [
            "Epoch 1/300\n",
            "34/34 [==============================] - 1s 3ms/step - loss: 10556.2148 - mae: 10556.2148\n",
            "Epoch 2/300\n",
            "34/34 [==============================] - 0s 3ms/step - loss: 7209.7759 - mae: 7209.7759\n",
            "Epoch 3/300\n",
            "34/34 [==============================] - 0s 3ms/step - loss: 7024.0181 - mae: 7024.0181\n",
            "Epoch 4/300\n",
            "34/34 [==============================] - 0s 3ms/step - loss: 6914.8013 - mae: 6914.8013\n",
            "Epoch 5/300\n",
            "34/34 [==============================] - 0s 2ms/step - loss: 6917.9731 - mae: 6917.9731\n",
            "Epoch 6/300\n",
            "34/34 [==============================] - 0s 2ms/step - loss: 6877.3257 - mae: 6877.3257\n",
            "Epoch 7/300\n",
            "34/34 [==============================] - 0s 3ms/step - loss: 6873.6489 - mae: 6873.6489\n",
            "Epoch 8/300\n",
            "34/34 [==============================] - 0s 3ms/step - loss: 6893.1748 - mae: 6893.1748\n",
            "Epoch 9/300\n",
            "34/34 [==============================] - 0s 3ms/step - loss: 6871.9370 - mae: 6871.9370\n",
            "Epoch 10/300\n",
            "34/34 [==============================] - 0s 2ms/step - loss: 6835.5879 - mae: 6835.5879\n",
            "Epoch 11/300\n",
            "34/34 [==============================] - 0s 2ms/step - loss: 6814.9380 - mae: 6814.9380\n",
            "Epoch 12/300\n",
            "34/34 [==============================] - 0s 2ms/step - loss: 6852.0923 - mae: 6852.0923\n",
            "Epoch 13/300\n",
            "34/34 [==============================] - 0s 2ms/step - loss: 6849.7637 - mae: 6849.7637\n",
            "Epoch 14/300\n",
            "34/34 [==============================] - 0s 2ms/step - loss: 6819.5786 - mae: 6819.5786\n",
            "Epoch 15/300\n",
            "34/34 [==============================] - 0s 2ms/step - loss: 6826.5898 - mae: 6826.5898\n",
            "Epoch 16/300\n",
            "34/34 [==============================] - 0s 2ms/step - loss: 6855.2871 - mae: 6855.2871\n",
            "Epoch 17/300\n",
            "34/34 [==============================] - 0s 2ms/step - loss: 6824.3486 - mae: 6824.3486\n",
            "Epoch 18/300\n",
            "34/34 [==============================] - 0s 2ms/step - loss: 6810.5801 - mae: 6810.5801\n",
            "Epoch 19/300\n",
            "34/34 [==============================] - 0s 2ms/step - loss: 6818.8701 - mae: 6818.8701\n",
            "Epoch 20/300\n",
            "34/34 [==============================] - 0s 2ms/step - loss: 6886.8228 - mae: 6886.8228\n",
            "Epoch 21/300\n",
            "34/34 [==============================] - 0s 2ms/step - loss: 6782.8906 - mae: 6782.8906\n",
            "Epoch 22/300\n",
            "34/34 [==============================] - 0s 2ms/step - loss: 6843.7646 - mae: 6843.7646\n",
            "Epoch 23/300\n",
            "34/34 [==============================] - 0s 2ms/step - loss: 6832.0684 - mae: 6832.0684\n",
            "Epoch 24/300\n",
            "34/34 [==============================] - 0s 2ms/step - loss: 6788.7314 - mae: 6788.7314\n",
            "Epoch 25/300\n",
            "34/34 [==============================] - 0s 2ms/step - loss: 6796.7012 - mae: 6796.7012\n",
            "Epoch 26/300\n",
            "34/34 [==============================] - 0s 2ms/step - loss: 6814.5825 - mae: 6814.5825\n",
            "Epoch 27/300\n",
            "34/34 [==============================] - 0s 2ms/step - loss: 6790.8398 - mae: 6790.8398\n",
            "Epoch 28/300\n",
            "34/34 [==============================] - 0s 2ms/step - loss: 6774.1802 - mae: 6774.1802\n",
            "Epoch 29/300\n",
            "34/34 [==============================] - 0s 2ms/step - loss: 6724.3965 - mae: 6724.3965\n",
            "Epoch 30/300\n",
            "34/34 [==============================] - 0s 2ms/step - loss: 6813.3823 - mae: 6813.3823\n",
            "Epoch 31/300\n",
            "34/34 [==============================] - 0s 2ms/step - loss: 6797.8491 - mae: 6797.8491\n",
            "Epoch 32/300\n",
            "34/34 [==============================] - 0s 2ms/step - loss: 6767.7373 - mae: 6767.7373\n",
            "Epoch 33/300\n",
            "34/34 [==============================] - 0s 2ms/step - loss: 6761.8887 - mae: 6761.8887\n",
            "Epoch 34/300\n",
            "34/34 [==============================] - 0s 2ms/step - loss: 6803.3169 - mae: 6803.3169\n",
            "Epoch 35/300\n",
            "34/34 [==============================] - 0s 2ms/step - loss: 6727.1816 - mae: 6727.1816\n",
            "Epoch 36/300\n",
            "34/34 [==============================] - 0s 2ms/step - loss: 6782.5391 - mae: 6782.5391\n",
            "Epoch 37/300\n",
            "34/34 [==============================] - 0s 2ms/step - loss: 6750.8394 - mae: 6750.8394\n",
            "Epoch 38/300\n",
            "34/34 [==============================] - 0s 2ms/step - loss: 6755.6904 - mae: 6755.6904\n",
            "Epoch 39/300\n",
            "34/34 [==============================] - 0s 2ms/step - loss: 6733.7471 - mae: 6733.7471\n",
            "Epoch 40/300\n",
            "34/34 [==============================] - 0s 2ms/step - loss: 6751.7461 - mae: 6751.7461\n",
            "Epoch 41/300\n",
            "34/34 [==============================] - 0s 2ms/step - loss: 6790.3730 - mae: 6790.3730\n",
            "Epoch 42/300\n",
            "34/34 [==============================] - 0s 2ms/step - loss: 6752.3193 - mae: 6752.3193\n",
            "Epoch 43/300\n",
            "34/34 [==============================] - 0s 2ms/step - loss: 6758.0811 - mae: 6758.0811\n",
            "Epoch 44/300\n",
            "34/34 [==============================] - 0s 2ms/step - loss: 6691.1997 - mae: 6691.1997\n",
            "Epoch 45/300\n",
            "34/34 [==============================] - 0s 2ms/step - loss: 6737.9409 - mae: 6737.9409\n",
            "Epoch 46/300\n",
            "34/34 [==============================] - 0s 2ms/step - loss: 6691.5054 - mae: 6691.5054\n",
            "Epoch 47/300\n",
            "34/34 [==============================] - 0s 2ms/step - loss: 6781.7046 - mae: 6781.7046\n",
            "Epoch 48/300\n",
            "34/34 [==============================] - 0s 2ms/step - loss: 6700.5908 - mae: 6700.5908\n",
            "Epoch 49/300\n",
            "34/34 [==============================] - 0s 2ms/step - loss: 6714.8037 - mae: 6714.8037\n",
            "Epoch 50/300\n",
            "34/34 [==============================] - 0s 2ms/step - loss: 6783.7568 - mae: 6783.7568\n",
            "Epoch 51/300\n",
            "34/34 [==============================] - 0s 2ms/step - loss: 6716.2783 - mae: 6716.2783\n",
            "Epoch 52/300\n",
            "34/34 [==============================] - 0s 2ms/step - loss: 6674.8892 - mae: 6674.8892\n",
            "Epoch 53/300\n",
            "34/34 [==============================] - 0s 2ms/step - loss: 6713.6309 - mae: 6713.6309\n",
            "Epoch 54/300\n",
            "34/34 [==============================] - 0s 2ms/step - loss: 6692.7026 - mae: 6692.7026\n",
            "Epoch 55/300\n",
            "34/34 [==============================] - 0s 2ms/step - loss: 6700.6689 - mae: 6700.6689\n",
            "Epoch 56/300\n",
            "34/34 [==============================] - 0s 2ms/step - loss: 6708.1211 - mae: 6708.1211\n",
            "Epoch 57/300\n",
            "34/34 [==============================] - 0s 2ms/step - loss: 6685.1753 - mae: 6685.1753\n",
            "Epoch 58/300\n",
            "34/34 [==============================] - 0s 2ms/step - loss: 6622.6255 - mae: 6622.6255\n",
            "Epoch 59/300\n",
            "34/34 [==============================] - 0s 2ms/step - loss: 6765.2393 - mae: 6765.2393\n",
            "Epoch 60/300\n",
            "34/34 [==============================] - 0s 2ms/step - loss: 6750.5420 - mae: 6750.5420\n",
            "Epoch 61/300\n",
            "34/34 [==============================] - 0s 2ms/step - loss: 6752.2632 - mae: 6752.2632\n",
            "Epoch 62/300\n",
            "34/34 [==============================] - 0s 2ms/step - loss: 6642.3027 - mae: 6642.3027\n",
            "Epoch 63/300\n",
            "34/34 [==============================] - 0s 2ms/step - loss: 6598.7085 - mae: 6598.7085\n",
            "Epoch 64/300\n",
            "34/34 [==============================] - 0s 2ms/step - loss: 6699.9609 - mae: 6699.9609\n",
            "Epoch 65/300\n",
            "34/34 [==============================] - 0s 2ms/step - loss: 6793.0063 - mae: 6793.0063\n",
            "Epoch 66/300\n",
            "34/34 [==============================] - 0s 2ms/step - loss: 6638.1382 - mae: 6638.1382\n",
            "Epoch 67/300\n",
            "34/34 [==============================] - 0s 2ms/step - loss: 6680.7642 - mae: 6680.7642\n",
            "Epoch 68/300\n",
            "34/34 [==============================] - 0s 2ms/step - loss: 6762.8853 - mae: 6762.8853\n",
            "Epoch 69/300\n",
            "34/34 [==============================] - 0s 2ms/step - loss: 6720.8330 - mae: 6720.8330\n",
            "Epoch 70/300\n",
            "34/34 [==============================] - 0s 2ms/step - loss: 6764.2271 - mae: 6764.2271\n",
            "Epoch 71/300\n",
            "34/34 [==============================] - 0s 2ms/step - loss: 6662.2642 - mae: 6662.2642\n",
            "Epoch 72/300\n",
            "34/34 [==============================] - 0s 2ms/step - loss: 6642.2202 - mae: 6642.2202\n",
            "Epoch 73/300\n",
            "34/34 [==============================] - 0s 2ms/step - loss: 6665.8604 - mae: 6665.8604\n",
            "Epoch 74/300\n",
            "34/34 [==============================] - 0s 2ms/step - loss: 6684.6445 - mae: 6684.6445\n",
            "Epoch 75/300\n",
            "34/34 [==============================] - 0s 2ms/step - loss: 6616.1484 - mae: 6616.1484\n",
            "Epoch 76/300\n",
            "34/34 [==============================] - 0s 2ms/step - loss: 6640.3569 - mae: 6640.3569\n",
            "Epoch 77/300\n",
            "34/34 [==============================] - 0s 2ms/step - loss: 6736.0239 - mae: 6736.0239\n",
            "Epoch 78/300\n",
            "34/34 [==============================] - 0s 2ms/step - loss: 6537.8750 - mae: 6537.8750\n",
            "Epoch 79/300\n",
            "34/34 [==============================] - 0s 2ms/step - loss: 6707.9673 - mae: 6707.9673\n",
            "Epoch 80/300\n",
            "34/34 [==============================] - 0s 2ms/step - loss: 6564.9097 - mae: 6564.9097\n",
            "Epoch 81/300\n",
            "34/34 [==============================] - 0s 2ms/step - loss: 6648.5005 - mae: 6648.5005\n",
            "Epoch 82/300\n",
            "34/34 [==============================] - 0s 2ms/step - loss: 6640.1362 - mae: 6640.1362\n",
            "Epoch 83/300\n",
            "34/34 [==============================] - 0s 2ms/step - loss: 6702.3726 - mae: 6702.3726\n",
            "Epoch 84/300\n",
            "34/34 [==============================] - 0s 2ms/step - loss: 6634.8286 - mae: 6634.8286\n",
            "Epoch 85/300\n",
            "34/34 [==============================] - 0s 2ms/step - loss: 6728.9736 - mae: 6728.9736\n",
            "Epoch 86/300\n",
            "34/34 [==============================] - 0s 2ms/step - loss: 6656.8213 - mae: 6656.8213\n",
            "Epoch 87/300\n",
            "34/34 [==============================] - 0s 2ms/step - loss: 6620.3296 - mae: 6620.3296\n",
            "Epoch 88/300\n",
            "34/34 [==============================] - 0s 2ms/step - loss: 6627.6240 - mae: 6627.6240\n",
            "Epoch 89/300\n",
            "34/34 [==============================] - 0s 2ms/step - loss: 6595.4238 - mae: 6595.4238\n",
            "Epoch 90/300\n",
            "34/34 [==============================] - 0s 2ms/step - loss: 6518.1382 - mae: 6518.1382\n",
            "Epoch 91/300\n",
            "34/34 [==============================] - 0s 2ms/step - loss: 6627.7773 - mae: 6627.7773\n",
            "Epoch 92/300\n",
            "34/34 [==============================] - 0s 2ms/step - loss: 6667.6440 - mae: 6667.6440\n",
            "Epoch 93/300\n",
            "34/34 [==============================] - 0s 2ms/step - loss: 6668.8911 - mae: 6668.8911\n",
            "Epoch 94/300\n",
            "34/34 [==============================] - 0s 2ms/step - loss: 6578.8403 - mae: 6578.8403\n",
            "Epoch 95/300\n",
            "34/34 [==============================] - 0s 2ms/step - loss: 6671.2397 - mae: 6671.2397\n",
            "Epoch 96/300\n",
            "34/34 [==============================] - 0s 2ms/step - loss: 6591.9058 - mae: 6591.9058\n",
            "Epoch 97/300\n",
            "34/34 [==============================] - 0s 2ms/step - loss: 6583.5474 - mae: 6583.5474\n",
            "Epoch 98/300\n",
            "34/34 [==============================] - 0s 2ms/step - loss: 6693.6177 - mae: 6693.6177\n",
            "Epoch 99/300\n",
            "34/34 [==============================] - 0s 2ms/step - loss: 6674.4224 - mae: 6674.4224\n",
            "Epoch 100/300\n",
            "34/34 [==============================] - 0s 2ms/step - loss: 6487.7271 - mae: 6487.7271\n",
            "Epoch 101/300\n",
            "34/34 [==============================] - 0s 2ms/step - loss: 6691.0522 - mae: 6691.0522\n",
            "Epoch 102/300\n",
            "34/34 [==============================] - 0s 2ms/step - loss: 6534.6890 - mae: 6534.6890\n",
            "Epoch 103/300\n",
            "34/34 [==============================] - 0s 2ms/step - loss: 6594.1787 - mae: 6594.1787\n",
            "Epoch 104/300\n",
            "34/34 [==============================] - 0s 2ms/step - loss: 6684.6855 - mae: 6684.6855\n",
            "Epoch 105/300\n",
            "34/34 [==============================] - 0s 2ms/step - loss: 6594.3140 - mae: 6594.3140\n",
            "Epoch 106/300\n",
            "34/34 [==============================] - 0s 2ms/step - loss: 6629.2871 - mae: 6629.2871\n",
            "Epoch 107/300\n",
            "34/34 [==============================] - 0s 2ms/step - loss: 6443.6792 - mae: 6443.6792\n",
            "Epoch 108/300\n",
            "34/34 [==============================] - 0s 2ms/step - loss: 6612.6553 - mae: 6612.6553\n",
            "Epoch 109/300\n",
            "34/34 [==============================] - 0s 2ms/step - loss: 6660.8506 - mae: 6660.8506\n",
            "Epoch 110/300\n",
            "34/34 [==============================] - 0s 2ms/step - loss: 6664.0947 - mae: 6664.0947\n",
            "Epoch 111/300\n",
            "34/34 [==============================] - 0s 2ms/step - loss: 6509.7271 - mae: 6509.7271\n",
            "Epoch 112/300\n",
            "34/34 [==============================] - 0s 2ms/step - loss: 6671.9307 - mae: 6671.9307\n",
            "Epoch 113/300\n",
            "34/34 [==============================] - 0s 2ms/step - loss: 6643.8857 - mae: 6643.8857\n",
            "Epoch 114/300\n",
            "34/34 [==============================] - 0s 2ms/step - loss: 6543.2324 - mae: 6543.2324\n",
            "Epoch 115/300\n",
            "34/34 [==============================] - 0s 2ms/step - loss: 6444.0537 - mae: 6444.0537\n",
            "Epoch 116/300\n",
            "34/34 [==============================] - 0s 2ms/step - loss: 6719.1162 - mae: 6719.1162\n",
            "Epoch 117/300\n",
            "34/34 [==============================] - 0s 2ms/step - loss: 6478.0273 - mae: 6478.0273\n",
            "Epoch 118/300\n",
            "34/34 [==============================] - 0s 2ms/step - loss: 6568.1265 - mae: 6568.1265\n",
            "Epoch 119/300\n",
            "34/34 [==============================] - 0s 2ms/step - loss: 6607.2568 - mae: 6607.2568\n",
            "Epoch 120/300\n",
            "34/34 [==============================] - 0s 2ms/step - loss: 6532.3931 - mae: 6532.3931\n",
            "Epoch 121/300\n",
            "34/34 [==============================] - 0s 2ms/step - loss: 6661.9868 - mae: 6661.9868\n",
            "Epoch 122/300\n",
            "34/34 [==============================] - 0s 2ms/step - loss: 6620.1592 - mae: 6620.1592\n",
            "Epoch 123/300\n",
            "34/34 [==============================] - 0s 2ms/step - loss: 6634.2759 - mae: 6634.2759\n",
            "Epoch 124/300\n",
            "34/34 [==============================] - 0s 2ms/step - loss: 6599.9956 - mae: 6599.9956\n",
            "Epoch 125/300\n",
            "34/34 [==============================] - 0s 2ms/step - loss: 6565.2881 - mae: 6565.2881\n",
            "Epoch 126/300\n",
            "34/34 [==============================] - 0s 2ms/step - loss: 6467.1411 - mae: 6467.1411\n",
            "Epoch 127/300\n",
            "34/34 [==============================] - 0s 2ms/step - loss: 6607.9985 - mae: 6607.9985\n",
            "Epoch 128/300\n",
            "34/34 [==============================] - 0s 2ms/step - loss: 6384.3315 - mae: 6384.3315\n",
            "Epoch 129/300\n",
            "34/34 [==============================] - 0s 2ms/step - loss: 6636.1826 - mae: 6636.1826\n",
            "Epoch 130/300\n",
            "34/34 [==============================] - 0s 2ms/step - loss: 6552.3618 - mae: 6552.3618\n",
            "Epoch 131/300\n",
            "34/34 [==============================] - 0s 2ms/step - loss: 6602.1587 - mae: 6602.1587\n",
            "Epoch 132/300\n",
            "34/34 [==============================] - 0s 2ms/step - loss: 6534.3062 - mae: 6534.3062\n",
            "Epoch 133/300\n",
            "34/34 [==============================] - 0s 2ms/step - loss: 6415.6338 - mae: 6415.6338\n",
            "Epoch 134/300\n",
            "34/34 [==============================] - 0s 2ms/step - loss: 6661.2959 - mae: 6661.2959\n",
            "Epoch 135/300\n",
            "34/34 [==============================] - 0s 2ms/step - loss: 6525.8115 - mae: 6525.8115\n",
            "Epoch 136/300\n",
            "34/34 [==============================] - 0s 2ms/step - loss: 6571.4971 - mae: 6571.4971\n",
            "Epoch 137/300\n",
            "34/34 [==============================] - 0s 2ms/step - loss: 6502.5688 - mae: 6502.5688\n",
            "Epoch 138/300\n",
            "34/34 [==============================] - 0s 2ms/step - loss: 6480.2275 - mae: 6480.2275\n",
            "Epoch 139/300\n",
            "34/34 [==============================] - 0s 2ms/step - loss: 6610.3203 - mae: 6610.3203\n",
            "Epoch 140/300\n",
            "34/34 [==============================] - 0s 2ms/step - loss: 6514.9375 - mae: 6514.9375\n",
            "Epoch 141/300\n",
            "34/34 [==============================] - 0s 2ms/step - loss: 6407.0889 - mae: 6407.0889\n",
            "Epoch 142/300\n",
            "34/34 [==============================] - 0s 3ms/step - loss: 6593.4663 - mae: 6593.4663\n",
            "Epoch 143/300\n",
            "34/34 [==============================] - 0s 3ms/step - loss: 6673.5034 - mae: 6673.5034\n",
            "Epoch 144/300\n",
            "34/34 [==============================] - 0s 3ms/step - loss: 6559.3823 - mae: 6559.3823\n",
            "Epoch 145/300\n",
            "34/34 [==============================] - 0s 2ms/step - loss: 6456.9136 - mae: 6456.9136\n",
            "Epoch 146/300\n",
            "34/34 [==============================] - 0s 3ms/step - loss: 6506.1851 - mae: 6506.1851\n",
            "Epoch 147/300\n",
            "34/34 [==============================] - 0s 3ms/step - loss: 6442.6875 - mae: 6442.6875\n",
            "Epoch 148/300\n",
            "34/34 [==============================] - 0s 3ms/step - loss: 6411.6812 - mae: 6411.6812\n",
            "Epoch 149/300\n",
            "34/34 [==============================] - 0s 3ms/step - loss: 6587.4014 - mae: 6587.4014\n",
            "Epoch 150/300\n",
            "34/34 [==============================] - 0s 3ms/step - loss: 6531.7563 - mae: 6531.7563\n",
            "Epoch 151/300\n",
            "34/34 [==============================] - 0s 2ms/step - loss: 6506.3481 - mae: 6506.3481\n",
            "Epoch 152/300\n",
            "34/34 [==============================] - 0s 3ms/step - loss: 6497.2778 - mae: 6497.2778\n",
            "Epoch 153/300\n",
            "34/34 [==============================] - 0s 3ms/step - loss: 6610.6670 - mae: 6610.6670\n",
            "Epoch 154/300\n",
            "34/34 [==============================] - 0s 3ms/step - loss: 6460.5884 - mae: 6460.5884\n",
            "Epoch 155/300\n",
            "34/34 [==============================] - 0s 3ms/step - loss: 6487.5225 - mae: 6487.5225\n",
            "Epoch 156/300\n",
            "34/34 [==============================] - 0s 2ms/step - loss: 6343.6357 - mae: 6343.6357\n",
            "Epoch 157/300\n",
            "34/34 [==============================] - 0s 3ms/step - loss: 6417.8970 - mae: 6417.8970\n",
            "Epoch 158/300\n",
            "34/34 [==============================] - 0s 3ms/step - loss: 6488.7393 - mae: 6488.7393\n",
            "Epoch 159/300\n",
            "34/34 [==============================] - 0s 3ms/step - loss: 6336.1523 - mae: 6336.1523\n",
            "Epoch 160/300\n",
            "34/34 [==============================] - 0s 3ms/step - loss: 6716.2622 - mae: 6716.2622\n",
            "Epoch 161/300\n",
            "34/34 [==============================] - 0s 3ms/step - loss: 6449.6982 - mae: 6449.6982\n",
            "Epoch 162/300\n",
            "34/34 [==============================] - 0s 2ms/step - loss: 6519.3618 - mae: 6519.3618\n",
            "Epoch 163/300\n",
            "34/34 [==============================] - 0s 3ms/step - loss: 6457.0615 - mae: 6457.0615\n",
            "Epoch 164/300\n",
            "34/34 [==============================] - 0s 2ms/step - loss: 6291.6055 - mae: 6291.6055\n",
            "Epoch 165/300\n",
            "34/34 [==============================] - 0s 2ms/step - loss: 6633.6187 - mae: 6633.6187\n",
            "Epoch 166/300\n",
            "34/34 [==============================] - 0s 3ms/step - loss: 6563.0122 - mae: 6563.0122\n",
            "Epoch 167/300\n",
            "34/34 [==============================] - 0s 3ms/step - loss: 6455.2749 - mae: 6455.2749\n",
            "Epoch 168/300\n",
            "34/34 [==============================] - 0s 3ms/step - loss: 6564.2788 - mae: 6564.2788\n",
            "Epoch 169/300\n",
            "34/34 [==============================] - 0s 3ms/step - loss: 6459.6016 - mae: 6459.6016\n",
            "Epoch 170/300\n",
            "34/34 [==============================] - 0s 3ms/step - loss: 6474.1699 - mae: 6474.1699\n",
            "Epoch 171/300\n",
            "34/34 [==============================] - 0s 3ms/step - loss: 6358.3159 - mae: 6358.3159\n",
            "Epoch 172/300\n",
            "34/34 [==============================] - 0s 3ms/step - loss: 6359.4619 - mae: 6359.4619\n",
            "Epoch 173/300\n",
            "34/34 [==============================] - 0s 2ms/step - loss: 6397.5991 - mae: 6397.5991\n",
            "Epoch 174/300\n",
            "34/34 [==============================] - 0s 3ms/step - loss: 6341.7139 - mae: 6341.7139\n",
            "Epoch 175/300\n",
            "34/34 [==============================] - 0s 3ms/step - loss: 6456.9697 - mae: 6456.9697\n",
            "Epoch 176/300\n",
            "34/34 [==============================] - 0s 2ms/step - loss: 6423.5854 - mae: 6423.5854\n",
            "Epoch 177/300\n",
            "34/34 [==============================] - 0s 2ms/step - loss: 6480.1016 - mae: 6480.1016\n",
            "Epoch 178/300\n",
            "34/34 [==============================] - 0s 2ms/step - loss: 6500.4355 - mae: 6500.4355\n",
            "Epoch 179/300\n",
            "34/34 [==============================] - 0s 2ms/step - loss: 6267.6812 - mae: 6267.6812\n",
            "Epoch 180/300\n",
            "34/34 [==============================] - 0s 2ms/step - loss: 6581.6660 - mae: 6581.6660\n",
            "Epoch 181/300\n",
            "34/34 [==============================] - 0s 2ms/step - loss: 6484.8901 - mae: 6484.8901\n",
            "Epoch 182/300\n",
            "34/34 [==============================] - 0s 2ms/step - loss: 6368.8267 - mae: 6368.8267\n",
            "Epoch 183/300\n",
            "34/34 [==============================] - 0s 2ms/step - loss: 6379.0518 - mae: 6379.0518\n",
            "Epoch 184/300\n",
            "34/34 [==============================] - 0s 2ms/step - loss: 6394.5366 - mae: 6394.5366\n",
            "Epoch 185/300\n",
            "34/34 [==============================] - 0s 2ms/step - loss: 6339.5757 - mae: 6339.5757\n",
            "Epoch 186/300\n",
            "34/34 [==============================] - 0s 2ms/step - loss: 6450.1396 - mae: 6450.1396\n",
            "Epoch 187/300\n",
            "34/34 [==============================] - 0s 2ms/step - loss: 6504.0601 - mae: 6504.0601\n",
            "Epoch 188/300\n",
            "34/34 [==============================] - 0s 2ms/step - loss: 6516.7524 - mae: 6516.7524\n",
            "Epoch 189/300\n",
            "34/34 [==============================] - 0s 2ms/step - loss: 6258.4946 - mae: 6258.4946\n",
            "Epoch 190/300\n",
            "34/34 [==============================] - 0s 2ms/step - loss: 6396.7427 - mae: 6396.7427\n",
            "Epoch 191/300\n",
            "34/34 [==============================] - 0s 2ms/step - loss: 6539.4873 - mae: 6539.4873\n",
            "Epoch 192/300\n",
            "34/34 [==============================] - 0s 2ms/step - loss: 6485.9219 - mae: 6485.9219\n",
            "Epoch 193/300\n",
            "34/34 [==============================] - 0s 2ms/step - loss: 6500.4731 - mae: 6500.4731\n",
            "Epoch 194/300\n",
            "34/34 [==============================] - 0s 2ms/step - loss: 6358.4204 - mae: 6358.4204\n",
            "Epoch 195/300\n",
            "34/34 [==============================] - 0s 2ms/step - loss: 6436.3813 - mae: 6436.3813\n",
            "Epoch 196/300\n",
            "34/34 [==============================] - 0s 2ms/step - loss: 6312.7686 - mae: 6312.7686\n",
            "Epoch 197/300\n",
            "34/34 [==============================] - 0s 2ms/step - loss: 6307.4077 - mae: 6307.4077\n",
            "Epoch 198/300\n",
            "34/34 [==============================] - 0s 2ms/step - loss: 6425.8940 - mae: 6425.8940\n",
            "Epoch 199/300\n",
            "34/34 [==============================] - 0s 2ms/step - loss: 6409.6919 - mae: 6409.6919\n",
            "Epoch 200/300\n",
            "34/34 [==============================] - 0s 2ms/step - loss: 6173.5273 - mae: 6173.5273\n",
            "Epoch 201/300\n",
            "34/34 [==============================] - 0s 2ms/step - loss: 6447.3218 - mae: 6447.3218\n",
            "Epoch 202/300\n",
            "34/34 [==============================] - 0s 2ms/step - loss: 6364.1899 - mae: 6364.1899\n",
            "Epoch 203/300\n",
            "34/34 [==============================] - 0s 2ms/step - loss: 6310.3638 - mae: 6310.3638\n",
            "Epoch 204/300\n",
            "34/34 [==============================] - 0s 2ms/step - loss: 6503.4702 - mae: 6503.4702\n",
            "Epoch 205/300\n",
            "34/34 [==============================] - 0s 2ms/step - loss: 6382.0439 - mae: 6382.0439\n",
            "Epoch 206/300\n",
            "34/34 [==============================] - 0s 2ms/step - loss: 6490.6162 - mae: 6490.6162\n",
            "Epoch 207/300\n",
            "34/34 [==============================] - 0s 2ms/step - loss: 6233.9395 - mae: 6233.9395\n",
            "Epoch 208/300\n",
            "34/34 [==============================] - 0s 2ms/step - loss: 6435.8442 - mae: 6435.8442\n",
            "Epoch 209/300\n",
            "34/34 [==============================] - 0s 2ms/step - loss: 6404.4897 - mae: 6404.4897\n",
            "Epoch 210/300\n",
            "34/34 [==============================] - 0s 2ms/step - loss: 6268.3062 - mae: 6268.3062\n",
            "Epoch 211/300\n",
            "34/34 [==============================] - 0s 2ms/step - loss: 6454.8135 - mae: 6454.8135\n",
            "Epoch 212/300\n",
            "34/34 [==============================] - 0s 2ms/step - loss: 6197.8696 - mae: 6197.8696\n",
            "Epoch 213/300\n",
            "34/34 [==============================] - 0s 2ms/step - loss: 6473.3149 - mae: 6473.3149\n",
            "Epoch 214/300\n",
            "34/34 [==============================] - 0s 2ms/step - loss: 6153.7632 - mae: 6153.7632\n",
            "Epoch 215/300\n",
            "34/34 [==============================] - 0s 2ms/step - loss: 6410.2246 - mae: 6410.2246\n",
            "Epoch 216/300\n",
            "34/34 [==============================] - 0s 2ms/step - loss: 6221.9292 - mae: 6221.9292\n",
            "Epoch 217/300\n",
            "34/34 [==============================] - 0s 2ms/step - loss: 6352.6187 - mae: 6352.6187\n",
            "Epoch 218/300\n",
            "34/34 [==============================] - 0s 2ms/step - loss: 6328.7524 - mae: 6328.7524\n",
            "Epoch 219/300\n",
            "34/34 [==============================] - 0s 2ms/step - loss: 6341.6543 - mae: 6341.6543\n",
            "Epoch 220/300\n",
            "34/34 [==============================] - 0s 2ms/step - loss: 6170.3301 - mae: 6170.3301\n",
            "Epoch 221/300\n",
            "34/34 [==============================] - 0s 2ms/step - loss: 6270.8857 - mae: 6270.8857\n",
            "Epoch 222/300\n",
            "34/34 [==============================] - 0s 2ms/step - loss: 6018.8970 - mae: 6018.8970\n",
            "Epoch 223/300\n",
            "34/34 [==============================] - 0s 2ms/step - loss: 6225.2017 - mae: 6225.2017\n",
            "Epoch 224/300\n",
            "34/34 [==============================] - 0s 2ms/step - loss: 6103.4185 - mae: 6103.4185\n",
            "Epoch 225/300\n",
            "34/34 [==============================] - 0s 2ms/step - loss: 6269.1230 - mae: 6269.1230\n",
            "Epoch 226/300\n",
            "34/34 [==============================] - 0s 2ms/step - loss: 6137.0020 - mae: 6137.0020\n",
            "Epoch 227/300\n",
            "34/34 [==============================] - 0s 2ms/step - loss: 6164.7832 - mae: 6164.7832\n",
            "Epoch 228/300\n",
            "34/34 [==============================] - 0s 2ms/step - loss: 6119.1968 - mae: 6119.1968\n",
            "Epoch 229/300\n",
            "34/34 [==============================] - 0s 2ms/step - loss: 6326.5283 - mae: 6326.5283\n",
            "Epoch 230/300\n",
            "34/34 [==============================] - 0s 2ms/step - loss: 6251.0977 - mae: 6251.0977\n",
            "Epoch 231/300\n",
            "34/34 [==============================] - 0s 2ms/step - loss: 6108.8721 - mae: 6108.8721\n",
            "Epoch 232/300\n",
            "34/34 [==============================] - 0s 2ms/step - loss: 6257.8354 - mae: 6257.8354\n",
            "Epoch 233/300\n",
            "34/34 [==============================] - 0s 2ms/step - loss: 6398.4336 - mae: 6398.4336\n",
            "Epoch 234/300\n",
            "34/34 [==============================] - 0s 2ms/step - loss: 6208.1177 - mae: 6208.1177\n",
            "Epoch 235/300\n",
            "34/34 [==============================] - 0s 2ms/step - loss: 6244.8970 - mae: 6244.8970\n",
            "Epoch 236/300\n",
            "34/34 [==============================] - 0s 2ms/step - loss: 6217.4902 - mae: 6217.4902\n",
            "Epoch 237/300\n",
            "34/34 [==============================] - 0s 2ms/step - loss: 6092.3677 - mae: 6092.3677\n",
            "Epoch 238/300\n",
            "34/34 [==============================] - 0s 2ms/step - loss: 6201.5630 - mae: 6201.5630\n",
            "Epoch 239/300\n",
            "34/34 [==============================] - 0s 2ms/step - loss: 6090.4062 - mae: 6090.4062\n",
            "Epoch 240/300\n",
            "34/34 [==============================] - 0s 2ms/step - loss: 6167.4590 - mae: 6167.4590\n",
            "Epoch 241/300\n",
            "34/34 [==============================] - 0s 2ms/step - loss: 6134.2832 - mae: 6134.2832\n",
            "Epoch 242/300\n",
            "34/34 [==============================] - 0s 2ms/step - loss: 6220.4946 - mae: 6220.4946\n",
            "Epoch 243/300\n",
            "34/34 [==============================] - 0s 2ms/step - loss: 6235.2524 - mae: 6235.2524\n",
            "Epoch 244/300\n",
            "34/34 [==============================] - 0s 2ms/step - loss: 6169.0732 - mae: 6169.0732\n",
            "Epoch 245/300\n",
            "34/34 [==============================] - 0s 2ms/step - loss: 6091.6572 - mae: 6091.6572\n",
            "Epoch 246/300\n",
            "34/34 [==============================] - 0s 2ms/step - loss: 6120.0044 - mae: 6120.0044\n",
            "Epoch 247/300\n",
            "34/34 [==============================] - 0s 2ms/step - loss: 6257.7700 - mae: 6257.7700\n",
            "Epoch 248/300\n",
            "34/34 [==============================] - 0s 2ms/step - loss: 6138.0840 - mae: 6138.0840\n",
            "Epoch 249/300\n",
            "34/34 [==============================] - 0s 2ms/step - loss: 6030.9448 - mae: 6030.9448\n",
            "Epoch 250/300\n",
            "34/34 [==============================] - 0s 2ms/step - loss: 6033.9307 - mae: 6033.9307\n",
            "Epoch 251/300\n",
            "34/34 [==============================] - 0s 2ms/step - loss: 6010.6665 - mae: 6010.6665\n",
            "Epoch 252/300\n",
            "34/34 [==============================] - 0s 2ms/step - loss: 6242.1582 - mae: 6242.1582\n",
            "Epoch 253/300\n",
            "34/34 [==============================] - 0s 2ms/step - loss: 6188.0596 - mae: 6188.0596\n",
            "Epoch 254/300\n",
            "34/34 [==============================] - 0s 2ms/step - loss: 6234.0405 - mae: 6234.0405\n",
            "Epoch 255/300\n",
            "34/34 [==============================] - 0s 2ms/step - loss: 6186.9082 - mae: 6186.9082\n",
            "Epoch 256/300\n",
            "34/34 [==============================] - 0s 2ms/step - loss: 6039.8071 - mae: 6039.8071\n",
            "Epoch 257/300\n",
            "34/34 [==============================] - 0s 2ms/step - loss: 6065.9028 - mae: 6065.9028\n",
            "Epoch 258/300\n",
            "34/34 [==============================] - 0s 2ms/step - loss: 5979.0645 - mae: 5979.0645\n",
            "Epoch 259/300\n",
            "34/34 [==============================] - 0s 2ms/step - loss: 6204.9551 - mae: 6204.9551\n",
            "Epoch 260/300\n",
            "34/34 [==============================] - 0s 2ms/step - loss: 5920.5542 - mae: 5920.5542\n",
            "Epoch 261/300\n",
            "34/34 [==============================] - 0s 2ms/step - loss: 6107.8999 - mae: 6107.8999\n",
            "Epoch 262/300\n",
            "34/34 [==============================] - 0s 2ms/step - loss: 5996.1328 - mae: 5996.1328\n",
            "Epoch 263/300\n",
            "34/34 [==============================] - 0s 2ms/step - loss: 5901.8374 - mae: 5901.8374\n",
            "Epoch 264/300\n",
            "34/34 [==============================] - 0s 2ms/step - loss: 6062.7026 - mae: 6062.7026\n",
            "Epoch 265/300\n",
            "34/34 [==============================] - 0s 2ms/step - loss: 5746.5146 - mae: 5746.5146\n",
            "Epoch 266/300\n",
            "34/34 [==============================] - 0s 2ms/step - loss: 6023.7041 - mae: 6023.7041\n",
            "Epoch 267/300\n",
            "34/34 [==============================] - 0s 2ms/step - loss: 5927.9023 - mae: 5927.9023\n",
            "Epoch 268/300\n",
            "34/34 [==============================] - 0s 2ms/step - loss: 5988.7720 - mae: 5988.7720\n",
            "Epoch 269/300\n",
            "34/34 [==============================] - 0s 2ms/step - loss: 5994.2090 - mae: 5994.2090\n",
            "Epoch 270/300\n",
            "34/34 [==============================] - 0s 2ms/step - loss: 5944.5327 - mae: 5944.5327\n",
            "Epoch 271/300\n",
            "34/34 [==============================] - 0s 2ms/step - loss: 5861.5776 - mae: 5861.5776\n",
            "Epoch 272/300\n",
            "34/34 [==============================] - 0s 2ms/step - loss: 5917.4082 - mae: 5917.4082\n",
            "Epoch 273/300\n",
            "34/34 [==============================] - 0s 2ms/step - loss: 5639.1807 - mae: 5639.1807\n",
            "Epoch 274/300\n",
            "34/34 [==============================] - 0s 2ms/step - loss: 6097.7295 - mae: 6097.7295\n",
            "Epoch 275/300\n",
            "34/34 [==============================] - 0s 2ms/step - loss: 5911.0298 - mae: 5911.0298\n",
            "Epoch 276/300\n",
            "34/34 [==============================] - 0s 2ms/step - loss: 5954.6802 - mae: 5954.6802\n",
            "Epoch 277/300\n",
            "34/34 [==============================] - 0s 2ms/step - loss: 6076.9619 - mae: 6076.9619\n",
            "Epoch 278/300\n",
            "34/34 [==============================] - 0s 2ms/step - loss: 5966.1206 - mae: 5966.1206\n",
            "Epoch 279/300\n",
            "34/34 [==============================] - 0s 2ms/step - loss: 5883.1685 - mae: 5883.1685\n",
            "Epoch 280/300\n",
            "34/34 [==============================] - 0s 2ms/step - loss: 5844.4453 - mae: 5844.4453\n",
            "Epoch 281/300\n",
            "34/34 [==============================] - 0s 2ms/step - loss: 6003.5850 - mae: 6003.5850\n",
            "Epoch 282/300\n",
            "34/34 [==============================] - 0s 2ms/step - loss: 6050.9268 - mae: 6050.9268\n",
            "Epoch 283/300\n",
            "34/34 [==============================] - 0s 2ms/step - loss: 5748.5273 - mae: 5748.5273\n",
            "Epoch 284/300\n",
            "34/34 [==============================] - 0s 2ms/step - loss: 5839.7363 - mae: 5839.7363\n",
            "Epoch 285/300\n",
            "34/34 [==============================] - 0s 2ms/step - loss: 5763.4126 - mae: 5763.4126\n",
            "Epoch 286/300\n",
            "34/34 [==============================] - 0s 2ms/step - loss: 5591.2764 - mae: 5591.2764\n",
            "Epoch 287/300\n",
            "34/34 [==============================] - 0s 2ms/step - loss: 5972.0391 - mae: 5972.0391\n",
            "Epoch 288/300\n",
            "34/34 [==============================] - 0s 2ms/step - loss: 5909.6597 - mae: 5909.6597\n",
            "Epoch 289/300\n",
            "34/34 [==============================] - 0s 2ms/step - loss: 5789.5693 - mae: 5789.5693\n",
            "Epoch 290/300\n",
            "34/34 [==============================] - 0s 2ms/step - loss: 5986.2588 - mae: 5986.2588\n",
            "Epoch 291/300\n",
            "34/34 [==============================] - 0s 2ms/step - loss: 5746.4912 - mae: 5746.4912\n",
            "Epoch 292/300\n",
            "34/34 [==============================] - 0s 2ms/step - loss: 5779.7446 - mae: 5779.7446\n",
            "Epoch 293/300\n",
            "34/34 [==============================] - 0s 2ms/step - loss: 5774.6523 - mae: 5774.6523\n",
            "Epoch 294/300\n",
            "34/34 [==============================] - 0s 2ms/step - loss: 5910.7383 - mae: 5910.7383\n",
            "Epoch 295/300\n",
            "34/34 [==============================] - 0s 2ms/step - loss: 5793.2490 - mae: 5793.2490\n",
            "Epoch 296/300\n",
            "34/34 [==============================] - 0s 2ms/step - loss: 5606.9121 - mae: 5606.9121\n",
            "Epoch 297/300\n",
            "34/34 [==============================] - 0s 2ms/step - loss: 5672.8706 - mae: 5672.8706\n",
            "Epoch 298/300\n",
            "34/34 [==============================] - 0s 2ms/step - loss: 6206.5269 - mae: 6206.5269\n",
            "Epoch 299/300\n",
            "34/34 [==============================] - 0s 2ms/step - loss: 6059.6514 - mae: 6059.6514\n",
            "Epoch 300/300\n",
            "34/34 [==============================] - 0s 2ms/step - loss: 5741.5034 - mae: 5741.5034\n"
          ]
        },
        {
          "output_type": "execute_result",
          "data": {
            "text/plain": [
              "<keras.callbacks.History at 0x7f2e45562f50>"
            ]
          },
          "metadata": {},
          "execution_count": 92
        }
      ],
      "source": [
        "from scipy.optimize._lsq.least_squares import make_strictly_feasible\n",
        "# Build a neural network\n",
        "tf.random.set_seed(42)\n",
        "\n",
        "# 1. Create a model\n",
        "insurance_model = tf.keras.Sequential([\n",
        "    tf.keras.layers.Dense(100),\n",
        "    tf.keras.layers.Dense(10),\n",
        "])\n",
        "\n",
        "# 2. Compile the model\n",
        "insurance_model.compile(\n",
        "    loss=tf.keras.losses.mae,\n",
        "    optimizer=tf.keras.optimizers.SGD(),\n",
        "    metrics=[\"mae\"])\n",
        "\n",
        "# 3. Fit the model\n",
        "insurance_model.fit(x_train, y_train, epochs=300)"
      ]
    },
    {
      "cell_type": "code",
      "source": [
        "# Check the results of the insurance model on the test data\n",
        "insurance_model.evaluate(x_test, y_test)"
      ],
      "metadata": {
        "id": "-oTB52-Uo318",
        "outputId": "41d8601e-fe78-4265-fb90-d524c434dc95",
        "colab": {
          "base_uri": "https://localhost:8080/"
        }
      },
      "execution_count": 81,
      "outputs": [
        {
          "output_type": "stream",
          "name": "stdout",
          "text": [
            "9/9 [==============================] - 1s 7ms/step - loss: 7159.6064 - mae: 7159.6064\n"
          ]
        },
        {
          "output_type": "execute_result",
          "data": {
            "text/plain": [
              "[7159.6064453125, 7159.6064453125]"
            ]
          },
          "metadata": {},
          "execution_count": 81
        }
      ]
    },
    {
      "cell_type": "code",
      "source": [
        "y_train.median(), y_train.mean()"
      ],
      "metadata": {
        "id": "tKDPgSwqtJqz",
        "outputId": "d51d167f-a398-4eca-a268-b9d768f85a1f",
        "colab": {
          "base_uri": "https://localhost:8080/"
        }
      },
      "execution_count": 84,
      "outputs": [
        {
          "output_type": "execute_result",
          "data": {
            "text/plain": [
              "(9575.4421, 13346.089736364485)"
            ]
          },
          "metadata": {},
          "execution_count": 84
        }
      ]
    },
    {
      "cell_type": "code",
      "source": [],
      "metadata": {
        "id": "gh1LxNKDtM_U"
      },
      "execution_count": null,
      "outputs": []
    }
  ],
  "metadata": {
    "colab": {
      "provenance": []
    },
    "kernelspec": {
      "display_name": "Python 3",
      "name": "python3"
    },
    "language_info": {
      "codemirror_mode": {
        "name": "ipython",
        "version": 3
      },
      "file_extension": ".py",
      "mimetype": "text/x-python",
      "name": "python",
      "nbconvert_exporter": "python",
      "pygments_lexer": "ipython3",
      "version": "3.10.12"
    }
  },
  "nbformat": 4,
  "nbformat_minor": 0
}