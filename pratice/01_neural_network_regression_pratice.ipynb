{
  "cells": [
    {
      "attachments": {},
      "cell_type": "markdown",
      "metadata": {
        "id": "-2v6sz12PBnH"
      },
      "source": [
        "# INTRODUCTION TO REGRESSION WITH NEURAL NETWORKS IN TENSORFLOW"
      ]
    },
    {
      "cell_type": "code",
      "execution_count": 1,
      "metadata": {
        "colab": {
          "base_uri": "https://localhost:8080/"
        },
        "id": "8uLcqJnzPaq_",
        "outputId": "c27e78f7-21ba-4b70-92d7-d47b4fd97261"
      },
      "outputs": [
        {
          "name": "stderr",
          "output_type": "stream",
          "text": [
            "2023-07-18 00:13:25.467038: I tensorflow/core/platform/cpu_feature_guard.cc:182] This TensorFlow binary is optimized to use available CPU instructions in performance-critical operations.\n",
            "To enable the following instructions: SSE4.1 SSE4.2 AVX AVX2 AVX512F AVX512_VNNI FMA, in other operations, rebuild TensorFlow with the appropriate compiler flags.\n"
          ]
        },
        {
          "name": "stdout",
          "output_type": "stream",
          "text": [
            "2.12.0\n"
          ]
        }
      ],
      "source": [
        "# Import TensorFlow\n",
        "import tensorflow as tf\n",
        "print(tf.__version__)"
      ]
    },
    {
      "attachments": {},
      "cell_type": "markdown",
      "metadata": {
        "id": "DjbW0-8XPlVS"
      },
      "source": [
        "## Creating data to view and fit"
      ]
    },
    {
      "cell_type": "code",
      "execution_count": 2,
      "metadata": {
        "colab": {
          "base_uri": "https://localhost:8080/",
          "height": 452
        },
        "id": "zb6r5iWxPve7",
        "outputId": "7b8cdf62-8534-4ae1-c2b9-ec06b6ec1aad"
      },
      "outputs": [
        {
          "data": {
            "text/plain": [
              "<matplotlib.collections.PathCollection at 0x7fb08b981600>"
            ]
          },
          "execution_count": 2,
          "metadata": {},
          "output_type": "execute_result"
        },
        {
          "data": {
            "image/png": "[encoded data removed]",
            "text/plain": [
              "<Figure size 640x480 with 1 Axes>"
            ]
          },
          "metadata": {},
          "output_type": "display_data"
        }
      ],
      "source": [
        "import numpy as np\n",
        "import matplotlib.pyplot as plt\n",
        "\n",
        "# Create features\n",
        "x = np.array([-7.0, -4.0, -1.0, 2.0, 5.0, 8.0, 11.0, 14.0])\n",
        "\n",
        "# Create labels\n",
        "y = np.array([3.0, 6.0, 9.0, 12.0, 15.0, 18.0, 21.0, 24.0])\n",
        "\n",
        "# Visualize it\n",
        "plt.scatter(x, y)"
      ]
    },
    {
      "cell_type": "code",
      "execution_count": 3,
      "metadata": {
        "colab": {
          "base_uri": "https://localhost:8080/"
        },
        "id": "tF2YtHyjPuUP",
        "outputId": "77784d88-535f-4cca-d725-f47c44d5ce20"
      },
      "outputs": [
        {
          "data": {
            "text/plain": [
              "array([ True,  True,  True,  True,  True,  True,  True,  True])"
            ]
          },
          "execution_count": 3,
          "metadata": {},
          "output_type": "execute_result"
        }
      ],
      "source": [
        "y == x + 10"
      ]
    },
    {
      "attachments": {},
      "cell_type": "markdown",
      "metadata": {
        "id": "k16pFcIrQoY9"
      },
      "source": [
        "## Input and output shapes"
      ]
    },
    {
      "cell_type": "code",
      "execution_count": 4,
      "metadata": {
        "colab": {
          "base_uri": "https://localhost:8080/"
        },
        "id": "Gsxz_vqIQw6I",
        "outputId": "3d4a8f3f-93d3-4639-95dd-f1d3a3af3ead"
      },
      "outputs": [
        {
          "name": "stderr",
          "output_type": "stream",
          "text": [
            "2023-07-18 00:13:41.184757: I tensorflow/core/common_runtime/process_util.cc:146] Creating new thread pool with default inter op setting: 2. Tune using inter_op_parallelism_threads for best performance.\n"
          ]
        },
        {
          "data": {
            "text/plain": [
              "(<tf.Tensor: shape=(3,), dtype=string, numpy=array([b'bedroom', b'bathroom', b'garage'], dtype=object)>,\n",
              " <tf.Tensor: shape=(1,), dtype=int32, numpy=array([939700], dtype=int32)>)"
            ]
          },
          "execution_count": 4,
          "metadata": {},
          "output_type": "execute_result"
        }
      ],
      "source": [
        "# Create a demo tensor for our housing price prediction problem\n",
        "house_info = tf.constant([\"bedroom\", \"bathroom\", \"garage\"])\n",
        "house_price = tf.constant([939700])\n",
        "house_info, house_price"
      ]
    },
    {
      "cell_type": "code",
      "execution_count": 5,
      "metadata": {
        "colab": {
          "base_uri": "https://localhost:8080/"
        },
        "id": "BcMnSW9DRsIs",
        "outputId": "f875fb4a-da1d-4655-e91c-74c3cd7b1c62"
      },
      "outputs": [
        {
          "data": {
            "text/plain": [
              "(-7.0, 3.0)"
            ]
          },
          "execution_count": 5,
          "metadata": {},
          "output_type": "execute_result"
        }
      ],
      "source": [
        "x[0], y[0]"
      ]
    },
    {
      "cell_type": "code",
      "execution_count": 6,
      "metadata": {
        "colab": {
          "base_uri": "https://localhost:8080/"
        },
        "id": "1hWLRy_HRVo0",
        "outputId": "9f51ed6b-899e-473e-e17d-628360695ac8"
      },
      "outputs": [
        {
          "data": {
            "text/plain": [
              "((), ())"
            ]
          },
          "execution_count": 6,
          "metadata": {},
          "output_type": "execute_result"
        }
      ],
      "source": [
        "input_shape = x[0].shape\n",
        "output_shape = y[0].shape\n",
        "input_shape, output_shape"
      ]
    },
    {
      "cell_type": "code",
      "execution_count": 7,
      "metadata": {
        "colab": {
          "base_uri": "https://localhost:8080/"
        },
        "id": "fTbroJEHReBi",
        "outputId": "60fd7c7b-832c-4c28-d124-cdb58f542ce8"
      },
      "outputs": [
        {
          "data": {
            "text/plain": [
              "0"
            ]
          },
          "execution_count": 7,
          "metadata": {},
          "output_type": "execute_result"
        }
      ],
      "source": [
        "x[0].ndim"
      ]
    },
    {
      "cell_type": "code",
      "execution_count": 8,
      "metadata": {
        "colab": {
          "base_uri": "https://localhost:8080/"
        },
        "id": "pAiTx-QKR9Re",
        "outputId": "3385e8b0-1e8f-4860-a3e9-1e18fb0e0d2f"
      },
      "outputs": [
        {
          "data": {
            "text/plain": [
              "(-7.0, 3.0)"
            ]
          },
          "execution_count": 8,
          "metadata": {},
          "output_type": "execute_result"
        }
      ],
      "source": [
        "x[0], y[0]"
      ]
    },
    {
      "cell_type": "code",
      "execution_count": 9,
      "metadata": {
        "colab": {
          "base_uri": "https://localhost:8080/"
        },
        "id": "6LoDvmMuSAN_",
        "outputId": "cdeffd4b-18eb-4b2c-9ae5-1404cdb27b70"
      },
      "outputs": [
        {
          "data": {
            "text/plain": [
              "(<tf.Tensor: shape=(8,), dtype=float64, numpy=array([-7., -4., -1.,  2.,  5.,  8., 11., 14.])>,\n",
              " <tf.Tensor: shape=(8,), dtype=float64, numpy=array([ 3.,  6.,  9., 12., 15., 18., 21., 24.])>)"
            ]
          },
          "execution_count": 9,
          "metadata": {},
          "output_type": "execute_result"
        }
      ],
      "source": [
        "# Turn our NumPy Arayys into tensors\n",
        "x = tf.constant(x)\n",
        "y = tf.constant(y)\n",
        "x, y"
      ]
    },
    {
      "cell_type": "code",
      "execution_count": 10,
      "metadata": {
        "colab": {
          "base_uri": "https://localhost:8080/"
        },
        "id": "oDk0TvVuTmiu",
        "outputId": "1aa50728-76c2-4f9f-cc12-c9013ad3830b"
      },
      "outputs": [
        {
          "data": {
            "text/plain": [
              "(TensorShape([]), TensorShape([]))"
            ]
          },
          "execution_count": 10,
          "metadata": {},
          "output_type": "execute_result"
        }
      ],
      "source": [
        "input_shape = x[0].shape\n",
        "output_shape = y[0].shape\n",
        "input_shape, output_shape"
      ]
    },
    {
      "cell_type": "code",
      "execution_count": 11,
      "metadata": {
        "colab": {
          "base_uri": "https://localhost:8080/",
          "height": 452
        },
        "id": "adJxBSZZT5Vy",
        "outputId": "9d8885c5-19f1-4bdc-804c-bf8a9b851735"
      },
      "outputs": [
        {
          "data": {
            "text/plain": [
              "<matplotlib.collections.PathCollection at 0x7fb08b7f9d50>"
            ]
          },
          "execution_count": 11,
          "metadata": {},
          "output_type": "execute_result"
        },
        {
          "data": {
            "image/png": "[encoded data removed]",
            "text/plain": [
              "<Figure size 640x480 with 1 Axes>"
            ]
          },
          "metadata": {},
          "output_type": "display_data"
        }
      ],
      "source": [
        "plt.scatter(x, y)"
      ]
    },
    {
      "attachments": {},
      "cell_type": "markdown",
      "metadata": {
        "id": "XVLxC6GIUCLv"
      },
      "source": [
        "# Steps in modelling with TensorFlow\n",
        "\n",
        "1. Creating a model\n",
        "2. Compiling a model\n",
        "3. Fitting a model"
      ]
    },
    {
      "cell_type": "code",
      "execution_count": 12,
      "metadata": {
        "id": "dlscrAysUKDl"
      },
      "outputs": [
        {
          "name": "stdout",
          "output_type": "stream",
          "text": [
            "Epoch 1/5\n"
          ]
        },
        {
          "name": "stdout",
          "output_type": "stream",
          "text": [
            "1/1 [==============================] - 1s 944ms/step - loss: 11.4920 - mae: 11.4920\n",
            "Epoch 2/5\n",
            "1/1 [==============================] - 0s 29ms/step - loss: 11.3595 - mae: 11.3595\n",
            "Epoch 3/5\n",
            "1/1 [==============================] - 0s 14ms/step - loss: 11.2270 - mae: 11.2270\n",
            "Epoch 4/5\n",
            "1/1 [==============================] - 0s 25ms/step - loss: 11.0945 - mae: 11.0945\n",
            "Epoch 5/5\n",
            "1/1 [==============================] - 0s 35ms/step - loss: 10.9620 - mae: 10.9620\n"
          ]
        },
        {
          "data": {
            "text/plain": [
              "<keras.callbacks.History at 0x7fb080587520>"
            ]
          },
          "execution_count": 12,
          "metadata": {},
          "output_type": "execute_result"
        }
      ],
      "source": [
        "# Set random seed\n",
        "tf.random.set_seed(42)\n",
        "\n",
        "# Create a model using the sequential API\n",
        "model = tf.keras.Sequential([\n",
        "    tf.keras.layers.Dense(1)\n",
        "])\n",
        "\n",
        "# Compile the model\n",
        "model.compile(loss=tf.keras.losses.mae, optimizer=tf.keras.optimizers.SGD(), metrics=[\"mae\"])\n",
        "\n",
        "# Fit the model\n",
        "# model.fit(X, y, epochs=5) # this will break with TensorFlow 2.7.0+\n",
        "model.fit(tf.expand_dims(x, axis=-1), y, epochs=5)"
      ]
    },
    {
      "cell_type": "code",
      "execution_count": 13,
      "metadata": {},
      "outputs": [
        {
          "data": {
            "text/plain": [
              "(<tf.Tensor: shape=(8,), dtype=float64, numpy=array([-7., -4., -1.,  2.,  5.,  8., 11., 14.])>,\n",
              " <tf.Tensor: shape=(8,), dtype=float64, numpy=array([ 3.,  6.,  9., 12., 15., 18., 21., 24.])>)"
            ]
          },
          "execution_count": 13,
          "metadata": {},
          "output_type": "execute_result"
        }
      ],
      "source": [
        "# Check out x and y\n",
        "x, y"
      ]
    },
    {
      "cell_type": "code",
      "execution_count": 14,
      "metadata": {},
      "outputs": [
        {
          "name": "stdout",
          "output_type": "stream",
          "text": [
            "1/1 [==============================] - 0s 173ms/step\n"
          ]
        },
        {
          "data": {
            "text/plain": [
              "array([[12.778134]], dtype=float32)"
            ]
          },
          "execution_count": 14,
          "metadata": {},
          "output_type": "execute_result"
        }
      ],
      "source": [
        "# Try and make a prediction using the model\n",
        "y_pred = model.predict([17.0])\n",
        "y_pred"
      ]
    },
    {
      "cell_type": "code",
      "execution_count": 15,
      "metadata": {},
      "outputs": [
        {
          "data": {
            "text/plain": [
              "array([[23.778133]], dtype=float32)"
            ]
          },
          "execution_count": 15,
          "metadata": {},
          "output_type": "execute_result"
        }
      ],
      "source": [
        "y_pred + 11"
      ]
    },
    {
      "attachments": {},
      "cell_type": "markdown",
      "metadata": {},
      "source": [
        "## Imporving our Model\n",
        "\n",
        "1. **Creating a model** - define the input and output layers, as well as the hidden layers of a deep learning model.\n",
        "2. **Compiling a model** - define the loss function (in other words, the function which tells our model how wrong it is) and the optimizer (tells our model how to improve the patterns its learning) and evaluation metrics (what we can use to interpret the performance of our model).\n",
        "3. **Fitting a model** - letting the model try to find patterns between X & y (features and labels)."
      ]
    },
    {
      "cell_type": "code",
      "execution_count": 16,
      "metadata": {},
      "outputs": [
        {
          "name": "stdout",
          "output_type": "stream",
          "text": [
            "Epoch 1/100\n",
            "1/1 [==============================] - 0s 476ms/step - loss: 16.9705 - mae: 16.9705\n",
            "Epoch 2/100\n",
            "1/1 [==============================] - 0s 18ms/step - loss: 16.6893 - mae: 16.6893\n",
            "Epoch 3/100\n",
            "1/1 [==============================] - 0s 29ms/step - loss: 16.4080 - mae: 16.4080\n",
            "Epoch 4/100\n",
            "1/1 [==============================] - 0s 32ms/step - loss: 16.1268 - mae: 16.1268\n",
            "Epoch 5/100\n",
            "1/1 [==============================] - 0s 19ms/step - loss: 15.8455 - mae: 15.8455\n",
            "Epoch 6/100\n",
            "1/1 [==============================] - 0s 26ms/step - loss: 15.5643 - mae: 15.5643\n",
            "Epoch 7/100\n",
            "1/1 [==============================] - 0s 21ms/step - loss: 15.2830 - mae: 15.2830\n",
            "Epoch 8/100\n",
            "1/1 [==============================] - 0s 25ms/step - loss: 15.0018 - mae: 15.0018\n",
            "Epoch 9/100\n",
            "1/1 [==============================] - 0s 26ms/step - loss: 14.7837 - mae: 14.7837\n",
            "Epoch 10/100\n",
            "1/1 [==============================] - 0s 26ms/step - loss: 14.6512 - mae: 14.6512\n",
            "Epoch 11/100\n",
            "1/1 [==============================] - 0s 18ms/step - loss: 14.5187 - mae: 14.5187\n",
            "Epoch 12/100\n",
            "1/1 [==============================] - 0s 29ms/step - loss: 14.3862 - mae: 14.3862\n",
            "Epoch 13/100\n",
            "1/1 [==============================] - 0s 30ms/step - loss: 14.2537 - mae: 14.2537\n",
            "Epoch 14/100\n",
            "1/1 [==============================] - 0s 23ms/step - loss: 14.1212 - mae: 14.1212\n",
            "Epoch 15/100\n",
            "1/1 [==============================] - 0s 15ms/step - loss: 13.9887 - mae: 13.9887\n",
            "Epoch 16/100\n",
            "1/1 [==============================] - 0s 24ms/step - loss: 13.8562 - mae: 13.8562\n",
            "Epoch 17/100\n",
            "1/1 [==============================] - 0s 21ms/step - loss: 13.7237 - mae: 13.7237\n",
            "Epoch 18/100\n",
            "1/1 [==============================] - 0s 19ms/step - loss: 13.5912 - mae: 13.5912\n",
            "Epoch 19/100\n",
            "1/1 [==============================] - 0s 24ms/step - loss: 13.4587 - mae: 13.4587\n",
            "Epoch 20/100\n",
            "1/1 [==============================] - 0s 22ms/step - loss: 13.3262 - mae: 13.3262\n",
            "Epoch 21/100\n",
            "1/1 [==============================] - 0s 14ms/step - loss: 13.1937 - mae: 13.1937\n",
            "Epoch 22/100\n",
            "1/1 [==============================] - 0s 20ms/step - loss: 13.0612 - mae: 13.0612\n",
            "Epoch 23/100\n",
            "1/1 [==============================] - 0s 18ms/step - loss: 12.9287 - mae: 12.9287\n",
            "Epoch 24/100\n",
            "1/1 [==============================] - 0s 15ms/step - loss: 12.7962 - mae: 12.7962\n",
            "Epoch 25/100\n",
            "1/1 [==============================] - 0s 45ms/step - loss: 12.6637 - mae: 12.6637\n",
            "Epoch 26/100\n",
            "1/1 [==============================] - 0s 15ms/step - loss: 12.5312 - mae: 12.5312\n",
            "Epoch 27/100\n",
            "1/1 [==============================] - 0s 9ms/step - loss: 12.3987 - mae: 12.3987\n",
            "Epoch 28/100\n",
            "1/1 [==============================] - 0s 15ms/step - loss: 12.2662 - mae: 12.2662\n",
            "Epoch 29/100\n",
            "1/1 [==============================] - 0s 16ms/step - loss: 12.1337 - mae: 12.1337\n",
            "Epoch 30/100\n",
            "1/1 [==============================] - 0s 36ms/step - loss: 12.0012 - mae: 12.0012\n",
            "Epoch 31/100\n",
            "1/1 [==============================] - 0s 15ms/step - loss: 11.8687 - mae: 11.8687\n",
            "Epoch 32/100\n",
            "1/1 [==============================] - 0s 20ms/step - loss: 11.7362 - mae: 11.7362\n",
            "Epoch 33/100\n",
            "1/1 [==============================] - 0s 18ms/step - loss: 11.6037 - mae: 11.6037\n",
            "Epoch 34/100\n",
            "1/1 [==============================] - 0s 33ms/step - loss: 11.4712 - mae: 11.4712\n",
            "Epoch 35/100\n",
            "1/1 [==============================] - 0s 24ms/step - loss: 11.3387 - mae: 11.3387\n",
            "Epoch 36/100\n",
            "1/1 [==============================] - 0s 92ms/step - loss: 11.2062 - mae: 11.2062\n",
            "Epoch 37/100\n",
            "1/1 [==============================] - 0s 43ms/step - loss: 11.0737 - mae: 11.0737\n",
            "Epoch 38/100\n",
            "1/1 [==============================] - 0s 37ms/step - loss: 10.9412 - mae: 10.9412\n",
            "Epoch 39/100\n",
            "1/1 [==============================] - 0s 26ms/step - loss: 10.8087 - mae: 10.8087\n",
            "Epoch 40/100\n",
            "1/1 [==============================] - 0s 39ms/step - loss: 10.6762 - mae: 10.6762\n",
            "Epoch 41/100\n",
            "1/1 [==============================] - 0s 34ms/step - loss: 10.5437 - mae: 10.5437\n",
            "Epoch 42/100\n",
            "1/1 [==============================] - 0s 31ms/step - loss: 10.4112 - mae: 10.4112\n",
            "Epoch 43/100\n",
            "1/1 [==============================] - 0s 53ms/step - loss: 10.2787 - mae: 10.2787\n",
            "Epoch 44/100\n",
            "1/1 [==============================] - 0s 34ms/step - loss: 10.1462 - mae: 10.1462\n",
            "Epoch 45/100\n",
            "1/1 [==============================] - 0s 52ms/step - loss: 10.0137 - mae: 10.0137\n",
            "Epoch 46/100\n",
            "1/1 [==============================] - 0s 42ms/step - loss: 9.8812 - mae: 9.8812\n",
            "Epoch 47/100\n",
            "1/1 [==============================] - 0s 34ms/step - loss: 9.7487 - mae: 9.7487\n",
            "Epoch 48/100\n",
            "1/1 [==============================] - 0s 33ms/step - loss: 9.6162 - mae: 9.6162\n",
            "Epoch 49/100\n",
            "1/1 [==============================] - 0s 38ms/step - loss: 9.4837 - mae: 9.4837\n",
            "Epoch 50/100\n",
            "1/1 [==============================] - 0s 19ms/step - loss: 9.3512 - mae: 9.3512\n",
            "Epoch 51/100\n",
            "1/1 [==============================] - 0s 28ms/step - loss: 9.2187 - mae: 9.2187\n",
            "Epoch 52/100\n",
            "1/1 [==============================] - 0s 22ms/step - loss: 9.0862 - mae: 9.0862\n",
            "Epoch 53/100\n",
            "1/1 [==============================] - 0s 29ms/step - loss: 8.9537 - mae: 8.9537\n",
            "Epoch 54/100\n",
            "1/1 [==============================] - 0s 34ms/step - loss: 8.8212 - mae: 8.8212\n",
            "Epoch 55/100\n",
            "1/1 [==============================] - 0s 35ms/step - loss: 8.6887 - mae: 8.6887\n",
            "Epoch 56/100\n",
            "1/1 [==============================] - 0s 33ms/step - loss: 8.5562 - mae: 8.5562\n",
            "Epoch 57/100\n",
            "1/1 [==============================] - 0s 28ms/step - loss: 8.4237 - mae: 8.4237\n",
            "Epoch 58/100\n",
            "1/1 [==============================] - 0s 39ms/step - loss: 8.2912 - mae: 8.2912\n",
            "Epoch 59/100\n",
            "1/1 [==============================] - 0s 19ms/step - loss: 8.1587 - mae: 8.1587\n",
            "Epoch 60/100\n",
            "1/1 [==============================] - 0s 18ms/step - loss: 8.0262 - mae: 8.0262\n",
            "Epoch 61/100\n",
            "1/1 [==============================] - 0s 19ms/step - loss: 7.8937 - mae: 7.8937\n",
            "Epoch 62/100\n",
            "1/1 [==============================] - 0s 25ms/step - loss: 7.7612 - mae: 7.7612\n",
            "Epoch 63/100\n",
            "1/1 [==============================] - 0s 30ms/step - loss: 7.6287 - mae: 7.6287\n",
            "Epoch 64/100\n",
            "1/1 [==============================] - 0s 20ms/step - loss: 7.4962 - mae: 7.4962\n",
            "Epoch 65/100\n",
            "1/1 [==============================] - 0s 24ms/step - loss: 7.3637 - mae: 7.3637\n",
            "Epoch 66/100\n",
            "1/1 [==============================] - 0s 28ms/step - loss: 7.2312 - mae: 7.2312\n",
            "Epoch 67/100\n",
            "1/1 [==============================] - 0s 33ms/step - loss: 7.0987 - mae: 7.0987\n",
            "Epoch 68/100\n",
            "1/1 [==============================] - 0s 21ms/step - loss: 7.0125 - mae: 7.0125\n",
            "Epoch 69/100\n",
            "1/1 [==============================] - 0s 15ms/step - loss: 7.0069 - mae: 7.0069\n",
            "Epoch 70/100\n",
            "1/1 [==============================] - 0s 23ms/step - loss: 7.0013 - mae: 7.0013\n",
            "Epoch 71/100\n",
            "1/1 [==============================] - 0s 11ms/step - loss: 6.9956 - mae: 6.9956\n",
            "Epoch 72/100\n",
            "1/1 [==============================] - 0s 22ms/step - loss: 6.9900 - mae: 6.9900\n",
            "Epoch 73/100\n",
            "1/1 [==============================] - 0s 35ms/step - loss: 6.9844 - mae: 6.9844\n",
            "Epoch 74/100\n",
            "1/1 [==============================] - 0s 19ms/step - loss: 6.9788 - mae: 6.9788\n",
            "Epoch 75/100\n",
            "1/1 [==============================] - 0s 19ms/step - loss: 6.9731 - mae: 6.9731\n",
            "Epoch 76/100\n",
            "1/1 [==============================] - 0s 32ms/step - loss: 6.9675 - mae: 6.9675\n",
            "Epoch 77/100\n",
            "1/1 [==============================] - 0s 17ms/step - loss: 6.9619 - mae: 6.9619\n",
            "Epoch 78/100\n",
            "1/1 [==============================] - 0s 12ms/step - loss: 6.9563 - mae: 6.9563\n",
            "Epoch 79/100\n",
            "1/1 [==============================] - 0s 11ms/step - loss: 6.9506 - mae: 6.9506\n",
            "Epoch 80/100\n",
            "1/1 [==============================] - 0s 15ms/step - loss: 6.9450 - mae: 6.9450\n",
            "Epoch 81/100\n",
            "1/1 [==============================] - 0s 15ms/step - loss: 6.9394 - mae: 6.9394\n",
            "Epoch 82/100\n",
            "1/1 [==============================] - 0s 27ms/step - loss: 6.9338 - mae: 6.9338\n",
            "Epoch 83/100\n",
            "1/1 [==============================] - 0s 9ms/step - loss: 6.9281 - mae: 6.9281\n",
            "Epoch 84/100\n",
            "1/1 [==============================] - 0s 10ms/step - loss: 6.9225 - mae: 6.9225\n",
            "Epoch 85/100\n",
            "1/1 [==============================] - 0s 20ms/step - loss: 6.9169 - mae: 6.9169\n",
            "Epoch 86/100\n",
            "1/1 [==============================] - 0s 10ms/step - loss: 6.9113 - mae: 6.9113\n",
            "Epoch 87/100\n",
            "1/1 [==============================] - 0s 22ms/step - loss: 6.9056 - mae: 6.9056\n",
            "Epoch 88/100\n",
            "1/1 [==============================] - 0s 21ms/step - loss: 6.9000 - mae: 6.9000\n",
            "Epoch 89/100\n",
            "1/1 [==============================] - 0s 22ms/step - loss: 6.8944 - mae: 6.8944\n",
            "Epoch 90/100\n",
            "1/1 [==============================] - 0s 30ms/step - loss: 6.8888 - mae: 6.8888\n",
            "Epoch 91/100\n",
            "1/1 [==============================] - 0s 21ms/step - loss: 6.8831 - mae: 6.8831\n",
            "Epoch 92/100\n",
            "1/1 [==============================] - 0s 24ms/step - loss: 6.8775 - mae: 6.8775\n",
            "Epoch 93/100\n",
            "1/1 [==============================] - 0s 21ms/step - loss: 6.8719 - mae: 6.8719\n",
            "Epoch 94/100\n",
            "1/1 [==============================] - 0s 34ms/step - loss: 6.8663 - mae: 6.8663\n",
            "Epoch 95/100\n",
            "1/1 [==============================] - 0s 20ms/step - loss: 6.8606 - mae: 6.8606\n",
            "Epoch 96/100\n",
            "1/1 [==============================] - 0s 17ms/step - loss: 6.8550 - mae: 6.8550\n",
            "Epoch 97/100\n",
            "1/1 [==============================] - 0s 32ms/step - loss: 6.8494 - mae: 6.8494\n",
            "Epoch 98/100\n",
            "1/1 [==============================] - 0s 26ms/step - loss: 6.8438 - mae: 6.8438\n",
            "Epoch 99/100\n",
            "1/1 [==============================] - 0s 28ms/step - loss: 6.8381 - mae: 6.8381\n",
            "Epoch 100/100\n",
            "1/1 [==============================] - 0s 14ms/step - loss: 6.8325 - mae: 6.8325\n"
          ]
        },
        {
          "data": {
            "text/plain": [
              "<keras.callbacks.History at 0x7fb0803cac80>"
            ]
          },
          "execution_count": 16,
          "metadata": {},
          "output_type": "execute_result"
        }
      ],
      "source": [
        "# let's rebuild our model\n",
        "\n",
        "# 1. Create the model\n",
        "model = tf.keras.Sequential([\n",
        "    tf.keras.layers.Dense(1)\n",
        "])\n",
        "\n",
        "# 2. Compile the model\n",
        "model.compile(loss=tf.keras.losses.mae, optimizer=tf.keras.optimizers.SGD(), metrics=['mae'])\n",
        "\n",
        "# 3. Fit the model (this time we train for longer)\n",
        "model.fit(tf.expand_dims(x, axis=1), y, epochs=100)"
      ]
    },
    {
      "cell_type": "code",
      "execution_count": 17,
      "metadata": {},
      "outputs": [
        {
          "data": {
            "text/plain": [
              "(<tf.Tensor: shape=(8,), dtype=float64, numpy=array([-7., -4., -1.,  2.,  5.,  8., 11., 14.])>,\n",
              " <tf.Tensor: shape=(8,), dtype=float64, numpy=array([ 3.,  6.,  9., 12., 15., 18., 21., 24.])>)"
            ]
          },
          "execution_count": 17,
          "metadata": {},
          "output_type": "execute_result"
        }
      ],
      "source": [
        "# Remind ourselves of the data\n",
        "x, y"
      ]
    },
    {
      "cell_type": "code",
      "execution_count": 18,
      "metadata": {},
      "outputs": [
        {
          "name": "stdout",
          "output_type": "stream",
          "text": [
            "1/1 [==============================] - 0s 143ms/step\n"
          ]
        },
        {
          "data": {
            "text/plain": [
              "array([[29.475973]], dtype=float32)"
            ]
          },
          "execution_count": 18,
          "metadata": {},
          "output_type": "execute_result"
        }
      ],
      "source": [
        "model.predict([17.0])"
      ]
    },
    {
      "cell_type": "code",
      "execution_count": 19,
      "metadata": {},
      "outputs": [
        {
          "name": "stdout",
          "output_type": "stream",
          "text": [
            "Epoch 1/100\n",
            "1/1 [==============================] - 1s 859ms/step - loss: 13.1425 - mae: 13.1425\n",
            "Epoch 2/100\n",
            "1/1 [==============================] - 0s 33ms/step - loss: 12.4964 - mae: 12.4964\n",
            "Epoch 3/100\n",
            "1/1 [==============================] - 0s 14ms/step - loss: 11.8606 - mae: 11.8606\n",
            "Epoch 4/100\n",
            "1/1 [==============================] - 0s 23ms/step - loss: 11.2530 - mae: 11.2530\n",
            "Epoch 5/100\n",
            "1/1 [==============================] - 0s 19ms/step - loss: 10.6613 - mae: 10.6613\n",
            "Epoch 6/100\n",
            "1/1 [==============================] - 0s 19ms/step - loss: 10.0744 - mae: 10.0744\n",
            "Epoch 7/100\n",
            "1/1 [==============================] - 0s 20ms/step - loss: 9.6258 - mae: 9.6258\n",
            "Epoch 8/100\n",
            "1/1 [==============================] - 0s 16ms/step - loss: 9.1757 - mae: 9.1757\n",
            "Epoch 9/100\n",
            "1/1 [==============================] - 0s 12ms/step - loss: 8.7260 - mae: 8.7260\n",
            "Epoch 10/100\n",
            "1/1 [==============================] - 0s 29ms/step - loss: 8.2653 - mae: 8.2653\n",
            "Epoch 11/100\n",
            "1/1 [==============================] - 0s 29ms/step - loss: 7.7936 - mae: 7.7936\n",
            "Epoch 12/100\n",
            "1/1 [==============================] - 0s 30ms/step - loss: 7.3156 - mae: 7.3156\n",
            "Epoch 13/100\n",
            "1/1 [==============================] - 0s 15ms/step - loss: 6.8379 - mae: 6.8379\n",
            "Epoch 14/100\n",
            "1/1 [==============================] - 0s 23ms/step - loss: 6.3499 - mae: 6.3499\n",
            "Epoch 15/100\n",
            "1/1 [==============================] - 0s 24ms/step - loss: 5.8481 - mae: 5.8481\n",
            "Epoch 16/100\n",
            "1/1 [==============================] - 0s 25ms/step - loss: 5.3318 - mae: 5.3318\n",
            "Epoch 17/100\n",
            "1/1 [==============================] - 0s 17ms/step - loss: 4.8026 - mae: 4.8026\n",
            "Epoch 18/100\n",
            "1/1 [==============================] - 0s 24ms/step - loss: 4.2567 - mae: 4.2567\n",
            "Epoch 19/100\n",
            "1/1 [==============================] - 0s 33ms/step - loss: 3.9107 - mae: 3.9107\n",
            "Epoch 20/100\n",
            "1/1 [==============================] - 0s 23ms/step - loss: 3.7257 - mae: 3.7257\n",
            "Epoch 21/100\n",
            "1/1 [==============================] - 0s 33ms/step - loss: 3.8112 - mae: 3.8112\n",
            "Epoch 22/100\n",
            "1/1 [==============================] - 0s 15ms/step - loss: 3.9026 - mae: 3.9026\n",
            "Epoch 23/100\n",
            "1/1 [==============================] - 0s 17ms/step - loss: 3.9798 - mae: 3.9798\n",
            "Epoch 24/100\n",
            "1/1 [==============================] - 0s 30ms/step - loss: 4.1297 - mae: 4.1297\n",
            "Epoch 25/100\n",
            "1/1 [==============================] - 0s 32ms/step - loss: 4.2726 - mae: 4.2726\n",
            "Epoch 26/100\n",
            "1/1 [==============================] - 0s 25ms/step - loss: 4.3567 - mae: 4.3567\n",
            "Epoch 27/100\n",
            "1/1 [==============================] - 0s 29ms/step - loss: 4.3890 - mae: 4.3890\n",
            "Epoch 28/100\n",
            "1/1 [==============================] - 0s 18ms/step - loss: 4.3736 - mae: 4.3736\n",
            "Epoch 29/100\n",
            "1/1 [==============================] - 0s 17ms/step - loss: 4.3186 - mae: 4.3186\n",
            "Epoch 30/100\n",
            "1/1 [==============================] - 0s 14ms/step - loss: 4.2265 - mae: 4.2265\n",
            "Epoch 31/100\n",
            "1/1 [==============================] - 0s 28ms/step - loss: 4.1032 - mae: 4.1032\n",
            "Epoch 32/100\n",
            "1/1 [==============================] - 0s 27ms/step - loss: 3.9532 - mae: 3.9532\n",
            "Epoch 33/100\n",
            "1/1 [==============================] - 0s 21ms/step - loss: 3.7982 - mae: 3.7982\n",
            "Epoch 34/100\n",
            "1/1 [==============================] - 0s 16ms/step - loss: 3.7228 - mae: 3.7228\n",
            "Epoch 35/100\n",
            "1/1 [==============================] - 0s 22ms/step - loss: 3.6461 - mae: 3.6461\n",
            "Epoch 36/100\n",
            "1/1 [==============================] - 0s 11ms/step - loss: 3.5685 - mae: 3.5685\n",
            "Epoch 37/100\n",
            "1/1 [==============================] - 0s 10ms/step - loss: 3.4884 - mae: 3.4884\n",
            "Epoch 38/100\n",
            "1/1 [==============================] - 0s 19ms/step - loss: 3.4035 - mae: 3.4035\n",
            "Epoch 39/100\n",
            "1/1 [==============================] - 0s 27ms/step - loss: 3.3154 - mae: 3.3154\n",
            "Epoch 40/100\n",
            "1/1 [==============================] - 0s 17ms/step - loss: 3.3080 - mae: 3.3080\n",
            "Epoch 41/100\n",
            "1/1 [==============================] - 0s 15ms/step - loss: 3.3211 - mae: 3.3211\n",
            "Epoch 42/100\n",
            "1/1 [==============================] - 0s 17ms/step - loss: 3.2849 - mae: 3.2849\n",
            "Epoch 43/100\n",
            "1/1 [==============================] - 0s 16ms/step - loss: 3.2619 - mae: 3.2619\n",
            "Epoch 44/100\n",
            "1/1 [==============================] - 0s 23ms/step - loss: 3.2272 - mae: 3.2272\n",
            "Epoch 45/100\n",
            "1/1 [==============================] - 0s 12ms/step - loss: 3.1745 - mae: 3.1745\n",
            "Epoch 46/100\n",
            "1/1 [==============================] - 0s 28ms/step - loss: 3.1046 - mae: 3.1046\n",
            "Epoch 47/100\n",
            "1/1 [==============================] - 0s 26ms/step - loss: 3.0302 - mae: 3.0302\n",
            "Epoch 48/100\n",
            "1/1 [==============================] - 0s 26ms/step - loss: 3.0128 - mae: 3.0128\n",
            "Epoch 49/100\n",
            "1/1 [==============================] - 0s 19ms/step - loss: 2.9845 - mae: 2.9845\n",
            "Epoch 50/100\n",
            "1/1 [==============================] - 0s 24ms/step - loss: 2.9463 - mae: 2.9463\n",
            "Epoch 51/100\n",
            "1/1 [==============================] - 0s 17ms/step - loss: 2.8986 - mae: 2.8986\n",
            "Epoch 52/100\n",
            "1/1 [==============================] - 0s 15ms/step - loss: 2.8366 - mae: 2.8366\n",
            "Epoch 53/100\n",
            "1/1 [==============================] - 0s 33ms/step - loss: 2.7657 - mae: 2.7657\n",
            "Epoch 54/100\n",
            "1/1 [==============================] - 0s 21ms/step - loss: 2.6966 - mae: 2.6966\n",
            "Epoch 55/100\n",
            "1/1 [==============================] - 0s 17ms/step - loss: 2.6206 - mae: 2.6206\n",
            "Epoch 56/100\n",
            "1/1 [==============================] - 0s 18ms/step - loss: 2.5333 - mae: 2.5333\n",
            "Epoch 57/100\n",
            "1/1 [==============================] - 0s 22ms/step - loss: 2.4718 - mae: 2.4718\n",
            "Epoch 58/100\n",
            "1/1 [==============================] - 0s 16ms/step - loss: 2.3953 - mae: 2.3953\n",
            "Epoch 59/100\n",
            "1/1 [==============================] - 0s 28ms/step - loss: 2.2770 - mae: 2.2770\n",
            "Epoch 60/100\n",
            "1/1 [==============================] - 0s 24ms/step - loss: 2.1886 - mae: 2.1886\n",
            "Epoch 61/100\n",
            "1/1 [==============================] - 0s 25ms/step - loss: 2.1306 - mae: 2.1306\n",
            "Epoch 62/100\n",
            "1/1 [==============================] - 0s 27ms/step - loss: 2.0636 - mae: 2.0636\n",
            "Epoch 63/100\n",
            "1/1 [==============================] - 0s 26ms/step - loss: 1.9868 - mae: 1.9868\n",
            "Epoch 64/100\n",
            "1/1 [==============================] - 0s 32ms/step - loss: 1.8964 - mae: 1.8964\n",
            "Epoch 65/100\n",
            "1/1 [==============================] - 0s 24ms/step - loss: 1.7924 - mae: 1.7924\n",
            "Epoch 66/100\n",
            "1/1 [==============================] - 0s 29ms/step - loss: 1.7033 - mae: 1.7033\n",
            "Epoch 67/100\n",
            "1/1 [==============================] - 0s 19ms/step - loss: 1.6090 - mae: 1.6090\n",
            "Epoch 68/100\n",
            "1/1 [==============================] - 0s 13ms/step - loss: 1.5206 - mae: 1.5206\n",
            "Epoch 69/100\n",
            "1/1 [==============================] - 0s 20ms/step - loss: 1.4336 - mae: 1.4336\n",
            "Epoch 70/100\n",
            "1/1 [==============================] - 0s 24ms/step - loss: 1.3419 - mae: 1.3419\n",
            "Epoch 71/100\n",
            "1/1 [==============================] - 0s 28ms/step - loss: 1.2353 - mae: 1.2353\n",
            "Epoch 72/100\n",
            "1/1 [==============================] - 0s 34ms/step - loss: 1.1551 - mae: 1.1551\n",
            "Epoch 73/100\n",
            "1/1 [==============================] - 0s 28ms/step - loss: 1.0325 - mae: 1.0325\n",
            "Epoch 74/100\n",
            "1/1 [==============================] - 0s 13ms/step - loss: 0.9373 - mae: 0.9373\n",
            "Epoch 75/100\n",
            "1/1 [==============================] - 0s 29ms/step - loss: 0.8302 - mae: 0.8302\n",
            "Epoch 76/100\n",
            "1/1 [==============================] - 0s 30ms/step - loss: 0.7072 - mae: 0.7072\n",
            "Epoch 77/100\n",
            "1/1 [==============================] - 0s 33ms/step - loss: 0.6136 - mae: 0.6136\n",
            "Epoch 78/100\n",
            "1/1 [==============================] - 0s 36ms/step - loss: 0.4678 - mae: 0.4678\n",
            "Epoch 79/100\n",
            "1/1 [==============================] - 0s 31ms/step - loss: 0.3521 - mae: 0.3521\n",
            "Epoch 80/100\n",
            "1/1 [==============================] - 0s 34ms/step - loss: 0.2202 - mae: 0.2202\n",
            "Epoch 81/100\n",
            "1/1 [==============================] - 0s 35ms/step - loss: 0.2038 - mae: 0.2038\n",
            "Epoch 82/100\n",
            "1/1 [==============================] - 0s 15ms/step - loss: 0.3276 - mae: 0.3276\n",
            "Epoch 83/100\n",
            "1/1 [==============================] - 0s 35ms/step - loss: 0.2652 - mae: 0.2652\n",
            "Epoch 84/100\n",
            "1/1 [==============================] - 0s 13ms/step - loss: 0.4809 - mae: 0.4809\n",
            "Epoch 85/100\n",
            "1/1 [==============================] - 0s 26ms/step - loss: 0.5493 - mae: 0.5493\n",
            "Epoch 86/100\n",
            "1/1 [==============================] - 0s 29ms/step - loss: 0.4274 - mae: 0.4274\n",
            "Epoch 87/100\n",
            "1/1 [==============================] - 0s 37ms/step - loss: 0.4256 - mae: 0.4256\n",
            "Epoch 88/100\n",
            "1/1 [==============================] - 0s 31ms/step - loss: 0.5568 - mae: 0.5568\n",
            "Epoch 89/100\n",
            "1/1 [==============================] - 0s 21ms/step - loss: 0.3908 - mae: 0.3908\n",
            "Epoch 90/100\n",
            "1/1 [==============================] - 0s 23ms/step - loss: 0.3729 - mae: 0.3729\n",
            "Epoch 91/100\n",
            "1/1 [==============================] - 0s 28ms/step - loss: 0.3297 - mae: 0.3297\n",
            "Epoch 92/100\n",
            "1/1 [==============================] - 0s 20ms/step - loss: 0.3180 - mae: 0.3180\n",
            "Epoch 93/100\n",
            "1/1 [==============================] - 0s 16ms/step - loss: 0.2600 - mae: 0.2600\n",
            "Epoch 94/100\n",
            "1/1 [==============================] - 0s 33ms/step - loss: 0.2502 - mae: 0.2502\n",
            "Epoch 95/100\n",
            "1/1 [==============================] - 0s 20ms/step - loss: 0.1881 - mae: 0.1881\n",
            "Epoch 96/100\n",
            "1/1 [==============================] - 0s 29ms/step - loss: 0.2445 - mae: 0.2445\n",
            "Epoch 97/100\n",
            "1/1 [==============================] - 0s 17ms/step - loss: 0.1483 - mae: 0.1483\n",
            "Epoch 98/100\n",
            "1/1 [==============================] - 0s 24ms/step - loss: 0.3500 - mae: 0.3500\n",
            "Epoch 99/100\n",
            "1/1 [==============================] - 0s 24ms/step - loss: 0.4080 - mae: 0.4080\n",
            "Epoch 100/100\n",
            "1/1 [==============================] - 0s 32ms/step - loss: 0.2963 - mae: 0.2963\n"
          ]
        },
        {
          "data": {
            "text/plain": [
              "<keras.callbacks.History at 0x7fb080217580>"
            ]
          },
          "execution_count": 19,
          "metadata": {},
          "output_type": "execute_result"
        }
      ],
      "source": [
        "model = tf.keras.Sequential([\n",
        "    tf.keras.layers.Dense(50, activation=\"relu\"),\n",
        "    # tf.keras.layers.Dense(100, activation=\"relu\"),\n",
        "    # tf.keras.layers.Dense(100, activation=\"relu\"),\n",
        "    tf.keras.layers.Dense(1)\n",
        "])\n",
        "\n",
        "model.compile(loss=tf.keras.losses.mae, optimizer=tf.keras.optimizers.Adam(learning_rate=0.01), metrics=[\"mae\"])\n",
        "\n",
        "model.fit(tf.expand_dims(x, axis=1), y, epochs=100)"
      ]
    },
    {
      "cell_type": "code",
      "execution_count": 20,
      "metadata": {},
      "outputs": [
        {
          "data": {
            "text/plain": [
              "(<tf.Tensor: shape=(8,), dtype=float64, numpy=array([-7., -4., -1.,  2.,  5.,  8., 11., 14.])>,\n",
              " <tf.Tensor: shape=(8,), dtype=float64, numpy=array([ 3.,  6.,  9., 12., 15., 18., 21., 24.])>)"
            ]
          },
          "execution_count": 20,
          "metadata": {},
          "output_type": "execute_result"
        }
      ],
      "source": [
        "# let's remind ourselves of the data\n",
        "x, y"
      ]
    },
    {
      "cell_type": "code",
      "execution_count": 21,
      "metadata": {},
      "outputs": [
        {
          "name": "stdout",
          "output_type": "stream",
          "text": [
            "1/1 [==============================] - 0s 141ms/step\n"
          ]
        },
        {
          "data": {
            "text/plain": [
              "array([[27.67941]], dtype=float32)"
            ]
          },
          "execution_count": 21,
          "metadata": {},
          "output_type": "execute_result"
        }
      ],
      "source": [
        "model.predict([17.0])"
      ]
    },
    {
      "attachments": {},
      "cell_type": "markdown",
      "metadata": {},
      "source": [
        "# Evaluating a Modal"
      ]
    },
    {
      "cell_type": "code",
      "execution_count": 22,
      "metadata": {},
      "outputs": [
        {
          "data": {
            "text/plain": [
              "<tf.Tensor: shape=(50,), dtype=int32, numpy=\n",
              "array([-100,  -96,  -92,  -88,  -84,  -80,  -76,  -72,  -68,  -64,  -60,\n",
              "        -56,  -52,  -48,  -44,  -40,  -36,  -32,  -28,  -24,  -20,  -16,\n",
              "        -12,   -8,   -4,    0,    4,    8,   12,   16,   20,   24,   28,\n",
              "         32,   36,   40,   44,   48,   52,   56,   60,   64,   68,   72,\n",
              "         76,   80,   84,   88,   92,   96], dtype=int32)>"
            ]
          },
          "execution_count": 22,
          "metadata": {},
          "output_type": "execute_result"
        }
      ],
      "source": [
        "# Make a bigger dataset\n",
        "x = tf.range(-100, 100, 4)\n",
        "x\n"
      ]
    },
    {
      "cell_type": "code",
      "execution_count": 23,
      "metadata": {},
      "outputs": [
        {
          "data": {
            "text/plain": [
              "<tf.Tensor: shape=(50,), dtype=int32, numpy=\n",
              "array([-90, -86, -82, -78, -74, -70, -66, -62, -58, -54, -50, -46, -42,\n",
              "       -38, -34, -30, -26, -22, -18, -14, -10,  -6,  -2,   2,   6,  10,\n",
              "        14,  18,  22,  26,  30,  34,  38,  42,  46,  50,  54,  58,  62,\n",
              "        66,  70,  74,  78,  82,  86,  90,  94,  98, 102, 106], dtype=int32)>"
            ]
          },
          "execution_count": 23,
          "metadata": {},
          "output_type": "execute_result"
        }
      ],
      "source": [
        "y = x + 10\n",
        "y"
      ]
    },
    {
      "cell_type": "code",
      "execution_count": 24,
      "metadata": {},
      "outputs": [
        {
          "data": {
            "text/plain": [
              "<matplotlib.collections.PathCollection at 0x7fb08013ff70>"
            ]
          },
          "execution_count": 24,
          "metadata": {},
          "output_type": "execute_result"
        },
        {
          "data": {
            "image/png": "[encoded data removed]",
            "text/plain": [
              "<Figure size 640x480 with 1 Axes>"
            ]
          },
          "metadata": {},
          "output_type": "display_data"
        }
      ],
      "source": [
        "# visualize the data\n",
        "import matplotlib.pyplot as plt\n",
        "plt.scatter(x, y)"
      ]
    },
    {
      "attachments": {},
      "cell_type": "markdown",
      "metadata": {},
      "source": [
        "### The 3 sets...\n",
        "* Training set - the model learns from this data, which is typically 70-80% of the total data you have available.\n",
        "* Validation set - the model gets tuned on this data, which is typically 10-15% of the data available.\n",
        "* Test set - the model gets evaluated on this data to test what it has learned, this set is typically 10-15% of the total data available."
      ]
    },
    {
      "cell_type": "code",
      "execution_count": 25,
      "metadata": {},
      "outputs": [
        {
          "data": {
            "text/plain": [
              "50"
            ]
          },
          "execution_count": 25,
          "metadata": {},
          "output_type": "execute_result"
        }
      ],
      "source": [
        "# Check the length of how many samples we have\n",
        "len(x)"
      ]
    },
    {
      "cell_type": "code",
      "execution_count": 26,
      "metadata": {},
      "outputs": [
        {
          "data": {
            "text/plain": [
              "(40, 10, 40, 10)"
            ]
          },
          "execution_count": 26,
          "metadata": {},
          "output_type": "execute_result"
        }
      ],
      "source": [
        "# Split the data into train and test sets\n",
        "x_train = x[:40] # first 40 are training samples (80% of the data)\n",
        "x_test = x[40:] # last 10 are testing samples (20% of the data)\n",
        "\n",
        "y_train = y[:40] # first 40 are training samples (80% of the data)\n",
        "y_test = y[40:] # last 10 are testing samples (20% of the data)\n",
        "\n",
        "len(x_train), len(x_test), len(y_train), len(y_test)"
      ]
    },
    {
      "attachments": {},
      "cell_type": "markdown",
      "metadata": {},
      "source": [
        "### Visualizing the data ###"
      ]
    },
    {
      "cell_type": "code",
      "execution_count": 27,
      "metadata": {},
      "outputs": [
        {
          "data": {
            "text/plain": [
              "<matplotlib.legend.Legend at 0x7fb049f058d0>"
            ]
          },
          "execution_count": 27,
          "metadata": {},
          "output_type": "execute_result"
        },
        {
          "data": {
            "image/png": "[encoded data removed]",
            "text/plain": [
              "<Figure size 1000x700 with 1 Axes>"
            ]
          },
          "metadata": {},
          "output_type": "display_data"
        }
      ],
      "source": [
        "plt.figure(figsize=(10, 7))\n",
        "# Plot training data in blue\n",
        "plt.scatter(x_train, y_train, c=\"b\", label=\"Training data\")\n",
        "# Plot test data in green\n",
        "plt.scatter(x_test, y_test, c=\"g\", label=\"Testing data\")\n",
        "# show a legend\n",
        "plt.legend()"
      ]
    },
    {
      "cell_type": "code",
      "execution_count": 28,
      "metadata": {},
      "outputs": [],
      "source": [
        "# Lets have a look at how to build a neural network for our data\n",
        "\n",
        "# 1. Create a model\n",
        "model = tf.keras.Sequential([\n",
        "    tf.keras.layers.Dense(1)\n",
        "])\n",
        "\n",
        "# 2. Compile the model\n",
        "model.compile(loss=tf.keras.losses.mae, optimizer=tf.keras.optimizers.SGD(), metrics=[\"mae\"])\n",
        "\n",
        "# # 3. Fit the model\n",
        "# model.fit(x_train, y_train, epochs=100)"
      ]
    },
    {
      "attachments": {},
      "cell_type": "markdown",
      "metadata": {},
      "source": [
        "# Visualizing the data"
      ]
    },
    {
      "cell_type": "code",
      "execution_count": 29,
      "metadata": {},
      "outputs": [],
      "source": [
        "# Let's create a model which builds automatically by defining the input_shape argument in the first layer\n",
        "tf.random.set_seed(42)\n",
        "\n",
        "# Create a model (same as above)\n",
        "model = tf.keras.Sequential([\n",
        "    tf.keras.layers.Dense(10, input_shape=[1], name=\"input_layer\"),\n",
        "    tf.keras.layers.Dense(1, name=\"output_layer\")\n",
        "], name=\"modal_1\")\n",
        "\n",
        "# Compile the model\n",
        "model.compile(loss=tf.keras.losses.mae, optimizer=tf.keras.optimizers.SGD(), metrics=[\"mae\"])\n",
        "\n"
      ]
    },
    {
      "cell_type": "code",
      "execution_count": 30,
      "metadata": {},
      "outputs": [
        {
          "name": "stdout",
          "output_type": "stream",
          "text": [
            "Model: \"modal_1\"\n",
            "_________________________________________________________________\n",
            " Layer (type)                Output Shape              Param #   \n",
            "=================================================================\n",
            " input_layer (Dense)         (None, 10)                20        \n",
            "                                                                 \n",
            " output_layer (Dense)        (None, 1)                 11        \n",
            "                                                                 \n",
            "=================================================================\n",
            "Total params: 31\n",
            "Trainable params: 31\n",
            "Non-trainable params: 0\n",
            "_________________________________________________________________\n"
          ]
        }
      ],
      "source": [
        "model.summary()"
      ]
    },
    {
      "cell_type": "code",
      "execution_count": 31,
      "metadata": {},
      "outputs": [
        {
          "name": "stdout",
          "output_type": "stream",
          "text": [
            "Epoch 1/100\n",
            "2/2 [==============================] - 1s 55ms/step - loss: 34.8639 - mae: 34.8639\n",
            "Epoch 2/100\n",
            "2/2 [==============================] - 0s 32ms/step - loss: 28.2549 - mae: 28.2549\n",
            "Epoch 3/100\n",
            "2/2 [==============================] - 0s 15ms/step - loss: 26.5624 - mae: 26.5624\n",
            "Epoch 4/100\n",
            "2/2 [==============================] - 0s 23ms/step - loss: 14.8193 - mae: 14.8193\n",
            "Epoch 5/100\n",
            "2/2 [==============================] - 0s 10ms/step - loss: 22.0641 - mae: 22.0641\n",
            "Epoch 6/100\n",
            "2/2 [==============================] - 0s 12ms/step - loss: 10.8884 - mae: 10.8884\n",
            "Epoch 7/100\n",
            "2/2 [==============================] - 0s 19ms/step - loss: 11.8956 - mae: 11.8956\n",
            "Epoch 8/100\n",
            "2/2 [==============================] - 0s 20ms/step - loss: 10.8631 - mae: 10.8631\n",
            "Epoch 9/100\n",
            "2/2 [==============================] - 0s 22ms/step - loss: 37.2709 - mae: 37.2709\n",
            "Epoch 10/100\n",
            "2/2 [==============================] - 0s 33ms/step - loss: 24.9738 - mae: 24.9738\n",
            "Epoch 11/100\n",
            "2/2 [==============================] - 0s 15ms/step - loss: 11.0362 - mae: 11.0362\n",
            "Epoch 12/100\n",
            "2/2 [==============================] - 0s 22ms/step - loss: 24.4318 - mae: 24.4318\n",
            "Epoch 13/100\n",
            "2/2 [==============================] - 0s 10ms/step - loss: 19.3370 - mae: 19.3370\n",
            "Epoch 14/100\n",
            "2/2 [==============================] - 0s 19ms/step - loss: 23.5870 - mae: 23.5870\n",
            "Epoch 15/100\n",
            "2/2 [==============================] - 0s 28ms/step - loss: 15.6929 - mae: 15.6929\n",
            "Epoch 16/100\n",
            "2/2 [==============================] - 0s 19ms/step - loss: 10.4106 - mae: 10.4106\n",
            "Epoch 17/100\n",
            "2/2 [==============================] - 0s 26ms/step - loss: 19.6085 - mae: 19.6085\n",
            "Epoch 18/100\n",
            "2/2 [==============================] - 0s 16ms/step - loss: 13.2570 - mae: 13.2570\n",
            "Epoch 19/100\n",
            "2/2 [==============================] - 0s 10ms/step - loss: 16.0132 - mae: 16.0132\n",
            "Epoch 20/100\n",
            "2/2 [==============================] - 0s 16ms/step - loss: 10.1894 - mae: 10.1894\n",
            "Epoch 21/100\n",
            "2/2 [==============================] - 0s 32ms/step - loss: 13.7281 - mae: 13.7281\n",
            "Epoch 22/100\n",
            "2/2 [==============================] - 0s 28ms/step - loss: 21.9155 - mae: 21.9155\n",
            "Epoch 23/100\n",
            "2/2 [==============================] - 0s 35ms/step - loss: 10.4623 - mae: 10.4623\n",
            "Epoch 24/100\n",
            "2/2 [==============================] - 0s 15ms/step - loss: 15.7591 - mae: 15.7591\n",
            "Epoch 25/100\n",
            "2/2 [==============================] - 0s 17ms/step - loss: 14.9082 - mae: 14.9082\n",
            "Epoch 26/100\n",
            "2/2 [==============================] - 0s 11ms/step - loss: 19.5410 - mae: 19.5410\n",
            "Epoch 27/100\n",
            "2/2 [==============================] - 0s 13ms/step - loss: 20.5003 - mae: 20.5003\n",
            "Epoch 28/100\n",
            "2/2 [==============================] - 0s 14ms/step - loss: 14.8814 - mae: 14.8814\n",
            "Epoch 29/100\n",
            "2/2 [==============================] - 0s 9ms/step - loss: 9.2651 - mae: 9.2651\n",
            "Epoch 30/100\n",
            "2/2 [==============================] - 0s 16ms/step - loss: 30.2367 - mae: 30.2367\n",
            "Epoch 31/100\n",
            "2/2 [==============================] - 0s 142ms/step - loss: 54.9266 - mae: 54.9266\n",
            "Epoch 32/100\n",
            "2/2 [==============================] - 0s 50ms/step - loss: 9.6759 - mae: 9.6759\n",
            "Epoch 33/100\n",
            "2/2 [==============================] - 0s 24ms/step - loss: 12.2822 - mae: 12.2822\n",
            "Epoch 34/100\n",
            "2/2 [==============================] - 0s 60ms/step - loss: 24.3516 - mae: 24.3516\n",
            "Epoch 35/100\n",
            "2/2 [==============================] - 0s 125ms/step - loss: 11.9730 - mae: 11.9730\n",
            "Epoch 36/100\n",
            "2/2 [==============================] - 0s 102ms/step - loss: 22.2405 - mae: 22.2405\n",
            "Epoch 37/100\n",
            "2/2 [==============================] - 0s 46ms/step - loss: 17.3368 - mae: 17.3368\n",
            "Epoch 38/100\n",
            "2/2 [==============================] - 0s 80ms/step - loss: 10.6557 - mae: 10.6557\n",
            "Epoch 39/100\n",
            "2/2 [==============================] - 0s 49ms/step - loss: 11.1717 - mae: 11.1717\n",
            "Epoch 40/100\n",
            "2/2 [==============================] - 0s 53ms/step - loss: 17.9380 - mae: 17.9380\n",
            "Epoch 41/100\n",
            "2/2 [==============================] - 0s 152ms/step - loss: 10.3842 - mae: 10.3842\n",
            "Epoch 42/100\n",
            "2/2 [==============================] - 0s 35ms/step - loss: 7.2766 - mae: 7.2766\n",
            "Epoch 43/100\n",
            "2/2 [==============================] - 0s 112ms/step - loss: 18.9031 - mae: 18.9031\n",
            "Epoch 44/100\n",
            "2/2 [==============================] - 0s 35ms/step - loss: 20.0471 - mae: 20.0471\n",
            "Epoch 45/100\n",
            "2/2 [==============================] - 0s 94ms/step - loss: 10.1059 - mae: 10.1059\n",
            "Epoch 46/100\n",
            "2/2 [==============================] - 0s 152ms/step - loss: 11.3576 - mae: 11.3576\n",
            "Epoch 47/100\n",
            "2/2 [==============================] - 0s 77ms/step - loss: 9.8323 - mae: 9.8323\n",
            "Epoch 48/100\n",
            "2/2 [==============================] - 0s 40ms/step - loss: 17.6353 - mae: 17.6353\n",
            "Epoch 49/100\n",
            "2/2 [==============================] - 0s 60ms/step - loss: 9.3194 - mae: 9.3194\n",
            "Epoch 50/100\n",
            "2/2 [==============================] - 0s 90ms/step - loss: 13.3545 - mae: 13.3545\n",
            "Epoch 51/100\n",
            "2/2 [==============================] - 0s 51ms/step - loss: 11.4271 - mae: 11.4271\n",
            "Epoch 52/100\n",
            "2/2 [==============================] - 0s 37ms/step - loss: 29.3342 - mae: 29.3342\n",
            "Epoch 53/100\n",
            "2/2 [==============================] - 0s 84ms/step - loss: 16.7130 - mae: 16.7130\n",
            "Epoch 54/100\n",
            "2/2 [==============================] - 0s 24ms/step - loss: 21.6812 - mae: 21.6812\n",
            "Epoch 55/100\n",
            "2/2 [==============================] - 0s 80ms/step - loss: 22.1225 - mae: 22.1225\n",
            "Epoch 56/100\n",
            "2/2 [==============================] - 0s 23ms/step - loss: 11.2269 - mae: 11.2269\n",
            "Epoch 57/100\n",
            "2/2 [==============================] - 0s 67ms/step - loss: 13.1987 - mae: 13.1987\n",
            "Epoch 58/100\n",
            "2/2 [==============================] - 0s 44ms/step - loss: 9.8611 - mae: 9.8611\n",
            "Epoch 59/100\n",
            "2/2 [==============================] - 0s 83ms/step - loss: 13.3856 - mae: 13.3856\n",
            "Epoch 60/100\n",
            "2/2 [==============================] - 0s 73ms/step - loss: 10.9238 - mae: 10.9238\n",
            "Epoch 61/100\n",
            "2/2 [==============================] - 0s 59ms/step - loss: 13.5384 - mae: 13.5384\n",
            "Epoch 62/100\n",
            "2/2 [==============================] - 0s 50ms/step - loss: 17.6045 - mae: 17.6045\n",
            "Epoch 63/100\n",
            "2/2 [==============================] - 0s 46ms/step - loss: 9.1946 - mae: 9.1946\n",
            "Epoch 64/100\n",
            "2/2 [==============================] - 0s 25ms/step - loss: 18.4710 - mae: 18.4710\n",
            "Epoch 65/100\n",
            "2/2 [==============================] - 0s 13ms/step - loss: 10.1496 - mae: 10.1496\n",
            "Epoch 66/100\n",
            "2/2 [==============================] - 0s 22ms/step - loss: 24.3475 - mae: 24.3475\n",
            "Epoch 67/100\n",
            "2/2 [==============================] - 0s 27ms/step - loss: 10.9301 - mae: 10.9301\n",
            "Epoch 68/100\n",
            "2/2 [==============================] - 0s 33ms/step - loss: 10.8037 - mae: 10.8037\n",
            "Epoch 69/100\n",
            "2/2 [==============================] - 0s 21ms/step - loss: 23.3291 - mae: 23.3291\n",
            "Epoch 70/100\n",
            "2/2 [==============================] - 0s 24ms/step - loss: 8.8100 - mae: 8.8100\n",
            "Epoch 71/100\n",
            "2/2 [==============================] - 0s 20ms/step - loss: 15.9640 - mae: 15.9640\n",
            "Epoch 72/100\n",
            "2/2 [==============================] - 0s 15ms/step - loss: 8.1425 - mae: 8.1425\n",
            "Epoch 73/100\n",
            "2/2 [==============================] - 0s 26ms/step - loss: 9.4670 - mae: 9.4670\n",
            "Epoch 74/100\n",
            "2/2 [==============================] - 0s 21ms/step - loss: 28.1411 - mae: 28.1411\n",
            "Epoch 75/100\n",
            "2/2 [==============================] - 0s 20ms/step - loss: 10.2267 - mae: 10.2267\n",
            "Epoch 76/100\n",
            "2/2 [==============================] - 0s 13ms/step - loss: 13.1792 - mae: 13.1792\n",
            "Epoch 77/100\n",
            "2/2 [==============================] - 0s 29ms/step - loss: 18.4279 - mae: 18.4279\n",
            "Epoch 78/100\n",
            "2/2 [==============================] - 0s 25ms/step - loss: 9.0341 - mae: 9.0341\n",
            "Epoch 79/100\n",
            "2/2 [==============================] - 0s 22ms/step - loss: 23.4719 - mae: 23.4719\n",
            "Epoch 80/100\n",
            "2/2 [==============================] - 0s 28ms/step - loss: 26.1504 - mae: 26.1504\n",
            "Epoch 81/100\n",
            "2/2 [==============================] - 0s 38ms/step - loss: 11.4201 - mae: 11.4201\n",
            "Epoch 82/100\n",
            "2/2 [==============================] - 0s 27ms/step - loss: 12.4900 - mae: 12.4900\n",
            "Epoch 83/100\n",
            "2/2 [==============================] - 0s 22ms/step - loss: 17.1781 - mae: 17.1781\n",
            "Epoch 84/100\n",
            "2/2 [==============================] - 0s 17ms/step - loss: 6.6049 - mae: 6.6049\n",
            "Epoch 85/100\n",
            "2/2 [==============================] - 0s 26ms/step - loss: 20.3135 - mae: 20.3135\n",
            "Epoch 86/100\n",
            "2/2 [==============================] - 0s 32ms/step - loss: 10.1844 - mae: 10.1844\n",
            "Epoch 87/100\n",
            "2/2 [==============================] - 0s 84ms/step - loss: 24.3508 - mae: 24.3508\n",
            "Epoch 88/100\n",
            "2/2 [==============================] - 0s 28ms/step - loss: 19.0151 - mae: 19.0151\n",
            "Epoch 89/100\n",
            "2/2 [==============================] - 0s 70ms/step - loss: 7.1766 - mae: 7.1766\n",
            "Epoch 90/100\n",
            "2/2 [==============================] - 0s 50ms/step - loss: 18.2629 - mae: 18.2629\n",
            "Epoch 91/100\n",
            "2/2 [==============================] - 0s 67ms/step - loss: 13.3144 - mae: 13.3144\n",
            "Epoch 92/100\n",
            "2/2 [==============================] - 0s 46ms/step - loss: 8.7278 - mae: 8.7278\n",
            "Epoch 93/100\n",
            "2/2 [==============================] - 0s 18ms/step - loss: 14.1787 - mae: 14.1787\n",
            "Epoch 94/100\n",
            "2/2 [==============================] - 0s 21ms/step - loss: 17.1793 - mae: 17.1793\n",
            "Epoch 95/100\n",
            "2/2 [==============================] - 0s 24ms/step - loss: 16.7559 - mae: 16.7559\n",
            "Epoch 96/100\n",
            "2/2 [==============================] - 0s 35ms/step - loss: 11.1231 - mae: 11.1231\n",
            "Epoch 97/100\n",
            "2/2 [==============================] - 0s 27ms/step - loss: 21.1729 - mae: 21.1729\n",
            "Epoch 98/100\n",
            "2/2 [==============================] - 0s 39ms/step - loss: 10.5097 - mae: 10.5097\n",
            "Epoch 99/100\n",
            "2/2 [==============================] - 0s 17ms/step - loss: 14.6039 - mae: 14.6039\n",
            "Epoch 100/100\n",
            "2/2 [==============================] - 0s 70ms/step - loss: 17.7753 - mae: 17.7753\n"
          ]
        },
        {
          "data": {
            "text/plain": [
              "<keras.callbacks.History at 0x7fb049f9d060>"
            ]
          },
          "execution_count": 31,
          "metadata": {},
          "output_type": "execute_result"
        }
      ],
      "source": [
        "# fit the model\n",
        "model.fit(x_train, y_train, epochs=100, verbose=1)"
      ]
    },
    {
      "cell_type": "code",
      "execution_count": 32,
      "metadata": {},
      "outputs": [
        {
          "name": "stdout",
          "output_type": "stream",
          "text": [
            "Model: \"modal_1\"\n",
            "_________________________________________________________________\n",
            " Layer (type)                Output Shape              Param #   \n",
            "=================================================================\n",
            " input_layer (Dense)         (None, 10)                20        \n",
            "                                                                 \n",
            " output_layer (Dense)        (None, 1)                 11        \n",
            "                                                                 \n",
            "=================================================================\n",
            "Total params: 31\n",
            "Trainable params: 31\n",
            "Non-trainable params: 0\n",
            "_________________________________________________________________\n"
          ]
        }
      ],
      "source": [
        "# get a summary of our model\n",
        "model.summary()"
      ]
    },
    {
      "cell_type": "code",
      "execution_count": 33,
      "metadata": {},
      "outputs": [],
      "source": [
        "# from tensorflow.keras.utils import plot_model\n",
        "\n",
        "# plot_model(model=model, show_shapes=True)\n"
      ]
    },
    {
      "cell_type": "markdown",
      "metadata": {},
      "source": [
        "### Visualizing our modals predictions"
      ]
    },
    {
      "cell_type": "code",
      "execution_count": 34,
      "metadata": {},
      "outputs": [
        {
          "name": "stdout",
          "output_type": "stream",
          "text": [
            "1/1 [==============================] - 0s 203ms/step\n"
          ]
        },
        {
          "data": {
            "text/plain": [
              "array([[ 69.58636 ],\n",
              "       [ 74.11269 ],\n",
              "       [ 78.63903 ],\n",
              "       [ 83.16536 ],\n",
              "       [ 87.6917  ],\n",
              "       [ 92.21805 ],\n",
              "       [ 96.74437 ],\n",
              "       [101.27071 ],\n",
              "       [105.79705 ],\n",
              "       [110.323395]], dtype=float32)"
            ]
          },
          "execution_count": 34,
          "metadata": {},
          "output_type": "execute_result"
        }
      ],
      "source": [
        "# Make some predictions\n",
        "y_pred = model.predict(x_test)\n",
        "y_pred"
      ]
    },
    {
      "cell_type": "code",
      "execution_count": 35,
      "metadata": {},
      "outputs": [
        {
          "data": {
            "text/plain": [
              "<tf.Tensor: shape=(10,), dtype=int32, numpy=array([ 70,  74,  78,  82,  86,  90,  94,  98, 102, 106], dtype=int32)>"
            ]
          },
          "execution_count": 35,
          "metadata": {},
          "output_type": "execute_result"
        }
      ],
      "source": [
        "y_test"
      ]
    },
    {
      "cell_type": "code",
      "execution_count": 36,
      "metadata": {},
      "outputs": [],
      "source": [
        "# lets create a plotting function\n",
        "def plot_predictions(train_data=x_train,\n",
        "                     train_labels=y_train,\n",
        "                     test_data=x_test,\n",
        "                     test_labels=y_test,\n",
        "                     predictions=y_pred):\n",
        "    \"\"\"_summary_\n",
        "    Plots training data, test data and compares predictions to ground truth\n",
        "\n",
        "    Args:\n",
        "        train_data (_type_, optional): _description_. Defaults to x_train.\n",
        "        train_labels (_type_, optional): _description_. Defaults to y_train.\n",
        "        test_data (_type_, optional): _description_. Defaults to x_test.\n",
        "        test_labels (_type_, optional): _description_. Defaults to y_test.\n",
        "        predictions (_type_, optional): _description_. Defaults to y_pred.\n",
        "    \"\"\"\n",
        "    \n",
        "    plt.figure(figsize=(10, 7))\n",
        "    # Plot training data in blue\n",
        "    plt.scatter(train_data, train_labels, c=\"b\", label=\"Training Data\")\n",
        "    # Plot testing data in green\n",
        "    plt.scatter(test_data, test_labels, c=\"g\", label=\"Testing Data\")\n",
        "    # Plot model's predictions in red\n",
        "    plt.scatter(test_data, predictions, c=\"r\", label=\"Predictions\")\n",
        "    # show the legend\n",
        "    plt.legend()"
      ]
    },
    {
      "cell_type": "code",
      "execution_count": 37,
      "metadata": {},
      "outputs": [
        {
          "data": {
            "image/png": "[encoded data removed]",
            "text/plain": [
              "<Figure size 1000x700 with 1 Axes>"
            ]
          },
          "metadata": {},
          "output_type": "display_data"
        }
      ],
      "source": [
        "plot_predictions(train_data=x_train, \n",
        "                 train_labels=y_train, \n",
        "                 test_data=x_test, \n",
        "                 test_labels=y_test, \n",
        "                 predictions=y_pred)"
      ]
    },
    {
      "cell_type": "markdown",
      "metadata": {},
      "source": [
        "## Evaluating our model's predictions with regression evaluation metrics\n",
        "\n",
        "Alongisde visualizations, evaulation metrics are your alternative best option for evaluating your model.\n",
        "\n",
        "Depending on the problem you're working on, different models have different evaluation metrics. \n",
        "\n",
        "Two of the main metrics used for regression problems are:\n",
        "* **Mean absolute error (MAE)** - the mean difference between each of the predictions.\n",
        "* **Mean squared error (MSE)** - the squared mean difference between of the predictions (use if larger errors are more detrimental than smaller errors).\n",
        "\n",
        "The lower each of these values, the better."
      ]
    },
    {
      "cell_type": "code",
      "execution_count": 38,
      "metadata": {},
      "outputs": [
        {
          "name": "stdout",
          "output_type": "stream",
          "text": [
            "1/1 [==============================] - 0s 294ms/step - loss: 2.0376 - mae: 2.0376\n"
          ]
        },
        {
          "data": {
            "text/plain": [
              "[2.0376007556915283, 2.0376007556915283]"
            ]
          },
          "execution_count": 38,
          "metadata": {},
          "output_type": "execute_result"
        }
      ],
      "source": [
        "# Evaluate the modal on the test set\n",
        "model.evaluate(x_test, y_test)"
      ]
    },
    {
      "cell_type": "code",
      "execution_count": 39,
      "metadata": {},
      "outputs": [
        {
          "data": {
            "text/plain": [
              "<tf.Tensor: shape=(10,), dtype=float32, numpy=\n",
              "array([18.413643, 14.732384, 12.144388, 10.566928, 10.      , 10.443609,\n",
              "       11.897748, 14.362429, 17.83764 , 22.323395], dtype=float32)>"
            ]
          },
          "execution_count": 39,
          "metadata": {},
          "output_type": "execute_result"
        }
      ],
      "source": [
        "# Calculate the mean absolute error\n",
        "mae = tf.metrics.mean_absolute_error(y_true=y_test, y_pred=tf.constant(y_pred))\n",
        "mae"
      ]
    },
    {
      "cell_type": "code",
      "execution_count": 40,
      "metadata": {},
      "outputs": [
        {
          "data": {
            "text/plain": [
              "array([[ 69.58636 ],\n",
              "       [ 74.11269 ],\n",
              "       [ 78.63903 ],\n",
              "       [ 83.16536 ],\n",
              "       [ 87.6917  ],\n",
              "       [ 92.21805 ],\n",
              "       [ 96.74437 ],\n",
              "       [101.27071 ],\n",
              "       [105.79705 ],\n",
              "       [110.323395]], dtype=float32)"
            ]
          },
          "execution_count": 40,
          "metadata": {},
          "output_type": "execute_result"
        }
      ],
      "source": [
        "y_pred"
      ]
    },
    {
      "cell_type": "code",
      "execution_count": 41,
      "metadata": {},
      "outputs": [
        {
          "data": {
            "text/plain": [
              "<tf.Tensor: shape=(10,), dtype=int32, numpy=array([ 70,  74,  78,  82,  86,  90,  94,  98, 102, 106], dtype=int32)>"
            ]
          },
          "execution_count": 41,
          "metadata": {},
          "output_type": "execute_result"
        }
      ],
      "source": [
        "y_test"
      ]
    },
    {
      "cell_type": "code",
      "execution_count": 42,
      "metadata": {},
      "outputs": [
        {
          "data": {
            "text/plain": [
              "<tf.Tensor: shape=(10,), dtype=float32, numpy=\n",
              "array([ 69.58636 ,  74.11269 ,  78.63903 ,  83.16536 ,  87.6917  ,\n",
              "        92.21805 ,  96.74437 , 101.27071 , 105.79705 , 110.323395],\n",
              "      dtype=float32)>"
            ]
          },
          "execution_count": 42,
          "metadata": {},
          "output_type": "execute_result"
        }
      ],
      "source": [
        "tf.squeeze(y_pred)"
      ]
    },
    {
      "cell_type": "code",
      "execution_count": 43,
      "metadata": {},
      "outputs": [
        {
          "data": {
            "text/plain": [
              "<tf.Tensor: shape=(), dtype=float32, numpy=2.0376008>"
            ]
          },
          "execution_count": 43,
          "metadata": {},
          "output_type": "execute_result"
        }
      ],
      "source": [
        "# Calculate the mean absolute error\n",
        "mae = tf.metrics.mean_absolute_error(y_true=y_test, y_pred=tf.squeeze(y_pred))\n",
        "mae"
      ]
    },
    {
      "cell_type": "code",
      "execution_count": 44,
      "metadata": {},
      "outputs": [
        {
          "data": {
            "text/plain": [
              "<tf.Tensor: shape=(), dtype=float32, numpy=6.107029>"
            ]
          },
          "execution_count": 44,
          "metadata": {},
          "output_type": "execute_result"
        }
      ],
      "source": [
        "# Calculate the mean squared error\n",
        "mse = tf.metrics.mean_squared_error(y_true=y_test, y_pred=tf.squeeze(y_pred))\n",
        "mse"
      ]
    },
    {
      "cell_type": "code",
      "execution_count": 45,
      "metadata": {},
      "outputs": [],
      "source": [
        "# Make some functions to reuse MAE and MSE\n",
        "def mae(y_true, y_pred):\n",
        "    return tf.metrics.mean_absolute_error(y_true=y_true, y_pred=tf.squeeze(y_pred))\n",
        "\n",
        "def mse(y_true, y_pred):\n",
        "    return tf.metrics.mean_squared_error(y_true=y_true, y_pred=tf.squeeze(y_pred))\n",
        "\n"
      ]
    },
    {
      "cell_type": "markdown",
      "metadata": {},
      "source": [
        "## Running experiments to improve our model\n",
        "\n",
        "After seeing the evaluation metrics and the predictions your model makes, it's likely you'll want to improve it.\n",
        "\n",
        "Again, there are many different ways you can do this, but 3 of the main ones are:\n",
        "1. **Get more data** - get more examples for your model to train on (more opportunities to learn patterns).\n",
        "2. **Make your model larger (use a more complex model)** - this might come in the form of more layers or more hidden units in each layer.\n",
        "3. **Train for longer** - give your model more of a chance to find the patterns in the data.\n",
        "\n",
        "Since we created our dataset, we could easily make more data but this isn't always the case when you're working with real-world datasets.\n",
        "\n",
        "So let's take a look at how we can improve our model using 2 and 3.\n",
        "\n",
        "To do so, we'll build 3 models and compare their results:\n",
        "1. `model_1` - same as original model, 1 layer, trained for 100 epochs.\n",
        "2. `model_2` - 2 layers, trained for 100 epochs.\n",
        "3. `model_3` - 2 layers, trained for 500 epochs.\n",
        "\n",
        "**Build `model_1`**"
      ]
    },
    {
      "cell_type": "code",
      "execution_count": 46,
      "metadata": {},
      "outputs": [
        {
          "name": "stdout",
          "output_type": "stream",
          "text": [
            "Epoch 1/100\n"
          ]
        },
        {
          "name": "stdout",
          "output_type": "stream",
          "text": [
            "2/2 [==============================] - 1s 41ms/step - loss: 75.1734 - mae: 75.1734\n",
            "Epoch 2/100\n",
            "2/2 [==============================] - 0s 25ms/step - loss: 39.8388 - mae: 39.8388\n",
            "Epoch 3/100\n",
            "2/2 [==============================] - 0s 15ms/step - loss: 8.9019 - mae: 8.9019\n",
            "Epoch 4/100\n",
            "2/2 [==============================] - 0s 24ms/step - loss: 9.5112 - mae: 9.5112\n",
            "Epoch 5/100\n",
            "2/2 [==============================] - 0s 47ms/step - loss: 10.4080 - mae: 10.4080\n",
            "Epoch 6/100\n",
            "2/2 [==============================] - 0s 33ms/step - loss: 9.6450 - mae: 9.6450\n",
            "Epoch 7/100\n",
            "2/2 [==============================] - 0s 32ms/step - loss: 8.7528 - mae: 8.7528\n",
            "Epoch 8/100\n",
            "2/2 [==============================] - 0s 12ms/step - loss: 9.0799 - mae: 9.0799\n",
            "Epoch 9/100\n",
            "2/2 [==============================] - 0s 16ms/step - loss: 19.1684 - mae: 19.1684\n",
            "Epoch 10/100\n",
            "2/2 [==============================] - 0s 19ms/step - loss: 10.3612 - mae: 10.3612\n",
            "Epoch 11/100\n",
            "2/2 [==============================] - 0s 14ms/step - loss: 8.5071 - mae: 8.5071\n",
            "Epoch 12/100\n",
            "2/2 [==============================] - 0s 20ms/step - loss: 10.8657 - mae: 10.8657\n",
            "Epoch 13/100\n",
            "2/2 [==============================] - 0s 48ms/step - loss: 9.9133 - mae: 9.9133\n",
            "Epoch 14/100\n",
            "2/2 [==============================] - 0s 14ms/step - loss: 12.1270 - mae: 12.1270\n",
            "Epoch 15/100\n",
            "2/2 [==============================] - 0s 21ms/step - loss: 12.3878 - mae: 12.3878\n",
            "Epoch 16/100\n",
            "2/2 [==============================] - 0s 19ms/step - loss: 8.4470 - mae: 8.4470\n",
            "Epoch 17/100\n",
            "2/2 [==============================] - 0s 24ms/step - loss: 13.4007 - mae: 13.4007\n",
            "Epoch 18/100\n",
            "2/2 [==============================] - 0s 29ms/step - loss: 11.1655 - mae: 11.1655\n",
            "Epoch 19/100\n",
            "2/2 [==============================] - 0s 28ms/step - loss: 18.4098 - mae: 18.4098\n",
            "Epoch 20/100\n",
            "2/2 [==============================] - 0s 20ms/step - loss: 15.1123 - mae: 15.1123\n",
            "Epoch 21/100\n",
            "2/2 [==============================] - 0s 52ms/step - loss: 11.0788 - mae: 11.0788\n",
            "Epoch 22/100\n",
            "2/2 [==============================] - 0s 53ms/step - loss: 8.2113 - mae: 8.2113\n",
            "Epoch 23/100\n",
            "2/2 [==============================] - 0s 15ms/step - loss: 9.5055 - mae: 9.5055\n",
            "Epoch 24/100\n",
            "2/2 [==============================] - 0s 15ms/step - loss: 7.6905 - mae: 7.6905\n",
            "Epoch 25/100\n",
            "2/2 [==============================] - 0s 16ms/step - loss: 13.1314 - mae: 13.1314\n",
            "Epoch 26/100\n",
            "2/2 [==============================] - 0s 19ms/step - loss: 16.4831 - mae: 16.4831\n",
            "Epoch 27/100\n",
            "2/2 [==============================] - 0s 13ms/step - loss: 13.2210 - mae: 13.2210\n",
            "Epoch 28/100\n",
            "2/2 [==============================] - 0s 24ms/step - loss: 14.3227 - mae: 14.3227\n",
            "Epoch 29/100\n",
            "2/2 [==============================] - 0s 16ms/step - loss: 10.0998 - mae: 10.0998\n",
            "Epoch 30/100\n",
            "2/2 [==============================] - 0s 8ms/step - loss: 16.4291 - mae: 16.4291\n",
            "Epoch 31/100\n",
            "2/2 [==============================] - 0s 17ms/step - loss: 23.5789 - mae: 23.5789\n",
            "Epoch 32/100\n",
            "2/2 [==============================] - 0s 20ms/step - loss: 7.6303 - mae: 7.6303\n",
            "Epoch 33/100\n",
            "2/2 [==============================] - 0s 18ms/step - loss: 9.3265 - mae: 9.3265\n",
            "Epoch 34/100\n",
            "2/2 [==============================] - 0s 39ms/step - loss: 13.6955 - mae: 13.6955\n",
            "Epoch 35/100\n",
            "2/2 [==============================] - 0s 22ms/step - loss: 11.1766 - mae: 11.1766\n",
            "Epoch 36/100\n",
            "2/2 [==============================] - 0s 61ms/step - loss: 13.3960 - mae: 13.3960\n",
            "Epoch 37/100\n",
            "2/2 [==============================] - 0s 50ms/step - loss: 9.4724 - mae: 9.4724\n",
            "Epoch 38/100\n",
            "2/2 [==============================] - 0s 52ms/step - loss: 10.1251 - mae: 10.1251\n",
            "Epoch 39/100\n",
            "2/2 [==============================] - 0s 38ms/step - loss: 10.2287 - mae: 10.2287\n",
            "Epoch 40/100\n",
            "2/2 [==============================] - 0s 39ms/step - loss: 10.9718 - mae: 10.9718\n",
            "Epoch 41/100\n",
            "2/2 [==============================] - 0s 78ms/step - loss: 7.9494 - mae: 7.9494\n",
            "Epoch 42/100\n",
            "2/2 [==============================] - 0s 40ms/step - loss: 10.6030 - mae: 10.6030\n",
            "Epoch 43/100\n",
            "2/2 [==============================] - 0s 71ms/step - loss: 7.2325 - mae: 7.2325\n",
            "Epoch 44/100\n",
            "2/2 [==============================] - 0s 46ms/step - loss: 8.0158 - mae: 8.0158\n",
            "Epoch 45/100\n",
            "2/2 [==============================] - 0s 42ms/step - loss: 9.8096 - mae: 9.8096\n",
            "Epoch 46/100\n",
            "2/2 [==============================] - 0s 34ms/step - loss: 8.8847 - mae: 8.8847\n",
            "Epoch 47/100\n",
            "2/2 [==============================] - 0s 19ms/step - loss: 7.5955 - mae: 7.5955\n",
            "Epoch 48/100\n",
            "2/2 [==============================] - 0s 83ms/step - loss: 8.5970 - mae: 8.5970\n",
            "Epoch 49/100\n",
            "2/2 [==============================] - 0s 38ms/step - loss: 10.0147 - mae: 10.0147\n",
            "Epoch 50/100\n",
            "2/2 [==============================] - 0s 35ms/step - loss: 9.0488 - mae: 9.0488\n",
            "Epoch 51/100\n",
            "2/2 [==============================] - 0s 59ms/step - loss: 10.6838 - mae: 10.6838\n",
            "Epoch 52/100\n",
            "2/2 [==============================] - 0s 40ms/step - loss: 15.3185 - mae: 15.3185\n",
            "Epoch 53/100\n",
            "2/2 [==============================] - 0s 73ms/step - loss: 14.3365 - mae: 14.3365\n",
            "Epoch 54/100\n",
            "2/2 [==============================] - 0s 53ms/step - loss: 21.6327 - mae: 21.6327\n",
            "Epoch 55/100\n",
            "2/2 [==============================] - 0s 81ms/step - loss: 15.9937 - mae: 15.9937\n",
            "Epoch 56/100\n",
            "2/2 [==============================] - 0s 26ms/step - loss: 10.3102 - mae: 10.3102\n",
            "Epoch 57/100\n",
            "2/2 [==============================] - 0s 19ms/step - loss: 9.7842 - mae: 9.7842\n",
            "Epoch 58/100\n",
            "2/2 [==============================] - 0s 25ms/step - loss: 9.0713 - mae: 9.0713\n",
            "Epoch 59/100\n",
            "2/2 [==============================] - 0s 45ms/step - loss: 8.2731 - mae: 8.2731\n",
            "Epoch 60/100\n",
            "2/2 [==============================] - 0s 20ms/step - loss: 9.3733 - mae: 9.3733\n",
            "Epoch 61/100\n",
            "2/2 [==============================] - 0s 41ms/step - loss: 11.1799 - mae: 11.1799\n",
            "Epoch 62/100\n",
            "2/2 [==============================] - 0s 35ms/step - loss: 12.0996 - mae: 12.0996\n",
            "Epoch 63/100\n",
            "2/2 [==============================] - 0s 88ms/step - loss: 7.2882 - mae: 7.2882\n",
            "Epoch 64/100\n",
            "2/2 [==============================] - 0s 24ms/step - loss: 12.4397 - mae: 12.4397\n",
            "Epoch 65/100\n",
            "2/2 [==============================] - 0s 63ms/step - loss: 10.5158 - mae: 10.5158\n",
            "Epoch 66/100\n",
            "2/2 [==============================] - 0s 26ms/step - loss: 15.6311 - mae: 15.6311\n",
            "Epoch 67/100\n",
            "2/2 [==============================] - 0s 45ms/step - loss: 10.0342 - mae: 10.0342\n",
            "Epoch 68/100\n",
            "2/2 [==============================] - 0s 34ms/step - loss: 8.7436 - mae: 8.7436\n",
            "Epoch 69/100\n",
            "2/2 [==============================] - 0s 30ms/step - loss: 13.5096 - mae: 13.5096\n",
            "Epoch 70/100\n",
            "2/2 [==============================] - 0s 63ms/step - loss: 7.4902 - mae: 7.4902\n",
            "Epoch 71/100\n",
            "2/2 [==============================] - 0s 57ms/step - loss: 12.2427 - mae: 12.2427\n",
            "Epoch 72/100\n",
            "2/2 [==============================] - 0s 114ms/step - loss: 8.5553 - mae: 8.5553\n",
            "Epoch 73/100\n",
            "2/2 [==============================] - 0s 88ms/step - loss: 7.0602 - mae: 7.0602\n",
            "Epoch 74/100\n",
            "2/2 [==============================] - 0s 47ms/step - loss: 9.9537 - mae: 9.9537\n",
            "Epoch 75/100\n",
            "2/2 [==============================] - 0s 20ms/step - loss: 9.9540 - mae: 9.9540\n",
            "Epoch 76/100\n",
            "2/2 [==============================] - 0s 33ms/step - loss: 10.1212 - mae: 10.1212\n",
            "Epoch 77/100\n",
            "2/2 [==============================] - 0s 78ms/step - loss: 12.9629 - mae: 12.9629\n",
            "Epoch 78/100\n",
            "2/2 [==============================] - 0s 33ms/step - loss: 11.1689 - mae: 11.1689\n",
            "Epoch 79/100\n",
            "2/2 [==============================] - 0s 63ms/step - loss: 14.7213 - mae: 14.7213\n",
            "Epoch 80/100\n",
            "2/2 [==============================] - 0s 51ms/step - loss: 8.9421 - mae: 8.9421\n",
            "Epoch 81/100\n",
            "2/2 [==============================] - 0s 34ms/step - loss: 10.7843 - mae: 10.7843\n",
            "Epoch 82/100\n",
            "2/2 [==============================] - 0s 34ms/step - loss: 8.4121 - mae: 8.4121\n",
            "Epoch 83/100\n",
            "2/2 [==============================] - 0s 30ms/step - loss: 9.2406 - mae: 9.2406\n",
            "Epoch 84/100\n",
            "2/2 [==============================] - 0s 22ms/step - loss: 8.9613 - mae: 8.9613\n",
            "Epoch 85/100\n",
            "2/2 [==============================] - 0s 29ms/step - loss: 13.2015 - mae: 13.2015\n",
            "Epoch 86/100\n",
            "2/2 [==============================] - 0s 17ms/step - loss: 13.7219 - mae: 13.7219\n",
            "Epoch 87/100\n",
            "2/2 [==============================] - 0s 26ms/step - loss: 13.2066 - mae: 13.2066\n",
            "Epoch 88/100\n",
            "2/2 [==============================] - 0s 22ms/step - loss: 11.5346 - mae: 11.5346\n",
            "Epoch 89/100\n",
            "2/2 [==============================] - 0s 22ms/step - loss: 7.8248 - mae: 7.8248\n",
            "Epoch 90/100\n",
            "2/2 [==============================] - 0s 47ms/step - loss: 10.9512 - mae: 10.9512\n",
            "Epoch 91/100\n",
            "2/2 [==============================] - 0s 35ms/step - loss: 6.7702 - mae: 6.7702\n",
            "Epoch 92/100\n",
            "2/2 [==============================] - 0s 78ms/step - loss: 10.1439 - mae: 10.1439\n",
            "Epoch 93/100\n",
            "2/2 [==============================] - 0s 36ms/step - loss: 7.6246 - mae: 7.6246\n",
            "Epoch 94/100\n",
            "2/2 [==============================] - 0s 30ms/step - loss: 9.2577 - mae: 9.2577\n",
            "Epoch 95/100\n",
            "2/2 [==============================] - 0s 42ms/step - loss: 10.8458 - mae: 10.8458\n",
            "Epoch 96/100\n",
            "2/2 [==============================] - 0s 28ms/step - loss: 10.3142 - mae: 10.3142\n",
            "Epoch 97/100\n",
            "2/2 [==============================] - 0s 24ms/step - loss: 7.6957 - mae: 7.6957\n",
            "Epoch 98/100\n",
            "2/2 [==============================] - 0s 10ms/step - loss: 8.6321 - mae: 8.6321\n",
            "Epoch 99/100\n",
            "2/2 [==============================] - 0s 40ms/step - loss: 9.4109 - mae: 9.4109\n",
            "Epoch 100/100\n",
            "2/2 [==============================] - 0s 25ms/step - loss: 8.8568 - mae: 8.8568\n"
          ]
        },
        {
          "data": {
            "text/plain": [
              "<keras.callbacks.History at 0x7fb049e6a980>"
            ]
          },
          "execution_count": 46,
          "metadata": {},
          "output_type": "execute_result"
        }
      ],
      "source": [
        "# set random seed\n",
        "tf.random.set_seed(42)\n",
        "\n",
        "# 1. Create the model\n",
        "model_1 = tf.keras.Sequential([\n",
        "    tf.keras.layers.Dense(1)\n",
        "])\n",
        "\n",
        "# 2. Compile the model\n",
        "model_1.compile(loss=tf.keras.losses.mae, optimizer=tf.keras.optimizers.SGD(), metrics=[\"mae\"])\n",
        "\n",
        "# 3. Fit the model\n",
        "model_1.fit(tf.expand_dims(x_train, axis=1), y_train, epochs=100)"
      ]
    },
    {
      "cell_type": "code",
      "execution_count": 47,
      "metadata": {},
      "outputs": [
        {
          "name": "stdout",
          "output_type": "stream",
          "text": [
            "WARNING:tensorflow:5 out of the last 5 calls to <function Model.make_predict_function.<locals>.predict_function at 0x7fb049f95e10> triggered tf.function retracing. Tracing is expensive and the excessive number of tracings could be due to (1) creating @tf.function repeatedly in a loop, (2) passing tensors with different shapes, (3) passing Python objects instead of tensors. For (1), please define your @tf.function outside of the loop. For (2), @tf.function has reduce_retracing=True option that can avoid unnecessary retracing. For (3), please refer to https://www.tensorflow.org/guide/function#controlling_retracing and https://www.tensorflow.org/api_docs/python/tf/function for  more details.\n",
            "1/1 [==============================] - 0s 104ms/step\n"
          ]
        },
        {
          "data": {
            "image/png": "[encoded data removed]",
            "text/plain": [
              "<Figure size 1000x700 with 1 Axes>"
            ]
          },
          "metadata": {},
          "output_type": "display_data"
        }
      ],
      "source": [
        "# Make and plot predictions for model_1\n",
        "y_pred_1 = model_1.predict(x_test)\n",
        "plot_predictions(predictions=y_pred_1)"
      ]
    },
    {
      "cell_type": "code",
      "execution_count": 48,
      "metadata": {},
      "outputs": [
        {
          "data": {
            "text/plain": [
              "(<tf.Tensor: shape=(), dtype=float32, numpy=8.560657>,\n",
              " <tf.Tensor: shape=(), dtype=float32, numpy=79.76849>)"
            ]
          },
          "execution_count": 48,
          "metadata": {},
          "output_type": "execute_result"
        }
      ],
      "source": [
        "# Calculate model_1 evaluation metrics\n",
        "mae_1 = mae(y_test, y_pred_1)\n",
        "mse_1 = mse(y_test, y_pred_1)\n",
        "mae_1, mse_1"
      ]
    },
    {
      "cell_type": "markdown",
      "metadata": {},
      "source": [
        "**Build `model_2`**"
      ]
    },
    {
      "cell_type": "code",
      "execution_count": 49,
      "metadata": {},
      "outputs": [
        {
          "name": "stdout",
          "output_type": "stream",
          "text": [
            "Epoch 1/100\n"
          ]
        },
        {
          "name": "stdout",
          "output_type": "stream",
          "text": [
            "2/2 [==============================] - 1s 42ms/step - loss: 33.6632 - mse: 1574.1227\n",
            "Epoch 2/100\n",
            "2/2 [==============================] - 0s 27ms/step - loss: 28.0783 - mse: 1026.0930\n",
            "Epoch 3/100\n",
            "2/2 [==============================] - 0s 17ms/step - loss: 33.1316 - mse: 1648.2703\n",
            "Epoch 4/100\n",
            "2/2 [==============================] - 0s 29ms/step - loss: 27.8142 - mse: 1137.4348\n",
            "Epoch 5/100\n",
            "2/2 [==============================] - 0s 5ms/step - loss: 15.1475 - mse: 290.7497\n",
            "Epoch 6/100\n",
            "2/2 [==============================] - 0s 27ms/step - loss: 12.0378 - mse: 176.0268\n",
            "Epoch 7/100\n",
            "2/2 [==============================] - 0s 19ms/step - loss: 11.3491 - mse: 156.0074\n",
            "Epoch 8/100\n",
            "2/2 [==============================] - 0s 21ms/step - loss: 11.1604 - mse: 168.0251\n",
            "Epoch 9/100\n",
            "2/2 [==============================] - 0s 17ms/step - loss: 41.2227 - mse: 2696.7742\n",
            "Epoch 10/100\n",
            "2/2 [==============================] - 0s 27ms/step - loss: 28.5191 - mse: 1148.0140\n",
            "Epoch 11/100\n",
            "2/2 [==============================] - 0s 15ms/step - loss: 9.3987 - mse: 118.4158\n",
            "Epoch 12/100\n",
            "2/2 [==============================] - 0s 15ms/step - loss: 26.3098 - mse: 957.4500\n",
            "Epoch 13/100\n",
            "2/2 [==============================] - 0s 11ms/step - loss: 14.4428 - mse: 278.5916\n",
            "Epoch 14/100\n",
            "2/2 [==============================] - 0s 21ms/step - loss: 29.8258 - mse: 1420.4590\n",
            "Epoch 15/100\n",
            "2/2 [==============================] - 0s 32ms/step - loss: 19.6919 - mse: 542.4045\n",
            "Epoch 16/100\n",
            "2/2 [==============================] - 0s 27ms/step - loss: 9.8368 - mse: 126.5937\n",
            "Epoch 17/100\n",
            "2/2 [==============================] - 0s 8ms/step - loss: 17.6324 - mse: 410.0337\n",
            "Epoch 18/100\n",
            "2/2 [==============================] - 0s 47ms/step - loss: 14.1035 - mse: 313.2198\n",
            "Epoch 19/100\n",
            "2/2 [==============================] - 0s 35ms/step - loss: 13.9424 - mse: 302.6369\n",
            "Epoch 20/100\n",
            "2/2 [==============================] - 0s 19ms/step - loss: 11.2053 - mse: 146.4839\n",
            "Epoch 21/100\n",
            "2/2 [==============================] - 0s 21ms/step - loss: 17.2581 - mse: 421.5118\n",
            "Epoch 22/100\n",
            "2/2 [==============================] - 0s 14ms/step - loss: 15.4955 - mse: 330.5900\n",
            "Epoch 23/100\n",
            "2/2 [==============================] - 0s 7ms/step - loss: 9.2473 - mse: 118.7544\n",
            "Epoch 24/100\n",
            "2/2 [==============================] - 0s 18ms/step - loss: 17.2786 - mse: 409.2812\n",
            "Epoch 25/100\n",
            "2/2 [==============================] - 0s 28ms/step - loss: 15.9507 - mse: 334.3739\n",
            "Epoch 26/100\n",
            "2/2 [==============================] - 0s 13ms/step - loss: 20.9541 - mse: 650.4797\n",
            "Epoch 27/100\n",
            "2/2 [==============================] - 0s 29ms/step - loss: 25.9128 - mse: 1047.1892\n",
            "Epoch 28/100\n",
            "2/2 [==============================] - 0s 33ms/step - loss: 18.4179 - mse: 536.8129\n",
            "Epoch 29/100\n",
            "2/2 [==============================] - 0s 8ms/step - loss: 9.2473 - mse: 98.0284\n",
            "Epoch 30/100\n",
            "2/2 [==============================] - 0s 17ms/step - loss: 29.0251 - mse: 1503.5955\n",
            "Epoch 31/100\n",
            "2/2 [==============================] - 0s 30ms/step - loss: 52.5639 - mse: 4939.5811\n",
            "Epoch 32/100\n",
            "2/2 [==============================] - 0s 20ms/step - loss: 11.9084 - mse: 205.5377\n",
            "Epoch 33/100\n",
            "2/2 [==============================] - 0s 20ms/step - loss: 15.4817 - mse: 330.0846\n",
            "Epoch 34/100\n",
            "2/2 [==============================] - 0s 17ms/step - loss: 12.5885 - mse: 208.4463\n",
            "Epoch 35/100\n",
            "2/2 [==============================] - 0s 24ms/step - loss: 9.1957 - mse: 91.4722\n",
            "Epoch 36/100\n",
            "2/2 [==============================] - 0s 29ms/step - loss: 16.4523 - mse: 393.1865\n",
            "Epoch 37/100\n",
            "2/2 [==============================] - 0s 28ms/step - loss: 11.0967 - mse: 192.2972\n",
            "Epoch 38/100\n",
            "2/2 [==============================] - 0s 20ms/step - loss: 18.2268 - mse: 437.9370\n",
            "Epoch 39/100\n",
            "2/2 [==============================] - 0s 17ms/step - loss: 19.1582 - mse: 534.8719\n",
            "Epoch 40/100\n",
            "2/2 [==============================] - 0s 17ms/step - loss: 20.5346 - mse: 615.8195\n",
            "Epoch 41/100\n",
            "2/2 [==============================] - 0s 32ms/step - loss: 14.7891 - mse: 273.2187\n",
            "Epoch 42/100\n",
            "2/2 [==============================] - 0s 9ms/step - loss: 12.1897 - mse: 181.1386\n",
            "Epoch 43/100\n",
            "2/2 [==============================] - 0s 20ms/step - loss: 10.6926 - mse: 162.1753\n",
            "Epoch 44/100\n",
            "2/2 [==============================] - 0s 15ms/step - loss: 32.1986 - mse: 1704.4753\n",
            "Epoch 45/100\n",
            "2/2 [==============================] - 0s 25ms/step - loss: 12.4552 - mse: 200.6445\n",
            "Epoch 46/100\n",
            "2/2 [==============================] - 0s 28ms/step - loss: 17.4617 - mse: 456.7747\n",
            "Epoch 47/100\n",
            "2/2 [==============================] - 0s 30ms/step - loss: 15.7796 - mse: 340.1826\n",
            "Epoch 48/100\n",
            "2/2 [==============================] - 0s 38ms/step - loss: 8.3923 - mse: 112.9211\n",
            "Epoch 49/100\n",
            "2/2 [==============================] - 0s 24ms/step - loss: 14.0092 - mse: 269.2639\n",
            "Epoch 50/100\n",
            "2/2 [==============================] - 0s 36ms/step - loss: 12.8465 - mse: 216.0665\n",
            "Epoch 51/100\n",
            "2/2 [==============================] - 0s 24ms/step - loss: 14.8536 - mse: 310.4492\n",
            "Epoch 52/100\n",
            "2/2 [==============================] - 0s 46ms/step - loss: 18.7371 - mse: 531.1208\n",
            "Epoch 53/100\n",
            "2/2 [==============================] - 0s 26ms/step - loss: 24.1997 - mse: 830.2767\n",
            "Epoch 54/100\n",
            "2/2 [==============================] - 0s 21ms/step - loss: 23.1077 - mse: 799.1359\n",
            "Epoch 55/100\n",
            "2/2 [==============================] - 0s 30ms/step - loss: 23.9478 - mse: 862.5021\n",
            "Epoch 56/100\n",
            "2/2 [==============================] - 0s 9ms/step - loss: 11.1389 - mse: 171.1479\n",
            "Epoch 57/100\n",
            "2/2 [==============================] - 0s 28ms/step - loss: 13.0823 - mse: 212.3965\n",
            "Epoch 58/100\n",
            "2/2 [==============================] - 0s 12ms/step - loss: 9.7932 - mse: 105.8655\n",
            "Epoch 59/100\n",
            "2/2 [==============================] - 0s 21ms/step - loss: 13.2603 - mse: 246.6277\n",
            "Epoch 60/100\n",
            "2/2 [==============================] - 0s 20ms/step - loss: 10.8466 - mse: 138.3321\n",
            "Epoch 61/100\n",
            "2/2 [==============================] - 0s 21ms/step - loss: 13.4324 - mse: 239.2025\n",
            "Epoch 62/100\n",
            "2/2 [==============================] - 0s 23ms/step - loss: 17.4132 - mse: 462.4438\n",
            "Epoch 63/100\n",
            "2/2 [==============================] - 0s 8ms/step - loss: 9.1453 - mse: 87.7210\n",
            "Epoch 64/100\n",
            "2/2 [==============================] - 0s 14ms/step - loss: 18.2839 - mse: 485.9911\n",
            "Epoch 65/100\n",
            "2/2 [==============================] - 0s 36ms/step - loss: 10.0997 - mse: 114.1521\n",
            "Epoch 66/100\n",
            "2/2 [==============================] - 0s 17ms/step - loss: 24.1188 - mse: 876.7238\n",
            "Epoch 67/100\n",
            "2/2 [==============================] - 0s 38ms/step - loss: 10.8520 - mse: 141.0598\n",
            "Epoch 68/100\n",
            "2/2 [==============================] - 0s 17ms/step - loss: 10.7449 - mse: 156.4674\n",
            "Epoch 69/100\n",
            "2/2 [==============================] - 0s 19ms/step - loss: 23.0841 - mse: 769.6126\n",
            "Epoch 70/100\n",
            "2/2 [==============================] - 0s 16ms/step - loss: 8.8461 - mse: 142.9300\n",
            "Epoch 71/100\n",
            "2/2 [==============================] - 0s 14ms/step - loss: 16.0769 - mse: 352.5136\n",
            "Epoch 72/100\n",
            "2/2 [==============================] - 0s 24ms/step - loss: 7.7633 - mse: 91.3851\n",
            "Epoch 73/100\n",
            "2/2 [==============================] - 0s 27ms/step - loss: 10.1631 - mse: 165.2593\n",
            "Epoch 74/100\n",
            "2/2 [==============================] - 0s 21ms/step - loss: 28.3487 - mse: 1124.6285\n",
            "Epoch 75/100\n",
            "2/2 [==============================] - 0s 16ms/step - loss: 9.9972 - mse: 146.3706\n",
            "Epoch 76/100\n",
            "2/2 [==============================] - 0s 34ms/step - loss: 12.9093 - mse: 206.9808\n",
            "Epoch 77/100\n",
            "2/2 [==============================] - 0s 22ms/step - loss: 17.8405 - mse: 495.6967\n",
            "Epoch 78/100\n",
            "2/2 [==============================] - 0s 22ms/step - loss: 8.9629 - mse: 87.5917\n",
            "Epoch 79/100\n",
            "2/2 [==============================] - 0s 78ms/step - loss: 28.6484 - mse: 1295.1819\n",
            "Epoch 80/100\n",
            "2/2 [==============================] - 0s 77ms/step - loss: 30.9746 - mse: 1522.6965\n",
            "Epoch 81/100\n",
            "2/2 [==============================] - 0s 35ms/step - loss: 13.3724 - mse: 249.6641\n",
            "Epoch 82/100\n",
            "2/2 [==============================] - 0s 67ms/step - loss: 14.5354 - mse: 291.5933\n",
            "Epoch 83/100\n",
            "2/2 [==============================] - 0s 38ms/step - loss: 18.5616 - mse: 454.7527\n",
            "Epoch 84/100\n",
            "2/2 [==============================] - 0s 53ms/step - loss: 8.8234 - mse: 127.7990\n",
            "Epoch 85/100\n",
            "2/2 [==============================] - 0s 67ms/step - loss: 18.4421 - mse: 532.1031\n",
            "Epoch 86/100\n",
            "2/2 [==============================] - 0s 82ms/step - loss: 22.4975 - mse: 723.9265\n",
            "Epoch 87/100\n",
            "2/2 [==============================] - 0s 83ms/step - loss: 11.3616 - mse: 153.6434\n",
            "Epoch 88/100\n",
            "2/2 [==============================] - 0s 49ms/step - loss: 26.5090 - mse: 1003.4740\n",
            "Epoch 89/100\n",
            "2/2 [==============================] - 0s 51ms/step - loss: 9.6480 - mse: 130.2337\n",
            "Epoch 90/100\n",
            "2/2 [==============================] - 0s 87ms/step - loss: 18.6735 - mse: 499.9587\n",
            "Epoch 91/100\n",
            "2/2 [==============================] - 0s 68ms/step - loss: 10.4762 - mse: 165.0616\n",
            "Epoch 92/100\n",
            "2/2 [==============================] - 0s 24ms/step - loss: 17.8977 - mse: 437.9963\n",
            "Epoch 93/100\n",
            "2/2 [==============================] - 0s 19ms/step - loss: 6.5953 - mse: 62.5185\n",
            "Epoch 94/100\n",
            "2/2 [==============================] - 0s 39ms/step - loss: 11.1213 - mse: 151.6559\n",
            "Epoch 95/100\n",
            "2/2 [==============================] - 0s 40ms/step - loss: 24.2088 - mse: 878.5744\n",
            "Epoch 96/100\n",
            "2/2 [==============================] - 0s 95ms/step - loss: 10.7236 - mse: 173.8860\n",
            "Epoch 97/100\n",
            "2/2 [==============================] - 0s 16ms/step - loss: 15.2559 - mse: 352.1921\n",
            "Epoch 98/100\n",
            "2/2 [==============================] - 0s 34ms/step - loss: 8.2508 - mse: 112.7795\n",
            "Epoch 99/100\n",
            "2/2 [==============================] - 0s 13ms/step - loss: 16.0632 - mse: 361.6312\n",
            "Epoch 100/100\n",
            "2/2 [==============================] - 0s 53ms/step - loss: 16.5711 - mse: 405.8575\n"
          ]
        },
        {
          "data": {
            "text/plain": [
              "<keras.callbacks.History at 0x7fb0697f0d90>"
            ]
          },
          "execution_count": 49,
          "metadata": {},
          "output_type": "execute_result"
        }
      ],
      "source": [
        "# set random seed\n",
        "tf.random.set_seed(42)\n",
        "\n",
        "# 1. Create the model\n",
        "model_2 = tf.keras.Sequential([\n",
        "    tf.keras.layers.Dense(10),\n",
        "    tf.keras.layers.Dense(1)\n",
        "])\n",
        "\n",
        "# 2. Compile the model\n",
        "model_2.compile(loss=tf.keras.losses.mae, optimizer=tf.keras.optimizers.SGD(), metrics=[\"mse\"])\n",
        "\n",
        "# 3. Fit the model\n",
        "model_2.fit(tf.expand_dims(x_train, axis=1), y_train, epochs=100)\n",
        "    "
      ]
    },
    {
      "cell_type": "code",
      "execution_count": 50,
      "metadata": {},
      "outputs": [
        {
          "name": "stdout",
          "output_type": "stream",
          "text": [
            "WARNING:tensorflow:6 out of the last 6 calls to <function Model.make_predict_function.<locals>.predict_function at 0x7fb06977d240> triggered tf.function retracing. Tracing is expensive and the excessive number of tracings could be due to (1) creating @tf.function repeatedly in a loop, (2) passing tensors with different shapes, (3) passing Python objects instead of tensors. For (1), please define your @tf.function outside of the loop. For (2), @tf.function has reduce_retracing=True option that can avoid unnecessary retracing. For (3), please refer to https://www.tensorflow.org/guide/function#controlling_retracing and https://www.tensorflow.org/api_docs/python/tf/function for  more details.\n",
            "1/1 [==============================] - 0s 262ms/step\n"
          ]
        },
        {
          "data": {
            "image/png": "[encoded data removed]",
            "text/plain": [
              "<Figure size 1000x700 with 1 Axes>"
            ]
          },
          "metadata": {},
          "output_type": "display_data"
        }
      ],
      "source": [
        "# Make and plot predictions for model_2\n",
        "y_pred_2 = model_2.predict(x_test)\n",
        "plot_predictions(predictions=y_pred_2)"
      ]
    },
    {
      "cell_type": "code",
      "execution_count": 51,
      "metadata": {},
      "outputs": [
        {
          "data": {
            "text/plain": [
              "(<tf.Tensor: shape=(), dtype=float32, numpy=4.161245>,\n",
              " <tf.Tensor: shape=(), dtype=float32, numpy=20.71049>)"
            ]
          },
          "execution_count": 51,
          "metadata": {},
          "output_type": "execute_result"
        }
      ],
      "source": [
        "# Calculate model_2 evaluation metrics\n",
        "mae_2 = mae(y_test, y_pred_2)\n",
        "mse_2 = mse(y_test, y_pred_2)\n",
        "mae_2, mse_2"
      ]
    },
    {
      "cell_type": "markdown",
      "metadata": {},
      "source": [
        "**Build `model_3`**"
      ]
    },
    {
      "cell_type": "code",
      "execution_count": 52,
      "metadata": {},
      "outputs": [
        {
          "data": {
            "text/plain": [
              "<keras.callbacks.History at 0x7fb0696dbbb0>"
            ]
          },
          "execution_count": 52,
          "metadata": {},
          "output_type": "execute_result"
        }
      ],
      "source": [
        "# set random seed\n",
        "tf.random.set_seed(42)\n",
        "\n",
        "# 1. Create the model\n",
        "model_3 = tf.keras.Sequential([\n",
        "    tf.keras.layers.Dense(10),\n",
        "    tf.keras.layers.Dense(1)\n",
        "])\n",
        "\n",
        "# 2. Compile the model\n",
        "model_3.compile(loss=tf.keras.losses.mae, optimizer=tf.keras.optimizers.SGD(), metrics=[\"mae\"])\n",
        "\n",
        "# 3. Fit the model\n",
        "model_3.fit(tf.expand_dims(x_train, axis=1), y_train, epochs=500, verbose=0)\n"
      ]
    },
    {
      "cell_type": "code",
      "execution_count": 53,
      "metadata": {},
      "outputs": [
        {
          "name": "stdout",
          "output_type": "stream",
          "text": [
            "1/1 [==============================] - 0s 139ms/step\n"
          ]
        },
        {
          "data": {
            "image/png": "[encoded data removed]",
            "text/plain": [
              "<Figure size 1000x700 with 1 Axes>"
            ]
          },
          "metadata": {},
          "output_type": "display_data"
        }
      ],
      "source": [
        "# Make and Plot some predictions\n",
        "y_pred_3 = model_3.predict(x_test)\n",
        "plot_predictions(predictions=y_pred_3)"
      ]
    },
    {
      "cell_type": "code",
      "execution_count": 54,
      "metadata": {},
      "outputs": [
        {
          "data": {
            "text/plain": [
              "(<tf.Tensor: shape=(), dtype=float32, numpy=67.785324>,\n",
              " <tf.Tensor: shape=(), dtype=float32, numpy=4679.1475>)"
            ]
          },
          "execution_count": 54,
          "metadata": {},
          "output_type": "execute_result"
        }
      ],
      "source": [
        "# Calculate model_3 evaluation metrics\n",
        "mae_3 = mae(y_test, y_pred_3)\n",
        "mse_3 = mse(y_test, y_pred_3)\n",
        "mae_3, mse_3"
      ]
    },
    {
      "cell_type": "markdown",
      "metadata": {},
      "source": [
        "## Comparing results\n",
        "\n",
        "Now we've got results for 3 similar but slightly different results, let's compare them."
      ]
    },
    {
      "cell_type": "code",
      "execution_count": 55,
      "metadata": {},
      "outputs": [
        {
          "ename": "ModuleNotFoundError",
          "evalue": "No module named 'pandas'",
          "output_type": "error",
          "traceback": [
            "\u001b[0;31m---------------------------------------------------------------------------\u001b[0m",
            "\u001b[0;31mModuleNotFoundError\u001b[0m                       Traceback (most recent call last)",
            "Cell \u001b[0;32mIn[55], line 2\u001b[0m\n\u001b[1;32m      1\u001b[0m \u001b[39m# Lets's compare our model's results using a pandas DataFrame\u001b[39;00m\n\u001b[0;32m----> 2\u001b[0m \u001b[39mimport\u001b[39;00m \u001b[39mpandas\u001b[39;00m \u001b[39mas\u001b[39;00m \u001b[39mpd\u001b[39;00m\n",
            "\u001b[0;31mModuleNotFoundError\u001b[0m: No module named 'pandas'"
          ]
        }
      ],
      "source": [
        "# Lets's compare our model's results using a pandas DataFrame\n",
        "import pandas as pd\n",
        "\n",
        "model_results = [[\"model_1\", mae_1.numpy(), mse_1.numpy()],\n",
        "                 [\"model_2\", mae_2.numpy(), mse_2.numpy()],\n",
        "                 [\"model_3\", mae_3.numpy(), mse_3.numpy()]]\n",
        "\n",
        "all_results = pd.DataFrame(model_results, columns=[\"model\", \"mae\", \"mse\"])\n",
        "all_results"
      ]
    },
    {
      "cell_type": "markdown",
      "metadata": {},
      "source": [
        "Looks like model_2 performed the best"
      ]
    },
    {
      "cell_type": "code",
      "execution_count": 56,
      "metadata": {},
      "outputs": [
        {
          "name": "stdout",
          "output_type": "stream",
          "text": [
            "Model: \"sequential_5\"\n",
            "_________________________________________________________________\n",
            " Layer (type)                Output Shape              Param #   \n",
            "=================================================================\n",
            " dense_6 (Dense)             (None, 10)                20        \n",
            "                                                                 \n",
            " dense_7 (Dense)             (None, 1)                 11        \n",
            "                                                                 \n",
            "=================================================================\n",
            "Total params: 31\n",
            "Trainable params: 31\n",
            "Non-trainable params: 0\n",
            "_________________________________________________________________\n"
          ]
        }
      ],
      "source": [
        "model_2.summary()"
      ]
    },
    {
      "cell_type": "markdown",
      "metadata": {},
      "source": [
        "## Tracking your experiments"
      ]
    },
    {
      "cell_type": "code",
      "execution_count": null,
      "metadata": {},
      "outputs": [],
      "source": []
    }
  ],
  "metadata": {
    "colab": {
      "provenance": []
    },
    "kernelspec": {
      "display_name": "Python 3",
      "name": "python3"
    },
    "language_info": {
      "codemirror_mode": {
        "name": "ipython",
        "version": 3
      },
      "file_extension": ".py",
      "mimetype": "text/x-python",
      "name": "python",
      "nbconvert_exporter": "python",
      "pygments_lexer": "ipython3",
      "version": "3.10.12"
    }
  },
  "nbformat": 4,
  "nbformat_minor": 0
}
