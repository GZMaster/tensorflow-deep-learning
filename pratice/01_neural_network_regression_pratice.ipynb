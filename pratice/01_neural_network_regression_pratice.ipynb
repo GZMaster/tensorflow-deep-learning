{
  "cells": [
    {
      "cell_type": "markdown",
      "metadata": {
        "id": "-2v6sz12PBnH"
      },
      "source": [
        "# INTRODUCTION TO REGRESSION WITH NEURAL NETWORKS IN TENSORFLOW"
      ]
    },
    {
      "cell_type": "code",
      "execution_count": 1,
      "metadata": {
        "colab": {
          "base_uri": "https://localhost:8080/"
        },
        "id": "8uLcqJnzPaq_",
        "outputId": "a3c523b4-4f65-42d0-b0b0-22dcaa5d7a09"
      },
      "outputs": [
        {
          "output_type": "stream",
          "name": "stdout",
          "text": [
            "2.12.0\n"
          ]
        }
      ],
      "source": [
        "# Import TensorFlow\n",
        "import tensorflow as tf\n",
        "print(tf.__version__)"
      ]
    },
    {
      "cell_type": "markdown",
      "metadata": {
        "id": "DjbW0-8XPlVS"
      },
      "source": [
        "## Creating data to view and fit"
      ]
    },
    {
      "cell_type": "code",
      "execution_count": 2,
      "metadata": {
        "colab": {
          "base_uri": "https://localhost:8080/",
          "height": 452
        },
        "id": "zb6r5iWxPve7",
        "outputId": "ae04b6c5-0d18-4da9-fe9c-e52ddbd16ca1"
      },
      "outputs": [
        {
          "output_type": "execute_result",
          "data": {
            "text/plain": [
              "<matplotlib.collections.PathCollection at 0x7e389b61f820>"
            ]
          },
          "metadata": {},
          "execution_count": 2
        },
        {
          "output_type": "display_data",
          "data": {
            "text/plain": [
              "<Figure size 640x480 with 1 Axes>"
            ],
            "image/png": "[encoded data removed]"
          },
          "metadata": {}
        }
      ],
      "source": [
        "import numpy as np\n",
        "import matplotlib.pyplot as plt\n",
        "\n",
        "# Create features\n",
        "x = np.array([-7.0, -4.0, -1.0, 2.0, 5.0, 8.0, 11.0, 14.0])\n",
        "\n",
        "# Create labels\n",
        "y = np.array([3.0, 6.0, 9.0, 12.0, 15.0, 18.0, 21.0, 24.0])\n",
        "\n",
        "# Visualize it\n",
        "plt.scatter(x, y)"
      ]
    },
    {
      "cell_type": "code",
      "execution_count": 3,
      "metadata": {
        "colab": {
          "base_uri": "https://localhost:8080/"
        },
        "id": "tF2YtHyjPuUP",
        "outputId": "dfc55a02-b475-404c-cdd3-5039311fe7dd"
      },
      "outputs": [
        {
          "output_type": "execute_result",
          "data": {
            "text/plain": [
              "array([ True,  True,  True,  True,  True,  True,  True,  True])"
            ]
          },
          "metadata": {},
          "execution_count": 3
        }
      ],
      "source": [
        "y == x + 10"
      ]
    },
    {
      "cell_type": "markdown",
      "metadata": {
        "id": "k16pFcIrQoY9"
      },
      "source": [
        "## Input and output shapes"
      ]
    },
    {
      "cell_type": "code",
      "execution_count": 4,
      "metadata": {
        "colab": {
          "base_uri": "https://localhost:8080/"
        },
        "id": "Gsxz_vqIQw6I",
        "outputId": "497b3300-7a29-41d8-c032-b54db1da3010"
      },
      "outputs": [
        {
          "output_type": "execute_result",
          "data": {
            "text/plain": [
              "(<tf.Tensor: shape=(3,), dtype=string, numpy=array([b'bedroom', b'bathroom', b'garage'], dtype=object)>,\n",
              " <tf.Tensor: shape=(1,), dtype=int32, numpy=array([939700], dtype=int32)>)"
            ]
          },
          "metadata": {},
          "execution_count": 4
        }
      ],
      "source": [
        "# Create a demo tensor for our housing price prediction problem\n",
        "house_info = tf.constant([\"bedroom\", \"bathroom\", \"garage\"])\n",
        "house_price = tf.constant([939700])\n",
        "house_info, house_price"
      ]
    },
    {
      "cell_type": "code",
      "execution_count": 5,
      "metadata": {
        "colab": {
          "base_uri": "https://localhost:8080/"
        },
        "id": "BcMnSW9DRsIs",
        "outputId": "c091cf51-8f99-4365-f035-5169cbfc8fc2"
      },
      "outputs": [
        {
          "output_type": "execute_result",
          "data": {
            "text/plain": [
              "(-7.0, 3.0)"
            ]
          },
          "metadata": {},
          "execution_count": 5
        }
      ],
      "source": [
        "x[0], y[0]"
      ]
    },
    {
      "cell_type": "code",
      "execution_count": 6,
      "metadata": {
        "colab": {
          "base_uri": "https://localhost:8080/"
        },
        "id": "1hWLRy_HRVo0",
        "outputId": "ecf89410-eafb-4e81-c2e8-f901d041c56b"
      },
      "outputs": [
        {
          "output_type": "execute_result",
          "data": {
            "text/plain": [
              "((), ())"
            ]
          },
          "metadata": {},
          "execution_count": 6
        }
      ],
      "source": [
        "input_shape = x[0].shape\n",
        "output_shape = y[0].shape\n",
        "input_shape, output_shape"
      ]
    },
    {
      "cell_type": "code",
      "execution_count": 7,
      "metadata": {
        "colab": {
          "base_uri": "https://localhost:8080/"
        },
        "id": "fTbroJEHReBi",
        "outputId": "2ad734c2-b74e-45f4-8f87-cddb5a380d7b"
      },
      "outputs": [
        {
          "output_type": "execute_result",
          "data": {
            "text/plain": [
              "0"
            ]
          },
          "metadata": {},
          "execution_count": 7
        }
      ],
      "source": [
        "x[0].ndim"
      ]
    },
    {
      "cell_type": "code",
      "execution_count": 8,
      "metadata": {
        "colab": {
          "base_uri": "https://localhost:8080/"
        },
        "id": "pAiTx-QKR9Re",
        "outputId": "e94a1af3-d801-424c-dfe6-b9c177c4c71b"
      },
      "outputs": [
        {
          "output_type": "execute_result",
          "data": {
            "text/plain": [
              "(-7.0, 3.0)"
            ]
          },
          "metadata": {},
          "execution_count": 8
        }
      ],
      "source": [
        "x[0], y[0]"
      ]
    },
    {
      "cell_type": "code",
      "execution_count": 9,
      "metadata": {
        "colab": {
          "base_uri": "https://localhost:8080/"
        },
        "id": "6LoDvmMuSAN_",
        "outputId": "c981181f-7190-4576-87e3-0ff0cf287dd1"
      },
      "outputs": [
        {
          "output_type": "execute_result",
          "data": {
            "text/plain": [
              "(<tf.Tensor: shape=(8,), dtype=float64, numpy=array([-7., -4., -1.,  2.,  5.,  8., 11., 14.])>,\n",
              " <tf.Tensor: shape=(8,), dtype=float64, numpy=array([ 3.,  6.,  9., 12., 15., 18., 21., 24.])>)"
            ]
          },
          "metadata": {},
          "execution_count": 9
        }
      ],
      "source": [
        "# Turn our NumPy Arayys into tensors\n",
        "x = tf.constant(x)\n",
        "y = tf.constant(y)\n",
        "x, y"
      ]
    },
    {
      "cell_type": "code",
      "execution_count": 10,
      "metadata": {
        "colab": {
          "base_uri": "https://localhost:8080/"
        },
        "id": "oDk0TvVuTmiu",
        "outputId": "efa6ccc1-4e61-4a37-d05b-4152d2e82240"
      },
      "outputs": [
        {
          "output_type": "execute_result",
          "data": {
            "text/plain": [
              "(TensorShape([]), TensorShape([]))"
            ]
          },
          "metadata": {},
          "execution_count": 10
        }
      ],
      "source": [
        "input_shape = x[0].shape\n",
        "output_shape = y[0].shape\n",
        "input_shape, output_shape"
      ]
    },
    {
      "cell_type": "code",
      "execution_count": 11,
      "metadata": {
        "colab": {
          "base_uri": "https://localhost:8080/",
          "height": 452
        },
        "id": "adJxBSZZT5Vy",
        "outputId": "6d76c7f6-8205-4102-bdc0-a131ee1b96fe"
      },
      "outputs": [
        {
          "output_type": "execute_result",
          "data": {
            "text/plain": [
              "<matplotlib.collections.PathCollection at 0x7e389b53fd00>"
            ]
          },
          "metadata": {},
          "execution_count": 11
        },
        {
          "output_type": "display_data",
          "data": {
            "text/plain": [
              "<Figure size 640x480 with 1 Axes>"
            ],
            "image/png": "[encoded data removed]"
          },
          "metadata": {}
        }
      ],
      "source": [
        "plt.scatter(x, y)"
      ]
    },
    {
      "cell_type": "markdown",
      "metadata": {
        "id": "XVLxC6GIUCLv"
      },
      "source": [
        "# Steps in modelling with TensorFlow\n",
        "\n",
        "1. Creating a model\n",
        "2. Compiling a model\n",
        "3. Fitting a model"
      ]
    },
    {
      "cell_type": "code",
      "execution_count": 12,
      "metadata": {
        "id": "dlscrAysUKDl",
        "colab": {
          "base_uri": "https://localhost:8080/"
        },
        "outputId": "79156276-9b80-43c4-e9a8-f6ccbe923f14"
      },
      "outputs": [
        {
          "output_type": "stream",
          "name": "stdout",
          "text": [
            "Epoch 1/5\n",
            "1/1 [==============================] - 1s 633ms/step - loss: 13.1979 - mae: 13.1979\n",
            "Epoch 2/5\n",
            "1/1 [==============================] - 0s 17ms/step - loss: 13.0654 - mae: 13.0654\n",
            "Epoch 3/5\n",
            "1/1 [==============================] - 0s 16ms/step - loss: 12.9329 - mae: 12.9329\n",
            "Epoch 4/5\n",
            "1/1 [==============================] - 0s 9ms/step - loss: 12.8004 - mae: 12.8004\n",
            "Epoch 5/5\n",
            "1/1 [==============================] - 0s 12ms/step - loss: 12.6679 - mae: 12.6679\n"
          ]
        },
        {
          "output_type": "execute_result",
          "data": {
            "text/plain": [
              "<keras.callbacks.History at 0x7e38982dbfd0>"
            ]
          },
          "metadata": {},
          "execution_count": 12
        }
      ],
      "source": [
        "# Set random seed\n",
        "tf.random.set_seed(42)\n",
        "\n",
        "# Create a model using the sequential API\n",
        "model = tf.keras.Sequential([\n",
        "    tf.keras.layers.Dense(1)\n",
        "])\n",
        "\n",
        "# Compile the model\n",
        "model.compile(loss=tf.keras.losses.mae, optimizer=tf.keras.optimizers.SGD(), metrics=[\"mae\"])\n",
        "\n",
        "# Fit the model\n",
        "# model.fit(X, y, epochs=5) # this will break with TensorFlow 2.7.0+\n",
        "model.fit(tf.expand_dims(x, axis=-1), y, epochs=5)"
      ]
    },
    {
      "cell_type": "code",
      "execution_count": 13,
      "metadata": {
        "colab": {
          "base_uri": "https://localhost:8080/"
        },
        "id": "LGjFRj1hOM33",
        "outputId": "8742da65-cf41-49be-b8ec-b29d487d2ad2"
      },
      "outputs": [
        {
          "output_type": "execute_result",
          "data": {
            "text/plain": [
              "(<tf.Tensor: shape=(8,), dtype=float64, numpy=array([-7., -4., -1.,  2.,  5.,  8., 11., 14.])>,\n",
              " <tf.Tensor: shape=(8,), dtype=float64, numpy=array([ 3.,  6.,  9., 12., 15., 18., 21., 24.])>)"
            ]
          },
          "metadata": {},
          "execution_count": 13
        }
      ],
      "source": [
        "# Check out x and y\n",
        "x, y"
      ]
    },
    {
      "cell_type": "code",
      "execution_count": 14,
      "metadata": {
        "colab": {
          "base_uri": "https://localhost:8080/"
        },
        "id": "IgA7JVycOM33",
        "outputId": "0d8f9f45-f96b-442f-bf9c-3704220bb812"
      },
      "outputs": [
        {
          "output_type": "stream",
          "name": "stdout",
          "text": [
            "1/1 [==============================] - 0s 106ms/step\n"
          ]
        },
        {
          "output_type": "execute_result",
          "data": {
            "text/plain": [
              "array([[4.492139]], dtype=float32)"
            ]
          },
          "metadata": {},
          "execution_count": 14
        }
      ],
      "source": [
        "# Try and make a prediction using the model\n",
        "y_pred = model.predict([17.0])\n",
        "y_pred"
      ]
    },
    {
      "cell_type": "code",
      "execution_count": 15,
      "metadata": {
        "colab": {
          "base_uri": "https://localhost:8080/"
        },
        "id": "l8VGZ1EGOM34",
        "outputId": "51f73cc0-e430-4848-f47e-f7b6b2c3a8ac"
      },
      "outputs": [
        {
          "output_type": "execute_result",
          "data": {
            "text/plain": [
              "array([[15.492139]], dtype=float32)"
            ]
          },
          "metadata": {},
          "execution_count": 15
        }
      ],
      "source": [
        "y_pred + 11"
      ]
    },
    {
      "cell_type": "markdown",
      "metadata": {
        "id": "3M7sm37KOM34"
      },
      "source": [
        "## Imporving our Model\n",
        "\n",
        "1. **Creating a model** - define the input and output layers, as well as the hidden layers of a deep learning model.\n",
        "2. **Compiling a model** - define the loss function (in other words, the function which tells our model how wrong it is) and the optimizer (tells our model how to improve the patterns its learning) and evaluation metrics (what we can use to interpret the performance of our model).\n",
        "3. **Fitting a model** - letting the model try to find patterns between X & y (features and labels)."
      ]
    },
    {
      "cell_type": "code",
      "execution_count": 16,
      "metadata": {
        "colab": {
          "base_uri": "https://localhost:8080/"
        },
        "id": "vKC0ghwJOM35",
        "outputId": "2f128d40-d4e3-4f7e-ae51-28e303f45c48"
      },
      "outputs": [
        {
          "output_type": "stream",
          "name": "stdout",
          "text": [
            "Epoch 1/100\n",
            "1/1 [==============================] - 0s 356ms/step - loss: 12.2318 - mae: 12.2318\n",
            "Epoch 2/100\n",
            "1/1 [==============================] - 0s 11ms/step - loss: 12.0993 - mae: 12.0993\n",
            "Epoch 3/100\n",
            "1/1 [==============================] - 0s 10ms/step - loss: 11.9668 - mae: 11.9668\n",
            "Epoch 4/100\n",
            "1/1 [==============================] - 0s 11ms/step - loss: 11.8343 - mae: 11.8343\n",
            "Epoch 5/100\n",
            "1/1 [==============================] - 0s 10ms/step - loss: 11.7018 - mae: 11.7018\n",
            "Epoch 6/100\n",
            "1/1 [==============================] - 0s 12ms/step - loss: 11.5693 - mae: 11.5693\n",
            "Epoch 7/100\n",
            "1/1 [==============================] - 0s 11ms/step - loss: 11.4368 - mae: 11.4368\n",
            "Epoch 8/100\n",
            "1/1 [==============================] - 0s 9ms/step - loss: 11.3043 - mae: 11.3043\n",
            "Epoch 9/100\n",
            "1/1 [==============================] - 0s 13ms/step - loss: 11.1718 - mae: 11.1718\n",
            "Epoch 10/100\n",
            "1/1 [==============================] - 0s 11ms/step - loss: 11.0393 - mae: 11.0393\n",
            "Epoch 11/100\n",
            "1/1 [==============================] - 0s 11ms/step - loss: 10.9068 - mae: 10.9068\n",
            "Epoch 12/100\n",
            "1/1 [==============================] - 0s 13ms/step - loss: 10.7743 - mae: 10.7743\n",
            "Epoch 13/100\n",
            "1/1 [==============================] - 0s 9ms/step - loss: 10.6418 - mae: 10.6418\n",
            "Epoch 14/100\n",
            "1/1 [==============================] - 0s 9ms/step - loss: 10.5093 - mae: 10.5093\n",
            "Epoch 15/100\n",
            "1/1 [==============================] - 0s 9ms/step - loss: 10.3768 - mae: 10.3768\n",
            "Epoch 16/100\n",
            "1/1 [==============================] - 0s 9ms/step - loss: 10.2443 - mae: 10.2443\n",
            "Epoch 17/100\n",
            "1/1 [==============================] - 0s 9ms/step - loss: 10.1118 - mae: 10.1118\n",
            "Epoch 18/100\n",
            "1/1 [==============================] - 0s 10ms/step - loss: 9.9793 - mae: 9.9793\n",
            "Epoch 19/100\n",
            "1/1 [==============================] - 0s 10ms/step - loss: 9.8468 - mae: 9.8468\n",
            "Epoch 20/100\n",
            "1/1 [==============================] - 0s 9ms/step - loss: 9.7143 - mae: 9.7143\n",
            "Epoch 21/100\n",
            "1/1 [==============================] - 0s 9ms/step - loss: 9.5818 - mae: 9.5818\n",
            "Epoch 22/100\n",
            "1/1 [==============================] - 0s 10ms/step - loss: 9.4493 - mae: 9.4493\n",
            "Epoch 23/100\n",
            "1/1 [==============================] - 0s 9ms/step - loss: 9.3168 - mae: 9.3168\n",
            "Epoch 24/100\n",
            "1/1 [==============================] - 0s 9ms/step - loss: 9.1843 - mae: 9.1843\n",
            "Epoch 25/100\n",
            "1/1 [==============================] - 0s 10ms/step - loss: 9.0518 - mae: 9.0518\n",
            "Epoch 26/100\n",
            "1/1 [==============================] - 0s 9ms/step - loss: 8.9193 - mae: 8.9193\n",
            "Epoch 27/100\n",
            "1/1 [==============================] - 0s 9ms/step - loss: 8.7868 - mae: 8.7868\n",
            "Epoch 28/100\n",
            "1/1 [==============================] - 0s 9ms/step - loss: 8.6543 - mae: 8.6543\n",
            "Epoch 29/100\n",
            "1/1 [==============================] - 0s 9ms/step - loss: 8.5218 - mae: 8.5218\n",
            "Epoch 30/100\n",
            "1/1 [==============================] - 0s 9ms/step - loss: 8.3893 - mae: 8.3893\n",
            "Epoch 31/100\n",
            "1/1 [==============================] - 0s 9ms/step - loss: 8.2568 - mae: 8.2568\n",
            "Epoch 32/100\n",
            "1/1 [==============================] - 0s 10ms/step - loss: 8.1243 - mae: 8.1243\n",
            "Epoch 33/100\n",
            "1/1 [==============================] - 0s 9ms/step - loss: 7.9918 - mae: 7.9918\n",
            "Epoch 34/100\n",
            "1/1 [==============================] - 0s 9ms/step - loss: 7.8593 - mae: 7.8593\n",
            "Epoch 35/100\n",
            "1/1 [==============================] - 0s 9ms/step - loss: 7.7268 - mae: 7.7268\n",
            "Epoch 36/100\n",
            "1/1 [==============================] - 0s 14ms/step - loss: 7.5943 - mae: 7.5943\n",
            "Epoch 37/100\n",
            "1/1 [==============================] - 0s 13ms/step - loss: 7.4618 - mae: 7.4618\n",
            "Epoch 38/100\n",
            "1/1 [==============================] - 0s 15ms/step - loss: 7.3293 - mae: 7.3293\n",
            "Epoch 39/100\n",
            "1/1 [==============================] - 0s 12ms/step - loss: 7.2150 - mae: 7.2150\n",
            "Epoch 40/100\n",
            "1/1 [==============================] - 0s 13ms/step - loss: 7.2094 - mae: 7.2094\n",
            "Epoch 41/100\n",
            "1/1 [==============================] - 0s 12ms/step - loss: 7.2038 - mae: 7.2038\n",
            "Epoch 42/100\n",
            "1/1 [==============================] - 0s 9ms/step - loss: 7.1981 - mae: 7.1981\n",
            "Epoch 43/100\n",
            "1/1 [==============================] - 0s 9ms/step - loss: 7.1925 - mae: 7.1925\n",
            "Epoch 44/100\n",
            "1/1 [==============================] - 0s 10ms/step - loss: 7.1869 - mae: 7.1869\n",
            "Epoch 45/100\n",
            "1/1 [==============================] - 0s 9ms/step - loss: 7.1813 - mae: 7.1813\n",
            "Epoch 46/100\n",
            "1/1 [==============================] - 0s 10ms/step - loss: 7.1756 - mae: 7.1756\n",
            "Epoch 47/100\n",
            "1/1 [==============================] - 0s 10ms/step - loss: 7.1700 - mae: 7.1700\n",
            "Epoch 48/100\n",
            "1/1 [==============================] - 0s 14ms/step - loss: 7.1644 - mae: 7.1644\n",
            "Epoch 49/100\n",
            "1/1 [==============================] - 0s 10ms/step - loss: 7.1587 - mae: 7.1587\n",
            "Epoch 50/100\n",
            "1/1 [==============================] - 0s 13ms/step - loss: 7.1531 - mae: 7.1531\n",
            "Epoch 51/100\n",
            "1/1 [==============================] - 0s 11ms/step - loss: 7.1475 - mae: 7.1475\n",
            "Epoch 52/100\n",
            "1/1 [==============================] - 0s 9ms/step - loss: 7.1419 - mae: 7.1419\n",
            "Epoch 53/100\n",
            "1/1 [==============================] - 0s 10ms/step - loss: 7.1363 - mae: 7.1363\n",
            "Epoch 54/100\n",
            "1/1 [==============================] - 0s 9ms/step - loss: 7.1306 - mae: 7.1306\n",
            "Epoch 55/100\n",
            "1/1 [==============================] - 0s 10ms/step - loss: 7.1250 - mae: 7.1250\n",
            "Epoch 56/100\n",
            "1/1 [==============================] - 0s 9ms/step - loss: 7.1194 - mae: 7.1194\n",
            "Epoch 57/100\n",
            "1/1 [==============================] - 0s 9ms/step - loss: 7.1137 - mae: 7.1137\n",
            "Epoch 58/100\n",
            "1/1 [==============================] - 0s 9ms/step - loss: 7.1081 - mae: 7.1081\n",
            "Epoch 59/100\n",
            "1/1 [==============================] - 0s 9ms/step - loss: 7.1025 - mae: 7.1025\n",
            "Epoch 60/100\n",
            "1/1 [==============================] - 0s 9ms/step - loss: 7.0969 - mae: 7.0969\n",
            "Epoch 61/100\n",
            "1/1 [==============================] - 0s 9ms/step - loss: 7.0912 - mae: 7.0912\n",
            "Epoch 62/100\n",
            "1/1 [==============================] - 0s 13ms/step - loss: 7.0856 - mae: 7.0856\n",
            "Epoch 63/100\n",
            "1/1 [==============================] - 0s 10ms/step - loss: 7.0800 - mae: 7.0800\n",
            "Epoch 64/100\n",
            "1/1 [==============================] - 0s 10ms/step - loss: 7.0744 - mae: 7.0744\n",
            "Epoch 65/100\n",
            "1/1 [==============================] - 0s 10ms/step - loss: 7.0688 - mae: 7.0688\n",
            "Epoch 66/100\n",
            "1/1 [==============================] - 0s 9ms/step - loss: 7.0631 - mae: 7.0631\n",
            "Epoch 67/100\n",
            "1/1 [==============================] - 0s 10ms/step - loss: 7.0575 - mae: 7.0575\n",
            "Epoch 68/100\n",
            "1/1 [==============================] - 0s 9ms/step - loss: 7.0519 - mae: 7.0519\n",
            "Epoch 69/100\n",
            "1/1 [==============================] - 0s 9ms/step - loss: 7.0462 - mae: 7.0462\n",
            "Epoch 70/100\n",
            "1/1 [==============================] - 0s 10ms/step - loss: 7.0406 - mae: 7.0406\n",
            "Epoch 71/100\n",
            "1/1 [==============================] - 0s 9ms/step - loss: 7.0350 - mae: 7.0350\n",
            "Epoch 72/100\n",
            "1/1 [==============================] - 0s 9ms/step - loss: 7.0294 - mae: 7.0294\n",
            "Epoch 73/100\n",
            "1/1 [==============================] - 0s 8ms/step - loss: 7.0238 - mae: 7.0238\n",
            "Epoch 74/100\n",
            "1/1 [==============================] - 0s 13ms/step - loss: 7.0181 - mae: 7.0181\n",
            "Epoch 75/100\n",
            "1/1 [==============================] - 0s 11ms/step - loss: 7.0125 - mae: 7.0125\n",
            "Epoch 76/100\n",
            "1/1 [==============================] - 0s 9ms/step - loss: 7.0069 - mae: 7.0069\n",
            "Epoch 77/100\n",
            "1/1 [==============================] - 0s 13ms/step - loss: 7.0013 - mae: 7.0013\n",
            "Epoch 78/100\n",
            "1/1 [==============================] - 0s 8ms/step - loss: 6.9956 - mae: 6.9956\n",
            "Epoch 79/100\n",
            "1/1 [==============================] - 0s 8ms/step - loss: 6.9900 - mae: 6.9900\n",
            "Epoch 80/100\n",
            "1/1 [==============================] - 0s 8ms/step - loss: 6.9844 - mae: 6.9844\n",
            "Epoch 81/100\n",
            "1/1 [==============================] - 0s 8ms/step - loss: 6.9788 - mae: 6.9788\n",
            "Epoch 82/100\n",
            "1/1 [==============================] - 0s 8ms/step - loss: 6.9731 - mae: 6.9731\n",
            "Epoch 83/100\n",
            "1/1 [==============================] - 0s 8ms/step - loss: 6.9675 - mae: 6.9675\n",
            "Epoch 84/100\n",
            "1/1 [==============================] - 0s 8ms/step - loss: 6.9619 - mae: 6.9619\n",
            "Epoch 85/100\n",
            "1/1 [==============================] - 0s 12ms/step - loss: 6.9563 - mae: 6.9563\n",
            "Epoch 86/100\n",
            "1/1 [==============================] - 0s 9ms/step - loss: 6.9506 - mae: 6.9506\n",
            "Epoch 87/100\n",
            "1/1 [==============================] - 0s 11ms/step - loss: 6.9450 - mae: 6.9450\n",
            "Epoch 88/100\n",
            "1/1 [==============================] - 0s 9ms/step - loss: 6.9394 - mae: 6.9394\n",
            "Epoch 89/100\n",
            "1/1 [==============================] - 0s 14ms/step - loss: 6.9338 - mae: 6.9338\n",
            "Epoch 90/100\n",
            "1/1 [==============================] - 0s 10ms/step - loss: 6.9281 - mae: 6.9281\n",
            "Epoch 91/100\n",
            "1/1 [==============================] - 0s 10ms/step - loss: 6.9225 - mae: 6.9225\n",
            "Epoch 92/100\n",
            "1/1 [==============================] - 0s 9ms/step - loss: 6.9169 - mae: 6.9169\n",
            "Epoch 93/100\n",
            "1/1 [==============================] - 0s 8ms/step - loss: 6.9113 - mae: 6.9113\n",
            "Epoch 94/100\n",
            "1/1 [==============================] - 0s 8ms/step - loss: 6.9056 - mae: 6.9056\n",
            "Epoch 95/100\n",
            "1/1 [==============================] - 0s 9ms/step - loss: 6.9000 - mae: 6.9000\n",
            "Epoch 96/100\n",
            "1/1 [==============================] - 0s 9ms/step - loss: 6.8944 - mae: 6.8944\n",
            "Epoch 97/100\n",
            "1/1 [==============================] - 0s 11ms/step - loss: 6.8888 - mae: 6.8888\n",
            "Epoch 98/100\n",
            "1/1 [==============================] - 0s 10ms/step - loss: 6.8831 - mae: 6.8831\n",
            "Epoch 99/100\n",
            "1/1 [==============================] - 0s 11ms/step - loss: 6.8775 - mae: 6.8775\n",
            "Epoch 100/100\n",
            "1/1 [==============================] - 0s 9ms/step - loss: 6.8719 - mae: 6.8719\n"
          ]
        },
        {
          "output_type": "execute_result",
          "data": {
            "text/plain": [
              "<keras.callbacks.History at 0x7e3898147dc0>"
            ]
          },
          "metadata": {},
          "execution_count": 16
        }
      ],
      "source": [
        "# let's rebuild our model\n",
        "\n",
        "# 1. Create the model\n",
        "model = tf.keras.Sequential([\n",
        "    tf.keras.layers.Dense(1)\n",
        "])\n",
        "\n",
        "# 2. Compile the model\n",
        "model.compile(loss=tf.keras.losses.mae, optimizer=tf.keras.optimizers.SGD(), metrics=['mae'])\n",
        "\n",
        "# 3. Fit the model (this time we train for longer)\n",
        "model.fit(tf.expand_dims(x, axis=1), y, epochs=100)"
      ]
    },
    {
      "cell_type": "code",
      "execution_count": 17,
      "metadata": {
        "colab": {
          "base_uri": "https://localhost:8080/"
        },
        "id": "tFCU42aOOM35",
        "outputId": "96b9af89-649c-459b-bcb0-ff5c554fd2e0"
      },
      "outputs": [
        {
          "output_type": "execute_result",
          "data": {
            "text/plain": [
              "(<tf.Tensor: shape=(8,), dtype=float64, numpy=array([-7., -4., -1.,  2.,  5.,  8., 11., 14.])>,\n",
              " <tf.Tensor: shape=(8,), dtype=float64, numpy=array([ 3.,  6.,  9., 12., 15., 18., 21., 24.])>)"
            ]
          },
          "metadata": {},
          "execution_count": 17
        }
      ],
      "source": [
        "# Remind ourselves of the data\n",
        "x, y"
      ]
    },
    {
      "cell_type": "code",
      "execution_count": 18,
      "metadata": {
        "colab": {
          "base_uri": "https://localhost:8080/"
        },
        "id": "xIl3oLYSOM36",
        "outputId": "bbe2b089-143b-416d-ad4d-27d44f47522e"
      },
      "outputs": [
        {
          "output_type": "stream",
          "name": "stdout",
          "text": [
            "1/1 [==============================] - 0s 108ms/step\n"
          ]
        },
        {
          "output_type": "execute_result",
          "data": {
            "text/plain": [
              "array([[29.614998]], dtype=float32)"
            ]
          },
          "metadata": {},
          "execution_count": 18
        }
      ],
      "source": [
        "model.predict([17.0])"
      ]
    },
    {
      "cell_type": "code",
      "execution_count": 19,
      "metadata": {
        "colab": {
          "base_uri": "https://localhost:8080/"
        },
        "id": "-0etBms9OM36",
        "outputId": "ac324f53-587e-4edf-fe9a-5f3739a61c40"
      },
      "outputs": [
        {
          "output_type": "stream",
          "name": "stdout",
          "text": [
            "Epoch 1/100\n",
            "1/1 [==============================] - 1s 704ms/step - loss: 12.6449 - mae: 12.6449\n",
            "Epoch 2/100\n",
            "1/1 [==============================] - 0s 12ms/step - loss: 12.0367 - mae: 12.0367\n",
            "Epoch 3/100\n",
            "1/1 [==============================] - 0s 13ms/step - loss: 11.4372 - mae: 11.4372\n",
            "Epoch 4/100\n",
            "1/1 [==============================] - 0s 16ms/step - loss: 10.8421 - mae: 10.8421\n",
            "Epoch 5/100\n",
            "1/1 [==============================] - 0s 12ms/step - loss: 10.2763 - mae: 10.2763\n",
            "Epoch 6/100\n",
            "1/1 [==============================] - 0s 9ms/step - loss: 9.8419 - mae: 9.8419\n",
            "Epoch 7/100\n",
            "1/1 [==============================] - 0s 9ms/step - loss: 9.3984 - mae: 9.3984\n",
            "Epoch 8/100\n",
            "1/1 [==============================] - 0s 13ms/step - loss: 8.9433 - mae: 8.9433\n",
            "Epoch 9/100\n",
            "1/1 [==============================] - 0s 9ms/step - loss: 8.4776 - mae: 8.4776\n",
            "Epoch 10/100\n",
            "1/1 [==============================] - 0s 10ms/step - loss: 8.0009 - mae: 8.0009\n",
            "Epoch 11/100\n",
            "1/1 [==============================] - 0s 10ms/step - loss: 7.5127 - mae: 7.5127\n",
            "Epoch 12/100\n",
            "1/1 [==============================] - 0s 9ms/step - loss: 7.0178 - mae: 7.0178\n",
            "Epoch 13/100\n",
            "1/1 [==============================] - 0s 9ms/step - loss: 6.5129 - mae: 6.5129\n",
            "Epoch 14/100\n",
            "1/1 [==============================] - 0s 9ms/step - loss: 5.9925 - mae: 5.9925\n",
            "Epoch 15/100\n",
            "1/1 [==============================] - 0s 9ms/step - loss: 5.4554 - mae: 5.4554\n",
            "Epoch 16/100\n",
            "1/1 [==============================] - 0s 11ms/step - loss: 4.9005 - mae: 4.9005\n",
            "Epoch 17/100\n",
            "1/1 [==============================] - 0s 11ms/step - loss: 4.3272 - mae: 4.3272\n",
            "Epoch 18/100\n",
            "1/1 [==============================] - 0s 14ms/step - loss: 3.9029 - mae: 3.9029\n",
            "Epoch 19/100\n",
            "1/1 [==============================] - 0s 11ms/step - loss: 3.7075 - mae: 3.7075\n",
            "Epoch 20/100\n",
            "1/1 [==============================] - 0s 9ms/step - loss: 3.7689 - mae: 3.7689\n",
            "Epoch 21/100\n",
            "1/1 [==============================] - 0s 11ms/step - loss: 3.8612 - mae: 3.8612\n",
            "Epoch 22/100\n",
            "1/1 [==============================] - 0s 9ms/step - loss: 3.9371 - mae: 3.9371\n",
            "Epoch 23/100\n",
            "1/1 [==============================] - 0s 10ms/step - loss: 4.0969 - mae: 4.0969\n",
            "Epoch 24/100\n",
            "1/1 [==============================] - 0s 10ms/step - loss: 4.2406 - mae: 4.2406\n",
            "Epoch 25/100\n",
            "1/1 [==============================] - 0s 10ms/step - loss: 4.3231 - mae: 4.3231\n",
            "Epoch 26/100\n",
            "1/1 [==============================] - 0s 10ms/step - loss: 4.3490 - mae: 4.3490\n",
            "Epoch 27/100\n",
            "1/1 [==============================] - 0s 12ms/step - loss: 4.3255 - mae: 4.3255\n",
            "Epoch 28/100\n",
            "1/1 [==============================] - 0s 10ms/step - loss: 4.2633 - mae: 4.2633\n",
            "Epoch 29/100\n",
            "1/1 [==============================] - 0s 10ms/step - loss: 4.1693 - mae: 4.1693\n",
            "Epoch 30/100\n",
            "1/1 [==============================] - 0s 11ms/step - loss: 4.0394 - mae: 4.0394\n",
            "Epoch 31/100\n",
            "1/1 [==============================] - 0s 15ms/step - loss: 3.8786 - mae: 3.8786\n",
            "Epoch 32/100\n",
            "1/1 [==============================] - 0s 10ms/step - loss: 3.7057 - mae: 3.7057\n",
            "Epoch 33/100\n",
            "1/1 [==============================] - 0s 10ms/step - loss: 3.6231 - mae: 3.6231\n",
            "Epoch 34/100\n",
            "1/1 [==============================] - 0s 13ms/step - loss: 3.5400 - mae: 3.5400\n",
            "Epoch 35/100\n",
            "1/1 [==============================] - 0s 10ms/step - loss: 3.4822 - mae: 3.4822\n",
            "Epoch 36/100\n",
            "1/1 [==============================] - 0s 9ms/step - loss: 3.4073 - mae: 3.4073\n",
            "Epoch 37/100\n",
            "1/1 [==============================] - 0s 9ms/step - loss: 3.3031 - mae: 3.3031\n",
            "Epoch 38/100\n",
            "1/1 [==============================] - 0s 10ms/step - loss: 3.2300 - mae: 3.2300\n",
            "Epoch 39/100\n",
            "1/1 [==============================] - 0s 10ms/step - loss: 3.2438 - mae: 3.2438\n",
            "Epoch 40/100\n",
            "1/1 [==============================] - 0s 10ms/step - loss: 3.2502 - mae: 3.2502\n",
            "Epoch 41/100\n",
            "1/1 [==============================] - 0s 9ms/step - loss: 3.2403 - mae: 3.2403\n",
            "Epoch 42/100\n",
            "1/1 [==============================] - 0s 10ms/step - loss: 3.2095 - mae: 3.2095\n",
            "Epoch 43/100\n",
            "1/1 [==============================] - 0s 10ms/step - loss: 3.1588 - mae: 3.1588\n",
            "Epoch 44/100\n",
            "1/1 [==============================] - 0s 10ms/step - loss: 3.0897 - mae: 3.0897\n",
            "Epoch 45/100\n",
            "1/1 [==============================] - 0s 9ms/step - loss: 3.0153 - mae: 3.0153\n",
            "Epoch 46/100\n",
            "1/1 [==============================] - 0s 9ms/step - loss: 2.9214 - mae: 2.9214\n",
            "Epoch 47/100\n",
            "1/1 [==============================] - 0s 9ms/step - loss: 2.9004 - mae: 2.9004\n",
            "Epoch 48/100\n",
            "1/1 [==============================] - 0s 10ms/step - loss: 2.8733 - mae: 2.8733\n",
            "Epoch 49/100\n",
            "1/1 [==============================] - 0s 10ms/step - loss: 2.8361 - mae: 2.8361\n",
            "Epoch 50/100\n",
            "1/1 [==============================] - 0s 10ms/step - loss: 2.7878 - mae: 2.7878\n",
            "Epoch 51/100\n",
            "1/1 [==============================] - 0s 10ms/step - loss: 2.7278 - mae: 2.7278\n",
            "Epoch 52/100\n",
            "1/1 [==============================] - 0s 9ms/step - loss: 2.6613 - mae: 2.6613\n",
            "Epoch 53/100\n",
            "1/1 [==============================] - 0s 10ms/step - loss: 2.5917 - mae: 2.5917\n",
            "Epoch 54/100\n",
            "1/1 [==============================] - 0s 9ms/step - loss: 2.5337 - mae: 2.5337\n",
            "Epoch 55/100\n",
            "1/1 [==============================] - 0s 10ms/step - loss: 2.4611 - mae: 2.4611\n",
            "Epoch 56/100\n",
            "1/1 [==============================] - 0s 9ms/step - loss: 2.3700 - mae: 2.3700\n",
            "Epoch 57/100\n",
            "1/1 [==============================] - 0s 9ms/step - loss: 2.3000 - mae: 2.3000\n",
            "Epoch 58/100\n",
            "1/1 [==============================] - 0s 10ms/step - loss: 2.2105 - mae: 2.2105\n",
            "Epoch 59/100\n",
            "1/1 [==============================] - 0s 9ms/step - loss: 2.1169 - mae: 2.1169\n",
            "Epoch 60/100\n",
            "1/1 [==============================] - 0s 9ms/step - loss: 2.0279 - mae: 2.0279\n",
            "Epoch 61/100\n",
            "1/1 [==============================] - 0s 10ms/step - loss: 1.9353 - mae: 1.9353\n",
            "Epoch 62/100\n",
            "1/1 [==============================] - 0s 9ms/step - loss: 1.8443 - mae: 1.8443\n",
            "Epoch 63/100\n",
            "1/1 [==============================] - 0s 9ms/step - loss: 1.7486 - mae: 1.7486\n",
            "Epoch 64/100\n",
            "1/1 [==============================] - 0s 10ms/step - loss: 1.6396 - mae: 1.6396\n",
            "Epoch 65/100\n",
            "1/1 [==============================] - 0s 9ms/step - loss: 1.5513 - mae: 1.5513\n",
            "Epoch 66/100\n",
            "1/1 [==============================] - 0s 9ms/step - loss: 1.4063 - mae: 1.4063\n",
            "Epoch 67/100\n",
            "1/1 [==============================] - 0s 10ms/step - loss: 1.3349 - mae: 1.3349\n",
            "Epoch 68/100\n",
            "1/1 [==============================] - 0s 10ms/step - loss: 1.2104 - mae: 1.2104\n",
            "Epoch 69/100\n",
            "1/1 [==============================] - 0s 9ms/step - loss: 1.0984 - mae: 1.0984\n",
            "Epoch 70/100\n",
            "1/1 [==============================] - 0s 9ms/step - loss: 0.9680 - mae: 0.9680\n",
            "Epoch 71/100\n",
            "1/1 [==============================] - 0s 9ms/step - loss: 0.8283 - mae: 0.8283\n",
            "Epoch 72/100\n",
            "1/1 [==============================] - 0s 10ms/step - loss: 0.6982 - mae: 0.6982\n",
            "Epoch 73/100\n",
            "1/1 [==============================] - 0s 10ms/step - loss: 0.5695 - mae: 0.5695\n",
            "Epoch 74/100\n",
            "1/1 [==============================] - 0s 10ms/step - loss: 0.4348 - mae: 0.4348\n",
            "Epoch 75/100\n",
            "1/1 [==============================] - 0s 10ms/step - loss: 0.3541 - mae: 0.3541\n",
            "Epoch 76/100\n",
            "1/1 [==============================] - 0s 18ms/step - loss: 0.2569 - mae: 0.2569\n",
            "Epoch 77/100\n",
            "1/1 [==============================] - 0s 13ms/step - loss: 0.2879 - mae: 0.2879\n",
            "Epoch 78/100\n",
            "1/1 [==============================] - 0s 16ms/step - loss: 0.1927 - mae: 0.1927\n",
            "Epoch 79/100\n",
            "1/1 [==============================] - 0s 13ms/step - loss: 0.2968 - mae: 0.2968\n",
            "Epoch 80/100\n",
            "1/1 [==============================] - 0s 12ms/step - loss: 0.4455 - mae: 0.4455\n",
            "Epoch 81/100\n",
            "1/1 [==============================] - 0s 15ms/step - loss: 0.4743 - mae: 0.4743\n",
            "Epoch 82/100\n",
            "1/1 [==============================] - 0s 12ms/step - loss: 0.4149 - mae: 0.4149\n",
            "Epoch 83/100\n",
            "1/1 [==============================] - 0s 10ms/step - loss: 0.4061 - mae: 0.4061\n",
            "Epoch 84/100\n",
            "1/1 [==============================] - 0s 9ms/step - loss: 0.4130 - mae: 0.4130\n",
            "Epoch 85/100\n",
            "1/1 [==============================] - 0s 9ms/step - loss: 0.4432 - mae: 0.4432\n",
            "Epoch 86/100\n",
            "1/1 [==============================] - 0s 9ms/step - loss: 0.3613 - mae: 0.3613\n",
            "Epoch 87/100\n",
            "1/1 [==============================] - 0s 9ms/step - loss: 0.2436 - mae: 0.2436\n",
            "Epoch 88/100\n",
            "1/1 [==============================] - 0s 9ms/step - loss: 0.3084 - mae: 0.3084\n",
            "Epoch 89/100\n",
            "1/1 [==============================] - 0s 9ms/step - loss: 0.2882 - mae: 0.2882\n",
            "Epoch 90/100\n",
            "1/1 [==============================] - 0s 9ms/step - loss: 0.2568 - mae: 0.2568\n",
            "Epoch 91/100\n",
            "1/1 [==============================] - 0s 9ms/step - loss: 0.1932 - mae: 0.1932\n",
            "Epoch 92/100\n",
            "1/1 [==============================] - 0s 9ms/step - loss: 0.2263 - mae: 0.2263\n",
            "Epoch 93/100\n",
            "1/1 [==============================] - 0s 9ms/step - loss: 0.2291 - mae: 0.2291\n",
            "Epoch 94/100\n",
            "1/1 [==============================] - 0s 9ms/step - loss: 0.2049 - mae: 0.2049\n",
            "Epoch 95/100\n",
            "1/1 [==============================] - 0s 9ms/step - loss: 0.1985 - mae: 0.1985\n",
            "Epoch 96/100\n",
            "1/1 [==============================] - 0s 10ms/step - loss: 0.2341 - mae: 0.2341\n",
            "Epoch 97/100\n",
            "1/1 [==============================] - 0s 9ms/step - loss: 0.1602 - mae: 0.1602\n",
            "Epoch 98/100\n",
            "1/1 [==============================] - 0s 9ms/step - loss: 0.2210 - mae: 0.2210\n",
            "Epoch 99/100\n",
            "1/1 [==============================] - 0s 9ms/step - loss: 0.1711 - mae: 0.1711\n",
            "Epoch 100/100\n",
            "1/1 [==============================] - 0s 8ms/step - loss: 0.1549 - mae: 0.1549\n"
          ]
        },
        {
          "output_type": "execute_result",
          "data": {
            "text/plain": [
              "<keras.callbacks.History at 0x7e3898131840>"
            ]
          },
          "metadata": {},
          "execution_count": 19
        }
      ],
      "source": [
        "model = tf.keras.Sequential([\n",
        "    tf.keras.layers.Dense(50, activation=\"relu\"),\n",
        "    # tf.keras.layers.Dense(100, activation=\"relu\"),\n",
        "    # tf.keras.layers.Dense(100, activation=\"relu\"),\n",
        "    tf.keras.layers.Dense(1)\n",
        "])\n",
        "\n",
        "model.compile(loss=tf.keras.losses.mae, optimizer=tf.keras.optimizers.Adam(learning_rate=0.01), metrics=[\"mae\"])\n",
        "\n",
        "model.fit(tf.expand_dims(x, axis=1), y, epochs=100)"
      ]
    },
    {
      "cell_type": "code",
      "execution_count": 20,
      "metadata": {
        "colab": {
          "base_uri": "https://localhost:8080/"
        },
        "id": "HIJ-8KbkOM37",
        "outputId": "56cdcbed-e0b1-425e-8835-e2f7415c2c9f"
      },
      "outputs": [
        {
          "output_type": "execute_result",
          "data": {
            "text/plain": [
              "(<tf.Tensor: shape=(8,), dtype=float64, numpy=array([-7., -4., -1.,  2.,  5.,  8., 11., 14.])>,\n",
              " <tf.Tensor: shape=(8,), dtype=float64, numpy=array([ 3.,  6.,  9., 12., 15., 18., 21., 24.])>)"
            ]
          },
          "metadata": {},
          "execution_count": 20
        }
      ],
      "source": [
        "# let's remind ourselves of the data\n",
        "x, y"
      ]
    },
    {
      "cell_type": "code",
      "execution_count": 21,
      "metadata": {
        "colab": {
          "base_uri": "https://localhost:8080/"
        },
        "id": "TKSDeDxQOM37",
        "outputId": "fea27270-bf38-4d4d-aedd-a10a144d9b63"
      },
      "outputs": [
        {
          "output_type": "stream",
          "name": "stdout",
          "text": [
            "1/1 [==============================] - 0s 108ms/step\n"
          ]
        },
        {
          "output_type": "execute_result",
          "data": {
            "text/plain": [
              "array([[27.107815]], dtype=float32)"
            ]
          },
          "metadata": {},
          "execution_count": 21
        }
      ],
      "source": [
        "model.predict([17.0])"
      ]
    },
    {
      "cell_type": "markdown",
      "metadata": {
        "id": "ygnpVAjIOM37"
      },
      "source": [
        "# Evaluating a Modal"
      ]
    },
    {
      "cell_type": "code",
      "execution_count": 22,
      "metadata": {
        "colab": {
          "base_uri": "https://localhost:8080/"
        },
        "id": "yhDC4D1aOM38",
        "outputId": "a76423e0-55f1-4cec-8e65-e8db0b191e55"
      },
      "outputs": [
        {
          "output_type": "execute_result",
          "data": {
            "text/plain": [
              "<tf.Tensor: shape=(50,), dtype=int32, numpy=\n",
              "array([-100,  -96,  -92,  -88,  -84,  -80,  -76,  -72,  -68,  -64,  -60,\n",
              "        -56,  -52,  -48,  -44,  -40,  -36,  -32,  -28,  -24,  -20,  -16,\n",
              "        -12,   -8,   -4,    0,    4,    8,   12,   16,   20,   24,   28,\n",
              "         32,   36,   40,   44,   48,   52,   56,   60,   64,   68,   72,\n",
              "         76,   80,   84,   88,   92,   96], dtype=int32)>"
            ]
          },
          "metadata": {},
          "execution_count": 22
        }
      ],
      "source": [
        "# Make a bigger dataset\n",
        "x = tf.range(-100, 100, 4)\n",
        "x\n"
      ]
    },
    {
      "cell_type": "code",
      "execution_count": 23,
      "metadata": {
        "colab": {
          "base_uri": "https://localhost:8080/"
        },
        "id": "R0Y8-fQ_OM38",
        "outputId": "a6bd3b16-f449-4edd-a579-520ac0922a82"
      },
      "outputs": [
        {
          "output_type": "execute_result",
          "data": {
            "text/plain": [
              "<tf.Tensor: shape=(50,), dtype=int32, numpy=\n",
              "array([-90, -86, -82, -78, -74, -70, -66, -62, -58, -54, -50, -46, -42,\n",
              "       -38, -34, -30, -26, -22, -18, -14, -10,  -6,  -2,   2,   6,  10,\n",
              "        14,  18,  22,  26,  30,  34,  38,  42,  46,  50,  54,  58,  62,\n",
              "        66,  70,  74,  78,  82,  86,  90,  94,  98, 102, 106], dtype=int32)>"
            ]
          },
          "metadata": {},
          "execution_count": 23
        }
      ],
      "source": [
        "y = x + 10\n",
        "y"
      ]
    },
    {
      "cell_type": "code",
      "execution_count": 24,
      "metadata": {
        "colab": {
          "base_uri": "https://localhost:8080/",
          "height": 447
        },
        "id": "jEPFTM6lOM38",
        "outputId": "5c74a0ca-11da-48f6-ebc1-3ed855293905"
      },
      "outputs": [
        {
          "output_type": "execute_result",
          "data": {
            "text/plain": [
              "<matplotlib.collections.PathCollection at 0x7e389182a560>"
            ]
          },
          "metadata": {},
          "execution_count": 24
        },
        {
          "output_type": "display_data",
          "data": {
            "text/plain": [
              "<Figure size 640x480 with 1 Axes>"
            ],
            "image/png": "[encoded data removed]"
          },
          "metadata": {}
        }
      ],
      "source": [
        "# visualize the data\n",
        "import matplotlib.pyplot as plt\n",
        "plt.scatter(x, y)"
      ]
    },
    {
      "cell_type": "markdown",
      "metadata": {
        "id": "eaHAlGt3OM39"
      },
      "source": [
        "### The 3 sets...\n",
        "* Training set - the model learns from this data, which is typically 70-80% of the total data you have available.\n",
        "* Validation set - the model gets tuned on this data, which is typically 10-15% of the data available.\n",
        "* Test set - the model gets evaluated on this data to test what it has learned, this set is typically 10-15% of the total data available."
      ]
    },
    {
      "cell_type": "code",
      "execution_count": 25,
      "metadata": {
        "colab": {
          "base_uri": "https://localhost:8080/"
        },
        "id": "fv-fGKduOM39",
        "outputId": "498dc0a3-13ba-4370-c4a7-67a7a8cffa22"
      },
      "outputs": [
        {
          "output_type": "execute_result",
          "data": {
            "text/plain": [
              "50"
            ]
          },
          "metadata": {},
          "execution_count": 25
        }
      ],
      "source": [
        "# Check the length of how many samples we have\n",
        "len(x)"
      ]
    },
    {
      "cell_type": "code",
      "execution_count": 26,
      "metadata": {
        "colab": {
          "base_uri": "https://localhost:8080/"
        },
        "id": "zl9XhIwAOM3-",
        "outputId": "4640d0fc-0221-4334-c546-4ce9904abf2d"
      },
      "outputs": [
        {
          "output_type": "execute_result",
          "data": {
            "text/plain": [
              "(40, 10, 40, 10)"
            ]
          },
          "metadata": {},
          "execution_count": 26
        }
      ],
      "source": [
        "# Split the data into train and test sets\n",
        "x_train = x[:40] # first 40 are training samples (80% of the data)\n",
        "x_test = x[40:] # last 10 are testing samples (20% of the data)\n",
        "\n",
        "y_train = y[:40] # first 40 are training samples (80% of the data)\n",
        "y_test = y[40:] # last 10 are testing samples (20% of the data)\n",
        "\n",
        "len(x_train), len(x_test), len(y_train), len(y_test)"
      ]
    },
    {
      "cell_type": "markdown",
      "metadata": {
        "id": "z2JiSavlOM3_"
      },
      "source": [
        "### Visualizing the data ###"
      ]
    },
    {
      "cell_type": "code",
      "execution_count": 27,
      "metadata": {
        "colab": {
          "base_uri": "https://localhost:8080/",
          "height": 592
        },
        "id": "2StDP56NOM3_",
        "outputId": "61865091-a1b5-4aec-c709-dbeb2e1de88d"
      },
      "outputs": [
        {
          "output_type": "execute_result",
          "data": {
            "text/plain": [
              "<matplotlib.legend.Legend at 0x7e38926f1360>"
            ]
          },
          "metadata": {},
          "execution_count": 27
        },
        {
          "output_type": "display_data",
          "data": {
            "text/plain": [
              "<Figure size 1000x700 with 1 Axes>"
            ],
            "image/png": "[encoded data removed]"
          },
          "metadata": {}
        }
      ],
      "source": [
        "plt.figure(figsize=(10, 7))\n",
        "# Plot training data in blue\n",
        "plt.scatter(x_train, y_train, c=\"b\", label=\"Training data\")\n",
        "# Plot test data in green\n",
        "plt.scatter(x_test, y_test, c=\"g\", label=\"Testing data\")\n",
        "# show a legend\n",
        "plt.legend()"
      ]
    },
    {
      "cell_type": "code",
      "execution_count": 28,
      "metadata": {
        "id": "st-Drvy4OM3_"
      },
      "outputs": [],
      "source": [
        "# Lets have a look at how to build a neural network for our data\n",
        "\n",
        "# 1. Create a model\n",
        "model = tf.keras.Sequential([\n",
        "    tf.keras.layers.Dense(1)\n",
        "])\n",
        "\n",
        "# 2. Compile the model\n",
        "model.compile(loss=tf.keras.losses.mae, optimizer=tf.keras.optimizers.SGD(), metrics=[\"mae\"])\n",
        "\n",
        "# # 3. Fit the model\n",
        "# model.fit(x_train, y_train, epochs=100)"
      ]
    },
    {
      "cell_type": "markdown",
      "metadata": {
        "id": "QQz0inCAOM4A"
      },
      "source": [
        "# Visualizing the data"
      ]
    },
    {
      "cell_type": "code",
      "execution_count": 29,
      "metadata": {
        "id": "U-yBFW2pOM4A"
      },
      "outputs": [],
      "source": [
        "# Let's create a model which builds automatically by defining the input_shape argument in the first layer\n",
        "tf.random.set_seed(42)\n",
        "\n",
        "# Create a model (same as above)\n",
        "model = tf.keras.Sequential([\n",
        "    tf.keras.layers.Dense(10, input_shape=[1], name=\"input_layer\"),\n",
        "    tf.keras.layers.Dense(1, name=\"output_layer\")\n",
        "], name=\"modal_1\")\n",
        "\n",
        "# Compile the model\n",
        "model.compile(loss=tf.keras.losses.mae, optimizer=tf.keras.optimizers.SGD(), metrics=[\"mae\"])\n",
        "\n"
      ]
    },
    {
      "cell_type": "code",
      "execution_count": 30,
      "metadata": {
        "colab": {
          "base_uri": "https://localhost:8080/"
        },
        "id": "PpQ83i2zOM4A",
        "outputId": "09da087f-52b0-49ad-ef7a-b023a34159b6"
      },
      "outputs": [
        {
          "output_type": "stream",
          "name": "stdout",
          "text": [
            "Model: \"modal_1\"\n",
            "_________________________________________________________________\n",
            " Layer (type)                Output Shape              Param #   \n",
            "=================================================================\n",
            " input_layer (Dense)         (None, 10)                20        \n",
            "                                                                 \n",
            " output_layer (Dense)        (None, 1)                 11        \n",
            "                                                                 \n",
            "=================================================================\n",
            "Total params: 31\n",
            "Trainable params: 31\n",
            "Non-trainable params: 0\n",
            "_________________________________________________________________\n"
          ]
        }
      ],
      "source": [
        "model.summary()"
      ]
    },
    {
      "cell_type": "code",
      "execution_count": 31,
      "metadata": {
        "colab": {
          "base_uri": "https://localhost:8080/"
        },
        "id": "sFJ8mqjwOM4B",
        "outputId": "c218b4aa-8373-42b2-8c07-5d60d65aa5be"
      },
      "outputs": [
        {
          "output_type": "stream",
          "name": "stdout",
          "text": [
            "Epoch 1/100\n",
            "2/2 [==============================] - 1s 33ms/step - loss: 29.3361 - mae: 29.3361\n",
            "Epoch 2/100\n",
            "2/2 [==============================] - 0s 15ms/step - loss: 25.7782 - mae: 25.7782\n",
            "Epoch 3/100\n",
            "2/2 [==============================] - 0s 13ms/step - loss: 24.8537 - mae: 24.8537\n",
            "Epoch 4/100\n",
            "2/2 [==============================] - 0s 11ms/step - loss: 14.2938 - mae: 14.2938\n",
            "Epoch 5/100\n",
            "2/2 [==============================] - 0s 10ms/step - loss: 21.7101 - mae: 21.7101\n",
            "Epoch 6/100\n",
            "2/2 [==============================] - 0s 11ms/step - loss: 10.4224 - mae: 10.4224\n",
            "Epoch 7/100\n",
            "2/2 [==============================] - 0s 10ms/step - loss: 11.3937 - mae: 11.3937\n",
            "Epoch 8/100\n",
            "2/2 [==============================] - 0s 9ms/step - loss: 11.1773 - mae: 11.1773\n",
            "Epoch 9/100\n",
            "2/2 [==============================] - 0s 24ms/step - loss: 41.3902 - mae: 41.3902\n",
            "Epoch 10/100\n",
            "2/2 [==============================] - 0s 11ms/step - loss: 28.6639 - mae: 28.6639\n",
            "Epoch 11/100\n",
            "2/2 [==============================] - 0s 10ms/step - loss: 9.4081 - mae: 9.4081\n",
            "Epoch 12/100\n",
            "2/2 [==============================] - 0s 12ms/step - loss: 26.2717 - mae: 26.2717\n",
            "Epoch 13/100\n",
            "2/2 [==============================] - 0s 10ms/step - loss: 14.4890 - mae: 14.4890\n",
            "Epoch 14/100\n",
            "2/2 [==============================] - 0s 10ms/step - loss: 29.9560 - mae: 29.9560\n",
            "Epoch 15/100\n",
            "2/2 [==============================] - 0s 12ms/step - loss: 19.7922 - mae: 19.7922\n",
            "Epoch 16/100\n",
            "2/2 [==============================] - 0s 12ms/step - loss: 9.8661 - mae: 9.8661\n",
            "Epoch 17/100\n",
            "2/2 [==============================] - 0s 12ms/step - loss: 17.7013 - mae: 17.7013\n",
            "Epoch 18/100\n",
            "2/2 [==============================] - 0s 12ms/step - loss: 14.1701 - mae: 14.1701\n",
            "Epoch 19/100\n",
            "2/2 [==============================] - 0s 11ms/step - loss: 14.0117 - mae: 14.0117\n",
            "Epoch 20/100\n",
            "2/2 [==============================] - 0s 10ms/step - loss: 11.2380 - mae: 11.2380\n",
            "Epoch 21/100\n",
            "2/2 [==============================] - 0s 15ms/step - loss: 17.3319 - mae: 17.3319\n",
            "Epoch 22/100\n",
            "2/2 [==============================] - 0s 35ms/step - loss: 15.5685 - mae: 15.5685\n",
            "Epoch 23/100\n",
            "2/2 [==============================] - 0s 25ms/step - loss: 9.2442 - mae: 9.2442\n",
            "Epoch 24/100\n",
            "2/2 [==============================] - 0s 17ms/step - loss: 17.2519 - mae: 17.2519\n",
            "Epoch 25/100\n",
            "2/2 [==============================] - 0s 11ms/step - loss: 15.9326 - mae: 15.9326\n",
            "Epoch 26/100\n",
            "2/2 [==============================] - 0s 25ms/step - loss: 20.9097 - mae: 20.9097\n",
            "Epoch 27/100\n",
            "2/2 [==============================] - 0s 26ms/step - loss: 26.0126 - mae: 26.0126\n",
            "Epoch 28/100\n",
            "2/2 [==============================] - 0s 10ms/step - loss: 18.5047 - mae: 18.5047\n",
            "Epoch 29/100\n",
            "2/2 [==============================] - 0s 10ms/step - loss: 9.2521 - mae: 9.2521\n",
            "Epoch 30/100\n",
            "2/2 [==============================] - 0s 10ms/step - loss: 29.1163 - mae: 29.1163\n",
            "Epoch 31/100\n",
            "2/2 [==============================] - 0s 12ms/step - loss: 52.7395 - mae: 52.7395\n",
            "Epoch 32/100\n",
            "2/2 [==============================] - 0s 10ms/step - loss: 11.9467 - mae: 11.9467\n",
            "Epoch 33/100\n",
            "2/2 [==============================] - 0s 10ms/step - loss: 15.5430 - mae: 15.5430\n",
            "Epoch 34/100\n",
            "2/2 [==============================] - 0s 10ms/step - loss: 12.6325 - mae: 12.6325\n",
            "Epoch 35/100\n",
            "2/2 [==============================] - 0s 12ms/step - loss: 9.2168 - mae: 9.2168\n",
            "Epoch 36/100\n",
            "2/2 [==============================] - 0s 19ms/step - loss: 16.5256 - mae: 16.5256\n",
            "Epoch 37/100\n",
            "2/2 [==============================] - 0s 20ms/step - loss: 11.0791 - mae: 11.0791\n",
            "Epoch 38/100\n",
            "2/2 [==============================] - 0s 15ms/step - loss: 18.2073 - mae: 18.2073\n",
            "Epoch 39/100\n",
            "2/2 [==============================] - 0s 10ms/step - loss: 19.1413 - mae: 19.1413\n",
            "Epoch 40/100\n",
            "2/2 [==============================] - 0s 15ms/step - loss: 20.5030 - mae: 20.5030\n",
            "Epoch 41/100\n",
            "2/2 [==============================] - 0s 16ms/step - loss: 14.8332 - mae: 14.8332\n",
            "Epoch 42/100\n",
            "2/2 [==============================] - 0s 12ms/step - loss: 12.2232 - mae: 12.2232\n",
            "Epoch 43/100\n",
            "2/2 [==============================] - 0s 10ms/step - loss: 10.7084 - mae: 10.7084\n",
            "Epoch 44/100\n",
            "2/2 [==============================] - 0s 10ms/step - loss: 32.2994 - mae: 32.2994\n",
            "Epoch 45/100\n",
            "2/2 [==============================] - 0s 11ms/step - loss: 12.4862 - mae: 12.4862\n",
            "Epoch 46/100\n",
            "2/2 [==============================] - 0s 9ms/step - loss: 17.5399 - mae: 17.5399\n",
            "Epoch 47/100\n",
            "2/2 [==============================] - 0s 12ms/step - loss: 15.7530 - mae: 15.7530\n",
            "Epoch 48/100\n",
            "2/2 [==============================] - 0s 25ms/step - loss: 8.3779 - mae: 8.3779\n",
            "Epoch 49/100\n",
            "2/2 [==============================] - 0s 9ms/step - loss: 13.9877 - mae: 13.9877\n",
            "Epoch 50/100\n",
            "2/2 [==============================] - 0s 9ms/step - loss: 12.8274 - mae: 12.8274\n",
            "Epoch 51/100\n",
            "2/2 [==============================] - 0s 9ms/step - loss: 14.8400 - mae: 14.8400\n",
            "Epoch 52/100\n",
            "2/2 [==============================] - 0s 18ms/step - loss: 18.7268 - mae: 18.7268\n",
            "Epoch 53/100\n",
            "2/2 [==============================] - 0s 11ms/step - loss: 24.1740 - mae: 24.1740\n",
            "Epoch 54/100\n",
            "2/2 [==============================] - 0s 11ms/step - loss: 23.1690 - mae: 23.1690\n",
            "Epoch 55/100\n",
            "2/2 [==============================] - 0s 16ms/step - loss: 24.0197 - mae: 24.0197\n",
            "Epoch 56/100\n",
            "2/2 [==============================] - 0s 11ms/step - loss: 11.1648 - mae: 11.1648\n",
            "Epoch 57/100\n",
            "2/2 [==============================] - 0s 13ms/step - loss: 13.1157 - mae: 13.1157\n",
            "Epoch 58/100\n",
            "2/2 [==============================] - 0s 12ms/step - loss: 9.8128 - mae: 9.8128\n",
            "Epoch 59/100\n",
            "2/2 [==============================] - 0s 9ms/step - loss: 13.2946 - mae: 13.2946\n",
            "Epoch 60/100\n",
            "2/2 [==============================] - 0s 10ms/step - loss: 10.8682 - mae: 10.8682\n",
            "Epoch 61/100\n",
            "2/2 [==============================] - 0s 11ms/step - loss: 13.4608 - mae: 13.4608\n",
            "Epoch 62/100\n",
            "2/2 [==============================] - 0s 10ms/step - loss: 17.4617 - mae: 17.4617\n",
            "Epoch 63/100\n",
            "2/2 [==============================] - 0s 11ms/step - loss: 9.1590 - mae: 9.1590\n",
            "Epoch 64/100\n",
            "2/2 [==============================] - 0s 9ms/step - loss: 18.3303 - mae: 18.3303\n",
            "Epoch 65/100\n",
            "2/2 [==============================] - 0s 9ms/step - loss: 10.1133 - mae: 10.1133\n",
            "Epoch 66/100\n",
            "2/2 [==============================] - 0s 8ms/step - loss: 24.1736 - mae: 24.1736\n",
            "Epoch 67/100\n",
            "2/2 [==============================] - 0s 9ms/step - loss: 10.8721 - mae: 10.8721\n",
            "Epoch 68/100\n",
            "2/2 [==============================] - 0s 22ms/step - loss: 10.7601 - mae: 10.7601\n",
            "Epoch 69/100\n",
            "2/2 [==============================] - 0s 9ms/step - loss: 23.1395 - mae: 23.1395\n",
            "Epoch 70/100\n",
            "2/2 [==============================] - 0s 8ms/step - loss: 8.8389 - mae: 8.8389\n",
            "Epoch 71/100\n",
            "2/2 [==============================] - 0s 8ms/step - loss: 16.0609 - mae: 16.0609\n",
            "Epoch 72/100\n",
            "2/2 [==============================] - 0s 12ms/step - loss: 7.7597 - mae: 7.7597\n",
            "Epoch 73/100\n",
            "2/2 [==============================] - 0s 8ms/step - loss: 10.1606 - mae: 10.1606\n",
            "Epoch 74/100\n",
            "2/2 [==============================] - 0s 7ms/step - loss: 28.3359 - mae: 28.3359\n",
            "Epoch 75/100\n",
            "2/2 [==============================] - 0s 8ms/step - loss: 10.0140 - mae: 10.0140\n",
            "Epoch 76/100\n",
            "2/2 [==============================] - 0s 8ms/step - loss: 12.9284 - mae: 12.9284\n",
            "Epoch 77/100\n",
            "2/2 [==============================] - 0s 8ms/step - loss: 17.8757 - mae: 17.8757\n",
            "Epoch 78/100\n",
            "2/2 [==============================] - 0s 8ms/step - loss: 8.9695 - mae: 8.9695\n",
            "Epoch 79/100\n",
            "2/2 [==============================] - 0s 12ms/step - loss: 28.6901 - mae: 28.6901\n",
            "Epoch 80/100\n",
            "2/2 [==============================] - 0s 23ms/step - loss: 31.0236 - mae: 31.0236\n",
            "Epoch 81/100\n",
            "2/2 [==============================] - 0s 12ms/step - loss: 13.4032 - mae: 13.4032\n",
            "Epoch 82/100\n",
            "2/2 [==============================] - 0s 9ms/step - loss: 14.3338 - mae: 14.3338\n",
            "Epoch 83/100\n",
            "2/2 [==============================] - 0s 9ms/step - loss: 18.8757 - mae: 18.8757\n",
            "Epoch 84/100\n",
            "2/2 [==============================] - 0s 10ms/step - loss: 9.4671 - mae: 9.4671\n",
            "Epoch 85/100\n",
            "2/2 [==============================] - 0s 9ms/step - loss: 25.2700 - mae: 25.2700\n",
            "Epoch 86/100\n",
            "2/2 [==============================] - 0s 9ms/step - loss: 16.3905 - mae: 16.3905\n",
            "Epoch 87/100\n",
            "2/2 [==============================] - 0s 9ms/step - loss: 11.4650 - mae: 11.4650\n",
            "Epoch 88/100\n",
            "2/2 [==============================] - 0s 8ms/step - loss: 26.9647 - mae: 26.9647\n",
            "Epoch 89/100\n",
            "2/2 [==============================] - 0s 15ms/step - loss: 9.7371 - mae: 9.7371\n",
            "Epoch 90/100\n",
            "2/2 [==============================] - 0s 19ms/step - loss: 19.0192 - mae: 19.0192\n",
            "Epoch 91/100\n",
            "2/2 [==============================] - 0s 9ms/step - loss: 10.5882 - mae: 10.5882\n",
            "Epoch 92/100\n",
            "2/2 [==============================] - 0s 19ms/step - loss: 18.2294 - mae: 18.2294\n",
            "Epoch 93/100\n",
            "2/2 [==============================] - 0s 9ms/step - loss: 6.8676 - mae: 6.8676\n",
            "Epoch 94/100\n",
            "2/2 [==============================] - 0s 23ms/step - loss: 13.0368 - mae: 13.0368\n",
            "Epoch 95/100\n",
            "2/2 [==============================] - 0s 11ms/step - loss: 18.3644 - mae: 18.3644\n",
            "Epoch 96/100\n",
            "2/2 [==============================] - 0s 15ms/step - loss: 10.3915 - mae: 10.3915\n",
            "Epoch 97/100\n",
            "2/2 [==============================] - 0s 14ms/step - loss: 14.1256 - mae: 14.1256\n",
            "Epoch 98/100\n",
            "2/2 [==============================] - 0s 9ms/step - loss: 9.6268 - mae: 9.6268\n",
            "Epoch 99/100\n",
            "2/2 [==============================] - 0s 12ms/step - loss: 11.3261 - mae: 11.3261\n",
            "Epoch 100/100\n",
            "2/2 [==============================] - 0s 10ms/step - loss: 29.1737 - mae: 29.1737\n"
          ]
        },
        {
          "output_type": "execute_result",
          "data": {
            "text/plain": [
              "<keras.callbacks.History at 0x7e3890477580>"
            ]
          },
          "metadata": {},
          "execution_count": 31
        }
      ],
      "source": [
        "# fit the model\n",
        "model.fit(x_train, y_train, epochs=100, verbose=1)"
      ]
    },
    {
      "cell_type": "code",
      "execution_count": 32,
      "metadata": {
        "colab": {
          "base_uri": "https://localhost:8080/"
        },
        "id": "oYYAqm7vOM4B",
        "outputId": "760f64cc-f0a4-4eec-ba37-ec8363bbb5af"
      },
      "outputs": [
        {
          "output_type": "stream",
          "name": "stdout",
          "text": [
            "Model: \"modal_1\"\n",
            "_________________________________________________________________\n",
            " Layer (type)                Output Shape              Param #   \n",
            "=================================================================\n",
            " input_layer (Dense)         (None, 10)                20        \n",
            "                                                                 \n",
            " output_layer (Dense)        (None, 1)                 11        \n",
            "                                                                 \n",
            "=================================================================\n",
            "Total params: 31\n",
            "Trainable params: 31\n",
            "Non-trainable params: 0\n",
            "_________________________________________________________________\n"
          ]
        }
      ],
      "source": [
        "# get a summary of our model\n",
        "model.summary()"
      ]
    },
    {
      "cell_type": "code",
      "execution_count": 33,
      "metadata": {
        "id": "-CRnQedqOM4D"
      },
      "outputs": [],
      "source": [
        "# from tensorflow.keras.utils import plot_model\n",
        "\n",
        "# plot_model(model=model, show_shapes=True)\n"
      ]
    },
    {
      "cell_type": "markdown",
      "metadata": {
        "id": "OZitPecQOM4E"
      },
      "source": [
        "### Visualizing our modals predictions"
      ]
    },
    {
      "cell_type": "code",
      "execution_count": 34,
      "metadata": {
        "colab": {
          "base_uri": "https://localhost:8080/"
        },
        "id": "yaS-JjZOOM4F",
        "outputId": "1399bdb0-cda4-495f-e356-9efcbdecb5e4"
      },
      "outputs": [
        {
          "output_type": "stream",
          "name": "stdout",
          "text": [
            "1/1 [==============================] - 0s 129ms/step\n"
          ]
        },
        {
          "output_type": "execute_result",
          "data": {
            "text/plain": [
              "array([[ 76.77674 ],\n",
              "       [ 81.78362 ],\n",
              "       [ 86.790504],\n",
              "       [ 91.797386],\n",
              "       [ 96.80427 ],\n",
              "       [101.81115 ],\n",
              "       [106.81803 ],\n",
              "       [111.82491 ],\n",
              "       [116.831795],\n",
              "       [121.83868 ]], dtype=float32)"
            ]
          },
          "metadata": {},
          "execution_count": 34
        }
      ],
      "source": [
        "# Make some predictions\n",
        "y_pred = model.predict(x_test)\n",
        "y_pred"
      ]
    },
    {
      "cell_type": "code",
      "execution_count": 35,
      "metadata": {
        "colab": {
          "base_uri": "https://localhost:8080/"
        },
        "id": "deXdjFSAOM4G",
        "outputId": "19934cac-ef55-466c-fd23-64f2f7a6459d"
      },
      "outputs": [
        {
          "output_type": "execute_result",
          "data": {
            "text/plain": [
              "<tf.Tensor: shape=(10,), dtype=int32, numpy=array([ 70,  74,  78,  82,  86,  90,  94,  98, 102, 106], dtype=int32)>"
            ]
          },
          "metadata": {},
          "execution_count": 35
        }
      ],
      "source": [
        "y_test"
      ]
    },
    {
      "cell_type": "code",
      "execution_count": 36,
      "metadata": {
        "id": "0ZEtmij3OM4H"
      },
      "outputs": [],
      "source": [
        "# lets create a plotting function\n",
        "def plot_predictions(train_data=x_train,\n",
        "                     train_labels=y_train,\n",
        "                     test_data=x_test,\n",
        "                     test_labels=y_test,\n",
        "                     predictions=y_pred):\n",
        "    \"\"\"_summary_\n",
        "    Plots training data, test data and compares predictions to ground truth\n",
        "\n",
        "    Args:\n",
        "        train_data (_type_, optional): _description_. Defaults to x_train.\n",
        "        train_labels (_type_, optional): _description_. Defaults to y_train.\n",
        "        test_data (_type_, optional): _description_. Defaults to x_test.\n",
        "        test_labels (_type_, optional): _description_. Defaults to y_test.\n",
        "        predictions (_type_, optional): _description_. Defaults to y_pred.\n",
        "    \"\"\"\n",
        "\n",
        "    plt.figure(figsize=(10, 7))\n",
        "    # Plot training data in blue\n",
        "    plt.scatter(train_data, train_labels, c=\"b\", label=\"Training Data\")\n",
        "    # Plot testing data in green\n",
        "    plt.scatter(test_data, test_labels, c=\"g\", label=\"Testing Data\")\n",
        "    # Plot model's predictions in red\n",
        "    plt.scatter(test_data, predictions, c=\"r\", label=\"Predictions\")\n",
        "    # show the legend\n",
        "    plt.legend()"
      ]
    },
    {
      "cell_type": "code",
      "execution_count": 37,
      "metadata": {
        "colab": {
          "base_uri": "https://localhost:8080/",
          "height": 569
        },
        "id": "BUjWOMAHOM4I",
        "outputId": "98435894-4ee7-4e85-899a-c501dd476165"
      },
      "outputs": [
        {
          "output_type": "display_data",
          "data": {
            "text/plain": [
              "<Figure size 1000x700 with 1 Axes>"
            ],
            "image/png": "[encoded data removed]"
          },
          "metadata": {}
        }
      ],
      "source": [
        "plot_predictions(train_data=x_train,\n",
        "                 train_labels=y_train,\n",
        "                 test_data=x_test,\n",
        "                 test_labels=y_test,\n",
        "                 predictions=y_pred)"
      ]
    },
    {
      "cell_type": "markdown",
      "metadata": {
        "id": "VFNEFHNaOM4I"
      },
      "source": [
        "## Evaluating our model's predictions with regression evaluation metrics\n",
        "\n",
        "Alongisde visualizations, evaulation metrics are your alternative best option for evaluating your model.\n",
        "\n",
        "Depending on the problem you're working on, different models have different evaluation metrics.\n",
        "\n",
        "Two of the main metrics used for regression problems are:\n",
        "* **Mean absolute error (MAE)** - the mean difference between each of the predictions.\n",
        "* **Mean squared error (MSE)** - the squared mean difference between of the predictions (use if larger errors are more detrimental than smaller errors).\n",
        "\n",
        "The lower each of these values, the better."
      ]
    },
    {
      "cell_type": "code",
      "execution_count": 38,
      "metadata": {
        "colab": {
          "base_uri": "https://localhost:8080/"
        },
        "id": "s6iElVJJOM4J",
        "outputId": "03b08e41-536f-4f18-da3d-50924568d4b9"
      },
      "outputs": [
        {
          "output_type": "stream",
          "name": "stdout",
          "text": [
            "1/1 [==============================] - 0s 268ms/step - loss: 11.3077 - mae: 11.3077\n"
          ]
        },
        {
          "output_type": "execute_result",
          "data": {
            "text/plain": [
              "[11.307706832885742, 11.307706832885742]"
            ]
          },
          "metadata": {},
          "execution_count": 38
        }
      ],
      "source": [
        "# Evaluate the modal on the test set\n",
        "model.evaluate(x_test, y_test)"
      ]
    },
    {
      "cell_type": "code",
      "execution_count": 39,
      "metadata": {
        "colab": {
          "base_uri": "https://localhost:8080/"
        },
        "id": "jBUMidjBOM4J",
        "outputId": "ce6e0152-cff6-4823-ff77-c63f9bef996c"
      },
      "outputs": [
        {
          "output_type": "execute_result",
          "data": {
            "text/plain": [
              "<tf.Tensor: shape=(10,), dtype=float32, numpy=\n",
              "array([13.133955, 10.886551, 10.      , 10.359477, 11.921707, 14.686689,\n",
              "       18.818031, 23.824913, 28.831793, 33.838676], dtype=float32)>"
            ]
          },
          "metadata": {},
          "execution_count": 39
        }
      ],
      "source": [
        "# Calculate the mean absolute error\n",
        "mae = tf.metrics.mean_absolute_error(y_true=y_test, y_pred=tf.constant(y_pred))\n",
        "mae"
      ]
    },
    {
      "cell_type": "code",
      "execution_count": 40,
      "metadata": {
        "colab": {
          "base_uri": "https://localhost:8080/"
        },
        "id": "PzxIDdDPOM4K",
        "outputId": "f6adfe71-5f23-44c8-c5e9-1081143be218"
      },
      "outputs": [
        {
          "output_type": "execute_result",
          "data": {
            "text/plain": [
              "array([[ 76.77674 ],\n",
              "       [ 81.78362 ],\n",
              "       [ 86.790504],\n",
              "       [ 91.797386],\n",
              "       [ 96.80427 ],\n",
              "       [101.81115 ],\n",
              "       [106.81803 ],\n",
              "       [111.82491 ],\n",
              "       [116.831795],\n",
              "       [121.83868 ]], dtype=float32)"
            ]
          },
          "metadata": {},
          "execution_count": 40
        }
      ],
      "source": [
        "y_pred"
      ]
    },
    {
      "cell_type": "code",
      "execution_count": 41,
      "metadata": {
        "colab": {
          "base_uri": "https://localhost:8080/"
        },
        "id": "QtJMsZ6KOM4K",
        "outputId": "5646a4d3-48c8-4576-d86f-ce755dc145fa"
      },
      "outputs": [
        {
          "output_type": "execute_result",
          "data": {
            "text/plain": [
              "<tf.Tensor: shape=(10,), dtype=int32, numpy=array([ 70,  74,  78,  82,  86,  90,  94,  98, 102, 106], dtype=int32)>"
            ]
          },
          "metadata": {},
          "execution_count": 41
        }
      ],
      "source": [
        "y_test"
      ]
    },
    {
      "cell_type": "code",
      "execution_count": 42,
      "metadata": {
        "colab": {
          "base_uri": "https://localhost:8080/"
        },
        "id": "klt_iG74OM4L",
        "outputId": "8b59ea9f-168d-4a39-81dd-046161ede933"
      },
      "outputs": [
        {
          "output_type": "execute_result",
          "data": {
            "text/plain": [
              "<tf.Tensor: shape=(10,), dtype=float32, numpy=\n",
              "array([ 76.77674 ,  81.78362 ,  86.790504,  91.797386,  96.80427 ,\n",
              "       101.81115 , 106.81803 , 111.82491 , 116.831795, 121.83868 ],\n",
              "      dtype=float32)>"
            ]
          },
          "metadata": {},
          "execution_count": 42
        }
      ],
      "source": [
        "tf.squeeze(y_pred)"
      ]
    },
    {
      "cell_type": "code",
      "execution_count": 43,
      "metadata": {
        "colab": {
          "base_uri": "https://localhost:8080/"
        },
        "id": "Qq4p2rNWOM4L",
        "outputId": "93b41a18-51ff-42af-eab6-31babac95524"
      },
      "outputs": [
        {
          "output_type": "execute_result",
          "data": {
            "text/plain": [
              "<tf.Tensor: shape=(), dtype=float32, numpy=11.307709>"
            ]
          },
          "metadata": {},
          "execution_count": 43
        }
      ],
      "source": [
        "# Calculate the mean absolute error\n",
        "mae = tf.metrics.mean_absolute_error(y_true=y_test, y_pred=tf.squeeze(y_pred))\n",
        "mae"
      ]
    },
    {
      "cell_type": "code",
      "execution_count": 44,
      "metadata": {
        "colab": {
          "base_uri": "https://localhost:8080/"
        },
        "id": "pSKKLdSlOM4M",
        "outputId": "d2e300ee-f047-4793-b89f-d44562692ea4"
      },
      "outputs": [
        {
          "output_type": "execute_result",
          "data": {
            "text/plain": [
              "<tf.Tensor: shape=(), dtype=float32, numpy=136.22823>"
            ]
          },
          "metadata": {},
          "execution_count": 44
        }
      ],
      "source": [
        "# Calculate the mean squared error\n",
        "mse = tf.metrics.mean_squared_error(y_true=y_test, y_pred=tf.squeeze(y_pred))\n",
        "mse"
      ]
    },
    {
      "cell_type": "code",
      "execution_count": 45,
      "metadata": {
        "id": "_t6F1od8OM4N"
      },
      "outputs": [],
      "source": [
        "# Make some functions to reuse MAE and MSE\n",
        "def mae(y_true, y_pred):\n",
        "    return tf.metrics.mean_absolute_error(y_true=y_true, y_pred=tf.squeeze(y_pred))\n",
        "\n",
        "def mse(y_true, y_pred):\n",
        "    return tf.metrics.mean_squared_error(y_true=y_true, y_pred=tf.squeeze(y_pred))\n",
        "\n"
      ]
    },
    {
      "cell_type": "markdown",
      "metadata": {
        "id": "RpuBHAKJOM4N"
      },
      "source": [
        "## Running experiments to improve our model\n",
        "\n",
        "After seeing the evaluation metrics and the predictions your model makes, it's likely you'll want to improve it.\n",
        "\n",
        "Again, there are many different ways you can do this, but 3 of the main ones are:\n",
        "1. **Get more data** - get more examples for your model to train on (more opportunities to learn patterns).\n",
        "2. **Make your model larger (use a more complex model)** - this might come in the form of more layers or more hidden units in each layer.\n",
        "3. **Train for longer** - give your model more of a chance to find the patterns in the data.\n",
        "\n",
        "Since we created our dataset, we could easily make more data but this isn't always the case when you're working with real-world datasets.\n",
        "\n",
        "So let's take a look at how we can improve our model using 2 and 3.\n",
        "\n",
        "To do so, we'll build 3 models and compare their results:\n",
        "1. `model_1` - same as original model, 1 layer, trained for 100 epochs.\n",
        "2. `model_2` - 2 layers, trained for 100 epochs.\n",
        "3. `model_3` - 2 layers, trained for 500 epochs.\n",
        "\n",
        "**Build `model_1`**"
      ]
    },
    {
      "cell_type": "code",
      "execution_count": 46,
      "metadata": {
        "colab": {
          "base_uri": "https://localhost:8080/"
        },
        "id": "9pUwtQLnOM4O",
        "outputId": "d8346f7c-b446-4e7f-dbc0-61f2d45d4ed5"
      },
      "outputs": [
        {
          "output_type": "stream",
          "name": "stdout",
          "text": [
            "Epoch 1/100\n",
            "2/2 [==============================] - 1s 16ms/step - loss: 99.4754 - mae: 99.4754\n",
            "Epoch 2/100\n",
            "2/2 [==============================] - 0s 10ms/step - loss: 64.0199 - mae: 64.0199\n",
            "Epoch 3/100\n",
            "2/2 [==============================] - 0s 24ms/step - loss: 26.8507 - mae: 26.8507\n",
            "Epoch 4/100\n",
            "2/2 [==============================] - 0s 14ms/step - loss: 11.1746 - mae: 11.1746\n",
            "Epoch 5/100\n",
            "2/2 [==============================] - 0s 24ms/step - loss: 12.3732 - mae: 12.3732\n",
            "Epoch 6/100\n",
            "2/2 [==============================] - 0s 31ms/step - loss: 9.5771 - mae: 9.5771\n",
            "Epoch 7/100\n",
            "2/2 [==============================] - 0s 19ms/step - loss: 8.6971 - mae: 8.6971\n",
            "Epoch 8/100\n",
            "2/2 [==============================] - 0s 18ms/step - loss: 9.0826 - mae: 9.0826\n",
            "Epoch 9/100\n",
            "2/2 [==============================] - 0s 16ms/step - loss: 19.0146 - mae: 19.0146\n",
            "Epoch 10/100\n",
            "2/2 [==============================] - 0s 23ms/step - loss: 10.2811 - mae: 10.2811\n",
            "Epoch 11/100\n",
            "2/2 [==============================] - 0s 27ms/step - loss: 8.4806 - mae: 8.4806\n",
            "Epoch 12/100\n",
            "2/2 [==============================] - 0s 17ms/step - loss: 10.8032 - mae: 10.8032\n",
            "Epoch 13/100\n",
            "2/2 [==============================] - 0s 25ms/step - loss: 9.8746 - mae: 9.8746\n",
            "Epoch 14/100\n",
            "2/2 [==============================] - 0s 21ms/step - loss: 12.0210 - mae: 12.0210\n",
            "Epoch 15/100\n",
            "2/2 [==============================] - 0s 20ms/step - loss: 12.5347 - mae: 12.5347\n",
            "Epoch 16/100\n",
            "2/2 [==============================] - 0s 7ms/step - loss: 7.9314 - mae: 7.9314\n",
            "Epoch 17/100\n",
            "2/2 [==============================] - 0s 24ms/step - loss: 12.8317 - mae: 12.8317\n",
            "Epoch 18/100\n",
            "2/2 [==============================] - 0s 14ms/step - loss: 10.4526 - mae: 10.4526\n",
            "Epoch 19/100\n",
            "2/2 [==============================] - 0s 24ms/step - loss: 19.3165 - mae: 19.3165\n",
            "Epoch 20/100\n",
            "2/2 [==============================] - 0s 14ms/step - loss: 15.9801 - mae: 15.9801\n",
            "Epoch 21/100\n",
            "2/2 [==============================] - 0s 10ms/step - loss: 11.9029 - mae: 11.9029\n",
            "Epoch 22/100\n",
            "2/2 [==============================] - 0s 10ms/step - loss: 8.5132 - mae: 8.5132\n",
            "Epoch 23/100\n",
            "2/2 [==============================] - 0s 7ms/step - loss: 9.8213 - mae: 9.8213\n",
            "Epoch 24/100\n",
            "2/2 [==============================] - 0s 11ms/step - loss: 10.8698 - mae: 10.8698\n",
            "Epoch 25/100\n",
            "2/2 [==============================] - 0s 13ms/step - loss: 9.1414 - mae: 9.1414\n",
            "Epoch 26/100\n",
            "2/2 [==============================] - 0s 32ms/step - loss: 13.0984 - mae: 13.0984\n",
            "Epoch 27/100\n",
            "2/2 [==============================] - 0s 34ms/step - loss: 10.4324 - mae: 10.4324\n",
            "Epoch 28/100\n",
            "2/2 [==============================] - 0s 49ms/step - loss: 13.4408 - mae: 13.4408\n",
            "Epoch 29/100\n",
            "2/2 [==============================] - 0s 21ms/step - loss: 9.6397 - mae: 9.6397\n",
            "Epoch 30/100\n",
            "2/2 [==============================] - 0s 22ms/step - loss: 17.2614 - mae: 17.2614\n",
            "Epoch 31/100\n",
            "2/2 [==============================] - 0s 25ms/step - loss: 22.8262 - mae: 22.8262\n",
            "Epoch 32/100\n",
            "2/2 [==============================] - 0s 12ms/step - loss: 7.9415 - mae: 7.9415\n",
            "Epoch 33/100\n",
            "2/2 [==============================] - 0s 14ms/step - loss: 14.1878 - mae: 14.1878\n",
            "Epoch 34/100\n",
            "2/2 [==============================] - 0s 21ms/step - loss: 12.4432 - mae: 12.4432\n",
            "Epoch 35/100\n",
            "2/2 [==============================] - 0s 28ms/step - loss: 8.2721 - mae: 8.2721\n",
            "Epoch 36/100\n",
            "2/2 [==============================] - 0s 32ms/step - loss: 10.4833 - mae: 10.4833\n",
            "Epoch 37/100\n",
            "2/2 [==============================] - 0s 17ms/step - loss: 10.1330 - mae: 10.1330\n",
            "Epoch 38/100\n",
            "2/2 [==============================] - 0s 15ms/step - loss: 11.3126 - mae: 11.3126\n",
            "Epoch 39/100\n",
            "2/2 [==============================] - 0s 19ms/step - loss: 14.8115 - mae: 14.8115\n",
            "Epoch 40/100\n",
            "2/2 [==============================] - 0s 51ms/step - loss: 12.9414 - mae: 12.9414\n",
            "Epoch 41/100\n",
            "2/2 [==============================] - 0s 31ms/step - loss: 9.3370 - mae: 9.3370\n",
            "Epoch 42/100\n",
            "2/2 [==============================] - 0s 16ms/step - loss: 11.0008 - mae: 11.0008\n",
            "Epoch 43/100\n",
            "2/2 [==============================] - 0s 25ms/step - loss: 8.3523 - mae: 8.3523\n",
            "Epoch 44/100\n",
            "2/2 [==============================] - 0s 25ms/step - loss: 13.0182 - mae: 13.0182\n",
            "Epoch 45/100\n",
            "2/2 [==============================] - 0s 16ms/step - loss: 13.7369 - mae: 13.7369\n",
            "Epoch 46/100\n",
            "2/2 [==============================] - 0s 17ms/step - loss: 8.4389 - mae: 8.4389\n",
            "Epoch 47/100\n",
            "2/2 [==============================] - 0s 9ms/step - loss: 9.1939 - mae: 9.1939\n",
            "Epoch 48/100\n",
            "2/2 [==============================] - 0s 20ms/step - loss: 10.6990 - mae: 10.6990\n",
            "Epoch 49/100\n",
            "2/2 [==============================] - 0s 17ms/step - loss: 7.8054 - mae: 7.8054\n",
            "Epoch 50/100\n",
            "2/2 [==============================] - 0s 24ms/step - loss: 9.6149 - mae: 9.6149\n",
            "Epoch 51/100\n",
            "2/2 [==============================] - 0s 16ms/step - loss: 9.1937 - mae: 9.1937\n",
            "Epoch 52/100\n",
            "2/2 [==============================] - 0s 10ms/step - loss: 16.4798 - mae: 16.4798\n",
            "Epoch 53/100\n",
            "2/2 [==============================] - 0s 18ms/step - loss: 14.1004 - mae: 14.1004\n",
            "Epoch 54/100\n",
            "2/2 [==============================] - 0s 19ms/step - loss: 21.0161 - mae: 21.0161\n",
            "Epoch 55/100\n",
            "2/2 [==============================] - 0s 20ms/step - loss: 16.5073 - mae: 16.5073\n",
            "Epoch 56/100\n",
            "2/2 [==============================] - 0s 16ms/step - loss: 9.8830 - mae: 9.8830\n",
            "Epoch 57/100\n",
            "2/2 [==============================] - 0s 15ms/step - loss: 9.6838 - mae: 9.6838\n",
            "Epoch 58/100\n",
            "2/2 [==============================] - 0s 14ms/step - loss: 9.0033 - mae: 9.0033\n",
            "Epoch 59/100\n",
            "2/2 [==============================] - 0s 17ms/step - loss: 10.2132 - mae: 10.2132\n",
            "Epoch 60/100\n",
            "2/2 [==============================] - 0s 21ms/step - loss: 8.4409 - mae: 8.4409\n",
            "Epoch 61/100\n",
            "2/2 [==============================] - 0s 25ms/step - loss: 9.2770 - mae: 9.2770\n",
            "Epoch 62/100\n",
            "2/2 [==============================] - 0s 16ms/step - loss: 7.0992 - mae: 7.0992\n",
            "Epoch 63/100\n",
            "2/2 [==============================] - 0s 23ms/step - loss: 8.6802 - mae: 8.6802\n",
            "Epoch 64/100\n",
            "2/2 [==============================] - 0s 23ms/step - loss: 9.2571 - mae: 9.2571\n",
            "Epoch 65/100\n",
            "2/2 [==============================] - 0s 17ms/step - loss: 10.5235 - mae: 10.5235\n",
            "Epoch 66/100\n",
            "2/2 [==============================] - 0s 19ms/step - loss: 15.6426 - mae: 15.6426\n",
            "Epoch 67/100\n",
            "2/2 [==============================] - 0s 14ms/step - loss: 10.0462 - mae: 10.0462\n",
            "Epoch 68/100\n",
            "2/2 [==============================] - 0s 30ms/step - loss: 8.7551 - mae: 8.7551\n",
            "Epoch 69/100\n",
            "2/2 [==============================] - 0s 27ms/step - loss: 13.5220 - mae: 13.5220\n",
            "Epoch 70/100\n",
            "2/2 [==============================] - 0s 19ms/step - loss: 7.5013 - mae: 7.5013\n",
            "Epoch 71/100\n",
            "2/2 [==============================] - 0s 26ms/step - loss: 12.2504 - mae: 12.2504\n",
            "Epoch 72/100\n",
            "2/2 [==============================] - 0s 10ms/step - loss: 8.5674 - mae: 8.5674\n",
            "Epoch 73/100\n",
            "2/2 [==============================] - 0s 14ms/step - loss: 7.0712 - mae: 7.0712\n",
            "Epoch 74/100\n",
            "2/2 [==============================] - 0s 21ms/step - loss: 9.9666 - mae: 9.9666\n",
            "Epoch 75/100\n",
            "2/2 [==============================] - 0s 29ms/step - loss: 9.9624 - mae: 9.9624\n",
            "Epoch 76/100\n",
            "2/2 [==============================] - 0s 14ms/step - loss: 10.1301 - mae: 10.1301\n",
            "Epoch 77/100\n",
            "2/2 [==============================] - 0s 10ms/step - loss: 12.9676 - mae: 12.9676\n",
            "Epoch 78/100\n",
            "2/2 [==============================] - 0s 15ms/step - loss: 11.1799 - mae: 11.1799\n",
            "Epoch 79/100\n",
            "2/2 [==============================] - 0s 21ms/step - loss: 14.7326 - mae: 14.7326\n",
            "Epoch 80/100\n",
            "2/2 [==============================] - 0s 10ms/step - loss: 8.9506 - mae: 8.9506\n",
            "Epoch 81/100\n",
            "2/2 [==============================] - 0s 19ms/step - loss: 10.7920 - mae: 10.7920\n",
            "Epoch 82/100\n",
            "2/2 [==============================] - 0s 37ms/step - loss: 8.4248 - mae: 8.4248\n",
            "Epoch 83/100\n",
            "2/2 [==============================] - 0s 16ms/step - loss: 9.2484 - mae: 9.2484\n",
            "Epoch 84/100\n",
            "2/2 [==============================] - 0s 31ms/step - loss: 8.9709 - mae: 8.9709\n",
            "Epoch 85/100\n",
            "2/2 [==============================] - 0s 16ms/step - loss: 13.2020 - mae: 13.2020\n",
            "Epoch 86/100\n",
            "2/2 [==============================] - 0s 11ms/step - loss: 13.7318 - mae: 13.7318\n",
            "Epoch 87/100\n",
            "2/2 [==============================] - 0s 13ms/step - loss: 13.2167 - mae: 13.2167\n",
            "Epoch 88/100\n",
            "2/2 [==============================] - 0s 11ms/step - loss: 11.5460 - mae: 11.5460\n",
            "Epoch 89/100\n",
            "2/2 [==============================] - 0s 17ms/step - loss: 7.8361 - mae: 7.8361\n",
            "Epoch 90/100\n",
            "2/2 [==============================] - 0s 8ms/step - loss: 10.9634 - mae: 10.9634\n",
            "Epoch 91/100\n",
            "2/2 [==============================] - 0s 14ms/step - loss: 6.7810 - mae: 6.7810\n",
            "Epoch 92/100\n",
            "2/2 [==============================] - 0s 13ms/step - loss: 10.1563 - mae: 10.1563\n",
            "Epoch 93/100\n",
            "2/2 [==============================] - 0s 14ms/step - loss: 7.6331 - mae: 7.6331\n",
            "Epoch 94/100\n",
            "2/2 [==============================] - 0s 25ms/step - loss: 9.2666 - mae: 9.2666\n",
            "Epoch 95/100\n",
            "2/2 [==============================] - 0s 21ms/step - loss: 10.8535 - mae: 10.8535\n",
            "Epoch 96/100\n",
            "2/2 [==============================] - 0s 10ms/step - loss: 10.3254 - mae: 10.3254\n",
            "Epoch 97/100\n",
            "2/2 [==============================] - 0s 12ms/step - loss: 7.7037 - mae: 7.7037\n",
            "Epoch 98/100\n",
            "2/2 [==============================] - 0s 24ms/step - loss: 8.6408 - mae: 8.6408\n",
            "Epoch 99/100\n",
            "2/2 [==============================] - 0s 17ms/step - loss: 9.4196 - mae: 9.4196\n",
            "Epoch 100/100\n",
            "2/2 [==============================] - 0s 17ms/step - loss: 8.8657 - mae: 8.8657\n"
          ]
        },
        {
          "output_type": "execute_result",
          "data": {
            "text/plain": [
              "<keras.callbacks.History at 0x7e389253faf0>"
            ]
          },
          "metadata": {},
          "execution_count": 46
        }
      ],
      "source": [
        "# set random seed\n",
        "tf.random.set_seed(42)\n",
        "\n",
        "# 1. Create the model\n",
        "model_1 = tf.keras.Sequential([\n",
        "    tf.keras.layers.Dense(1)\n",
        "])\n",
        "\n",
        "# 2. Compile the model\n",
        "model_1.compile(loss=tf.keras.losses.mae, optimizer=tf.keras.optimizers.SGD(), metrics=[\"mae\"])\n",
        "\n",
        "# 3. Fit the model\n",
        "model_1.fit(tf.expand_dims(x_train, axis=1), y_train, epochs=100)"
      ]
    },
    {
      "cell_type": "code",
      "execution_count": 47,
      "metadata": {
        "colab": {
          "base_uri": "https://localhost:8080/",
          "height": 623
        },
        "id": "R7peBV0xOM4P",
        "outputId": "f12b9cd3-8c5d-4bee-ebcb-98424bda917c"
      },
      "outputs": [
        {
          "output_type": "stream",
          "name": "stderr",
          "text": [
            "WARNING:tensorflow:5 out of the last 5 calls to <function Model.make_predict_function.<locals>.predict_function at 0x7e38925aed40> triggered tf.function retracing. Tracing is expensive and the excessive number of tracings could be due to (1) creating @tf.function repeatedly in a loop, (2) passing tensors with different shapes, (3) passing Python objects instead of tensors. For (1), please define your @tf.function outside of the loop. For (2), @tf.function has reduce_retracing=True option that can avoid unnecessary retracing. For (3), please refer to https://www.tensorflow.org/guide/function#controlling_retracing and https://www.tensorflow.org/api_docs/python/tf/function for  more details.\n"
          ]
        },
        {
          "output_type": "stream",
          "name": "stdout",
          "text": [
            "1/1 [==============================] - 0s 266ms/step\n"
          ]
        },
        {
          "output_type": "display_data",
          "data": {
            "text/plain": [
              "<Figure size 1000x700 with 1 Axes>"
            ],
            "image/png": "[encoded data removed]"
          },
          "metadata": {}
        }
      ],
      "source": [
        "# Make and plot predictions for model_1\n",
        "y_pred_1 = model_1.predict(x_test)\n",
        "plot_predictions(predictions=y_pred_1)"
      ]
    },
    {
      "cell_type": "code",
      "execution_count": 48,
      "metadata": {
        "colab": {
          "base_uri": "https://localhost:8080/"
        },
        "id": "nyQBy_1VOM4P",
        "outputId": "f71e953c-c483-47a7-bddb-2ea9e650d8b4"
      },
      "outputs": [
        {
          "output_type": "execute_result",
          "data": {
            "text/plain": [
              "(<tf.Tensor: shape=(), dtype=float32, numpy=8.522572>,\n",
              " <tf.Tensor: shape=(), dtype=float32, numpy=79.1001>)"
            ]
          },
          "metadata": {},
          "execution_count": 48
        }
      ],
      "source": [
        "# Calculate model_1 evaluation metrics\n",
        "mae_1 = mae(y_test, y_pred_1)\n",
        "mse_1 = mse(y_test, y_pred_1)\n",
        "mae_1, mse_1"
      ]
    },
    {
      "cell_type": "markdown",
      "metadata": {
        "id": "4kMTz3msOM4Q"
      },
      "source": [
        "**Build `model_2`**"
      ]
    },
    {
      "cell_type": "code",
      "execution_count": 49,
      "metadata": {
        "colab": {
          "base_uri": "https://localhost:8080/"
        },
        "id": "ZkIpKf_eOM4Q",
        "outputId": "77a6ea92-354a-473d-f32f-b41b39c6b743"
      },
      "outputs": [
        {
          "output_type": "stream",
          "name": "stdout",
          "text": [
            "Epoch 1/100\n",
            "2/2 [==============================] - 2s 24ms/step - loss: 35.7892 - mse: 1809.8453\n",
            "Epoch 2/100\n",
            "2/2 [==============================] - 0s 11ms/step - loss: 28.5358 - mse: 1054.1033\n",
            "Epoch 3/100\n",
            "2/2 [==============================] - 0s 8ms/step - loss: 32.5521 - mse: 1623.5319\n",
            "Epoch 4/100\n",
            "2/2 [==============================] - 0s 14ms/step - loss: 13.5552 - mse: 258.7445\n",
            "Epoch 5/100\n",
            "2/2 [==============================] - 0s 30ms/step - loss: 18.4173 - mse: 459.8428\n",
            "Epoch 6/100\n",
            "2/2 [==============================] - 0s 9ms/step - loss: 9.2925 - mse: 128.8795\n",
            "Epoch 7/100\n",
            "2/2 [==============================] - 0s 11ms/step - loss: 10.3118 - mse: 141.4149\n",
            "Epoch 8/100\n",
            "2/2 [==============================] - 0s 14ms/step - loss: 11.2543 - mse: 179.9309\n",
            "Epoch 9/100\n",
            "2/2 [==============================] - 0s 11ms/step - loss: 42.3368 - mse: 2866.9319\n",
            "Epoch 10/100\n",
            "2/2 [==============================] - 0s 12ms/step - loss: 29.4928 - mse: 1231.3915\n",
            "Epoch 11/100\n",
            "2/2 [==============================] - 0s 29ms/step - loss: 7.7130 - mse: 83.6048\n",
            "Epoch 12/100\n",
            "2/2 [==============================] - 0s 34ms/step - loss: 28.5842 - mse: 1118.2561\n",
            "Epoch 13/100\n",
            "2/2 [==============================] - 0s 12ms/step - loss: 11.5076 - mse: 145.3171\n",
            "Epoch 14/100\n",
            "2/2 [==============================] - 0s 9ms/step - loss: 30.2985 - mse: 1471.2542\n",
            "Epoch 15/100\n",
            "2/2 [==============================] - 0s 16ms/step - loss: 20.0502 - mse: 564.0243\n",
            "Epoch 16/100\n",
            "2/2 [==============================] - 0s 13ms/step - loss: 9.9267 - mse: 125.1442\n",
            "Epoch 17/100\n",
            "2/2 [==============================] - 0s 20ms/step - loss: 17.8770 - mse: 424.2924\n",
            "Epoch 18/100\n",
            "2/2 [==============================] - 0s 9ms/step - loss: 14.3567 - mse: 327.1248\n",
            "Epoch 19/100\n",
            "2/2 [==============================] - 0s 17ms/step - loss: 14.4652 - mse: 329.5771\n",
            "Epoch 20/100\n",
            "2/2 [==============================] - 0s 16ms/step - loss: 10.4728 - mse: 148.4181\n",
            "Epoch 21/100\n",
            "2/2 [==============================] - 0s 51ms/step - loss: 15.2423 - mse: 315.4132\n",
            "Epoch 22/100\n",
            "2/2 [==============================] - 0s 20ms/step - loss: 15.5871 - mse: 335.1056\n",
            "Epoch 23/100\n",
            "2/2 [==============================] - 0s 27ms/step - loss: 9.2300 - mse: 118.6038\n",
            "Epoch 24/100\n",
            "2/2 [==============================] - 0s 11ms/step - loss: 17.2320 - mse: 406.5445\n",
            "Epoch 25/100\n",
            "2/2 [==============================] - 0s 11ms/step - loss: 15.9139 - mse: 332.5438\n",
            "Epoch 26/100\n",
            "2/2 [==============================] - 0s 10ms/step - loss: 20.8749 - mse: 646.6469\n",
            "Epoch 27/100\n",
            "2/2 [==============================] - 0s 10ms/step - loss: 26.0864 - mse: 1062.9402\n",
            "Epoch 28/100\n",
            "2/2 [==============================] - 0s 9ms/step - loss: 18.5678 - mse: 545.9196\n",
            "Epoch 29/100\n",
            "2/2 [==============================] - 0s 16ms/step - loss: 9.2418 - mse: 97.0421\n",
            "Epoch 30/100\n",
            "2/2 [==============================] - 0s 12ms/step - loss: 29.1949 - mse: 1525.8829\n",
            "Epoch 31/100\n",
            "2/2 [==============================] - 0s 10ms/step - loss: 52.8892 - mse: 5003.7554\n",
            "Epoch 32/100\n",
            "2/2 [==============================] - 0s 11ms/step - loss: 11.9657 - mse: 209.8231\n",
            "Epoch 33/100\n",
            "2/2 [==============================] - 0s 21ms/step - loss: 15.5903 - mse: 335.2398\n",
            "Epoch 34/100\n",
            "2/2 [==============================] - 0s 12ms/step - loss: 12.6603 - mse: 212.7589\n",
            "Epoch 35/100\n",
            "2/2 [==============================] - 0s 32ms/step - loss: 9.2243 - mse: 92.4544\n",
            "Epoch 36/100\n",
            "2/2 [==============================] - 0s 16ms/step - loss: 16.5992 - mse: 401.0107\n",
            "Epoch 37/100\n",
            "2/2 [==============================] - 0s 14ms/step - loss: 11.0494 - mse: 192.2932\n",
            "Epoch 38/100\n",
            "2/2 [==============================] - 0s 18ms/step - loss: 18.1755 - mse: 434.5331\n",
            "Epoch 39/100\n",
            "2/2 [==============================] - 0s 11ms/step - loss: 19.1114 - mse: 530.6534\n",
            "Epoch 40/100\n",
            "2/2 [==============================] - 0s 12ms/step - loss: 20.4506 - mse: 611.1649\n",
            "Epoch 41/100\n",
            "2/2 [==============================] - 0s 14ms/step - loss: 14.8835 - mse: 278.3110\n",
            "Epoch 42/100\n",
            "2/2 [==============================] - 0s 12ms/step - loss: 12.2613 - mse: 185.5976\n",
            "Epoch 43/100\n",
            "2/2 [==============================] - 0s 19ms/step - loss: 10.7215 - mse: 166.2388\n",
            "Epoch 44/100\n",
            "2/2 [==============================] - 0s 13ms/step - loss: 22.9853 - mse: 827.2658\n",
            "Epoch 45/100\n",
            "2/2 [==============================] - 0s 25ms/step - loss: 10.3753 - mse: 128.7916\n",
            "Epoch 46/100\n",
            "2/2 [==============================] - 0s 19ms/step - loss: 11.7713 - mse: 180.9812\n",
            "Epoch 47/100\n",
            "2/2 [==============================] - 0s 12ms/step - loss: 9.6479 - mse: 153.7517\n",
            "Epoch 48/100\n",
            "2/2 [==============================] - 0s 32ms/step - loss: 17.2440 - mse: 403.3961\n",
            "Epoch 49/100\n",
            "2/2 [==============================] - 0s 20ms/step - loss: 9.5628 - mse: 99.6167\n",
            "Epoch 50/100\n",
            "2/2 [==============================] - 0s 16ms/step - loss: 13.8034 - mse: 259.6059\n",
            "Epoch 51/100\n",
            "2/2 [==============================] - 0s 16ms/step - loss: 11.5886 - mse: 154.5520\n",
            "Epoch 52/100\n",
            "2/2 [==============================] - 0s 13ms/step - loss: 30.5306 - mse: 1610.3501\n",
            "Epoch 53/100\n",
            "2/2 [==============================] - 0s 10ms/step - loss: 14.3424 - mse: 301.9792\n",
            "Epoch 54/100\n",
            "2/2 [==============================] - 0s 16ms/step - loss: 23.9533 - mse: 857.9435\n",
            "Epoch 55/100\n",
            "2/2 [==============================] - 0s 17ms/step - loss: 23.1738 - mse: 804.0695\n",
            "Epoch 56/100\n",
            "2/2 [==============================] - 0s 19ms/step - loss: 10.8752 - mse: 170.9315\n",
            "Epoch 57/100\n",
            "2/2 [==============================] - 0s 15ms/step - loss: 12.7353 - mse: 198.3908\n",
            "Epoch 58/100\n",
            "2/2 [==============================] - 0s 15ms/step - loss: 9.5941 - mse: 102.4993\n",
            "Epoch 59/100\n",
            "2/2 [==============================] - 0s 10ms/step - loss: 12.5112 - mse: 216.0866\n",
            "Epoch 60/100\n",
            "2/2 [==============================] - 0s 21ms/step - loss: 12.3154 - mse: 208.4768\n",
            "Epoch 61/100\n",
            "2/2 [==============================] - 0s 26ms/step - loss: 17.4572 - mse: 428.4883\n",
            "Epoch 62/100\n",
            "2/2 [==============================] - 0s 14ms/step - loss: 10.6023 - mse: 136.9156\n",
            "Epoch 63/100\n",
            "2/2 [==============================] - 0s 17ms/step - loss: 10.4867 - mse: 152.4552\n",
            "Epoch 64/100\n",
            "2/2 [==============================] - 0s 16ms/step - loss: 24.8489 - mse: 912.0568\n",
            "Epoch 65/100\n",
            "2/2 [==============================] - 0s 21ms/step - loss: 10.6743 - mse: 142.7683\n",
            "Epoch 66/100\n",
            "2/2 [==============================] - 0s 19ms/step - loss: 21.7873 - mse: 704.9469\n",
            "Epoch 67/100\n",
            "2/2 [==============================] - 0s 20ms/step - loss: 10.7137 - mse: 136.0810\n",
            "Epoch 68/100\n",
            "2/2 [==============================] - 0s 18ms/step - loss: 10.6395 - mse: 149.4156\n",
            "Epoch 69/100\n",
            "2/2 [==============================] - 0s 15ms/step - loss: 22.7077 - mse: 743.2896\n",
            "Epoch 70/100\n",
            "2/2 [==============================] - 0s 13ms/step - loss: 9.3267 - mse: 166.2318\n",
            "Epoch 71/100\n",
            "2/2 [==============================] - 0s 12ms/step - loss: 15.4275 - mse: 322.7704\n",
            "Epoch 72/100\n",
            "2/2 [==============================] - 0s 20ms/step - loss: 6.7405 - mse: 66.8895\n",
            "Epoch 73/100\n",
            "2/2 [==============================] - 0s 11ms/step - loss: 11.6920 - mse: 183.6121\n",
            "Epoch 74/100\n",
            "2/2 [==============================] - 0s 37ms/step - loss: 24.0685 - mse: 911.1930\n",
            "Epoch 75/100\n",
            "2/2 [==============================] - 0s 23ms/step - loss: 9.5954 - mse: 149.2109\n",
            "Epoch 76/100\n",
            "2/2 [==============================] - 0s 12ms/step - loss: 12.4451 - mse: 188.6629\n",
            "Epoch 77/100\n",
            "2/2 [==============================] - 0s 10ms/step - loss: 16.6729 - mse: 430.7187\n",
            "Epoch 78/100\n",
            "2/2 [==============================] - 0s 11ms/step - loss: 9.0628 - mse: 95.7401\n",
            "Epoch 79/100\n",
            "2/2 [==============================] - 0s 23ms/step - loss: 24.0010 - mse: 866.8311\n",
            "Epoch 80/100\n",
            "2/2 [==============================] - 0s 11ms/step - loss: 26.7870 - mse: 1108.1221\n",
            "Epoch 81/100\n",
            "2/2 [==============================] - 0s 10ms/step - loss: 11.6892 - mse: 171.5518\n",
            "Epoch 82/100\n",
            "2/2 [==============================] - 0s 20ms/step - loss: 12.0098 - mse: 211.6792\n",
            "Epoch 83/100\n",
            "2/2 [==============================] - 0s 13ms/step - loss: 17.4032 - mse: 394.6842\n",
            "Epoch 84/100\n",
            "2/2 [==============================] - 0s 12ms/step - loss: 7.2588 - mse: 73.1057\n",
            "Epoch 85/100\n",
            "2/2 [==============================] - 0s 15ms/step - loss: 14.9496 - mse: 312.2474\n",
            "Epoch 86/100\n",
            "2/2 [==============================] - 0s 13ms/step - loss: 15.2734 - mse: 315.0437\n",
            "Epoch 87/100\n",
            "2/2 [==============================] - 0s 10ms/step - loss: 19.0824 - mse: 520.0610\n",
            "Epoch 88/100\n",
            "2/2 [==============================] - 0s 11ms/step - loss: 29.8908 - mse: 1293.4871\n",
            "Epoch 89/100\n",
            "2/2 [==============================] - 0s 23ms/step - loss: 10.1835 - mse: 124.1514\n",
            "Epoch 90/100\n",
            "2/2 [==============================] - 0s 11ms/step - loss: 21.5825 - mse: 667.5800\n",
            "Epoch 91/100\n",
            "2/2 [==============================] - 0s 16ms/step - loss: 10.5853 - mse: 161.4971\n",
            "Epoch 92/100\n",
            "2/2 [==============================] - 0s 28ms/step - loss: 18.4526 - mse: 467.0809\n",
            "Epoch 93/100\n",
            "2/2 [==============================] - 0s 28ms/step - loss: 7.4180 - mse: 81.5791\n",
            "Epoch 94/100\n",
            "2/2 [==============================] - 0s 14ms/step - loss: 17.7895 - mse: 448.4339\n",
            "Epoch 95/100\n",
            "2/2 [==============================] - 0s 25ms/step - loss: 11.1346 - mse: 165.3822\n",
            "Epoch 96/100\n",
            "2/2 [==============================] - 0s 23ms/step - loss: 19.4883 - mse: 513.3622\n",
            "Epoch 97/100\n",
            "2/2 [==============================] - 0s 22ms/step - loss: 12.5156 - mse: 225.1855\n",
            "Epoch 98/100\n",
            "2/2 [==============================] - 0s 15ms/step - loss: 10.3041 - mse: 137.2848\n",
            "Epoch 99/100\n",
            "2/2 [==============================] - 0s 17ms/step - loss: 13.8506 - mse: 263.9604\n",
            "Epoch 100/100\n",
            "2/2 [==============================] - 0s 20ms/step - loss: 20.1701 - mse: 605.2118\n"
          ]
        },
        {
          "output_type": "execute_result",
          "data": {
            "text/plain": [
              "<keras.callbacks.History at 0x7e38923420b0>"
            ]
          },
          "metadata": {},
          "execution_count": 49
        }
      ],
      "source": [
        "# set random seed\n",
        "tf.random.set_seed(42)\n",
        "\n",
        "# 1. Create the model\n",
        "model_2 = tf.keras.Sequential([\n",
        "    tf.keras.layers.Dense(10),\n",
        "    tf.keras.layers.Dense(1)\n",
        "])\n",
        "\n",
        "# 2. Compile the model\n",
        "model_2.compile(loss=tf.keras.losses.mae, optimizer=tf.keras.optimizers.SGD(), metrics=[\"mse\"])\n",
        "\n",
        "# 3. Fit the model\n",
        "model_2.fit(tf.expand_dims(x_train, axis=1), y_train, epochs=100)\n",
        ""
      ]
    },
    {
      "cell_type": "code",
      "execution_count": 50,
      "metadata": {
        "colab": {
          "base_uri": "https://localhost:8080/",
          "height": 623
        },
        "id": "TSnn9W-DOM4Q",
        "outputId": "9d7644c4-e823-43e8-956c-79608f6493ed"
      },
      "outputs": [
        {
          "output_type": "stream",
          "name": "stderr",
          "text": [
            "WARNING:tensorflow:6 out of the last 6 calls to <function Model.make_predict_function.<locals>.predict_function at 0x7e389233d900> triggered tf.function retracing. Tracing is expensive and the excessive number of tracings could be due to (1) creating @tf.function repeatedly in a loop, (2) passing tensors with different shapes, (3) passing Python objects instead of tensors. For (1), please define your @tf.function outside of the loop. For (2), @tf.function has reduce_retracing=True option that can avoid unnecessary retracing. For (3), please refer to https://www.tensorflow.org/guide/function#controlling_retracing and https://www.tensorflow.org/api_docs/python/tf/function for  more details.\n"
          ]
        },
        {
          "output_type": "stream",
          "name": "stdout",
          "text": [
            "1/1 [==============================] - 0s 440ms/step\n"
          ]
        },
        {
          "output_type": "display_data",
          "data": {
            "text/plain": [
              "<Figure size 1000x700 with 1 Axes>"
            ],
            "image/png": "[encoded data removed]"
          },
          "metadata": {}
        }
      ],
      "source": [
        "# Make and plot predictions for model_2\n",
        "y_pred_2 = model_2.predict(x_test)\n",
        "plot_predictions(predictions=y_pred_2)"
      ]
    },
    {
      "cell_type": "code",
      "execution_count": 51,
      "metadata": {
        "colab": {
          "base_uri": "https://localhost:8080/"
        },
        "id": "t1Y47IugOM4R",
        "outputId": "8e640b35-89a4-445e-8e24-df3146f0f739"
      },
      "outputs": [
        {
          "output_type": "execute_result",
          "data": {
            "text/plain": [
              "(<tf.Tensor: shape=(), dtype=float32, numpy=3.0552933>,\n",
              " <tf.Tensor: shape=(), dtype=float32, numpy=12.116463>)"
            ]
          },
          "metadata": {},
          "execution_count": 51
        }
      ],
      "source": [
        "# Calculate model_2 evaluation metrics\n",
        "mae_2 = mae(y_test, y_pred_2)\n",
        "mse_2 = mse(y_test, y_pred_2)\n",
        "mae_2, mse_2"
      ]
    },
    {
      "cell_type": "markdown",
      "metadata": {
        "id": "id4o_AF9OM4S"
      },
      "source": [
        "**Build `model_3`**"
      ]
    },
    {
      "cell_type": "code",
      "execution_count": 52,
      "metadata": {
        "colab": {
          "base_uri": "https://localhost:8080/"
        },
        "id": "VUvRbEL-OM4S",
        "outputId": "af264c8e-c9cd-4aa5-8e86-21920e3359ff"
      },
      "outputs": [
        {
          "output_type": "execute_result",
          "data": {
            "text/plain": [
              "<keras.callbacks.History at 0x7e38922c6a40>"
            ]
          },
          "metadata": {},
          "execution_count": 52
        }
      ],
      "source": [
        "# set random seed\n",
        "tf.random.set_seed(42)\n",
        "\n",
        "# 1. Create the model\n",
        "model_3 = tf.keras.Sequential([\n",
        "    tf.keras.layers.Dense(10),\n",
        "    tf.keras.layers.Dense(1)\n",
        "])\n",
        "\n",
        "# 2. Compile the model\n",
        "model_3.compile(loss=tf.keras.losses.mae, optimizer=tf.keras.optimizers.SGD(), metrics=[\"mae\"])\n",
        "\n",
        "# 3. Fit the model\n",
        "model_3.fit(tf.expand_dims(x_train, axis=1), y_train, epochs=500, verbose=0)\n"
      ]
    },
    {
      "cell_type": "code",
      "execution_count": 53,
      "metadata": {
        "colab": {
          "base_uri": "https://localhost:8080/",
          "height": 592
        },
        "id": "e78uMVv9OM4T",
        "outputId": "dcad7b92-8ae8-4bdb-fc0f-02b611e1d5ba"
      },
      "outputs": [
        {
          "output_type": "stream",
          "name": "stdout",
          "text": [
            "1/1 [==============================] - 0s 79ms/step\n"
          ]
        },
        {
          "output_type": "display_data",
          "data": {
            "text/plain": [
              "<Figure size 1000x700 with 1 Axes>"
            ],
            "image/png": "[encoded data removed]"
          },
          "metadata": {}
        }
      ],
      "source": [
        "# Make and Plot some predictions\n",
        "y_pred_3 = model_3.predict(x_test)\n",
        "plot_predictions(predictions=y_pred_3)"
      ]
    },
    {
      "cell_type": "code",
      "execution_count": 54,
      "metadata": {
        "colab": {
          "base_uri": "https://localhost:8080/"
        },
        "id": "-v6Qtu6AOM4U",
        "outputId": "9009d3c0-b9de-4926-865c-2ce46465901d"
      },
      "outputs": [
        {
          "output_type": "execute_result",
          "data": {
            "text/plain": [
              "(<tf.Tensor: shape=(), dtype=float32, numpy=65.967476>,\n",
              " <tf.Tensor: shape=(), dtype=float32, numpy=4431.531>)"
            ]
          },
          "metadata": {},
          "execution_count": 54
        }
      ],
      "source": [
        "# Calculate model_3 evaluation metrics\n",
        "mae_3 = mae(y_test, y_pred_3)\n",
        "mse_3 = mse(y_test, y_pred_3)\n",
        "mae_3, mse_3"
      ]
    },
    {
      "cell_type": "markdown",
      "metadata": {
        "id": "vOaKnQxOOM4V"
      },
      "source": [
        "## Comparing results\n",
        "\n",
        "Now we've got results for 3 similar but slightly different results, let's compare them."
      ]
    },
    {
      "cell_type": "code",
      "execution_count": 55,
      "metadata": {
        "colab": {
          "base_uri": "https://localhost:8080/",
          "height": 143
        },
        "id": "S8TNY7J5OM4V",
        "outputId": "6c99b404-6eb5-40fe-f8bd-5ca72522b923"
      },
      "outputs": [
        {
          "output_type": "execute_result",
          "data": {
            "text/plain": [
              "     model        mae          mse\n",
              "0  model_1   8.522572    79.100098\n",
              "1  model_2   3.055293    12.116463\n",
              "2  model_3  65.967476  4431.530762"
            ],
            "text/html": [
              "\n",
              "\n",
              "  <div id=\"df-87284b4a-a3bb-457c-b8d8-cd0f1fedc395\">\n",
              "    <div class=\"colab-df-container\">\n",
              "      <div>\n",
              "<style scoped>\n",
              "    .dataframe tbody tr th:only-of-type {\n",
              "        vertical-align: middle;\n",
              "    }\n",
              "\n",
              "    .dataframe tbody tr th {\n",
              "        vertical-align: top;\n",
              "    }\n",
              "\n",
              "    .dataframe thead th {\n",
              "        text-align: right;\n",
              "    }\n",
              "</style>\n",
              "<table border=\"1\" class=\"dataframe\">\n",
              "  <thead>\n",
              "    <tr style=\"text-align: right;\">\n",
              "      <th></th>\n",
              "      <th>model</th>\n",
              "      <th>mae</th>\n",
              "      <th>mse</th>\n",
              "    </tr>\n",
              "  </thead>\n",
              "  <tbody>\n",
              "    <tr>\n",
              "      <th>0</th>\n",
              "      <td>model_1</td>\n",
              "      <td>8.522572</td>\n",
              "      <td>79.100098</td>\n",
              "    </tr>\n",
              "    <tr>\n",
              "      <th>1</th>\n",
              "      <td>model_2</td>\n",
              "      <td>3.055293</td>\n",
              "      <td>12.116463</td>\n",
              "    </tr>\n",
              "    <tr>\n",
              "      <th>2</th>\n",
              "      <td>model_3</td>\n",
              "      <td>65.967476</td>\n",
              "      <td>4431.530762</td>\n",
              "    </tr>\n",
              "  </tbody>\n",
              "</table>\n",
              "</div>\n",
              "      <button class=\"colab-df-convert\" onclick=\"convertToInteractive('df-87284b4a-a3bb-457c-b8d8-cd0f1fedc395')\"\n",
              "              title=\"Convert this dataframe to an interactive table.\"\n",
              "              style=\"display:none;\">\n",
              "\n",
              "  <svg xmlns=\"http://www.w3.org/2000/svg\" height=\"24px\"viewBox=\"0 0 24 24\"\n",
              "       width=\"24px\">\n",
              "    <path d=\"M0 0h24v24H0V0z\" fill=\"none\"/>\n",
              "    <path d=\"M18.56 5.44l.94 2.06.94-2.06 2.06-.94-2.06-.94-.94-2.06-.94 2.06-2.06.94zm-11 1L8.5 8.5l.94-2.06 2.06-.94-2.06-.94L8.5 2.5l-.94 2.06-2.06.94zm10 10l.94 2.06.94-2.06 2.06-.94-2.06-.94-.94-2.06-.94 2.06-2.06.94z\"/><path d=\"M17.41 7.96l-1.37-1.37c-.4-.4-.92-.59-1.43-.59-.52 0-1.04.2-1.43.59L10.3 9.45l-7.72 7.72c-.78.78-.78 2.05 0 2.83L4 21.41c.39.39.9.59 1.41.59.51 0 1.02-.2 1.41-.59l7.78-7.78 2.81-2.81c.8-.78.8-2.07 0-2.86zM5.41 20L4 18.59l7.72-7.72 1.47 1.35L5.41 20z\"/>\n",
              "  </svg>\n",
              "      </button>\n",
              "\n",
              "\n",
              "\n",
              "    <div id=\"df-822300c1-1542-4adf-9a5f-91fb5109b6b8\">\n",
              "      <button class=\"colab-df-quickchart\" onclick=\"quickchart('df-822300c1-1542-4adf-9a5f-91fb5109b6b8')\"\n",
              "              title=\"Suggest charts.\"\n",
              "              style=\"display:none;\">\n",
              "\n",
              "<svg xmlns=\"http://www.w3.org/2000/svg\" height=\"24px\"viewBox=\"0 0 24 24\"\n",
              "     width=\"24px\">\n",
              "    <g>\n",
              "        <path d=\"M19 3H5c-1.1 0-2 .9-2 2v14c0 1.1.9 2 2 2h14c1.1 0 2-.9 2-2V5c0-1.1-.9-2-2-2zM9 17H7v-7h2v7zm4 0h-2V7h2v10zm4 0h-2v-4h2v4z\"/>\n",
              "    </g>\n",
              "</svg>\n",
              "      </button>\n",
              "    </div>\n",
              "\n",
              "<style>\n",
              "  .colab-df-quickchart {\n",
              "    background-color: #E8F0FE;\n",
              "    border: none;\n",
              "    border-radius: 50%;\n",
              "    cursor: pointer;\n",
              "    display: none;\n",
              "    fill: #1967D2;\n",
              "    height: 32px;\n",
              "    padding: 0 0 0 0;\n",
              "    width: 32px;\n",
              "  }\n",
              "\n",
              "  .colab-df-quickchart:hover {\n",
              "    background-color: #E2EBFA;\n",
              "    box-shadow: 0px 1px 2px rgba(60, 64, 67, 0.3), 0px 1px 3px 1px rgba(60, 64, 67, 0.15);\n",
              "    fill: #174EA6;\n",
              "  }\n",
              "\n",
              "  [theme=dark] .colab-df-quickchart {\n",
              "    background-color: #3B4455;\n",
              "    fill: #D2E3FC;\n",
              "  }\n",
              "\n",
              "  [theme=dark] .colab-df-quickchart:hover {\n",
              "    background-color: #434B5C;\n",
              "    box-shadow: 0px 1px 3px 1px rgba(0, 0, 0, 0.15);\n",
              "    filter: drop-shadow(0px 1px 2px rgba(0, 0, 0, 0.3));\n",
              "    fill: #FFFFFF;\n",
              "  }\n",
              "</style>\n",
              "\n",
              "    <script>\n",
              "      async function quickchart(key) {\n",
              "        const containerElement = document.querySelector('#' + key);\n",
              "        const charts = await google.colab.kernel.invokeFunction(\n",
              "            'suggestCharts', [key], {});\n",
              "      }\n",
              "    </script>\n",
              "\n",
              "      <script>\n",
              "\n",
              "function displayQuickchartButton(domScope) {\n",
              "  let quickchartButtonEl =\n",
              "    domScope.querySelector('#df-822300c1-1542-4adf-9a5f-91fb5109b6b8 button.colab-df-quickchart');\n",
              "  quickchartButtonEl.style.display =\n",
              "    google.colab.kernel.accessAllowed ? 'block' : 'none';\n",
              "}\n",
              "\n",
              "        displayQuickchartButton(document);\n",
              "      </script>\n",
              "      <style>\n",
              "    .colab-df-container {\n",
              "      display:flex;\n",
              "      flex-wrap:wrap;\n",
              "      gap: 12px;\n",
              "    }\n",
              "\n",
              "    .colab-df-convert {\n",
              "      background-color: #E8F0FE;\n",
              "      border: none;\n",
              "      border-radius: 50%;\n",
              "      cursor: pointer;\n",
              "      display: none;\n",
              "      fill: #1967D2;\n",
              "      height: 32px;\n",
              "      padding: 0 0 0 0;\n",
              "      width: 32px;\n",
              "    }\n",
              "\n",
              "    .colab-df-convert:hover {\n",
              "      background-color: #E2EBFA;\n",
              "      box-shadow: 0px 1px 2px rgba(60, 64, 67, 0.3), 0px 1px 3px 1px rgba(60, 64, 67, 0.15);\n",
              "      fill: #174EA6;\n",
              "    }\n",
              "\n",
              "    [theme=dark] .colab-df-convert {\n",
              "      background-color: #3B4455;\n",
              "      fill: #D2E3FC;\n",
              "    }\n",
              "\n",
              "    [theme=dark] .colab-df-convert:hover {\n",
              "      background-color: #434B5C;\n",
              "      box-shadow: 0px 1px 3px 1px rgba(0, 0, 0, 0.15);\n",
              "      filter: drop-shadow(0px 1px 2px rgba(0, 0, 0, 0.3));\n",
              "      fill: #FFFFFF;\n",
              "    }\n",
              "  </style>\n",
              "\n",
              "      <script>\n",
              "        const buttonEl =\n",
              "          document.querySelector('#df-87284b4a-a3bb-457c-b8d8-cd0f1fedc395 button.colab-df-convert');\n",
              "        buttonEl.style.display =\n",
              "          google.colab.kernel.accessAllowed ? 'block' : 'none';\n",
              "\n",
              "        async function convertToInteractive(key) {\n",
              "          const element = document.querySelector('#df-87284b4a-a3bb-457c-b8d8-cd0f1fedc395');\n",
              "          const dataTable =\n",
              "            await google.colab.kernel.invokeFunction('convertToInteractive',\n",
              "                                                     [key], {});\n",
              "          if (!dataTable) return;\n",
              "\n",
              "          const docLinkHtml = 'Like what you see? Visit the ' +\n",
              "            '<a target=\"_blank\" href=https://colab.research.google.com/notebooks/data_table.ipynb>data table notebook</a>'\n",
              "            + ' to learn more about interactive tables.';\n",
              "          element.innerHTML = '';\n",
              "          dataTable['output_type'] = 'display_data';\n",
              "          await google.colab.output.renderOutput(dataTable, element);\n",
              "          const docLink = document.createElement('div');\n",
              "          docLink.innerHTML = docLinkHtml;\n",
              "          element.appendChild(docLink);\n",
              "        }\n",
              "      </script>\n",
              "    </div>\n",
              "  </div>\n"
            ]
          },
          "metadata": {},
          "execution_count": 55
        }
      ],
      "source": [
        "# Lets's compare our model's results using a pandas DataFrame\n",
        "import pandas as pd\n",
        "\n",
        "model_results = [[\"model_1\", mae_1.numpy(), mse_1.numpy()],\n",
        "                 [\"model_2\", mae_2.numpy(), mse_2.numpy()],\n",
        "                 [\"model_3\", mae_3.numpy(), mse_3.numpy()]]\n",
        "\n",
        "all_results = pd.DataFrame(model_results, columns=[\"model\", \"mae\", \"mse\"])\n",
        "all_results"
      ]
    },
    {
      "cell_type": "markdown",
      "metadata": {
        "id": "aUSrtOpMOM4W"
      },
      "source": [
        "Looks like model_2 performed the best"
      ]
    },
    {
      "cell_type": "code",
      "execution_count": 56,
      "metadata": {
        "colab": {
          "base_uri": "https://localhost:8080/"
        },
        "id": "l6TjzdtwOM4W",
        "outputId": "686c0db2-edb2-4e86-f34f-8e3ffcc32b4f"
      },
      "outputs": [
        {
          "output_type": "stream",
          "name": "stdout",
          "text": [
            "Model: \"sequential_5\"\n",
            "_________________________________________________________________\n",
            " Layer (type)                Output Shape              Param #   \n",
            "=================================================================\n",
            " dense_6 (Dense)             (None, 10)                20        \n",
            "                                                                 \n",
            " dense_7 (Dense)             (None, 1)                 11        \n",
            "                                                                 \n",
            "=================================================================\n",
            "Total params: 31\n",
            "Trainable params: 31\n",
            "Non-trainable params: 0\n",
            "_________________________________________________________________\n"
          ]
        }
      ],
      "source": [
        "model_2.summary()"
      ]
    },
    {
      "cell_type": "markdown",
      "metadata": {
        "id": "39lvTk71OM4X"
      },
      "source": [
        "## Saving Our Models"
      ]
    },
    {
      "cell_type": "code",
      "execution_count": 57,
      "metadata": {
        "colab": {
          "base_uri": "https://localhost:8080/"
        },
        "id": "bZItbgYvOM4X",
        "outputId": "f3a2e2f9-5bc3-4ab2-aeb8-16dbdd309ee3"
      },
      "outputs": [
        {
          "output_type": "stream",
          "name": "stderr",
          "text": [
            "WARNING:absl:Found untraced functions such as _update_step_xla while saving (showing 1 of 1). These functions will not be directly callable after loading.\n"
          ]
        }
      ],
      "source": [
        "# Save Model using the savemodal format\n",
        "model_2.save(\"best_model_savedModel_format\")"
      ]
    },
    {
      "cell_type": "code",
      "source": [
        "# save model using the hdf5 format\n",
        "model_2.save(\"best_model_HDF5_format.h5\")"
      ],
      "metadata": {
        "id": "Q6zxQeJXPlQn"
      },
      "execution_count": 58,
      "outputs": []
    },
    {
      "cell_type": "markdown",
      "source": [
        "# Loading in a saved model"
      ],
      "metadata": {
        "id": "ifktdcGgQSCV"
      }
    },
    {
      "cell_type": "code",
      "source": [
        "# load in the savedModel format model\n",
        "loaded_SavedModel_format = tf.keras.models.load_model(\"best_model_savedModel_format\")\n",
        "loaded_SavedModel_format.summary()"
      ],
      "metadata": {
        "id": "KdQM67A_RjYu",
        "outputId": "74181b5a-a8f9-46b3-f917-6da2955c35b9",
        "colab": {
          "base_uri": "https://localhost:8080/"
        }
      },
      "execution_count": 59,
      "outputs": [
        {
          "output_type": "stream",
          "name": "stdout",
          "text": [
            "Model: \"sequential_5\"\n",
            "_________________________________________________________________\n",
            " Layer (type)                Output Shape              Param #   \n",
            "=================================================================\n",
            " dense_6 (Dense)             (None, 10)                20        \n",
            "                                                                 \n",
            " dense_7 (Dense)             (None, 1)                 11        \n",
            "                                                                 \n",
            "=================================================================\n",
            "Total params: 31\n",
            "Trainable params: 31\n",
            "Non-trainable params: 0\n",
            "_________________________________________________________________\n"
          ]
        }
      ]
    },
    {
      "cell_type": "code",
      "source": [
        "# Compare model_2 predictions with saved model format model predictions\n",
        "model_2_preds = model_2.predict(x_test)\n",
        "loaded_SavedModel_format_preds = loaded_SavedModel_format.predict(x_test)\n",
        "model_2_preds == loaded_SavedModel_format_preds"
      ],
      "metadata": {
        "id": "hWsDrmy1R_oW",
        "outputId": "698c9772-7826-4af4-c7f5-7a8425f11cbb",
        "colab": {
          "base_uri": "https://localhost:8080/"
        }
      },
      "execution_count": 61,
      "outputs": [
        {
          "output_type": "stream",
          "name": "stdout",
          "text": [
            "1/1 [==============================] - 0s 36ms/step\n",
            "1/1 [==============================] - 0s 55ms/step\n"
          ]
        },
        {
          "output_type": "execute_result",
          "data": {
            "text/plain": [
              "array([[ True],\n",
              "       [ True],\n",
              "       [ True],\n",
              "       [ True],\n",
              "       [ True],\n",
              "       [ True],\n",
              "       [ True],\n",
              "       [ True],\n",
              "       [ True],\n",
              "       [ True]])"
            ]
          },
          "metadata": {},
          "execution_count": 61
        }
      ]
    },
    {
      "cell_type": "code",
      "source": [
        "# load in a model doing h5 format\n",
        "loaded_h5_model = tf.keras.models.load_model(\"best_model_HDF5_format.h5\")\n",
        "loaded_h5_model.summary()"
      ],
      "metadata": {
        "id": "W47MLMr4SGRL",
        "outputId": "0352001a-ab03-4080-cf8e-ab5bbc54998d",
        "colab": {
          "base_uri": "https://localhost:8080/"
        }
      },
      "execution_count": 63,
      "outputs": [
        {
          "output_type": "stream",
          "name": "stdout",
          "text": [
            "Model: \"sequential_5\"\n",
            "_________________________________________________________________\n",
            " Layer (type)                Output Shape              Param #   \n",
            "=================================================================\n",
            " dense_6 (Dense)             (None, 10)                20        \n",
            "                                                                 \n",
            " dense_7 (Dense)             (None, 1)                 11        \n",
            "                                                                 \n",
            "=================================================================\n",
            "Total params: 31\n",
            "Trainable params: 31\n",
            "Non-trainable params: 0\n",
            "_________________________________________________________________\n"
          ]
        }
      ]
    },
    {
      "cell_type": "code",
      "source": [
        "model_2_preds = model_2.predict(x_test)\n",
        "loaded_h5_model_preds = loaded_h5_model.predict(x_test)\n",
        "model_2_preds == loaded_h5_model_preds"
      ],
      "metadata": {
        "id": "whyXhoCwTIUD",
        "outputId": "113fdcc5-df3a-42ff-f347-aa041f7c3eb5",
        "colab": {
          "base_uri": "https://localhost:8080/"
        }
      },
      "execution_count": 64,
      "outputs": [
        {
          "output_type": "stream",
          "name": "stdout",
          "text": [
            "1/1 [==============================] - 0s 125ms/step\n",
            "1/1 [==============================] - 0s 87ms/step\n"
          ]
        },
        {
          "output_type": "execute_result",
          "data": {
            "text/plain": [
              "array([[ True],\n",
              "       [ True],\n",
              "       [ True],\n",
              "       [ True],\n",
              "       [ True],\n",
              "       [ True],\n",
              "       [ True],\n",
              "       [ True],\n",
              "       [ True],\n",
              "       [ True]])"
            ]
          },
          "metadata": {},
          "execution_count": 64
        }
      ]
    },
    {
      "cell_type": "code",
      "source": [],
      "metadata": {
        "id": "90RvgSPCUFrW"
      },
      "execution_count": null,
      "outputs": []
    }
  ],
  "metadata": {
    "colab": {
      "provenance": []
    },
    "kernelspec": {
      "display_name": "Python 3",
      "name": "python3"
    },
    "language_info": {
      "codemirror_mode": {
        "name": "ipython",
        "version": 3
      },
      "file_extension": ".py",
      "mimetype": "text/x-python",
      "name": "python",
      "nbconvert_exporter": "python",
      "pygments_lexer": "ipython3",
      "version": "3.10.12"
    }
  },
  "nbformat": 4,
  "nbformat_minor": 0
}