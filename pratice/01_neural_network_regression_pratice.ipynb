{
  "cells": [
    {
      "cell_type": "markdown",
      "metadata": {
        "id": "-2v6sz12PBnH"
      },
      "source": [
        "# INTRODUCTION TO REGRESSION WITH NEURAL NETWORKS IN TENSORFLOW"
      ]
    },
    {
      "cell_type": "code",
      "execution_count": 1,
      "metadata": {
        "colab": {
          "base_uri": "https://localhost:8080/"
        },
        "id": "8uLcqJnzPaq_",
        "outputId": "d747415b-611b-4117-adc0-0058173fe918"
      },
      "outputs": [
        {
          "name": "stderr",
          "output_type": "stream",
          "text": [
            "2023-07-24 02:42:12.998145: I tensorflow/core/platform/cpu_feature_guard.cc:193] This TensorFlow binary is optimized with oneAPI Deep Neural Network Library (oneDNN) to use the following CPU instructions in performance-critical operations:  SSE4.1 SSE4.2 AVX AVX2 AVX512F AVX512_VNNI FMA\n",
            "To enable them in other operations, rebuild TensorFlow with the appropriate compiler flags.\n",
            "2023-07-24 02:42:13.602523: I tensorflow/core/util/port.cc:104] oneDNN custom operations are on. You may see slightly different numerical results due to floating-point round-off errors from different computation orders. To turn them off, set the environment variable `TF_ENABLE_ONEDNN_OPTS=0`.\n"
          ]
        },
        {
          "name": "stdout",
          "output_type": "stream",
          "text": [
            "2.11.0\n"
          ]
        }
      ],
      "source": [
        "# Import TensorFlow\n",
        "import tensorflow as tf\n",
        "print(tf.__version__)"
      ]
    },
    {
      "cell_type": "markdown",
      "metadata": {
        "id": "DjbW0-8XPlVS"
      },
      "source": [
        "## Creating data to view and fit"
      ]
    },
    {
      "cell_type": "code",
      "execution_count": 2,
      "metadata": {
        "colab": {
          "base_uri": "https://localhost:8080/",
          "height": 452
        },
        "id": "zb6r5iWxPve7",
        "outputId": "13c51ca5-38a6-4164-d895-ab4728e797de"
      },
      "outputs": [
        {
          "data": {
            "text/plain": [
              "<matplotlib.collections.PathCollection at 0x7f83e196a080>"
            ]
          },
          "execution_count": 2,
          "metadata": {},
          "output_type": "execute_result"
        },
        {
          "data": {
            "image/png": "[encoded data removed]",
            "text/plain": [
              "<Figure size 640x480 with 1 Axes>"
            ]
          },
          "metadata": {},
          "output_type": "display_data"
        }
      ],
      "source": [
        "import numpy as np\n",
        "import matplotlib.pyplot as plt\n",
        "\n",
        "# Create features\n",
        "x = np.array([-7.0, -4.0, -1.0, 2.0, 5.0, 8.0, 11.0, 14.0])\n",
        "\n",
        "# Create labels\n",
        "y = np.array([3.0, 6.0, 9.0, 12.0, 15.0, 18.0, 21.0, 24.0])\n",
        "\n",
        "# Visualize it\n",
        "plt.scatter(x, y)"
      ]
    },
    {
      "cell_type": "code",
      "execution_count": 3,
      "metadata": {
        "colab": {
          "base_uri": "https://localhost:8080/"
        },
        "id": "tF2YtHyjPuUP",
        "outputId": "a109118a-e46a-4598-b9fa-11ad20ddcbb3"
      },
      "outputs": [
        {
          "data": {
            "text/plain": [
              "array([ True,  True,  True,  True,  True,  True,  True,  True])"
            ]
          },
          "execution_count": 3,
          "metadata": {},
          "output_type": "execute_result"
        }
      ],
      "source": [
        "y == x + 10"
      ]
    },
    {
      "cell_type": "markdown",
      "metadata": {
        "id": "k16pFcIrQoY9"
      },
      "source": [
        "## Input and output shapes"
      ]
    },
    {
      "cell_type": "code",
      "execution_count": 4,
      "metadata": {
        "colab": {
          "base_uri": "https://localhost:8080/"
        },
        "id": "Gsxz_vqIQw6I",
        "outputId": "cd9ce15b-667b-43ba-c29e-05742c290cfb"
      },
      "outputs": [
        {
          "name": "stderr",
          "output_type": "stream",
          "text": [
            "2023-07-24 02:42:23.500073: I tensorflow/core/platform/cpu_feature_guard.cc:193] This TensorFlow binary is optimized with oneAPI Deep Neural Network Library (oneDNN) to use the following CPU instructions in performance-critical operations:  SSE4.1 SSE4.2 AVX AVX2 AVX512F AVX512_VNNI FMA\n",
            "To enable them in other operations, rebuild TensorFlow with the appropriate compiler flags.\n"
          ]
        },
        {
          "data": {
            "text/plain": [
              "(<tf.Tensor: shape=(3,), dtype=string, numpy=array([b'bedroom', b'bathroom', b'garage'], dtype=object)>,\n",
              " <tf.Tensor: shape=(1,), dtype=int32, numpy=array([939700], dtype=int32)>)"
            ]
          },
          "execution_count": 4,
          "metadata": {},
          "output_type": "execute_result"
        }
      ],
      "source": [
        "# Create a demo tensor for our housing price prediction problem\n",
        "house_info = tf.constant([\"bedroom\", \"bathroom\", \"garage\"])\n",
        "house_price = tf.constant([939700])\n",
        "house_info, house_price"
      ]
    },
    {
      "cell_type": "code",
      "execution_count": 5,
      "metadata": {
        "colab": {
          "base_uri": "https://localhost:8080/"
        },
        "id": "BcMnSW9DRsIs",
        "outputId": "e90f2831-a2a9-4d8a-e0c6-2ef30ffef76f"
      },
      "outputs": [
        {
          "data": {
            "text/plain": [
              "(-7.0, 3.0)"
            ]
          },
          "execution_count": 5,
          "metadata": {},
          "output_type": "execute_result"
        }
      ],
      "source": [
        "x[0], y[0]"
      ]
    },
    {
      "cell_type": "code",
      "execution_count": 6,
      "metadata": {
        "colab": {
          "base_uri": "https://localhost:8080/"
        },
        "id": "1hWLRy_HRVo0",
        "outputId": "b5e8af85-f1f6-4507-8636-72912a4b0ca7"
      },
      "outputs": [
        {
          "data": {
            "text/plain": [
              "((), ())"
            ]
          },
          "execution_count": 6,
          "metadata": {},
          "output_type": "execute_result"
        }
      ],
      "source": [
        "input_shape = x[0].shape\n",
        "output_shape = y[0].shape\n",
        "input_shape, output_shape"
      ]
    },
    {
      "cell_type": "code",
      "execution_count": 7,
      "metadata": {
        "colab": {
          "base_uri": "https://localhost:8080/"
        },
        "id": "fTbroJEHReBi",
        "outputId": "5a462813-c362-4bb9-b2e0-6c71ab16f9a1"
      },
      "outputs": [
        {
          "data": {
            "text/plain": [
              "0"
            ]
          },
          "execution_count": 7,
          "metadata": {},
          "output_type": "execute_result"
        }
      ],
      "source": [
        "x[0].ndim"
      ]
    },
    {
      "cell_type": "code",
      "execution_count": 8,
      "metadata": {
        "colab": {
          "base_uri": "https://localhost:8080/"
        },
        "id": "pAiTx-QKR9Re",
        "outputId": "05347d59-1c57-4b88-d544-ae954065d892"
      },
      "outputs": [
        {
          "data": {
            "text/plain": [
              "(-7.0, 3.0)"
            ]
          },
          "execution_count": 8,
          "metadata": {},
          "output_type": "execute_result"
        }
      ],
      "source": [
        "x[0], y[0]"
      ]
    },
    {
      "cell_type": "code",
      "execution_count": 9,
      "metadata": {
        "colab": {
          "base_uri": "https://localhost:8080/"
        },
        "id": "6LoDvmMuSAN_",
        "outputId": "da811963-667f-4dcf-8d9b-a509a0939913"
      },
      "outputs": [
        {
          "data": {
            "text/plain": [
              "(<tf.Tensor: shape=(8,), dtype=float64, numpy=array([-7., -4., -1.,  2.,  5.,  8., 11., 14.])>,\n",
              " <tf.Tensor: shape=(8,), dtype=float64, numpy=array([ 3.,  6.,  9., 12., 15., 18., 21., 24.])>)"
            ]
          },
          "execution_count": 9,
          "metadata": {},
          "output_type": "execute_result"
        }
      ],
      "source": [
        "# Turn our NumPy Arayys into tensors\n",
        "x = tf.constant(x)\n",
        "y = tf.constant(y)\n",
        "x, y"
      ]
    },
    {
      "cell_type": "code",
      "execution_count": 10,
      "metadata": {
        "colab": {
          "base_uri": "https://localhost:8080/"
        },
        "id": "oDk0TvVuTmiu",
        "outputId": "6b79eca1-9b1b-4229-f6a3-4592bf63a973"
      },
      "outputs": [
        {
          "data": {
            "text/plain": [
              "(TensorShape([]), TensorShape([]))"
            ]
          },
          "execution_count": 10,
          "metadata": {},
          "output_type": "execute_result"
        }
      ],
      "source": [
        "input_shape = x[0].shape\n",
        "output_shape = y[0].shape\n",
        "input_shape, output_shape"
      ]
    },
    {
      "cell_type": "code",
      "execution_count": 11,
      "metadata": {
        "colab": {
          "base_uri": "https://localhost:8080/",
          "height": 452
        },
        "id": "adJxBSZZT5Vy",
        "outputId": "fdfb70d8-02b2-48bf-cb0f-f361663cb022"
      },
      "outputs": [
        {
          "data": {
            "text/plain": [
              "<matplotlib.collections.PathCollection at 0x7f83d86755d0>"
            ]
          },
          "execution_count": 11,
          "metadata": {},
          "output_type": "execute_result"
        },
        {
          "data": {
            "image/png": "[encoded data removed]",
            "text/plain": [
              "<Figure size 640x480 with 1 Axes>"
            ]
          },
          "metadata": {},
          "output_type": "display_data"
        }
      ],
      "source": [
        "plt.scatter(x, y)"
      ]
    },
    {
      "cell_type": "markdown",
      "metadata": {
        "id": "XVLxC6GIUCLv"
      },
      "source": [
        "# Steps in modelling with TensorFlow\n",
        "\n",
        "1. Creating a model\n",
        "2. Compiling a model\n",
        "3. Fitting a model"
      ]
    },
    {
      "cell_type": "code",
      "execution_count": 12,
      "metadata": {
        "colab": {
          "base_uri": "https://localhost:8080/"
        },
        "id": "dlscrAysUKDl",
        "outputId": "44227d35-5e80-4f01-928d-d061c145b53e"
      },
      "outputs": [
        {
          "name": "stdout",
          "output_type": "stream",
          "text": [
            "Epoch 1/5\n",
            "1/1 [==============================] - 1s 687ms/step - loss: 11.8484 - mae: 11.8484\n",
            "Epoch 2/5\n",
            "1/1 [==============================] - 0s 11ms/step - loss: 11.7159 - mae: 11.7159\n",
            "Epoch 3/5\n",
            "1/1 [==============================] - 0s 14ms/step - loss: 11.5834 - mae: 11.5834\n",
            "Epoch 4/5\n",
            "1/1 [==============================] - 0s 13ms/step - loss: 11.4509 - mae: 11.4509\n",
            "Epoch 5/5\n",
            "1/1 [==============================] - 0s 14ms/step - loss: 11.3184 - mae: 11.3184\n"
          ]
        },
        {
          "data": {
            "text/plain": [
              "<keras.callbacks.History at 0x7f83d86c6e60>"
            ]
          },
          "execution_count": 12,
          "metadata": {},
          "output_type": "execute_result"
        }
      ],
      "source": [
        "# Set random seed\n",
        "tf.random.set_seed(42)\n",
        "\n",
        "# Create a model using the sequential API\n",
        "model = tf.keras.Sequential([\n",
        "    tf.keras.layers.Dense(1)\n",
        "])\n",
        "\n",
        "# Compile the model\n",
        "model.compile(loss=tf.keras.losses.mae, optimizer=tf.keras.optimizers.SGD(), metrics=[\"mae\"])\n",
        "\n",
        "# Fit the model\n",
        "# model.fit(X, y, epochs=5) # this will break with TensorFlow 2.7.0+\n",
        "model.fit(tf.expand_dims(x, axis=-1), y, epochs=5)"
      ]
    },
    {
      "cell_type": "code",
      "execution_count": 13,
      "metadata": {
        "colab": {
          "base_uri": "https://localhost:8080/"
        },
        "id": "LGjFRj1hOM33",
        "outputId": "4e31498d-dd2e-4b6f-c222-b4d2febd4597"
      },
      "outputs": [
        {
          "data": {
            "text/plain": [
              "(<tf.Tensor: shape=(8,), dtype=float64, numpy=array([-7., -4., -1.,  2.,  5.,  8., 11., 14.])>,\n",
              " <tf.Tensor: shape=(8,), dtype=float64, numpy=array([ 3.,  6.,  9., 12., 15., 18., 21., 24.])>)"
            ]
          },
          "execution_count": 13,
          "metadata": {},
          "output_type": "execute_result"
        }
      ],
      "source": [
        "# Check out x and y\n",
        "x, y"
      ]
    },
    {
      "cell_type": "code",
      "execution_count": 14,
      "metadata": {
        "colab": {
          "base_uri": "https://localhost:8080/"
        },
        "id": "IgA7JVycOM33",
        "outputId": "d161d0f9-ce59-4592-e249-f2fac485cb19"
      },
      "outputs": [
        {
          "name": "stdout",
          "output_type": "stream",
          "text": [
            "1/1 [==============================] - 0s 234ms/step\n"
          ]
        },
        {
          "data": {
            "text/plain": [
              "array([[11.047199]], dtype=float32)"
            ]
          },
          "execution_count": 14,
          "metadata": {},
          "output_type": "execute_result"
        }
      ],
      "source": [
        "# Try and make a prediction using the model\n",
        "y_pred = model.predict([17.0])\n",
        "y_pred"
      ]
    },
    {
      "cell_type": "code",
      "execution_count": 15,
      "metadata": {
        "colab": {
          "base_uri": "https://localhost:8080/"
        },
        "id": "l8VGZ1EGOM34",
        "outputId": "0b57e470-eb27-4def-a384-9886a0939241"
      },
      "outputs": [
        {
          "data": {
            "text/plain": [
              "array([[22.0472]], dtype=float32)"
            ]
          },
          "execution_count": 15,
          "metadata": {},
          "output_type": "execute_result"
        }
      ],
      "source": [
        "y_pred + 11"
      ]
    },
    {
      "cell_type": "markdown",
      "metadata": {
        "id": "3M7sm37KOM34"
      },
      "source": [
        "## Imporving our Model\n",
        "\n",
        "1. **Creating a model** - define the input and output layers, as well as the hidden layers of a deep learning model.\n",
        "2. **Compiling a model** - define the loss function (in other words, the function which tells our model how wrong it is) and the optimizer (tells our model how to improve the patterns its learning) and evaluation metrics (what we can use to interpret the performance of our model).\n",
        "3. **Fitting a model** - letting the model try to find patterns between X & y (features and labels)."
      ]
    },
    {
      "cell_type": "code",
      "execution_count": 16,
      "metadata": {
        "colab": {
          "base_uri": "https://localhost:8080/"
        },
        "id": "vKC0ghwJOM35",
        "outputId": "89a2c61b-555c-434f-dafc-a690d08f52cc"
      },
      "outputs": [
        {
          "name": "stdout",
          "output_type": "stream",
          "text": [
            "Epoch 1/100\n",
            "1/1 [==============================] - 1s 632ms/step - loss: 14.4334 - mae: 14.4334\n",
            "Epoch 2/100\n",
            "1/1 [==============================] - 0s 14ms/step - loss: 14.3009 - mae: 14.3009\n",
            "Epoch 3/100\n",
            "1/1 [==============================] - 0s 13ms/step - loss: 14.1684 - mae: 14.1684\n",
            "Epoch 4/100\n",
            "1/1 [==============================] - 0s 13ms/step - loss: 14.0359 - mae: 14.0359\n",
            "Epoch 5/100\n",
            "1/1 [==============================] - 0s 13ms/step - loss: 13.9034 - mae: 13.9034\n",
            "Epoch 6/100\n",
            "1/1 [==============================] - 0s 16ms/step - loss: 13.7709 - mae: 13.7709\n",
            "Epoch 7/100\n",
            "1/1 [==============================] - 0s 17ms/step - loss: 13.6384 - mae: 13.6384\n",
            "Epoch 8/100\n",
            "1/1 [==============================] - 0s 14ms/step - loss: 13.5059 - mae: 13.5059\n",
            "Epoch 9/100\n",
            "1/1 [==============================] - 0s 14ms/step - loss: 13.3734 - mae: 13.3734\n",
            "Epoch 10/100\n",
            "1/1 [==============================] - 0s 16ms/step - loss: 13.2409 - mae: 13.2409\n",
            "Epoch 11/100\n",
            "1/1 [==============================] - 0s 15ms/step - loss: 13.1084 - mae: 13.1084\n",
            "Epoch 12/100\n",
            "1/1 [==============================] - 0s 17ms/step - loss: 12.9759 - mae: 12.9759\n",
            "Epoch 13/100\n",
            "1/1 [==============================] - 0s 17ms/step - loss: 12.8434 - mae: 12.8434\n",
            "Epoch 14/100\n",
            "1/1 [==============================] - 0s 14ms/step - loss: 12.7109 - mae: 12.7109\n",
            "Epoch 15/100\n",
            "1/1 [==============================] - 0s 16ms/step - loss: 12.5784 - mae: 12.5784\n",
            "Epoch 16/100\n",
            "1/1 [==============================] - 0s 24ms/step - loss: 12.4459 - mae: 12.4459\n",
            "Epoch 17/100\n",
            "1/1 [==============================] - 0s 15ms/step - loss: 12.3134 - mae: 12.3134\n",
            "Epoch 18/100\n",
            "1/1 [==============================] - 0s 16ms/step - loss: 12.1809 - mae: 12.1809\n",
            "Epoch 19/100\n",
            "1/1 [==============================] - 0s 15ms/step - loss: 12.0484 - mae: 12.0484\n",
            "Epoch 20/100\n",
            "1/1 [==============================] - 0s 17ms/step - loss: 11.9159 - mae: 11.9159\n",
            "Epoch 21/100\n",
            "1/1 [==============================] - 0s 15ms/step - loss: 11.7834 - mae: 11.7834\n",
            "Epoch 22/100\n",
            "1/1 [==============================] - 0s 18ms/step - loss: 11.6509 - mae: 11.6509\n",
            "Epoch 23/100\n",
            "1/1 [==============================] - 0s 23ms/step - loss: 11.5184 - mae: 11.5184\n",
            "Epoch 24/100\n",
            "1/1 [==============================] - 0s 27ms/step - loss: 11.3859 - mae: 11.3859\n",
            "Epoch 25/100\n",
            "1/1 [==============================] - 0s 17ms/step - loss: 11.2534 - mae: 11.2534\n",
            "Epoch 26/100\n",
            "1/1 [==============================] - 0s 22ms/step - loss: 11.1209 - mae: 11.1209\n",
            "Epoch 27/100\n",
            "1/1 [==============================] - 0s 21ms/step - loss: 10.9884 - mae: 10.9884\n",
            "Epoch 28/100\n",
            "1/1 [==============================] - 0s 12ms/step - loss: 10.8559 - mae: 10.8559\n",
            "Epoch 29/100\n",
            "1/1 [==============================] - 0s 18ms/step - loss: 10.7234 - mae: 10.7234\n",
            "Epoch 30/100\n",
            "1/1 [==============================] - 0s 18ms/step - loss: 10.5909 - mae: 10.5909\n",
            "Epoch 31/100\n",
            "1/1 [==============================] - 0s 15ms/step - loss: 10.4584 - mae: 10.4584\n",
            "Epoch 32/100\n",
            "1/1 [==============================] - 0s 13ms/step - loss: 10.3259 - mae: 10.3259\n",
            "Epoch 33/100\n",
            "1/1 [==============================] - 0s 15ms/step - loss: 10.1934 - mae: 10.1934\n",
            "Epoch 34/100\n",
            "1/1 [==============================] - 0s 14ms/step - loss: 10.0609 - mae: 10.0609\n",
            "Epoch 35/100\n",
            "1/1 [==============================] - 0s 14ms/step - loss: 9.9284 - mae: 9.9284\n",
            "Epoch 36/100\n",
            "1/1 [==============================] - 0s 12ms/step - loss: 9.7959 - mae: 9.7959\n",
            "Epoch 37/100\n",
            "1/1 [==============================] - 0s 16ms/step - loss: 9.6634 - mae: 9.6634\n",
            "Epoch 38/100\n",
            "1/1 [==============================] - 0s 15ms/step - loss: 9.5309 - mae: 9.5309\n",
            "Epoch 39/100\n",
            "1/1 [==============================] - 0s 11ms/step - loss: 9.3984 - mae: 9.3984\n",
            "Epoch 40/100\n",
            "1/1 [==============================] - 0s 14ms/step - loss: 9.2659 - mae: 9.2659\n",
            "Epoch 41/100\n",
            "1/1 [==============================] - 0s 15ms/step - loss: 9.1334 - mae: 9.1334\n",
            "Epoch 42/100\n",
            "1/1 [==============================] - 0s 15ms/step - loss: 9.0009 - mae: 9.0009\n",
            "Epoch 43/100\n",
            "1/1 [==============================] - 0s 16ms/step - loss: 8.8684 - mae: 8.8684\n",
            "Epoch 44/100\n",
            "1/1 [==============================] - 0s 18ms/step - loss: 8.7359 - mae: 8.7359\n",
            "Epoch 45/100\n",
            "1/1 [==============================] - 0s 15ms/step - loss: 8.6034 - mae: 8.6034\n",
            "Epoch 46/100\n",
            "1/1 [==============================] - 0s 13ms/step - loss: 8.4709 - mae: 8.4709\n",
            "Epoch 47/100\n",
            "1/1 [==============================] - 0s 18ms/step - loss: 8.3384 - mae: 8.3384\n",
            "Epoch 48/100\n",
            "1/1 [==============================] - 0s 18ms/step - loss: 8.2059 - mae: 8.2059\n",
            "Epoch 49/100\n",
            "1/1 [==============================] - 0s 17ms/step - loss: 8.0734 - mae: 8.0734\n",
            "Epoch 50/100\n",
            "1/1 [==============================] - 0s 17ms/step - loss: 7.9409 - mae: 7.9409\n",
            "Epoch 51/100\n",
            "1/1 [==============================] - 0s 15ms/step - loss: 7.8084 - mae: 7.8084\n",
            "Epoch 52/100\n",
            "1/1 [==============================] - 0s 15ms/step - loss: 7.6759 - mae: 7.6759\n",
            "Epoch 53/100\n",
            "1/1 [==============================] - 0s 16ms/step - loss: 7.5434 - mae: 7.5434\n",
            "Epoch 54/100\n",
            "1/1 [==============================] - 0s 17ms/step - loss: 7.4109 - mae: 7.4109\n",
            "Epoch 55/100\n",
            "1/1 [==============================] - 0s 14ms/step - loss: 7.2784 - mae: 7.2784\n",
            "Epoch 56/100\n",
            "1/1 [==============================] - 0s 17ms/step - loss: 7.1459 - mae: 7.1459\n",
            "Epoch 57/100\n",
            "1/1 [==============================] - 0s 16ms/step - loss: 7.0800 - mae: 7.0800\n",
            "Epoch 58/100\n",
            "1/1 [==============================] - 0s 15ms/step - loss: 7.0744 - mae: 7.0744\n",
            "Epoch 59/100\n",
            "1/1 [==============================] - 0s 16ms/step - loss: 7.0688 - mae: 7.0688\n",
            "Epoch 60/100\n",
            "1/1 [==============================] - 0s 14ms/step - loss: 7.0631 - mae: 7.0631\n",
            "Epoch 61/100\n",
            "1/1 [==============================] - 0s 13ms/step - loss: 7.0575 - mae: 7.0575\n",
            "Epoch 62/100\n",
            "1/1 [==============================] - 0s 15ms/step - loss: 7.0519 - mae: 7.0519\n",
            "Epoch 63/100\n",
            "1/1 [==============================] - 0s 13ms/step - loss: 7.0463 - mae: 7.0463\n",
            "Epoch 64/100\n",
            "1/1 [==============================] - 0s 13ms/step - loss: 7.0406 - mae: 7.0406\n",
            "Epoch 65/100\n",
            "1/1 [==============================] - 0s 15ms/step - loss: 7.0350 - mae: 7.0350\n",
            "Epoch 66/100\n",
            "1/1 [==============================] - 0s 14ms/step - loss: 7.0294 - mae: 7.0294\n",
            "Epoch 67/100\n",
            "1/1 [==============================] - 0s 15ms/step - loss: 7.0238 - mae: 7.0238\n",
            "Epoch 68/100\n",
            "1/1 [==============================] - 0s 14ms/step - loss: 7.0181 - mae: 7.0181\n",
            "Epoch 69/100\n",
            "1/1 [==============================] - 0s 15ms/step - loss: 7.0125 - mae: 7.0125\n",
            "Epoch 70/100\n",
            "1/1 [==============================] - 0s 15ms/step - loss: 7.0069 - mae: 7.0069\n",
            "Epoch 71/100\n",
            "1/1 [==============================] - 0s 12ms/step - loss: 7.0013 - mae: 7.0013\n",
            "Epoch 72/100\n",
            "1/1 [==============================] - 0s 14ms/step - loss: 6.9956 - mae: 6.9956\n",
            "Epoch 73/100\n",
            "1/1 [==============================] - 0s 13ms/step - loss: 6.9900 - mae: 6.9900\n",
            "Epoch 74/100\n",
            "1/1 [==============================] - 0s 15ms/step - loss: 6.9844 - mae: 6.9844\n",
            "Epoch 75/100\n",
            "1/1 [==============================] - 0s 16ms/step - loss: 6.9788 - mae: 6.9788\n",
            "Epoch 76/100\n",
            "1/1 [==============================] - 0s 15ms/step - loss: 6.9731 - mae: 6.9731\n",
            "Epoch 77/100\n",
            "1/1 [==============================] - 0s 16ms/step - loss: 6.9675 - mae: 6.9675\n",
            "Epoch 78/100\n",
            "1/1 [==============================] - 0s 14ms/step - loss: 6.9619 - mae: 6.9619\n",
            "Epoch 79/100\n",
            "1/1 [==============================] - 0s 17ms/step - loss: 6.9563 - mae: 6.9563\n",
            "Epoch 80/100\n",
            "1/1 [==============================] - 0s 16ms/step - loss: 6.9506 - mae: 6.9506\n",
            "Epoch 81/100\n",
            "1/1 [==============================] - 0s 14ms/step - loss: 6.9450 - mae: 6.9450\n",
            "Epoch 82/100\n",
            "1/1 [==============================] - 0s 15ms/step - loss: 6.9394 - mae: 6.9394\n",
            "Epoch 83/100\n",
            "1/1 [==============================] - 0s 15ms/step - loss: 6.9338 - mae: 6.9338\n",
            "Epoch 84/100\n",
            "1/1 [==============================] - 0s 15ms/step - loss: 6.9281 - mae: 6.9281\n",
            "Epoch 85/100\n",
            "1/1 [==============================] - 0s 17ms/step - loss: 6.9225 - mae: 6.9225\n",
            "Epoch 86/100\n",
            "1/1 [==============================] - 0s 16ms/step - loss: 6.9169 - mae: 6.9169\n",
            "Epoch 87/100\n",
            "1/1 [==============================] - 0s 17ms/step - loss: 6.9113 - mae: 6.9113\n",
            "Epoch 88/100\n",
            "1/1 [==============================] - 0s 20ms/step - loss: 6.9056 - mae: 6.9056\n",
            "Epoch 89/100\n",
            "1/1 [==============================] - 0s 13ms/step - loss: 6.9000 - mae: 6.9000\n",
            "Epoch 90/100\n",
            "1/1 [==============================] - 0s 19ms/step - loss: 6.8944 - mae: 6.8944\n",
            "Epoch 91/100\n",
            "1/1 [==============================] - 0s 16ms/step - loss: 6.8888 - mae: 6.8888\n",
            "Epoch 92/100\n",
            "1/1 [==============================] - 0s 15ms/step - loss: 6.8831 - mae: 6.8831\n",
            "Epoch 93/100\n",
            "1/1 [==============================] - 0s 15ms/step - loss: 6.8775 - mae: 6.8775\n",
            "Epoch 94/100\n",
            "1/1 [==============================] - 0s 21ms/step - loss: 6.8719 - mae: 6.8719\n",
            "Epoch 95/100\n",
            "1/1 [==============================] - 0s 20ms/step - loss: 6.8663 - mae: 6.8663\n",
            "Epoch 96/100\n",
            "1/1 [==============================] - 0s 36ms/step - loss: 6.8606 - mae: 6.8606\n",
            "Epoch 97/100\n",
            "1/1 [==============================] - 0s 32ms/step - loss: 6.8550 - mae: 6.8550\n",
            "Epoch 98/100\n",
            "1/1 [==============================] - 0s 27ms/step - loss: 6.8494 - mae: 6.8494\n",
            "Epoch 99/100\n",
            "1/1 [==============================] - 0s 15ms/step - loss: 6.8438 - mae: 6.8438\n",
            "Epoch 100/100\n",
            "1/1 [==============================] - 0s 22ms/step - loss: 6.8381 - mae: 6.8381\n"
          ]
        },
        {
          "data": {
            "text/plain": [
              "<keras.callbacks.History at 0x7f83d847f2e0>"
            ]
          },
          "execution_count": 16,
          "metadata": {},
          "output_type": "execute_result"
        }
      ],
      "source": [
        "# let's rebuild our model\n",
        "\n",
        "# 1. Create the model\n",
        "model = tf.keras.Sequential([\n",
        "    tf.keras.layers.Dense(1)\n",
        "])\n",
        "\n",
        "# 2. Compile the model\n",
        "model.compile(loss=tf.keras.losses.mae, optimizer=tf.keras.optimizers.SGD(), metrics=['mae'])\n",
        "\n",
        "# 3. Fit the model (this time we train for longer)\n",
        "model.fit(tf.expand_dims(x, axis=1), y, epochs=100)"
      ]
    },
    {
      "cell_type": "code",
      "execution_count": 17,
      "metadata": {
        "colab": {
          "base_uri": "https://localhost:8080/"
        },
        "id": "tFCU42aOOM35",
        "outputId": "633ccb26-6b2f-4185-c93f-696557d1ecca"
      },
      "outputs": [
        {
          "data": {
            "text/plain": [
              "(<tf.Tensor: shape=(8,), dtype=float64, numpy=array([-7., -4., -1.,  2.,  5.,  8., 11., 14.])>,\n",
              " <tf.Tensor: shape=(8,), dtype=float64, numpy=array([ 3.,  6.,  9., 12., 15., 18., 21., 24.])>)"
            ]
          },
          "execution_count": 17,
          "metadata": {},
          "output_type": "execute_result"
        }
      ],
      "source": [
        "# Remind ourselves of the data\n",
        "x, y"
      ]
    },
    {
      "cell_type": "code",
      "execution_count": 18,
      "metadata": {
        "colab": {
          "base_uri": "https://localhost:8080/"
        },
        "id": "xIl3oLYSOM36",
        "outputId": "6f4d0337-f46c-475d-b4e8-aac9dcfa9d35"
      },
      "outputs": [
        {
          "name": "stdout",
          "output_type": "stream",
          "text": [
            "1/1 [==============================] - 0s 197ms/step\n"
          ]
        },
        {
          "data": {
            "text/plain": [
              "array([[29.676107]], dtype=float32)"
            ]
          },
          "execution_count": 18,
          "metadata": {},
          "output_type": "execute_result"
        }
      ],
      "source": [
        "model.predict([17.0])"
      ]
    },
    {
      "cell_type": "code",
      "execution_count": 19,
      "metadata": {
        "colab": {
          "base_uri": "https://localhost:8080/"
        },
        "id": "-0etBms9OM36",
        "outputId": "d0356a39-21a2-4836-e241-7b47eee66529"
      },
      "outputs": [
        {
          "name": "stdout",
          "output_type": "stream",
          "text": [
            "Epoch 1/100\n",
            "1/1 [==============================] - 1s 1s/step - loss: 13.2847 - mae: 13.2847\n",
            "Epoch 2/100\n",
            "1/1 [==============================] - 0s 26ms/step - loss: 12.6087 - mae: 12.6087\n",
            "Epoch 3/100\n",
            "1/1 [==============================] - 0s 23ms/step - loss: 11.9387 - mae: 11.9387\n",
            "Epoch 4/100\n",
            "1/1 [==============================] - 0s 24ms/step - loss: 11.2857 - mae: 11.2857\n",
            "Epoch 5/100\n",
            "1/1 [==============================] - 0s 16ms/step - loss: 10.6423 - mae: 10.6423\n",
            "Epoch 6/100\n",
            "1/1 [==============================] - 0s 18ms/step - loss: 9.9991 - mae: 9.9991\n",
            "Epoch 7/100\n",
            "1/1 [==============================] - 0s 27ms/step - loss: 9.3747 - mae: 9.3747\n",
            "Epoch 8/100\n",
            "1/1 [==============================] - 0s 17ms/step - loss: 8.7550 - mae: 8.7550\n",
            "Epoch 9/100\n",
            "1/1 [==============================] - 0s 21ms/step - loss: 8.2049 - mae: 8.2049\n",
            "Epoch 10/100\n",
            "1/1 [==============================] - 0s 19ms/step - loss: 7.6851 - mae: 7.6851\n",
            "Epoch 11/100\n",
            "1/1 [==============================] - 0s 19ms/step - loss: 7.1562 - mae: 7.1562\n",
            "Epoch 12/100\n",
            "1/1 [==============================] - 0s 17ms/step - loss: 6.6186 - mae: 6.6186\n",
            "Epoch 13/100\n",
            "1/1 [==============================] - 0s 17ms/step - loss: 6.0643 - mae: 6.0643\n",
            "Epoch 14/100\n",
            "1/1 [==============================] - 0s 16ms/step - loss: 5.4911 - mae: 5.4911\n",
            "Epoch 15/100\n",
            "1/1 [==============================] - 0s 20ms/step - loss: 4.8977 - mae: 4.8977\n",
            "Epoch 16/100\n",
            "1/1 [==============================] - 0s 18ms/step - loss: 4.2847 - mae: 4.2847\n",
            "Epoch 17/100\n",
            "1/1 [==============================] - 0s 20ms/step - loss: 3.9038 - mae: 3.9038\n",
            "Epoch 18/100\n",
            "1/1 [==============================] - 0s 17ms/step - loss: 3.7450 - mae: 3.7450\n",
            "Epoch 19/100\n",
            "1/1 [==============================] - 0s 22ms/step - loss: 3.8574 - mae: 3.8574\n",
            "Epoch 20/100\n",
            "1/1 [==============================] - 0s 23ms/step - loss: 3.9536 - mae: 3.9536\n",
            "Epoch 21/100\n",
            "1/1 [==============================] - 0s 18ms/step - loss: 4.0354 - mae: 4.0354\n",
            "Epoch 22/100\n",
            "1/1 [==============================] - 0s 18ms/step - loss: 4.2089 - mae: 4.2089\n",
            "Epoch 23/100\n",
            "1/1 [==============================] - 0s 15ms/step - loss: 4.3144 - mae: 4.3144\n",
            "Epoch 24/100\n",
            "1/1 [==============================] - 0s 17ms/step - loss: 4.3592 - mae: 4.3592\n",
            "Epoch 25/100\n",
            "1/1 [==============================] - 0s 17ms/step - loss: 4.3505 - mae: 4.3505\n",
            "Epoch 26/100\n",
            "1/1 [==============================] - 0s 15ms/step - loss: 4.2950 - mae: 4.2950\n",
            "Epoch 27/100\n",
            "1/1 [==============================] - 0s 18ms/step - loss: 4.1990 - mae: 4.1990\n",
            "Epoch 28/100\n",
            "1/1 [==============================] - 0s 19ms/step - loss: 4.0695 - mae: 4.0695\n",
            "Epoch 29/100\n",
            "1/1 [==============================] - 0s 24ms/step - loss: 3.9141 - mae: 3.9141\n",
            "Epoch 30/100\n",
            "1/1 [==============================] - 0s 27ms/step - loss: 3.8485 - mae: 3.8485\n",
            "Epoch 31/100\n",
            "1/1 [==============================] - 0s 19ms/step - loss: 3.7826 - mae: 3.7826\n",
            "Epoch 32/100\n",
            "1/1 [==============================] - 0s 18ms/step - loss: 3.7164 - mae: 3.7164\n",
            "Epoch 33/100\n",
            "1/1 [==============================] - 0s 17ms/step - loss: 3.6499 - mae: 3.6499\n",
            "Epoch 34/100\n",
            "1/1 [==============================] - 0s 24ms/step - loss: 3.5829 - mae: 3.5829\n",
            "Epoch 35/100\n",
            "1/1 [==============================] - 0s 17ms/step - loss: 3.5159 - mae: 3.5159\n",
            "Epoch 36/100\n",
            "1/1 [==============================] - 0s 13ms/step - loss: 3.5007 - mae: 3.5007\n",
            "Epoch 37/100\n",
            "1/1 [==============================] - 0s 16ms/step - loss: 3.5326 - mae: 3.5326\n",
            "Epoch 38/100\n",
            "1/1 [==============================] - 0s 16ms/step - loss: 3.5469 - mae: 3.5469\n",
            "Epoch 39/100\n",
            "1/1 [==============================] - 0s 13ms/step - loss: 3.5463 - mae: 3.5463\n",
            "Epoch 40/100\n",
            "1/1 [==============================] - 0s 17ms/step - loss: 3.5320 - mae: 3.5320\n",
            "Epoch 41/100\n",
            "1/1 [==============================] - 0s 20ms/step - loss: 3.5049 - mae: 3.5049\n",
            "Epoch 42/100\n",
            "1/1 [==============================] - 0s 27ms/step - loss: 3.4968 - mae: 3.4968\n",
            "Epoch 43/100\n",
            "1/1 [==============================] - 0s 32ms/step - loss: 3.4574 - mae: 3.4574\n",
            "Epoch 44/100\n",
            "1/1 [==============================] - 0s 33ms/step - loss: 3.3793 - mae: 3.3793\n",
            "Epoch 45/100\n",
            "1/1 [==============================] - 0s 19ms/step - loss: 3.3186 - mae: 3.3186\n",
            "Epoch 46/100\n",
            "1/1 [==============================] - 0s 15ms/step - loss: 3.2548 - mae: 3.2548\n",
            "Epoch 47/100\n",
            "1/1 [==============================] - 0s 15ms/step - loss: 3.2631 - mae: 3.2631\n",
            "Epoch 48/100\n",
            "1/1 [==============================] - 0s 16ms/step - loss: 3.2713 - mae: 3.2713\n",
            "Epoch 49/100\n",
            "1/1 [==============================] - 0s 27ms/step - loss: 3.2702 - mae: 3.2702\n",
            "Epoch 50/100\n",
            "1/1 [==============================] - 0s 18ms/step - loss: 3.2607 - mae: 3.2607\n",
            "Epoch 51/100\n",
            "1/1 [==============================] - 0s 28ms/step - loss: 3.2432 - mae: 3.2432\n",
            "Epoch 52/100\n",
            "1/1 [==============================] - 0s 19ms/step - loss: 3.2179 - mae: 3.2179\n",
            "Epoch 53/100\n",
            "1/1 [==============================] - 0s 16ms/step - loss: 3.1839 - mae: 3.1839\n",
            "Epoch 54/100\n",
            "1/1 [==============================] - 0s 17ms/step - loss: 3.1429 - mae: 3.1429\n",
            "Epoch 55/100\n",
            "1/1 [==============================] - 0s 24ms/step - loss: 3.0952 - mae: 3.0952\n",
            "Epoch 56/100\n",
            "1/1 [==============================] - 0s 24ms/step - loss: 3.0389 - mae: 3.0389\n",
            "Epoch 57/100\n",
            "1/1 [==============================] - 0s 21ms/step - loss: 2.9721 - mae: 2.9721\n",
            "Epoch 58/100\n",
            "1/1 [==============================] - 0s 34ms/step - loss: 2.9037 - mae: 2.9037\n",
            "Epoch 59/100\n",
            "1/1 [==============================] - 0s 19ms/step - loss: 2.8399 - mae: 2.8399\n",
            "Epoch 60/100\n",
            "1/1 [==============================] - 0s 21ms/step - loss: 2.8252 - mae: 2.8252\n",
            "Epoch 61/100\n",
            "1/1 [==============================] - 0s 19ms/step - loss: 2.8063 - mae: 2.8063\n",
            "Epoch 62/100\n",
            "1/1 [==============================] - 0s 24ms/step - loss: 2.7568 - mae: 2.7568\n",
            "Epoch 63/100\n",
            "1/1 [==============================] - 0s 19ms/step - loss: 2.6719 - mae: 2.6719\n",
            "Epoch 64/100\n",
            "1/1 [==============================] - 0s 15ms/step - loss: 2.6229 - mae: 2.6229\n",
            "Epoch 65/100\n",
            "1/1 [==============================] - 0s 22ms/step - loss: 2.5953 - mae: 2.5953\n",
            "Epoch 66/100\n",
            "1/1 [==============================] - 0s 17ms/step - loss: 2.5576 - mae: 2.5576\n",
            "Epoch 67/100\n",
            "1/1 [==============================] - 0s 20ms/step - loss: 2.5072 - mae: 2.5072\n",
            "Epoch 68/100\n",
            "1/1 [==============================] - 0s 21ms/step - loss: 2.4464 - mae: 2.4464\n",
            "Epoch 69/100\n",
            "1/1 [==============================] - 0s 22ms/step - loss: 2.3845 - mae: 2.3845\n",
            "Epoch 70/100\n",
            "1/1 [==============================] - 0s 19ms/step - loss: 2.3223 - mae: 2.3223\n",
            "Epoch 71/100\n",
            "1/1 [==============================] - 0s 16ms/step - loss: 2.2688 - mae: 2.2688\n",
            "Epoch 72/100\n",
            "1/1 [==============================] - 0s 14ms/step - loss: 2.2093 - mae: 2.2093\n",
            "Epoch 73/100\n",
            "1/1 [==============================] - 0s 14ms/step - loss: 2.1412 - mae: 2.1412\n",
            "Epoch 74/100\n",
            "1/1 [==============================] - 0s 18ms/step - loss: 2.1146 - mae: 2.1146\n",
            "Epoch 75/100\n",
            "1/1 [==============================] - 0s 20ms/step - loss: 2.0217 - mae: 2.0217\n",
            "Epoch 76/100\n",
            "1/1 [==============================] - 0s 23ms/step - loss: 1.9614 - mae: 1.9614\n",
            "Epoch 77/100\n",
            "1/1 [==============================] - 0s 12ms/step - loss: 1.8913 - mae: 1.8913\n",
            "Epoch 78/100\n",
            "1/1 [==============================] - 0s 12ms/step - loss: 1.8366 - mae: 1.8366\n",
            "Epoch 79/100\n",
            "1/1 [==============================] - 0s 13ms/step - loss: 1.7745 - mae: 1.7745\n",
            "Epoch 80/100\n",
            "1/1 [==============================] - 0s 27ms/step - loss: 1.7018 - mae: 1.7018\n",
            "Epoch 81/100\n",
            "1/1 [==============================] - 0s 28ms/step - loss: 1.6185 - mae: 1.6185\n",
            "Epoch 82/100\n",
            "1/1 [==============================] - 0s 23ms/step - loss: 1.5255 - mae: 1.5255\n",
            "Epoch 83/100\n",
            "1/1 [==============================] - 0s 38ms/step - loss: 1.4699 - mae: 1.4699\n",
            "Epoch 84/100\n",
            "1/1 [==============================] - 0s 53ms/step - loss: 1.4000 - mae: 1.4000\n",
            "Epoch 85/100\n",
            "1/1 [==============================] - 0s 29ms/step - loss: 1.2961 - mae: 1.2961\n",
            "Epoch 86/100\n",
            "1/1 [==============================] - 0s 21ms/step - loss: 1.1863 - mae: 1.1863\n",
            "Epoch 87/100\n",
            "1/1 [==============================] - 0s 33ms/step - loss: 1.1002 - mae: 1.1002\n",
            "Epoch 88/100\n",
            "1/1 [==============================] - 0s 34ms/step - loss: 0.9964 - mae: 0.9964\n",
            "Epoch 89/100\n",
            "1/1 [==============================] - 0s 19ms/step - loss: 0.8862 - mae: 0.8862\n",
            "Epoch 90/100\n",
            "1/1 [==============================] - 0s 28ms/step - loss: 0.7781 - mae: 0.7781\n",
            "Epoch 91/100\n",
            "1/1 [==============================] - 0s 30ms/step - loss: 0.6690 - mae: 0.6690\n",
            "Epoch 92/100\n",
            "1/1 [==============================] - 0s 16ms/step - loss: 0.5472 - mae: 0.5472\n",
            "Epoch 93/100\n",
            "1/1 [==============================] - 0s 17ms/step - loss: 0.4722 - mae: 0.4722\n",
            "Epoch 94/100\n",
            "1/1 [==============================] - 0s 18ms/step - loss: 0.3961 - mae: 0.3961\n",
            "Epoch 95/100\n",
            "1/1 [==============================] - 0s 17ms/step - loss: 0.3619 - mae: 0.3619\n",
            "Epoch 96/100\n",
            "1/1 [==============================] - 0s 33ms/step - loss: 0.3309 - mae: 0.3309\n",
            "Epoch 97/100\n",
            "1/1 [==============================] - 0s 16ms/step - loss: 0.2929 - mae: 0.2929\n",
            "Epoch 98/100\n",
            "1/1 [==============================] - 0s 12ms/step - loss: 0.3070 - mae: 0.3070\n",
            "Epoch 99/100\n",
            "1/1 [==============================] - 0s 22ms/step - loss: 0.2948 - mae: 0.2948\n",
            "Epoch 100/100\n",
            "1/1 [==============================] - 0s 24ms/step - loss: 0.3155 - mae: 0.3155\n"
          ]
        },
        {
          "data": {
            "text/plain": [
              "<keras.callbacks.History at 0x7f83d8256920>"
            ]
          },
          "execution_count": 19,
          "metadata": {},
          "output_type": "execute_result"
        }
      ],
      "source": [
        "model = tf.keras.Sequential([\n",
        "    tf.keras.layers.Dense(50, activation=\"relu\"),\n",
        "    # tf.keras.layers.Dense(100, activation=\"relu\"),\n",
        "    # tf.keras.layers.Dense(100, activation=\"relu\"),\n",
        "    tf.keras.layers.Dense(1)\n",
        "])\n",
        "\n",
        "model.compile(loss=tf.keras.losses.mae, optimizer=tf.keras.optimizers.Adam(learning_rate=0.01), metrics=[\"mae\"])\n",
        "\n",
        "model.fit(tf.expand_dims(x, axis=1), y, epochs=100)"
      ]
    },
    {
      "cell_type": "code",
      "execution_count": 20,
      "metadata": {
        "colab": {
          "base_uri": "https://localhost:8080/"
        },
        "id": "HIJ-8KbkOM37",
        "outputId": "a9106add-51ea-4c5e-9112-0014ff11bdfa"
      },
      "outputs": [
        {
          "data": {
            "text/plain": [
              "(<tf.Tensor: shape=(8,), dtype=float64, numpy=array([-7., -4., -1.,  2.,  5.,  8., 11., 14.])>,\n",
              " <tf.Tensor: shape=(8,), dtype=float64, numpy=array([ 3.,  6.,  9., 12., 15., 18., 21., 24.])>)"
            ]
          },
          "execution_count": 20,
          "metadata": {},
          "output_type": "execute_result"
        }
      ],
      "source": [
        "# let's remind ourselves of the data\n",
        "x, y"
      ]
    },
    {
      "cell_type": "code",
      "execution_count": 21,
      "metadata": {
        "colab": {
          "base_uri": "https://localhost:8080/"
        },
        "id": "TKSDeDxQOM37",
        "outputId": "abe37b3b-9b15-4da0-a0b6-ea4e0a340a12"
      },
      "outputs": [
        {
          "name": "stdout",
          "output_type": "stream",
          "text": [
            "1/1 [==============================] - 0s 215ms/step\n"
          ]
        },
        {
          "data": {
            "text/plain": [
              "array([[27.166494]], dtype=float32)"
            ]
          },
          "execution_count": 21,
          "metadata": {},
          "output_type": "execute_result"
        }
      ],
      "source": [
        "model.predict([17.0])"
      ]
    },
    {
      "cell_type": "markdown",
      "metadata": {
        "id": "ygnpVAjIOM37"
      },
      "source": [
        "# Evaluating a Modal"
      ]
    },
    {
      "cell_type": "code",
      "execution_count": 22,
      "metadata": {
        "colab": {
          "base_uri": "https://localhost:8080/"
        },
        "id": "yhDC4D1aOM38",
        "outputId": "331defaf-b62d-42ca-a440-b4a862c03576"
      },
      "outputs": [
        {
          "data": {
            "text/plain": [
              "<tf.Tensor: shape=(50,), dtype=int32, numpy=\n",
              "array([-100,  -96,  -92,  -88,  -84,  -80,  -76,  -72,  -68,  -64,  -60,\n",
              "        -56,  -52,  -48,  -44,  -40,  -36,  -32,  -28,  -24,  -20,  -16,\n",
              "        -12,   -8,   -4,    0,    4,    8,   12,   16,   20,   24,   28,\n",
              "         32,   36,   40,   44,   48,   52,   56,   60,   64,   68,   72,\n",
              "         76,   80,   84,   88,   92,   96], dtype=int32)>"
            ]
          },
          "execution_count": 22,
          "metadata": {},
          "output_type": "execute_result"
        }
      ],
      "source": [
        "# Make a bigger dataset\n",
        "x = tf.range(-100, 100, 4)\n",
        "x\n"
      ]
    },
    {
      "cell_type": "code",
      "execution_count": 23,
      "metadata": {
        "colab": {
          "base_uri": "https://localhost:8080/"
        },
        "id": "R0Y8-fQ_OM38",
        "outputId": "3cf929b7-e006-4d79-9c77-6c115f29ae0b"
      },
      "outputs": [
        {
          "data": {
            "text/plain": [
              "<tf.Tensor: shape=(50,), dtype=int32, numpy=\n",
              "array([-90, -86, -82, -78, -74, -70, -66, -62, -58, -54, -50, -46, -42,\n",
              "       -38, -34, -30, -26, -22, -18, -14, -10,  -6,  -2,   2,   6,  10,\n",
              "        14,  18,  22,  26,  30,  34,  38,  42,  46,  50,  54,  58,  62,\n",
              "        66,  70,  74,  78,  82,  86,  90,  94,  98, 102, 106], dtype=int32)>"
            ]
          },
          "execution_count": 23,
          "metadata": {},
          "output_type": "execute_result"
        }
      ],
      "source": [
        "y = x + 10\n",
        "y"
      ]
    },
    {
      "cell_type": "code",
      "execution_count": 24,
      "metadata": {
        "colab": {
          "base_uri": "https://localhost:8080/",
          "height": 447
        },
        "id": "jEPFTM6lOM38",
        "outputId": "44fdedd4-a903-4687-c225-3441b49a3687"
      },
      "outputs": [
        {
          "data": {
            "text/plain": [
              "<matplotlib.collections.PathCollection at 0x7f83d8170e50>"
            ]
          },
          "execution_count": 24,
          "metadata": {},
          "output_type": "execute_result"
        },
        {
          "data": {
            "image/png": "[encoded data removed]",
            "text/plain": [
              "<Figure size 640x480 with 1 Axes>"
            ]
          },
          "metadata": {},
          "output_type": "display_data"
        }
      ],
      "source": [
        "# visualize the data\n",
        "import matplotlib.pyplot as plt\n",
        "plt.scatter(x, y)"
      ]
    },
    {
      "cell_type": "markdown",
      "metadata": {
        "id": "eaHAlGt3OM39"
      },
      "source": [
        "### The 3 sets...\n",
        "* Training set - the model learns from this data, which is typically 70-80% of the total data you have available.\n",
        "* Validation set - the model gets tuned on this data, which is typically 10-15% of the data available.\n",
        "* Test set - the model gets evaluated on this data to test what it has learned, this set is typically 10-15% of the total data available."
      ]
    },
    {
      "cell_type": "code",
      "execution_count": 25,
      "metadata": {
        "colab": {
          "base_uri": "https://localhost:8080/"
        },
        "id": "fv-fGKduOM39",
        "outputId": "94a1a88b-9e4d-4e5d-bb5e-d48f2862f864"
      },
      "outputs": [
        {
          "data": {
            "text/plain": [
              "50"
            ]
          },
          "execution_count": 25,
          "metadata": {},
          "output_type": "execute_result"
        }
      ],
      "source": [
        "# Check the length of how many samples we have\n",
        "len(x)"
      ]
    },
    {
      "cell_type": "code",
      "execution_count": 26,
      "metadata": {
        "colab": {
          "base_uri": "https://localhost:8080/"
        },
        "id": "zl9XhIwAOM3-",
        "outputId": "376af47f-f5df-4351-be6d-9303a16ebb6e"
      },
      "outputs": [
        {
          "data": {
            "text/plain": [
              "(40, 10, 40, 10)"
            ]
          },
          "execution_count": 26,
          "metadata": {},
          "output_type": "execute_result"
        }
      ],
      "source": [
        "# Split the data into train and test sets\n",
        "x_train = x[:40] # first 40 are training samples (80% of the data)\n",
        "x_test = x[40:] # last 10 are testing samples (20% of the data)\n",
        "\n",
        "y_train = y[:40] # first 40 are training samples (80% of the data)\n",
        "y_test = y[40:] # last 10 are testing samples (20% of the data)\n",
        "\n",
        "len(x_train), len(x_test), len(y_train), len(y_test)"
      ]
    },
    {
      "cell_type": "markdown",
      "metadata": {
        "id": "z2JiSavlOM3_"
      },
      "source": [
        "### Visualizing the data ###"
      ]
    },
    {
      "cell_type": "code",
      "execution_count": 27,
      "metadata": {
        "colab": {
          "base_uri": "https://localhost:8080/",
          "height": 592
        },
        "id": "2StDP56NOM3_",
        "outputId": "cc892b29-ffce-4072-a81f-136b1acce80f"
      },
      "outputs": [
        {
          "data": {
            "text/plain": [
              "<matplotlib.legend.Legend at 0x7f838c6752d0>"
            ]
          },
          "execution_count": 27,
          "metadata": {},
          "output_type": "execute_result"
        },
        {
          "data": {
            "image/png": "[encoded data removed]",
            "text/plain": [
              "<Figure size 1000x700 with 1 Axes>"
            ]
          },
          "metadata": {},
          "output_type": "display_data"
        }
      ],
      "source": [
        "plt.figure(figsize=(10, 7))\n",
        "# Plot training data in blue\n",
        "plt.scatter(x_train, y_train, c=\"b\", label=\"Training data\")\n",
        "# Plot test data in green\n",
        "plt.scatter(x_test, y_test, c=\"g\", label=\"Testing data\")\n",
        "# show a legend\n",
        "plt.legend()"
      ]
    },
    {
      "cell_type": "code",
      "execution_count": 28,
      "metadata": {
        "id": "st-Drvy4OM3_"
      },
      "outputs": [],
      "source": [
        "# Lets have a look at how to build a neural network for our data\n",
        "\n",
        "# 1. Create a model\n",
        "model = tf.keras.Sequential([\n",
        "    tf.keras.layers.Dense(1)\n",
        "])\n",
        "\n",
        "# 2. Compile the model\n",
        "model.compile(loss=tf.keras.losses.mae, optimizer=tf.keras.optimizers.SGD(), metrics=[\"mae\"])\n",
        "\n",
        "# # 3. Fit the model\n",
        "# model.fit(x_train, y_train, epochs=100)"
      ]
    },
    {
      "cell_type": "markdown",
      "metadata": {
        "id": "QQz0inCAOM4A"
      },
      "source": [
        "# Visualizing the data"
      ]
    },
    {
      "cell_type": "code",
      "execution_count": 29,
      "metadata": {
        "id": "U-yBFW2pOM4A"
      },
      "outputs": [],
      "source": [
        "# Let's create a model which builds automatically by defining the input_shape argument in the first layer\n",
        "tf.random.set_seed(42)\n",
        "\n",
        "# Create a model (same as above)\n",
        "model = tf.keras.Sequential([\n",
        "    tf.keras.layers.Dense(10, input_shape=[1], name=\"input_layer\"),\n",
        "    tf.keras.layers.Dense(1, name=\"output_layer\")\n",
        "], name=\"modal_1\")\n",
        "\n",
        "# Compile the model\n",
        "model.compile(loss=tf.keras.losses.mae, optimizer=tf.keras.optimizers.SGD(), metrics=[\"mae\"])\n",
        "\n"
      ]
    },
    {
      "cell_type": "code",
      "execution_count": 30,
      "metadata": {
        "colab": {
          "base_uri": "https://localhost:8080/"
        },
        "id": "PpQ83i2zOM4A",
        "outputId": "5c6a71a3-f7bb-4150-bc86-21230f32764d"
      },
      "outputs": [
        {
          "name": "stdout",
          "output_type": "stream",
          "text": [
            "Model: \"modal_1\"\n",
            "_________________________________________________________________\n",
            " Layer (type)                Output Shape              Param #   \n",
            "=================================================================\n",
            " input_layer (Dense)         (None, 10)                20        \n",
            "                                                                 \n",
            " output_layer (Dense)        (None, 1)                 11        \n",
            "                                                                 \n",
            "=================================================================\n",
            "Total params: 31\n",
            "Trainable params: 31\n",
            "Non-trainable params: 0\n",
            "_________________________________________________________________\n"
          ]
        }
      ],
      "source": [
        "model.summary()"
      ]
    },
    {
      "cell_type": "code",
      "execution_count": 31,
      "metadata": {
        "colab": {
          "base_uri": "https://localhost:8080/"
        },
        "id": "sFJ8mqjwOM4B",
        "outputId": "3cd75735-93fc-4dc0-cdb9-1c9c84118285"
      },
      "outputs": [
        {
          "name": "stdout",
          "output_type": "stream",
          "text": [
            "Epoch 1/100\n",
            "2/2 [==============================] - 1s 16ms/step - loss: 32.0557 - mae: 32.0557\n",
            "Epoch 2/100\n",
            "2/2 [==============================] - 0s 13ms/step - loss: 27.6108 - mae: 27.6108\n",
            "Epoch 3/100\n",
            "2/2 [==============================] - 0s 17ms/step - loss: 31.9528 - mae: 31.9528\n",
            "Epoch 4/100\n",
            "2/2 [==============================] - 0s 11ms/step - loss: 15.0167 - mae: 15.0167\n",
            "Epoch 5/100\n",
            "2/2 [==============================] - 0s 16ms/step - loss: 22.4886 - mae: 22.4886\n",
            "Epoch 6/100\n",
            "2/2 [==============================] - 0s 11ms/step - loss: 12.9938 - mae: 12.9938\n",
            "Epoch 7/100\n",
            "2/2 [==============================] - 0s 9ms/step - loss: 12.2808 - mae: 12.2808\n",
            "Epoch 8/100\n",
            "2/2 [==============================] - 0s 13ms/step - loss: 14.0559 - mae: 14.0559\n",
            "Epoch 9/100\n",
            "2/2 [==============================] - 0s 12ms/step - loss: 32.3771 - mae: 32.3771\n",
            "Epoch 10/100\n",
            "2/2 [==============================] - 0s 24ms/step - loss: 21.9215 - mae: 21.9215\n",
            "Epoch 11/100\n",
            "2/2 [==============================] - 0s 14ms/step - loss: 11.8361 - mae: 11.8361\n",
            "Epoch 12/100\n",
            "2/2 [==============================] - 0s 14ms/step - loss: 23.7000 - mae: 23.7000\n",
            "Epoch 13/100\n",
            "2/2 [==============================] - 0s 12ms/step - loss: 21.2515 - mae: 21.2515\n",
            "Epoch 14/100\n",
            "2/2 [==============================] - 0s 9ms/step - loss: 23.7325 - mae: 23.7325\n",
            "Epoch 15/100\n",
            "2/2 [==============================] - 0s 12ms/step - loss: 15.7919 - mae: 15.7919\n",
            "Epoch 16/100\n",
            "2/2 [==============================] - 0s 11ms/step - loss: 10.4461 - mae: 10.4461\n",
            "Epoch 17/100\n",
            "2/2 [==============================] - 0s 10ms/step - loss: 19.7186 - mae: 19.7186\n",
            "Epoch 18/100\n",
            "2/2 [==============================] - 0s 10ms/step - loss: 13.3412 - mae: 13.3412\n",
            "Epoch 19/100\n",
            "2/2 [==============================] - 0s 11ms/step - loss: 16.3422 - mae: 16.3422\n",
            "Epoch 20/100\n",
            "2/2 [==============================] - 0s 10ms/step - loss: 8.2541 - mae: 8.2541\n",
            "Epoch 21/100\n",
            "2/2 [==============================] - 0s 12ms/step - loss: 14.4720 - mae: 14.4720\n",
            "Epoch 22/100\n",
            "2/2 [==============================] - 0s 10ms/step - loss: 12.8907 - mae: 12.8907\n",
            "Epoch 23/100\n",
            "2/2 [==============================] - 0s 13ms/step - loss: 15.5220 - mae: 15.5220\n",
            "Epoch 24/100\n",
            "2/2 [==============================] - 0s 15ms/step - loss: 15.3123 - mae: 15.3123\n",
            "Epoch 25/100\n",
            "2/2 [==============================] - 0s 13ms/step - loss: 14.3699 - mae: 14.3699\n",
            "Epoch 26/100\n",
            "2/2 [==============================] - 0s 11ms/step - loss: 19.3990 - mae: 19.3990\n",
            "Epoch 27/100\n",
            "2/2 [==============================] - 0s 11ms/step - loss: 11.4257 - mae: 11.4257\n",
            "Epoch 28/100\n",
            "2/2 [==============================] - 0s 12ms/step - loss: 28.9253 - mae: 28.9253\n",
            "Epoch 29/100\n",
            "2/2 [==============================] - 0s 12ms/step - loss: 9.2509 - mae: 9.2509\n",
            "Epoch 30/100\n",
            "2/2 [==============================] - 0s 11ms/step - loss: 29.6987 - mae: 29.6987\n",
            "Epoch 31/100\n",
            "2/2 [==============================] - 0s 12ms/step - loss: 53.8704 - mae: 53.8704\n",
            "Epoch 32/100\n",
            "2/2 [==============================] - 0s 11ms/step - loss: 9.5395 - mae: 9.5395\n",
            "Epoch 33/100\n",
            "2/2 [==============================] - 0s 14ms/step - loss: 12.1263 - mae: 12.1263\n",
            "Epoch 34/100\n",
            "2/2 [==============================] - 0s 11ms/step - loss: 23.7454 - mae: 23.7454\n",
            "Epoch 35/100\n",
            "2/2 [==============================] - 0s 12ms/step - loss: 12.6467 - mae: 12.6467\n",
            "Epoch 36/100\n",
            "2/2 [==============================] - 0s 12ms/step - loss: 21.5862 - mae: 21.5862\n",
            "Epoch 37/100\n",
            "2/2 [==============================] - 0s 11ms/step - loss: 11.3330 - mae: 11.3330\n",
            "Epoch 38/100\n",
            "2/2 [==============================] - 0s 15ms/step - loss: 13.3854 - mae: 13.3854\n",
            "Epoch 39/100\n",
            "2/2 [==============================] - 0s 9ms/step - loss: 10.7529 - mae: 10.7529\n",
            "Epoch 40/100\n",
            "2/2 [==============================] - 0s 12ms/step - loss: 16.4858 - mae: 16.4858\n",
            "Epoch 41/100\n",
            "2/2 [==============================] - 0s 12ms/step - loss: 10.9194 - mae: 10.9194\n",
            "Epoch 42/100\n",
            "2/2 [==============================] - 0s 14ms/step - loss: 9.2612 - mae: 9.2612\n",
            "Epoch 43/100\n",
            "2/2 [==============================] - 0s 15ms/step - loss: 9.5818 - mae: 9.5818\n",
            "Epoch 44/100\n",
            "2/2 [==============================] - 0s 13ms/step - loss: 27.8333 - mae: 27.8333\n",
            "Epoch 45/100\n",
            "2/2 [==============================] - 0s 22ms/step - loss: 11.2435 - mae: 11.2435\n",
            "Epoch 46/100\n",
            "2/2 [==============================] - 0s 41ms/step - loss: 13.8148 - mae: 13.8148\n",
            "Epoch 47/100\n",
            "2/2 [==============================] - 0s 19ms/step - loss: 11.9373 - mae: 11.9373\n",
            "Epoch 48/100\n",
            "2/2 [==============================] - 0s 24ms/step - loss: 16.9803 - mae: 16.9803\n",
            "Epoch 49/100\n",
            "2/2 [==============================] - 0s 28ms/step - loss: 9.7595 - mae: 9.7595\n",
            "Epoch 50/100\n",
            "2/2 [==============================] - 0s 20ms/step - loss: 14.1401 - mae: 14.1401\n",
            "Epoch 51/100\n",
            "2/2 [==============================] - 0s 15ms/step - loss: 11.7271 - mae: 11.7271\n",
            "Epoch 52/100\n",
            "2/2 [==============================] - 0s 21ms/step - loss: 31.3188 - mae: 31.3188\n",
            "Epoch 53/100\n",
            "2/2 [==============================] - 0s 21ms/step - loss: 14.6952 - mae: 14.6952\n",
            "Epoch 54/100\n",
            "2/2 [==============================] - 0s 23ms/step - loss: 24.5626 - mae: 24.5626\n",
            "Epoch 55/100\n",
            "2/2 [==============================] - 0s 21ms/step - loss: 23.8417 - mae: 23.8417\n",
            "Epoch 56/100\n",
            "2/2 [==============================] - 0s 13ms/step - loss: 11.1053 - mae: 11.1053\n",
            "Epoch 57/100\n",
            "2/2 [==============================] - 0s 20ms/step - loss: 13.0393 - mae: 13.0393\n",
            "Epoch 58/100\n",
            "2/2 [==============================] - 0s 16ms/step - loss: 9.7703 - mae: 9.7703\n",
            "Epoch 59/100\n",
            "2/2 [==============================] - 0s 30ms/step - loss: 13.2180 - mae: 13.2180\n",
            "Epoch 60/100\n",
            "2/2 [==============================] - 0s 14ms/step - loss: 10.8228 - mae: 10.8228\n",
            "Epoch 61/100\n",
            "2/2 [==============================] - 0s 20ms/step - loss: 13.4004 - mae: 13.4004\n",
            "Epoch 62/100\n",
            "2/2 [==============================] - 0s 21ms/step - loss: 17.3575 - mae: 17.3575\n",
            "Epoch 63/100\n",
            "2/2 [==============================] - 0s 20ms/step - loss: 9.1323 - mae: 9.1323\n",
            "Epoch 64/100\n",
            "2/2 [==============================] - 0s 15ms/step - loss: 17.9811 - mae: 17.9811\n",
            "Epoch 65/100\n",
            "2/2 [==============================] - 0s 16ms/step - loss: 10.6192 - mae: 10.6192\n",
            "Epoch 66/100\n",
            "2/2 [==============================] - 0s 14ms/step - loss: 21.5109 - mae: 21.5109\n",
            "Epoch 67/100\n",
            "2/2 [==============================] - 0s 22ms/step - loss: 10.6340 - mae: 10.6340\n",
            "Epoch 68/100\n",
            "2/2 [==============================] - 0s 20ms/step - loss: 14.8908 - mae: 14.8908\n",
            "Epoch 69/100\n",
            "2/2 [==============================] - 0s 12ms/step - loss: 10.7838 - mae: 10.7838\n",
            "Epoch 70/100\n",
            "2/2 [==============================] - 0s 20ms/step - loss: 12.8884 - mae: 12.8884\n",
            "Epoch 71/100\n",
            "2/2 [==============================] - 0s 22ms/step - loss: 13.3104 - mae: 13.3104\n",
            "Epoch 72/100\n",
            "2/2 [==============================] - 0s 13ms/step - loss: 20.1944 - mae: 20.1944\n",
            "Epoch 73/100\n",
            "2/2 [==============================] - 0s 19ms/step - loss: 9.7388 - mae: 9.7388\n",
            "Epoch 74/100\n",
            "2/2 [==============================] - 0s 16ms/step - loss: 27.5233 - mae: 27.5233\n",
            "Epoch 75/100\n",
            "2/2 [==============================] - 0s 17ms/step - loss: 10.0379 - mae: 10.0379\n",
            "Epoch 76/100\n",
            "2/2 [==============================] - 0s 20ms/step - loss: 12.9618 - mae: 12.9618\n",
            "Epoch 77/100\n",
            "2/2 [==============================] - 0s 18ms/step - loss: 17.9971 - mae: 17.9971\n",
            "Epoch 78/100\n",
            "2/2 [==============================] - 0s 12ms/step - loss: 8.9651 - mae: 8.9651\n",
            "Epoch 79/100\n",
            "2/2 [==============================] - 0s 22ms/step - loss: 28.8657 - mae: 28.8657\n",
            "Epoch 80/100\n",
            "2/2 [==============================] - 0s 14ms/step - loss: 31.2280 - mae: 31.2280\n",
            "Epoch 81/100\n",
            "2/2 [==============================] - 0s 16ms/step - loss: 13.6221 - mae: 13.6221\n",
            "Epoch 82/100\n",
            "2/2 [==============================] - 0s 12ms/step - loss: 15.8364 - mae: 15.8364\n",
            "Epoch 83/100\n",
            "2/2 [==============================] - 0s 12ms/step - loss: 9.1569 - mae: 9.1569\n",
            "Epoch 84/100\n",
            "2/2 [==============================] - 0s 22ms/step - loss: 8.1976 - mae: 8.1976\n",
            "Epoch 85/100\n",
            "2/2 [==============================] - 0s 19ms/step - loss: 18.8422 - mae: 18.8422\n",
            "Epoch 86/100\n",
            "2/2 [==============================] - 0s 18ms/step - loss: 22.0501 - mae: 22.0501\n",
            "Epoch 87/100\n",
            "2/2 [==============================] - 0s 13ms/step - loss: 11.2275 - mae: 11.2275\n",
            "Epoch 88/100\n",
            "2/2 [==============================] - 0s 17ms/step - loss: 26.0242 - mae: 26.0242\n",
            "Epoch 89/100\n",
            "2/2 [==============================] - 0s 13ms/step - loss: 9.5340 - mae: 9.5340\n",
            "Epoch 90/100\n",
            "2/2 [==============================] - 0s 13ms/step - loss: 18.3185 - mae: 18.3185\n",
            "Epoch 91/100\n",
            "2/2 [==============================] - 0s 15ms/step - loss: 10.3441 - mae: 10.3441\n",
            "Epoch 92/100\n",
            "2/2 [==============================] - 0s 15ms/step - loss: 17.5723 - mae: 17.5723\n",
            "Epoch 93/100\n",
            "2/2 [==============================] - 0s 11ms/step - loss: 6.8293 - mae: 6.8293\n",
            "Epoch 94/100\n",
            "2/2 [==============================] - 0s 16ms/step - loss: 17.6324 - mae: 17.6324\n",
            "Epoch 95/100\n",
            "2/2 [==============================] - 0s 13ms/step - loss: 17.3396 - mae: 17.3396\n",
            "Epoch 96/100\n",
            "2/2 [==============================] - 0s 11ms/step - loss: 11.5147 - mae: 11.5147\n",
            "Epoch 97/100\n",
            "2/2 [==============================] - 0s 24ms/step - loss: 18.2746 - mae: 18.2746\n",
            "Epoch 98/100\n",
            "2/2 [==============================] - 0s 13ms/step - loss: 9.7336 - mae: 9.7336\n",
            "Epoch 99/100\n",
            "2/2 [==============================] - 0s 15ms/step - loss: 16.9183 - mae: 16.9183\n",
            "Epoch 100/100\n",
            "2/2 [==============================] - 0s 15ms/step - loss: 17.7856 - mae: 17.7856\n"
          ]
        },
        {
          "data": {
            "text/plain": [
              "<keras.callbacks.History at 0x7f838c6c7be0>"
            ]
          },
          "execution_count": 31,
          "metadata": {},
          "output_type": "execute_result"
        }
      ],
      "source": [
        "# fit the model\n",
        "model.fit(x_train, y_train, epochs=100, verbose=1)"
      ]
    },
    {
      "cell_type": "code",
      "execution_count": 32,
      "metadata": {
        "colab": {
          "base_uri": "https://localhost:8080/"
        },
        "id": "oYYAqm7vOM4B",
        "outputId": "5fad2064-038f-4c38-d246-5a6db5955c49"
      },
      "outputs": [
        {
          "name": "stdout",
          "output_type": "stream",
          "text": [
            "Model: \"modal_1\"\n",
            "_________________________________________________________________\n",
            " Layer (type)                Output Shape              Param #   \n",
            "=================================================================\n",
            " input_layer (Dense)         (None, 10)                20        \n",
            "                                                                 \n",
            " output_layer (Dense)        (None, 1)                 11        \n",
            "                                                                 \n",
            "=================================================================\n",
            "Total params: 31\n",
            "Trainable params: 31\n",
            "Non-trainable params: 0\n",
            "_________________________________________________________________\n"
          ]
        }
      ],
      "source": [
        "# get a summary of our model\n",
        "model.summary()"
      ]
    },
    {
      "cell_type": "code",
      "execution_count": 33,
      "metadata": {
        "id": "-CRnQedqOM4D"
      },
      "outputs": [],
      "source": [
        "# from tensorflow.keras.utils import plot_model\n",
        "\n",
        "# plot_model(model=model, show_shapes=True)\n"
      ]
    },
    {
      "cell_type": "markdown",
      "metadata": {
        "id": "OZitPecQOM4E"
      },
      "source": [
        "### Visualizing our modals predictions"
      ]
    },
    {
      "cell_type": "code",
      "execution_count": 34,
      "metadata": {
        "colab": {
          "base_uri": "https://localhost:8080/"
        },
        "id": "yaS-JjZOOM4F",
        "outputId": "d2e1c33e-d677-499d-c361-e0399a793a81"
      },
      "outputs": [
        {
          "name": "stdout",
          "output_type": "stream",
          "text": [
            "1/1 [==============================] - 0s 276ms/step\n"
          ]
        },
        {
          "data": {
            "text/plain": [
              "array([[34.973915],\n",
              "       [37.209137],\n",
              "       [39.444355],\n",
              "       [41.67958 ],\n",
              "       [43.9148  ],\n",
              "       [46.150017],\n",
              "       [48.385235],\n",
              "       [50.620453],\n",
              "       [52.855675],\n",
              "       [55.090893]], dtype=float32)"
            ]
          },
          "execution_count": 34,
          "metadata": {},
          "output_type": "execute_result"
        }
      ],
      "source": [
        "# Make some predictions\n",
        "y_pred = model.predict(x_test)\n",
        "y_pred"
      ]
    },
    {
      "cell_type": "code",
      "execution_count": 35,
      "metadata": {
        "colab": {
          "base_uri": "https://localhost:8080/"
        },
        "id": "deXdjFSAOM4G",
        "outputId": "e0ed488c-51c4-4f68-a062-8c66adb4e74a"
      },
      "outputs": [
        {
          "data": {
            "text/plain": [
              "<tf.Tensor: shape=(10,), dtype=int32, numpy=array([ 70,  74,  78,  82,  86,  90,  94,  98, 102, 106], dtype=int32)>"
            ]
          },
          "execution_count": 35,
          "metadata": {},
          "output_type": "execute_result"
        }
      ],
      "source": [
        "y_test"
      ]
    },
    {
      "cell_type": "code",
      "execution_count": 36,
      "metadata": {
        "id": "0ZEtmij3OM4H"
      },
      "outputs": [],
      "source": [
        "# lets create a plotting function\n",
        "def plot_predictions(train_data=x_train,\n",
        "                     train_labels=y_train,\n",
        "                     test_data=x_test,\n",
        "                     test_labels=y_test,\n",
        "                     predictions=y_pred):\n",
        "    \"\"\"_summary_\n",
        "    Plots training data, test data and compares predictions to ground truth\n",
        "\n",
        "    Args:\n",
        "        train_data (_type_, optional): _description_. Defaults to x_train.\n",
        "        train_labels (_type_, optional): _description_. Defaults to y_train.\n",
        "        test_data (_type_, optional): _description_. Defaults to x_test.\n",
        "        test_labels (_type_, optional): _description_. Defaults to y_test.\n",
        "        predictions (_type_, optional): _description_. Defaults to y_pred.\n",
        "    \"\"\"\n",
        "\n",
        "    plt.figure(figsize=(10, 7))\n",
        "    # Plot training data in blue\n",
        "    plt.scatter(train_data, train_labels, c=\"b\", label=\"Training Data\")\n",
        "    # Plot testing data in green\n",
        "    plt.scatter(test_data, test_labels, c=\"g\", label=\"Testing Data\")\n",
        "    # Plot model's predictions in red\n",
        "    plt.scatter(test_data, predictions, c=\"r\", label=\"Predictions\")\n",
        "    # show the legend\n",
        "    plt.legend()"
      ]
    },
    {
      "cell_type": "code",
      "execution_count": 37,
      "metadata": {
        "colab": {
          "base_uri": "https://localhost:8080/",
          "height": 569
        },
        "id": "BUjWOMAHOM4I",
        "outputId": "53f75fee-b8a4-4cd5-e63c-efa895de8c72"
      },
      "outputs": [
        {
          "data": {
            "image/png": "[encoded data removed]",
            "text/plain": [
              "<Figure size 1000x700 with 1 Axes>"
            ]
          },
          "metadata": {},
          "output_type": "display_data"
        }
      ],
      "source": [
        "plot_predictions(train_data=x_train,\n",
        "                 train_labels=y_train,\n",
        "                 test_data=x_test,\n",
        "                 test_labels=y_test,\n",
        "                 predictions=y_pred)"
      ]
    },
    {
      "cell_type": "markdown",
      "metadata": {
        "id": "VFNEFHNaOM4I"
      },
      "source": [
        "## Evaluating our model's predictions with regression evaluation metrics\n",
        "\n",
        "Alongisde visualizations, evaulation metrics are your alternative best option for evaluating your model.\n",
        "\n",
        "Depending on the problem you're working on, different models have different evaluation metrics.\n",
        "\n",
        "Two of the main metrics used for regression problems are:\n",
        "* **Mean absolute error (MAE)** - the mean difference between each of the predictions.\n",
        "* **Mean squared error (MSE)** - the squared mean difference between of the predictions (use if larger errors are more detrimental than smaller errors).\n",
        "\n",
        "The lower each of these values, the better."
      ]
    },
    {
      "cell_type": "code",
      "execution_count": 38,
      "metadata": {
        "colab": {
          "base_uri": "https://localhost:8080/"
        },
        "id": "s6iElVJJOM4J",
        "outputId": "d8cc9403-1e0c-4557-a34c-1fabe6266b05"
      },
      "outputs": [
        {
          "name": "stdout",
          "output_type": "stream",
          "text": [
            "1/1 [==============================] - 0s 383ms/step - loss: 42.9676 - mae: 42.9676\n"
          ]
        },
        {
          "data": {
            "text/plain": [
              "[42.967594146728516, 42.967594146728516]"
            ]
          },
          "execution_count": 38,
          "metadata": {},
          "output_type": "execute_result"
        }
      ],
      "source": [
        "# Evaluate the modal on the test set\n",
        "model.evaluate(x_test, y_test)"
      ]
    },
    {
      "cell_type": "code",
      "execution_count": 39,
      "metadata": {
        "colab": {
          "base_uri": "https://localhost:8080/"
        },
        "id": "jBUMidjBOM4J",
        "outputId": "f2f154cd-e968-4ac2-82e3-de1893370f8d"
      },
      "outputs": [
        {
          "data": {
            "text/plain": [
              "<tf.Tensor: shape=(10,), dtype=float32, numpy=\n",
              "array([53.026085, 50.790863, 48.555645, 46.32042 , 44.0852  , 41.849983,\n",
              "       39.614765, 37.379547, 35.144325, 32.909107], dtype=float32)>"
            ]
          },
          "execution_count": 39,
          "metadata": {},
          "output_type": "execute_result"
        }
      ],
      "source": [
        "# Calculate the mean absolute error\n",
        "mae = tf.metrics.mean_absolute_error(y_true=y_test, y_pred=tf.constant(y_pred))\n",
        "mae"
      ]
    },
    {
      "cell_type": "code",
      "execution_count": 40,
      "metadata": {
        "colab": {
          "base_uri": "https://localhost:8080/"
        },
        "id": "PzxIDdDPOM4K",
        "outputId": "e96da2e8-a3ae-45e3-e6dc-bdf5199a93af"
      },
      "outputs": [
        {
          "data": {
            "text/plain": [
              "array([[34.973915],\n",
              "       [37.209137],\n",
              "       [39.444355],\n",
              "       [41.67958 ],\n",
              "       [43.9148  ],\n",
              "       [46.150017],\n",
              "       [48.385235],\n",
              "       [50.620453],\n",
              "       [52.855675],\n",
              "       [55.090893]], dtype=float32)"
            ]
          },
          "execution_count": 40,
          "metadata": {},
          "output_type": "execute_result"
        }
      ],
      "source": [
        "y_pred"
      ]
    },
    {
      "cell_type": "code",
      "execution_count": 41,
      "metadata": {
        "colab": {
          "base_uri": "https://localhost:8080/"
        },
        "id": "QtJMsZ6KOM4K",
        "outputId": "6424fdd3-1e4e-47ca-f904-f44e321a9bc4"
      },
      "outputs": [
        {
          "data": {
            "text/plain": [
              "<tf.Tensor: shape=(10,), dtype=int32, numpy=array([ 70,  74,  78,  82,  86,  90,  94,  98, 102, 106], dtype=int32)>"
            ]
          },
          "execution_count": 41,
          "metadata": {},
          "output_type": "execute_result"
        }
      ],
      "source": [
        "y_test"
      ]
    },
    {
      "cell_type": "code",
      "execution_count": 42,
      "metadata": {
        "colab": {
          "base_uri": "https://localhost:8080/"
        },
        "id": "klt_iG74OM4L",
        "outputId": "a04da38d-125b-48dc-916a-b9933366f115"
      },
      "outputs": [
        {
          "data": {
            "text/plain": [
              "<tf.Tensor: shape=(10,), dtype=float32, numpy=\n",
              "array([34.973915, 37.209137, 39.444355, 41.67958 , 43.9148  , 46.150017,\n",
              "       48.385235, 50.620453, 52.855675, 55.090893], dtype=float32)>"
            ]
          },
          "execution_count": 42,
          "metadata": {},
          "output_type": "execute_result"
        }
      ],
      "source": [
        "tf.squeeze(y_pred)"
      ]
    },
    {
      "cell_type": "code",
      "execution_count": 43,
      "metadata": {
        "colab": {
          "base_uri": "https://localhost:8080/"
        },
        "id": "Qq4p2rNWOM4L",
        "outputId": "bb42ca7d-af76-459f-f1b7-5658ef98979f"
      },
      "outputs": [
        {
          "data": {
            "text/plain": [
              "<tf.Tensor: shape=(), dtype=float32, numpy=42.967594>"
            ]
          },
          "execution_count": 43,
          "metadata": {},
          "output_type": "execute_result"
        }
      ],
      "source": [
        "# Calculate the mean absolute error\n",
        "mae = tf.metrics.mean_absolute_error(y_true=y_test, y_pred=tf.squeeze(y_pred))\n",
        "mae"
      ]
    },
    {
      "cell_type": "code",
      "execution_count": 44,
      "metadata": {
        "colab": {
          "base_uri": "https://localhost:8080/"
        },
        "id": "pSKKLdSlOM4M",
        "outputId": "df456e80-b328-4be9-d775-06e5b6a8d042"
      },
      "outputs": [
        {
          "data": {
            "text/plain": [
              "<tf.Tensor: shape=(), dtype=float32, numpy=1871.9084>"
            ]
          },
          "execution_count": 44,
          "metadata": {},
          "output_type": "execute_result"
        }
      ],
      "source": [
        "# Calculate the mean squared error\n",
        "mse = tf.metrics.mean_squared_error(y_true=y_test, y_pred=tf.squeeze(y_pred))\n",
        "mse"
      ]
    },
    {
      "cell_type": "code",
      "execution_count": 45,
      "metadata": {
        "id": "_t6F1od8OM4N"
      },
      "outputs": [],
      "source": [
        "# Make some functions to reuse MAE and MSE\n",
        "def mae(y_true, y_pred):\n",
        "    return tf.metrics.mean_absolute_error(y_true=y_true, y_pred=tf.squeeze(y_pred))\n",
        "\n",
        "def mse(y_true, y_pred):\n",
        "    return tf.metrics.mean_squared_error(y_true=y_true, y_pred=tf.squeeze(y_pred))\n",
        "\n"
      ]
    },
    {
      "cell_type": "markdown",
      "metadata": {
        "id": "RpuBHAKJOM4N"
      },
      "source": [
        "## Running experiments to improve our model\n",
        "\n",
        "After seeing the evaluation metrics and the predictions your model makes, it's likely you'll want to improve it.\n",
        "\n",
        "Again, there are many different ways you can do this, but 3 of the main ones are:\n",
        "1. **Get more data** - get more examples for your model to train on (more opportunities to learn patterns).\n",
        "2. **Make your model larger (use a more complex model)** - this might come in the form of more layers or more hidden units in each layer.\n",
        "3. **Train for longer** - give your model more of a chance to find the patterns in the data.\n",
        "\n",
        "Since we created our dataset, we could easily make more data but this isn't always the case when you're working with real-world datasets.\n",
        "\n",
        "So let's take a look at how we can improve our model using 2 and 3.\n",
        "\n",
        "To do so, we'll build 3 models and compare their results:\n",
        "1. `model_1` - same as original model, 1 layer, trained for 100 epochs.\n",
        "2. `model_2` - 2 layers, trained for 100 epochs.\n",
        "3. `model_3` - 2 layers, trained for 500 epochs.\n",
        "\n",
        "**Build `model_1`**"
      ]
    },
    {
      "cell_type": "code",
      "execution_count": 46,
      "metadata": {
        "colab": {
          "base_uri": "https://localhost:8080/"
        },
        "id": "9pUwtQLnOM4O",
        "outputId": "0a299576-5d11-47f8-e49f-fc13809712ca"
      },
      "outputs": [
        {
          "name": "stdout",
          "output_type": "stream",
          "text": [
            "Epoch 1/100\n"
          ]
        },
        {
          "name": "stdout",
          "output_type": "stream",
          "text": [
            "2/2 [==============================] - 1s 18ms/step - loss: 102.9706 - mae: 102.9706\n",
            "Epoch 2/100\n",
            "2/2 [==============================] - 0s 10ms/step - loss: 67.5151 - mae: 67.5151\n",
            "Epoch 3/100\n",
            "2/2 [==============================] - 0s 11ms/step - loss: 30.1825 - mae: 30.1825\n",
            "Epoch 4/100\n",
            "2/2 [==============================] - 0s 10ms/step - loss: 9.9987 - mae: 9.9987\n",
            "Epoch 5/100\n",
            "2/2 [==============================] - 0s 12ms/step - loss: 10.9682 - mae: 10.9682\n",
            "Epoch 6/100\n",
            "2/2 [==============================] - 0s 9ms/step - loss: 10.1391 - mae: 10.1391\n",
            "Epoch 7/100\n",
            "2/2 [==============================] - 0s 11ms/step - loss: 9.1669 - mae: 9.1669\n",
            "Epoch 8/100\n",
            "2/2 [==============================] - 0s 11ms/step - loss: 9.1385 - mae: 9.1385\n",
            "Epoch 9/100\n",
            "2/2 [==============================] - 0s 12ms/step - loss: 15.1529 - mae: 15.1529\n",
            "Epoch 10/100\n",
            "2/2 [==============================] - 0s 11ms/step - loss: 7.5989 - mae: 7.5989\n",
            "Epoch 11/100\n",
            "2/2 [==============================] - 0s 11ms/step - loss: 11.4879 - mae: 11.4879\n",
            "Epoch 12/100\n",
            "2/2 [==============================] - 0s 12ms/step - loss: 16.8669 - mae: 16.8669\n",
            "Epoch 13/100\n",
            "2/2 [==============================] - 0s 12ms/step - loss: 12.0012 - mae: 12.0012\n",
            "Epoch 14/100\n",
            "2/2 [==============================] - 0s 16ms/step - loss: 13.9415 - mae: 13.9415\n",
            "Epoch 15/100\n",
            "2/2 [==============================] - 0s 13ms/step - loss: 11.3340 - mae: 11.3340\n",
            "Epoch 16/100\n",
            "2/2 [==============================] - 0s 12ms/step - loss: 8.5971 - mae: 8.5971\n",
            "Epoch 17/100\n",
            "2/2 [==============================] - 0s 9ms/step - loss: 13.7347 - mae: 13.7347\n",
            "Epoch 18/100\n",
            "2/2 [==============================] - 0s 11ms/step - loss: 11.5798 - mae: 11.5798\n",
            "Epoch 19/100\n",
            "2/2 [==============================] - 0s 12ms/step - loss: 17.8343 - mae: 17.8343\n",
            "Epoch 20/100\n",
            "2/2 [==============================] - 0s 13ms/step - loss: 14.9696 - mae: 14.9696\n",
            "Epoch 21/100\n",
            "2/2 [==============================] - 0s 12ms/step - loss: 10.8595 - mae: 10.8595\n",
            "Epoch 22/100\n",
            "2/2 [==============================] - 0s 12ms/step - loss: 8.6101 - mae: 8.6101\n",
            "Epoch 23/100\n",
            "2/2 [==============================] - 0s 11ms/step - loss: 9.7520 - mae: 9.7520\n",
            "Epoch 24/100\n",
            "2/2 [==============================] - 0s 12ms/step - loss: 10.9676 - mae: 10.9676\n",
            "Epoch 25/100\n",
            "2/2 [==============================] - 0s 10ms/step - loss: 9.1847 - mae: 9.1847\n",
            "Epoch 26/100\n",
            "2/2 [==============================] - 0s 13ms/step - loss: 13.2034 - mae: 13.2034\n",
            "Epoch 27/100\n",
            "2/2 [==============================] - 0s 8ms/step - loss: 10.6831 - mae: 10.6831\n",
            "Epoch 28/100\n",
            "2/2 [==============================] - 0s 11ms/step - loss: 12.8971 - mae: 12.8971\n",
            "Epoch 29/100\n",
            "2/2 [==============================] - 0s 11ms/step - loss: 9.5362 - mae: 9.5362\n",
            "Epoch 30/100\n",
            "2/2 [==============================] - 0s 17ms/step - loss: 16.4067 - mae: 16.4067\n",
            "Epoch 31/100\n",
            "2/2 [==============================] - 0s 8ms/step - loss: 23.6059 - mae: 23.6059\n",
            "Epoch 32/100\n",
            "2/2 [==============================] - 0s 12ms/step - loss: 7.6428 - mae: 7.6428\n",
            "Epoch 33/100\n",
            "2/2 [==============================] - 0s 11ms/step - loss: 9.3400 - mae: 9.3400\n",
            "Epoch 34/100\n",
            "2/2 [==============================] - 0s 10ms/step - loss: 13.7207 - mae: 13.7207\n",
            "Epoch 35/100\n",
            "2/2 [==============================] - 0s 11ms/step - loss: 11.1738 - mae: 11.1738\n",
            "Epoch 36/100\n",
            "2/2 [==============================] - 0s 11ms/step - loss: 13.3807 - mae: 13.3807\n",
            "Epoch 37/100\n",
            "2/2 [==============================] - 0s 13ms/step - loss: 9.4889 - mae: 9.4889\n",
            "Epoch 38/100\n",
            "2/2 [==============================] - 0s 9ms/step - loss: 10.1456 - mae: 10.1456\n",
            "Epoch 39/100\n",
            "2/2 [==============================] - 0s 10ms/step - loss: 10.2258 - mae: 10.2258\n",
            "Epoch 40/100\n",
            "2/2 [==============================] - 0s 11ms/step - loss: 10.9640 - mae: 10.9640\n",
            "Epoch 41/100\n",
            "2/2 [==============================] - 0s 10ms/step - loss: 7.9547 - mae: 7.9547\n",
            "Epoch 42/100\n",
            "2/2 [==============================] - 0s 11ms/step - loss: 10.1016 - mae: 10.1016\n",
            "Epoch 43/100\n",
            "2/2 [==============================] - 0s 9ms/step - loss: 8.7215 - mae: 8.7215\n",
            "Epoch 44/100\n",
            "2/2 [==============================] - 0s 12ms/step - loss: 12.1938 - mae: 12.1938\n",
            "Epoch 45/100\n",
            "2/2 [==============================] - 0s 8ms/step - loss: 13.8517 - mae: 13.8517\n",
            "Epoch 46/100\n",
            "2/2 [==============================] - 0s 13ms/step - loss: 8.5188 - mae: 8.5188\n",
            "Epoch 47/100\n",
            "2/2 [==============================] - 0s 8ms/step - loss: 9.1450 - mae: 9.1450\n",
            "Epoch 48/100\n",
            "2/2 [==============================] - 0s 12ms/step - loss: 10.6245 - mae: 10.6245\n",
            "Epoch 49/100\n",
            "2/2 [==============================] - 0s 11ms/step - loss: 7.7630 - mae: 7.7630\n",
            "Epoch 50/100\n",
            "2/2 [==============================] - 0s 13ms/step - loss: 9.5470 - mae: 9.5470\n",
            "Epoch 51/100\n",
            "2/2 [==============================] - 0s 11ms/step - loss: 9.1811 - mae: 9.1811\n",
            "Epoch 52/100\n",
            "2/2 [==============================] - 0s 13ms/step - loss: 16.3261 - mae: 16.3261\n",
            "Epoch 53/100\n",
            "2/2 [==============================] - 0s 11ms/step - loss: 14.1706 - mae: 14.1706\n",
            "Epoch 54/100\n",
            "2/2 [==============================] - 0s 11ms/step - loss: 21.1898 - mae: 21.1898\n",
            "Epoch 55/100\n",
            "2/2 [==============================] - 0s 11ms/step - loss: 16.3690 - mae: 16.3690\n",
            "Epoch 56/100\n",
            "2/2 [==============================] - 0s 12ms/step - loss: 10.0343 - mae: 10.0343\n",
            "Epoch 57/100\n",
            "2/2 [==============================] - 0s 12ms/step - loss: 9.9695 - mae: 9.9695\n",
            "Epoch 58/100\n",
            "2/2 [==============================] - 0s 13ms/step - loss: 9.2334 - mae: 9.2334\n",
            "Epoch 59/100\n",
            "2/2 [==============================] - 0s 13ms/step - loss: 8.4326 - mae: 8.4326\n",
            "Epoch 60/100\n",
            "2/2 [==============================] - 0s 15ms/step - loss: 9.5025 - mae: 9.5025\n",
            "Epoch 61/100\n",
            "2/2 [==============================] - 0s 10ms/step - loss: 11.4373 - mae: 11.4373\n",
            "Epoch 62/100\n",
            "2/2 [==============================] - 0s 12ms/step - loss: 11.7437 - mae: 11.7437\n",
            "Epoch 63/100\n",
            "2/2 [==============================] - 0s 13ms/step - loss: 7.1037 - mae: 7.1037\n",
            "Epoch 64/100\n",
            "2/2 [==============================] - 0s 11ms/step - loss: 17.0191 - mae: 17.0191\n",
            "Epoch 65/100\n",
            "2/2 [==============================] - 0s 10ms/step - loss: 12.5072 - mae: 12.5072\n",
            "Epoch 66/100\n",
            "2/2 [==============================] - 0s 10ms/step - loss: 13.0725 - mae: 13.0725\n",
            "Epoch 67/100\n",
            "2/2 [==============================] - 0s 11ms/step - loss: 8.1000 - mae: 8.1000\n",
            "Epoch 68/100\n",
            "2/2 [==============================] - 0s 8ms/step - loss: 10.2337 - mae: 10.2337\n",
            "Epoch 69/100\n",
            "2/2 [==============================] - 0s 10ms/step - loss: 12.4204 - mae: 12.4204\n",
            "Epoch 70/100\n",
            "2/2 [==============================] - 0s 11ms/step - loss: 9.0648 - mae: 9.0648\n",
            "Epoch 71/100\n",
            "2/2 [==============================] - 0s 12ms/step - loss: 10.0484 - mae: 10.0484\n",
            "Epoch 72/100\n",
            "2/2 [==============================] - 0s 15ms/step - loss: 10.0661 - mae: 10.0661\n",
            "Epoch 73/100\n",
            "2/2 [==============================] - 0s 12ms/step - loss: 12.6107 - mae: 12.6107\n",
            "Epoch 74/100\n",
            "2/2 [==============================] - 0s 11ms/step - loss: 10.4399 - mae: 10.4399\n",
            "Epoch 75/100\n",
            "2/2 [==============================] - 0s 10ms/step - loss: 9.7345 - mae: 9.7345\n",
            "Epoch 76/100\n",
            "2/2 [==============================] - 0s 11ms/step - loss: 11.2320 - mae: 11.2320\n",
            "Epoch 77/100\n",
            "2/2 [==============================] - 0s 14ms/step - loss: 8.3756 - mae: 8.3756\n",
            "Epoch 78/100\n",
            "2/2 [==============================] - 0s 12ms/step - loss: 9.1293 - mae: 9.1293\n",
            "Epoch 79/100\n",
            "2/2 [==============================] - 0s 13ms/step - loss: 19.5676 - mae: 19.5676\n",
            "Epoch 80/100\n",
            "2/2 [==============================] - 0s 11ms/step - loss: 14.8735 - mae: 14.8735\n",
            "Epoch 81/100\n",
            "2/2 [==============================] - 0s 9ms/step - loss: 9.0658 - mae: 9.0658\n",
            "Epoch 82/100\n",
            "2/2 [==============================] - 0s 15ms/step - loss: 13.0085 - mae: 13.0085\n",
            "Epoch 83/100\n",
            "2/2 [==============================] - 0s 18ms/step - loss: 7.9365 - mae: 7.9365\n",
            "Epoch 84/100\n",
            "2/2 [==============================] - 0s 23ms/step - loss: 7.7246 - mae: 7.7246\n",
            "Epoch 85/100\n",
            "2/2 [==============================] - 0s 13ms/step - loss: 10.0804 - mae: 10.0804\n",
            "Epoch 86/100\n",
            "2/2 [==============================] - 0s 17ms/step - loss: 9.2839 - mae: 9.2839\n",
            "Epoch 87/100\n",
            "2/2 [==============================] - 0s 18ms/step - loss: 12.0680 - mae: 12.0680\n",
            "Epoch 88/100\n",
            "2/2 [==============================] - 0s 21ms/step - loss: 10.6899 - mae: 10.6899\n",
            "Epoch 89/100\n",
            "2/2 [==============================] - 0s 18ms/step - loss: 7.2976 - mae: 7.2976\n",
            "Epoch 90/100\n",
            "2/2 [==============================] - 0s 12ms/step - loss: 12.8324 - mae: 12.8324\n",
            "Epoch 91/100\n",
            "2/2 [==============================] - 0s 15ms/step - loss: 7.5109 - mae: 7.5109\n",
            "Epoch 92/100\n",
            "2/2 [==============================] - 0s 17ms/step - loss: 6.7814 - mae: 6.7814\n",
            "Epoch 93/100\n",
            "2/2 [==============================] - 0s 21ms/step - loss: 11.9829 - mae: 11.9829\n",
            "Epoch 94/100\n",
            "2/2 [==============================] - 0s 15ms/step - loss: 8.9151 - mae: 8.9151\n",
            "Epoch 95/100\n",
            "2/2 [==============================] - 0s 15ms/step - loss: 7.7547 - mae: 7.7547\n",
            "Epoch 96/100\n",
            "2/2 [==============================] - 0s 15ms/step - loss: 6.7808 - mae: 6.7808\n",
            "Epoch 97/100\n",
            "2/2 [==============================] - 0s 12ms/step - loss: 8.6683 - mae: 8.6683\n",
            "Epoch 98/100\n",
            "2/2 [==============================] - 0s 14ms/step - loss: 9.4169 - mae: 9.4169\n",
            "Epoch 99/100\n",
            "2/2 [==============================] - 0s 13ms/step - loss: 9.1529 - mae: 9.1529\n",
            "Epoch 100/100\n",
            "2/2 [==============================] - 0s 17ms/step - loss: 10.5082 - mae: 10.5082\n"
          ]
        },
        {
          "data": {
            "text/plain": [
              "<keras.callbacks.History at 0x7f838c5a4520>"
            ]
          },
          "execution_count": 46,
          "metadata": {},
          "output_type": "execute_result"
        }
      ],
      "source": [
        "# set random seed\n",
        "tf.random.set_seed(42)\n",
        "\n",
        "# 1. Create the model\n",
        "model_1 = tf.keras.Sequential([\n",
        "    tf.keras.layers.Dense(1)\n",
        "])\n",
        "\n",
        "# 2. Compile the model\n",
        "model_1.compile(loss=tf.keras.losses.mae, optimizer=tf.keras.optimizers.SGD(), metrics=[\"mae\"])\n",
        "\n",
        "# 3. Fit the model\n",
        "model_1.fit(tf.expand_dims(x_train, axis=1), y_train, epochs=100)"
      ]
    },
    {
      "cell_type": "code",
      "execution_count": 47,
      "metadata": {
        "colab": {
          "base_uri": "https://localhost:8080/",
          "height": 629
        },
        "id": "R7peBV0xOM4P",
        "outputId": "bd9614e3-d5c4-4087-bfa3-4e68e0c8efe2"
      },
      "outputs": [
        {
          "name": "stdout",
          "output_type": "stream",
          "text": [
            "WARNING:tensorflow:5 out of the last 5 calls to <function Model.make_predict_function.<locals>.predict_function at 0x7f838c6fb910> triggered tf.function retracing. Tracing is expensive and the excessive number of tracings could be due to (1) creating @tf.function repeatedly in a loop, (2) passing tensors with different shapes, (3) passing Python objects instead of tensors. For (1), please define your @tf.function outside of the loop. For (2), @tf.function has reduce_retracing=True option that can avoid unnecessary retracing. For (3), please refer to https://www.tensorflow.org/guide/function#controlling_retracing and https://www.tensorflow.org/api_docs/python/tf/function for  more details.\n",
            "1/1 [==============================] - 0s 120ms/step\n"
          ]
        },
        {
          "data": {
            "image/png": "[encoded data removed]",
            "text/plain": [
              "<Figure size 1000x700 with 1 Axes>"
            ]
          },
          "metadata": {},
          "output_type": "display_data"
        }
      ],
      "source": [
        "# Make and plot predictions for model_1\n",
        "y_pred_1 = model_1.predict(x_test)\n",
        "plot_predictions(predictions=y_pred_1)"
      ]
    },
    {
      "cell_type": "code",
      "execution_count": 48,
      "metadata": {
        "colab": {
          "base_uri": "https://localhost:8080/"
        },
        "id": "nyQBy_1VOM4P",
        "outputId": "7e86578a-7925-4c51-9db1-565a1e334e8d"
      },
      "outputs": [
        {
          "data": {
            "text/plain": [
              "(<tf.Tensor: shape=(), dtype=float32, numpy=15.008368>,\n",
              " <tf.Tensor: shape=(), dtype=float32, numpy=226.10312>)"
            ]
          },
          "execution_count": 48,
          "metadata": {},
          "output_type": "execute_result"
        }
      ],
      "source": [
        "# Calculate model_1 evaluation metrics\n",
        "mae_1 = mae(y_test, y_pred_1)\n",
        "mse_1 = mse(y_test, y_pred_1)\n",
        "mae_1, mse_1"
      ]
    },
    {
      "cell_type": "markdown",
      "metadata": {
        "id": "4kMTz3msOM4Q"
      },
      "source": [
        "**Build `model_2`**"
      ]
    },
    {
      "cell_type": "code",
      "execution_count": 49,
      "metadata": {
        "colab": {
          "base_uri": "https://localhost:8080/"
        },
        "id": "ZkIpKf_eOM4Q",
        "outputId": "326dfd95-0de5-4b51-cdd2-ee82b79cf76e"
      },
      "outputs": [
        {
          "name": "stdout",
          "output_type": "stream",
          "text": [
            "Epoch 1/100\n",
            "2/2 [==============================] - 1s 17ms/step - loss: 44.2301 - mse: 2718.5371\n",
            "Epoch 2/100\n",
            "2/2 [==============================] - 0s 11ms/step - loss: 33.2409 - mse: 1468.4667\n",
            "Epoch 3/100\n",
            "2/2 [==============================] - 0s 15ms/step - loss: 36.5805 - mse: 2048.1399\n",
            "Epoch 4/100\n",
            "2/2 [==============================] - 0s 15ms/step - loss: 31.2754 - mse: 1453.1489\n",
            "Epoch 5/100\n",
            "2/2 [==============================] - 0s 14ms/step - loss: 15.8852 - mse: 330.6601\n",
            "Epoch 6/100\n",
            "2/2 [==============================] - 0s 17ms/step - loss: 12.5904 - mse: 206.6625\n",
            "Epoch 7/100\n",
            "2/2 [==============================] - 0s 19ms/step - loss: 11.8529 - mse: 174.3867\n",
            "Epoch 8/100\n",
            "2/2 [==============================] - 0s 15ms/step - loss: 12.9146 - mse: 227.6275\n",
            "Epoch 9/100\n",
            "2/2 [==============================] - 0s 16ms/step - loss: 33.9594 - mse: 1726.8285\n",
            "Epoch 10/100\n",
            "2/2 [==============================] - 0s 16ms/step - loss: 23.2580 - mse: 756.5458\n",
            "Epoch 11/100\n",
            "2/2 [==============================] - 0s 13ms/step - loss: 10.2580 - mse: 149.3989\n",
            "Epoch 12/100\n",
            "2/2 [==============================] - 0s 16ms/step - loss: 25.2447 - mse: 888.7131\n",
            "Epoch 13/100\n",
            "2/2 [==============================] - 0s 14ms/step - loss: 17.1417 - mse: 408.9382\n",
            "Epoch 14/100\n",
            "2/2 [==============================] - 0s 21ms/step - loss: 26.1958 - mse: 1074.5457\n",
            "Epoch 15/100\n",
            "2/2 [==============================] - 0s 17ms/step - loss: 18.2187 - mse: 461.4726\n",
            "Epoch 16/100\n",
            "2/2 [==============================] - 0s 19ms/step - loss: 7.8655 - mse: 89.1714\n",
            "Epoch 17/100\n",
            "2/2 [==============================] - 0s 13ms/step - loss: 22.3327 - mse: 691.7547\n",
            "Epoch 18/100\n",
            "2/2 [==============================] - 0s 13ms/step - loss: 10.8664 - mse: 174.7366\n",
            "Epoch 19/100\n",
            "2/2 [==============================] - 0s 16ms/step - loss: 10.7560 - mse: 141.2240\n",
            "Epoch 20/100\n",
            "2/2 [==============================] - 0s 12ms/step - loss: 12.0769 - mse: 166.5789\n",
            "Epoch 21/100\n",
            "2/2 [==============================] - 0s 12ms/step - loss: 20.2425 - mse: 595.5094\n",
            "Epoch 22/100\n",
            "2/2 [==============================] - 0s 28ms/step - loss: 13.8435 - mse: 245.8667\n",
            "Epoch 23/100\n",
            "2/2 [==============================] - 0s 16ms/step - loss: 9.5693 - mse: 95.5346\n",
            "Epoch 24/100\n",
            "2/2 [==============================] - 0s 21ms/step - loss: 11.9284 - mse: 164.7099\n",
            "Epoch 25/100\n",
            "2/2 [==============================] - 0s 16ms/step - loss: 16.2775 - mse: 388.2789\n",
            "Epoch 26/100\n",
            "2/2 [==============================] - 0s 15ms/step - loss: 16.4673 - mse: 377.8770\n",
            "Epoch 27/100\n",
            "2/2 [==============================] - 0s 19ms/step - loss: 11.6106 - mse: 183.3770\n",
            "Epoch 28/100\n",
            "2/2 [==============================] - 0s 22ms/step - loss: 30.1051 - mse: 1478.4779\n",
            "Epoch 29/100\n",
            "2/2 [==============================] - 0s 16ms/step - loss: 9.2568 - mse: 92.4898\n",
            "Epoch 30/100\n",
            "2/2 [==============================] - 0s 19ms/step - loss: 30.6247 - mse: 1722.9006\n",
            "Epoch 31/100\n",
            "2/2 [==============================] - 0s 15ms/step - loss: 41.8963 - mse: 3067.4822\n",
            "Epoch 32/100\n",
            "2/2 [==============================] - 0s 16ms/step - loss: 11.8783 - mse: 204.5028\n",
            "Epoch 33/100\n",
            "2/2 [==============================] - 0s 17ms/step - loss: 15.4565 - mse: 329.1195\n",
            "Epoch 34/100\n",
            "2/2 [==============================] - 0s 13ms/step - loss: 12.5606 - mse: 207.6672\n",
            "Epoch 35/100\n",
            "2/2 [==============================] - 0s 20ms/step - loss: 9.1733 - mse: 91.0529\n",
            "Epoch 36/100\n",
            "2/2 [==============================] - 0s 20ms/step - loss: 16.4404 - mse: 392.8467\n",
            "Epoch 37/100\n",
            "2/2 [==============================] - 0s 16ms/step - loss: 11.0830 - mse: 191.9421\n",
            "Epoch 38/100\n",
            "2/2 [==============================] - 0s 15ms/step - loss: 18.2139 - mse: 437.3298\n",
            "Epoch 39/100\n",
            "2/2 [==============================] - 0s 12ms/step - loss: 19.1444 - mse: 534.0735\n",
            "Epoch 40/100\n",
            "2/2 [==============================] - 0s 21ms/step - loss: 20.5146 - mse: 614.8384\n",
            "Epoch 41/100\n",
            "2/2 [==============================] - 0s 18ms/step - loss: 14.7851 - mse: 273.6313\n",
            "Epoch 42/100\n",
            "2/2 [==============================] - 0s 23ms/step - loss: 12.1854 - mse: 181.7584\n",
            "Epoch 43/100\n",
            "2/2 [==============================] - 0s 25ms/step - loss: 10.6787 - mse: 162.8689\n",
            "Epoch 44/100\n",
            "2/2 [==============================] - 0s 16ms/step - loss: 32.2871 - mse: 1714.4506\n",
            "Epoch 45/100\n",
            "2/2 [==============================] - 0s 20ms/step - loss: 12.4569 - mse: 201.6416\n",
            "Epoch 46/100\n",
            "2/2 [==============================] - 0s 19ms/step - loss: 17.5313 - mse: 460.5336\n",
            "Epoch 47/100\n",
            "2/2 [==============================] - 0s 18ms/step - loss: 15.7406 - mse: 338.7583\n",
            "Epoch 48/100\n",
            "2/2 [==============================] - 0s 22ms/step - loss: 8.3589 - mse: 112.4268\n",
            "Epoch 49/100\n",
            "2/2 [==============================] - 0s 21ms/step - loss: 13.9653 - mse: 268.3821\n",
            "Epoch 50/100\n",
            "2/2 [==============================] - 0s 28ms/step - loss: 12.8123 - mse: 214.8797\n",
            "Epoch 51/100\n",
            "2/2 [==============================] - 0s 25ms/step - loss: 14.8222 - mse: 308.8049\n",
            "Epoch 52/100\n",
            "2/2 [==============================] - 0s 16ms/step - loss: 18.7080 - mse: 528.5718\n",
            "Epoch 53/100\n",
            "2/2 [==============================] - 0s 14ms/step - loss: 24.1505 - mse: 827.3436\n",
            "Epoch 54/100\n",
            "2/2 [==============================] - 0s 15ms/step - loss: 23.2180 - mse: 807.7430\n",
            "Epoch 55/100\n",
            "2/2 [==============================] - 0s 25ms/step - loss: 24.0753 - mse: 872.3746\n",
            "Epoch 56/100\n",
            "2/2 [==============================] - 0s 27ms/step - loss: 11.1595 - mse: 170.7293\n",
            "Epoch 57/100\n",
            "2/2 [==============================] - 0s 29ms/step - loss: 13.1222 - mse: 214.6842\n",
            "Epoch 58/100\n",
            "2/2 [==============================] - 0s 23ms/step - loss: 9.8093 - mse: 106.2571\n",
            "Epoch 59/100\n",
            "2/2 [==============================] - 0s 27ms/step - loss: 13.3210 - mse: 250.6737\n",
            "Epoch 60/100\n",
            "2/2 [==============================] - 0s 16ms/step - loss: 10.8721 - mse: 139.6565\n",
            "Epoch 61/100\n",
            "2/2 [==============================] - 0s 14ms/step - loss: 13.4867 - mse: 242.9123\n",
            "Epoch 62/100\n",
            "2/2 [==============================] - 0s 24ms/step - loss: 17.5536 - mse: 470.3432\n",
            "Epoch 63/100\n",
            "2/2 [==============================] - 0s 19ms/step - loss: 9.1577 - mse: 87.4695\n",
            "Epoch 64/100\n",
            "2/2 [==============================] - 0s 13ms/step - loss: 18.4282 - mse: 493.6520\n",
            "Epoch 65/100\n",
            "2/2 [==============================] - 0s 27ms/step - loss: 10.1146 - mse: 115.1091\n",
            "Epoch 66/100\n",
            "2/2 [==============================] - 0s 21ms/step - loss: 24.3143 - mse: 892.8634\n",
            "Epoch 67/100\n",
            "2/2 [==============================] - 0s 31ms/step - loss: 10.8931 - mse: 143.3559\n",
            "Epoch 68/100\n",
            "2/2 [==============================] - 0s 22ms/step - loss: 10.7708 - mse: 160.3014\n",
            "Epoch 69/100\n",
            "2/2 [==============================] - 0s 14ms/step - loss: 23.3226 - mse: 786.4627\n",
            "Epoch 70/100\n",
            "2/2 [==============================] - 0s 22ms/step - loss: 8.7941 - mse: 143.5781\n",
            "Epoch 71/100\n",
            "2/2 [==============================] - 0s 31ms/step - loss: 15.9488 - mse: 346.4238\n",
            "Epoch 72/100\n",
            "2/2 [==============================] - 0s 17ms/step - loss: 8.1140 - mse: 109.5898\n",
            "Epoch 73/100\n",
            "2/2 [==============================] - 0s 14ms/step - loss: 9.4540 - mse: 153.4837\n",
            "Epoch 74/100\n",
            "2/2 [==============================] - 0s 15ms/step - loss: 28.1319 - mse: 1108.8621\n",
            "Epoch 75/100\n",
            "2/2 [==============================] - 0s 20ms/step - loss: 10.2083 - mse: 145.1619\n",
            "Epoch 76/100\n",
            "2/2 [==============================] - 0s 13ms/step - loss: 13.1637 - mse: 220.1117\n",
            "Epoch 77/100\n",
            "2/2 [==============================] - 0s 27ms/step - loss: 18.4602 - mse: 535.0555\n",
            "Epoch 78/100\n",
            "2/2 [==============================] - 0s 14ms/step - loss: 9.0114 - mse: 91.8409\n",
            "Epoch 79/100\n",
            "2/2 [==============================] - 0s 22ms/step - loss: 23.5254 - mse: 828.4808\n",
            "Epoch 80/100\n",
            "2/2 [==============================] - 0s 15ms/step - loss: 26.2131 - mse: 1056.5151\n",
            "Epoch 81/100\n",
            "2/2 [==============================] - 0s 15ms/step - loss: 11.4238 - mse: 160.0658\n",
            "Epoch 82/100\n",
            "2/2 [==============================] - 0s 14ms/step - loss: 12.4601 - mse: 226.9447\n",
            "Epoch 83/100\n",
            "2/2 [==============================] - 0s 18ms/step - loss: 17.1335 - mse: 381.9105\n",
            "Epoch 84/100\n",
            "2/2 [==============================] - 0s 19ms/step - loss: 6.5663 - mse: 63.8123\n",
            "Epoch 85/100\n",
            "2/2 [==============================] - 0s 20ms/step - loss: 20.3921 - mse: 581.7865\n",
            "Epoch 86/100\n",
            "2/2 [==============================] - 0s 12ms/step - loss: 10.1730 - mse: 116.6104\n",
            "Epoch 87/100\n",
            "2/2 [==============================] - 0s 14ms/step - loss: 24.4502 - mse: 836.8942\n",
            "Epoch 88/100\n",
            "2/2 [==============================] - 0s 20ms/step - loss: 19.1112 - mse: 518.3917\n",
            "Epoch 89/100\n",
            "2/2 [==============================] - 0s 20ms/step - loss: 7.1520 - mse: 69.7200\n",
            "Epoch 90/100\n",
            "2/2 [==============================] - 0s 17ms/step - loss: 18.2158 - mse: 491.9099\n",
            "Epoch 91/100\n",
            "2/2 [==============================] - 0s 12ms/step - loss: 13.2645 - mse: 254.5768\n",
            "Epoch 92/100\n",
            "2/2 [==============================] - 0s 14ms/step - loss: 14.8009 - mse: 308.9671\n",
            "Epoch 93/100\n",
            "2/2 [==============================] - 0s 17ms/step - loss: 11.6053 - mse: 251.2382\n",
            "Epoch 94/100\n",
            "2/2 [==============================] - 0s 17ms/step - loss: 16.1601 - mse: 368.7375\n",
            "Epoch 95/100\n",
            "2/2 [==============================] - 0s 17ms/step - loss: 15.5019 - mse: 319.8746\n",
            "Epoch 96/100\n",
            "2/2 [==============================] - 0s 13ms/step - loss: 15.0288 - mse: 322.1759\n",
            "Epoch 97/100\n",
            "2/2 [==============================] - 0s 14ms/step - loss: 10.8616 - mse: 188.1491\n",
            "Epoch 98/100\n",
            "2/2 [==============================] - 0s 18ms/step - loss: 14.3188 - mse: 284.8370\n",
            "Epoch 99/100\n",
            "2/2 [==============================] - 0s 19ms/step - loss: 13.3496 - mse: 250.7898\n",
            "Epoch 100/100\n",
            "2/2 [==============================] - 0s 18ms/step - loss: 19.9386 - mse: 581.5951\n"
          ]
        },
        {
          "data": {
            "text/plain": [
              "<keras.callbacks.History at 0x7f838f638550>"
            ]
          },
          "execution_count": 49,
          "metadata": {},
          "output_type": "execute_result"
        }
      ],
      "source": [
        "# set random seed\n",
        "tf.random.set_seed(42)\n",
        "\n",
        "# 1. Create the model\n",
        "model_2 = tf.keras.Sequential([\n",
        "    tf.keras.layers.Dense(10),\n",
        "    tf.keras.layers.Dense(1)\n",
        "])\n",
        "\n",
        "# 2. Compile the model\n",
        "model_2.compile(loss=tf.keras.losses.mae, optimizer=tf.keras.optimizers.SGD(), metrics=[\"mse\"])\n",
        "\n",
        "# 3. Fit the model\n",
        "model_2.fit(tf.expand_dims(x_train, axis=1), y_train, epochs=100)\n"
      ]
    },
    {
      "cell_type": "code",
      "execution_count": 50,
      "metadata": {
        "colab": {
          "base_uri": "https://localhost:8080/",
          "height": 623
        },
        "id": "TSnn9W-DOM4Q",
        "outputId": "faea5cd1-9b67-4151-a7f9-eee7cc3eca97"
      },
      "outputs": [
        {
          "name": "stdout",
          "output_type": "stream",
          "text": [
            "WARNING:tensorflow:6 out of the last 6 calls to <function Model.make_predict_function.<locals>.predict_function at 0x7f838f65c940> triggered tf.function retracing. Tracing is expensive and the excessive number of tracings could be due to (1) creating @tf.function repeatedly in a loop, (2) passing tensors with different shapes, (3) passing Python objects instead of tensors. For (1), please define your @tf.function outside of the loop. For (2), @tf.function has reduce_retracing=True option that can avoid unnecessary retracing. For (3), please refer to https://www.tensorflow.org/guide/function#controlling_retracing and https://www.tensorflow.org/api_docs/python/tf/function for  more details.\n",
            "1/1 [==============================] - 0s 175ms/step\n"
          ]
        },
        {
          "data": {
            "image/png": "[encoded data removed]",
            "text/plain": [
              "<Figure size 1000x700 with 1 Axes>"
            ]
          },
          "metadata": {},
          "output_type": "display_data"
        }
      ],
      "source": [
        "# Make and plot predictions for model_2\n",
        "y_pred_2 = model_2.predict(x_test)\n",
        "plot_predictions(predictions=y_pred_2)"
      ]
    },
    {
      "cell_type": "code",
      "execution_count": 51,
      "metadata": {
        "colab": {
          "base_uri": "https://localhost:8080/"
        },
        "id": "t1Y47IugOM4R",
        "outputId": "31aec3ed-863e-49de-fe72-5d1ba22a5b41"
      },
      "outputs": [
        {
          "data": {
            "text/plain": [
              "(<tf.Tensor: shape=(), dtype=float32, numpy=30.046505>,\n",
              " <tf.Tensor: shape=(), dtype=float32, numpy=934.4247>)"
            ]
          },
          "execution_count": 51,
          "metadata": {},
          "output_type": "execute_result"
        }
      ],
      "source": [
        "# Calculate model_2 evaluation metrics\n",
        "mae_2 = mae(y_test, y_pred_2)\n",
        "mse_2 = mse(y_test, y_pred_2)\n",
        "mae_2, mse_2"
      ]
    },
    {
      "cell_type": "markdown",
      "metadata": {
        "id": "id4o_AF9OM4S"
      },
      "source": [
        "**Build `model_3`**"
      ]
    },
    {
      "cell_type": "code",
      "execution_count": 52,
      "metadata": {
        "colab": {
          "base_uri": "https://localhost:8080/"
        },
        "id": "VUvRbEL-OM4S",
        "outputId": "1f08cdb8-ceac-4b9b-aa62-5751f0a225f1"
      },
      "outputs": [
        {
          "data": {
            "text/plain": [
              "<keras.callbacks.History at 0x7f838edba200>"
            ]
          },
          "execution_count": 52,
          "metadata": {},
          "output_type": "execute_result"
        }
      ],
      "source": [
        "# set random seed\n",
        "tf.random.set_seed(42)\n",
        "\n",
        "# 1. Create the model\n",
        "model_3 = tf.keras.Sequential([\n",
        "    tf.keras.layers.Dense(10),\n",
        "    tf.keras.layers.Dense(1)\n",
        "])\n",
        "\n",
        "# 2. Compile the model\n",
        "model_3.compile(loss=tf.keras.losses.mae, optimizer=tf.keras.optimizers.SGD(), metrics=[\"mae\"])\n",
        "\n",
        "# 3. Fit the model\n",
        "model_3.fit(tf.expand_dims(x_train, axis=1), y_train, epochs=500, verbose=0)\n"
      ]
    },
    {
      "cell_type": "code",
      "execution_count": 53,
      "metadata": {
        "colab": {
          "base_uri": "https://localhost:8080/",
          "height": 592
        },
        "id": "e78uMVv9OM4T",
        "outputId": "3bba863a-0178-4372-8c22-4b50fd1197a9"
      },
      "outputs": [
        {
          "name": "stdout",
          "output_type": "stream",
          "text": [
            "1/1 [==============================] - 0s 225ms/step\n"
          ]
        },
        {
          "data": {
            "image/png": "[encoded data removed]",
            "text/plain": [
              "<Figure size 1000x700 with 1 Axes>"
            ]
          },
          "metadata": {},
          "output_type": "display_data"
        }
      ],
      "source": [
        "# Make and Plot some predictions\n",
        "y_pred_3 = model_3.predict(x_test)\n",
        "plot_predictions(predictions=y_pred_3)"
      ]
    },
    {
      "cell_type": "code",
      "execution_count": 54,
      "metadata": {
        "colab": {
          "base_uri": "https://localhost:8080/"
        },
        "id": "-v6Qtu6AOM4U",
        "outputId": "77914fc8-1a14-48e4-d0cd-776f98db7daf"
      },
      "outputs": [
        {
          "data": {
            "text/plain": [
              "(<tf.Tensor: shape=(), dtype=float32, numpy=67.67035>,\n",
              " <tf.Tensor: shape=(), dtype=float32, numpy=4663.368>)"
            ]
          },
          "execution_count": 54,
          "metadata": {},
          "output_type": "execute_result"
        }
      ],
      "source": [
        "# Calculate model_3 evaluation metrics\n",
        "mae_3 = mae(y_test, y_pred_3)\n",
        "mse_3 = mse(y_test, y_pred_3)\n",
        "mae_3, mse_3"
      ]
    },
    {
      "cell_type": "markdown",
      "metadata": {
        "id": "vOaKnQxOOM4V"
      },
      "source": [
        "## Comparing results\n",
        "\n",
        "Now we've got results for 3 similar but slightly different results, let's compare them."
      ]
    },
    {
      "cell_type": "code",
      "execution_count": 55,
      "metadata": {
        "colab": {
          "base_uri": "https://localhost:8080/",
          "height": 143
        },
        "id": "S8TNY7J5OM4V",
        "outputId": "85ca5a31-58b3-46f7-d5e3-7c3541d87761"
      },
      "outputs": [
        {
          "data": {
            "text/html": [
              "<div>\n",
              "<style scoped>\n",
              "    .dataframe tbody tr th:only-of-type {\n",
              "        vertical-align: middle;\n",
              "    }\n",
              "\n",
              "    .dataframe tbody tr th {\n",
              "        vertical-align: top;\n",
              "    }\n",
              "\n",
              "    .dataframe thead th {\n",
              "        text-align: right;\n",
              "    }\n",
              "</style>\n",
              "<table border=\"1\" class=\"dataframe\">\n",
              "  <thead>\n",
              "    <tr style=\"text-align: right;\">\n",
              "      <th></th>\n",
              "      <th>model</th>\n",
              "      <th>mae</th>\n",
              "      <th>mse</th>\n",
              "    </tr>\n",
              "  </thead>\n",
              "  <tbody>\n",
              "    <tr>\n",
              "      <th>0</th>\n",
              "      <td>model_1</td>\n",
              "      <td>15.008368</td>\n",
              "      <td>226.103119</td>\n",
              "    </tr>\n",
              "    <tr>\n",
              "      <th>1</th>\n",
              "      <td>model_2</td>\n",
              "      <td>30.046505</td>\n",
              "      <td>934.424683</td>\n",
              "    </tr>\n",
              "    <tr>\n",
              "      <th>2</th>\n",
              "      <td>model_3</td>\n",
              "      <td>67.670349</td>\n",
              "      <td>4663.368164</td>\n",
              "    </tr>\n",
              "  </tbody>\n",
              "</table>\n",
              "</div>"
            ],
            "text/plain": [
              "     model        mae          mse\n",
              "0  model_1  15.008368   226.103119\n",
              "1  model_2  30.046505   934.424683\n",
              "2  model_3  67.670349  4663.368164"
            ]
          },
          "execution_count": 55,
          "metadata": {},
          "output_type": "execute_result"
        }
      ],
      "source": [
        "# Lets's compare our model's results using a pandas DataFrame\n",
        "import pandas as pd\n",
        "\n",
        "model_results = [[\"model_1\", mae_1.numpy(), mse_1.numpy()],\n",
        "                 [\"model_2\", mae_2.numpy(), mse_2.numpy()],\n",
        "                 [\"model_3\", mae_3.numpy(), mse_3.numpy()]]\n",
        "\n",
        "all_results = pd.DataFrame(model_results, columns=[\"model\", \"mae\", \"mse\"])\n",
        "all_results"
      ]
    },
    {
      "cell_type": "markdown",
      "metadata": {
        "id": "aUSrtOpMOM4W"
      },
      "source": [
        "Looks like model_2 performed the best"
      ]
    },
    {
      "cell_type": "code",
      "execution_count": 56,
      "metadata": {
        "colab": {
          "base_uri": "https://localhost:8080/"
        },
        "id": "l6TjzdtwOM4W",
        "outputId": "b0e385f9-f9ea-4b26-98ff-97bb28eccf4e"
      },
      "outputs": [
        {
          "name": "stdout",
          "output_type": "stream",
          "text": [
            "Model: \"sequential_5\"\n",
            "_________________________________________________________________\n",
            " Layer (type)                Output Shape              Param #   \n",
            "=================================================================\n",
            " dense_6 (Dense)             (None, 10)                20        \n",
            "                                                                 \n",
            " dense_7 (Dense)             (None, 1)                 11        \n",
            "                                                                 \n",
            "=================================================================\n",
            "Total params: 31\n",
            "Trainable params: 31\n",
            "Non-trainable params: 0\n",
            "_________________________________________________________________\n"
          ]
        }
      ],
      "source": [
        "model_2.summary()"
      ]
    },
    {
      "cell_type": "markdown",
      "metadata": {
        "id": "39lvTk71OM4X"
      },
      "source": [
        "## Saving Our Models"
      ]
    },
    {
      "cell_type": "code",
      "execution_count": 57,
      "metadata": {
        "colab": {
          "base_uri": "https://localhost:8080/"
        },
        "id": "bZItbgYvOM4X",
        "outputId": "0ba8907b-9d44-4c9a-a5d5-ed475eeb8419"
      },
      "outputs": [
        {
          "name": "stderr",
          "output_type": "stream",
          "text": [
            "WARNING:absl:Found untraced functions such as _update_step_xla while saving (showing 1 of 1). These functions will not be directly callable after loading.\n"
          ]
        },
        {
          "name": "stdout",
          "output_type": "stream",
          "text": [
            "INFO:tensorflow:Assets written to: best_model_savedModel_format/assets\n"
          ]
        },
        {
          "name": "stderr",
          "output_type": "stream",
          "text": [
            "INFO:tensorflow:Assets written to: best_model_savedModel_format/assets\n"
          ]
        }
      ],
      "source": [
        "# Save Model using the savemodal format\n",
        "model_2.save(\"best_model_savedModel_format\")"
      ]
    },
    {
      "cell_type": "code",
      "execution_count": 58,
      "metadata": {
        "id": "Q6zxQeJXPlQn"
      },
      "outputs": [],
      "source": [
        "# save model using the hdf5 format\n",
        "model_2.save(\"best_model_HDF5_format.h5\")"
      ]
    },
    {
      "cell_type": "markdown",
      "metadata": {
        "id": "ifktdcGgQSCV"
      },
      "source": [
        "# Loading in a saved model"
      ]
    },
    {
      "cell_type": "code",
      "execution_count": 59,
      "metadata": {
        "colab": {
          "base_uri": "https://localhost:8080/"
        },
        "id": "KdQM67A_RjYu",
        "outputId": "2697fefe-23c1-419e-cbc1-5698cd2c395c"
      },
      "outputs": [
        {
          "name": "stdout",
          "output_type": "stream",
          "text": [
            "Model: \"sequential_5\"\n",
            "_________________________________________________________________\n",
            " Layer (type)                Output Shape              Param #   \n",
            "=================================================================\n",
            " dense_6 (Dense)             (None, 10)                20        \n",
            "                                                                 \n",
            " dense_7 (Dense)             (None, 1)                 11        \n",
            "                                                                 \n",
            "=================================================================\n",
            "Total params: 31\n",
            "Trainable params: 31\n",
            "Non-trainable params: 0\n",
            "_________________________________________________________________\n"
          ]
        }
      ],
      "source": [
        "# load in the savedModel format model\n",
        "loaded_SavedModel_format = tf.keras.models.load_model(\"best_model_savedModel_format\")\n",
        "loaded_SavedModel_format.summary()"
      ]
    },
    {
      "cell_type": "code",
      "execution_count": 60,
      "metadata": {
        "colab": {
          "base_uri": "https://localhost:8080/"
        },
        "id": "hWsDrmy1R_oW",
        "outputId": "b348c7bd-aab7-429e-8a3e-540ae8af9122"
      },
      "outputs": [
        {
          "name": "stdout",
          "output_type": "stream",
          "text": [
            "1/1 [==============================] - 0s 83ms/step\n",
            "1/1 [==============================] - 0s 94ms/step\n"
          ]
        },
        {
          "data": {
            "text/plain": [
              "array([[ True],\n",
              "       [ True],\n",
              "       [ True],\n",
              "       [ True],\n",
              "       [ True],\n",
              "       [ True],\n",
              "       [ True],\n",
              "       [ True],\n",
              "       [ True],\n",
              "       [ True]])"
            ]
          },
          "execution_count": 60,
          "metadata": {},
          "output_type": "execute_result"
        }
      ],
      "source": [
        "# Compare model_2 predictions with saved model format model predictions\n",
        "model_2_preds = model_2.predict(x_test)\n",
        "loaded_SavedModel_format_preds = loaded_SavedModel_format.predict(x_test)\n",
        "model_2_preds == loaded_SavedModel_format_preds"
      ]
    },
    {
      "cell_type": "code",
      "execution_count": 61,
      "metadata": {
        "colab": {
          "base_uri": "https://localhost:8080/"
        },
        "id": "W47MLMr4SGRL",
        "outputId": "f6befaaa-cc42-4952-87b8-3aff419fbdd0"
      },
      "outputs": [
        {
          "name": "stdout",
          "output_type": "stream",
          "text": [
            "Model: \"sequential_5\"\n",
            "_________________________________________________________________\n",
            " Layer (type)                Output Shape              Param #   \n",
            "=================================================================\n",
            " dense_6 (Dense)             (None, 10)                20        \n",
            "                                                                 \n",
            " dense_7 (Dense)             (None, 1)                 11        \n",
            "                                                                 \n",
            "=================================================================\n",
            "Total params: 31\n",
            "Trainable params: 31\n",
            "Non-trainable params: 0\n",
            "_________________________________________________________________\n"
          ]
        }
      ],
      "source": [
        "# load in a model doing h5 format\n",
        "loaded_h5_model = tf.keras.models.load_model(\"best_model_HDF5_format.h5\")\n",
        "loaded_h5_model.summary()"
      ]
    },
    {
      "cell_type": "code",
      "execution_count": 62,
      "metadata": {
        "colab": {
          "base_uri": "https://localhost:8080/"
        },
        "id": "whyXhoCwTIUD",
        "outputId": "0a7cf116-af00-476c-c8f2-f4e81e607759"
      },
      "outputs": [
        {
          "name": "stdout",
          "output_type": "stream",
          "text": [
            "1/1 [==============================] - 0s 54ms/step\n",
            "1/1 [==============================] - 0s 95ms/step\n"
          ]
        },
        {
          "data": {
            "text/plain": [
              "array([[ True],\n",
              "       [ True],\n",
              "       [ True],\n",
              "       [ True],\n",
              "       [ True],\n",
              "       [ True],\n",
              "       [ True],\n",
              "       [ True],\n",
              "       [ True],\n",
              "       [ True]])"
            ]
          },
          "execution_count": 62,
          "metadata": {},
          "output_type": "execute_result"
        }
      ],
      "source": [
        "model_2_preds = model_2.predict(x_test)\n",
        "loaded_h5_model_preds = loaded_h5_model.predict(x_test)\n",
        "model_2_preds == loaded_h5_model_preds"
      ]
    },
    {
      "cell_type": "code",
      "execution_count": null,
      "metadata": {
        "id": "vTvLf_ZXneTv"
      },
      "outputs": [],
      "source": []
    },
    {
      "cell_type": "markdown",
      "metadata": {
        "id": "fD564j2-neTv"
      },
      "source": [
        "# A larger example"
      ]
    },
    {
      "cell_type": "code",
      "execution_count": 85,
      "metadata": {
        "id": "90RvgSPCUFrW"
      },
      "outputs": [],
      "source": [
        "# Import the required libraries\n",
        "import tensorflow as tf\n",
        "import pandas as pd\n",
        "import matplotlib.pyplot as plt"
      ]
    },
    {
      "cell_type": "code",
      "execution_count": 86,
      "metadata": {
        "colab": {
          "base_uri": "https://localhost:8080/",
          "height": 423
        },
        "id": "19xToG2OneTw",
        "outputId": "63beff29-f09c-4c60-efab-58b155026641"
      },
      "outputs": [
        {
          "data": {
            "text/html": [
              "<div>\n",
              "<style scoped>\n",
              "    .dataframe tbody tr th:only-of-type {\n",
              "        vertical-align: middle;\n",
              "    }\n",
              "\n",
              "    .dataframe tbody tr th {\n",
              "        vertical-align: top;\n",
              "    }\n",
              "\n",
              "    .dataframe thead th {\n",
              "        text-align: right;\n",
              "    }\n",
              "</style>\n",
              "<table border=\"1\" class=\"dataframe\">\n",
              "  <thead>\n",
              "    <tr style=\"text-align: right;\">\n",
              "      <th></th>\n",
              "      <th>age</th>\n",
              "      <th>sex</th>\n",
              "      <th>bmi</th>\n",
              "      <th>children</th>\n",
              "      <th>smoker</th>\n",
              "      <th>region</th>\n",
              "      <th>charges</th>\n",
              "    </tr>\n",
              "  </thead>\n",
              "  <tbody>\n",
              "    <tr>\n",
              "      <th>0</th>\n",
              "      <td>19</td>\n",
              "      <td>female</td>\n",
              "      <td>27.900</td>\n",
              "      <td>0</td>\n",
              "      <td>yes</td>\n",
              "      <td>southwest</td>\n",
              "      <td>16884.92400</td>\n",
              "    </tr>\n",
              "    <tr>\n",
              "      <th>1</th>\n",
              "      <td>18</td>\n",
              "      <td>male</td>\n",
              "      <td>33.770</td>\n",
              "      <td>1</td>\n",
              "      <td>no</td>\n",
              "      <td>southeast</td>\n",
              "      <td>1725.55230</td>\n",
              "    </tr>\n",
              "    <tr>\n",
              "      <th>2</th>\n",
              "      <td>28</td>\n",
              "      <td>male</td>\n",
              "      <td>33.000</td>\n",
              "      <td>3</td>\n",
              "      <td>no</td>\n",
              "      <td>southeast</td>\n",
              "      <td>4449.46200</td>\n",
              "    </tr>\n",
              "    <tr>\n",
              "      <th>3</th>\n",
              "      <td>33</td>\n",
              "      <td>male</td>\n",
              "      <td>22.705</td>\n",
              "      <td>0</td>\n",
              "      <td>no</td>\n",
              "      <td>northwest</td>\n",
              "      <td>21984.47061</td>\n",
              "    </tr>\n",
              "    <tr>\n",
              "      <th>4</th>\n",
              "      <td>32</td>\n",
              "      <td>male</td>\n",
              "      <td>28.880</td>\n",
              "      <td>0</td>\n",
              "      <td>no</td>\n",
              "      <td>northwest</td>\n",
              "      <td>3866.85520</td>\n",
              "    </tr>\n",
              "    <tr>\n",
              "      <th>...</th>\n",
              "      <td>...</td>\n",
              "      <td>...</td>\n",
              "      <td>...</td>\n",
              "      <td>...</td>\n",
              "      <td>...</td>\n",
              "      <td>...</td>\n",
              "      <td>...</td>\n",
              "    </tr>\n",
              "    <tr>\n",
              "      <th>1333</th>\n",
              "      <td>50</td>\n",
              "      <td>male</td>\n",
              "      <td>30.970</td>\n",
              "      <td>3</td>\n",
              "      <td>no</td>\n",
              "      <td>northwest</td>\n",
              "      <td>10600.54830</td>\n",
              "    </tr>\n",
              "    <tr>\n",
              "      <th>1334</th>\n",
              "      <td>18</td>\n",
              "      <td>female</td>\n",
              "      <td>31.920</td>\n",
              "      <td>0</td>\n",
              "      <td>no</td>\n",
              "      <td>northeast</td>\n",
              "      <td>2205.98080</td>\n",
              "    </tr>\n",
              "    <tr>\n",
              "      <th>1335</th>\n",
              "      <td>18</td>\n",
              "      <td>female</td>\n",
              "      <td>36.850</td>\n",
              "      <td>0</td>\n",
              "      <td>no</td>\n",
              "      <td>southeast</td>\n",
              "      <td>1629.83350</td>\n",
              "    </tr>\n",
              "    <tr>\n",
              "      <th>1336</th>\n",
              "      <td>21</td>\n",
              "      <td>female</td>\n",
              "      <td>25.800</td>\n",
              "      <td>0</td>\n",
              "      <td>no</td>\n",
              "      <td>southwest</td>\n",
              "      <td>2007.94500</td>\n",
              "    </tr>\n",
              "    <tr>\n",
              "      <th>1337</th>\n",
              "      <td>61</td>\n",
              "      <td>female</td>\n",
              "      <td>29.070</td>\n",
              "      <td>0</td>\n",
              "      <td>yes</td>\n",
              "      <td>northwest</td>\n",
              "      <td>29141.36030</td>\n",
              "    </tr>\n",
              "  </tbody>\n",
              "</table>\n",
              "<p>1338 rows × 7 columns</p>\n",
              "</div>"
            ],
            "text/plain": [
              "      age     sex     bmi  children smoker     region      charges\n",
              "0      19  female  27.900         0    yes  southwest  16884.92400\n",
              "1      18    male  33.770         1     no  southeast   1725.55230\n",
              "2      28    male  33.000         3     no  southeast   4449.46200\n",
              "3      33    male  22.705         0     no  northwest  21984.47061\n",
              "4      32    male  28.880         0     no  northwest   3866.85520\n",
              "...   ...     ...     ...       ...    ...        ...          ...\n",
              "1333   50    male  30.970         3     no  northwest  10600.54830\n",
              "1334   18  female  31.920         0     no  northeast   2205.98080\n",
              "1335   18  female  36.850         0     no  southeast   1629.83350\n",
              "1336   21  female  25.800         0     no  southwest   2007.94500\n",
              "1337   61  female  29.070         0    yes  northwest  29141.36030\n",
              "\n",
              "[1338 rows x 7 columns]"
            ]
          },
          "execution_count": 86,
          "metadata": {},
          "output_type": "execute_result"
        }
      ],
      "source": [
        "# Read in the insurance dataset\n",
        "insurance = pd.read_csv(\"https://raw.githubusercontent.com/stedy/Machine-Learning-with-R-datasets/master/insurance.csv\")\n",
        "insurance"
      ]
    },
    {
      "cell_type": "code",
      "execution_count": 87,
      "metadata": {
        "colab": {
          "base_uri": "https://localhost:8080/",
          "height": 270
        },
        "id": "xCzLxo7GneTw",
        "outputId": "0849a816-f470-47fd-e9d7-78658601bd0f"
      },
      "outputs": [
        {
          "data": {
            "text/html": [
              "<div>\n",
              "<style scoped>\n",
              "    .dataframe tbody tr th:only-of-type {\n",
              "        vertical-align: middle;\n",
              "    }\n",
              "\n",
              "    .dataframe tbody tr th {\n",
              "        vertical-align: top;\n",
              "    }\n",
              "\n",
              "    .dataframe thead th {\n",
              "        text-align: right;\n",
              "    }\n",
              "</style>\n",
              "<table border=\"1\" class=\"dataframe\">\n",
              "  <thead>\n",
              "    <tr style=\"text-align: right;\">\n",
              "      <th></th>\n",
              "      <th>age</th>\n",
              "      <th>bmi</th>\n",
              "      <th>children</th>\n",
              "      <th>charges</th>\n",
              "      <th>sex_female</th>\n",
              "      <th>sex_male</th>\n",
              "      <th>smoker_no</th>\n",
              "      <th>smoker_yes</th>\n",
              "      <th>region_northeast</th>\n",
              "      <th>region_northwest</th>\n",
              "      <th>region_southeast</th>\n",
              "      <th>region_southwest</th>\n",
              "    </tr>\n",
              "  </thead>\n",
              "  <tbody>\n",
              "    <tr>\n",
              "      <th>0</th>\n",
              "      <td>19</td>\n",
              "      <td>27.900</td>\n",
              "      <td>0</td>\n",
              "      <td>16884.92400</td>\n",
              "      <td>True</td>\n",
              "      <td>False</td>\n",
              "      <td>False</td>\n",
              "      <td>True</td>\n",
              "      <td>False</td>\n",
              "      <td>False</td>\n",
              "      <td>False</td>\n",
              "      <td>True</td>\n",
              "    </tr>\n",
              "    <tr>\n",
              "      <th>1</th>\n",
              "      <td>18</td>\n",
              "      <td>33.770</td>\n",
              "      <td>1</td>\n",
              "      <td>1725.55230</td>\n",
              "      <td>False</td>\n",
              "      <td>True</td>\n",
              "      <td>True</td>\n",
              "      <td>False</td>\n",
              "      <td>False</td>\n",
              "      <td>False</td>\n",
              "      <td>True</td>\n",
              "      <td>False</td>\n",
              "    </tr>\n",
              "    <tr>\n",
              "      <th>2</th>\n",
              "      <td>28</td>\n",
              "      <td>33.000</td>\n",
              "      <td>3</td>\n",
              "      <td>4449.46200</td>\n",
              "      <td>False</td>\n",
              "      <td>True</td>\n",
              "      <td>True</td>\n",
              "      <td>False</td>\n",
              "      <td>False</td>\n",
              "      <td>False</td>\n",
              "      <td>True</td>\n",
              "      <td>False</td>\n",
              "    </tr>\n",
              "    <tr>\n",
              "      <th>3</th>\n",
              "      <td>33</td>\n",
              "      <td>22.705</td>\n",
              "      <td>0</td>\n",
              "      <td>21984.47061</td>\n",
              "      <td>False</td>\n",
              "      <td>True</td>\n",
              "      <td>True</td>\n",
              "      <td>False</td>\n",
              "      <td>False</td>\n",
              "      <td>True</td>\n",
              "      <td>False</td>\n",
              "      <td>False</td>\n",
              "    </tr>\n",
              "    <tr>\n",
              "      <th>4</th>\n",
              "      <td>32</td>\n",
              "      <td>28.880</td>\n",
              "      <td>0</td>\n",
              "      <td>3866.85520</td>\n",
              "      <td>False</td>\n",
              "      <td>True</td>\n",
              "      <td>True</td>\n",
              "      <td>False</td>\n",
              "      <td>False</td>\n",
              "      <td>True</td>\n",
              "      <td>False</td>\n",
              "      <td>False</td>\n",
              "    </tr>\n",
              "  </tbody>\n",
              "</table>\n",
              "</div>"
            ],
            "text/plain": [
              "   age     bmi  children      charges  sex_female  sex_male  smoker_no   \n",
              "0   19  27.900         0  16884.92400        True     False      False  \\\n",
              "1   18  33.770         1   1725.55230       False      True       True   \n",
              "2   28  33.000         3   4449.46200       False      True       True   \n",
              "3   33  22.705         0  21984.47061       False      True       True   \n",
              "4   32  28.880         0   3866.85520       False      True       True   \n",
              "\n",
              "   smoker_yes  region_northeast  region_northwest  region_southeast   \n",
              "0        True             False             False             False  \\\n",
              "1       False             False             False              True   \n",
              "2       False             False             False              True   \n",
              "3       False             False              True             False   \n",
              "4       False             False              True             False   \n",
              "\n",
              "   region_southwest  \n",
              "0              True  \n",
              "1             False  \n",
              "2             False  \n",
              "3             False  \n",
              "4             False  "
            ]
          },
          "execution_count": 87,
          "metadata": {},
          "output_type": "execute_result"
        }
      ],
      "source": [
        "# Turn all categories into numbers\n",
        "insurance_one_hot = pd.get_dummies(insurance)\n",
        "insurance_one_hot.head() # view the converted columns"
      ]
    },
    {
      "cell_type": "code",
      "execution_count": 88,
      "metadata": {
        "id": "7kip6Xr7neTx"
      },
      "outputs": [],
      "source": [
        "# Create x and y values (features and labels)\n",
        "x = insurance_one_hot.drop(\"charges\", axis=1)\n",
        "y = insurance_one_hot[\"charges\"]"
      ]
    },
    {
      "cell_type": "code",
      "execution_count": 89,
      "metadata": {
        "colab": {
          "base_uri": "https://localhost:8080/",
          "height": 270
        },
        "id": "1oyNcHlCneTx",
        "outputId": "f71dc5aa-87cc-4beb-9010-b1530ace7971"
      },
      "outputs": [
        {
          "data": {
            "text/html": [
              "<div>\n",
              "<style scoped>\n",
              "    .dataframe tbody tr th:only-of-type {\n",
              "        vertical-align: middle;\n",
              "    }\n",
              "\n",
              "    .dataframe tbody tr th {\n",
              "        vertical-align: top;\n",
              "    }\n",
              "\n",
              "    .dataframe thead th {\n",
              "        text-align: right;\n",
              "    }\n",
              "</style>\n",
              "<table border=\"1\" class=\"dataframe\">\n",
              "  <thead>\n",
              "    <tr style=\"text-align: right;\">\n",
              "      <th></th>\n",
              "      <th>age</th>\n",
              "      <th>bmi</th>\n",
              "      <th>children</th>\n",
              "      <th>sex_female</th>\n",
              "      <th>sex_male</th>\n",
              "      <th>smoker_no</th>\n",
              "      <th>smoker_yes</th>\n",
              "      <th>region_northeast</th>\n",
              "      <th>region_northwest</th>\n",
              "      <th>region_southeast</th>\n",
              "      <th>region_southwest</th>\n",
              "    </tr>\n",
              "  </thead>\n",
              "  <tbody>\n",
              "    <tr>\n",
              "      <th>0</th>\n",
              "      <td>19</td>\n",
              "      <td>27.900</td>\n",
              "      <td>0</td>\n",
              "      <td>True</td>\n",
              "      <td>False</td>\n",
              "      <td>False</td>\n",
              "      <td>True</td>\n",
              "      <td>False</td>\n",
              "      <td>False</td>\n",
              "      <td>False</td>\n",
              "      <td>True</td>\n",
              "    </tr>\n",
              "    <tr>\n",
              "      <th>1</th>\n",
              "      <td>18</td>\n",
              "      <td>33.770</td>\n",
              "      <td>1</td>\n",
              "      <td>False</td>\n",
              "      <td>True</td>\n",
              "      <td>True</td>\n",
              "      <td>False</td>\n",
              "      <td>False</td>\n",
              "      <td>False</td>\n",
              "      <td>True</td>\n",
              "      <td>False</td>\n",
              "    </tr>\n",
              "    <tr>\n",
              "      <th>2</th>\n",
              "      <td>28</td>\n",
              "      <td>33.000</td>\n",
              "      <td>3</td>\n",
              "      <td>False</td>\n",
              "      <td>True</td>\n",
              "      <td>True</td>\n",
              "      <td>False</td>\n",
              "      <td>False</td>\n",
              "      <td>False</td>\n",
              "      <td>True</td>\n",
              "      <td>False</td>\n",
              "    </tr>\n",
              "    <tr>\n",
              "      <th>3</th>\n",
              "      <td>33</td>\n",
              "      <td>22.705</td>\n",
              "      <td>0</td>\n",
              "      <td>False</td>\n",
              "      <td>True</td>\n",
              "      <td>True</td>\n",
              "      <td>False</td>\n",
              "      <td>False</td>\n",
              "      <td>True</td>\n",
              "      <td>False</td>\n",
              "      <td>False</td>\n",
              "    </tr>\n",
              "    <tr>\n",
              "      <th>4</th>\n",
              "      <td>32</td>\n",
              "      <td>28.880</td>\n",
              "      <td>0</td>\n",
              "      <td>False</td>\n",
              "      <td>True</td>\n",
              "      <td>True</td>\n",
              "      <td>False</td>\n",
              "      <td>False</td>\n",
              "      <td>True</td>\n",
              "      <td>False</td>\n",
              "      <td>False</td>\n",
              "    </tr>\n",
              "  </tbody>\n",
              "</table>\n",
              "</div>"
            ],
            "text/plain": [
              "   age     bmi  children  sex_female  sex_male  smoker_no  smoker_yes   \n",
              "0   19  27.900         0        True     False      False        True  \\\n",
              "1   18  33.770         1       False      True       True       False   \n",
              "2   28  33.000         3       False      True       True       False   \n",
              "3   33  22.705         0       False      True       True       False   \n",
              "4   32  28.880         0       False      True       True       False   \n",
              "\n",
              "   region_northeast  region_northwest  region_southeast  region_southwest  \n",
              "0             False             False             False              True  \n",
              "1             False             False              True             False  \n",
              "2             False             False              True             False  \n",
              "3             False              True             False             False  \n",
              "4             False              True             False             False  "
            ]
          },
          "execution_count": 89,
          "metadata": {},
          "output_type": "execute_result"
        }
      ],
      "source": [
        "# View x\n",
        "x.head()"
      ]
    },
    {
      "cell_type": "code",
      "execution_count": 90,
      "metadata": {
        "colab": {
          "base_uri": "https://localhost:8080/"
        },
        "id": "CUXm7I5mneTx",
        "outputId": "98974dbb-f856-4b5b-9dd5-16a4925450e6"
      },
      "outputs": [
        {
          "data": {
            "text/plain": [
              "0    16884.92400\n",
              "1     1725.55230\n",
              "2     4449.46200\n",
              "3    21984.47061\n",
              "4     3866.85520\n",
              "Name: charges, dtype: float64"
            ]
          },
          "execution_count": 90,
          "metadata": {},
          "output_type": "execute_result"
        }
      ],
      "source": [
        "# view y\n",
        "y.head()"
      ]
    },
    {
      "cell_type": "code",
      "execution_count": 91,
      "metadata": {
        "colab": {
          "base_uri": "https://localhost:8080/"
        },
        "id": "GXfFn3hgneTy",
        "outputId": "cb7ae7fb-09b7-43e6-c672-059fd07a0b57"
      },
      "outputs": [],
      "source": [
        "# Create training and test sets\n",
        "from sklearn.model_selection import train_test_split\n",
        "X_train, X_test, y_train, y_test = train_test_split(x, \n",
        "                                                    y, \n",
        "                                                    test_size=0.2, \n",
        "                                                    random_state=42) # set random state for reproducible splits"
      ]
    },
    {
      "cell_type": "code",
      "execution_count": 92,
      "metadata": {
        "colab": {
          "base_uri": "https://localhost:8080/"
        },
        "id": "Utv9vlurneTy",
        "outputId": "8da2e64b-f727-4303-ed06-07c66576254d"
      },
      "outputs": [
        {
          "ename": "TypeError",
          "evalue": "Missing required positional argument",
          "output_type": "error",
          "traceback": [
            "\u001b[0;31m---------------------------------------------------------------------------\u001b[0m",
            "\u001b[0;31mTypeError\u001b[0m                                 Traceback (most recent call last)",
            "Cell \u001b[0;32mIn[92], line 17\u001b[0m\n\u001b[1;32m     11\u001b[0m insurance_model\u001b[39m.\u001b[39mcompile(\n\u001b[1;32m     12\u001b[0m     loss\u001b[39m=\u001b[39mtf\u001b[39m.\u001b[39mkeras\u001b[39m.\u001b[39mlosses\u001b[39m.\u001b[39mmae,\n\u001b[1;32m     13\u001b[0m     optimizer\u001b[39m=\u001b[39mtf\u001b[39m.\u001b[39mkeras\u001b[39m.\u001b[39moptimizers\u001b[39m.\u001b[39mSGD(),\n\u001b[1;32m     14\u001b[0m     metrics\u001b[39m=\u001b[39m[\u001b[39m\"\u001b[39m\u001b[39mmae\u001b[39m\u001b[39m\"\u001b[39m])\n\u001b[1;32m     16\u001b[0m \u001b[39m# 3. Fit the model\u001b[39;00m\n\u001b[0;32m---> 17\u001b[0m insurance_model\u001b[39m.\u001b[39mfit(tf\u001b[39m.\u001b[39;49mexpand_dims(X_train), y_train, epochs\u001b[39m=\u001b[39m\u001b[39m100\u001b[39m)\n",
            "File \u001b[0;32m~/anaconda3/envs/ml_env/lib/python3.10/site-packages/tensorflow/python/util/traceback_utils.py:153\u001b[0m, in \u001b[0;36mfilter_traceback.<locals>.error_handler\u001b[0;34m(*args, **kwargs)\u001b[0m\n\u001b[1;32m    151\u001b[0m \u001b[39mexcept\u001b[39;00m \u001b[39mException\u001b[39;00m \u001b[39mas\u001b[39;00m e:\n\u001b[1;32m    152\u001b[0m   filtered_tb \u001b[39m=\u001b[39m _process_traceback_frames(e\u001b[39m.\u001b[39m__traceback__)\n\u001b[0;32m--> 153\u001b[0m   \u001b[39mraise\u001b[39;00m e\u001b[39m.\u001b[39mwith_traceback(filtered_tb) \u001b[39mfrom\u001b[39;00m \u001b[39mNone\u001b[39;00m\n\u001b[1;32m    154\u001b[0m \u001b[39mfinally\u001b[39;00m:\n\u001b[1;32m    155\u001b[0m   \u001b[39mdel\u001b[39;00m filtered_tb\n",
            "File \u001b[0;32m~/anaconda3/envs/ml_env/lib/python3.10/site-packages/tensorflow/python/util/dispatch.py:1170\u001b[0m, in \u001b[0;36madd_dispatch_support.<locals>.decorator.<locals>.op_dispatch_handler\u001b[0;34m(*args, **kwargs)\u001b[0m\n\u001b[1;32m   1168\u001b[0m \u001b[39mif\u001b[39;00m iterable_params \u001b[39mis\u001b[39;00m \u001b[39mnot\u001b[39;00m \u001b[39mNone\u001b[39;00m:\n\u001b[1;32m   1169\u001b[0m   args, kwargs \u001b[39m=\u001b[39m replace_iterable_params(args, kwargs, iterable_params)\n\u001b[0;32m-> 1170\u001b[0m result \u001b[39m=\u001b[39m api_dispatcher\u001b[39m.\u001b[39;49mDispatch(args, kwargs)\n\u001b[1;32m   1171\u001b[0m \u001b[39mif\u001b[39;00m result \u001b[39mis\u001b[39;00m \u001b[39mnot\u001b[39;00m \u001b[39mNotImplemented\u001b[39m:\n\u001b[1;32m   1172\u001b[0m   \u001b[39mreturn\u001b[39;00m result\n",
            "\u001b[0;31mTypeError\u001b[0m: Missing required positional argument"
          ]
        }
      ],
      "source": [
        "# Build a neural network\n",
        "tf.random.set_seed(42)\n",
        "\n",
        "# 1. Create a model\n",
        "insurance_model = tf.keras.Sequential([\n",
        "    tf.keras.layers.Dense(10),\n",
        "    tf.keras.layers.Dense(1),\n",
        "])\n",
        "\n",
        "# 2. Compile the model\n",
        "insurance_model.compile(\n",
        "    loss=tf.keras.losses.mae,\n",
        "    optimizer=tf.keras.optimizers.SGD(),\n",
        "    metrics=[\"mae\"])\n",
        "\n",
        "# 3. Fit the model\n",
        "insurance_model.fit(tf.expand_dims(X_train), y_train, epochs=100)"
      ]
    },
    {
      "cell_type": "code",
      "execution_count": 83,
      "metadata": {},
      "outputs": [
        {
          "data": {
            "text/plain": [
              "((1070, 11), (1070,))"
            ]
          },
          "execution_count": 83,
          "metadata": {},
          "output_type": "execute_result"
        }
      ],
      "source": [
        "x_train.shape, y_train.shape"
      ]
    },
    {
      "cell_type": "code",
      "execution_count": 71,
      "metadata": {
        "colab": {
          "base_uri": "https://localhost:8080/"
        },
        "id": "-oTB52-Uo318",
        "outputId": "41d8601e-fe78-4265-fb90-d524c434dc95"
      },
      "outputs": [
        {
          "ename": "ValueError",
          "evalue": "Failed to convert a NumPy array to a Tensor (Unsupported object type int).",
          "output_type": "error",
          "traceback": [
            "\u001b[0;31m---------------------------------------------------------------------------\u001b[0m",
            "\u001b[0;31mValueError\u001b[0m                                Traceback (most recent call last)",
            "Cell \u001b[0;32mIn[71], line 2\u001b[0m\n\u001b[1;32m      1\u001b[0m \u001b[39m# Check the results of the insurance model on the test data\u001b[39;00m\n\u001b[0;32m----> 2\u001b[0m insurance_model\u001b[39m.\u001b[39;49mevaluate(x_test, y_test)\n",
            "File \u001b[0;32m~/anaconda3/envs/ml_env/lib/python3.10/site-packages/keras/utils/traceback_utils.py:70\u001b[0m, in \u001b[0;36mfilter_traceback.<locals>.error_handler\u001b[0;34m(*args, **kwargs)\u001b[0m\n\u001b[1;32m     67\u001b[0m     filtered_tb \u001b[39m=\u001b[39m _process_traceback_frames(e\u001b[39m.\u001b[39m__traceback__)\n\u001b[1;32m     68\u001b[0m     \u001b[39m# To get the full stack trace, call:\u001b[39;00m\n\u001b[1;32m     69\u001b[0m     \u001b[39m# `tf.debugging.disable_traceback_filtering()`\u001b[39;00m\n\u001b[0;32m---> 70\u001b[0m     \u001b[39mraise\u001b[39;00m e\u001b[39m.\u001b[39mwith_traceback(filtered_tb) \u001b[39mfrom\u001b[39;00m \u001b[39mNone\u001b[39;00m\n\u001b[1;32m     71\u001b[0m \u001b[39mfinally\u001b[39;00m:\n\u001b[1;32m     72\u001b[0m     \u001b[39mdel\u001b[39;00m filtered_tb\n",
            "File \u001b[0;32m~/anaconda3/envs/ml_env/lib/python3.10/site-packages/tensorflow/python/framework/constant_op.py:102\u001b[0m, in \u001b[0;36mconvert_to_eager_tensor\u001b[0;34m(value, ctx, dtype)\u001b[0m\n\u001b[1;32m    100\u001b[0m     dtype \u001b[39m=\u001b[39m dtypes\u001b[39m.\u001b[39mas_dtype(dtype)\u001b[39m.\u001b[39mas_datatype_enum\n\u001b[1;32m    101\u001b[0m ctx\u001b[39m.\u001b[39mensure_initialized()\n\u001b[0;32m--> 102\u001b[0m \u001b[39mreturn\u001b[39;00m ops\u001b[39m.\u001b[39;49mEagerTensor(value, ctx\u001b[39m.\u001b[39;49mdevice_name, dtype)\n",
            "\u001b[0;31mValueError\u001b[0m: Failed to convert a NumPy array to a Tensor (Unsupported object type int)."
          ]
        }
      ],
      "source": [
        "# Check the results of the insurance model on the test data\n",
        "insurance_model.evaluate(x_test, y_test)"
      ]
    },
    {
      "cell_type": "code",
      "execution_count": 72,
      "metadata": {
        "colab": {
          "base_uri": "https://localhost:8080/"
        },
        "id": "tKDPgSwqtJqz",
        "outputId": "d51d167f-a398-4eca-a268-b9d768f85a1f"
      },
      "outputs": [
        {
          "data": {
            "text/plain": [
              "(9575.4421, 13346.089736364485)"
            ]
          },
          "execution_count": 72,
          "metadata": {},
          "output_type": "execute_result"
        }
      ],
      "source": [
        "y_train.median(), y_train.mean()"
      ]
    },
    {
      "cell_type": "code",
      "execution_count": 77,
      "metadata": {
        "id": "gh1LxNKDtM_U"
      },
      "outputs": [
        {
          "ename": "ValueError",
          "evalue": "Failed to convert a NumPy array to a Tensor (Unsupported object type int).",
          "output_type": "error",
          "traceback": [
            "\u001b[0;31m---------------------------------------------------------------------------\u001b[0m",
            "\u001b[0;31mValueError\u001b[0m                                Traceback (most recent call last)",
            "Cell \u001b[0;32mIn[77], line 15\u001b[0m\n\u001b[1;32m     12\u001b[0m insurance_model_2\u001b[39m.\u001b[39mcompile(loss\u001b[39m=\u001b[39mtf\u001b[39m.\u001b[39mkeras\u001b[39m.\u001b[39mlosses\u001b[39m.\u001b[39mmae, optimizer\u001b[39m=\u001b[39mtf\u001b[39m.\u001b[39mkeras\u001b[39m.\u001b[39moptimizers\u001b[39m.\u001b[39mAdam(), metrics\u001b[39m=\u001b[39m[\u001b[39m\"\u001b[39m\u001b[39mmae\u001b[39m\u001b[39m\"\u001b[39m])\n\u001b[1;32m     14\u001b[0m \u001b[39m# 3. Fit the model\u001b[39;00m\n\u001b[0;32m---> 15\u001b[0m insurance_model_2\u001b[39m.\u001b[39mfit(tf\u001b[39m.\u001b[39;49mexpand_dims(x_train, axis\u001b[39m=\u001b[39;49m\u001b[39m1\u001b[39;49m), y_train, epochs\u001b[39m=\u001b[39m\u001b[39m100\u001b[39m, verbose\u001b[39m=\u001b[39m\u001b[39m0\u001b[39m)\n",
            "File \u001b[0;32m~/anaconda3/envs/ml_env/lib/python3.10/site-packages/tensorflow/python/util/traceback_utils.py:153\u001b[0m, in \u001b[0;36mfilter_traceback.<locals>.error_handler\u001b[0;34m(*args, **kwargs)\u001b[0m\n\u001b[1;32m    151\u001b[0m \u001b[39mexcept\u001b[39;00m \u001b[39mException\u001b[39;00m \u001b[39mas\u001b[39;00m e:\n\u001b[1;32m    152\u001b[0m   filtered_tb \u001b[39m=\u001b[39m _process_traceback_frames(e\u001b[39m.\u001b[39m__traceback__)\n\u001b[0;32m--> 153\u001b[0m   \u001b[39mraise\u001b[39;00m e\u001b[39m.\u001b[39mwith_traceback(filtered_tb) \u001b[39mfrom\u001b[39;00m \u001b[39mNone\u001b[39;00m\n\u001b[1;32m    154\u001b[0m \u001b[39mfinally\u001b[39;00m:\n\u001b[1;32m    155\u001b[0m   \u001b[39mdel\u001b[39;00m filtered_tb\n",
            "File \u001b[0;32m~/anaconda3/envs/ml_env/lib/python3.10/site-packages/tensorflow/python/framework/constant_op.py:102\u001b[0m, in \u001b[0;36mconvert_to_eager_tensor\u001b[0;34m(value, ctx, dtype)\u001b[0m\n\u001b[1;32m    100\u001b[0m     dtype \u001b[39m=\u001b[39m dtypes\u001b[39m.\u001b[39mas_dtype(dtype)\u001b[39m.\u001b[39mas_datatype_enum\n\u001b[1;32m    101\u001b[0m ctx\u001b[39m.\u001b[39mensure_initialized()\n\u001b[0;32m--> 102\u001b[0m \u001b[39mreturn\u001b[39;00m ops\u001b[39m.\u001b[39;49mEagerTensor(value, ctx\u001b[39m.\u001b[39;49mdevice_name, dtype)\n",
            "\u001b[0;31mValueError\u001b[0m: Failed to convert a NumPy array to a Tensor (Unsupported object type int)."
          ]
        }
      ],
      "source": [
        "# Set random seed\n",
        "tf.random.set_seed(42)\n",
        "\n",
        "# 1. Create the model\n",
        "insurance_model_2 = tf.keras.Sequential([\n",
        "    tf.keras.layers.Dense(100),\n",
        "    tf.keras.layers.Dense(10),\n",
        "    tf.keras.layers.Dense(1)\n",
        "])\n",
        "\n",
        "# 2. Compile the model\n",
        "insurance_model_2.compile(loss=tf.keras.losses.mae, optimizer=tf.keras.optimizers.Adam(), metrics=[\"mae\"])\n",
        "\n",
        "# 3. Fit the model\n",
        "insurance_model_2.fit(tf.expand_dims(x_train, axis=1), y_train, epochs=100, verbose=0)"
      ]
    },
    {
      "cell_type": "code",
      "execution_count": null,
      "metadata": {},
      "outputs": [],
      "source": []
    }
  ],
  "metadata": {
    "colab": {
      "provenance": []
    },
    "kernelspec": {
      "display_name": "Python 3",
      "name": "python3"
    },
    "language_info": {
      "codemirror_mode": {
        "name": "ipython",
        "version": 3
      },
      "file_extension": ".py",
      "mimetype": "text/x-python",
      "name": "python",
      "nbconvert_exporter": "python",
      "pygments_lexer": "ipython3",
      "version": "3.10.12"
    }
  },
  "nbformat": 4,
  "nbformat_minor": 0
}
