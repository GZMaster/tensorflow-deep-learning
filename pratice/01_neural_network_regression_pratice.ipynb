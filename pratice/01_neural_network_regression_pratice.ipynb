{
  "cells": [
    {
      "cell_type": "markdown",
      "metadata": {
        "id": "-2v6sz12PBnH"
      },
      "source": [
        "# INTRODUCTION TO REGRESSION WITH NEURAL NETWORKS IN TENSORFLOW"
      ]
    },
    {
      "cell_type": "code",
      "execution_count": 1,
      "metadata": {
        "colab": {
          "base_uri": "https://localhost:8080/"
        },
        "id": "8uLcqJnzPaq_",
        "outputId": "d747415b-611b-4117-adc0-0058173fe918"
      },
      "outputs": [
        {
          "name": "stderr",
          "output_type": "stream",
          "text": [
            "2023-07-25 03:01:30.930999: I tensorflow/core/platform/cpu_feature_guard.cc:193] This TensorFlow binary is optimized with oneAPI Deep Neural Network Library (oneDNN) to use the following CPU instructions in performance-critical operations:  SSE4.1 SSE4.2 AVX AVX2 AVX512F AVX512_VNNI FMA\n",
            "To enable them in other operations, rebuild TensorFlow with the appropriate compiler flags.\n",
            "2023-07-25 03:01:31.463385: I tensorflow/core/util/port.cc:104] oneDNN custom operations are on. You may see slightly different numerical results due to floating-point round-off errors from different computation orders. To turn them off, set the environment variable `TF_ENABLE_ONEDNN_OPTS=0`.\n"
          ]
        },
        {
          "name": "stdout",
          "output_type": "stream",
          "text": [
            "2.11.0\n"
          ]
        }
      ],
      "source": [
        "# Import TensorFlow\n",
        "import tensorflow as tf\n",
        "print(tf.__version__)"
      ]
    },
    {
      "cell_type": "markdown",
      "metadata": {
        "id": "DjbW0-8XPlVS"
      },
      "source": [
        "## Creating data to view and fit"
      ]
    },
    {
      "cell_type": "code",
      "execution_count": 2,
      "metadata": {
        "colab": {
          "base_uri": "https://localhost:8080/",
          "height": 452
        },
        "id": "zb6r5iWxPve7",
        "outputId": "13c51ca5-38a6-4164-d895-ab4728e797de"
      },
      "outputs": [
        {
          "data": {
            "text/plain": [
              "<matplotlib.collections.PathCollection at 0x7f718a75a050>"
            ]
          },
          "execution_count": 2,
          "metadata": {},
          "output_type": "execute_result"
        },
        {
          "data": {
            "image/png": "[encoded data removed]",
            "text/plain": [
              "<Figure size 640x480 with 1 Axes>"
            ]
          },
          "metadata": {},
          "output_type": "display_data"
        }
      ],
      "source": [
        "import numpy as np\n",
        "import matplotlib.pyplot as plt\n",
        "\n",
        "# Create features\n",
        "x = np.array([-7.0, -4.0, -1.0, 2.0, 5.0, 8.0, 11.0, 14.0])\n",
        "\n",
        "# Create labels\n",
        "y = np.array([3.0, 6.0, 9.0, 12.0, 15.0, 18.0, 21.0, 24.0])\n",
        "\n",
        "# Visualize it\n",
        "plt.scatter(x, y)"
      ]
    },
    {
      "cell_type": "code",
      "execution_count": 3,
      "metadata": {
        "colab": {
          "base_uri": "https://localhost:8080/"
        },
        "id": "tF2YtHyjPuUP",
        "outputId": "a109118a-e46a-4598-b9fa-11ad20ddcbb3"
      },
      "outputs": [
        {
          "data": {
            "text/plain": [
              "array([ True,  True,  True,  True,  True,  True,  True,  True])"
            ]
          },
          "execution_count": 3,
          "metadata": {},
          "output_type": "execute_result"
        }
      ],
      "source": [
        "y == x + 10"
      ]
    },
    {
      "cell_type": "markdown",
      "metadata": {
        "id": "k16pFcIrQoY9"
      },
      "source": [
        "## Input and output shapes"
      ]
    },
    {
      "cell_type": "code",
      "execution_count": 4,
      "metadata": {
        "colab": {
          "base_uri": "https://localhost:8080/"
        },
        "id": "Gsxz_vqIQw6I",
        "outputId": "cd9ce15b-667b-43ba-c29e-05742c290cfb"
      },
      "outputs": [
        {
          "name": "stderr",
          "output_type": "stream",
          "text": [
            "2023-07-25 03:01:41.001516: I tensorflow/core/platform/cpu_feature_guard.cc:193] This TensorFlow binary is optimized with oneAPI Deep Neural Network Library (oneDNN) to use the following CPU instructions in performance-critical operations:  SSE4.1 SSE4.2 AVX AVX2 AVX512F AVX512_VNNI FMA\n",
            "To enable them in other operations, rebuild TensorFlow with the appropriate compiler flags.\n"
          ]
        },
        {
          "data": {
            "text/plain": [
              "(<tf.Tensor: shape=(3,), dtype=string, numpy=array([b'bedroom', b'bathroom', b'garage'], dtype=object)>,\n",
              " <tf.Tensor: shape=(1,), dtype=int32, numpy=array([939700], dtype=int32)>)"
            ]
          },
          "execution_count": 4,
          "metadata": {},
          "output_type": "execute_result"
        }
      ],
      "source": [
        "# Create a demo tensor for our housing price prediction problem\n",
        "house_info = tf.constant([\"bedroom\", \"bathroom\", \"garage\"])\n",
        "house_price = tf.constant([939700])\n",
        "house_info, house_price"
      ]
    },
    {
      "cell_type": "code",
      "execution_count": 5,
      "metadata": {
        "colab": {
          "base_uri": "https://localhost:8080/"
        },
        "id": "BcMnSW9DRsIs",
        "outputId": "e90f2831-a2a9-4d8a-e0c6-2ef30ffef76f"
      },
      "outputs": [
        {
          "data": {
            "text/plain": [
              "(-7.0, 3.0)"
            ]
          },
          "execution_count": 5,
          "metadata": {},
          "output_type": "execute_result"
        }
      ],
      "source": [
        "x[0], y[0]"
      ]
    },
    {
      "cell_type": "code",
      "execution_count": 6,
      "metadata": {
        "colab": {
          "base_uri": "https://localhost:8080/"
        },
        "id": "1hWLRy_HRVo0",
        "outputId": "b5e8af85-f1f6-4507-8636-72912a4b0ca7"
      },
      "outputs": [
        {
          "data": {
            "text/plain": [
              "((), ())"
            ]
          },
          "execution_count": 6,
          "metadata": {},
          "output_type": "execute_result"
        }
      ],
      "source": [
        "input_shape = x[0].shape\n",
        "output_shape = y[0].shape\n",
        "input_shape, output_shape"
      ]
    },
    {
      "cell_type": "code",
      "execution_count": 7,
      "metadata": {
        "colab": {
          "base_uri": "https://localhost:8080/"
        },
        "id": "fTbroJEHReBi",
        "outputId": "5a462813-c362-4bb9-b2e0-6c71ab16f9a1"
      },
      "outputs": [
        {
          "data": {
            "text/plain": [
              "0"
            ]
          },
          "execution_count": 7,
          "metadata": {},
          "output_type": "execute_result"
        }
      ],
      "source": [
        "x[0].ndim"
      ]
    },
    {
      "cell_type": "code",
      "execution_count": 8,
      "metadata": {
        "colab": {
          "base_uri": "https://localhost:8080/"
        },
        "id": "pAiTx-QKR9Re",
        "outputId": "05347d59-1c57-4b88-d544-ae954065d892"
      },
      "outputs": [
        {
          "data": {
            "text/plain": [
              "(-7.0, 3.0)"
            ]
          },
          "execution_count": 8,
          "metadata": {},
          "output_type": "execute_result"
        }
      ],
      "source": [
        "x[0], y[0]"
      ]
    },
    {
      "cell_type": "code",
      "execution_count": 9,
      "metadata": {
        "colab": {
          "base_uri": "https://localhost:8080/"
        },
        "id": "6LoDvmMuSAN_",
        "outputId": "da811963-667f-4dcf-8d9b-a509a0939913"
      },
      "outputs": [
        {
          "data": {
            "text/plain": [
              "(<tf.Tensor: shape=(8,), dtype=float64, numpy=array([-7., -4., -1.,  2.,  5.,  8., 11., 14.])>,\n",
              " <tf.Tensor: shape=(8,), dtype=float64, numpy=array([ 3.,  6.,  9., 12., 15., 18., 21., 24.])>)"
            ]
          },
          "execution_count": 9,
          "metadata": {},
          "output_type": "execute_result"
        }
      ],
      "source": [
        "# Turn our NumPy Arayys into tensors\n",
        "x = tf.constant(x)\n",
        "y = tf.constant(y)\n",
        "x, y"
      ]
    },
    {
      "cell_type": "code",
      "execution_count": 10,
      "metadata": {
        "colab": {
          "base_uri": "https://localhost:8080/"
        },
        "id": "oDk0TvVuTmiu",
        "outputId": "6b79eca1-9b1b-4229-f6a3-4592bf63a973"
      },
      "outputs": [
        {
          "data": {
            "text/plain": [
              "(TensorShape([]), TensorShape([]))"
            ]
          },
          "execution_count": 10,
          "metadata": {},
          "output_type": "execute_result"
        }
      ],
      "source": [
        "input_shape = x[0].shape\n",
        "output_shape = y[0].shape\n",
        "input_shape, output_shape"
      ]
    },
    {
      "cell_type": "code",
      "execution_count": 11,
      "metadata": {
        "colab": {
          "base_uri": "https://localhost:8080/",
          "height": 452
        },
        "id": "adJxBSZZT5Vy",
        "outputId": "fdfb70d8-02b2-48bf-cb0f-f361663cb022"
      },
      "outputs": [
        {
          "data": {
            "text/plain": [
              "<matplotlib.collections.PathCollection at 0x7f718263c970>"
            ]
          },
          "execution_count": 11,
          "metadata": {},
          "output_type": "execute_result"
        },
        {
          "data": {
            "image/png": "[encoded data removed]",
            "text/plain": [
              "<Figure size 640x480 with 1 Axes>"
            ]
          },
          "metadata": {},
          "output_type": "display_data"
        }
      ],
      "source": [
        "plt.scatter(x, y)"
      ]
    },
    {
      "cell_type": "markdown",
      "metadata": {
        "id": "XVLxC6GIUCLv"
      },
      "source": [
        "# Steps in modelling with TensorFlow\n",
        "\n",
        "1. Creating a model\n",
        "2. Compiling a model\n",
        "3. Fitting a model"
      ]
    },
    {
      "cell_type": "code",
      "execution_count": 12,
      "metadata": {
        "colab": {
          "base_uri": "https://localhost:8080/"
        },
        "id": "dlscrAysUKDl",
        "outputId": "44227d35-5e80-4f01-928d-d061c145b53e"
      },
      "outputs": [
        {
          "name": "stdout",
          "output_type": "stream",
          "text": [
            "Epoch 1/5\n",
            "1/1 [==============================] - 1s 697ms/step - loss: 10.2983 - mae: 10.2983\n",
            "Epoch 2/5\n",
            "1/1 [==============================] - 0s 12ms/step - loss: 10.1658 - mae: 10.1658\n",
            "Epoch 3/5\n",
            "1/1 [==============================] - 0s 15ms/step - loss: 10.0333 - mae: 10.0333\n",
            "Epoch 4/5\n",
            "1/1 [==============================] - 0s 12ms/step - loss: 9.9008 - mae: 9.9008\n",
            "Epoch 5/5\n",
            "1/1 [==============================] - 0s 9ms/step - loss: 9.7683 - mae: 9.7683\n"
          ]
        },
        {
          "data": {
            "text/plain": [
              "<keras.callbacks.History at 0x7f71804b6e00>"
            ]
          },
          "execution_count": 12,
          "metadata": {},
          "output_type": "execute_result"
        }
      ],
      "source": [
        "# Set random seed\n",
        "tf.random.set_seed(42)\n",
        "\n",
        "# Create a model using the sequential API\n",
        "model = tf.keras.Sequential([\n",
        "    tf.keras.layers.Dense(1)\n",
        "])\n",
        "\n",
        "# Compile the model\n",
        "model.compile(loss=tf.keras.losses.mae, optimizer=tf.keras.optimizers.SGD(), metrics=[\"mae\"])\n",
        "\n",
        "# Fit the model\n",
        "# model.fit(X, y, epochs=5) # this will break with TensorFlow 2.7.0+\n",
        "model.fit(tf.expand_dims(x, axis=-1), y, epochs=5)"
      ]
    },
    {
      "cell_type": "code",
      "execution_count": 13,
      "metadata": {
        "colab": {
          "base_uri": "https://localhost:8080/"
        },
        "id": "LGjFRj1hOM33",
        "outputId": "4e31498d-dd2e-4b6f-c222-b4d2febd4597"
      },
      "outputs": [
        {
          "data": {
            "text/plain": [
              "(<tf.Tensor: shape=(8,), dtype=float64, numpy=array([-7., -4., -1.,  2.,  5.,  8., 11., 14.])>,\n",
              " <tf.Tensor: shape=(8,), dtype=float64, numpy=array([ 3.,  6.,  9., 12., 15., 18., 21., 24.])>)"
            ]
          },
          "execution_count": 13,
          "metadata": {},
          "output_type": "execute_result"
        }
      ],
      "source": [
        "# Check out x and y\n",
        "x, y"
      ]
    },
    {
      "cell_type": "code",
      "execution_count": 14,
      "metadata": {
        "colab": {
          "base_uri": "https://localhost:8080/"
        },
        "id": "IgA7JVycOM33",
        "outputId": "d161d0f9-ce59-4592-e249-f2fac485cb19"
      },
      "outputs": [
        {
          "name": "stdout",
          "output_type": "stream",
          "text": [
            "1/1 [==============================] - 0s 178ms/step\n"
          ]
        },
        {
          "data": {
            "text/plain": [
              "array([[18.576138]], dtype=float32)"
            ]
          },
          "execution_count": 14,
          "metadata": {},
          "output_type": "execute_result"
        }
      ],
      "source": [
        "# Try and make a prediction using the model\n",
        "y_pred = model.predict([17.0])\n",
        "y_pred"
      ]
    },
    {
      "cell_type": "code",
      "execution_count": 15,
      "metadata": {
        "colab": {
          "base_uri": "https://localhost:8080/"
        },
        "id": "l8VGZ1EGOM34",
        "outputId": "0b57e470-eb27-4def-a384-9886a0939241"
      },
      "outputs": [
        {
          "data": {
            "text/plain": [
              "array([[29.576138]], dtype=float32)"
            ]
          },
          "execution_count": 15,
          "metadata": {},
          "output_type": "execute_result"
        }
      ],
      "source": [
        "y_pred + 11"
      ]
    },
    {
      "cell_type": "markdown",
      "metadata": {
        "id": "3M7sm37KOM34"
      },
      "source": [
        "## Imporving our Model\n",
        "\n",
        "1. **Creating a model** - define the input and output layers, as well as the hidden layers of a deep learning model.\n",
        "2. **Compiling a model** - define the loss function (in other words, the function which tells our model how wrong it is) and the optimizer (tells our model how to improve the patterns its learning) and evaluation metrics (what we can use to interpret the performance of our model).\n",
        "3. **Fitting a model** - letting the model try to find patterns between X & y (features and labels)."
      ]
    },
    {
      "cell_type": "code",
      "execution_count": 16,
      "metadata": {
        "colab": {
          "base_uri": "https://localhost:8080/"
        },
        "id": "vKC0ghwJOM35",
        "outputId": "89a2c61b-555c-434f-dafc-a690d08f52cc"
      },
      "outputs": [
        {
          "name": "stdout",
          "output_type": "stream",
          "text": [
            "Epoch 1/100\n"
          ]
        },
        {
          "name": "stdout",
          "output_type": "stream",
          "text": [
            "1/1 [==============================] - 0s 496ms/step - loss: 8.8167 - mae: 8.8167\n",
            "Epoch 2/100\n",
            "1/1 [==============================] - 0s 8ms/step - loss: 8.6842 - mae: 8.6842\n",
            "Epoch 3/100\n",
            "1/1 [==============================] - 0s 14ms/step - loss: 8.5517 - mae: 8.5517\n",
            "Epoch 4/100\n",
            "1/1 [==============================] - 0s 14ms/step - loss: 8.4192 - mae: 8.4192\n",
            "Epoch 5/100\n",
            "1/1 [==============================] - 0s 11ms/step - loss: 8.2867 - mae: 8.2867\n",
            "Epoch 6/100\n",
            "1/1 [==============================] - 0s 12ms/step - loss: 8.1542 - mae: 8.1542\n",
            "Epoch 7/100\n",
            "1/1 [==============================] - 0s 13ms/step - loss: 8.0217 - mae: 8.0217\n",
            "Epoch 8/100\n",
            "1/1 [==============================] - 0s 12ms/step - loss: 7.8892 - mae: 7.8892\n",
            "Epoch 9/100\n",
            "1/1 [==============================] - 0s 12ms/step - loss: 7.7567 - mae: 7.7567\n",
            "Epoch 10/100\n",
            "1/1 [==============================] - 0s 11ms/step - loss: 7.6242 - mae: 7.6242\n",
            "Epoch 11/100\n",
            "1/1 [==============================] - 0s 13ms/step - loss: 7.4917 - mae: 7.4917\n",
            "Epoch 12/100\n",
            "1/1 [==============================] - 0s 11ms/step - loss: 7.4175 - mae: 7.4175\n",
            "Epoch 13/100\n",
            "1/1 [==============================] - 0s 12ms/step - loss: 7.4119 - mae: 7.4119\n",
            "Epoch 14/100\n",
            "1/1 [==============================] - 0s 12ms/step - loss: 7.4062 - mae: 7.4062\n",
            "Epoch 15/100\n",
            "1/1 [==============================] - 0s 11ms/step - loss: 7.4006 - mae: 7.4006\n",
            "Epoch 16/100\n",
            "1/1 [==============================] - 0s 13ms/step - loss: 7.3950 - mae: 7.3950\n",
            "Epoch 17/100\n",
            "1/1 [==============================] - 0s 12ms/step - loss: 7.3894 - mae: 7.3894\n",
            "Epoch 18/100\n",
            "1/1 [==============================] - 0s 12ms/step - loss: 7.3837 - mae: 7.3837\n",
            "Epoch 19/100\n",
            "1/1 [==============================] - 0s 12ms/step - loss: 7.3781 - mae: 7.3781\n",
            "Epoch 20/100\n",
            "1/1 [==============================] - 0s 12ms/step - loss: 7.3725 - mae: 7.3725\n",
            "Epoch 21/100\n",
            "1/1 [==============================] - 0s 18ms/step - loss: 7.3669 - mae: 7.3669\n",
            "Epoch 22/100\n",
            "1/1 [==============================] - 0s 9ms/step - loss: 7.3613 - mae: 7.3613\n",
            "Epoch 23/100\n",
            "1/1 [==============================] - 0s 10ms/step - loss: 7.3556 - mae: 7.3556\n",
            "Epoch 24/100\n",
            "1/1 [==============================] - 0s 10ms/step - loss: 7.3500 - mae: 7.3500\n",
            "Epoch 25/100\n",
            "1/1 [==============================] - 0s 10ms/step - loss: 7.3444 - mae: 7.3444\n",
            "Epoch 26/100\n",
            "1/1 [==============================] - 0s 12ms/step - loss: 7.3387 - mae: 7.3387\n",
            "Epoch 27/100\n",
            "1/1 [==============================] - 0s 13ms/step - loss: 7.3331 - mae: 7.3331\n",
            "Epoch 28/100\n",
            "1/1 [==============================] - 0s 13ms/step - loss: 7.3275 - mae: 7.3275\n",
            "Epoch 29/100\n",
            "1/1 [==============================] - 0s 12ms/step - loss: 7.3219 - mae: 7.3219\n",
            "Epoch 30/100\n",
            "1/1 [==============================] - 0s 13ms/step - loss: 7.3162 - mae: 7.3162\n",
            "Epoch 31/100\n",
            "1/1 [==============================] - 0s 12ms/step - loss: 7.3106 - mae: 7.3106\n",
            "Epoch 32/100\n",
            "1/1 [==============================] - 0s 14ms/step - loss: 7.3050 - mae: 7.3050\n",
            "Epoch 33/100\n",
            "1/1 [==============================] - 0s 12ms/step - loss: 7.2994 - mae: 7.2994\n",
            "Epoch 34/100\n",
            "1/1 [==============================] - 0s 12ms/step - loss: 7.2938 - mae: 7.2938\n",
            "Epoch 35/100\n",
            "1/1 [==============================] - 0s 11ms/step - loss: 7.2881 - mae: 7.2881\n",
            "Epoch 36/100\n",
            "1/1 [==============================] - 0s 11ms/step - loss: 7.2825 - mae: 7.2825\n",
            "Epoch 37/100\n",
            "1/1 [==============================] - 0s 13ms/step - loss: 7.2769 - mae: 7.2769\n",
            "Epoch 38/100\n",
            "1/1 [==============================] - 0s 13ms/step - loss: 7.2712 - mae: 7.2712\n",
            "Epoch 39/100\n",
            "1/1 [==============================] - 0s 15ms/step - loss: 7.2656 - mae: 7.2656\n",
            "Epoch 40/100\n",
            "1/1 [==============================] - 0s 12ms/step - loss: 7.2600 - mae: 7.2600\n",
            "Epoch 41/100\n",
            "1/1 [==============================] - 0s 12ms/step - loss: 7.2544 - mae: 7.2544\n",
            "Epoch 42/100\n",
            "1/1 [==============================] - 0s 13ms/step - loss: 7.2488 - mae: 7.2488\n",
            "Epoch 43/100\n",
            "1/1 [==============================] - 0s 13ms/step - loss: 7.2431 - mae: 7.2431\n",
            "Epoch 44/100\n",
            "1/1 [==============================] - 0s 10ms/step - loss: 7.2375 - mae: 7.2375\n",
            "Epoch 45/100\n",
            "1/1 [==============================] - 0s 10ms/step - loss: 7.2319 - mae: 7.2319\n",
            "Epoch 46/100\n",
            "1/1 [==============================] - 0s 11ms/step - loss: 7.2263 - mae: 7.2263\n",
            "Epoch 47/100\n",
            "1/1 [==============================] - 0s 13ms/step - loss: 7.2206 - mae: 7.2206\n",
            "Epoch 48/100\n",
            "1/1 [==============================] - 0s 14ms/step - loss: 7.2150 - mae: 7.2150\n",
            "Epoch 49/100\n",
            "1/1 [==============================] - 0s 12ms/step - loss: 7.2094 - mae: 7.2094\n",
            "Epoch 50/100\n",
            "1/1 [==============================] - 0s 23ms/step - loss: 7.2038 - mae: 7.2038\n",
            "Epoch 51/100\n",
            "1/1 [==============================] - 0s 20ms/step - loss: 7.1981 - mae: 7.1981\n",
            "Epoch 52/100\n",
            "1/1 [==============================] - 0s 11ms/step - loss: 7.1925 - mae: 7.1925\n",
            "Epoch 53/100\n",
            "1/1 [==============================] - 0s 14ms/step - loss: 7.1869 - mae: 7.1869\n",
            "Epoch 54/100\n",
            "1/1 [==============================] - 0s 13ms/step - loss: 7.1813 - mae: 7.1813\n",
            "Epoch 55/100\n",
            "1/1 [==============================] - 0s 12ms/step - loss: 7.1756 - mae: 7.1756\n",
            "Epoch 56/100\n",
            "1/1 [==============================] - 0s 11ms/step - loss: 7.1700 - mae: 7.1700\n",
            "Epoch 57/100\n",
            "1/1 [==============================] - 0s 12ms/step - loss: 7.1644 - mae: 7.1644\n",
            "Epoch 58/100\n",
            "1/1 [==============================] - 0s 15ms/step - loss: 7.1588 - mae: 7.1588\n",
            "Epoch 59/100\n",
            "1/1 [==============================] - 0s 11ms/step - loss: 7.1531 - mae: 7.1531\n",
            "Epoch 60/100\n",
            "1/1 [==============================] - 0s 13ms/step - loss: 7.1475 - mae: 7.1475\n",
            "Epoch 61/100\n",
            "1/1 [==============================] - 0s 12ms/step - loss: 7.1419 - mae: 7.1419\n",
            "Epoch 62/100\n",
            "1/1 [==============================] - 0s 12ms/step - loss: 7.1363 - mae: 7.1363\n",
            "Epoch 63/100\n",
            "1/1 [==============================] - 0s 12ms/step - loss: 7.1306 - mae: 7.1306\n",
            "Epoch 64/100\n",
            "1/1 [==============================] - 0s 14ms/step - loss: 7.1250 - mae: 7.1250\n",
            "Epoch 65/100\n",
            "1/1 [==============================] - 0s 12ms/step - loss: 7.1194 - mae: 7.1194\n",
            "Epoch 66/100\n",
            "1/1 [==============================] - 0s 11ms/step - loss: 7.1138 - mae: 7.1138\n",
            "Epoch 67/100\n",
            "1/1 [==============================] - 0s 12ms/step - loss: 7.1081 - mae: 7.1081\n",
            "Epoch 68/100\n",
            "1/1 [==============================] - 0s 14ms/step - loss: 7.1025 - mae: 7.1025\n",
            "Epoch 69/100\n",
            "1/1 [==============================] - 0s 14ms/step - loss: 7.0969 - mae: 7.0969\n",
            "Epoch 70/100\n",
            "1/1 [==============================] - 0s 16ms/step - loss: 7.0913 - mae: 7.0913\n",
            "Epoch 71/100\n",
            "1/1 [==============================] - 0s 14ms/step - loss: 7.0856 - mae: 7.0856\n",
            "Epoch 72/100\n",
            "1/1 [==============================] - 0s 15ms/step - loss: 7.0800 - mae: 7.0800\n",
            "Epoch 73/100\n",
            "1/1 [==============================] - 0s 17ms/step - loss: 7.0744 - mae: 7.0744\n",
            "Epoch 74/100\n",
            "1/1 [==============================] - 0s 16ms/step - loss: 7.0688 - mae: 7.0688\n",
            "Epoch 75/100\n",
            "1/1 [==============================] - 0s 10ms/step - loss: 7.0631 - mae: 7.0631\n",
            "Epoch 76/100\n",
            "1/1 [==============================] - 0s 11ms/step - loss: 7.0575 - mae: 7.0575\n",
            "Epoch 77/100\n",
            "1/1 [==============================] - 0s 11ms/step - loss: 7.0519 - mae: 7.0519\n",
            "Epoch 78/100\n",
            "1/1 [==============================] - 0s 15ms/step - loss: 7.0463 - mae: 7.0463\n",
            "Epoch 79/100\n",
            "1/1 [==============================] - 0s 12ms/step - loss: 7.0406 - mae: 7.0406\n",
            "Epoch 80/100\n",
            "1/1 [==============================] - 0s 16ms/step - loss: 7.0350 - mae: 7.0350\n",
            "Epoch 81/100\n",
            "1/1 [==============================] - 0s 13ms/step - loss: 7.0294 - mae: 7.0294\n",
            "Epoch 82/100\n",
            "1/1 [==============================] - 0s 12ms/step - loss: 7.0238 - mae: 7.0238\n",
            "Epoch 83/100\n",
            "1/1 [==============================] - 0s 12ms/step - loss: 7.0181 - mae: 7.0181\n",
            "Epoch 84/100\n",
            "1/1 [==============================] - 0s 15ms/step - loss: 7.0125 - mae: 7.0125\n",
            "Epoch 85/100\n",
            "1/1 [==============================] - 0s 14ms/step - loss: 7.0069 - mae: 7.0069\n",
            "Epoch 86/100\n",
            "1/1 [==============================] - 0s 14ms/step - loss: 7.0013 - mae: 7.0013\n",
            "Epoch 87/100\n",
            "1/1 [==============================] - 0s 14ms/step - loss: 6.9956 - mae: 6.9956\n",
            "Epoch 88/100\n",
            "1/1 [==============================] - 0s 13ms/step - loss: 6.9900 - mae: 6.9900\n",
            "Epoch 89/100\n",
            "1/1 [==============================] - 0s 15ms/step - loss: 6.9844 - mae: 6.9844\n",
            "Epoch 90/100\n",
            "1/1 [==============================] - 0s 14ms/step - loss: 6.9788 - mae: 6.9788\n",
            "Epoch 91/100\n",
            "1/1 [==============================] - 0s 13ms/step - loss: 6.9731 - mae: 6.9731\n",
            "Epoch 92/100\n",
            "1/1 [==============================] - 0s 15ms/step - loss: 6.9675 - mae: 6.9675\n",
            "Epoch 93/100\n",
            "1/1 [==============================] - 0s 13ms/step - loss: 6.9619 - mae: 6.9619\n",
            "Epoch 94/100\n",
            "1/1 [==============================] - 0s 15ms/step - loss: 6.9563 - mae: 6.9563\n",
            "Epoch 95/100\n",
            "1/1 [==============================] - 0s 15ms/step - loss: 6.9506 - mae: 6.9506\n",
            "Epoch 96/100\n",
            "1/1 [==============================] - 0s 14ms/step - loss: 6.9450 - mae: 6.9450\n",
            "Epoch 97/100\n",
            "1/1 [==============================] - 0s 12ms/step - loss: 6.9394 - mae: 6.9394\n",
            "Epoch 98/100\n",
            "1/1 [==============================] - 0s 15ms/step - loss: 6.9338 - mae: 6.9338\n",
            "Epoch 99/100\n",
            "1/1 [==============================] - 0s 13ms/step - loss: 6.9281 - mae: 6.9281\n",
            "Epoch 100/100\n",
            "1/1 [==============================] - 0s 15ms/step - loss: 6.9225 - mae: 6.9225\n"
          ]
        },
        {
          "data": {
            "text/plain": [
              "<keras.callbacks.History at 0x7f7180217520>"
            ]
          },
          "execution_count": 16,
          "metadata": {},
          "output_type": "execute_result"
        }
      ],
      "source": [
        "# let's rebuild our model\n",
        "\n",
        "# 1. Create the model\n",
        "model = tf.keras.Sequential([\n",
        "    tf.keras.layers.Dense(1)\n",
        "])\n",
        "\n",
        "# 2. Compile the model\n",
        "model.compile(loss=tf.keras.losses.mae, optimizer=tf.keras.optimizers.SGD(), metrics=['mae'])\n",
        "\n",
        "# 3. Fit the model (this time we train for longer)\n",
        "model.fit(tf.expand_dims(x, axis=1), y, epochs=100)"
      ]
    },
    {
      "cell_type": "code",
      "execution_count": 17,
      "metadata": {
        "colab": {
          "base_uri": "https://localhost:8080/"
        },
        "id": "tFCU42aOOM35",
        "outputId": "633ccb26-6b2f-4185-c93f-696557d1ecca"
      },
      "outputs": [
        {
          "data": {
            "text/plain": [
              "(<tf.Tensor: shape=(8,), dtype=float64, numpy=array([-7., -4., -1.,  2.,  5.,  8., 11., 14.])>,\n",
              " <tf.Tensor: shape=(8,), dtype=float64, numpy=array([ 3.,  6.,  9., 12., 15., 18., 21., 24.])>)"
            ]
          },
          "execution_count": 17,
          "metadata": {},
          "output_type": "execute_result"
        }
      ],
      "source": [
        "# Remind ourselves of the data\n",
        "x, y"
      ]
    },
    {
      "cell_type": "code",
      "execution_count": 18,
      "metadata": {
        "colab": {
          "base_uri": "https://localhost:8080/"
        },
        "id": "xIl3oLYSOM36",
        "outputId": "6f4d0337-f46c-475d-b4e8-aac9dcfa9d35"
      },
      "outputs": [
        {
          "name": "stdout",
          "output_type": "stream",
          "text": [
            "1/1 [==============================] - 0s 144ms/step\n"
          ]
        },
        {
          "data": {
            "text/plain": [
              "array([[30.070183]], dtype=float32)"
            ]
          },
          "execution_count": 18,
          "metadata": {},
          "output_type": "execute_result"
        }
      ],
      "source": [
        "model.predict([17.0])"
      ]
    },
    {
      "cell_type": "code",
      "execution_count": 19,
      "metadata": {
        "colab": {
          "base_uri": "https://localhost:8080/"
        },
        "id": "-0etBms9OM36",
        "outputId": "d0356a39-21a2-4836-e241-7b47eee66529"
      },
      "outputs": [
        {
          "name": "stdout",
          "output_type": "stream",
          "text": [
            "Epoch 1/100\n",
            "1/1 [==============================] - 1s 854ms/step - loss: 14.2577 - mae: 14.2577\n",
            "Epoch 2/100\n",
            "1/1 [==============================] - 0s 11ms/step - loss: 13.6501 - mae: 13.6501\n",
            "Epoch 3/100\n",
            "1/1 [==============================] - 0s 12ms/step - loss: 13.0486 - mae: 13.0486\n",
            "Epoch 4/100\n",
            "1/1 [==============================] - 0s 11ms/step - loss: 12.4593 - mae: 12.4593\n",
            "Epoch 5/100\n",
            "1/1 [==============================] - 0s 11ms/step - loss: 11.8805 - mae: 11.8805\n",
            "Epoch 6/100\n",
            "1/1 [==============================] - 0s 10ms/step - loss: 11.2997 - mae: 11.2997\n",
            "Epoch 7/100\n",
            "1/1 [==============================] - 0s 11ms/step - loss: 10.7174 - mae: 10.7174\n",
            "Epoch 8/100\n",
            "1/1 [==============================] - 0s 12ms/step - loss: 10.1338 - mae: 10.1338\n",
            "Epoch 9/100\n",
            "1/1 [==============================] - 0s 12ms/step - loss: 9.5471 - mae: 9.5471\n",
            "Epoch 10/100\n",
            "1/1 [==============================] - 0s 13ms/step - loss: 8.9664 - mae: 8.9664\n",
            "Epoch 11/100\n",
            "1/1 [==============================] - 0s 11ms/step - loss: 8.5225 - mae: 8.5225\n",
            "Epoch 12/100\n",
            "1/1 [==============================] - 0s 10ms/step - loss: 8.0649 - mae: 8.0649\n",
            "Epoch 13/100\n",
            "1/1 [==============================] - 0s 14ms/step - loss: 7.5912 - mae: 7.5912\n",
            "Epoch 14/100\n",
            "1/1 [==============================] - 0s 13ms/step - loss: 7.1026 - mae: 7.1026\n",
            "Epoch 15/100\n",
            "1/1 [==============================] - 0s 14ms/step - loss: 6.5988 - mae: 6.5988\n",
            "Epoch 16/100\n",
            "1/1 [==============================] - 0s 13ms/step - loss: 6.0784 - mae: 6.0784\n",
            "Epoch 17/100\n",
            "1/1 [==============================] - 0s 15ms/step - loss: 5.5421 - mae: 5.5421\n",
            "Epoch 18/100\n",
            "1/1 [==============================] - 0s 14ms/step - loss: 4.9876 - mae: 4.9876\n",
            "Epoch 19/100\n",
            "1/1 [==============================] - 0s 11ms/step - loss: 4.4132 - mae: 4.4132\n",
            "Epoch 20/100\n",
            "1/1 [==============================] - 0s 14ms/step - loss: 3.9264 - mae: 3.9264\n",
            "Epoch 21/100\n",
            "1/1 [==============================] - 0s 11ms/step - loss: 3.7365 - mae: 3.7365\n",
            "Epoch 22/100\n",
            "1/1 [==============================] - 0s 12ms/step - loss: 3.7715 - mae: 3.7715\n",
            "Epoch 23/100\n",
            "1/1 [==============================] - 0s 12ms/step - loss: 3.8722 - mae: 3.8722\n",
            "Epoch 24/100\n",
            "1/1 [==============================] - 0s 10ms/step - loss: 3.9576 - mae: 3.9576\n",
            "Epoch 25/100\n",
            "1/1 [==============================] - 0s 12ms/step - loss: 4.1241 - mae: 4.1241\n",
            "Epoch 26/100\n",
            "1/1 [==============================] - 0s 14ms/step - loss: 4.2806 - mae: 4.2806\n",
            "Epoch 27/100\n",
            "1/1 [==============================] - 0s 15ms/step - loss: 4.3760 - mae: 4.3760\n",
            "Epoch 28/100\n",
            "1/1 [==============================] - 0s 14ms/step - loss: 4.4169 - mae: 4.4169\n",
            "Epoch 29/100\n",
            "1/1 [==============================] - 0s 14ms/step - loss: 4.4093 - mae: 4.4093\n",
            "Epoch 30/100\n",
            "1/1 [==============================] - 0s 10ms/step - loss: 4.3590 - mae: 4.3590\n",
            "Epoch 31/100\n",
            "1/1 [==============================] - 0s 20ms/step - loss: 4.2708 - mae: 4.2708\n",
            "Epoch 32/100\n",
            "1/1 [==============================] - 0s 13ms/step - loss: 4.1496 - mae: 4.1496\n",
            "Epoch 33/100\n",
            "1/1 [==============================] - 0s 14ms/step - loss: 3.9996 - mae: 3.9996\n",
            "Epoch 34/100\n",
            "1/1 [==============================] - 0s 13ms/step - loss: 3.8341 - mae: 3.8341\n",
            "Epoch 35/100\n",
            "1/1 [==============================] - 0s 14ms/step - loss: 3.7617 - mae: 3.7617\n",
            "Epoch 36/100\n",
            "1/1 [==============================] - 0s 16ms/step - loss: 3.6889 - mae: 3.6889\n",
            "Epoch 37/100\n",
            "1/1 [==============================] - 0s 13ms/step - loss: 3.6155 - mae: 3.6155\n",
            "Epoch 38/100\n",
            "1/1 [==============================] - 0s 13ms/step - loss: 3.5419 - mae: 3.5419\n",
            "Epoch 39/100\n",
            "1/1 [==============================] - 0s 10ms/step - loss: 3.4681 - mae: 3.4681\n",
            "Epoch 40/100\n",
            "1/1 [==============================] - 0s 12ms/step - loss: 3.4356 - mae: 3.4356\n",
            "Epoch 41/100\n",
            "1/1 [==============================] - 0s 15ms/step - loss: 3.4735 - mae: 3.4735\n",
            "Epoch 42/100\n",
            "1/1 [==============================] - 0s 12ms/step - loss: 3.4940 - mae: 3.4940\n",
            "Epoch 43/100\n",
            "1/1 [==============================] - 0s 14ms/step - loss: 3.4972 - mae: 3.4972\n",
            "Epoch 44/100\n",
            "1/1 [==============================] - 0s 12ms/step - loss: 3.4845 - mae: 3.4845\n",
            "Epoch 45/100\n",
            "1/1 [==============================] - 0s 13ms/step - loss: 3.4582 - mae: 3.4582\n",
            "Epoch 46/100\n",
            "1/1 [==============================] - 0s 12ms/step - loss: 3.4169 - mae: 3.4169\n",
            "Epoch 47/100\n",
            "1/1 [==============================] - 0s 14ms/step - loss: 3.3579 - mae: 3.3579\n",
            "Epoch 48/100\n",
            "1/1 [==============================] - 0s 12ms/step - loss: 3.2879 - mae: 3.2879\n",
            "Epoch 49/100\n",
            "1/1 [==============================] - 0s 13ms/step - loss: 3.2089 - mae: 3.2089\n",
            "Epoch 50/100\n",
            "1/1 [==============================] - 0s 14ms/step - loss: 3.1155 - mae: 3.1155\n",
            "Epoch 51/100\n",
            "1/1 [==============================] - 0s 14ms/step - loss: 3.1433 - mae: 3.1433\n",
            "Epoch 52/100\n",
            "1/1 [==============================] - 0s 13ms/step - loss: 3.1533 - mae: 3.1533\n",
            "Epoch 53/100\n",
            "1/1 [==============================] - 0s 13ms/step - loss: 3.1183 - mae: 3.1183\n",
            "Epoch 54/100\n",
            "1/1 [==============================] - 0s 13ms/step - loss: 3.0872 - mae: 3.0872\n",
            "Epoch 55/100\n",
            "1/1 [==============================] - 0s 15ms/step - loss: 3.0660 - mae: 3.0660\n",
            "Epoch 56/100\n",
            "1/1 [==============================] - 0s 11ms/step - loss: 3.0365 - mae: 3.0365\n",
            "Epoch 57/100\n",
            "1/1 [==============================] - 0s 11ms/step - loss: 3.0018 - mae: 3.0018\n",
            "Epoch 58/100\n",
            "1/1 [==============================] - 0s 10ms/step - loss: 2.9601 - mae: 2.9601\n",
            "Epoch 59/100\n",
            "1/1 [==============================] - 0s 9ms/step - loss: 2.9110 - mae: 2.9110\n",
            "Epoch 60/100\n",
            "1/1 [==============================] - 0s 11ms/step - loss: 2.8533 - mae: 2.8533\n",
            "Epoch 61/100\n",
            "1/1 [==============================] - 0s 11ms/step - loss: 2.7890 - mae: 2.7890\n",
            "Epoch 62/100\n",
            "1/1 [==============================] - 0s 15ms/step - loss: 2.7188 - mae: 2.7188\n",
            "Epoch 63/100\n",
            "1/1 [==============================] - 0s 15ms/step - loss: 2.6799 - mae: 2.6799\n",
            "Epoch 64/100\n",
            "1/1 [==============================] - 0s 19ms/step - loss: 2.6470 - mae: 2.6470\n",
            "Epoch 65/100\n",
            "1/1 [==============================] - 0s 10ms/step - loss: 2.5868 - mae: 2.5868\n",
            "Epoch 66/100\n",
            "1/1 [==============================] - 0s 12ms/step - loss: 2.4957 - mae: 2.4957\n",
            "Epoch 67/100\n",
            "1/1 [==============================] - 0s 12ms/step - loss: 2.4399 - mae: 2.4399\n",
            "Epoch 68/100\n",
            "1/1 [==============================] - 0s 11ms/step - loss: 2.4023 - mae: 2.4023\n",
            "Epoch 69/100\n",
            "1/1 [==============================] - 0s 12ms/step - loss: 2.3538 - mae: 2.3538\n",
            "Epoch 70/100\n",
            "1/1 [==============================] - 0s 15ms/step - loss: 2.2950 - mae: 2.2950\n",
            "Epoch 71/100\n",
            "1/1 [==============================] - 0s 15ms/step - loss: 2.2263 - mae: 2.2263\n",
            "Epoch 72/100\n",
            "1/1 [==============================] - 0s 17ms/step - loss: 2.1480 - mae: 2.1480\n",
            "Epoch 73/100\n",
            "1/1 [==============================] - 0s 13ms/step - loss: 2.0604 - mae: 2.0604\n",
            "Epoch 74/100\n",
            "1/1 [==============================] - 0s 15ms/step - loss: 2.0085 - mae: 2.0085\n",
            "Epoch 75/100\n",
            "1/1 [==============================] - 0s 16ms/step - loss: 1.9501 - mae: 1.9501\n",
            "Epoch 76/100\n",
            "1/1 [==============================] - 0s 19ms/step - loss: 1.8601 - mae: 1.8601\n",
            "Epoch 77/100\n",
            "1/1 [==============================] - 0s 15ms/step - loss: 1.7576 - mae: 1.7576\n",
            "Epoch 78/100\n",
            "1/1 [==============================] - 0s 14ms/step - loss: 1.7362 - mae: 1.7362\n",
            "Epoch 79/100\n",
            "1/1 [==============================] - 0s 14ms/step - loss: 1.6349 - mae: 1.6349\n",
            "Epoch 80/100\n",
            "1/1 [==============================] - 0s 14ms/step - loss: 1.5178 - mae: 1.5178\n",
            "Epoch 81/100\n",
            "1/1 [==============================] - 0s 13ms/step - loss: 1.4412 - mae: 1.4412\n",
            "Epoch 82/100\n",
            "1/1 [==============================] - 0s 14ms/step - loss: 1.3694 - mae: 1.3694\n",
            "Epoch 83/100\n",
            "1/1 [==============================] - 0s 13ms/step - loss: 1.2738 - mae: 1.2738\n",
            "Epoch 84/100\n",
            "1/1 [==============================] - 0s 15ms/step - loss: 1.1758 - mae: 1.1758\n",
            "Epoch 85/100\n",
            "1/1 [==============================] - 0s 13ms/step - loss: 1.0782 - mae: 1.0782\n",
            "Epoch 86/100\n",
            "1/1 [==============================] - 0s 14ms/step - loss: 0.9619 - mae: 0.9619\n",
            "Epoch 87/100\n",
            "1/1 [==============================] - 0s 13ms/step - loss: 0.8510 - mae: 0.8510\n",
            "Epoch 88/100\n",
            "1/1 [==============================] - 0s 13ms/step - loss: 0.7213 - mae: 0.7213\n",
            "Epoch 89/100\n",
            "1/1 [==============================] - 0s 17ms/step - loss: 0.6172 - mae: 0.6172\n",
            "Epoch 90/100\n",
            "1/1 [==============================] - 0s 11ms/step - loss: 0.4563 - mae: 0.4563\n",
            "Epoch 91/100\n",
            "1/1 [==============================] - 0s 13ms/step - loss: 0.3352 - mae: 0.3352\n",
            "Epoch 92/100\n",
            "1/1 [==============================] - 0s 13ms/step - loss: 0.2993 - mae: 0.2993\n",
            "Epoch 93/100\n",
            "1/1 [==============================] - 0s 15ms/step - loss: 0.3568 - mae: 0.3568\n",
            "Epoch 94/100\n",
            "1/1 [==============================] - 0s 16ms/step - loss: 0.3712 - mae: 0.3712\n",
            "Epoch 95/100\n",
            "1/1 [==============================] - 0s 14ms/step - loss: 0.3046 - mae: 0.3046\n",
            "Epoch 96/100\n",
            "1/1 [==============================] - 0s 20ms/step - loss: 0.5715 - mae: 0.5715\n",
            "Epoch 97/100\n",
            "1/1 [==============================] - 0s 15ms/step - loss: 0.4735 - mae: 0.4735\n",
            "Epoch 98/100\n",
            "1/1 [==============================] - 0s 16ms/step - loss: 0.4904 - mae: 0.4904\n",
            "Epoch 99/100\n",
            "1/1 [==============================] - 0s 17ms/step - loss: 0.6201 - mae: 0.6201\n",
            "Epoch 100/100\n",
            "1/1 [==============================] - 0s 17ms/step - loss: 0.6119 - mae: 0.6119\n"
          ]
        },
        {
          "data": {
            "text/plain": [
              "<keras.callbacks.History at 0x7f7178762950>"
            ]
          },
          "execution_count": 19,
          "metadata": {},
          "output_type": "execute_result"
        }
      ],
      "source": [
        "model = tf.keras.Sequential([\n",
        "    tf.keras.layers.Dense(50, activation=\"relu\"),\n",
        "    # tf.keras.layers.Dense(100, activation=\"relu\"),\n",
        "    # tf.keras.layers.Dense(100, activation=\"relu\"),\n",
        "    tf.keras.layers.Dense(1)\n",
        "])\n",
        "\n",
        "model.compile(loss=tf.keras.losses.mae, optimizer=tf.keras.optimizers.Adam(learning_rate=0.01), metrics=[\"mae\"])\n",
        "\n",
        "model.fit(tf.expand_dims(x, axis=1), y, epochs=100)"
      ]
    },
    {
      "cell_type": "code",
      "execution_count": 20,
      "metadata": {
        "colab": {
          "base_uri": "https://localhost:8080/"
        },
        "id": "HIJ-8KbkOM37",
        "outputId": "a9106add-51ea-4c5e-9112-0014ff11bdfa"
      },
      "outputs": [
        {
          "data": {
            "text/plain": [
              "(<tf.Tensor: shape=(8,), dtype=float64, numpy=array([-7., -4., -1.,  2.,  5.,  8., 11., 14.])>,\n",
              " <tf.Tensor: shape=(8,), dtype=float64, numpy=array([ 3.,  6.,  9., 12., 15., 18., 21., 24.])>)"
            ]
          },
          "execution_count": 20,
          "metadata": {},
          "output_type": "execute_result"
        }
      ],
      "source": [
        "# let's remind ourselves of the data\n",
        "x, y"
      ]
    },
    {
      "cell_type": "code",
      "execution_count": 21,
      "metadata": {
        "colab": {
          "base_uri": "https://localhost:8080/"
        },
        "id": "TKSDeDxQOM37",
        "outputId": "abe37b3b-9b15-4da0-a0b6-ea4e0a340a12"
      },
      "outputs": [
        {
          "name": "stdout",
          "output_type": "stream",
          "text": [
            "1/1 [==============================] - 0s 217ms/step\n"
          ]
        },
        {
          "data": {
            "text/plain": [
              "array([[25.980656]], dtype=float32)"
            ]
          },
          "execution_count": 21,
          "metadata": {},
          "output_type": "execute_result"
        }
      ],
      "source": [
        "model.predict([17.0])"
      ]
    },
    {
      "cell_type": "markdown",
      "metadata": {
        "id": "ygnpVAjIOM37"
      },
      "source": [
        "# Evaluating a Modal"
      ]
    },
    {
      "cell_type": "code",
      "execution_count": 22,
      "metadata": {
        "colab": {
          "base_uri": "https://localhost:8080/"
        },
        "id": "yhDC4D1aOM38",
        "outputId": "331defaf-b62d-42ca-a440-b4a862c03576"
      },
      "outputs": [
        {
          "data": {
            "text/plain": [
              "<tf.Tensor: shape=(50,), dtype=int32, numpy=\n",
              "array([-100,  -96,  -92,  -88,  -84,  -80,  -76,  -72,  -68,  -64,  -60,\n",
              "        -56,  -52,  -48,  -44,  -40,  -36,  -32,  -28,  -24,  -20,  -16,\n",
              "        -12,   -8,   -4,    0,    4,    8,   12,   16,   20,   24,   28,\n",
              "         32,   36,   40,   44,   48,   52,   56,   60,   64,   68,   72,\n",
              "         76,   80,   84,   88,   92,   96], dtype=int32)>"
            ]
          },
          "execution_count": 22,
          "metadata": {},
          "output_type": "execute_result"
        }
      ],
      "source": [
        "# Make a bigger dataset\n",
        "x = tf.range(-100, 100, 4)\n",
        "x\n"
      ]
    },
    {
      "cell_type": "code",
      "execution_count": 23,
      "metadata": {
        "colab": {
          "base_uri": "https://localhost:8080/"
        },
        "id": "R0Y8-fQ_OM38",
        "outputId": "3cf929b7-e006-4d79-9c77-6c115f29ae0b"
      },
      "outputs": [
        {
          "data": {
            "text/plain": [
              "<tf.Tensor: shape=(50,), dtype=int32, numpy=\n",
              "array([-90, -86, -82, -78, -74, -70, -66, -62, -58, -54, -50, -46, -42,\n",
              "       -38, -34, -30, -26, -22, -18, -14, -10,  -6,  -2,   2,   6,  10,\n",
              "        14,  18,  22,  26,  30,  34,  38,  42,  46,  50,  54,  58,  62,\n",
              "        66,  70,  74,  78,  82,  86,  90,  94,  98, 102, 106], dtype=int32)>"
            ]
          },
          "execution_count": 23,
          "metadata": {},
          "output_type": "execute_result"
        }
      ],
      "source": [
        "y = x + 10\n",
        "y"
      ]
    },
    {
      "cell_type": "code",
      "execution_count": 24,
      "metadata": {
        "colab": {
          "base_uri": "https://localhost:8080/",
          "height": 447
        },
        "id": "jEPFTM6lOM38",
        "outputId": "44fdedd4-a903-4687-c225-3441b49a3687"
      },
      "outputs": [
        {
          "data": {
            "text/plain": [
              "<matplotlib.collections.PathCollection at 0x7f7178678dc0>"
            ]
          },
          "execution_count": 24,
          "metadata": {},
          "output_type": "execute_result"
        },
        {
          "data": {
            "image/png": "[encoded data removed]",
            "text/plain": [
              "<Figure size 640x480 with 1 Axes>"
            ]
          },
          "metadata": {},
          "output_type": "display_data"
        }
      ],
      "source": [
        "# visualize the data\n",
        "import matplotlib.pyplot as plt\n",
        "plt.scatter(x, y)"
      ]
    },
    {
      "cell_type": "markdown",
      "metadata": {
        "id": "eaHAlGt3OM39"
      },
      "source": [
        "### The 3 sets...\n",
        "* Training set - the model learns from this data, which is typically 70-80% of the total data you have available.\n",
        "* Validation set - the model gets tuned on this data, which is typically 10-15% of the data available.\n",
        "* Test set - the model gets evaluated on this data to test what it has learned, this set is typically 10-15% of the total data available."
      ]
    },
    {
      "cell_type": "code",
      "execution_count": 25,
      "metadata": {
        "colab": {
          "base_uri": "https://localhost:8080/"
        },
        "id": "fv-fGKduOM39",
        "outputId": "94a1a88b-9e4d-4e5d-bb5e-d48f2862f864"
      },
      "outputs": [
        {
          "data": {
            "text/plain": [
              "50"
            ]
          },
          "execution_count": 25,
          "metadata": {},
          "output_type": "execute_result"
        }
      ],
      "source": [
        "# Check the length of how many samples we have\n",
        "len(x)"
      ]
    },
    {
      "cell_type": "code",
      "execution_count": 26,
      "metadata": {
        "colab": {
          "base_uri": "https://localhost:8080/"
        },
        "id": "zl9XhIwAOM3-",
        "outputId": "376af47f-f5df-4351-be6d-9303a16ebb6e"
      },
      "outputs": [
        {
          "data": {
            "text/plain": [
              "(40, 10, 40, 10)"
            ]
          },
          "execution_count": 26,
          "metadata": {},
          "output_type": "execute_result"
        }
      ],
      "source": [
        "# Split the data into train and test sets\n",
        "x_train = x[:40] # first 40 are training samples (80% of the data)\n",
        "x_test = x[40:] # last 10 are testing samples (20% of the data)\n",
        "\n",
        "y_train = y[:40] # first 40 are training samples (80% of the data)\n",
        "y_test = y[40:] # last 10 are testing samples (20% of the data)\n",
        "\n",
        "len(x_train), len(x_test), len(y_train), len(y_test)"
      ]
    },
    {
      "cell_type": "markdown",
      "metadata": {
        "id": "z2JiSavlOM3_"
      },
      "source": [
        "### Visualizing the data ###"
      ]
    },
    {
      "cell_type": "code",
      "execution_count": 27,
      "metadata": {
        "colab": {
          "base_uri": "https://localhost:8080/",
          "height": 592
        },
        "id": "2StDP56NOM3_",
        "outputId": "cc892b29-ffce-4072-a81f-136b1acce80f"
      },
      "outputs": [
        {
          "data": {
            "text/plain": [
              "<matplotlib.legend.Legend at 0x7f71317112d0>"
            ]
          },
          "execution_count": 27,
          "metadata": {},
          "output_type": "execute_result"
        },
        {
          "data": {
            "image/png": "[encoded data removed]",
            "text/plain": [
              "<Figure size 1000x700 with 1 Axes>"
            ]
          },
          "metadata": {},
          "output_type": "display_data"
        }
      ],
      "source": [
        "plt.figure(figsize=(10, 7))\n",
        "# Plot training data in blue\n",
        "plt.scatter(x_train, y_train, c=\"b\", label=\"Training data\")\n",
        "# Plot test data in green\n",
        "plt.scatter(x_test, y_test, c=\"g\", label=\"Testing data\")\n",
        "# show a legend\n",
        "plt.legend()"
      ]
    },
    {
      "cell_type": "code",
      "execution_count": 28,
      "metadata": {
        "id": "st-Drvy4OM3_"
      },
      "outputs": [],
      "source": [
        "# Lets have a look at how to build a neural network for our data\n",
        "\n",
        "# 1. Create a model\n",
        "model = tf.keras.Sequential([\n",
        "    tf.keras.layers.Dense(1)\n",
        "])\n",
        "\n",
        "# 2. Compile the model\n",
        "model.compile(loss=tf.keras.losses.mae, optimizer=tf.keras.optimizers.SGD(), metrics=[\"mae\"])\n",
        "\n",
        "# # 3. Fit the model\n",
        "# model.fit(x_train, y_train, epochs=100)"
      ]
    },
    {
      "cell_type": "markdown",
      "metadata": {
        "id": "QQz0inCAOM4A"
      },
      "source": [
        "# Visualizing the data"
      ]
    },
    {
      "cell_type": "code",
      "execution_count": 29,
      "metadata": {
        "id": "U-yBFW2pOM4A"
      },
      "outputs": [],
      "source": [
        "# Let's create a model which builds automatically by defining the input_shape argument in the first layer\n",
        "tf.random.set_seed(42)\n",
        "\n",
        "# Create a model (same as above)\n",
        "model = tf.keras.Sequential([\n",
        "    tf.keras.layers.Dense(10, input_shape=[1], name=\"input_layer\"),\n",
        "    tf.keras.layers.Dense(1, name=\"output_layer\")\n",
        "], name=\"modal_1\")\n",
        "\n",
        "# Compile the model\n",
        "model.compile(loss=tf.keras.losses.mae, optimizer=tf.keras.optimizers.SGD(), metrics=[\"mae\"])\n",
        "\n"
      ]
    },
    {
      "cell_type": "code",
      "execution_count": 30,
      "metadata": {
        "colab": {
          "base_uri": "https://localhost:8080/"
        },
        "id": "PpQ83i2zOM4A",
        "outputId": "5c6a71a3-f7bb-4150-bc86-21230f32764d"
      },
      "outputs": [
        {
          "name": "stdout",
          "output_type": "stream",
          "text": [
            "Model: \"modal_1\"\n",
            "_________________________________________________________________\n",
            " Layer (type)                Output Shape              Param #   \n",
            "=================================================================\n",
            " input_layer (Dense)         (None, 10)                20        \n",
            "                                                                 \n",
            " output_layer (Dense)        (None, 1)                 11        \n",
            "                                                                 \n",
            "=================================================================\n",
            "Total params: 31\n",
            "Trainable params: 31\n",
            "Non-trainable params: 0\n",
            "_________________________________________________________________\n"
          ]
        }
      ],
      "source": [
        "model.summary()"
      ]
    },
    {
      "cell_type": "code",
      "execution_count": 31,
      "metadata": {
        "colab": {
          "base_uri": "https://localhost:8080/"
        },
        "id": "sFJ8mqjwOM4B",
        "outputId": "3cd75735-93fc-4dc0-cdb9-1c9c84118285"
      },
      "outputs": [
        {
          "name": "stdout",
          "output_type": "stream",
          "text": [
            "Epoch 1/100\n",
            "2/2 [==============================] - 1s 13ms/step - loss: 84.8467 - mae: 84.8467\n",
            "Epoch 2/100\n",
            "2/2 [==============================] - 0s 10ms/step - loss: 20.2964 - mae: 20.2964\n",
            "Epoch 3/100\n",
            "2/2 [==============================] - 0s 8ms/step - loss: 27.8399 - mae: 27.8399\n",
            "Epoch 4/100\n",
            "2/2 [==============================] - 0s 11ms/step - loss: 20.3055 - mae: 20.3055\n",
            "Epoch 5/100\n",
            "2/2 [==============================] - 0s 18ms/step - loss: 13.6245 - mae: 13.6245\n",
            "Epoch 6/100\n",
            "2/2 [==============================] - 0s 7ms/step - loss: 10.9328 - mae: 10.9328\n",
            "Epoch 7/100\n",
            "2/2 [==============================] - 0s 12ms/step - loss: 11.8898 - mae: 11.8898\n",
            "Epoch 8/100\n",
            "2/2 [==============================] - 0s 15ms/step - loss: 10.7901 - mae: 10.7901\n",
            "Epoch 9/100\n",
            "2/2 [==============================] - 0s 12ms/step - loss: 36.7032 - mae: 36.7032\n",
            "Epoch 10/100\n",
            "2/2 [==============================] - 0s 10ms/step - loss: 24.4928 - mae: 24.4928\n",
            "Epoch 11/100\n",
            "2/2 [==============================] - 0s 9ms/step - loss: 11.0468 - mae: 11.0468\n",
            "Epoch 12/100\n",
            "2/2 [==============================] - 0s 20ms/step - loss: 24.5326 - mae: 24.5326\n",
            "Epoch 13/100\n",
            "2/2 [==============================] - 0s 12ms/step - loss: 18.9947 - mae: 18.9947\n",
            "Epoch 14/100\n",
            "2/2 [==============================] - 0s 16ms/step - loss: 23.1130 - mae: 23.1130\n",
            "Epoch 15/100\n",
            "2/2 [==============================] - 0s 13ms/step - loss: 15.0512 - mae: 15.0512\n",
            "Epoch 16/100\n",
            "2/2 [==============================] - 0s 9ms/step - loss: 11.2651 - mae: 11.2651\n",
            "Epoch 17/100\n",
            "2/2 [==============================] - 0s 12ms/step - loss: 22.8696 - mae: 22.8696\n",
            "Epoch 18/100\n",
            "2/2 [==============================] - 0s 9ms/step - loss: 11.3006 - mae: 11.3006\n",
            "Epoch 19/100\n",
            "2/2 [==============================] - 0s 8ms/step - loss: 13.8242 - mae: 13.8242\n",
            "Epoch 20/100\n",
            "2/2 [==============================] - 0s 8ms/step - loss: 11.1535 - mae: 11.1535\n",
            "Epoch 21/100\n",
            "2/2 [==============================] - 0s 13ms/step - loss: 17.1272 - mae: 17.1272\n",
            "Epoch 22/100\n",
            "2/2 [==============================] - 0s 9ms/step - loss: 15.3655 - mae: 15.3655\n",
            "Epoch 23/100\n",
            "2/2 [==============================] - 0s 8ms/step - loss: 9.2598 - mae: 9.2598\n",
            "Epoch 24/100\n",
            "2/2 [==============================] - 0s 7ms/step - loss: 17.3338 - mae: 17.3338\n",
            "Epoch 25/100\n",
            "2/2 [==============================] - 0s 11ms/step - loss: 15.9908 - mae: 15.9908\n",
            "Epoch 26/100\n",
            "2/2 [==============================] - 0s 9ms/step - loss: 21.0471 - mae: 21.0471\n",
            "Epoch 27/100\n",
            "2/2 [==============================] - 0s 10ms/step - loss: 25.7067 - mae: 25.7067\n",
            "Epoch 28/100\n",
            "2/2 [==============================] - 0s 7ms/step - loss: 18.2391 - mae: 18.2391\n",
            "Epoch 29/100\n",
            "2/2 [==============================] - 0s 11ms/step - loss: 9.2449 - mae: 9.2449\n",
            "Epoch 30/100\n",
            "2/2 [==============================] - 0s 9ms/step - loss: 28.8303 - mae: 28.8303\n",
            "Epoch 31/100\n",
            "2/2 [==============================] - 0s 10ms/step - loss: 52.1898 - mae: 52.1898\n",
            "Epoch 32/100\n",
            "2/2 [==============================] - 0s 9ms/step - loss: 11.4755 - mae: 11.4755\n",
            "Epoch 33/100\n",
            "2/2 [==============================] - 0s 11ms/step - loss: 12.2155 - mae: 12.2155\n",
            "Epoch 34/100\n",
            "2/2 [==============================] - 0s 10ms/step - loss: 24.0563 - mae: 24.0563\n",
            "Epoch 35/100\n",
            "2/2 [==============================] - 0s 8ms/step - loss: 12.0090 - mae: 12.0090\n",
            "Epoch 36/100\n",
            "2/2 [==============================] - 0s 11ms/step - loss: 22.3544 - mae: 22.3544\n",
            "Epoch 37/100\n",
            "2/2 [==============================] - 0s 10ms/step - loss: 17.1446 - mae: 17.1446\n",
            "Epoch 38/100\n",
            "2/2 [==============================] - 0s 9ms/step - loss: 10.5836 - mae: 10.5836\n",
            "Epoch 39/100\n",
            "2/2 [==============================] - 0s 11ms/step - loss: 11.0997 - mae: 11.0997\n",
            "Epoch 40/100\n",
            "2/2 [==============================] - 0s 11ms/step - loss: 17.6994 - mae: 17.6994\n",
            "Epoch 41/100\n",
            "2/2 [==============================] - 0s 8ms/step - loss: 10.2821 - mae: 10.2821\n",
            "Epoch 42/100\n",
            "2/2 [==============================] - 0s 12ms/step - loss: 7.1570 - mae: 7.1570\n",
            "Epoch 43/100\n",
            "2/2 [==============================] - 0s 11ms/step - loss: 15.3648 - mae: 15.3648\n",
            "Epoch 44/100\n",
            "2/2 [==============================] - 0s 10ms/step - loss: 25.0843 - mae: 25.0843\n",
            "Epoch 45/100\n",
            "2/2 [==============================] - 0s 9ms/step - loss: 12.1332 - mae: 12.1332\n",
            "Epoch 46/100\n",
            "2/2 [==============================] - 0s 10ms/step - loss: 16.4774 - mae: 16.4774\n",
            "Epoch 47/100\n",
            "2/2 [==============================] - 0s 8ms/step - loss: 14.9366 - mae: 14.9366\n",
            "Epoch 48/100\n",
            "2/2 [==============================] - 0s 10ms/step - loss: 14.1411 - mae: 14.1411\n",
            "Epoch 49/100\n",
            "2/2 [==============================] - 0s 11ms/step - loss: 13.7080 - mae: 13.7080\n",
            "Epoch 50/100\n",
            "2/2 [==============================] - 0s 10ms/step - loss: 12.5852 - mae: 12.5852\n",
            "Epoch 51/100\n",
            "2/2 [==============================] - 0s 13ms/step - loss: 14.6572 - mae: 14.6572\n",
            "Epoch 52/100\n",
            "2/2 [==============================] - 0s 8ms/step - loss: 18.5802 - mae: 18.5802\n",
            "Epoch 53/100\n",
            "2/2 [==============================] - 0s 9ms/step - loss: 23.8444 - mae: 23.8444\n",
            "Epoch 54/100\n",
            "2/2 [==============================] - 0s 10ms/step - loss: 24.1799 - mae: 24.1799\n",
            "Epoch 55/100\n",
            "2/2 [==============================] - 0s 10ms/step - loss: 23.4239 - mae: 23.4239\n",
            "Epoch 56/100\n",
            "2/2 [==============================] - 0s 9ms/step - loss: 10.9700 - mae: 10.9700\n",
            "Epoch 57/100\n",
            "2/2 [==============================] - 0s 10ms/step - loss: 12.8529 - mae: 12.8529\n",
            "Epoch 58/100\n",
            "2/2 [==============================] - 0s 9ms/step - loss: 9.6638 - mae: 9.6638\n",
            "Epoch 59/100\n",
            "2/2 [==============================] - 0s 9ms/step - loss: 13.0057 - mae: 13.0057\n",
            "Epoch 60/100\n",
            "2/2 [==============================] - 0s 10ms/step - loss: 10.6969 - mae: 10.6969\n",
            "Epoch 61/100\n",
            "2/2 [==============================] - 0s 11ms/step - loss: 17.4425 - mae: 17.4425\n",
            "Epoch 62/100\n",
            "2/2 [==============================] - 0s 9ms/step - loss: 10.6068 - mae: 10.6068\n",
            "Epoch 63/100\n",
            "2/2 [==============================] - 0s 9ms/step - loss: 10.4941 - mae: 10.4941\n",
            "Epoch 64/100\n",
            "2/2 [==============================] - 0s 10ms/step - loss: 24.7960 - mae: 24.7960\n",
            "Epoch 65/100\n",
            "2/2 [==============================] - 0s 10ms/step - loss: 10.6789 - mae: 10.6789\n",
            "Epoch 66/100\n",
            "2/2 [==============================] - 0s 8ms/step - loss: 21.7313 - mae: 21.7313\n",
            "Epoch 67/100\n",
            "2/2 [==============================] - 0s 8ms/step - loss: 10.7085 - mae: 10.7085\n",
            "Epoch 68/100\n",
            "2/2 [==============================] - 0s 10ms/step - loss: 10.6383 - mae: 10.6383\n",
            "Epoch 69/100\n",
            "2/2 [==============================] - 0s 10ms/step - loss: 22.6080 - mae: 22.6080\n",
            "Epoch 70/100\n",
            "2/2 [==============================] - 0s 10ms/step - loss: 9.3558 - mae: 9.3558\n",
            "Epoch 71/100\n",
            "2/2 [==============================] - 0s 9ms/step - loss: 15.4728 - mae: 15.4728\n",
            "Epoch 72/100\n",
            "2/2 [==============================] - 0s 10ms/step - loss: 7.0295 - mae: 7.0295\n",
            "Epoch 73/100\n",
            "2/2 [==============================] - 0s 9ms/step - loss: 12.2325 - mae: 12.2325\n",
            "Epoch 74/100\n",
            "2/2 [==============================] - 0s 12ms/step - loss: 17.3841 - mae: 17.3841\n",
            "Epoch 75/100\n",
            "2/2 [==============================] - 0s 9ms/step - loss: 7.2373 - mae: 7.2373\n",
            "Epoch 76/100\n",
            "2/2 [==============================] - 0s 10ms/step - loss: 9.4717 - mae: 9.4717\n",
            "Epoch 77/100\n",
            "2/2 [==============================] - 0s 10ms/step - loss: 22.2179 - mae: 22.2179\n",
            "Epoch 78/100\n",
            "2/2 [==============================] - 0s 10ms/step - loss: 17.1268 - mae: 17.1268\n",
            "Epoch 79/100\n",
            "2/2 [==============================] - 0s 10ms/step - loss: 16.2756 - mae: 16.2756\n",
            "Epoch 80/100\n",
            "2/2 [==============================] - 0s 9ms/step - loss: 24.1136 - mae: 24.1136\n",
            "Epoch 81/100\n",
            "2/2 [==============================] - 0s 9ms/step - loss: 11.2465 - mae: 11.2465\n",
            "Epoch 82/100\n",
            "2/2 [==============================] - 0s 11ms/step - loss: 12.5732 - mae: 12.5732\n",
            "Epoch 83/100\n",
            "2/2 [==============================] - 0s 10ms/step - loss: 17.2871 - mae: 17.2871\n",
            "Epoch 84/100\n",
            "2/2 [==============================] - 0s 9ms/step - loss: 6.8669 - mae: 6.8669\n",
            "Epoch 85/100\n",
            "2/2 [==============================] - 0s 12ms/step - loss: 15.9804 - mae: 15.9804\n",
            "Epoch 86/100\n",
            "2/2 [==============================] - 0s 10ms/step - loss: 15.8382 - mae: 15.8382\n",
            "Epoch 87/100\n",
            "2/2 [==============================] - 0s 11ms/step - loss: 20.2685 - mae: 20.2685\n",
            "Epoch 88/100\n",
            "2/2 [==============================] - 0s 12ms/step - loss: 34.2396 - mae: 34.2396\n",
            "Epoch 89/100\n",
            "2/2 [==============================] - 0s 14ms/step - loss: 10.6798 - mae: 10.6798\n",
            "Epoch 90/100\n",
            "2/2 [==============================] - 0s 11ms/step - loss: 23.6637 - mae: 23.6637\n",
            "Epoch 91/100\n",
            "2/2 [==============================] - 0s 12ms/step - loss: 11.1855 - mae: 11.1855\n",
            "Epoch 92/100\n",
            "2/2 [==============================] - 0s 15ms/step - loss: 20.4986 - mae: 20.4986\n",
            "Epoch 93/100\n",
            "2/2 [==============================] - 0s 17ms/step - loss: 6.8313 - mae: 6.8313\n",
            "Epoch 94/100\n",
            "2/2 [==============================] - 0s 16ms/step - loss: 13.0352 - mae: 13.0352\n",
            "Epoch 95/100\n",
            "2/2 [==============================] - 0s 15ms/step - loss: 18.4188 - mae: 18.4188\n",
            "Epoch 96/100\n",
            "2/2 [==============================] - 0s 15ms/step - loss: 10.3721 - mae: 10.3721\n",
            "Epoch 97/100\n",
            "2/2 [==============================] - 0s 15ms/step - loss: 14.4288 - mae: 14.4288\n",
            "Epoch 98/100\n",
            "2/2 [==============================] - 0s 8ms/step - loss: 6.5930 - mae: 6.5930\n",
            "Epoch 99/100\n",
            "2/2 [==============================] - 0s 12ms/step - loss: 12.6092 - mae: 12.6092\n",
            "Epoch 100/100\n",
            "2/2 [==============================] - 0s 9ms/step - loss: 19.4283 - mae: 19.4283\n"
          ]
        },
        {
          "data": {
            "text/plain": [
              "<keras.callbacks.History at 0x7f7131792980>"
            ]
          },
          "execution_count": 31,
          "metadata": {},
          "output_type": "execute_result"
        }
      ],
      "source": [
        "# fit the model\n",
        "model.fit(x_train, y_train, epochs=100, verbose=1)"
      ]
    },
    {
      "cell_type": "code",
      "execution_count": 32,
      "metadata": {
        "colab": {
          "base_uri": "https://localhost:8080/"
        },
        "id": "oYYAqm7vOM4B",
        "outputId": "5fad2064-038f-4c38-d246-5a6db5955c49"
      },
      "outputs": [
        {
          "name": "stdout",
          "output_type": "stream",
          "text": [
            "Model: \"modal_1\"\n",
            "_________________________________________________________________\n",
            " Layer (type)                Output Shape              Param #   \n",
            "=================================================================\n",
            " input_layer (Dense)         (None, 10)                20        \n",
            "                                                                 \n",
            " output_layer (Dense)        (None, 1)                 11        \n",
            "                                                                 \n",
            "=================================================================\n",
            "Total params: 31\n",
            "Trainable params: 31\n",
            "Non-trainable params: 0\n",
            "_________________________________________________________________\n"
          ]
        }
      ],
      "source": [
        "# get a summary of our model\n",
        "model.summary()"
      ]
    },
    {
      "cell_type": "code",
      "execution_count": 33,
      "metadata": {
        "id": "-CRnQedqOM4D"
      },
      "outputs": [],
      "source": [
        "# from tensorflow.keras.utils import plot_model\n",
        "\n",
        "# plot_model(model=model, show_shapes=True)\n"
      ]
    },
    {
      "cell_type": "markdown",
      "metadata": {
        "id": "OZitPecQOM4E"
      },
      "source": [
        "### Visualizing our modals predictions"
      ]
    },
    {
      "cell_type": "code",
      "execution_count": 34,
      "metadata": {
        "colab": {
          "base_uri": "https://localhost:8080/"
        },
        "id": "yaS-JjZOOM4F",
        "outputId": "d2e1c33e-d677-499d-c361-e0399a793a81"
      },
      "outputs": [
        {
          "name": "stdout",
          "output_type": "stream",
          "text": [
            "1/1 [==============================] - 0s 132ms/step\n"
          ]
        },
        {
          "data": {
            "text/plain": [
              "array([[ 78.210526],\n",
              "       [ 83.307396],\n",
              "       [ 88.404274],\n",
              "       [ 93.501144],\n",
              "       [ 98.59802 ],\n",
              "       [103.69489 ],\n",
              "       [108.79177 ],\n",
              "       [113.88865 ],\n",
              "       [118.98552 ],\n",
              "       [124.0824  ]], dtype=float32)"
            ]
          },
          "execution_count": 34,
          "metadata": {},
          "output_type": "execute_result"
        }
      ],
      "source": [
        "# Make some predictions\n",
        "y_pred = model.predict(x_test)\n",
        "y_pred"
      ]
    },
    {
      "cell_type": "code",
      "execution_count": 35,
      "metadata": {
        "colab": {
          "base_uri": "https://localhost:8080/"
        },
        "id": "deXdjFSAOM4G",
        "outputId": "e0ed488c-51c4-4f68-a062-8c66adb4e74a"
      },
      "outputs": [
        {
          "data": {
            "text/plain": [
              "<tf.Tensor: shape=(10,), dtype=int32, numpy=array([ 70,  74,  78,  82,  86,  90,  94,  98, 102, 106], dtype=int32)>"
            ]
          },
          "execution_count": 35,
          "metadata": {},
          "output_type": "execute_result"
        }
      ],
      "source": [
        "y_test"
      ]
    },
    {
      "cell_type": "code",
      "execution_count": 36,
      "metadata": {
        "id": "0ZEtmij3OM4H"
      },
      "outputs": [],
      "source": [
        "# lets create a plotting function\n",
        "def plot_predictions(train_data=x_train,\n",
        "                     train_labels=y_train,\n",
        "                     test_data=x_test,\n",
        "                     test_labels=y_test,\n",
        "                     predictions=y_pred):\n",
        "    \"\"\"_summary_\n",
        "    Plots training data, test data and compares predictions to ground truth\n",
        "\n",
        "    Args:\n",
        "        train_data (_type_, optional): _description_. Defaults to x_train.\n",
        "        train_labels (_type_, optional): _description_. Defaults to y_train.\n",
        "        test_data (_type_, optional): _description_. Defaults to x_test.\n",
        "        test_labels (_type_, optional): _description_. Defaults to y_test.\n",
        "        predictions (_type_, optional): _description_. Defaults to y_pred.\n",
        "    \"\"\"\n",
        "\n",
        "    plt.figure(figsize=(10, 7))\n",
        "    # Plot training data in blue\n",
        "    plt.scatter(train_data, train_labels, c=\"b\", label=\"Training Data\")\n",
        "    # Plot testing data in green\n",
        "    plt.scatter(test_data, test_labels, c=\"g\", label=\"Testing Data\")\n",
        "    # Plot model's predictions in red\n",
        "    plt.scatter(test_data, predictions, c=\"r\", label=\"Predictions\")\n",
        "    # show the legend\n",
        "    plt.legend()"
      ]
    },
    {
      "cell_type": "code",
      "execution_count": 37,
      "metadata": {
        "colab": {
          "base_uri": "https://localhost:8080/",
          "height": 569
        },
        "id": "BUjWOMAHOM4I",
        "outputId": "53f75fee-b8a4-4cd5-e63c-efa895de8c72"
      },
      "outputs": [
        {
          "data": {
            "image/png": "[encoded data removed]",
            "text/plain": [
              "<Figure size 1000x700 with 1 Axes>"
            ]
          },
          "metadata": {},
          "output_type": "display_data"
        }
      ],
      "source": [
        "plot_predictions(train_data=x_train,\n",
        "                 train_labels=y_train,\n",
        "                 test_data=x_test,\n",
        "                 test_labels=y_test,\n",
        "                 predictions=y_pred)"
      ]
    },
    {
      "cell_type": "markdown",
      "metadata": {
        "id": "VFNEFHNaOM4I"
      },
      "source": [
        "## Evaluating our model's predictions with regression evaluation metrics\n",
        "\n",
        "Alongisde visualizations, evaulation metrics are your alternative best option for evaluating your model.\n",
        "\n",
        "Depending on the problem you're working on, different models have different evaluation metrics.\n",
        "\n",
        "Two of the main metrics used for regression problems are:\n",
        "* **Mean absolute error (MAE)** - the mean difference between each of the predictions.\n",
        "* **Mean squared error (MSE)** - the squared mean difference between of the predictions (use if larger errors are more detrimental than smaller errors).\n",
        "\n",
        "The lower each of these values, the better."
      ]
    },
    {
      "cell_type": "code",
      "execution_count": 38,
      "metadata": {
        "colab": {
          "base_uri": "https://localhost:8080/"
        },
        "id": "s6iElVJJOM4J",
        "outputId": "d8cc9403-1e0c-4557-a34c-1fabe6266b05"
      },
      "outputs": [
        {
          "name": "stdout",
          "output_type": "stream",
          "text": [
            "1/1 [==============================] - 0s 258ms/step - loss: 13.1465 - mae: 13.1465\n"
          ]
        },
        {
          "data": {
            "text/plain": [
              "[13.146459579467773, 13.146459579467773]"
            ]
          },
          "execution_count": 38,
          "metadata": {},
          "output_type": "execute_result"
        }
      ],
      "source": [
        "# Evaluate the modal on the test set\n",
        "model.evaluate(x_test, y_test)"
      ]
    },
    {
      "cell_type": "code",
      "execution_count": 39,
      "metadata": {
        "colab": {
          "base_uri": "https://localhost:8080/"
        },
        "id": "jBUMidjBOM4J",
        "outputId": "f2f154cd-e968-4ac2-82e3-de1893370f8d"
      },
      "outputs": [
        {
          "data": {
            "text/plain": [
              "<tf.Tensor: shape=(10,), dtype=float32, numpy=\n",
              "array([12.31579 , 10.538521, 10.      , 10.700229, 12.758814, 16.155914,\n",
              "       20.79177 , 25.888647, 30.98552 , 36.082397], dtype=float32)>"
            ]
          },
          "execution_count": 39,
          "metadata": {},
          "output_type": "execute_result"
        }
      ],
      "source": [
        "# Calculate the mean absolute error\n",
        "mae = tf.metrics.mean_absolute_error(y_true=y_test, y_pred=tf.constant(y_pred))\n",
        "mae"
      ]
    },
    {
      "cell_type": "code",
      "execution_count": 40,
      "metadata": {
        "colab": {
          "base_uri": "https://localhost:8080/"
        },
        "id": "PzxIDdDPOM4K",
        "outputId": "e96da2e8-a3ae-45e3-e6dc-bdf5199a93af"
      },
      "outputs": [
        {
          "data": {
            "text/plain": [
              "array([[ 78.210526],\n",
              "       [ 83.307396],\n",
              "       [ 88.404274],\n",
              "       [ 93.501144],\n",
              "       [ 98.59802 ],\n",
              "       [103.69489 ],\n",
              "       [108.79177 ],\n",
              "       [113.88865 ],\n",
              "       [118.98552 ],\n",
              "       [124.0824  ]], dtype=float32)"
            ]
          },
          "execution_count": 40,
          "metadata": {},
          "output_type": "execute_result"
        }
      ],
      "source": [
        "y_pred"
      ]
    },
    {
      "cell_type": "code",
      "execution_count": 41,
      "metadata": {
        "colab": {
          "base_uri": "https://localhost:8080/"
        },
        "id": "QtJMsZ6KOM4K",
        "outputId": "6424fdd3-1e4e-47ca-f904-f44e321a9bc4"
      },
      "outputs": [
        {
          "data": {
            "text/plain": [
              "<tf.Tensor: shape=(10,), dtype=int32, numpy=array([ 70,  74,  78,  82,  86,  90,  94,  98, 102, 106], dtype=int32)>"
            ]
          },
          "execution_count": 41,
          "metadata": {},
          "output_type": "execute_result"
        }
      ],
      "source": [
        "y_test"
      ]
    },
    {
      "cell_type": "code",
      "execution_count": 42,
      "metadata": {
        "colab": {
          "base_uri": "https://localhost:8080/"
        },
        "id": "klt_iG74OM4L",
        "outputId": "a04da38d-125b-48dc-916a-b9933366f115"
      },
      "outputs": [
        {
          "data": {
            "text/plain": [
              "<tf.Tensor: shape=(10,), dtype=float32, numpy=\n",
              "array([ 78.210526,  83.307396,  88.404274,  93.501144,  98.59802 ,\n",
              "       103.69489 , 108.79177 , 113.88865 , 118.98552 , 124.0824  ],\n",
              "      dtype=float32)>"
            ]
          },
          "execution_count": 42,
          "metadata": {},
          "output_type": "execute_result"
        }
      ],
      "source": [
        "tf.squeeze(y_pred)"
      ]
    },
    {
      "cell_type": "code",
      "execution_count": 43,
      "metadata": {
        "colab": {
          "base_uri": "https://localhost:8080/"
        },
        "id": "Qq4p2rNWOM4L",
        "outputId": "bb42ca7d-af76-459f-f1b7-5658ef98979f"
      },
      "outputs": [
        {
          "data": {
            "text/plain": [
              "<tf.Tensor: shape=(), dtype=float32, numpy=13.14646>"
            ]
          },
          "execution_count": 43,
          "metadata": {},
          "output_type": "execute_result"
        }
      ],
      "source": [
        "# Calculate the mean absolute error\n",
        "mae = tf.metrics.mean_absolute_error(y_true=y_test, y_pred=tf.squeeze(y_pred))\n",
        "mae"
      ]
    },
    {
      "cell_type": "code",
      "execution_count": 44,
      "metadata": {
        "colab": {
          "base_uri": "https://localhost:8080/"
        },
        "id": "pSKKLdSlOM4M",
        "outputId": "df456e80-b328-4be9-d775-06e5b6a8d042"
      },
      "outputs": [
        {
          "data": {
            "text/plain": [
              "<tf.Tensor: shape=(), dtype=float32, numpy=182.75525>"
            ]
          },
          "execution_count": 44,
          "metadata": {},
          "output_type": "execute_result"
        }
      ],
      "source": [
        "# Calculate the mean squared error\n",
        "mse = tf.metrics.mean_squared_error(y_true=y_test, y_pred=tf.squeeze(y_pred))\n",
        "mse"
      ]
    },
    {
      "cell_type": "code",
      "execution_count": 45,
      "metadata": {
        "id": "_t6F1od8OM4N"
      },
      "outputs": [],
      "source": [
        "# Make some functions to reuse MAE and MSE\n",
        "def mae(y_true, y_pred):\n",
        "    return tf.metrics.mean_absolute_error(y_true=y_true, y_pred=tf.squeeze(y_pred))\n",
        "\n",
        "def mse(y_true, y_pred):\n",
        "    return tf.metrics.mean_squared_error(y_true=y_true, y_pred=tf.squeeze(y_pred))\n",
        "\n"
      ]
    },
    {
      "cell_type": "markdown",
      "metadata": {
        "id": "RpuBHAKJOM4N"
      },
      "source": [
        "## Running experiments to improve our model\n",
        "\n",
        "After seeing the evaluation metrics and the predictions your model makes, it's likely you'll want to improve it.\n",
        "\n",
        "Again, there are many different ways you can do this, but 3 of the main ones are:\n",
        "1. **Get more data** - get more examples for your model to train on (more opportunities to learn patterns).\n",
        "2. **Make your model larger (use a more complex model)** - this might come in the form of more layers or more hidden units in each layer.\n",
        "3. **Train for longer** - give your model more of a chance to find the patterns in the data.\n",
        "\n",
        "Since we created our dataset, we could easily make more data but this isn't always the case when you're working with real-world datasets.\n",
        "\n",
        "So let's take a look at how we can improve our model using 2 and 3.\n",
        "\n",
        "To do so, we'll build 3 models and compare their results:\n",
        "1. `model_1` - same as original model, 1 layer, trained for 100 epochs.\n",
        "2. `model_2` - 2 layers, trained for 100 epochs.\n",
        "3. `model_3` - 2 layers, trained for 500 epochs.\n",
        "\n",
        "**Build `model_1`**"
      ]
    },
    {
      "cell_type": "code",
      "execution_count": 46,
      "metadata": {
        "colab": {
          "base_uri": "https://localhost:8080/"
        },
        "id": "9pUwtQLnOM4O",
        "outputId": "0a299576-5d11-47f8-e49f-fc13809712ca"
      },
      "outputs": [
        {
          "name": "stdout",
          "output_type": "stream",
          "text": [
            "Epoch 1/100\n"
          ]
        },
        {
          "name": "stdout",
          "output_type": "stream",
          "text": [
            "2/2 [==============================] - 1s 16ms/step - loss: 35.4392 - mae: 35.4392\n",
            "Epoch 2/100\n",
            "2/2 [==============================] - 0s 8ms/step - loss: 8.9334 - mae: 8.9334\n",
            "Epoch 3/100\n",
            "2/2 [==============================] - 0s 10ms/step - loss: 12.6143 - mae: 12.6143\n",
            "Epoch 4/100\n",
            "2/2 [==============================] - 0s 10ms/step - loss: 8.7779 - mae: 8.7779\n",
            "Epoch 5/100\n",
            "2/2 [==============================] - 0s 7ms/step - loss: 11.0052 - mae: 11.0052\n",
            "Epoch 6/100\n",
            "2/2 [==============================] - 0s 9ms/step - loss: 10.1681 - mae: 10.1681\n",
            "Epoch 7/100\n",
            "2/2 [==============================] - 0s 7ms/step - loss: 9.1879 - mae: 9.1879\n",
            "Epoch 8/100\n",
            "2/2 [==============================] - 0s 11ms/step - loss: 9.1299 - mae: 9.1299\n",
            "Epoch 9/100\n",
            "2/2 [==============================] - 0s 10ms/step - loss: 11.7324 - mae: 11.7324\n",
            "Epoch 10/100\n",
            "2/2 [==============================] - 0s 8ms/step - loss: 13.6474 - mae: 13.6474\n",
            "Epoch 11/100\n",
            "2/2 [==============================] - 0s 8ms/step - loss: 11.7065 - mae: 11.7065\n",
            "Epoch 12/100\n",
            "2/2 [==============================] - 0s 11ms/step - loss: 16.4954 - mae: 16.4954\n",
            "Epoch 13/100\n",
            "2/2 [==============================] - 0s 11ms/step - loss: 12.0065 - mae: 12.0065\n",
            "Epoch 14/100\n",
            "2/2 [==============================] - 0s 7ms/step - loss: 13.9564 - mae: 13.9564\n",
            "Epoch 15/100\n",
            "2/2 [==============================] - 0s 8ms/step - loss: 11.3482 - mae: 11.3482\n",
            "Epoch 16/100\n",
            "2/2 [==============================] - 0s 10ms/step - loss: 8.5630 - mae: 8.5630\n",
            "Epoch 17/100\n",
            "2/2 [==============================] - 0s 10ms/step - loss: 13.6838 - mae: 13.6838\n",
            "Epoch 18/100\n",
            "2/2 [==============================] - 0s 8ms/step - loss: 11.5227 - mae: 11.5227\n",
            "Epoch 19/100\n",
            "2/2 [==============================] - 0s 9ms/step - loss: 17.8530 - mae: 17.8530\n",
            "Epoch 20/100\n",
            "2/2 [==============================] - 0s 10ms/step - loss: 14.9882 - mae: 14.9882\n",
            "Epoch 21/100\n",
            "2/2 [==============================] - 0s 9ms/step - loss: 10.8649 - mae: 10.8649\n",
            "Epoch 22/100\n",
            "2/2 [==============================] - 0s 9ms/step - loss: 8.6178 - mae: 8.6178\n",
            "Epoch 23/100\n",
            "2/2 [==============================] - 0s 10ms/step - loss: 9.7012 - mae: 9.7012\n",
            "Epoch 24/100\n",
            "2/2 [==============================] - 0s 9ms/step - loss: 8.5886 - mae: 8.5886\n",
            "Epoch 25/100\n",
            "2/2 [==============================] - 0s 8ms/step - loss: 11.6099 - mae: 11.6099\n",
            "Epoch 26/100\n",
            "2/2 [==============================] - 0s 9ms/step - loss: 15.1249 - mae: 15.1249\n",
            "Epoch 27/100\n",
            "2/2 [==============================] - 0s 9ms/step - loss: 11.8742 - mae: 11.8742\n",
            "Epoch 28/100\n",
            "2/2 [==============================] - 0s 11ms/step - loss: 13.9148 - mae: 13.9148\n",
            "Epoch 29/100\n",
            "2/2 [==============================] - 0s 9ms/step - loss: 9.6083 - mae: 9.6083\n",
            "Epoch 30/100\n",
            "2/2 [==============================] - 0s 10ms/step - loss: 17.1659 - mae: 17.1659\n",
            "Epoch 31/100\n",
            "2/2 [==============================] - 0s 10ms/step - loss: 22.8965 - mae: 22.8965\n",
            "Epoch 32/100\n",
            "2/2 [==============================] - 0s 9ms/step - loss: 7.9190 - mae: 7.9190\n",
            "Epoch 33/100\n",
            "2/2 [==============================] - 0s 10ms/step - loss: 14.1227 - mae: 14.1227\n",
            "Epoch 34/100\n",
            "2/2 [==============================] - 0s 10ms/step - loss: 12.3649 - mae: 12.3649\n",
            "Epoch 35/100\n",
            "2/2 [==============================] - 0s 10ms/step - loss: 8.2690 - mae: 8.2690\n",
            "Epoch 36/100\n",
            "2/2 [==============================] - 0s 9ms/step - loss: 10.4928 - mae: 10.4928\n",
            "Epoch 37/100\n",
            "2/2 [==============================] - 0s 11ms/step - loss: 10.1364 - mae: 10.1364\n",
            "Epoch 38/100\n",
            "2/2 [==============================] - 0s 11ms/step - loss: 11.3352 - mae: 11.3352\n",
            "Epoch 39/100\n",
            "2/2 [==============================] - 0s 11ms/step - loss: 14.7455 - mae: 14.7455\n",
            "Epoch 40/100\n",
            "2/2 [==============================] - 0s 9ms/step - loss: 12.8759 - mae: 12.8759\n",
            "Epoch 41/100\n",
            "2/2 [==============================] - 0s 11ms/step - loss: 9.2643 - mae: 9.2643\n",
            "Epoch 42/100\n",
            "2/2 [==============================] - 0s 8ms/step - loss: 11.0145 - mae: 11.0145\n",
            "Epoch 43/100\n",
            "2/2 [==============================] - 0s 14ms/step - loss: 8.3379 - mae: 8.3379\n",
            "Epoch 44/100\n",
            "2/2 [==============================] - 0s 12ms/step - loss: 13.0637 - mae: 13.0637\n",
            "Epoch 45/100\n",
            "2/2 [==============================] - 0s 9ms/step - loss: 13.6647 - mae: 13.6647\n",
            "Epoch 46/100\n",
            "2/2 [==============================] - 0s 11ms/step - loss: 8.2811 - mae: 8.2811\n",
            "Epoch 47/100\n",
            "2/2 [==============================] - 0s 7ms/step - loss: 8.7328 - mae: 8.7328\n",
            "Epoch 48/100\n",
            "2/2 [==============================] - 0s 9ms/step - loss: 10.0348 - mae: 10.0348\n",
            "Epoch 49/100\n",
            "2/2 [==============================] - 0s 11ms/step - loss: 8.5179 - mae: 8.5179\n",
            "Epoch 50/100\n",
            "2/2 [==============================] - 0s 8ms/step - loss: 9.0243 - mae: 9.0243\n",
            "Epoch 51/100\n",
            "2/2 [==============================] - 0s 10ms/step - loss: 9.3788 - mae: 9.3788\n",
            "Epoch 52/100\n",
            "2/2 [==============================] - 0s 10ms/step - loss: 14.0242 - mae: 14.0242\n",
            "Epoch 53/100\n",
            "2/2 [==============================] - 0s 8ms/step - loss: 15.4225 - mae: 15.4225\n",
            "Epoch 54/100\n",
            "2/2 [==============================] - 0s 15ms/step - loss: 10.9210 - mae: 10.9210\n",
            "Epoch 55/100\n",
            "2/2 [==============================] - 0s 12ms/step - loss: 15.4568 - mae: 15.4568\n",
            "Epoch 56/100\n",
            "2/2 [==============================] - 0s 13ms/step - loss: 9.1460 - mae: 9.1460\n",
            "Epoch 57/100\n",
            "2/2 [==============================] - 0s 12ms/step - loss: 9.6875 - mae: 9.6875\n",
            "Epoch 58/100\n",
            "2/2 [==============================] - 0s 9ms/step - loss: 8.9975 - mae: 8.9975\n",
            "Epoch 59/100\n",
            "2/2 [==============================] - 0s 10ms/step - loss: 10.2241 - mae: 10.2241\n",
            "Epoch 60/100\n",
            "2/2 [==============================] - 0s 9ms/step - loss: 8.1814 - mae: 8.1814\n",
            "Epoch 61/100\n",
            "2/2 [==============================] - 0s 10ms/step - loss: 10.0599 - mae: 10.0599\n",
            "Epoch 62/100\n",
            "2/2 [==============================] - 0s 10ms/step - loss: 7.0369 - mae: 7.0369\n",
            "Epoch 63/100\n",
            "2/2 [==============================] - 0s 7ms/step - loss: 12.6979 - mae: 12.6979\n",
            "Epoch 64/100\n",
            "2/2 [==============================] - 0s 8ms/step - loss: 12.6452 - mae: 12.6452\n",
            "Epoch 65/100\n",
            "2/2 [==============================] - 0s 12ms/step - loss: 9.4580 - mae: 9.4580\n",
            "Epoch 66/100\n",
            "2/2 [==============================] - 0s 7ms/step - loss: 11.5354 - mae: 11.5354\n",
            "Epoch 67/100\n",
            "2/2 [==============================] - 0s 8ms/step - loss: 8.0314 - mae: 8.0314\n",
            "Epoch 68/100\n",
            "2/2 [==============================] - 0s 7ms/step - loss: 8.5632 - mae: 8.5632\n",
            "Epoch 69/100\n",
            "2/2 [==============================] - 0s 6ms/step - loss: 12.2397 - mae: 12.2397\n",
            "Epoch 70/100\n",
            "2/2 [==============================] - 0s 7ms/step - loss: 8.9495 - mae: 8.9495\n",
            "Epoch 71/100\n",
            "2/2 [==============================] - 0s 7ms/step - loss: 9.9235 - mae: 9.9235\n",
            "Epoch 72/100\n",
            "2/2 [==============================] - 0s 8ms/step - loss: 9.9650 - mae: 9.9650\n",
            "Epoch 73/100\n",
            "2/2 [==============================] - 0s 8ms/step - loss: 12.4228 - mae: 12.4228\n",
            "Epoch 74/100\n",
            "2/2 [==============================] - 0s 11ms/step - loss: 10.5954 - mae: 10.5954\n",
            "Epoch 75/100\n",
            "2/2 [==============================] - 0s 9ms/step - loss: 9.6226 - mae: 9.6226\n",
            "Epoch 76/100\n",
            "2/2 [==============================] - 0s 10ms/step - loss: 11.0848 - mae: 11.0848\n",
            "Epoch 77/100\n",
            "2/2 [==============================] - 0s 9ms/step - loss: 8.2718 - mae: 8.2718\n",
            "Epoch 78/100\n",
            "2/2 [==============================] - 0s 9ms/step - loss: 8.9548 - mae: 8.9548\n",
            "Epoch 79/100\n",
            "2/2 [==============================] - 0s 9ms/step - loss: 19.8181 - mae: 19.8181\n",
            "Epoch 80/100\n",
            "2/2 [==============================] - 0s 11ms/step - loss: 17.7957 - mae: 17.7957\n",
            "Epoch 81/100\n",
            "2/2 [==============================] - 0s 9ms/step - loss: 7.0913 - mae: 7.0913\n",
            "Epoch 82/100\n",
            "2/2 [==============================] - 0s 8ms/step - loss: 10.3984 - mae: 10.3984\n",
            "Epoch 83/100\n",
            "2/2 [==============================] - 0s 11ms/step - loss: 9.8191 - mae: 9.8191\n",
            "Epoch 84/100\n",
            "2/2 [==============================] - 0s 12ms/step - loss: 7.9463 - mae: 7.9463\n",
            "Epoch 85/100\n",
            "2/2 [==============================] - 0s 11ms/step - loss: 9.4596 - mae: 9.4596\n",
            "Epoch 86/100\n",
            "2/2 [==============================] - 0s 10ms/step - loss: 9.5025 - mae: 9.5025\n",
            "Epoch 87/100\n",
            "2/2 [==============================] - 0s 14ms/step - loss: 11.4520 - mae: 11.4520\n",
            "Epoch 88/100\n",
            "2/2 [==============================] - 0s 9ms/step - loss: 9.9503 - mae: 9.9503\n",
            "Epoch 89/100\n",
            "2/2 [==============================] - 0s 11ms/step - loss: 7.2552 - mae: 7.2552\n",
            "Epoch 90/100\n",
            "2/2 [==============================] - 0s 9ms/step - loss: 12.7130 - mae: 12.7130\n",
            "Epoch 91/100\n",
            "2/2 [==============================] - 0s 12ms/step - loss: 7.3194 - mae: 7.3194\n",
            "Epoch 92/100\n",
            "2/2 [==============================] - 0s 19ms/step - loss: 7.6840 - mae: 7.6840\n",
            "Epoch 93/100\n",
            "2/2 [==============================] - 0s 9ms/step - loss: 7.1197 - mae: 7.1197\n",
            "Epoch 94/100\n",
            "2/2 [==============================] - 0s 11ms/step - loss: 12.5592 - mae: 12.5592\n",
            "Epoch 95/100\n",
            "2/2 [==============================] - 0s 15ms/step - loss: 9.9346 - mae: 9.9346\n",
            "Epoch 96/100\n",
            "2/2 [==============================] - 0s 26ms/step - loss: 9.1362 - mae: 9.1362\n",
            "Epoch 97/100\n",
            "2/2 [==============================] - 0s 17ms/step - loss: 12.0729 - mae: 12.0729\n",
            "Epoch 98/100\n",
            "2/2 [==============================] - 0s 11ms/step - loss: 9.0807 - mae: 9.0807\n",
            "Epoch 99/100\n",
            "2/2 [==============================] - 0s 11ms/step - loss: 8.4958 - mae: 8.4958\n",
            "Epoch 100/100\n",
            "2/2 [==============================] - 0s 14ms/step - loss: 14.4438 - mae: 14.4438\n"
          ]
        },
        {
          "data": {
            "text/plain": [
              "<keras.callbacks.History at 0x7f7154f32f80>"
            ]
          },
          "execution_count": 46,
          "metadata": {},
          "output_type": "execute_result"
        }
      ],
      "source": [
        "# set random seed\n",
        "tf.random.set_seed(42)\n",
        "\n",
        "# 1. Create the model\n",
        "model_1 = tf.keras.Sequential([\n",
        "    tf.keras.layers.Dense(1)\n",
        "])\n",
        "\n",
        "# 2. Compile the model\n",
        "model_1.compile(loss=tf.keras.losses.mae, optimizer=tf.keras.optimizers.SGD(), metrics=[\"mae\"])\n",
        "\n",
        "# 3. Fit the model\n",
        "model_1.fit(tf.expand_dims(x_train, axis=1), y_train, epochs=100)"
      ]
    },
    {
      "cell_type": "code",
      "execution_count": 47,
      "metadata": {
        "colab": {
          "base_uri": "https://localhost:8080/",
          "height": 629
        },
        "id": "R7peBV0xOM4P",
        "outputId": "bd9614e3-d5c4-4087-bfa3-4e68e0c8efe2"
      },
      "outputs": [
        {
          "name": "stdout",
          "output_type": "stream",
          "text": [
            "WARNING:tensorflow:5 out of the last 5 calls to <function Model.make_predict_function.<locals>.predict_function at 0x7f71316bb520> triggered tf.function retracing. Tracing is expensive and the excessive number of tracings could be due to (1) creating @tf.function repeatedly in a loop, (2) passing tensors with different shapes, (3) passing Python objects instead of tensors. For (1), please define your @tf.function outside of the loop. For (2), @tf.function has reduce_retracing=True option that can avoid unnecessary retracing. For (3), please refer to https://www.tensorflow.org/guide/function#controlling_retracing and https://www.tensorflow.org/api_docs/python/tf/function for  more details.\n",
            "1/1 [==============================] - 0s 97ms/step\n"
          ]
        },
        {
          "data": {
            "image/png": "[encoded data removed]",
            "text/plain": [
              "<Figure size 1000x700 with 1 Axes>"
            ]
          },
          "metadata": {},
          "output_type": "display_data"
        }
      ],
      "source": [
        "# Make and plot predictions for model_1\n",
        "y_pred_1 = model_1.predict(x_test)\n",
        "plot_predictions(predictions=y_pred_1)"
      ]
    },
    {
      "cell_type": "code",
      "execution_count": 48,
      "metadata": {
        "colab": {
          "base_uri": "https://localhost:8080/"
        },
        "id": "nyQBy_1VOM4P",
        "outputId": "7e86578a-7925-4c51-9db1-565a1e334e8d"
      },
      "outputs": [
        {
          "data": {
            "text/plain": [
              "(<tf.Tensor: shape=(), dtype=float32, numpy=30.644882>,\n",
              " <tf.Tensor: shape=(), dtype=float32, numpy=949.5548>)"
            ]
          },
          "execution_count": 48,
          "metadata": {},
          "output_type": "execute_result"
        }
      ],
      "source": [
        "# Calculate model_1 evaluation metrics\n",
        "mae_1 = mae(y_test, y_pred_1)\n",
        "mse_1 = mse(y_test, y_pred_1)\n",
        "mae_1, mse_1"
      ]
    },
    {
      "cell_type": "markdown",
      "metadata": {
        "id": "4kMTz3msOM4Q"
      },
      "source": [
        "**Build `model_2`**"
      ]
    },
    {
      "cell_type": "code",
      "execution_count": 49,
      "metadata": {
        "colab": {
          "base_uri": "https://localhost:8080/"
        },
        "id": "ZkIpKf_eOM4Q",
        "outputId": "326dfd95-0de5-4b51-cdd2-ee82b79cf76e"
      },
      "outputs": [
        {
          "name": "stdout",
          "output_type": "stream",
          "text": [
            "Epoch 1/100\n",
            "2/2 [==============================] - 1s 13ms/step - loss: 15.2328 - mse: 358.3684\n",
            "Epoch 2/100\n",
            "2/2 [==============================] - 0s 11ms/step - loss: 26.5832 - mse: 1102.3733\n",
            "Epoch 3/100\n",
            "2/2 [==============================] - 0s 10ms/step - loss: 19.5162 - mse: 564.5857\n",
            "Epoch 4/100\n",
            "2/2 [==============================] - 0s 8ms/step - loss: 14.1943 - mse: 269.3412\n",
            "Epoch 5/100\n",
            "2/2 [==============================] - 0s 7ms/step - loss: 19.8265 - mse: 536.5160\n",
            "Epoch 6/100\n",
            "2/2 [==============================] - 0s 10ms/step - loss: 8.6375 - mse: 104.6531\n",
            "Epoch 7/100\n",
            "2/2 [==============================] - 0s 9ms/step - loss: 16.1071 - mse: 335.7791\n",
            "Epoch 8/100\n",
            "2/2 [==============================] - 0s 10ms/step - loss: 16.6402 - mse: 379.4102\n",
            "Epoch 9/100\n",
            "2/2 [==============================] - 0s 9ms/step - loss: 29.0621 - mse: 1154.2662\n",
            "Epoch 10/100\n",
            "2/2 [==============================] - 0s 11ms/step - loss: 13.5178 - mse: 228.4137\n",
            "Epoch 11/100\n",
            "2/2 [==============================] - 0s 11ms/step - loss: 9.4288 - mse: 98.6148\n",
            "Epoch 12/100\n",
            "2/2 [==============================] - 0s 9ms/step - loss: 19.6526 - mse: 540.6205\n",
            "Epoch 13/100\n",
            "2/2 [==============================] - 0s 10ms/step - loss: 12.0539 - mse: 169.4854\n",
            "Epoch 14/100\n",
            "2/2 [==============================] - 0s 10ms/step - loss: 34.3204 - mse: 1930.0524\n",
            "Epoch 15/100\n",
            "2/2 [==============================] - 0s 9ms/step - loss: 22.2759 - mse: 702.8940\n",
            "Epoch 16/100\n",
            "2/2 [==============================] - 0s 9ms/step - loss: 9.8489 - mse: 126.4388\n",
            "Epoch 17/100\n",
            "2/2 [==============================] - 0s 11ms/step - loss: 17.6624 - mse: 411.7104\n",
            "Epoch 18/100\n",
            "2/2 [==============================] - 0s 10ms/step - loss: 14.1324 - mse: 314.7570\n",
            "Epoch 19/100\n",
            "2/2 [==============================] - 0s 9ms/step - loss: 13.9720 - mse: 304.1629\n",
            "Epoch 20/100\n",
            "2/2 [==============================] - 0s 11ms/step - loss: 11.2181 - mse: 146.6051\n",
            "Epoch 21/100\n",
            "2/2 [==============================] - 0s 9ms/step - loss: 17.2884 - mse: 423.2669\n",
            "Epoch 22/100\n",
            "2/2 [==============================] - 0s 10ms/step - loss: 15.5244 - mse: 331.9658\n",
            "Epoch 23/100\n",
            "2/2 [==============================] - 0s 11ms/step - loss: 9.2447 - mse: 118.7531\n",
            "Epoch 24/100\n",
            "2/2 [==============================] - 0s 11ms/step - loss: 17.2682 - mse: 408.6528\n",
            "Epoch 25/100\n",
            "2/2 [==============================] - 0s 15ms/step - loss: 15.9434 - mse: 333.9939\n",
            "Epoch 26/100\n",
            "2/2 [==============================] - 0s 12ms/step - loss: 20.9385 - mse: 649.7253\n",
            "Epoch 27/100\n",
            "2/2 [==============================] - 0s 10ms/step - loss: 25.9481 - mse: 1050.3860\n",
            "Epoch 28/100\n",
            "2/2 [==============================] - 0s 18ms/step - loss: 18.4481 - mse: 538.6386\n",
            "Epoch 29/100\n",
            "2/2 [==============================] - 0s 13ms/step - loss: 9.2482 - mse: 97.8772\n",
            "Epoch 30/100\n",
            "2/2 [==============================] - 0s 14ms/step - loss: 29.0563 - mse: 1507.6892\n",
            "Epoch 31/100\n",
            "2/2 [==============================] - 0s 9ms/step - loss: 52.6238 - mse: 4951.4141\n",
            "Epoch 32/100\n",
            "2/2 [==============================] - 0s 8ms/step - loss: 11.9203 - mse: 206.3289\n",
            "Epoch 33/100\n",
            "2/2 [==============================] - 0s 9ms/step - loss: 15.5010 - mse: 330.9755\n",
            "Epoch 34/100\n",
            "2/2 [==============================] - 0s 11ms/step - loss: 12.6013 - mse: 209.1451\n",
            "Epoch 35/100\n",
            "2/2 [==============================] - 0s 8ms/step - loss: 9.2011 - mse: 91.6314\n",
            "Epoch 36/100\n",
            "2/2 [==============================] - 0s 8ms/step - loss: 16.4725 - mse: 394.2438\n",
            "Epoch 37/100\n",
            "2/2 [==============================] - 0s 12ms/step - loss: 11.0915 - mse: 192.3051\n",
            "Epoch 38/100\n",
            "2/2 [==============================] - 0s 9ms/step - loss: 18.2215 - mse: 437.5753\n",
            "Epoch 39/100\n",
            "2/2 [==============================] - 0s 11ms/step - loss: 19.1539 - mse: 534.4708\n",
            "Epoch 40/100\n",
            "2/2 [==============================] - 0s 12ms/step - loss: 20.5276 - mse: 615.4324\n",
            "Epoch 41/100\n",
            "2/2 [==============================] - 0s 13ms/step - loss: 14.7979 - mse: 273.6568\n",
            "Epoch 42/100\n",
            "2/2 [==============================] - 0s 16ms/step - loss: 12.1955 - mse: 181.4589\n",
            "Epoch 43/100\n",
            "2/2 [==============================] - 0s 13ms/step - loss: 10.6951 - mse: 162.4263\n",
            "Epoch 44/100\n",
            "2/2 [==============================] - 0s 12ms/step - loss: 32.2143 - mse: 1706.2988\n",
            "Epoch 45/100\n",
            "2/2 [==============================] - 0s 14ms/step - loss: 12.4596 - mse: 200.9020\n",
            "Epoch 46/100\n",
            "2/2 [==============================] - 0s 10ms/step - loss: 17.4719 - mse: 457.3281\n",
            "Epoch 47/100\n",
            "2/2 [==============================] - 0s 7ms/step - loss: 15.7766 - mse: 340.0672\n",
            "Epoch 48/100\n",
            "2/2 [==============================] - 0s 12ms/step - loss: 8.3907 - mse: 112.9065\n",
            "Epoch 49/100\n",
            "2/2 [==============================] - 0s 8ms/step - loss: 14.0073 - mse: 269.2330\n",
            "Epoch 50/100\n",
            "2/2 [==============================] - 0s 12ms/step - loss: 12.8454 - mse: 216.0289\n",
            "Epoch 51/100\n",
            "2/2 [==============================] - 0s 10ms/step - loss: 14.8528 - mse: 310.4008\n",
            "Epoch 52/100\n",
            "2/2 [==============================] - 0s 9ms/step - loss: 18.7367 - mse: 531.0878\n",
            "Epoch 53/100\n",
            "2/2 [==============================] - 0s 11ms/step - loss: 24.2001 - mse: 830.3002\n",
            "Epoch 54/100\n",
            "2/2 [==============================] - 0s 10ms/step - loss: 23.1078 - mse: 799.1388\n",
            "Epoch 55/100\n",
            "2/2 [==============================] - 0s 10ms/step - loss: 23.9476 - mse: 862.4830\n",
            "Epoch 56/100\n",
            "2/2 [==============================] - 0s 12ms/step - loss: 11.1384 - mse: 171.1534\n",
            "Epoch 57/100\n",
            "2/2 [==============================] - 0s 9ms/step - loss: 13.0808 - mse: 212.3316\n",
            "Epoch 58/100\n",
            "2/2 [==============================] - 0s 12ms/step - loss: 9.7918 - mse: 105.8397\n",
            "Epoch 59/100\n",
            "2/2 [==============================] - 0s 12ms/step - loss: 13.2568 - mse: 246.4241\n",
            "Epoch 60/100\n",
            "2/2 [==============================] - 0s 9ms/step - loss: 10.8441 - mse: 138.2443\n",
            "Epoch 61/100\n",
            "2/2 [==============================] - 0s 9ms/step - loss: 13.4281 - mse: 238.9541\n",
            "Epoch 62/100\n",
            "2/2 [==============================] - 0s 11ms/step - loss: 17.4035 - mse: 461.8975\n",
            "Epoch 63/100\n",
            "2/2 [==============================] - 0s 13ms/step - loss: 9.1430 - mse: 87.7181\n",
            "Epoch 64/100\n",
            "2/2 [==============================] - 0s 15ms/step - loss: 18.2726 - mse: 485.4013\n",
            "Epoch 65/100\n",
            "2/2 [==============================] - 0s 12ms/step - loss: 10.0970 - mse: 114.0526\n",
            "Epoch 66/100\n",
            "2/2 [==============================] - 0s 11ms/step - loss: 24.1024 - mse: 875.3845\n",
            "Epoch 67/100\n",
            "2/2 [==============================] - 0s 10ms/step - loss: 10.8466 - mse: 140.8354\n",
            "Epoch 68/100\n",
            "2/2 [==============================] - 0s 6ms/step - loss: 10.7406 - mse: 156.0934\n",
            "Epoch 69/100\n",
            "2/2 [==============================] - 0s 10ms/step - loss: 23.0615 - mse: 768.0182\n",
            "Epoch 70/100\n",
            "2/2 [==============================] - 0s 10ms/step - loss: 8.8499 - mse: 142.8387\n",
            "Epoch 71/100\n",
            "2/2 [==============================] - 0s 11ms/step - loss: 16.0851 - mse: 352.8911\n",
            "Epoch 72/100\n",
            "2/2 [==============================] - 0s 7ms/step - loss: 7.7663 - mse: 91.3565\n",
            "Epoch 73/100\n",
            "2/2 [==============================] - 0s 11ms/step - loss: 10.6363 - mse: 185.6506\n",
            "Epoch 74/100\n",
            "2/2 [==============================] - 0s 13ms/step - loss: 27.9151 - mse: 1092.9211\n",
            "Epoch 75/100\n",
            "2/2 [==============================] - 0s 13ms/step - loss: 10.4651 - mse: 146.2113\n",
            "Epoch 76/100\n",
            "2/2 [==============================] - 0s 10ms/step - loss: 13.4601 - mse: 235.5150\n",
            "Epoch 77/100\n",
            "2/2 [==============================] - 0s 10ms/step - loss: 19.2922 - mse: 583.8942\n",
            "Epoch 78/100\n",
            "2/2 [==============================] - 0s 10ms/step - loss: 8.9053 - mse: 84.7922\n",
            "Epoch 79/100\n",
            "2/2 [==============================] - 0s 9ms/step - loss: 27.9497 - mse: 1223.0167\n",
            "Epoch 80/100\n",
            "2/2 [==============================] - 0s 13ms/step - loss: 30.0326 - mse: 1430.0652\n",
            "Epoch 81/100\n",
            "2/2 [==============================] - 0s 11ms/step - loss: 13.8284 - mse: 270.4575\n",
            "Epoch 82/100\n",
            "2/2 [==============================] - 0s 8ms/step - loss: 15.7475 - mse: 341.7049\n",
            "Epoch 83/100\n",
            "2/2 [==============================] - 0s 11ms/step - loss: 9.2561 - mse: 95.2225\n",
            "Epoch 84/100\n",
            "2/2 [==============================] - 0s 10ms/step - loss: 8.1956 - mse: 109.8412\n",
            "Epoch 85/100\n",
            "2/2 [==============================] - 0s 12ms/step - loss: 18.7608 - mse: 549.7053\n",
            "Epoch 86/100\n",
            "2/2 [==============================] - 0s 13ms/step - loss: 22.2371 - mse: 707.6503\n",
            "Epoch 87/100\n",
            "2/2 [==============================] - 0s 11ms/step - loss: 11.2868 - mse: 152.0670\n",
            "Epoch 88/100\n",
            "2/2 [==============================] - 0s 11ms/step - loss: 26.2191 - mse: 980.7974\n",
            "Epoch 89/100\n",
            "2/2 [==============================] - 0s 8ms/step - loss: 9.5829 - mse: 131.2045\n",
            "Epoch 90/100\n",
            "2/2 [==============================] - 0s 12ms/step - loss: 18.4541 - mse: 488.3617\n",
            "Epoch 91/100\n",
            "2/2 [==============================] - 0s 11ms/step - loss: 10.3976 - mse: 165.8337\n",
            "Epoch 92/100\n",
            "2/2 [==============================] - 0s 15ms/step - loss: 17.6886 - mse: 427.5513\n",
            "Epoch 93/100\n",
            "2/2 [==============================] - 0s 9ms/step - loss: 6.8525 - mse: 64.2897\n",
            "Epoch 94/100\n",
            "2/2 [==============================] - 0s 11ms/step - loss: 17.6142 - mse: 470.7972\n",
            "Epoch 95/100\n",
            "2/2 [==============================] - 0s 10ms/step - loss: 17.3193 - mse: 415.6849\n",
            "Epoch 96/100\n",
            "2/2 [==============================] - 0s 11ms/step - loss: 11.5023 - mse: 209.1036\n",
            "Epoch 97/100\n",
            "2/2 [==============================] - 0s 12ms/step - loss: 18.2571 - mse: 451.0991\n",
            "Epoch 98/100\n",
            "2/2 [==============================] - 0s 11ms/step - loss: 9.7283 - mse: 178.8943\n",
            "Epoch 99/100\n",
            "2/2 [==============================] - 0s 11ms/step - loss: 16.9123 - mse: 447.0672\n",
            "Epoch 100/100\n",
            "2/2 [==============================] - 0s 12ms/step - loss: 17.7807 - mse: 465.5924\n"
          ]
        },
        {
          "data": {
            "text/plain": [
              "<keras.callbacks.History at 0x7f7154facca0>"
            ]
          },
          "execution_count": 49,
          "metadata": {},
          "output_type": "execute_result"
        }
      ],
      "source": [
        "# set random seed\n",
        "tf.random.set_seed(42)\n",
        "\n",
        "# 1. Create the model\n",
        "model_2 = tf.keras.Sequential([\n",
        "    tf.keras.layers.Dense(10),\n",
        "    tf.keras.layers.Dense(1)\n",
        "])\n",
        "\n",
        "# 2. Compile the model\n",
        "model_2.compile(loss=tf.keras.losses.mae, optimizer=tf.keras.optimizers.SGD(), metrics=[\"mse\"])\n",
        "\n",
        "# 3. Fit the model\n",
        "model_2.fit(tf.expand_dims(x_train, axis=1), y_train, epochs=100)\n"
      ]
    },
    {
      "cell_type": "code",
      "execution_count": 50,
      "metadata": {
        "colab": {
          "base_uri": "https://localhost:8080/",
          "height": 623
        },
        "id": "TSnn9W-DOM4Q",
        "outputId": "faea5cd1-9b67-4151-a7f9-eee7cc3eca97"
      },
      "outputs": [
        {
          "name": "stdout",
          "output_type": "stream",
          "text": [
            "WARNING:tensorflow:6 out of the last 6 calls to <function Model.make_predict_function.<locals>.predict_function at 0x7f7154e14160> triggered tf.function retracing. Tracing is expensive and the excessive number of tracings could be due to (1) creating @tf.function repeatedly in a loop, (2) passing tensors with different shapes, (3) passing Python objects instead of tensors. For (1), please define your @tf.function outside of the loop. For (2), @tf.function has reduce_retracing=True option that can avoid unnecessary retracing. For (3), please refer to https://www.tensorflow.org/guide/function#controlling_retracing and https://www.tensorflow.org/api_docs/python/tf/function for  more details.\n",
            "1/1 [==============================] - 0s 153ms/step\n"
          ]
        },
        {
          "data": {
            "image/png": "[encoded data removed]",
            "text/plain": [
              "<Figure size 1000x700 with 1 Axes>"
            ]
          },
          "metadata": {},
          "output_type": "display_data"
        }
      ],
      "source": [
        "# Make and plot predictions for model_2\n",
        "y_pred_2 = model_2.predict(x_test)\n",
        "plot_predictions(predictions=y_pred_2)"
      ]
    },
    {
      "cell_type": "code",
      "execution_count": 51,
      "metadata": {
        "colab": {
          "base_uri": "https://localhost:8080/"
        },
        "id": "t1Y47IugOM4R",
        "outputId": "31aec3ed-863e-49de-fe72-5d1ba22a5b41"
      },
      "outputs": [
        {
          "data": {
            "text/plain": [
              "(<tf.Tensor: shape=(), dtype=float32, numpy=42.963173>,\n",
              " <tf.Tensor: shape=(), dtype=float32, numpy=1871.4978>)"
            ]
          },
          "execution_count": 51,
          "metadata": {},
          "output_type": "execute_result"
        }
      ],
      "source": [
        "# Calculate model_2 evaluation metrics\n",
        "mae_2 = mae(y_test, y_pred_2)\n",
        "mse_2 = mse(y_test, y_pred_2)\n",
        "mae_2, mse_2"
      ]
    },
    {
      "cell_type": "markdown",
      "metadata": {
        "id": "id4o_AF9OM4S"
      },
      "source": [
        "**Build `model_3`**"
      ]
    },
    {
      "cell_type": "code",
      "execution_count": 52,
      "metadata": {
        "colab": {
          "base_uri": "https://localhost:8080/"
        },
        "id": "VUvRbEL-OM4S",
        "outputId": "1f08cdb8-ceac-4b9b-aa62-5751f0a225f1"
      },
      "outputs": [
        {
          "data": {
            "text/plain": [
              "<keras.callbacks.History at 0x7f7154d5e6b0>"
            ]
          },
          "execution_count": 52,
          "metadata": {},
          "output_type": "execute_result"
        }
      ],
      "source": [
        "# set random seed\n",
        "tf.random.set_seed(42)\n",
        "\n",
        "# 1. Create the model\n",
        "model_3 = tf.keras.Sequential([\n",
        "    tf.keras.layers.Dense(10),\n",
        "    tf.keras.layers.Dense(1)\n",
        "])\n",
        "\n",
        "# 2. Compile the model\n",
        "model_3.compile(loss=tf.keras.losses.mae, optimizer=tf.keras.optimizers.SGD(), metrics=[\"mae\"])\n",
        "\n",
        "# 3. Fit the model\n",
        "model_3.fit(tf.expand_dims(x_train, axis=1), y_train, epochs=500, verbose=0)\n"
      ]
    },
    {
      "cell_type": "code",
      "execution_count": 53,
      "metadata": {
        "colab": {
          "base_uri": "https://localhost:8080/",
          "height": 592
        },
        "id": "e78uMVv9OM4T",
        "outputId": "3bba863a-0178-4372-8c22-4b50fd1197a9"
      },
      "outputs": [
        {
          "name": "stdout",
          "output_type": "stream",
          "text": [
            "1/1 [==============================] - 0s 113ms/step\n"
          ]
        },
        {
          "data": {
            "image/png": "[encoded data removed]",
            "text/plain": [
              "<Figure size 1000x700 with 1 Axes>"
            ]
          },
          "metadata": {},
          "output_type": "display_data"
        }
      ],
      "source": [
        "# Make and Plot some predictions\n",
        "y_pred_3 = model_3.predict(x_test)\n",
        "plot_predictions(predictions=y_pred_3)"
      ]
    },
    {
      "cell_type": "code",
      "execution_count": 54,
      "metadata": {
        "colab": {
          "base_uri": "https://localhost:8080/"
        },
        "id": "-v6Qtu6AOM4U",
        "outputId": "77914fc8-1a14-48e4-d0cd-776f98db7daf"
      },
      "outputs": [
        {
          "data": {
            "text/plain": [
              "(<tf.Tensor: shape=(), dtype=float32, numpy=67.18183>,\n",
              " <tf.Tensor: shape=(), dtype=float32, numpy=4595.9697>)"
            ]
          },
          "execution_count": 54,
          "metadata": {},
          "output_type": "execute_result"
        }
      ],
      "source": [
        "# Calculate model_3 evaluation metrics\n",
        "mae_3 = mae(y_test, y_pred_3)\n",
        "mse_3 = mse(y_test, y_pred_3)\n",
        "mae_3, mse_3"
      ]
    },
    {
      "cell_type": "markdown",
      "metadata": {
        "id": "vOaKnQxOOM4V"
      },
      "source": [
        "## Comparing results\n",
        "\n",
        "Now we've got results for 3 similar but slightly different results, let's compare them."
      ]
    },
    {
      "cell_type": "code",
      "execution_count": 55,
      "metadata": {
        "colab": {
          "base_uri": "https://localhost:8080/",
          "height": 143
        },
        "id": "S8TNY7J5OM4V",
        "outputId": "85ca5a31-58b3-46f7-d5e3-7c3541d87761"
      },
      "outputs": [
        {
          "data": {
            "text/html": [
              "<div>\n",
              "<style scoped>\n",
              "    .dataframe tbody tr th:only-of-type {\n",
              "        vertical-align: middle;\n",
              "    }\n",
              "\n",
              "    .dataframe tbody tr th {\n",
              "        vertical-align: top;\n",
              "    }\n",
              "\n",
              "    .dataframe thead th {\n",
              "        text-align: right;\n",
              "    }\n",
              "</style>\n",
              "<table border=\"1\" class=\"dataframe\">\n",
              "  <thead>\n",
              "    <tr style=\"text-align: right;\">\n",
              "      <th></th>\n",
              "      <th>model</th>\n",
              "      <th>mae</th>\n",
              "      <th>mse</th>\n",
              "    </tr>\n",
              "  </thead>\n",
              "  <tbody>\n",
              "    <tr>\n",
              "      <th>0</th>\n",
              "      <td>model_1</td>\n",
              "      <td>30.644882</td>\n",
              "      <td>949.554810</td>\n",
              "    </tr>\n",
              "    <tr>\n",
              "      <th>1</th>\n",
              "      <td>model_2</td>\n",
              "      <td>42.963173</td>\n",
              "      <td>1871.497803</td>\n",
              "    </tr>\n",
              "    <tr>\n",
              "      <th>2</th>\n",
              "      <td>model_3</td>\n",
              "      <td>67.181831</td>\n",
              "      <td>4595.969727</td>\n",
              "    </tr>\n",
              "  </tbody>\n",
              "</table>\n",
              "</div>"
            ],
            "text/plain": [
              "     model        mae          mse\n",
              "0  model_1  30.644882   949.554810\n",
              "1  model_2  42.963173  1871.497803\n",
              "2  model_3  67.181831  4595.969727"
            ]
          },
          "execution_count": 55,
          "metadata": {},
          "output_type": "execute_result"
        }
      ],
      "source": [
        "# Lets's compare our model's results using a pandas DataFrame\n",
        "import pandas as pd\n",
        "\n",
        "model_results = [[\"model_1\", mae_1.numpy(), mse_1.numpy()],\n",
        "                 [\"model_2\", mae_2.numpy(), mse_2.numpy()],\n",
        "                 [\"model_3\", mae_3.numpy(), mse_3.numpy()]]\n",
        "\n",
        "all_results = pd.DataFrame(model_results, columns=[\"model\", \"mae\", \"mse\"])\n",
        "all_results"
      ]
    },
    {
      "cell_type": "markdown",
      "metadata": {
        "id": "aUSrtOpMOM4W"
      },
      "source": [
        "Looks like model_2 performed the best"
      ]
    },
    {
      "cell_type": "code",
      "execution_count": 56,
      "metadata": {
        "colab": {
          "base_uri": "https://localhost:8080/"
        },
        "id": "l6TjzdtwOM4W",
        "outputId": "b0e385f9-f9ea-4b26-98ff-97bb28eccf4e"
      },
      "outputs": [
        {
          "name": "stdout",
          "output_type": "stream",
          "text": [
            "Model: \"sequential_5\"\n",
            "_________________________________________________________________\n",
            " Layer (type)                Output Shape              Param #   \n",
            "=================================================================\n",
            " dense_6 (Dense)             (None, 10)                20        \n",
            "                                                                 \n",
            " dense_7 (Dense)             (None, 1)                 11        \n",
            "                                                                 \n",
            "=================================================================\n",
            "Total params: 31\n",
            "Trainable params: 31\n",
            "Non-trainable params: 0\n",
            "_________________________________________________________________\n"
          ]
        }
      ],
      "source": [
        "model_2.summary()"
      ]
    },
    {
      "cell_type": "markdown",
      "metadata": {
        "id": "39lvTk71OM4X"
      },
      "source": [
        "## Saving Our Models"
      ]
    },
    {
      "cell_type": "code",
      "execution_count": 57,
      "metadata": {
        "colab": {
          "base_uri": "https://localhost:8080/"
        },
        "id": "bZItbgYvOM4X",
        "outputId": "0ba8907b-9d44-4c9a-a5d5-ed475eeb8419"
      },
      "outputs": [
        {
          "name": "stderr",
          "output_type": "stream",
          "text": [
            "WARNING:absl:Found untraced functions such as _update_step_xla while saving (showing 1 of 1). These functions will not be directly callable after loading.\n"
          ]
        },
        {
          "name": "stdout",
          "output_type": "stream",
          "text": [
            "INFO:tensorflow:Assets written to: best_model_savedModel_format/assets\n"
          ]
        },
        {
          "name": "stderr",
          "output_type": "stream",
          "text": [
            "INFO:tensorflow:Assets written to: best_model_savedModel_format/assets\n"
          ]
        }
      ],
      "source": [
        "# Save Model using the savemodal format\n",
        "model_2.save(\"best_model_savedModel_format\")"
      ]
    },
    {
      "cell_type": "code",
      "execution_count": 58,
      "metadata": {
        "id": "Q6zxQeJXPlQn"
      },
      "outputs": [],
      "source": [
        "# save model using the hdf5 format\n",
        "model_2.save(\"best_model_HDF5_format.h5\")"
      ]
    },
    {
      "cell_type": "markdown",
      "metadata": {
        "id": "ifktdcGgQSCV"
      },
      "source": [
        "# Loading in a saved model"
      ]
    },
    {
      "cell_type": "code",
      "execution_count": 59,
      "metadata": {
        "colab": {
          "base_uri": "https://localhost:8080/"
        },
        "id": "KdQM67A_RjYu",
        "outputId": "2697fefe-23c1-419e-cbc1-5698cd2c395c"
      },
      "outputs": [
        {
          "name": "stdout",
          "output_type": "stream",
          "text": [
            "Model: \"sequential_5\"\n",
            "_________________________________________________________________\n",
            " Layer (type)                Output Shape              Param #   \n",
            "=================================================================\n",
            " dense_6 (Dense)             (None, 10)                20        \n",
            "                                                                 \n",
            " dense_7 (Dense)             (None, 1)                 11        \n",
            "                                                                 \n",
            "=================================================================\n",
            "Total params: 31\n",
            "Trainable params: 31\n",
            "Non-trainable params: 0\n",
            "_________________________________________________________________\n"
          ]
        }
      ],
      "source": [
        "# load in the savedModel format model\n",
        "loaded_SavedModel_format = tf.keras.models.load_model(\"best_model_savedModel_format\")\n",
        "loaded_SavedModel_format.summary()"
      ]
    },
    {
      "cell_type": "code",
      "execution_count": 60,
      "metadata": {
        "colab": {
          "base_uri": "https://localhost:8080/"
        },
        "id": "hWsDrmy1R_oW",
        "outputId": "b348c7bd-aab7-429e-8a3e-540ae8af9122"
      },
      "outputs": [
        {
          "name": "stdout",
          "output_type": "stream",
          "text": [
            "1/1 [==============================] - 0s 70ms/step\n",
            "1/1 [==============================] - 0s 94ms/step\n"
          ]
        },
        {
          "data": {
            "text/plain": [
              "array([[ True],\n",
              "       [ True],\n",
              "       [ True],\n",
              "       [ True],\n",
              "       [ True],\n",
              "       [ True],\n",
              "       [ True],\n",
              "       [ True],\n",
              "       [ True],\n",
              "       [ True]])"
            ]
          },
          "execution_count": 60,
          "metadata": {},
          "output_type": "execute_result"
        }
      ],
      "source": [
        "# Compare model_2 predictions with saved model format model predictions\n",
        "model_2_preds = model_2.predict(x_test)\n",
        "loaded_SavedModel_format_preds = loaded_SavedModel_format.predict(x_test)\n",
        "model_2_preds == loaded_SavedModel_format_preds"
      ]
    },
    {
      "cell_type": "code",
      "execution_count": 61,
      "metadata": {
        "colab": {
          "base_uri": "https://localhost:8080/"
        },
        "id": "W47MLMr4SGRL",
        "outputId": "f6befaaa-cc42-4952-87b8-3aff419fbdd0"
      },
      "outputs": [
        {
          "name": "stdout",
          "output_type": "stream",
          "text": [
            "Model: \"sequential_5\"\n",
            "_________________________________________________________________\n",
            " Layer (type)                Output Shape              Param #   \n",
            "=================================================================\n",
            " dense_6 (Dense)             (None, 10)                20        \n",
            "                                                                 \n",
            " dense_7 (Dense)             (None, 1)                 11        \n",
            "                                                                 \n",
            "=================================================================\n",
            "Total params: 31\n",
            "Trainable params: 31\n",
            "Non-trainable params: 0\n",
            "_________________________________________________________________\n"
          ]
        }
      ],
      "source": [
        "# load in a model doing h5 format\n",
        "loaded_h5_model = tf.keras.models.load_model(\"best_model_HDF5_format.h5\")\n",
        "loaded_h5_model.summary()"
      ]
    },
    {
      "cell_type": "code",
      "execution_count": 62,
      "metadata": {
        "colab": {
          "base_uri": "https://localhost:8080/"
        },
        "id": "whyXhoCwTIUD",
        "outputId": "0a7cf116-af00-476c-c8f2-f4e81e607759"
      },
      "outputs": [
        {
          "name": "stdout",
          "output_type": "stream",
          "text": [
            "1/1 [==============================] - 0s 45ms/step\n",
            "1/1 [==============================] - 0s 97ms/step\n"
          ]
        },
        {
          "data": {
            "text/plain": [
              "array([[ True],\n",
              "       [ True],\n",
              "       [ True],\n",
              "       [ True],\n",
              "       [ True],\n",
              "       [ True],\n",
              "       [ True],\n",
              "       [ True],\n",
              "       [ True],\n",
              "       [ True]])"
            ]
          },
          "execution_count": 62,
          "metadata": {},
          "output_type": "execute_result"
        }
      ],
      "source": [
        "model_2_preds = model_2.predict(x_test)\n",
        "loaded_h5_model_preds = loaded_h5_model.predict(x_test)\n",
        "model_2_preds == loaded_h5_model_preds"
      ]
    },
    {
      "cell_type": "code",
      "execution_count": null,
      "metadata": {
        "id": "vTvLf_ZXneTv"
      },
      "outputs": [],
      "source": []
    },
    {
      "cell_type": "markdown",
      "metadata": {
        "id": "fD564j2-neTv"
      },
      "source": [
        "# A larger example"
      ]
    },
    {
      "cell_type": "code",
      "execution_count": 63,
      "metadata": {
        "id": "90RvgSPCUFrW"
      },
      "outputs": [],
      "source": [
        "# Import the required libraries\n",
        "import tensorflow as tf\n",
        "import pandas as pd\n",
        "import matplotlib.pyplot as plt"
      ]
    },
    {
      "cell_type": "code",
      "execution_count": 64,
      "metadata": {
        "colab": {
          "base_uri": "https://localhost:8080/",
          "height": 423
        },
        "id": "19xToG2OneTw",
        "outputId": "63beff29-f09c-4c60-efab-58b155026641"
      },
      "outputs": [
        {
          "data": {
            "text/html": [
              "<div>\n",
              "<style scoped>\n",
              "    .dataframe tbody tr th:only-of-type {\n",
              "        vertical-align: middle;\n",
              "    }\n",
              "\n",
              "    .dataframe tbody tr th {\n",
              "        vertical-align: top;\n",
              "    }\n",
              "\n",
              "    .dataframe thead th {\n",
              "        text-align: right;\n",
              "    }\n",
              "</style>\n",
              "<table border=\"1\" class=\"dataframe\">\n",
              "  <thead>\n",
              "    <tr style=\"text-align: right;\">\n",
              "      <th></th>\n",
              "      <th>age</th>\n",
              "      <th>sex</th>\n",
              "      <th>bmi</th>\n",
              "      <th>children</th>\n",
              "      <th>smoker</th>\n",
              "      <th>region</th>\n",
              "      <th>charges</th>\n",
              "    </tr>\n",
              "  </thead>\n",
              "  <tbody>\n",
              "    <tr>\n",
              "      <th>0</th>\n",
              "      <td>19</td>\n",
              "      <td>female</td>\n",
              "      <td>27.900</td>\n",
              "      <td>0</td>\n",
              "      <td>yes</td>\n",
              "      <td>southwest</td>\n",
              "      <td>16884.92400</td>\n",
              "    </tr>\n",
              "    <tr>\n",
              "      <th>1</th>\n",
              "      <td>18</td>\n",
              "      <td>male</td>\n",
              "      <td>33.770</td>\n",
              "      <td>1</td>\n",
              "      <td>no</td>\n",
              "      <td>southeast</td>\n",
              "      <td>1725.55230</td>\n",
              "    </tr>\n",
              "    <tr>\n",
              "      <th>2</th>\n",
              "      <td>28</td>\n",
              "      <td>male</td>\n",
              "      <td>33.000</td>\n",
              "      <td>3</td>\n",
              "      <td>no</td>\n",
              "      <td>southeast</td>\n",
              "      <td>4449.46200</td>\n",
              "    </tr>\n",
              "    <tr>\n",
              "      <th>3</th>\n",
              "      <td>33</td>\n",
              "      <td>male</td>\n",
              "      <td>22.705</td>\n",
              "      <td>0</td>\n",
              "      <td>no</td>\n",
              "      <td>northwest</td>\n",
              "      <td>21984.47061</td>\n",
              "    </tr>\n",
              "    <tr>\n",
              "      <th>4</th>\n",
              "      <td>32</td>\n",
              "      <td>male</td>\n",
              "      <td>28.880</td>\n",
              "      <td>0</td>\n",
              "      <td>no</td>\n",
              "      <td>northwest</td>\n",
              "      <td>3866.85520</td>\n",
              "    </tr>\n",
              "    <tr>\n",
              "      <th>...</th>\n",
              "      <td>...</td>\n",
              "      <td>...</td>\n",
              "      <td>...</td>\n",
              "      <td>...</td>\n",
              "      <td>...</td>\n",
              "      <td>...</td>\n",
              "      <td>...</td>\n",
              "    </tr>\n",
              "    <tr>\n",
              "      <th>1333</th>\n",
              "      <td>50</td>\n",
              "      <td>male</td>\n",
              "      <td>30.970</td>\n",
              "      <td>3</td>\n",
              "      <td>no</td>\n",
              "      <td>northwest</td>\n",
              "      <td>10600.54830</td>\n",
              "    </tr>\n",
              "    <tr>\n",
              "      <th>1334</th>\n",
              "      <td>18</td>\n",
              "      <td>female</td>\n",
              "      <td>31.920</td>\n",
              "      <td>0</td>\n",
              "      <td>no</td>\n",
              "      <td>northeast</td>\n",
              "      <td>2205.98080</td>\n",
              "    </tr>\n",
              "    <tr>\n",
              "      <th>1335</th>\n",
              "      <td>18</td>\n",
              "      <td>female</td>\n",
              "      <td>36.850</td>\n",
              "      <td>0</td>\n",
              "      <td>no</td>\n",
              "      <td>southeast</td>\n",
              "      <td>1629.83350</td>\n",
              "    </tr>\n",
              "    <tr>\n",
              "      <th>1336</th>\n",
              "      <td>21</td>\n",
              "      <td>female</td>\n",
              "      <td>25.800</td>\n",
              "      <td>0</td>\n",
              "      <td>no</td>\n",
              "      <td>southwest</td>\n",
              "      <td>2007.94500</td>\n",
              "    </tr>\n",
              "    <tr>\n",
              "      <th>1337</th>\n",
              "      <td>61</td>\n",
              "      <td>female</td>\n",
              "      <td>29.070</td>\n",
              "      <td>0</td>\n",
              "      <td>yes</td>\n",
              "      <td>northwest</td>\n",
              "      <td>29141.36030</td>\n",
              "    </tr>\n",
              "  </tbody>\n",
              "</table>\n",
              "<p>1338 rows × 7 columns</p>\n",
              "</div>"
            ],
            "text/plain": [
              "      age     sex     bmi  children smoker     region      charges\n",
              "0      19  female  27.900         0    yes  southwest  16884.92400\n",
              "1      18    male  33.770         1     no  southeast   1725.55230\n",
              "2      28    male  33.000         3     no  southeast   4449.46200\n",
              "3      33    male  22.705         0     no  northwest  21984.47061\n",
              "4      32    male  28.880         0     no  northwest   3866.85520\n",
              "...   ...     ...     ...       ...    ...        ...          ...\n",
              "1333   50    male  30.970         3     no  northwest  10600.54830\n",
              "1334   18  female  31.920         0     no  northeast   2205.98080\n",
              "1335   18  female  36.850         0     no  southeast   1629.83350\n",
              "1336   21  female  25.800         0     no  southwest   2007.94500\n",
              "1337   61  female  29.070         0    yes  northwest  29141.36030\n",
              "\n",
              "[1338 rows x 7 columns]"
            ]
          },
          "execution_count": 64,
          "metadata": {},
          "output_type": "execute_result"
        }
      ],
      "source": [
        "# Read in the insurance dataset\n",
        "insurance = pd.read_csv(\"https://raw.githubusercontent.com/stedy/Machine-Learning-with-R-datasets/master/insurance.csv\")\n",
        "insurance"
      ]
    },
    {
      "cell_type": "code",
      "execution_count": 65,
      "metadata": {
        "colab": {
          "base_uri": "https://localhost:8080/",
          "height": 270
        },
        "id": "xCzLxo7GneTw",
        "outputId": "0849a816-f470-47fd-e9d7-78658601bd0f"
      },
      "outputs": [
        {
          "data": {
            "text/html": [
              "<div>\n",
              "<style scoped>\n",
              "    .dataframe tbody tr th:only-of-type {\n",
              "        vertical-align: middle;\n",
              "    }\n",
              "\n",
              "    .dataframe tbody tr th {\n",
              "        vertical-align: top;\n",
              "    }\n",
              "\n",
              "    .dataframe thead th {\n",
              "        text-align: right;\n",
              "    }\n",
              "</style>\n",
              "<table border=\"1\" class=\"dataframe\">\n",
              "  <thead>\n",
              "    <tr style=\"text-align: right;\">\n",
              "      <th></th>\n",
              "      <th>age</th>\n",
              "      <th>bmi</th>\n",
              "      <th>children</th>\n",
              "      <th>charges</th>\n",
              "      <th>sex_female</th>\n",
              "      <th>sex_male</th>\n",
              "      <th>smoker_no</th>\n",
              "      <th>smoker_yes</th>\n",
              "      <th>region_northeast</th>\n",
              "      <th>region_northwest</th>\n",
              "      <th>region_southeast</th>\n",
              "      <th>region_southwest</th>\n",
              "    </tr>\n",
              "  </thead>\n",
              "  <tbody>\n",
              "    <tr>\n",
              "      <th>0</th>\n",
              "      <td>19</td>\n",
              "      <td>27.900</td>\n",
              "      <td>0</td>\n",
              "      <td>16884.92400</td>\n",
              "      <td>True</td>\n",
              "      <td>False</td>\n",
              "      <td>False</td>\n",
              "      <td>True</td>\n",
              "      <td>False</td>\n",
              "      <td>False</td>\n",
              "      <td>False</td>\n",
              "      <td>True</td>\n",
              "    </tr>\n",
              "    <tr>\n",
              "      <th>1</th>\n",
              "      <td>18</td>\n",
              "      <td>33.770</td>\n",
              "      <td>1</td>\n",
              "      <td>1725.55230</td>\n",
              "      <td>False</td>\n",
              "      <td>True</td>\n",
              "      <td>True</td>\n",
              "      <td>False</td>\n",
              "      <td>False</td>\n",
              "      <td>False</td>\n",
              "      <td>True</td>\n",
              "      <td>False</td>\n",
              "    </tr>\n",
              "    <tr>\n",
              "      <th>2</th>\n",
              "      <td>28</td>\n",
              "      <td>33.000</td>\n",
              "      <td>3</td>\n",
              "      <td>4449.46200</td>\n",
              "      <td>False</td>\n",
              "      <td>True</td>\n",
              "      <td>True</td>\n",
              "      <td>False</td>\n",
              "      <td>False</td>\n",
              "      <td>False</td>\n",
              "      <td>True</td>\n",
              "      <td>False</td>\n",
              "    </tr>\n",
              "    <tr>\n",
              "      <th>3</th>\n",
              "      <td>33</td>\n",
              "      <td>22.705</td>\n",
              "      <td>0</td>\n",
              "      <td>21984.47061</td>\n",
              "      <td>False</td>\n",
              "      <td>True</td>\n",
              "      <td>True</td>\n",
              "      <td>False</td>\n",
              "      <td>False</td>\n",
              "      <td>True</td>\n",
              "      <td>False</td>\n",
              "      <td>False</td>\n",
              "    </tr>\n",
              "    <tr>\n",
              "      <th>4</th>\n",
              "      <td>32</td>\n",
              "      <td>28.880</td>\n",
              "      <td>0</td>\n",
              "      <td>3866.85520</td>\n",
              "      <td>False</td>\n",
              "      <td>True</td>\n",
              "      <td>True</td>\n",
              "      <td>False</td>\n",
              "      <td>False</td>\n",
              "      <td>True</td>\n",
              "      <td>False</td>\n",
              "      <td>False</td>\n",
              "    </tr>\n",
              "  </tbody>\n",
              "</table>\n",
              "</div>"
            ],
            "text/plain": [
              "   age     bmi  children      charges  sex_female  sex_male  smoker_no   \n",
              "0   19  27.900         0  16884.92400        True     False      False  \\\n",
              "1   18  33.770         1   1725.55230       False      True       True   \n",
              "2   28  33.000         3   4449.46200       False      True       True   \n",
              "3   33  22.705         0  21984.47061       False      True       True   \n",
              "4   32  28.880         0   3866.85520       False      True       True   \n",
              "\n",
              "   smoker_yes  region_northeast  region_northwest  region_southeast   \n",
              "0        True             False             False             False  \\\n",
              "1       False             False             False              True   \n",
              "2       False             False             False              True   \n",
              "3       False             False              True             False   \n",
              "4       False             False              True             False   \n",
              "\n",
              "   region_southwest  \n",
              "0              True  \n",
              "1             False  \n",
              "2             False  \n",
              "3             False  \n",
              "4             False  "
            ]
          },
          "execution_count": 65,
          "metadata": {},
          "output_type": "execute_result"
        }
      ],
      "source": [
        "# Turn all categories into numbers\n",
        "insurance_one_hot = pd.get_dummies(insurance)\n",
        "insurance_one_hot.head() # view the converted columns"
      ]
    },
    {
      "cell_type": "code",
      "execution_count": 66,
      "metadata": {
        "id": "7kip6Xr7neTx"
      },
      "outputs": [],
      "source": [
        "# Create x and y values (features and labels)\n",
        "x = insurance_one_hot.drop(\"charges\", axis=1)\n",
        "y = insurance_one_hot[\"charges\"]"
      ]
    },
    {
      "cell_type": "code",
      "execution_count": 67,
      "metadata": {
        "colab": {
          "base_uri": "https://localhost:8080/",
          "height": 270
        },
        "id": "1oyNcHlCneTx",
        "outputId": "f71dc5aa-87cc-4beb-9010-b1530ace7971"
      },
      "outputs": [
        {
          "data": {
            "text/html": [
              "<div>\n",
              "<style scoped>\n",
              "    .dataframe tbody tr th:only-of-type {\n",
              "        vertical-align: middle;\n",
              "    }\n",
              "\n",
              "    .dataframe tbody tr th {\n",
              "        vertical-align: top;\n",
              "    }\n",
              "\n",
              "    .dataframe thead th {\n",
              "        text-align: right;\n",
              "    }\n",
              "</style>\n",
              "<table border=\"1\" class=\"dataframe\">\n",
              "  <thead>\n",
              "    <tr style=\"text-align: right;\">\n",
              "      <th></th>\n",
              "      <th>age</th>\n",
              "      <th>bmi</th>\n",
              "      <th>children</th>\n",
              "      <th>sex_female</th>\n",
              "      <th>sex_male</th>\n",
              "      <th>smoker_no</th>\n",
              "      <th>smoker_yes</th>\n",
              "      <th>region_northeast</th>\n",
              "      <th>region_northwest</th>\n",
              "      <th>region_southeast</th>\n",
              "      <th>region_southwest</th>\n",
              "    </tr>\n",
              "  </thead>\n",
              "  <tbody>\n",
              "    <tr>\n",
              "      <th>0</th>\n",
              "      <td>19</td>\n",
              "      <td>27.900</td>\n",
              "      <td>0</td>\n",
              "      <td>True</td>\n",
              "      <td>False</td>\n",
              "      <td>False</td>\n",
              "      <td>True</td>\n",
              "      <td>False</td>\n",
              "      <td>False</td>\n",
              "      <td>False</td>\n",
              "      <td>True</td>\n",
              "    </tr>\n",
              "    <tr>\n",
              "      <th>1</th>\n",
              "      <td>18</td>\n",
              "      <td>33.770</td>\n",
              "      <td>1</td>\n",
              "      <td>False</td>\n",
              "      <td>True</td>\n",
              "      <td>True</td>\n",
              "      <td>False</td>\n",
              "      <td>False</td>\n",
              "      <td>False</td>\n",
              "      <td>True</td>\n",
              "      <td>False</td>\n",
              "    </tr>\n",
              "    <tr>\n",
              "      <th>2</th>\n",
              "      <td>28</td>\n",
              "      <td>33.000</td>\n",
              "      <td>3</td>\n",
              "      <td>False</td>\n",
              "      <td>True</td>\n",
              "      <td>True</td>\n",
              "      <td>False</td>\n",
              "      <td>False</td>\n",
              "      <td>False</td>\n",
              "      <td>True</td>\n",
              "      <td>False</td>\n",
              "    </tr>\n",
              "    <tr>\n",
              "      <th>3</th>\n",
              "      <td>33</td>\n",
              "      <td>22.705</td>\n",
              "      <td>0</td>\n",
              "      <td>False</td>\n",
              "      <td>True</td>\n",
              "      <td>True</td>\n",
              "      <td>False</td>\n",
              "      <td>False</td>\n",
              "      <td>True</td>\n",
              "      <td>False</td>\n",
              "      <td>False</td>\n",
              "    </tr>\n",
              "    <tr>\n",
              "      <th>4</th>\n",
              "      <td>32</td>\n",
              "      <td>28.880</td>\n",
              "      <td>0</td>\n",
              "      <td>False</td>\n",
              "      <td>True</td>\n",
              "      <td>True</td>\n",
              "      <td>False</td>\n",
              "      <td>False</td>\n",
              "      <td>True</td>\n",
              "      <td>False</td>\n",
              "      <td>False</td>\n",
              "    </tr>\n",
              "  </tbody>\n",
              "</table>\n",
              "</div>"
            ],
            "text/plain": [
              "   age     bmi  children  sex_female  sex_male  smoker_no  smoker_yes   \n",
              "0   19  27.900         0        True     False      False        True  \\\n",
              "1   18  33.770         1       False      True       True       False   \n",
              "2   28  33.000         3       False      True       True       False   \n",
              "3   33  22.705         0       False      True       True       False   \n",
              "4   32  28.880         0       False      True       True       False   \n",
              "\n",
              "   region_northeast  region_northwest  region_southeast  region_southwest  \n",
              "0             False             False             False              True  \n",
              "1             False             False              True             False  \n",
              "2             False             False              True             False  \n",
              "3             False              True             False             False  \n",
              "4             False              True             False             False  "
            ]
          },
          "execution_count": 67,
          "metadata": {},
          "output_type": "execute_result"
        }
      ],
      "source": [
        "# View x\n",
        "x.head()"
      ]
    },
    {
      "cell_type": "code",
      "execution_count": 68,
      "metadata": {
        "colab": {
          "base_uri": "https://localhost:8080/"
        },
        "id": "CUXm7I5mneTx",
        "outputId": "98974dbb-f856-4b5b-9dd5-16a4925450e6"
      },
      "outputs": [
        {
          "data": {
            "text/plain": [
              "0    16884.92400\n",
              "1     1725.55230\n",
              "2     4449.46200\n",
              "3    21984.47061\n",
              "4     3866.85520\n",
              "Name: charges, dtype: float64"
            ]
          },
          "execution_count": 68,
          "metadata": {},
          "output_type": "execute_result"
        }
      ],
      "source": [
        "# view y\n",
        "y.head()"
      ]
    },
    {
      "cell_type": "code",
      "execution_count": 84,
      "metadata": {
        "colab": {
          "base_uri": "https://localhost:8080/"
        },
        "id": "GXfFn3hgneTy",
        "outputId": "cb7ae7fb-09b7-43e6-c672-059fd07a0b57"
      },
      "outputs": [
        {
          "data": {
            "text/plain": [
              "(1338, 1070, 268)"
            ]
          },
          "execution_count": 84,
          "metadata": {},
          "output_type": "execute_result"
        }
      ],
      "source": [
        "from sklearn.model_selection import train_test_split\n",
        "x_train, x_test, y_train, y_test = train_test_split(x, y, test_size=0.2, random_state=42)\n",
        "len(x), len(x_train), len(x_test)"
      ]
    },
    {
      "cell_type": "code",
      "execution_count": 92,
      "metadata": {},
      "outputs": [],
      "source": [
        "x_train_tensor = tf.convert_to_tensor(x_train, dtype=tf.float32)\n",
        "x_test_tensor = tf.convert_to_tensor(x_test, dtype=tf.float32)"
      ]
    },
    {
      "cell_type": "code",
      "execution_count": 90,
      "metadata": {
        "colab": {
          "base_uri": "https://localhost:8080/"
        },
        "id": "Utv9vlurneTy",
        "outputId": "8da2e64b-f727-4303-ed06-07c66576254d"
      },
      "outputs": [
        {
          "name": "stdout",
          "output_type": "stream",
          "text": [
            "Epoch 1/100\n",
            "34/34 [==============================] - 2s 7ms/step - loss: 8551.4727 - mae: 8551.4727\n",
            "Epoch 2/100\n",
            "34/34 [==============================] - 0s 6ms/step - loss: 7878.9478 - mae: 7878.9478\n",
            "Epoch 3/100\n",
            "34/34 [==============================] - 0s 6ms/step - loss: 7536.2363 - mae: 7536.2363\n",
            "Epoch 4/100\n",
            "34/34 [==============================] - 0s 7ms/step - loss: 7731.3149 - mae: 7731.3149\n",
            "Epoch 5/100\n",
            "34/34 [==============================] - 0s 9ms/step - loss: 7768.9541 - mae: 7768.9541\n",
            "Epoch 6/100\n",
            "34/34 [==============================] - 0s 9ms/step - loss: 7610.2622 - mae: 7610.2622\n",
            "Epoch 7/100\n",
            "34/34 [==============================] - 0s 6ms/step - loss: 7563.2832 - mae: 7563.2832\n",
            "Epoch 8/100\n",
            "34/34 [==============================] - 0s 9ms/step - loss: 7762.3481 - mae: 7762.3481\n",
            "Epoch 9/100\n",
            "34/34 [==============================] - 0s 7ms/step - loss: 7466.0171 - mae: 7466.0171\n",
            "Epoch 10/100\n",
            "34/34 [==============================] - 0s 5ms/step - loss: 7716.8232 - mae: 7716.8232\n",
            "Epoch 11/100\n",
            "34/34 [==============================] - 0s 5ms/step - loss: 7546.4316 - mae: 7546.4316\n",
            "Epoch 12/100\n",
            "34/34 [==============================] - 0s 5ms/step - loss: 7499.6685 - mae: 7499.6685\n",
            "Epoch 13/100\n",
            "34/34 [==============================] - 0s 5ms/step - loss: 7775.0845 - mae: 7775.0845\n",
            "Epoch 14/100\n",
            "34/34 [==============================] - 0s 5ms/step - loss: 7807.3149 - mae: 7807.3149\n",
            "Epoch 15/100\n",
            "34/34 [==============================] - 0s 7ms/step - loss: 7564.9058 - mae: 7564.9058\n",
            "Epoch 16/100\n",
            "34/34 [==============================] - 0s 5ms/step - loss: 7700.9795 - mae: 7700.9795\n",
            "Epoch 17/100\n",
            "34/34 [==============================] - 0s 6ms/step - loss: 7579.2178 - mae: 7579.2178\n",
            "Epoch 18/100\n",
            "34/34 [==============================] - 0s 5ms/step - loss: 7696.8267 - mae: 7696.8267\n",
            "Epoch 19/100\n",
            "34/34 [==============================] - 0s 5ms/step - loss: 7760.8818 - mae: 7760.8818\n",
            "Epoch 20/100\n",
            "34/34 [==============================] - 0s 5ms/step - loss: 7866.9365 - mae: 7866.9365\n",
            "Epoch 21/100\n",
            "34/34 [==============================] - 0s 5ms/step - loss: 7529.0181 - mae: 7529.0181\n",
            "Epoch 22/100\n",
            "34/34 [==============================] - 0s 4ms/step - loss: 7870.9375 - mae: 7870.9375\n",
            "Epoch 23/100\n",
            "34/34 [==============================] - 0s 5ms/step - loss: 7492.6392 - mae: 7492.6392\n",
            "Epoch 24/100\n",
            "34/34 [==============================] - 0s 5ms/step - loss: 7624.5728 - mae: 7624.5728\n",
            "Epoch 25/100\n",
            "34/34 [==============================] - 0s 5ms/step - loss: 7542.2744 - mae: 7542.2744\n",
            "Epoch 26/100\n",
            "34/34 [==============================] - 0s 5ms/step - loss: 7689.7256 - mae: 7689.7256\n",
            "Epoch 27/100\n",
            "34/34 [==============================] - 0s 5ms/step - loss: 7392.3535 - mae: 7392.3535\n",
            "Epoch 28/100\n",
            "34/34 [==============================] - 0s 5ms/step - loss: 7494.0889 - mae: 7494.0889\n",
            "Epoch 29/100\n",
            "34/34 [==============================] - 0s 6ms/step - loss: 7606.7153 - mae: 7606.7153\n",
            "Epoch 30/100\n",
            "34/34 [==============================] - 0s 6ms/step - loss: 7638.0996 - mae: 7638.0996\n",
            "Epoch 31/100\n",
            "34/34 [==============================] - 0s 5ms/step - loss: 7705.5000 - mae: 7705.5000\n",
            "Epoch 32/100\n",
            "34/34 [==============================] - 0s 6ms/step - loss: 7381.6816 - mae: 7381.6816\n",
            "Epoch 33/100\n",
            "34/34 [==============================] - 0s 5ms/step - loss: 7404.8462 - mae: 7404.8462\n",
            "Epoch 34/100\n",
            "34/34 [==============================] - 0s 5ms/step - loss: 7455.3516 - mae: 7455.3516\n",
            "Epoch 35/100\n",
            "34/34 [==============================] - 0s 5ms/step - loss: 7593.3281 - mae: 7593.3281\n",
            "Epoch 36/100\n",
            "34/34 [==============================] - 0s 5ms/step - loss: 7546.1460 - mae: 7546.1460\n",
            "Epoch 37/100\n",
            "34/34 [==============================] - 0s 5ms/step - loss: 7579.0039 - mae: 7579.0039\n",
            "Epoch 38/100\n",
            "34/34 [==============================] - 0s 5ms/step - loss: 7596.9517 - mae: 7596.9517\n",
            "Epoch 39/100\n",
            "34/34 [==============================] - 0s 5ms/step - loss: 7523.7939 - mae: 7523.7939\n",
            "Epoch 40/100\n",
            "34/34 [==============================] - 0s 5ms/step - loss: 7496.7173 - mae: 7496.7173\n",
            "Epoch 41/100\n",
            "34/34 [==============================] - 0s 6ms/step - loss: 7733.4844 - mae: 7733.4844\n",
            "Epoch 42/100\n",
            "34/34 [==============================] - 0s 7ms/step - loss: 7492.2109 - mae: 7492.2109\n",
            "Epoch 43/100\n",
            "34/34 [==============================] - 0s 5ms/step - loss: 7718.7339 - mae: 7718.7339\n",
            "Epoch 44/100\n",
            "34/34 [==============================] - 0s 6ms/step - loss: 7388.4502 - mae: 7388.4502\n",
            "Epoch 45/100\n",
            "34/34 [==============================] - 0s 5ms/step - loss: 7337.7358 - mae: 7337.7358\n",
            "Epoch 46/100\n",
            "34/34 [==============================] - 0s 6ms/step - loss: 7370.9658 - mae: 7370.9658\n",
            "Epoch 47/100\n",
            "34/34 [==============================] - 0s 5ms/step - loss: 7406.4741 - mae: 7406.4741\n",
            "Epoch 48/100\n",
            "34/34 [==============================] - 0s 6ms/step - loss: 7630.5918 - mae: 7630.5918\n",
            "Epoch 49/100\n",
            "34/34 [==============================] - 0s 5ms/step - loss: 7550.6807 - mae: 7550.6807\n",
            "Epoch 50/100\n",
            "34/34 [==============================] - 0s 5ms/step - loss: 7489.0659 - mae: 7489.0659\n",
            "Epoch 51/100\n",
            "34/34 [==============================] - 0s 5ms/step - loss: 7387.4082 - mae: 7387.4082\n",
            "Epoch 52/100\n",
            "34/34 [==============================] - 0s 5ms/step - loss: 7536.0527 - mae: 7536.0527\n",
            "Epoch 53/100\n",
            "34/34 [==============================] - 0s 5ms/step - loss: 7623.5015 - mae: 7623.5015\n",
            "Epoch 54/100\n",
            "34/34 [==============================] - 0s 6ms/step - loss: 7311.7988 - mae: 7311.7988\n",
            "Epoch 55/100\n",
            "34/34 [==============================] - 0s 6ms/step - loss: 7385.1807 - mae: 7385.1807\n",
            "Epoch 56/100\n",
            "34/34 [==============================] - 0s 5ms/step - loss: 7253.6343 - mae: 7253.6343\n",
            "Epoch 57/100\n",
            "34/34 [==============================] - 0s 5ms/step - loss: 7263.4839 - mae: 7263.4839\n",
            "Epoch 58/100\n",
            "34/34 [==============================] - 0s 5ms/step - loss: 7501.1099 - mae: 7501.1099\n",
            "Epoch 59/100\n",
            "34/34 [==============================] - 0s 5ms/step - loss: 7604.6699 - mae: 7604.6699\n",
            "Epoch 60/100\n",
            "34/34 [==============================] - 0s 5ms/step - loss: 7398.7119 - mae: 7398.7119\n",
            "Epoch 61/100\n",
            "34/34 [==============================] - 0s 5ms/step - loss: 7595.2524 - mae: 7595.2524\n",
            "Epoch 62/100\n",
            "34/34 [==============================] - 0s 5ms/step - loss: 7319.2339 - mae: 7319.2339\n",
            "Epoch 63/100\n",
            "34/34 [==============================] - 0s 5ms/step - loss: 7336.9663 - mae: 7336.9663\n",
            "Epoch 64/100\n",
            "34/34 [==============================] - 0s 5ms/step - loss: 7328.7778 - mae: 7328.7778\n",
            "Epoch 65/100\n",
            "34/34 [==============================] - 0s 6ms/step - loss: 7390.4341 - mae: 7390.4341\n",
            "Epoch 66/100\n",
            "34/34 [==============================] - 0s 6ms/step - loss: 7228.4111 - mae: 7228.4111\n",
            "Epoch 67/100\n",
            "34/34 [==============================] - 0s 6ms/step - loss: 7217.1787 - mae: 7217.1787\n",
            "Epoch 68/100\n",
            "34/34 [==============================] - 0s 5ms/step - loss: 7527.6143 - mae: 7527.6143\n",
            "Epoch 69/100\n",
            "34/34 [==============================] - 0s 6ms/step - loss: 7469.0215 - mae: 7469.0215\n",
            "Epoch 70/100\n",
            "34/34 [==============================] - 0s 5ms/step - loss: 7569.1128 - mae: 7569.1128\n",
            "Epoch 71/100\n",
            "34/34 [==============================] - 0s 5ms/step - loss: 7133.1587 - mae: 7133.1587\n",
            "Epoch 72/100\n",
            "34/34 [==============================] - 0s 5ms/step - loss: 7277.6660 - mae: 7277.6660\n",
            "Epoch 73/100\n",
            "34/34 [==============================] - 0s 6ms/step - loss: 7353.5815 - mae: 7353.5815\n",
            "Epoch 74/100\n",
            "34/34 [==============================] - 0s 6ms/step - loss: 7469.6484 - mae: 7469.6484\n",
            "Epoch 75/100\n",
            "34/34 [==============================] - 0s 6ms/step - loss: 7306.8140 - mae: 7306.8140\n",
            "Epoch 76/100\n",
            "34/34 [==============================] - 0s 7ms/step - loss: 7133.4741 - mae: 7133.4741\n",
            "Epoch 77/100\n",
            "34/34 [==============================] - 0s 6ms/step - loss: 7342.3740 - mae: 7342.3740\n",
            "Epoch 78/100\n",
            "34/34 [==============================] - 0s 7ms/step - loss: 7389.7446 - mae: 7389.7446\n",
            "Epoch 79/100\n",
            "34/34 [==============================] - 0s 5ms/step - loss: 7603.4438 - mae: 7603.4438\n",
            "Epoch 80/100\n",
            "34/34 [==============================] - 0s 7ms/step - loss: 7208.4971 - mae: 7208.4971\n",
            "Epoch 81/100\n",
            "34/34 [==============================] - 0s 5ms/step - loss: 7314.2739 - mae: 7314.2739\n",
            "Epoch 82/100\n",
            "34/34 [==============================] - 0s 5ms/step - loss: 7241.8550 - mae: 7241.8550\n",
            "Epoch 83/100\n",
            "34/34 [==============================] - 0s 5ms/step - loss: 7436.0850 - mae: 7436.0850\n",
            "Epoch 84/100\n",
            "34/34 [==============================] - 0s 5ms/step - loss: 7245.4932 - mae: 7245.4932\n",
            "Epoch 85/100\n",
            "34/34 [==============================] - 0s 5ms/step - loss: 7098.0273 - mae: 7098.0273\n",
            "Epoch 86/100\n",
            "34/34 [==============================] - 0s 5ms/step - loss: 7549.2339 - mae: 7549.2339\n",
            "Epoch 87/100\n",
            "34/34 [==============================] - 0s 5ms/step - loss: 7206.9648 - mae: 7206.9648\n",
            "Epoch 88/100\n",
            "34/34 [==============================] - 0s 6ms/step - loss: 7353.4941 - mae: 7353.4941\n",
            "Epoch 89/100\n",
            "34/34 [==============================] - 0s 4ms/step - loss: 7538.3623 - mae: 7538.3623\n",
            "Epoch 90/100\n",
            "34/34 [==============================] - 0s 6ms/step - loss: 7030.2764 - mae: 7030.2764\n",
            "Epoch 91/100\n",
            "34/34 [==============================] - 0s 5ms/step - loss: 7150.0215 - mae: 7150.0215\n",
            "Epoch 92/100\n",
            "34/34 [==============================] - 0s 5ms/step - loss: 7221.1279 - mae: 7221.1279\n",
            "Epoch 93/100\n",
            "34/34 [==============================] - 0s 6ms/step - loss: 7487.3560 - mae: 7487.3560\n",
            "Epoch 94/100\n",
            "34/34 [==============================] - 0s 5ms/step - loss: 7188.6294 - mae: 7188.6294\n",
            "Epoch 95/100\n",
            "34/34 [==============================] - 0s 5ms/step - loss: 7489.1338 - mae: 7489.1338\n",
            "Epoch 96/100\n",
            "34/34 [==============================] - 0s 5ms/step - loss: 7250.2119 - mae: 7250.2119\n",
            "Epoch 97/100\n",
            "34/34 [==============================] - 0s 6ms/step - loss: 7208.9536 - mae: 7208.9536\n",
            "Epoch 98/100\n",
            "34/34 [==============================] - 0s 5ms/step - loss: 7437.5811 - mae: 7437.5811\n",
            "Epoch 99/100\n",
            "34/34 [==============================] - 0s 5ms/step - loss: 7274.4976 - mae: 7274.4976\n",
            "Epoch 100/100\n",
            "34/34 [==============================] - 0s 5ms/step - loss: 7210.2681 - mae: 7210.2681\n"
          ]
        },
        {
          "data": {
            "text/plain": [
              "<keras.callbacks.History at 0x7f7132332c80>"
            ]
          },
          "execution_count": 90,
          "metadata": {},
          "output_type": "execute_result"
        }
      ],
      "source": [
        "# Build a neural network\n",
        "tf.random.set_seed(42)\n",
        "\n",
        "# 1. Create a model\n",
        "insurance_model = tf.keras.Sequential([\n",
        "    tf.keras.layers.Dense(10),\n",
        "    tf.keras.layers.Dense(1),\n",
        "])\n",
        "\n",
        "# 2. Compile the model\n",
        "insurance_model.compile(\n",
        "    loss=tf.keras.losses.mae,\n",
        "    optimizer=tf.keras.optimizers.SGD(),\n",
        "    metrics=[\"mae\"])\n",
        "\n",
        "# 3. Fit the model\n",
        "insurance_model.fit(x_train_tensor, y_train, epochs=100)\n"
      ]
    },
    {
      "cell_type": "code",
      "execution_count": 94,
      "metadata": {
        "colab": {
          "base_uri": "https://localhost:8080/"
        },
        "id": "-oTB52-Uo318",
        "outputId": "41d8601e-fe78-4265-fb90-d524c434dc95"
      },
      "outputs": [
        {
          "name": "stdout",
          "output_type": "stream",
          "text": [
            "9/9 [==============================] - 0s 5ms/step - loss: 7319.0898 - mae: 7319.0898\n"
          ]
        },
        {
          "data": {
            "text/plain": [
              "[7319.08984375, 7319.08984375]"
            ]
          },
          "execution_count": 94,
          "metadata": {},
          "output_type": "execute_result"
        }
      ],
      "source": [
        "# Check the results of the insurance model on the test data\n",
        "insurance_model.evaluate(x_test_tensor, y_test)"
      ]
    },
    {
      "cell_type": "code",
      "execution_count": 95,
      "metadata": {
        "colab": {
          "base_uri": "https://localhost:8080/"
        },
        "id": "tKDPgSwqtJqz",
        "outputId": "d51d167f-a398-4eca-a268-b9d768f85a1f"
      },
      "outputs": [
        {
          "data": {
            "text/plain": [
              "(9575.4421, 13346.089736364485)"
            ]
          },
          "execution_count": 95,
          "metadata": {},
          "output_type": "execute_result"
        }
      ],
      "source": [
        "y_train.median(), y_train.mean()"
      ]
    },
    {
      "cell_type": "code",
      "execution_count": 96,
      "metadata": {
        "id": "gh1LxNKDtM_U"
      },
      "outputs": [
        {
          "data": {
            "text/plain": [
              "<keras.callbacks.History at 0x7f713153a140>"
            ]
          },
          "execution_count": 96,
          "metadata": {},
          "output_type": "execute_result"
        }
      ],
      "source": [
        "# Set random seed\n",
        "tf.random.set_seed(42)\n",
        "\n",
        "# 1. Create the model\n",
        "insurance_model_2 = tf.keras.Sequential([\n",
        "    tf.keras.layers.Dense(100),\n",
        "    tf.keras.layers.Dense(10),\n",
        "    tf.keras.layers.Dense(1)\n",
        "])\n",
        "\n",
        "# 2. Compile the model\n",
        "insurance_model_2.compile(loss=tf.keras.losses.mae, optimizer=tf.keras.optimizers.Adam(), metrics=[\"mae\"])\n",
        "\n",
        "# 3. Fit the model\n",
        "insurance_model_2.fit(x_train_tensor, y_train, epochs=100, verbose=0)"
      ]
    },
    {
      "cell_type": "code",
      "execution_count": 100,
      "metadata": {},
      "outputs": [
        {
          "name": "stdout",
          "output_type": "stream",
          "text": [
            "Epoch 1/200\n",
            "34/34 [==============================] - 2s 7ms/step - loss: 13289.8096 - mae: 13289.8096\n",
            "Epoch 2/200\n",
            "34/34 [==============================] - 0s 7ms/step - loss: 13123.2129 - mae: 13123.2129\n",
            "Epoch 3/200\n",
            "34/34 [==============================] - 0s 7ms/step - loss: 12777.6406 - mae: 12777.6406\n",
            "Epoch 4/200\n",
            "34/34 [==============================] - 0s 6ms/step - loss: 12105.1670 - mae: 12105.1670\n",
            "Epoch 5/200\n",
            "34/34 [==============================] - 0s 7ms/step - loss: 10984.5400 - mae: 10984.5400\n",
            "Epoch 6/200\n",
            "34/34 [==============================] - 0s 6ms/step - loss: 9551.5205 - mae: 9551.5205\n",
            "Epoch 7/200\n",
            "34/34 [==============================] - 0s 6ms/step - loss: 8222.6611 - mae: 8222.6611\n",
            "Epoch 8/200\n",
            "34/34 [==============================] - 0s 6ms/step - loss: 7549.1665 - mae: 7549.1665\n",
            "Epoch 9/200\n",
            "34/34 [==============================] - 0s 6ms/step - loss: 7430.7354 - mae: 7430.7354\n",
            "Epoch 10/200\n",
            "34/34 [==============================] - 0s 8ms/step - loss: 7410.1284 - mae: 7410.1284\n",
            "Epoch 11/200\n",
            "34/34 [==============================] - 0s 6ms/step - loss: 7391.8252 - mae: 7391.8252\n",
            "Epoch 12/200\n",
            "34/34 [==============================] - 0s 7ms/step - loss: 7370.3311 - mae: 7370.3311\n",
            "Epoch 13/200\n",
            "34/34 [==============================] - 0s 5ms/step - loss: 7350.4243 - mae: 7350.4243\n",
            "Epoch 14/200\n",
            "34/34 [==============================] - 0s 5ms/step - loss: 7328.3643 - mae: 7328.3643\n",
            "Epoch 15/200\n",
            "34/34 [==============================] - 0s 6ms/step - loss: 7309.7979 - mae: 7309.7979\n",
            "Epoch 16/200\n",
            "34/34 [==============================] - 0s 5ms/step - loss: 7288.0483 - mae: 7288.0483\n",
            "Epoch 17/200\n",
            "34/34 [==============================] - 0s 8ms/step - loss: 7268.2769 - mae: 7268.2769\n",
            "Epoch 18/200\n",
            "34/34 [==============================] - 0s 7ms/step - loss: 7245.2944 - mae: 7245.2944\n",
            "Epoch 19/200\n",
            "34/34 [==============================] - 0s 6ms/step - loss: 7223.2515 - mae: 7223.2515\n",
            "Epoch 20/200\n",
            "34/34 [==============================] - 0s 8ms/step - loss: 7200.1025 - mae: 7200.1025\n",
            "Epoch 21/200\n",
            "34/34 [==============================] - 0s 8ms/step - loss: 7181.3545 - mae: 7181.3545\n",
            "Epoch 22/200\n",
            "34/34 [==============================] - 0s 12ms/step - loss: 7154.3955 - mae: 7154.3955\n",
            "Epoch 23/200\n",
            "34/34 [==============================] - 0s 9ms/step - loss: 7129.5029 - mae: 7129.5029\n",
            "Epoch 24/200\n",
            "34/34 [==============================] - 0s 6ms/step - loss: 7104.6157 - mae: 7104.6157\n",
            "Epoch 25/200\n",
            "34/34 [==============================] - 0s 6ms/step - loss: 7086.9585 - mae: 7086.9585\n",
            "Epoch 26/200\n",
            "34/34 [==============================] - 0s 6ms/step - loss: 7054.4199 - mae: 7054.4199\n",
            "Epoch 27/200\n",
            "34/34 [==============================] - 0s 8ms/step - loss: 7026.0952 - mae: 7026.0952\n",
            "Epoch 28/200\n",
            "34/34 [==============================] - 0s 6ms/step - loss: 6997.8706 - mae: 6997.8706\n",
            "Epoch 29/200\n",
            "34/34 [==============================] - 0s 7ms/step - loss: 6969.6997 - mae: 6969.6997\n",
            "Epoch 30/200\n",
            "34/34 [==============================] - 0s 8ms/step - loss: 6941.8511 - mae: 6941.8511\n",
            "Epoch 31/200\n",
            "34/34 [==============================] - 0s 8ms/step - loss: 6910.6323 - mae: 6910.6323\n",
            "Epoch 32/200\n",
            "34/34 [==============================] - 0s 8ms/step - loss: 6881.7886 - mae: 6881.7886\n",
            "Epoch 33/200\n",
            "34/34 [==============================] - 0s 11ms/step - loss: 6850.2871 - mae: 6850.2871\n",
            "Epoch 34/200\n",
            "34/34 [==============================] - 0s 7ms/step - loss: 6818.6758 - mae: 6818.6758\n",
            "Epoch 35/200\n",
            "34/34 [==============================] - 0s 9ms/step - loss: 6783.8389 - mae: 6783.8389\n",
            "Epoch 36/200\n",
            "34/34 [==============================] - 0s 11ms/step - loss: 6749.0840 - mae: 6749.0840\n",
            "Epoch 37/200\n",
            "34/34 [==============================] - 0s 8ms/step - loss: 6711.9790 - mae: 6711.9790\n",
            "Epoch 38/200\n",
            "34/34 [==============================] - 0s 8ms/step - loss: 6680.3154 - mae: 6680.3154\n",
            "Epoch 39/200\n",
            "34/34 [==============================] - 0s 10ms/step - loss: 6642.1729 - mae: 6642.1729\n",
            "Epoch 40/200\n",
            "34/34 [==============================] - 0s 6ms/step - loss: 6606.7988 - mae: 6606.7988\n",
            "Epoch 41/200\n",
            "34/34 [==============================] - 0s 10ms/step - loss: 6574.0552 - mae: 6574.0552\n",
            "Epoch 42/200\n",
            "34/34 [==============================] - 0s 9ms/step - loss: 6550.2744 - mae: 6550.2744\n",
            "Epoch 43/200\n",
            "34/34 [==============================] - 0s 8ms/step - loss: 6520.8945 - mae: 6520.8945\n",
            "Epoch 44/200\n",
            "34/34 [==============================] - 0s 6ms/step - loss: 6500.1362 - mae: 6500.1362\n",
            "Epoch 45/200\n",
            "34/34 [==============================] - 0s 7ms/step - loss: 6488.7886 - mae: 6488.7886\n",
            "Epoch 46/200\n",
            "34/34 [==============================] - 0s 6ms/step - loss: 6471.7163 - mae: 6471.7163\n",
            "Epoch 47/200\n",
            "34/34 [==============================] - 0s 7ms/step - loss: 6454.6836 - mae: 6454.6836\n",
            "Epoch 48/200\n",
            "34/34 [==============================] - 0s 8ms/step - loss: 6440.8081 - mae: 6440.8081\n",
            "Epoch 49/200\n",
            "34/34 [==============================] - 0s 7ms/step - loss: 6428.4180 - mae: 6428.4180\n",
            "Epoch 50/200\n",
            "34/34 [==============================] - 0s 8ms/step - loss: 6414.3677 - mae: 6414.3677\n",
            "Epoch 51/200\n",
            "34/34 [==============================] - 0s 5ms/step - loss: 6401.0903 - mae: 6401.0903\n",
            "Epoch 52/200\n",
            "34/34 [==============================] - 0s 6ms/step - loss: 6389.4092 - mae: 6389.4092\n",
            "Epoch 53/200\n",
            "34/34 [==============================] - 0s 6ms/step - loss: 6374.8770 - mae: 6374.8770\n",
            "Epoch 54/200\n",
            "34/34 [==============================] - 0s 7ms/step - loss: 6361.7212 - mae: 6361.7212\n",
            "Epoch 55/200\n",
            "34/34 [==============================] - 0s 8ms/step - loss: 6347.9800 - mae: 6347.9800\n",
            "Epoch 56/200\n",
            "34/34 [==============================] - 0s 10ms/step - loss: 6334.4487 - mae: 6334.4487\n",
            "Epoch 57/200\n",
            "34/34 [==============================] - 0s 6ms/step - loss: 6321.2495 - mae: 6321.2495\n",
            "Epoch 58/200\n",
            "34/34 [==============================] - 0s 6ms/step - loss: 6307.3994 - mae: 6307.3994\n",
            "Epoch 59/200\n",
            "34/34 [==============================] - 0s 8ms/step - loss: 6292.8472 - mae: 6292.8472\n",
            "Epoch 60/200\n",
            "34/34 [==============================] - 0s 7ms/step - loss: 6281.8569 - mae: 6281.8569\n",
            "Epoch 61/200\n",
            "34/34 [==============================] - 0s 8ms/step - loss: 6262.1953 - mae: 6262.1953\n",
            "Epoch 62/200\n",
            "34/34 [==============================] - 0s 7ms/step - loss: 6249.8208 - mae: 6249.8208\n",
            "Epoch 63/200\n",
            "34/34 [==============================] - 0s 8ms/step - loss: 6231.8906 - mae: 6231.8906\n",
            "Epoch 64/200\n",
            "34/34 [==============================] - 0s 7ms/step - loss: 6215.3159 - mae: 6215.3159\n",
            "Epoch 65/200\n",
            "34/34 [==============================] - 0s 8ms/step - loss: 6198.2622 - mae: 6198.2622\n",
            "Epoch 66/200\n",
            "34/34 [==============================] - 0s 6ms/step - loss: 6181.0337 - mae: 6181.0337\n",
            "Epoch 67/200\n",
            "34/34 [==============================] - 0s 6ms/step - loss: 6168.9424 - mae: 6168.9424\n",
            "Epoch 68/200\n",
            "34/34 [==============================] - 0s 5ms/step - loss: 6146.6040 - mae: 6146.6040\n",
            "Epoch 69/200\n",
            "34/34 [==============================] - 0s 6ms/step - loss: 6130.2456 - mae: 6130.2456\n",
            "Epoch 70/200\n",
            "34/34 [==============================] - 0s 7ms/step - loss: 6110.1069 - mae: 6110.1069\n",
            "Epoch 71/200\n",
            "34/34 [==============================] - 0s 6ms/step - loss: 6090.7544 - mae: 6090.7544\n",
            "Epoch 72/200\n",
            "34/34 [==============================] - 0s 6ms/step - loss: 6072.0972 - mae: 6072.0972\n",
            "Epoch 73/200\n",
            "34/34 [==============================] - 0s 6ms/step - loss: 6057.9814 - mae: 6057.9814\n",
            "Epoch 74/200\n",
            "34/34 [==============================] - 0s 7ms/step - loss: 6030.3154 - mae: 6030.3154\n",
            "Epoch 75/200\n",
            "34/34 [==============================] - 0s 6ms/step - loss: 6009.2563 - mae: 6009.2563\n",
            "Epoch 76/200\n",
            "34/34 [==============================] - 0s 7ms/step - loss: 5995.0474 - mae: 5995.0474\n",
            "Epoch 77/200\n",
            "34/34 [==============================] - 0s 6ms/step - loss: 5963.1807 - mae: 5963.1807\n",
            "Epoch 78/200\n",
            "34/34 [==============================] - 0s 8ms/step - loss: 5940.3877 - mae: 5940.3877\n",
            "Epoch 79/200\n",
            "34/34 [==============================] - 0s 7ms/step - loss: 5916.5229 - mae: 5916.5229\n",
            "Epoch 80/200\n",
            "34/34 [==============================] - 0s 7ms/step - loss: 5889.6982 - mae: 5889.6982\n",
            "Epoch 81/200\n",
            "34/34 [==============================] - 0s 5ms/step - loss: 5864.3423 - mae: 5864.3423\n",
            "Epoch 82/200\n",
            "34/34 [==============================] - 0s 5ms/step - loss: 5836.8208 - mae: 5836.8208\n",
            "Epoch 83/200\n",
            "34/34 [==============================] - 0s 7ms/step - loss: 5809.0107 - mae: 5809.0107\n",
            "Epoch 84/200\n",
            "34/34 [==============================] - 0s 6ms/step - loss: 5777.2148 - mae: 5777.2148\n",
            "Epoch 85/200\n",
            "34/34 [==============================] - 0s 6ms/step - loss: 5754.7690 - mae: 5754.7690\n",
            "Epoch 86/200\n",
            "34/34 [==============================] - 0s 6ms/step - loss: 5720.0376 - mae: 5720.0376\n",
            "Epoch 87/200\n",
            "34/34 [==============================] - 0s 7ms/step - loss: 5682.4316 - mae: 5682.4316\n",
            "Epoch 88/200\n",
            "34/34 [==============================] - 0s 6ms/step - loss: 5648.5581 - mae: 5648.5581\n",
            "Epoch 89/200\n",
            "34/34 [==============================] - 0s 6ms/step - loss: 5611.4404 - mae: 5611.4404\n",
            "Epoch 90/200\n",
            "34/34 [==============================] - 0s 6ms/step - loss: 5571.7632 - mae: 5571.7632\n",
            "Epoch 91/200\n",
            "34/34 [==============================] - 0s 7ms/step - loss: 5538.3340 - mae: 5538.3340\n",
            "Epoch 92/200\n",
            "34/34 [==============================] - 0s 5ms/step - loss: 5490.1924 - mae: 5490.1924\n",
            "Epoch 93/200\n",
            "34/34 [==============================] - 0s 6ms/step - loss: 5450.1982 - mae: 5450.1982\n",
            "Epoch 94/200\n",
            "34/34 [==============================] - 0s 6ms/step - loss: 5407.7554 - mae: 5407.7554\n",
            "Epoch 95/200\n",
            "34/34 [==============================] - 0s 6ms/step - loss: 5356.0967 - mae: 5356.0967\n",
            "Epoch 96/200\n",
            "34/34 [==============================] - 0s 6ms/step - loss: 5315.0107 - mae: 5315.0107\n",
            "Epoch 97/200\n",
            "34/34 [==============================] - 0s 7ms/step - loss: 5264.3638 - mae: 5264.3638\n",
            "Epoch 98/200\n",
            "34/34 [==============================] - 0s 9ms/step - loss: 5206.3623 - mae: 5206.3623\n",
            "Epoch 99/200\n",
            "34/34 [==============================] - 0s 5ms/step - loss: 5149.6895 - mae: 5149.6895\n",
            "Epoch 100/200\n",
            "34/34 [==============================] - 0s 5ms/step - loss: 5095.0391 - mae: 5095.0391\n",
            "Epoch 101/200\n",
            "34/34 [==============================] - 0s 6ms/step - loss: 5030.2388 - mae: 5030.2388\n",
            "Epoch 102/200\n",
            "34/34 [==============================] - 0s 6ms/step - loss: 4964.3613 - mae: 4964.3613\n",
            "Epoch 103/200\n",
            "34/34 [==============================] - 0s 5ms/step - loss: 4900.9614 - mae: 4900.9614\n",
            "Epoch 104/200\n",
            "34/34 [==============================] - 0s 6ms/step - loss: 4827.4277 - mae: 4827.4277\n",
            "Epoch 105/200\n",
            "34/34 [==============================] - 0s 7ms/step - loss: 4748.4634 - mae: 4748.4634\n",
            "Epoch 106/200\n",
            "34/34 [==============================] - 0s 6ms/step - loss: 4671.5586 - mae: 4671.5586\n",
            "Epoch 107/200\n",
            "34/34 [==============================] - 0s 5ms/step - loss: 4593.2173 - mae: 4593.2173\n",
            "Epoch 108/200\n",
            "34/34 [==============================] - 0s 6ms/step - loss: 4507.4219 - mae: 4507.4219\n",
            "Epoch 109/200\n",
            "34/34 [==============================] - 0s 6ms/step - loss: 4422.8901 - mae: 4422.8901\n",
            "Epoch 110/200\n",
            "34/34 [==============================] - 0s 5ms/step - loss: 4340.3979 - mae: 4340.3979\n",
            "Epoch 111/200\n",
            "34/34 [==============================] - 0s 9ms/step - loss: 4256.4761 - mae: 4256.4761\n",
            "Epoch 112/200\n",
            "34/34 [==============================] - 0s 8ms/step - loss: 4187.0054 - mae: 4187.0054\n",
            "Epoch 113/200\n",
            "34/34 [==============================] - 0s 8ms/step - loss: 4110.2749 - mae: 4110.2749\n",
            "Epoch 114/200\n",
            "34/34 [==============================] - 0s 8ms/step - loss: 4042.4275 - mae: 4042.4275\n",
            "Epoch 115/200\n",
            "34/34 [==============================] - 0s 8ms/step - loss: 3985.6953 - mae: 3985.6953\n",
            "Epoch 116/200\n",
            "34/34 [==============================] - 0s 7ms/step - loss: 3956.4714 - mae: 3956.4714\n",
            "Epoch 117/200\n",
            "34/34 [==============================] - 0s 7ms/step - loss: 3930.8486 - mae: 3930.8486\n",
            "Epoch 118/200\n",
            "34/34 [==============================] - 0s 7ms/step - loss: 3902.5681 - mae: 3902.5681\n",
            "Epoch 119/200\n",
            "34/34 [==============================] - 0s 6ms/step - loss: 3873.4297 - mae: 3873.4297\n",
            "Epoch 120/200\n",
            "34/34 [==============================] - 0s 8ms/step - loss: 3853.3516 - mae: 3853.3516\n",
            "Epoch 121/200\n",
            "34/34 [==============================] - 0s 7ms/step - loss: 3845.1582 - mae: 3845.1582\n",
            "Epoch 122/200\n",
            "34/34 [==============================] - 0s 8ms/step - loss: 3835.7749 - mae: 3835.7749\n",
            "Epoch 123/200\n",
            "34/34 [==============================] - 0s 6ms/step - loss: 3829.6494 - mae: 3829.6494\n",
            "Epoch 124/200\n",
            "34/34 [==============================] - 0s 7ms/step - loss: 3819.7209 - mae: 3819.7209\n",
            "Epoch 125/200\n",
            "34/34 [==============================] - 0s 7ms/step - loss: 3805.6638 - mae: 3805.6638\n",
            "Epoch 126/200\n",
            "34/34 [==============================] - 0s 6ms/step - loss: 3817.8269 - mae: 3817.8269\n",
            "Epoch 127/200\n",
            "34/34 [==============================] - 0s 7ms/step - loss: 3806.7993 - mae: 3806.7993\n",
            "Epoch 128/200\n",
            "34/34 [==============================] - 0s 7ms/step - loss: 3799.7854 - mae: 3799.7854\n",
            "Epoch 129/200\n",
            "34/34 [==============================] - 0s 8ms/step - loss: 3808.1770 - mae: 3808.1770\n",
            "Epoch 130/200\n",
            "34/34 [==============================] - 0s 11ms/step - loss: 3791.7959 - mae: 3791.7959\n",
            "Epoch 131/200\n",
            "34/34 [==============================] - 0s 6ms/step - loss: 3786.9001 - mae: 3786.9001\n",
            "Epoch 132/200\n",
            "34/34 [==============================] - 0s 6ms/step - loss: 3781.2961 - mae: 3781.2961\n",
            "Epoch 133/200\n",
            "34/34 [==============================] - 0s 8ms/step - loss: 3775.8264 - mae: 3775.8264\n",
            "Epoch 134/200\n",
            "34/34 [==============================] - 0s 9ms/step - loss: 3776.6858 - mae: 3776.6858\n",
            "Epoch 135/200\n",
            "34/34 [==============================] - 0s 10ms/step - loss: 3772.5732 - mae: 3772.5732\n",
            "Epoch 136/200\n",
            "34/34 [==============================] - 0s 9ms/step - loss: 3771.7327 - mae: 3771.7327\n",
            "Epoch 137/200\n",
            "34/34 [==============================] - 0s 8ms/step - loss: 3781.3450 - mae: 3781.3450\n",
            "Epoch 138/200\n",
            "34/34 [==============================] - 0s 8ms/step - loss: 3787.2219 - mae: 3787.2219\n",
            "Epoch 139/200\n",
            "34/34 [==============================] - 0s 7ms/step - loss: 3766.7241 - mae: 3766.7241\n",
            "Epoch 140/200\n",
            "34/34 [==============================] - 0s 10ms/step - loss: 3768.4038 - mae: 3768.4038\n",
            "Epoch 141/200\n",
            "34/34 [==============================] - 0s 11ms/step - loss: 3768.5122 - mae: 3768.5122\n",
            "Epoch 142/200\n",
            "34/34 [==============================] - 0s 10ms/step - loss: 3769.0452 - mae: 3769.0452\n",
            "Epoch 143/200\n",
            "34/34 [==============================] - 0s 9ms/step - loss: 3759.7966 - mae: 3759.7966\n",
            "Epoch 144/200\n",
            "34/34 [==============================] - 0s 9ms/step - loss: 3755.4629 - mae: 3755.4629\n",
            "Epoch 145/200\n",
            "34/34 [==============================] - 0s 9ms/step - loss: 3756.3313 - mae: 3756.3313\n",
            "Epoch 146/200\n",
            "34/34 [==============================] - 0s 7ms/step - loss: 3759.5957 - mae: 3759.5957\n",
            "Epoch 147/200\n",
            "34/34 [==============================] - 0s 6ms/step - loss: 3756.6360 - mae: 3756.6360\n",
            "Epoch 148/200\n",
            "34/34 [==============================] - 0s 7ms/step - loss: 3762.6765 - mae: 3762.6765\n",
            "Epoch 149/200\n",
            "34/34 [==============================] - 0s 6ms/step - loss: 3748.5938 - mae: 3748.5938\n",
            "Epoch 150/200\n",
            "34/34 [==============================] - 0s 6ms/step - loss: 3743.8547 - mae: 3743.8547\n",
            "Epoch 151/200\n",
            "34/34 [==============================] - 0s 6ms/step - loss: 3745.5369 - mae: 3745.5369\n",
            "Epoch 152/200\n",
            "34/34 [==============================] - 0s 6ms/step - loss: 3746.7073 - mae: 3746.7073\n",
            "Epoch 153/200\n",
            "34/34 [==============================] - 0s 6ms/step - loss: 3747.4539 - mae: 3747.4539\n",
            "Epoch 154/200\n",
            "34/34 [==============================] - 0s 7ms/step - loss: 3741.9880 - mae: 3741.9880\n",
            "Epoch 155/200\n",
            "34/34 [==============================] - 0s 9ms/step - loss: 3745.5056 - mae: 3745.5056\n",
            "Epoch 156/200\n",
            "34/34 [==============================] - 0s 7ms/step - loss: 3740.0564 - mae: 3740.0564\n",
            "Epoch 157/200\n",
            "34/34 [==============================] - 0s 7ms/step - loss: 3740.3208 - mae: 3740.3208\n",
            "Epoch 158/200\n",
            "34/34 [==============================] - 0s 8ms/step - loss: 3734.5938 - mae: 3734.5938\n",
            "Epoch 159/200\n",
            "34/34 [==============================] - 0s 8ms/step - loss: 3734.5232 - mae: 3734.5232\n",
            "Epoch 160/200\n",
            "34/34 [==============================] - 0s 8ms/step - loss: 3739.1165 - mae: 3739.1165\n",
            "Epoch 161/200\n",
            "34/34 [==============================] - 0s 7ms/step - loss: 3735.6440 - mae: 3735.6440\n",
            "Epoch 162/200\n",
            "34/34 [==============================] - 0s 7ms/step - loss: 3727.8950 - mae: 3727.8950\n",
            "Epoch 163/200\n",
            "34/34 [==============================] - 0s 7ms/step - loss: 3727.3210 - mae: 3727.3210\n",
            "Epoch 164/200\n",
            "34/34 [==============================] - 0s 8ms/step - loss: 3732.0081 - mae: 3732.0081\n",
            "Epoch 165/200\n",
            "34/34 [==============================] - 0s 6ms/step - loss: 3720.7087 - mae: 3720.7087\n",
            "Epoch 166/200\n",
            "34/34 [==============================] - 0s 6ms/step - loss: 3724.9316 - mae: 3724.9316\n",
            "Epoch 167/200\n",
            "34/34 [==============================] - 0s 8ms/step - loss: 3726.0137 - mae: 3726.0137\n",
            "Epoch 168/200\n",
            "34/34 [==============================] - 0s 6ms/step - loss: 3721.2036 - mae: 3721.2036\n",
            "Epoch 169/200\n",
            "34/34 [==============================] - 0s 9ms/step - loss: 3721.0022 - mae: 3721.0022\n",
            "Epoch 170/200\n",
            "34/34 [==============================] - 0s 9ms/step - loss: 3713.9263 - mae: 3713.9263\n",
            "Epoch 171/200\n",
            "34/34 [==============================] - 0s 7ms/step - loss: 3713.6252 - mae: 3713.6252\n",
            "Epoch 172/200\n",
            "34/34 [==============================] - 0s 5ms/step - loss: 3714.6182 - mae: 3714.6182\n",
            "Epoch 173/200\n",
            "34/34 [==============================] - 0s 6ms/step - loss: 3710.4983 - mae: 3710.4983\n",
            "Epoch 174/200\n",
            "34/34 [==============================] - 0s 5ms/step - loss: 3714.4436 - mae: 3714.4436\n",
            "Epoch 175/200\n",
            "34/34 [==============================] - 0s 6ms/step - loss: 3715.4473 - mae: 3715.4473\n",
            "Epoch 176/200\n",
            "34/34 [==============================] - 0s 6ms/step - loss: 3711.2581 - mae: 3711.2581\n",
            "Epoch 177/200\n",
            "34/34 [==============================] - 0s 5ms/step - loss: 3707.0251 - mae: 3707.0251\n",
            "Epoch 178/200\n",
            "34/34 [==============================] - 0s 6ms/step - loss: 3704.7280 - mae: 3704.7280\n",
            "Epoch 179/200\n",
            "34/34 [==============================] - 0s 5ms/step - loss: 3712.6008 - mae: 3712.6008\n",
            "Epoch 180/200\n",
            "34/34 [==============================] - 0s 5ms/step - loss: 3715.9590 - mae: 3715.9590\n",
            "Epoch 181/200\n",
            "34/34 [==============================] - 0s 5ms/step - loss: 3702.1023 - mae: 3702.1023\n",
            "Epoch 182/200\n",
            "34/34 [==============================] - 0s 6ms/step - loss: 3699.7112 - mae: 3699.7112\n",
            "Epoch 183/200\n",
            "34/34 [==============================] - 0s 5ms/step - loss: 3698.1362 - mae: 3698.1362\n",
            "Epoch 184/200\n",
            "34/34 [==============================] - 0s 5ms/step - loss: 3702.9690 - mae: 3702.9690\n",
            "Epoch 185/200\n",
            "34/34 [==============================] - 0s 5ms/step - loss: 3700.1125 - mae: 3700.1125\n",
            "Epoch 186/200\n",
            "34/34 [==============================] - 0s 6ms/step - loss: 3703.5852 - mae: 3703.5852\n",
            "Epoch 187/200\n",
            "34/34 [==============================] - 0s 6ms/step - loss: 3693.1814 - mae: 3693.1814\n",
            "Epoch 188/200\n",
            "34/34 [==============================] - 0s 8ms/step - loss: 3701.7314 - mae: 3701.7314\n",
            "Epoch 189/200\n",
            "34/34 [==============================] - 0s 5ms/step - loss: 3689.5466 - mae: 3689.5466\n",
            "Epoch 190/200\n",
            "34/34 [==============================] - 0s 6ms/step - loss: 3689.1462 - mae: 3689.1462\n",
            "Epoch 191/200\n",
            "34/34 [==============================] - 0s 6ms/step - loss: 3709.1201 - mae: 3709.1201\n",
            "Epoch 192/200\n",
            "34/34 [==============================] - 0s 6ms/step - loss: 3691.7773 - mae: 3691.7773\n",
            "Epoch 193/200\n",
            "34/34 [==============================] - 0s 6ms/step - loss: 3680.9470 - mae: 3680.9470\n",
            "Epoch 194/200\n",
            "34/34 [==============================] - 0s 5ms/step - loss: 3682.7031 - mae: 3682.7031\n",
            "Epoch 195/200\n",
            "34/34 [==============================] - 0s 6ms/step - loss: 3679.9895 - mae: 3679.9895\n",
            "Epoch 196/200\n",
            "34/34 [==============================] - 0s 6ms/step - loss: 3685.8567 - mae: 3685.8567\n",
            "Epoch 197/200\n",
            "34/34 [==============================] - 0s 6ms/step - loss: 3672.3638 - mae: 3672.3638\n",
            "Epoch 198/200\n",
            "34/34 [==============================] - 0s 5ms/step - loss: 3678.7341 - mae: 3678.7341\n",
            "Epoch 199/200\n",
            "34/34 [==============================] - 0s 6ms/step - loss: 3686.9529 - mae: 3686.9529\n",
            "Epoch 200/200\n",
            "34/34 [==============================] - 0s 6ms/step - loss: 3671.6548 - mae: 3671.6548\n"
          ]
        }
      ],
      "source": [
        "# Set random seed\n",
        "tf.random.set_seed(42)\n",
        "\n",
        "# 1. Create the model\n",
        "insurance_model_3 = tf.keras.Sequential([\n",
        "    tf.keras.layers.Dense(100),\n",
        "    tf.keras.layers.Dense(10),\n",
        "    tf.keras.layers.Dense(1)\n",
        "])\n",
        "\n",
        "# 2. Compile the model\n",
        "insurance_model_3.compile(loss=tf.keras.losses.mae, optimizer=tf.keras.optimizers.Adam(), metrics=[\"mae\"])\n",
        "\n",
        "# 3. Fit the model\n",
        "history = insurance_model_3.fit(x_train_tensor, y_train, epochs=200)"
      ]
    },
    {
      "cell_type": "code",
      "execution_count": 101,
      "metadata": {},
      "outputs": [
        {
          "name": "stdout",
          "output_type": "stream",
          "text": [
            "9/9 [==============================] - 0s 5ms/step - loss: 3500.1536 - mae: 3500.1536\n"
          ]
        },
        {
          "data": {
            "text/plain": [
              "[3500.153564453125, 3500.153564453125]"
            ]
          },
          "execution_count": 101,
          "metadata": {},
          "output_type": "execute_result"
        }
      ],
      "source": [
        "insurance_model_3.evaluate(x_test_tensor, y_test)"
      ]
    },
    {
      "cell_type": "code",
      "execution_count": 102,
      "metadata": {},
      "outputs": [
        {
          "data": {
            "text/plain": [
              "Text(0.5, 0, 'epochs')"
            ]
          },
          "execution_count": 102,
          "metadata": {},
          "output_type": "execute_result"
        },
        {
          "data": {
            "image/png": "[encoded data removed]",
            "text/plain": [
              "<Figure size 640x480 with 1 Axes>"
            ]
          },
          "metadata": {},
          "output_type": "display_data"
        }
      ],
      "source": [
        "# Plot history\n",
        "pd.DataFrame(history.history).plot()\n",
        "plt.ylabel(\"loss\")\n",
        "plt.xlabel(\"epochs\")"
      ]
    },
    {
      "cell_type": "code",
      "execution_count": null,
      "metadata": {},
      "outputs": [],
      "source": []
    }
  ],
  "metadata": {
    "colab": {
      "provenance": []
    },
    "kernelspec": {
      "display_name": "Python 3",
      "name": "python3"
    },
    "language_info": {
      "codemirror_mode": {
        "name": "ipython",
        "version": 3
      },
      "file_extension": ".py",
      "mimetype": "text/x-python",
      "name": "python",
      "nbconvert_exporter": "python",
      "pygments_lexer": "ipython3",
      "version": "3.10.12"
    }
  },
  "nbformat": 4,
  "nbformat_minor": 0
}
