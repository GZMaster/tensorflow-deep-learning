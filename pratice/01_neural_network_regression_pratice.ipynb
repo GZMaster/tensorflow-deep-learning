{
  "cells": [
    {
      "attachments": {},
      "cell_type": "markdown",
      "metadata": {
        "id": "-2v6sz12PBnH"
      },
      "source": [
        "# INTRODUCTION TO REGRESSION WITH NEURAL NETWORKS IN TENSORFLOW"
      ]
    },
    {
      "cell_type": "code",
      "execution_count": 2,
      "metadata": {
        "colab": {
          "base_uri": "https://localhost:8080/"
        },
        "id": "8uLcqJnzPaq_",
        "outputId": "c27e78f7-21ba-4b70-92d7-d47b4fd97261"
      },
      "outputs": [
        {
          "name": "stdout",
          "output_type": "stream",
          "text": [
            "2.12.0\n"
          ]
        }
      ],
      "source": [
        "# Import TensorFlow\n",
        "import tensorflow as tf\n",
        "print(tf.__version__)"
      ]
    },
    {
      "attachments": {},
      "cell_type": "markdown",
      "metadata": {
        "id": "DjbW0-8XPlVS"
      },
      "source": [
        "## Creating data to view and fit"
      ]
    },
    {
      "cell_type": "code",
      "execution_count": 3,
      "metadata": {
        "colab": {
          "base_uri": "https://localhost:8080/",
          "height": 452
        },
        "id": "zb6r5iWxPve7",
        "outputId": "7b8cdf62-8534-4ae1-c2b9-ec06b6ec1aad"
      },
      "outputs": [
        {
          "data": {
            "text/plain": [
              "<matplotlib.collections.PathCollection at 0x7fe33b01e9e0>"
            ]
          },
          "execution_count": 3,
          "metadata": {},
          "output_type": "execute_result"
        },
        {
          "data": {
            "image/png": "[encoded data removed]",
            "text/plain": [
              "<Figure size 640x480 with 1 Axes>"
            ]
          },
          "metadata": {},
          "output_type": "display_data"
        }
      ],
      "source": [
        "import numpy as np\n",
        "import matplotlib.pyplot as plt\n",
        "\n",
        "# Create features\n",
        "x = np.array([-7.0, -4.0, -1.0, 2.0, 5.0, 8.0, 11.0, 14.0])\n",
        "\n",
        "# Create labels\n",
        "y = np.array([3.0, 6.0, 9.0, 12.0, 15.0, 18.0, 21.0, 24.0])\n",
        "\n",
        "# Visualize it\n",
        "plt.scatter(x, y)"
      ]
    },
    {
      "cell_type": "code",
      "execution_count": 4,
      "metadata": {
        "colab": {
          "base_uri": "https://localhost:8080/"
        },
        "id": "tF2YtHyjPuUP",
        "outputId": "77784d88-535f-4cca-d725-f47c44d5ce20"
      },
      "outputs": [
        {
          "data": {
            "text/plain": [
              "array([ True,  True,  True,  True,  True,  True,  True,  True])"
            ]
          },
          "execution_count": 4,
          "metadata": {},
          "output_type": "execute_result"
        }
      ],
      "source": [
        "y == x + 10"
      ]
    },
    {
      "attachments": {},
      "cell_type": "markdown",
      "metadata": {
        "id": "k16pFcIrQoY9"
      },
      "source": [
        "## Input and output shapes"
      ]
    },
    {
      "cell_type": "code",
      "execution_count": 5,
      "metadata": {
        "colab": {
          "base_uri": "https://localhost:8080/"
        },
        "id": "Gsxz_vqIQw6I",
        "outputId": "3d4a8f3f-93d3-4639-95dd-f1d3a3af3ead"
      },
      "outputs": [
        {
          "name": "stderr",
          "output_type": "stream",
          "text": [
            "2023-07-08 00:21:58.073011: I tensorflow/core/common_runtime/process_util.cc:146] Creating new thread pool with default inter op setting: 2. Tune using inter_op_parallelism_threads for best performance.\n"
          ]
        },
        {
          "data": {
            "text/plain": [
              "(<tf.Tensor: shape=(3,), dtype=string, numpy=array([b'bedroom', b'bathroom', b'garage'], dtype=object)>,\n",
              " <tf.Tensor: shape=(1,), dtype=int32, numpy=array([939700], dtype=int32)>)"
            ]
          },
          "execution_count": 5,
          "metadata": {},
          "output_type": "execute_result"
        }
      ],
      "source": [
        "# Create a demo tensor for our housing price prediction problem\n",
        "house_info = tf.constant([\"bedroom\", \"bathroom\", \"garage\"])\n",
        "house_price = tf.constant([939700])\n",
        "house_info, house_price"
      ]
    },
    {
      "cell_type": "code",
      "execution_count": 6,
      "metadata": {
        "colab": {
          "base_uri": "https://localhost:8080/"
        },
        "id": "BcMnSW9DRsIs",
        "outputId": "f875fb4a-da1d-4655-e91c-74c3cd7b1c62"
      },
      "outputs": [
        {
          "data": {
            "text/plain": [
              "(-7.0, 3.0)"
            ]
          },
          "execution_count": 6,
          "metadata": {},
          "output_type": "execute_result"
        }
      ],
      "source": [
        "x[0], y[0]"
      ]
    },
    {
      "cell_type": "code",
      "execution_count": 7,
      "metadata": {
        "colab": {
          "base_uri": "https://localhost:8080/"
        },
        "id": "1hWLRy_HRVo0",
        "outputId": "9f51ed6b-899e-473e-e17d-628360695ac8"
      },
      "outputs": [
        {
          "data": {
            "text/plain": [
              "((), ())"
            ]
          },
          "execution_count": 7,
          "metadata": {},
          "output_type": "execute_result"
        }
      ],
      "source": [
        "input_shape = x[0].shape\n",
        "output_shape = y[0].shape\n",
        "input_shape, output_shape"
      ]
    },
    {
      "cell_type": "code",
      "execution_count": 8,
      "metadata": {
        "colab": {
          "base_uri": "https://localhost:8080/"
        },
        "id": "fTbroJEHReBi",
        "outputId": "60fd7c7b-832c-4c28-d124-cdb58f542ce8"
      },
      "outputs": [
        {
          "data": {
            "text/plain": [
              "0"
            ]
          },
          "execution_count": 8,
          "metadata": {},
          "output_type": "execute_result"
        }
      ],
      "source": [
        "x[0].ndim"
      ]
    },
    {
      "cell_type": "code",
      "execution_count": 9,
      "metadata": {
        "colab": {
          "base_uri": "https://localhost:8080/"
        },
        "id": "pAiTx-QKR9Re",
        "outputId": "3385e8b0-1e8f-4860-a3e9-1e18fb0e0d2f"
      },
      "outputs": [
        {
          "data": {
            "text/plain": [
              "(-7.0, 3.0)"
            ]
          },
          "execution_count": 9,
          "metadata": {},
          "output_type": "execute_result"
        }
      ],
      "source": [
        "x[0], y[0]"
      ]
    },
    {
      "cell_type": "code",
      "execution_count": 10,
      "metadata": {
        "colab": {
          "base_uri": "https://localhost:8080/"
        },
        "id": "6LoDvmMuSAN_",
        "outputId": "cdeffd4b-18eb-4b2c-9ae5-1404cdb27b70"
      },
      "outputs": [
        {
          "data": {
            "text/plain": [
              "(<tf.Tensor: shape=(8,), dtype=float64, numpy=array([-7., -4., -1.,  2.,  5.,  8., 11., 14.])>,\n",
              " <tf.Tensor: shape=(8,), dtype=float64, numpy=array([ 3.,  6.,  9., 12., 15., 18., 21., 24.])>)"
            ]
          },
          "execution_count": 10,
          "metadata": {},
          "output_type": "execute_result"
        }
      ],
      "source": [
        "# Turn our NumPy Arayys into tensors\n",
        "x = tf.constant(x)\n",
        "y = tf.constant(y)\n",
        "x, y"
      ]
    },
    {
      "cell_type": "code",
      "execution_count": 11,
      "metadata": {
        "colab": {
          "base_uri": "https://localhost:8080/"
        },
        "id": "oDk0TvVuTmiu",
        "outputId": "1aa50728-76c2-4f9f-cc12-c9013ad3830b"
      },
      "outputs": [
        {
          "data": {
            "text/plain": [
              "(TensorShape([]), TensorShape([]))"
            ]
          },
          "execution_count": 11,
          "metadata": {},
          "output_type": "execute_result"
        }
      ],
      "source": [
        "input_shape = x[0].shape\n",
        "output_shape = y[0].shape\n",
        "input_shape, output_shape"
      ]
    },
    {
      "cell_type": "code",
      "execution_count": 12,
      "metadata": {
        "colab": {
          "base_uri": "https://localhost:8080/",
          "height": 452
        },
        "id": "adJxBSZZT5Vy",
        "outputId": "9d8885c5-19f1-4bdc-804c-bf8a9b851735"
      },
      "outputs": [
        {
          "data": {
            "text/plain": [
              "<matplotlib.collections.PathCollection at 0x7fe332f258d0>"
            ]
          },
          "execution_count": 12,
          "metadata": {},
          "output_type": "execute_result"
        },
        {
          "data": {
            "image/png": "[encoded data removed]",
            "text/plain": [
              "<Figure size 640x480 with 1 Axes>"
            ]
          },
          "metadata": {},
          "output_type": "display_data"
        }
      ],
      "source": [
        "plt.scatter(x, y)"
      ]
    },
    {
      "attachments": {},
      "cell_type": "markdown",
      "metadata": {
        "id": "XVLxC6GIUCLv"
      },
      "source": [
        "# Steps in modelling with TensorFlow\n",
        "\n",
        "1. Creating a model\n",
        "2. Compiling a model\n",
        "3. Fitting a model"
      ]
    },
    {
      "cell_type": "code",
      "execution_count": 13,
      "metadata": {
        "id": "dlscrAysUKDl"
      },
      "outputs": [
        {
          "name": "stdout",
          "output_type": "stream",
          "text": [
            "Epoch 1/5\n"
          ]
        },
        {
          "name": "stdout",
          "output_type": "stream",
          "text": [
            "1/1 [==============================] - 1s 982ms/step - loss: 16.9924 - mae: 16.9924\n",
            "Epoch 2/5\n",
            "1/1 [==============================] - 0s 20ms/step - loss: 16.7112 - mae: 16.7112\n",
            "Epoch 3/5\n",
            "1/1 [==============================] - 0s 10ms/step - loss: 16.4299 - mae: 16.4299\n",
            "Epoch 4/5\n",
            "1/1 [==============================] - 0s 23ms/step - loss: 16.1487 - mae: 16.1487\n",
            "Epoch 5/5\n",
            "1/1 [==============================] - 0s 29ms/step - loss: 15.8674 - mae: 15.8674\n"
          ]
        },
        {
          "data": {
            "text/plain": [
              "<keras.callbacks.History at 0x7fe330496980>"
            ]
          },
          "execution_count": 13,
          "metadata": {},
          "output_type": "execute_result"
        }
      ],
      "source": [
        "# Set random seed\n",
        "tf.random.set_seed(42)\n",
        "\n",
        "# Create a model using the sequential API\n",
        "model = tf.keras.Sequential([\n",
        "    tf.keras.layers.Dense(1)\n",
        "])\n",
        "\n",
        "# Compile the model\n",
        "model.compile(loss=tf.keras.losses.mae, optimizer=tf.keras.optimizers.SGD(), metrics=[\"mae\"])\n",
        "\n",
        "# Fit the model\n",
        "# model.fit(X, y, epochs=5) # this will break with TensorFlow 2.7.0+\n",
        "model.fit(tf.expand_dims(x, axis=-1), y, epochs=5)"
      ]
    },
    {
      "cell_type": "code",
      "execution_count": 14,
      "metadata": {},
      "outputs": [
        {
          "data": {
            "text/plain": [
              "(<tf.Tensor: shape=(8,), dtype=float64, numpy=array([-7., -4., -1.,  2.,  5.,  8., 11., 14.])>,\n",
              " <tf.Tensor: shape=(8,), dtype=float64, numpy=array([ 3.,  6.,  9., 12., 15., 18., 21., 24.])>)"
            ]
          },
          "execution_count": 14,
          "metadata": {},
          "output_type": "execute_result"
        }
      ],
      "source": [
        "# Check out x and y\n",
        "x, y"
      ]
    },
    {
      "cell_type": "code",
      "execution_count": 15,
      "metadata": {},
      "outputs": [
        {
          "name": "stdout",
          "output_type": "stream",
          "text": [
            "1/1 [==============================] - 0s 185ms/step\n"
          ]
        },
        {
          "data": {
            "text/plain": [
              "array([[-9.237384]], dtype=float32)"
            ]
          },
          "execution_count": 15,
          "metadata": {},
          "output_type": "execute_result"
        }
      ],
      "source": [
        "# Try and make a prediction using the model\n",
        "y_pred = model.predict([17.0])\n",
        "y_pred"
      ]
    },
    {
      "cell_type": "code",
      "execution_count": 16,
      "metadata": {},
      "outputs": [
        {
          "data": {
            "text/plain": [
              "array([[1.7626162]], dtype=float32)"
            ]
          },
          "execution_count": 16,
          "metadata": {},
          "output_type": "execute_result"
        }
      ],
      "source": [
        "y_pred + 11"
      ]
    },
    {
      "attachments": {},
      "cell_type": "markdown",
      "metadata": {},
      "source": [
        "## Imporving our Model\n",
        "\n",
        "1. **Creating a model** - define the input and output layers, as well as the hidden layers of a deep learning model.\n",
        "2. **Compiling a model** - define the loss function (in other words, the function which tells our model how wrong it is) and the optimizer (tells our model how to improve the patterns its learning) and evaluation metrics (what we can use to interpret the performance of our model).\n",
        "3. **Fitting a model** - letting the model try to find patterns between X & y (features and labels)."
      ]
    },
    {
      "cell_type": "code",
      "execution_count": 17,
      "metadata": {},
      "outputs": [
        {
          "name": "stdout",
          "output_type": "stream",
          "text": [
            "Epoch 1/100\n"
          ]
        },
        {
          "name": "stdout",
          "output_type": "stream",
          "text": [
            "1/1 [==============================] - 1s 905ms/step - loss: 12.9425 - mae: 12.9425\n",
            "Epoch 2/100\n",
            "1/1 [==============================] - 0s 15ms/step - loss: 12.8100 - mae: 12.8100\n",
            "Epoch 3/100\n",
            "1/1 [==============================] - 0s 85ms/step - loss: 12.6775 - mae: 12.6775\n",
            "Epoch 4/100\n",
            "1/1 [==============================] - 0s 41ms/step - loss: 12.5450 - mae: 12.5450\n",
            "Epoch 5/100\n",
            "1/1 [==============================] - 0s 84ms/step - loss: 12.4125 - mae: 12.4125\n",
            "Epoch 6/100\n",
            "1/1 [==============================] - 0s 60ms/step - loss: 12.2800 - mae: 12.2800\n",
            "Epoch 7/100\n",
            "1/1 [==============================] - 0s 58ms/step - loss: 12.1475 - mae: 12.1475\n",
            "Epoch 8/100\n",
            "1/1 [==============================] - 0s 84ms/step - loss: 12.0150 - mae: 12.0150\n",
            "Epoch 9/100\n",
            "1/1 [==============================] - 0s 59ms/step - loss: 11.8825 - mae: 11.8825\n",
            "Epoch 10/100\n",
            "1/1 [==============================] - 0s 70ms/step - loss: 11.7500 - mae: 11.7500\n",
            "Epoch 11/100\n",
            "1/1 [==============================] - 0s 61ms/step - loss: 11.6175 - mae: 11.6175\n",
            "Epoch 12/100\n",
            "1/1 [==============================] - 0s 111ms/step - loss: 11.4850 - mae: 11.4850\n",
            "Epoch 13/100\n",
            "1/1 [==============================] - 0s 53ms/step - loss: 11.3525 - mae: 11.3525\n",
            "Epoch 14/100\n",
            "1/1 [==============================] - 0s 61ms/step - loss: 11.2200 - mae: 11.2200\n",
            "Epoch 15/100\n",
            "1/1 [==============================] - 0s 40ms/step - loss: 11.0875 - mae: 11.0875\n",
            "Epoch 16/100\n",
            "1/1 [==============================] - 0s 44ms/step - loss: 10.9550 - mae: 10.9550\n",
            "Epoch 17/100\n",
            "1/1 [==============================] - 0s 70ms/step - loss: 10.8225 - mae: 10.8225\n",
            "Epoch 18/100\n",
            "1/1 [==============================] - 0s 67ms/step - loss: 10.6900 - mae: 10.6900\n",
            "Epoch 19/100\n",
            "1/1 [==============================] - 0s 84ms/step - loss: 10.5575 - mae: 10.5575\n",
            "Epoch 20/100\n",
            "1/1 [==============================] - 0s 54ms/step - loss: 10.4250 - mae: 10.4250\n",
            "Epoch 21/100\n",
            "1/1 [==============================] - 0s 117ms/step - loss: 10.2925 - mae: 10.2925\n",
            "Epoch 22/100\n",
            "1/1 [==============================] - 0s 57ms/step - loss: 10.1600 - mae: 10.1600\n",
            "Epoch 23/100\n",
            "1/1 [==============================] - 0s 56ms/step - loss: 10.0275 - mae: 10.0275\n",
            "Epoch 24/100\n",
            "1/1 [==============================] - 0s 54ms/step - loss: 9.8950 - mae: 9.8950\n",
            "Epoch 25/100\n",
            "1/1 [==============================] - 0s 33ms/step - loss: 9.7625 - mae: 9.7625\n",
            "Epoch 26/100\n",
            "1/1 [==============================] - 0s 53ms/step - loss: 9.6300 - mae: 9.6300\n",
            "Epoch 27/100\n",
            "1/1 [==============================] - 0s 92ms/step - loss: 9.4975 - mae: 9.4975\n",
            "Epoch 28/100\n",
            "1/1 [==============================] - 0s 36ms/step - loss: 9.3650 - mae: 9.3650\n",
            "Epoch 29/100\n",
            "1/1 [==============================] - 0s 46ms/step - loss: 9.2325 - mae: 9.2325\n",
            "Epoch 30/100\n",
            "1/1 [==============================] - 0s 70ms/step - loss: 9.1000 - mae: 9.1000\n",
            "Epoch 31/100\n",
            "1/1 [==============================] - 0s 22ms/step - loss: 8.9675 - mae: 8.9675\n",
            "Epoch 32/100\n",
            "1/1 [==============================] - 0s 23ms/step - loss: 8.8350 - mae: 8.8350\n",
            "Epoch 33/100\n",
            "1/1 [==============================] - 0s 34ms/step - loss: 8.7025 - mae: 8.7025\n",
            "Epoch 34/100\n",
            "1/1 [==============================] - 0s 38ms/step - loss: 8.5700 - mae: 8.5700\n",
            "Epoch 35/100\n",
            "1/1 [==============================] - 0s 82ms/step - loss: 8.4375 - mae: 8.4375\n",
            "Epoch 36/100\n",
            "1/1 [==============================] - 0s 53ms/step - loss: 8.3050 - mae: 8.3050\n",
            "Epoch 37/100\n",
            "1/1 [==============================] - 0s 50ms/step - loss: 8.1725 - mae: 8.1725\n",
            "Epoch 38/100\n",
            "1/1 [==============================] - 0s 70ms/step - loss: 8.0400 - mae: 8.0400\n",
            "Epoch 39/100\n",
            "1/1 [==============================] - 0s 121ms/step - loss: 7.9075 - mae: 7.9075\n",
            "Epoch 40/100\n",
            "1/1 [==============================] - 0s 45ms/step - loss: 7.7750 - mae: 7.7750\n",
            "Epoch 41/100\n",
            "1/1 [==============================] - 0s 45ms/step - loss: 7.6425 - mae: 7.6425\n",
            "Epoch 42/100\n",
            "1/1 [==============================] - 0s 50ms/step - loss: 7.5100 - mae: 7.5100\n",
            "Epoch 43/100\n",
            "1/1 [==============================] - 0s 54ms/step - loss: 7.3775 - mae: 7.3775\n",
            "Epoch 44/100\n",
            "1/1 [==============================] - 0s 36ms/step - loss: 7.2450 - mae: 7.2450\n",
            "Epoch 45/100\n",
            "1/1 [==============================] - 0s 81ms/step - loss: 7.1700 - mae: 7.1700\n",
            "Epoch 46/100\n",
            "1/1 [==============================] - 0s 73ms/step - loss: 7.1644 - mae: 7.1644\n",
            "Epoch 47/100\n",
            "1/1 [==============================] - 0s 47ms/step - loss: 7.1588 - mae: 7.1588\n",
            "Epoch 48/100\n",
            "1/1 [==============================] - 0s 58ms/step - loss: 7.1531 - mae: 7.1531\n",
            "Epoch 49/100\n",
            "1/1 [==============================] - 0s 55ms/step - loss: 7.1475 - mae: 7.1475\n",
            "Epoch 50/100\n",
            "1/1 [==============================] - 0s 75ms/step - loss: 7.1419 - mae: 7.1419\n",
            "Epoch 51/100\n",
            "1/1 [==============================] - 0s 50ms/step - loss: 7.1363 - mae: 7.1363\n",
            "Epoch 52/100\n",
            "1/1 [==============================] - 0s 24ms/step - loss: 7.1306 - mae: 7.1306\n",
            "Epoch 53/100\n",
            "1/1 [==============================] - 0s 30ms/step - loss: 7.1250 - mae: 7.1250\n",
            "Epoch 54/100\n",
            "1/1 [==============================] - 0s 42ms/step - loss: 7.1194 - mae: 7.1194\n",
            "Epoch 55/100\n",
            "1/1 [==============================] - 0s 80ms/step - loss: 7.1138 - mae: 7.1138\n",
            "Epoch 56/100\n",
            "1/1 [==============================] - 0s 40ms/step - loss: 7.1081 - mae: 7.1081\n",
            "Epoch 57/100\n",
            "1/1 [==============================] - 0s 81ms/step - loss: 7.1025 - mae: 7.1025\n",
            "Epoch 58/100\n",
            "1/1 [==============================] - 0s 44ms/step - loss: 7.0969 - mae: 7.0969\n",
            "Epoch 59/100\n",
            "1/1 [==============================] - 0s 69ms/step - loss: 7.0912 - mae: 7.0912\n",
            "Epoch 60/100\n",
            "1/1 [==============================] - 0s 74ms/step - loss: 7.0856 - mae: 7.0856\n",
            "Epoch 61/100\n",
            "1/1 [==============================] - 0s 38ms/step - loss: 7.0800 - mae: 7.0800\n",
            "Epoch 62/100\n",
            "1/1 [==============================] - 0s 83ms/step - loss: 7.0744 - mae: 7.0744\n",
            "Epoch 63/100\n",
            "1/1 [==============================] - 0s 35ms/step - loss: 7.0687 - mae: 7.0687\n",
            "Epoch 64/100\n",
            "1/1 [==============================] - 0s 56ms/step - loss: 7.0631 - mae: 7.0631\n",
            "Epoch 65/100\n",
            "1/1 [==============================] - 0s 65ms/step - loss: 7.0575 - mae: 7.0575\n",
            "Epoch 66/100\n",
            "1/1 [==============================] - 0s 103ms/step - loss: 7.0519 - mae: 7.0519\n",
            "Epoch 67/100\n",
            "1/1 [==============================] - 0s 39ms/step - loss: 7.0463 - mae: 7.0463\n",
            "Epoch 68/100\n",
            "1/1 [==============================] - 0s 25ms/step - loss: 7.0406 - mae: 7.0406\n",
            "Epoch 69/100\n",
            "1/1 [==============================] - 0s 35ms/step - loss: 7.0350 - mae: 7.0350\n",
            "Epoch 70/100\n",
            "1/1 [==============================] - 0s 39ms/step - loss: 7.0294 - mae: 7.0294\n",
            "Epoch 71/100\n",
            "1/1 [==============================] - 0s 47ms/step - loss: 7.0238 - mae: 7.0238\n",
            "Epoch 72/100\n",
            "1/1 [==============================] - 0s 56ms/step - loss: 7.0181 - mae: 7.0181\n",
            "Epoch 73/100\n",
            "1/1 [==============================] - 0s 44ms/step - loss: 7.0125 - mae: 7.0125\n",
            "Epoch 74/100\n",
            "1/1 [==============================] - 0s 51ms/step - loss: 7.0069 - mae: 7.0069\n",
            "Epoch 75/100\n",
            "1/1 [==============================] - 0s 75ms/step - loss: 7.0013 - mae: 7.0013\n",
            "Epoch 76/100\n",
            "1/1 [==============================] - 0s 49ms/step - loss: 6.9956 - mae: 6.9956\n",
            "Epoch 77/100\n",
            "1/1 [==============================] - 0s 61ms/step - loss: 6.9900 - mae: 6.9900\n",
            "Epoch 78/100\n",
            "1/1 [==============================] - 0s 76ms/step - loss: 6.9844 - mae: 6.9844\n",
            "Epoch 79/100\n",
            "1/1 [==============================] - 0s 57ms/step - loss: 6.9788 - mae: 6.9788\n",
            "Epoch 80/100\n",
            "1/1 [==============================] - 0s 67ms/step - loss: 6.9731 - mae: 6.9731\n",
            "Epoch 81/100\n",
            "1/1 [==============================] - 0s 56ms/step - loss: 6.9675 - mae: 6.9675\n",
            "Epoch 82/100\n",
            "1/1 [==============================] - 0s 52ms/step - loss: 6.9619 - mae: 6.9619\n",
            "Epoch 83/100\n",
            "1/1 [==============================] - 0s 89ms/step - loss: 6.9563 - mae: 6.9563\n",
            "Epoch 84/100\n",
            "1/1 [==============================] - 0s 31ms/step - loss: 6.9506 - mae: 6.9506\n",
            "Epoch 85/100\n",
            "1/1 [==============================] - 0s 57ms/step - loss: 6.9450 - mae: 6.9450\n",
            "Epoch 86/100\n",
            "1/1 [==============================] - 0s 37ms/step - loss: 6.9394 - mae: 6.9394\n",
            "Epoch 87/100\n",
            "1/1 [==============================] - 0s 50ms/step - loss: 6.9338 - mae: 6.9338\n",
            "Epoch 88/100\n",
            "1/1 [==============================] - 0s 38ms/step - loss: 6.9281 - mae: 6.9281\n",
            "Epoch 89/100\n",
            "1/1 [==============================] - 0s 91ms/step - loss: 6.9225 - mae: 6.9225\n",
            "Epoch 90/100\n",
            "1/1 [==============================] - 0s 51ms/step - loss: 6.9169 - mae: 6.9169\n",
            "Epoch 91/100\n",
            "1/1 [==============================] - 0s 79ms/step - loss: 6.9113 - mae: 6.9113\n",
            "Epoch 92/100\n",
            "1/1 [==============================] - 0s 97ms/step - loss: 6.9056 - mae: 6.9056\n",
            "Epoch 93/100\n",
            "1/1 [==============================] - 0s 74ms/step - loss: 6.9000 - mae: 6.9000\n",
            "Epoch 94/100\n",
            "1/1 [==============================] - 0s 19ms/step - loss: 6.8944 - mae: 6.8944\n",
            "Epoch 95/100\n",
            "1/1 [==============================] - 0s 25ms/step - loss: 6.8888 - mae: 6.8888\n",
            "Epoch 96/100\n",
            "1/1 [==============================] - 0s 26ms/step - loss: 6.8831 - mae: 6.8831\n",
            "Epoch 97/100\n",
            "1/1 [==============================] - 0s 40ms/step - loss: 6.8775 - mae: 6.8775\n",
            "Epoch 98/100\n",
            "1/1 [==============================] - 0s 35ms/step - loss: 6.8719 - mae: 6.8719\n",
            "Epoch 99/100\n",
            "1/1 [==============================] - 0s 52ms/step - loss: 6.8663 - mae: 6.8663\n",
            "Epoch 100/100\n",
            "1/1 [==============================] - 0s 69ms/step - loss: 6.8606 - mae: 6.8606\n"
          ]
        },
        {
          "data": {
            "text/plain": [
              "<keras.callbacks.History at 0x7fe33029f8e0>"
            ]
          },
          "execution_count": 17,
          "metadata": {},
          "output_type": "execute_result"
        }
      ],
      "source": [
        "# let's rebuild our model\n",
        "\n",
        "# 1. Create the model\n",
        "model = tf.keras.Sequential([\n",
        "    tf.keras.layers.Dense(1)\n",
        "])\n",
        "\n",
        "# 2. Compile the model\n",
        "model.compile(loss=tf.keras.losses.mae, optimizer=tf.keras.optimizers.SGD(), metrics=['mae'])\n",
        "\n",
        "# 3. Fit the model (this time we train for longer)\n",
        "model.fit(tf.expand_dims(x, axis=1), y, epochs=100)"
      ]
    },
    {
      "cell_type": "code",
      "execution_count": 18,
      "metadata": {},
      "outputs": [
        {
          "data": {
            "text/plain": [
              "(<tf.Tensor: shape=(8,), dtype=float64, numpy=array([-7., -4., -1.,  2.,  5.,  8., 11., 14.])>,\n",
              " <tf.Tensor: shape=(8,), dtype=float64, numpy=array([ 3.,  6.,  9., 12., 15., 18., 21., 24.])>)"
            ]
          },
          "execution_count": 18,
          "metadata": {},
          "output_type": "execute_result"
        }
      ],
      "source": [
        "# Remind ourselves of the data\n",
        "x, y"
      ]
    },
    {
      "cell_type": "code",
      "execution_count": 19,
      "metadata": {},
      "outputs": [
        {
          "name": "stdout",
          "output_type": "stream",
          "text": [
            "1/1 [==============================] - 0s 221ms/step\n"
          ]
        },
        {
          "data": {
            "text/plain": [
              "array([[29.74808]], dtype=float32)"
            ]
          },
          "execution_count": 19,
          "metadata": {},
          "output_type": "execute_result"
        }
      ],
      "source": [
        "model.predict([17.0])"
      ]
    },
    {
      "cell_type": "code",
      "execution_count": 20,
      "metadata": {},
      "outputs": [
        {
          "name": "stdout",
          "output_type": "stream",
          "text": [
            "Epoch 1/100\n"
          ]
        },
        {
          "name": "stdout",
          "output_type": "stream",
          "text": [
            "1/1 [==============================] - 2s 2s/step - loss: 13.1402 - mae: 13.1402\n",
            "Epoch 2/100\n",
            "1/1 [==============================] - 0s 23ms/step - loss: 12.3837 - mae: 12.3837\n",
            "Epoch 3/100\n",
            "1/1 [==============================] - 0s 64ms/step - loss: 11.6226 - mae: 11.6226\n",
            "Epoch 4/100\n",
            "1/1 [==============================] - 0s 49ms/step - loss: 10.8520 - mae: 10.8520\n",
            "Epoch 5/100\n",
            "1/1 [==============================] - 0s 25ms/step - loss: 10.0706 - mae: 10.0706\n",
            "Epoch 6/100\n",
            "1/1 [==============================] - 0s 50ms/step - loss: 9.3246 - mae: 9.3246\n",
            "Epoch 7/100\n",
            "1/1 [==============================] - 0s 80ms/step - loss: 8.6511 - mae: 8.6511\n",
            "Epoch 8/100\n",
            "1/1 [==============================] - 0s 109ms/step - loss: 7.9611 - mae: 7.9611\n",
            "Epoch 9/100\n",
            "1/1 [==============================] - 0s 46ms/step - loss: 7.2534 - mae: 7.2534\n",
            "Epoch 10/100\n",
            "1/1 [==============================] - 0s 41ms/step - loss: 6.5270 - mae: 6.5270\n",
            "Epoch 11/100\n",
            "1/1 [==============================] - 0s 42ms/step - loss: 5.7808 - mae: 5.7808\n",
            "Epoch 12/100\n",
            "1/1 [==============================] - 0s 43ms/step - loss: 5.0134 - mae: 5.0134\n",
            "Epoch 13/100\n",
            "1/1 [==============================] - 0s 50ms/step - loss: 4.2239 - mae: 4.2239\n",
            "Epoch 14/100\n",
            "1/1 [==============================] - 0s 42ms/step - loss: 3.8328 - mae: 3.8328\n",
            "Epoch 15/100\n",
            "1/1 [==============================] - 0s 52ms/step - loss: 3.8485 - mae: 3.8485\n",
            "Epoch 16/100\n",
            "1/1 [==============================] - 0s 84ms/step - loss: 3.9932 - mae: 3.9932\n",
            "Epoch 17/100\n",
            "1/1 [==============================] - 0s 74ms/step - loss: 4.2289 - mae: 4.2289\n",
            "Epoch 18/100\n",
            "1/1 [==============================] - 0s 117ms/step - loss: 4.4961 - mae: 4.4961\n",
            "Epoch 19/100\n",
            "1/1 [==============================] - 0s 49ms/step - loss: 4.6739 - mae: 4.6739\n",
            "Epoch 20/100\n",
            "1/1 [==============================] - 0s 66ms/step - loss: 4.7716 - mae: 4.7716\n",
            "Epoch 21/100\n",
            "1/1 [==============================] - 0s 39ms/step - loss: 4.7989 - mae: 4.7989\n",
            "Epoch 22/100\n",
            "1/1 [==============================] - 0s 94ms/step - loss: 4.7645 - mae: 4.7645\n",
            "Epoch 23/100\n",
            "1/1 [==============================] - 0s 67ms/step - loss: 4.6768 - mae: 4.6768\n",
            "Epoch 24/100\n",
            "1/1 [==============================] - 0s 146ms/step - loss: 4.5436 - mae: 4.5436\n",
            "Epoch 25/100\n",
            "1/1 [==============================] - 0s 58ms/step - loss: 4.3716 - mae: 4.3716\n",
            "Epoch 26/100\n",
            "1/1 [==============================] - 0s 100ms/step - loss: 4.1666 - mae: 4.1666\n",
            "Epoch 27/100\n",
            "1/1 [==============================] - 0s 57ms/step - loss: 3.9344 - mae: 3.9344\n",
            "Epoch 28/100\n",
            "1/1 [==============================] - 0s 50ms/step - loss: 3.8059 - mae: 3.8059\n",
            "Epoch 29/100\n",
            "1/1 [==============================] - 0s 112ms/step - loss: 3.7084 - mae: 3.7084\n",
            "Epoch 30/100\n",
            "1/1 [==============================] - 0s 115ms/step - loss: 3.6132 - mae: 3.6132\n",
            "Epoch 31/100\n",
            "1/1 [==============================] - 0s 52ms/step - loss: 3.5185 - mae: 3.5185\n",
            "Epoch 32/100\n",
            "1/1 [==============================] - 0s 45ms/step - loss: 3.5357 - mae: 3.5357\n",
            "Epoch 33/100\n",
            "1/1 [==============================] - 0s 70ms/step - loss: 3.5916 - mae: 3.5916\n",
            "Epoch 34/100\n",
            "1/1 [==============================] - 0s 60ms/step - loss: 3.6249 - mae: 3.6249\n",
            "Epoch 35/100\n",
            "1/1 [==============================] - 0s 106ms/step - loss: 3.6382 - mae: 3.6382\n",
            "Epoch 36/100\n",
            "1/1 [==============================] - 0s 127ms/step - loss: 3.6409 - mae: 3.6409\n",
            "Epoch 37/100\n",
            "1/1 [==============================] - 0s 53ms/step - loss: 3.5887 - mae: 3.5887\n",
            "Epoch 38/100\n",
            "1/1 [==============================] - 0s 40ms/step - loss: 3.5305 - mae: 3.5305\n",
            "Epoch 39/100\n",
            "1/1 [==============================] - 0s 50ms/step - loss: 3.4587 - mae: 3.4587\n",
            "Epoch 40/100\n",
            "1/1 [==============================] - 0s 50ms/step - loss: 3.3734 - mae: 3.3734\n",
            "Epoch 41/100\n",
            "1/1 [==============================] - 0s 53ms/step - loss: 3.3250 - mae: 3.3250\n",
            "Epoch 42/100\n",
            "1/1 [==============================] - 0s 54ms/step - loss: 3.2252 - mae: 3.2252\n",
            "Epoch 43/100\n",
            "1/1 [==============================] - 0s 45ms/step - loss: 3.1936 - mae: 3.1936\n",
            "Epoch 44/100\n",
            "1/1 [==============================] - 0s 55ms/step - loss: 3.1694 - mae: 3.1694\n",
            "Epoch 45/100\n",
            "1/1 [==============================] - 0s 40ms/step - loss: 3.1751 - mae: 3.1751\n",
            "Epoch 46/100\n",
            "1/1 [==============================] - 0s 87ms/step - loss: 3.1701 - mae: 3.1701\n",
            "Epoch 47/100\n",
            "1/1 [==============================] - 0s 56ms/step - loss: 3.1527 - mae: 3.1527\n",
            "Epoch 48/100\n",
            "1/1 [==============================] - 0s 57ms/step - loss: 3.1230 - mae: 3.1230\n",
            "Epoch 49/100\n",
            "1/1 [==============================] - 0s 97ms/step - loss: 3.0820 - mae: 3.0820\n",
            "Epoch 50/100\n",
            "1/1 [==============================] - 0s 48ms/step - loss: 3.0308 - mae: 3.0308\n",
            "Epoch 51/100\n",
            "1/1 [==============================] - 0s 42ms/step - loss: 2.9702 - mae: 2.9702\n",
            "Epoch 52/100\n",
            "1/1 [==============================] - 0s 36ms/step - loss: 2.9031 - mae: 2.9031\n",
            "Epoch 53/100\n",
            "1/1 [==============================] - 0s 67ms/step - loss: 2.8300 - mae: 2.8300\n",
            "Epoch 54/100\n",
            "1/1 [==============================] - 0s 80ms/step - loss: 2.7589 - mae: 2.7589\n",
            "Epoch 55/100\n",
            "1/1 [==============================] - 0s 51ms/step - loss: 2.6890 - mae: 2.6890\n",
            "Epoch 56/100\n",
            "1/1 [==============================] - 0s 134ms/step - loss: 2.6764 - mae: 2.6764\n",
            "Epoch 57/100\n",
            "1/1 [==============================] - 0s 89ms/step - loss: 2.6429 - mae: 2.6429\n",
            "Epoch 58/100\n",
            "1/1 [==============================] - 0s 97ms/step - loss: 2.5792 - mae: 2.5792\n",
            "Epoch 59/100\n",
            "1/1 [==============================] - 0s 95ms/step - loss: 2.4844 - mae: 2.4844\n",
            "Epoch 60/100\n",
            "1/1 [==============================] - 0s 153ms/step - loss: 2.4221 - mae: 2.4221\n",
            "Epoch 61/100\n",
            "1/1 [==============================] - 0s 46ms/step - loss: 2.3824 - mae: 2.3824\n",
            "Epoch 62/100\n",
            "1/1 [==============================] - 0s 40ms/step - loss: 2.3315 - mae: 2.3315\n",
            "Epoch 63/100\n",
            "1/1 [==============================] - 0s 68ms/step - loss: 2.2691 - mae: 2.2691\n",
            "Epoch 64/100\n",
            "1/1 [==============================] - 0s 64ms/step - loss: 2.2269 - mae: 2.2269\n",
            "Epoch 65/100\n",
            "1/1 [==============================] - 0s 30ms/step - loss: 2.1203 - mae: 2.1203\n",
            "Epoch 66/100\n",
            "1/1 [==============================] - 0s 70ms/step - loss: 2.0296 - mae: 2.0296\n",
            "Epoch 67/100\n",
            "1/1 [==============================] - 0s 109ms/step - loss: 2.0075 - mae: 2.0075\n",
            "Epoch 68/100\n",
            "1/1 [==============================] - 0s 47ms/step - loss: 1.9665 - mae: 1.9665\n",
            "Epoch 69/100\n",
            "1/1 [==============================] - 0s 54ms/step - loss: 1.8923 - mae: 1.8923\n",
            "Epoch 70/100\n",
            "1/1 [==============================] - 0s 67ms/step - loss: 1.7872 - mae: 1.7872\n",
            "Epoch 71/100\n",
            "1/1 [==============================] - 0s 77ms/step - loss: 1.6841 - mae: 1.6841\n",
            "Epoch 72/100\n",
            "1/1 [==============================] - 0s 66ms/step - loss: 1.6228 - mae: 1.6228\n",
            "Epoch 73/100\n",
            "1/1 [==============================] - 0s 89ms/step - loss: 1.5483 - mae: 1.5483\n",
            "Epoch 74/100\n",
            "1/1 [==============================] - 0s 35ms/step - loss: 1.4601 - mae: 1.4601\n",
            "Epoch 75/100\n",
            "1/1 [==============================] - 0s 48ms/step - loss: 1.3594 - mae: 1.3594\n",
            "Epoch 76/100\n",
            "1/1 [==============================] - 0s 24ms/step - loss: 1.2471 - mae: 1.2471\n",
            "Epoch 77/100\n",
            "1/1 [==============================] - 0s 65ms/step - loss: 1.1215 - mae: 1.1215\n",
            "Epoch 78/100\n",
            "1/1 [==============================] - 0s 40ms/step - loss: 1.0113 - mae: 1.0113\n",
            "Epoch 79/100\n",
            "1/1 [==============================] - 0s 103ms/step - loss: 0.9139 - mae: 0.9139\n",
            "Epoch 80/100\n",
            "1/1 [==============================] - 0s 67ms/step - loss: 0.8165 - mae: 0.8165\n",
            "Epoch 81/100\n",
            "1/1 [==============================] - 0s 90ms/step - loss: 0.7048 - mae: 0.7048\n",
            "Epoch 82/100\n",
            "1/1 [==============================] - 0s 58ms/step - loss: 0.5776 - mae: 0.5776\n",
            "Epoch 83/100\n",
            "1/1 [==============================] - 0s 92ms/step - loss: 0.4318 - mae: 0.4318\n",
            "Epoch 84/100\n",
            "1/1 [==============================] - 0s 27ms/step - loss: 0.3155 - mae: 0.3155\n",
            "Epoch 85/100\n",
            "1/1 [==============================] - 0s 61ms/step - loss: 0.2118 - mae: 0.2118\n",
            "Epoch 86/100\n",
            "1/1 [==============================] - 0s 29ms/step - loss: 0.2846 - mae: 0.2846\n",
            "Epoch 87/100\n",
            "1/1 [==============================] - 0s 85ms/step - loss: 0.2136 - mae: 0.2136\n",
            "Epoch 88/100\n",
            "1/1 [==============================] - 0s 69ms/step - loss: 0.3361 - mae: 0.3361\n",
            "Epoch 89/100\n",
            "1/1 [==============================] - 0s 51ms/step - loss: 0.3890 - mae: 0.3890\n",
            "Epoch 90/100\n",
            "1/1 [==============================] - 0s 56ms/step - loss: 0.3777 - mae: 0.3777\n",
            "Epoch 91/100\n",
            "1/1 [==============================] - 0s 52ms/step - loss: 0.4233 - mae: 0.4233\n",
            "Epoch 92/100\n",
            "1/1 [==============================] - 0s 78ms/step - loss: 0.3549 - mae: 0.3549\n",
            "Epoch 93/100\n",
            "1/1 [==============================] - 0s 82ms/step - loss: 0.3757 - mae: 0.3757\n",
            "Epoch 94/100\n",
            "1/1 [==============================] - 0s 81ms/step - loss: 0.3447 - mae: 0.3447\n",
            "Epoch 95/100\n",
            "1/1 [==============================] - 0s 77ms/step - loss: 0.4001 - mae: 0.4001\n",
            "Epoch 96/100\n",
            "1/1 [==============================] - 0s 99ms/step - loss: 0.3559 - mae: 0.3559\n",
            "Epoch 97/100\n",
            "1/1 [==============================] - 0s 65ms/step - loss: 0.3128 - mae: 0.3128\n",
            "Epoch 98/100\n",
            "1/1 [==============================] - 0s 46ms/step - loss: 0.3223 - mae: 0.3223\n",
            "Epoch 99/100\n",
            "1/1 [==============================] - 0s 70ms/step - loss: 0.2438 - mae: 0.2438\n",
            "Epoch 100/100\n",
            "1/1 [==============================] - 0s 26ms/step - loss: 0.2197 - mae: 0.2197\n"
          ]
        },
        {
          "data": {
            "text/plain": [
              "<keras.callbacks.History at 0x7fe33036ee30>"
            ]
          },
          "execution_count": 20,
          "metadata": {},
          "output_type": "execute_result"
        }
      ],
      "source": [
        "model = tf.keras.Sequential([\n",
        "    tf.keras.layers.Dense(50, activation=\"relu\"),\n",
        "    # tf.keras.layers.Dense(100, activation=\"relu\"),\n",
        "    # tf.keras.layers.Dense(100, activation=\"relu\"),\n",
        "    tf.keras.layers.Dense(1)\n",
        "])\n",
        "\n",
        "model.compile(loss=tf.keras.losses.mae, optimizer=tf.keras.optimizers.Adam(learning_rate=0.01), metrics=[\"mae\"])\n",
        "\n",
        "model.fit(tf.expand_dims(x, axis=1), y, epochs=100)"
      ]
    },
    {
      "cell_type": "code",
      "execution_count": 21,
      "metadata": {},
      "outputs": [
        {
          "data": {
            "text/plain": [
              "(<tf.Tensor: shape=(8,), dtype=float64, numpy=array([-7., -4., -1.,  2.,  5.,  8., 11., 14.])>,\n",
              " <tf.Tensor: shape=(8,), dtype=float64, numpy=array([ 3.,  6.,  9., 12., 15., 18., 21., 24.])>)"
            ]
          },
          "execution_count": 21,
          "metadata": {},
          "output_type": "execute_result"
        }
      ],
      "source": [
        "# let's remind ourselves of the data\n",
        "x, y"
      ]
    },
    {
      "cell_type": "code",
      "execution_count": 22,
      "metadata": {},
      "outputs": [
        {
          "name": "stdout",
          "output_type": "stream",
          "text": [
            "1/1 [==============================] - 0s 223ms/step\n"
          ]
        },
        {
          "data": {
            "text/plain": [
              "array([[27.232462]], dtype=float32)"
            ]
          },
          "execution_count": 22,
          "metadata": {},
          "output_type": "execute_result"
        }
      ],
      "source": [
        "model.predict([17.0])"
      ]
    },
    {
      "attachments": {},
      "cell_type": "markdown",
      "metadata": {},
      "source": [
        "# Evaluating a Modal"
      ]
    },
    {
      "cell_type": "code",
      "execution_count": 23,
      "metadata": {},
      "outputs": [
        {
          "data": {
            "text/plain": [
              "<tf.Tensor: shape=(50,), dtype=int32, numpy=\n",
              "array([-100,  -96,  -92,  -88,  -84,  -80,  -76,  -72,  -68,  -64,  -60,\n",
              "        -56,  -52,  -48,  -44,  -40,  -36,  -32,  -28,  -24,  -20,  -16,\n",
              "        -12,   -8,   -4,    0,    4,    8,   12,   16,   20,   24,   28,\n",
              "         32,   36,   40,   44,   48,   52,   56,   60,   64,   68,   72,\n",
              "         76,   80,   84,   88,   92,   96], dtype=int32)>"
            ]
          },
          "execution_count": 23,
          "metadata": {},
          "output_type": "execute_result"
        }
      ],
      "source": [
        "# Make a bigger dataset\n",
        "x = tf.range(-100, 100, 4)\n",
        "x\n"
      ]
    },
    {
      "cell_type": "code",
      "execution_count": 24,
      "metadata": {},
      "outputs": [
        {
          "data": {
            "text/plain": [
              "<tf.Tensor: shape=(50,), dtype=int32, numpy=\n",
              "array([-90, -86, -82, -78, -74, -70, -66, -62, -58, -54, -50, -46, -42,\n",
              "       -38, -34, -30, -26, -22, -18, -14, -10,  -6,  -2,   2,   6,  10,\n",
              "        14,  18,  22,  26,  30,  34,  38,  42,  46,  50,  54,  58,  62,\n",
              "        66,  70,  74,  78,  82,  86,  90,  94,  98, 102, 106], dtype=int32)>"
            ]
          },
          "execution_count": 24,
          "metadata": {},
          "output_type": "execute_result"
        }
      ],
      "source": [
        "y = x + 10\n",
        "y"
      ]
    },
    {
      "cell_type": "code",
      "execution_count": 25,
      "metadata": {},
      "outputs": [
        {
          "data": {
            "text/plain": [
              "<matplotlib.collections.PathCollection at 0x7fe320f1fbe0>"
            ]
          },
          "execution_count": 25,
          "metadata": {},
          "output_type": "execute_result"
        },
        {
          "data": {
            "image/png": "[encoded data removed]",
            "text/plain": [
              "<Figure size 640x480 with 1 Axes>"
            ]
          },
          "metadata": {},
          "output_type": "display_data"
        }
      ],
      "source": [
        "# visualize the data\n",
        "import matplotlib.pyplot as plt\n",
        "plt.scatter(x, y)"
      ]
    },
    {
      "attachments": {},
      "cell_type": "markdown",
      "metadata": {},
      "source": [
        "### The 3 sets...\n",
        "* Training set - the model learns from this data, which is typically 70-80% of the total data you have available.\n",
        "* Validation set - the model gets tuned on this data, which is typically 10-15% of the data available.\n",
        "* Test set - the model gets evaluated on this data to test what it has learned, this set is typically 10-15% of the total data available."
      ]
    },
    {
      "cell_type": "code",
      "execution_count": 26,
      "metadata": {},
      "outputs": [
        {
          "data": {
            "text/plain": [
              "50"
            ]
          },
          "execution_count": 26,
          "metadata": {},
          "output_type": "execute_result"
        }
      ],
      "source": [
        "# Check the length of how many samples we have\n",
        "len(x)"
      ]
    },
    {
      "cell_type": "code",
      "execution_count": 27,
      "metadata": {},
      "outputs": [
        {
          "data": {
            "text/plain": [
              "(40, 10, 40, 10)"
            ]
          },
          "execution_count": 27,
          "metadata": {},
          "output_type": "execute_result"
        }
      ],
      "source": [
        "# Split the data into train and test sets\n",
        "x_train = x[:40] # first 40 are training samples (80% of the data)\n",
        "x_test = x[40:] # last 10 are testing samples (20% of the data)\n",
        "\n",
        "y_train = y[:40] # first 40 are training samples (80% of the data)\n",
        "y_test = y[40:] # last 10 are testing samples (20% of the data)\n",
        "\n",
        "len(x_train), len(x_test), len(y_train), len(y_test)"
      ]
    },
    {
      "attachments": {},
      "cell_type": "markdown",
      "metadata": {},
      "source": [
        "### Visualizing the data ###"
      ]
    },
    {
      "cell_type": "code",
      "execution_count": 28,
      "metadata": {},
      "outputs": [
        {
          "data": {
            "text/plain": [
              "<matplotlib.legend.Legend at 0x7fe320fd88b0>"
            ]
          },
          "execution_count": 28,
          "metadata": {},
          "output_type": "execute_result"
        },
        {
          "data": {
            "image/png": "[encoded data removed]",
            "text/plain": [
              "<Figure size 1000x700 with 1 Axes>"
            ]
          },
          "metadata": {},
          "output_type": "display_data"
        }
      ],
      "source": [
        "plt.figure(figsize=(10, 7))\n",
        "# Plot training data in blue\n",
        "plt.scatter(x_train, y_train, c=\"b\", label=\"Training data\")\n",
        "# Plot test data in green\n",
        "plt.scatter(x_test, y_test, c=\"g\", label=\"Testing data\")\n",
        "# show a legend\n",
        "plt.legend()"
      ]
    },
    {
      "cell_type": "code",
      "execution_count": 29,
      "metadata": {},
      "outputs": [],
      "source": [
        "# Lets have a look at how to build a neural network for our data\n",
        "\n",
        "# 1. Create a model\n",
        "model = tf.keras.Sequential([\n",
        "    tf.keras.layers.Dense(1)\n",
        "])\n",
        "\n",
        "# 2. Compile the model\n",
        "model.compile(loss=tf.keras.losses.mae, optimizer=tf.keras.optimizers.SGD(), metrics=[\"mae\"])\n",
        "\n",
        "# # 3. Fit the model\n",
        "# model.fit(x_train, y_train, epochs=100)"
      ]
    },
    {
      "attachments": {},
      "cell_type": "markdown",
      "metadata": {},
      "source": [
        "# Visualizing the data"
      ]
    },
    {
      "cell_type": "code",
      "execution_count": 30,
      "metadata": {},
      "outputs": [],
      "source": [
        "# Let's create a model which builds automatically by defining the input_shape argument in the first layer\n",
        "tf.random.set_seed(42)\n",
        "\n",
        "# Create a model (same as above)\n",
        "model = tf.keras.Sequential([\n",
        "    tf.keras.layers.Dense(10, input_shape=[1], name=\"input_layer\"),\n",
        "    tf.keras.layers.Dense(1, name=\"output_layer\")\n",
        "], name=\"modal_1\")\n",
        "\n",
        "# Compile the model\n",
        "model.compile(loss=tf.keras.losses.mae, optimizer=tf.keras.optimizers.SGD(), metrics=[\"mae\"])\n",
        "\n"
      ]
    },
    {
      "cell_type": "code",
      "execution_count": 31,
      "metadata": {},
      "outputs": [
        {
          "name": "stdout",
          "output_type": "stream",
          "text": [
            "Model: \"modal_1\"\n",
            "_________________________________________________________________\n",
            " Layer (type)                Output Shape              Param #   \n",
            "=================================================================\n",
            " input_layer (Dense)         (None, 10)                20        \n",
            "                                                                 \n",
            " output_layer (Dense)        (None, 1)                 11        \n",
            "                                                                 \n",
            "=================================================================\n",
            "Total params: 31\n",
            "Trainable params: 31\n",
            "Non-trainable params: 0\n",
            "_________________________________________________________________\n"
          ]
        }
      ],
      "source": [
        "model.summary()"
      ]
    },
    {
      "cell_type": "code",
      "execution_count": 32,
      "metadata": {},
      "outputs": [
        {
          "name": "stdout",
          "output_type": "stream",
          "text": [
            "Epoch 1/100\n"
          ]
        },
        {
          "name": "stdout",
          "output_type": "stream",
          "text": [
            "2/2 [==============================] - 1s 48ms/step - loss: 29.0428 - mae: 29.0428\n",
            "Epoch 2/100\n",
            "2/2 [==============================] - 0s 39ms/step - loss: 25.5066 - mae: 25.5066\n",
            "Epoch 3/100\n",
            "2/2 [==============================] - 0s 45ms/step - loss: 30.0249 - mae: 30.0249\n",
            "Epoch 4/100\n",
            "2/2 [==============================] - 0s 104ms/step - loss: 12.9452 - mae: 12.9452\n",
            "Epoch 5/100\n",
            "2/2 [==============================] - 0s 42ms/step - loss: 16.5009 - mae: 16.5009\n",
            "Epoch 6/100\n",
            "2/2 [==============================] - 0s 19ms/step - loss: 11.2218 - mae: 11.2218\n",
            "Epoch 7/100\n",
            "2/2 [==============================] - 0s 43ms/step - loss: 12.2656 - mae: 12.2656\n",
            "Epoch 8/100\n",
            "2/2 [==============================] - 0s 19ms/step - loss: 10.9599 - mae: 10.9599\n",
            "Epoch 9/100\n",
            "2/2 [==============================] - 0s 44ms/step - loss: 38.5938 - mae: 38.5938\n",
            "Epoch 10/100\n",
            "2/2 [==============================] - 0s 71ms/step - loss: 26.0888 - mae: 26.0888\n",
            "Epoch 11/100\n",
            "2/2 [==============================] - 0s 19ms/step - loss: 9.3903 - mae: 9.3903\n",
            "Epoch 12/100\n",
            "2/2 [==============================] - 0s 30ms/step - loss: 26.3601 - mae: 26.3601\n",
            "Epoch 13/100\n",
            "2/2 [==============================] - 0s 25ms/step - loss: 14.4269 - mae: 14.4269\n",
            "Epoch 14/100\n",
            "2/2 [==============================] - 0s 32ms/step - loss: 29.8001 - mae: 29.8001\n",
            "Epoch 15/100\n",
            "2/2 [==============================] - 0s 75ms/step - loss: 19.6690 - mae: 19.6690\n",
            "Epoch 16/100\n",
            "2/2 [==============================] - 0s 27ms/step - loss: 9.8239 - mae: 9.8239\n",
            "Epoch 17/100\n",
            "2/2 [==============================] - 0s 33ms/step - loss: 17.6141 - mae: 17.6141\n",
            "Epoch 18/100\n",
            "2/2 [==============================] - 0s 12ms/step - loss: 14.0907 - mae: 14.0907\n",
            "Epoch 19/100\n",
            "2/2 [==============================] - 0s 11ms/step - loss: 13.9281 - mae: 13.9281\n",
            "Epoch 20/100\n",
            "2/2 [==============================] - 0s 21ms/step - loss: 11.1928 - mae: 11.1928\n",
            "Epoch 21/100\n",
            "2/2 [==============================] - 0s 41ms/step - loss: 17.2452 - mae: 17.2452\n",
            "Epoch 22/100\n",
            "2/2 [==============================] - 0s 26ms/step - loss: 15.4814 - mae: 15.4814\n",
            "Epoch 23/100\n",
            "2/2 [==============================] - 0s 23ms/step - loss: 9.2392 - mae: 9.2392\n",
            "Epoch 24/100\n",
            "2/2 [==============================] - 0s 19ms/step - loss: 17.2774 - mae: 17.2774\n",
            "Epoch 25/100\n",
            "2/2 [==============================] - 0s 19ms/step - loss: 15.9469 - mae: 15.9469\n",
            "Epoch 26/100\n",
            "2/2 [==============================] - 0s 17ms/step - loss: 20.9535 - mae: 20.9535\n",
            "Epoch 27/100\n",
            "2/2 [==============================] - 0s 25ms/step - loss: 25.9123 - mae: 25.9123\n",
            "Epoch 28/100\n",
            "2/2 [==============================] - 0s 12ms/step - loss: 18.4162 - mae: 18.4162\n",
            "Epoch 29/100\n",
            "2/2 [==============================] - 0s 36ms/step - loss: 9.2391 - mae: 9.2391\n",
            "Epoch 30/100\n",
            "2/2 [==============================] - 0s 77ms/step - loss: 29.0290 - mae: 29.0290\n",
            "Epoch 31/100\n",
            "2/2 [==============================] - 0s 22ms/step - loss: 52.5702 - mae: 52.5702\n",
            "Epoch 32/100\n",
            "2/2 [==============================] - 0s 40ms/step - loss: 11.9013 - mae: 11.9013\n",
            "Epoch 33/100\n",
            "2/2 [==============================] - 0s 23ms/step - loss: 15.4792 - mae: 15.4792\n",
            "Epoch 34/100\n",
            "2/2 [==============================] - 0s 26ms/step - loss: 12.5821 - mae: 12.5821\n",
            "Epoch 35/100\n",
            "2/2 [==============================] - 0s 33ms/step - loss: 9.1886 - mae: 9.1886\n",
            "Epoch 36/100\n",
            "2/2 [==============================] - 0s 20ms/step - loss: 16.4540 - mae: 16.4540\n",
            "Epoch 37/100\n",
            "2/2 [==============================] - 0s 25ms/step - loss: 11.0897 - mae: 11.0897\n",
            "Epoch 38/100\n",
            "2/2 [==============================] - 0s 102ms/step - loss: 18.2203 - mae: 18.2203\n",
            "Epoch 39/100\n",
            "2/2 [==============================] - 0s 86ms/step - loss: 19.1517 - mae: 19.1517\n",
            "Epoch 40/100\n",
            "2/2 [==============================] - 0s 59ms/step - loss: 20.5256 - mae: 20.5256\n",
            "Epoch 41/100\n",
            "2/2 [==============================] - 0s 87ms/step - loss: 14.7886 - mae: 14.7886\n",
            "Epoch 42/100\n",
            "2/2 [==============================] - 0s 15ms/step - loss: 12.1882 - mae: 12.1882\n",
            "Epoch 43/100\n",
            "2/2 [==============================] - 0s 63ms/step - loss: 10.6871 - mae: 10.6871\n",
            "Epoch 44/100\n",
            "2/2 [==============================] - 0s 48ms/step - loss: 32.2314 - mae: 32.2314\n",
            "Epoch 45/100\n",
            "2/2 [==============================] - 0s 26ms/step - loss: 12.4551 - mae: 12.4551\n",
            "Epoch 46/100\n",
            "2/2 [==============================] - 0s 46ms/step - loss: 17.4859 - mae: 17.4859\n",
            "Epoch 47/100\n",
            "2/2 [==============================] - 0s 67ms/step - loss: 15.7659 - mae: 15.7659\n",
            "Epoch 48/100\n",
            "2/2 [==============================] - 0s 26ms/step - loss: 8.3802 - mae: 8.3802\n",
            "Epoch 49/100\n",
            "2/2 [==============================] - 0s 25ms/step - loss: 13.9938 - mae: 13.9938\n",
            "Epoch 50/100\n",
            "2/2 [==============================] - 0s 28ms/step - loss: 12.8351 - mae: 12.8351\n",
            "Epoch 51/100\n",
            "2/2 [==============================] - 0s 46ms/step - loss: 14.8428 - mae: 14.8428\n",
            "Epoch 52/100\n",
            "2/2 [==============================] - 0s 45ms/step - loss: 18.7270 - mae: 18.7270\n",
            "Epoch 53/100\n",
            "2/2 [==============================] - 0s 41ms/step - loss: 24.1847 - mae: 24.1847\n",
            "Epoch 54/100\n",
            "2/2 [==============================] - 0s 22ms/step - loss: 23.1416 - mae: 23.1416\n",
            "Epoch 55/100\n",
            "2/2 [==============================] - 0s 42ms/step - loss: 23.9866 - mae: 23.9866\n",
            "Epoch 56/100\n",
            "2/2 [==============================] - 0s 23ms/step - loss: 11.1429 - mae: 11.1429\n",
            "Epoch 57/100\n",
            "2/2 [==============================] - 0s 83ms/step - loss: 13.0918 - mae: 13.0918\n",
            "Epoch 58/100\n",
            "2/2 [==============================] - 0s 25ms/step - loss: 9.7956 - mae: 9.7956\n",
            "Epoch 59/100\n",
            "2/2 [==============================] - 0s 55ms/step - loss: 13.2760 - mae: 13.2760\n",
            "Epoch 60/100\n",
            "2/2 [==============================] - 0s 17ms/step - loss: 10.8514 - mae: 10.8514\n",
            "Epoch 61/100\n",
            "2/2 [==============================] - 0s 19ms/step - loss: 13.4458 - mae: 13.4458\n",
            "Epoch 62/100\n",
            "2/2 [==============================] - 0s 15ms/step - loss: 17.4525 - mae: 17.4525\n",
            "Epoch 63/100\n",
            "2/2 [==============================] - 0s 19ms/step - loss: 9.1463 - mae: 9.1463\n",
            "Epoch 64/100\n",
            "2/2 [==============================] - 0s 36ms/step - loss: 18.3236 - mae: 18.3236\n",
            "Epoch 65/100\n",
            "2/2 [==============================] - 0s 18ms/step - loss: 10.1013 - mae: 10.1013\n",
            "Epoch 66/100\n",
            "2/2 [==============================] - 0s 24ms/step - loss: 24.1729 - mae: 24.1729\n",
            "Epoch 67/100\n",
            "2/2 [==============================] - 0s 13ms/step - loss: 10.8606 - mae: 10.8606\n",
            "Epoch 68/100\n",
            "2/2 [==============================] - 0s 30ms/step - loss: 10.7493 - mae: 10.7493\n",
            "Epoch 69/100\n",
            "2/2 [==============================] - 0s 39ms/step - loss: 23.1496 - mae: 23.1496\n",
            "Epoch 70/100\n",
            "2/2 [==============================] - 0s 30ms/step - loss: 8.8302 - mae: 8.8302\n",
            "Epoch 71/100\n",
            "2/2 [==============================] - 0s 38ms/step - loss: 16.0513 - mae: 16.0513\n",
            "Epoch 72/100\n",
            "2/2 [==============================] - 0s 23ms/step - loss: 7.7463 - mae: 7.7463\n",
            "Epoch 73/100\n",
            "2/2 [==============================] - 0s 22ms/step - loss: 10.1548 - mae: 10.1548\n",
            "Epoch 74/100\n",
            "2/2 [==============================] - 0s 20ms/step - loss: 28.3294 - mae: 28.3294\n",
            "Epoch 75/100\n",
            "2/2 [==============================] - 0s 33ms/step - loss: 10.0092 - mae: 10.0092\n",
            "Epoch 76/100\n",
            "2/2 [==============================] - 0s 39ms/step - loss: 12.9251 - mae: 12.9251\n",
            "Epoch 77/100\n",
            "2/2 [==============================] - 0s 66ms/step - loss: 17.8958 - mae: 17.8958\n",
            "Epoch 78/100\n",
            "2/2 [==============================] - 0s 21ms/step - loss: 8.9605 - mae: 8.9605\n",
            "Epoch 79/100\n",
            "2/2 [==============================] - 0s 46ms/step - loss: 28.7254 - mae: 28.7254\n",
            "Epoch 80/100\n",
            "2/2 [==============================] - 0s 51ms/step - loss: 31.0635 - mae: 31.0635\n",
            "Epoch 81/100\n",
            "2/2 [==============================] - 0s 101ms/step - loss: 13.4173 - mae: 13.4173\n",
            "Epoch 82/100\n",
            "2/2 [==============================] - 0s 94ms/step - loss: 14.3214 - mae: 14.3214\n",
            "Epoch 83/100\n",
            "2/2 [==============================] - 0s 40ms/step - loss: 18.8567 - mae: 18.8567\n",
            "Epoch 84/100\n",
            "2/2 [==============================] - 0s 37ms/step - loss: 9.4576 - mae: 9.4576\n",
            "Epoch 85/100\n",
            "2/2 [==============================] - 0s 38ms/step - loss: 25.2533 - mae: 25.2533\n",
            "Epoch 86/100\n",
            "2/2 [==============================] - 0s 37ms/step - loss: 16.4207 - mae: 16.4207\n",
            "Epoch 87/100\n",
            "2/2 [==============================] - 0s 36ms/step - loss: 11.4635 - mae: 11.4635\n",
            "Epoch 88/100\n",
            "2/2 [==============================] - 0s 23ms/step - loss: 27.0217 - mae: 27.0217\n",
            "Epoch 89/100\n",
            "2/2 [==============================] - 0s 20ms/step - loss: 9.7353 - mae: 9.7353\n",
            "Epoch 90/100\n",
            "2/2 [==============================] - 0s 20ms/step - loss: 19.0651 - mae: 19.0651\n",
            "Epoch 91/100\n",
            "2/2 [==============================] - 0s 31ms/step - loss: 10.5915 - mae: 10.5915\n",
            "Epoch 92/100\n",
            "2/2 [==============================] - 0s 24ms/step - loss: 18.2777 - mae: 18.2777\n",
            "Epoch 93/100\n",
            "2/2 [==============================] - 0s 26ms/step - loss: 6.8583 - mae: 6.8583\n",
            "Epoch 94/100\n",
            "2/2 [==============================] - 0s 22ms/step - loss: 13.0576 - mae: 13.0576\n",
            "Epoch 95/100\n",
            "2/2 [==============================] - 0s 9ms/step - loss: 18.4222 - mae: 18.4222\n",
            "Epoch 96/100\n",
            "2/2 [==============================] - 0s 18ms/step - loss: 10.3979 - mae: 10.3979\n",
            "Epoch 97/100\n",
            "2/2 [==============================] - 0s 32ms/step - loss: 14.1648 - mae: 14.1648\n",
            "Epoch 98/100\n",
            "2/2 [==============================] - 0s 12ms/step - loss: 9.6373 - mae: 9.6373\n",
            "Epoch 99/100\n",
            "2/2 [==============================] - 0s 18ms/step - loss: 11.3324 - mae: 11.3324\n",
            "Epoch 100/100\n",
            "2/2 [==============================] - 0s 28ms/step - loss: 29.2662 - mae: 29.2662\n"
          ]
        },
        {
          "data": {
            "text/plain": [
              "<keras.callbacks.History at 0x7fe320b32fb0>"
            ]
          },
          "execution_count": 32,
          "metadata": {},
          "output_type": "execute_result"
        }
      ],
      "source": [
        "# fit the model\n",
        "model.fit(x_train, y_train, epochs=100, verbose=1)"
      ]
    },
    {
      "cell_type": "code",
      "execution_count": 33,
      "metadata": {},
      "outputs": [
        {
          "name": "stdout",
          "output_type": "stream",
          "text": [
            "Model: \"modal_1\"\n",
            "_________________________________________________________________\n",
            " Layer (type)                Output Shape              Param #   \n",
            "=================================================================\n",
            " input_layer (Dense)         (None, 10)                20        \n",
            "                                                                 \n",
            " output_layer (Dense)        (None, 1)                 11        \n",
            "                                                                 \n",
            "=================================================================\n",
            "Total params: 31\n",
            "Trainable params: 31\n",
            "Non-trainable params: 0\n",
            "_________________________________________________________________\n"
          ]
        }
      ],
      "source": [
        "# get a summary of our model\n",
        "model.summary()"
      ]
    },
    {
      "cell_type": "code",
      "execution_count": 38,
      "metadata": {},
      "outputs": [],
      "source": [
        "# from tensorflow.keras.utils import plot_model\n",
        "\n",
        "# plot_model(model=model, show_shapes=True)\n"
      ]
    },
    {
      "cell_type": "markdown",
      "metadata": {},
      "source": [
        "### Visualizing our modals predictions"
      ]
    },
    {
      "cell_type": "code",
      "execution_count": 39,
      "metadata": {},
      "outputs": [
        {
          "name": "stdout",
          "output_type": "stream",
          "text": [
            "1/1 [==============================] - 0s 130ms/step\n"
          ]
        },
        {
          "data": {
            "text/plain": [
              "array([[ 76.94327],\n",
              "       [ 81.96003],\n",
              "       [ 86.9768 ],\n",
              "       [ 91.99356],\n",
              "       [ 97.01033],\n",
              "       [102.02711],\n",
              "       [107.04387],\n",
              "       [112.06063],\n",
              "       [117.07739],\n",
              "       [122.09416]], dtype=float32)"
            ]
          },
          "execution_count": 39,
          "metadata": {},
          "output_type": "execute_result"
        }
      ],
      "source": [
        "# Make some predictions\n",
        "y_pred = model.predict(x_test)\n",
        "y_pred"
      ]
    },
    {
      "cell_type": "code",
      "execution_count": 40,
      "metadata": {},
      "outputs": [
        {
          "data": {
            "text/plain": [
              "<tf.Tensor: shape=(10,), dtype=int32, numpy=array([ 70,  74,  78,  82,  86,  90,  94,  98, 102, 106], dtype=int32)>"
            ]
          },
          "execution_count": 40,
          "metadata": {},
          "output_type": "execute_result"
        }
      ],
      "source": [
        "y_test"
      ]
    },
    {
      "cell_type": "code",
      "execution_count": 41,
      "metadata": {},
      "outputs": [],
      "source": [
        "# lets create a plotting function\n",
        "def plot_predictions(train_data=x_train,\n",
        "                     train_labels=y_train,\n",
        "                     test_data=x_test,\n",
        "                     test_labels=y_test,\n",
        "                     predictions=y_pred):\n",
        "    \"\"\"_summary_\n",
        "    Plots training data, test data and compares predictions to ground truth\n",
        "\n",
        "    Args:\n",
        "        train_data (_type_, optional): _description_. Defaults to x_train.\n",
        "        train_labels (_type_, optional): _description_. Defaults to y_train.\n",
        "        test_data (_type_, optional): _description_. Defaults to x_test.\n",
        "        test_labels (_type_, optional): _description_. Defaults to y_test.\n",
        "        predictions (_type_, optional): _description_. Defaults to y_pred.\n",
        "    \"\"\"\n",
        "    \n",
        "    plt.figure(figsize=(10, 7))\n",
        "    # Plot training data in blue\n",
        "    plt.scatter(train_data, train_labels, c=\"b\", label=\"Training Data\")\n",
        "    # Plot testing data in green\n",
        "    plt.scatter(test_data, test_labels, c=\"g\", label=\"Testing Data\")\n",
        "    # Plot model's predictions in red\n",
        "    plt.scatter(test_data, predictions, c=\"r\", label=\"Predictions\")\n",
        "    # show the legend\n",
        "    plt.legend()"
      ]
    },
    {
      "cell_type": "code",
      "execution_count": 42,
      "metadata": {},
      "outputs": [
        {
          "data": {
            "image/png": "[encoded data removed]",
            "text/plain": [
              "<Figure size 1000x700 with 1 Axes>"
            ]
          },
          "metadata": {},
          "output_type": "display_data"
        }
      ],
      "source": [
        "plot_predictions(train_data=x_train, \n",
        "                 train_labels=y_train, \n",
        "                 test_data=x_test, \n",
        "                 test_labels=y_test, \n",
        "                 predictions=y_pred)"
      ]
    },
    {
      "cell_type": "code",
      "execution_count": null,
      "metadata": {},
      "outputs": [],
      "source": []
    }
  ],
  "metadata": {
    "colab": {
      "provenance": []
    },
    "kernelspec": {
      "display_name": "Python 3",
      "name": "python3"
    },
    "language_info": {
      "codemirror_mode": {
        "name": "ipython",
        "version": 3
      },
      "file_extension": ".py",
      "mimetype": "text/x-python",
      "name": "python",
      "nbconvert_exporter": "python",
      "pygments_lexer": "ipython3",
      "version": "3.10.12"
    }
  },
  "nbformat": 4,
  "nbformat_minor": 0
}
